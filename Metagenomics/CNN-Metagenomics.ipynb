{
 "cells": [
  {
   "cell_type": "code",
   "execution_count": 82,
   "metadata": {},
   "outputs": [],
   "source": [
    "import pandas as pd\n",
    "import requests\n",
    "import io\n",
    "import numpy as np  \n",
    "from datetime import date, timedelta\n",
    "import re\n",
    "import matplotlib.pyplot as plt\n",
    "import matplotlib\n",
    "import seaborn as sns\n",
    "\n",
    "import torch\n",
    "import torch.nn as nn\n",
    "# Import tensor dataset & data loader\n",
    "from torch.utils.data import TensorDataset, DataLoader\n",
    "# Import nn.functional\n",
    "import torch.nn.functional as F\n",
    "import torch.optim as optim\n",
    "from typing import Union, Tuple\n",
    "import os\n",
    "import sys\n",
    "import time\n",
    "from collections import OrderedDict\n",
    "from sklearn.preprocessing import MinMaxScaler\n",
    "from statistics import mean\n",
    "from sklearn.metrics import mean_absolute_error,mean_squared_error\n",
    "import math\n",
    "matplotlib.style.use('seaborn')\n",
    "%matplotlib inline"
   ]
  },
  {
   "cell_type": "code",
   "execution_count": 95,
   "metadata": {},
   "outputs": [],
   "source": [
    "df = pd.read_csv(\"output_G.txt\")"
   ]
  },
  {
   "cell_type": "code",
   "execution_count": 96,
   "metadata": {},
   "outputs": [
    {
     "data": {
      "text/plain": [
       "Index(['seq_id', 'AAAAA', 'AAAAC', 'AAAAG', 'AAAAT', 'AAACA', 'AAACC', 'AAACG',\n",
       "       'AAACT', 'AAAGA',\n",
       "       ...\n",
       "       'TTTCT', 'TTTGA', 'TTTGC', 'TTTGG', 'TTTGT', 'TTTTA', 'TTTTC', 'TTTTG',\n",
       "       'TTTTT', 'Taxa_label'],\n",
       "      dtype='object', length=1026)"
      ]
     },
     "execution_count": 96,
     "metadata": {},
     "output_type": "execute_result"
    }
   ],
   "source": [
    "df.columns"
   ]
  },
  {
   "cell_type": "code",
   "execution_count": 97,
   "metadata": {},
   "outputs": [
    {
     "data": {
      "text/html": [
       "<div>\n",
       "<style scoped>\n",
       "    .dataframe tbody tr th:only-of-type {\n",
       "        vertical-align: middle;\n",
       "    }\n",
       "\n",
       "    .dataframe tbody tr th {\n",
       "        vertical-align: top;\n",
       "    }\n",
       "\n",
       "    .dataframe thead th {\n",
       "        text-align: right;\n",
       "    }\n",
       "</style>\n",
       "<table border=\"1\" class=\"dataframe\">\n",
       "  <thead>\n",
       "    <tr style=\"text-align: right;\">\n",
       "      <th></th>\n",
       "      <th>seq_id</th>\n",
       "      <th>AAAAA</th>\n",
       "      <th>AAAAC</th>\n",
       "      <th>AAAAG</th>\n",
       "      <th>AAAAT</th>\n",
       "      <th>AAACA</th>\n",
       "      <th>AAACC</th>\n",
       "      <th>AAACG</th>\n",
       "      <th>AAACT</th>\n",
       "      <th>AAAGA</th>\n",
       "      <th>...</th>\n",
       "      <th>TTTCT</th>\n",
       "      <th>TTTGA</th>\n",
       "      <th>TTTGC</th>\n",
       "      <th>TTTGG</th>\n",
       "      <th>TTTGT</th>\n",
       "      <th>TTTTA</th>\n",
       "      <th>TTTTC</th>\n",
       "      <th>TTTTG</th>\n",
       "      <th>TTTTT</th>\n",
       "      <th>Taxa_label</th>\n",
       "    </tr>\n",
       "  </thead>\n",
       "  <tbody>\n",
       "    <tr>\n",
       "      <th>0</th>\n",
       "      <td>S003747738</td>\n",
       "      <td>0</td>\n",
       "      <td>0</td>\n",
       "      <td>0</td>\n",
       "      <td>0</td>\n",
       "      <td>0</td>\n",
       "      <td>1</td>\n",
       "      <td>0</td>\n",
       "      <td>0</td>\n",
       "      <td>1</td>\n",
       "      <td>...</td>\n",
       "      <td>0</td>\n",
       "      <td>0</td>\n",
       "      <td>0</td>\n",
       "      <td>0</td>\n",
       "      <td>0</td>\n",
       "      <td>0</td>\n",
       "      <td>0</td>\n",
       "      <td>0</td>\n",
       "      <td>0</td>\n",
       "      <td>Rhodobaca</td>\n",
       "    </tr>\n",
       "    <tr>\n",
       "      <th>1</th>\n",
       "      <td>S003747738</td>\n",
       "      <td>1</td>\n",
       "      <td>2</td>\n",
       "      <td>0</td>\n",
       "      <td>1</td>\n",
       "      <td>1</td>\n",
       "      <td>1</td>\n",
       "      <td>0</td>\n",
       "      <td>1</td>\n",
       "      <td>0</td>\n",
       "      <td>...</td>\n",
       "      <td>0</td>\n",
       "      <td>0</td>\n",
       "      <td>0</td>\n",
       "      <td>0</td>\n",
       "      <td>0</td>\n",
       "      <td>0</td>\n",
       "      <td>0</td>\n",
       "      <td>0</td>\n",
       "      <td>0</td>\n",
       "      <td>Rhodobaca</td>\n",
       "    </tr>\n",
       "    <tr>\n",
       "      <th>2</th>\n",
       "      <td>S003747738</td>\n",
       "      <td>0</td>\n",
       "      <td>0</td>\n",
       "      <td>0</td>\n",
       "      <td>1</td>\n",
       "      <td>0</td>\n",
       "      <td>1</td>\n",
       "      <td>0</td>\n",
       "      <td>0</td>\n",
       "      <td>1</td>\n",
       "      <td>...</td>\n",
       "      <td>0</td>\n",
       "      <td>0</td>\n",
       "      <td>0</td>\n",
       "      <td>0</td>\n",
       "      <td>0</td>\n",
       "      <td>0</td>\n",
       "      <td>0</td>\n",
       "      <td>0</td>\n",
       "      <td>0</td>\n",
       "      <td>Rhodobaca</td>\n",
       "    </tr>\n",
       "    <tr>\n",
       "      <th>3</th>\n",
       "      <td>S003747738</td>\n",
       "      <td>0</td>\n",
       "      <td>0</td>\n",
       "      <td>0</td>\n",
       "      <td>1</td>\n",
       "      <td>0</td>\n",
       "      <td>1</td>\n",
       "      <td>0</td>\n",
       "      <td>1</td>\n",
       "      <td>0</td>\n",
       "      <td>...</td>\n",
       "      <td>0</td>\n",
       "      <td>0</td>\n",
       "      <td>0</td>\n",
       "      <td>0</td>\n",
       "      <td>0</td>\n",
       "      <td>0</td>\n",
       "      <td>0</td>\n",
       "      <td>0</td>\n",
       "      <td>0</td>\n",
       "      <td>Rhodobaca</td>\n",
       "    </tr>\n",
       "    <tr>\n",
       "      <th>4</th>\n",
       "      <td>S003747738</td>\n",
       "      <td>0</td>\n",
       "      <td>0</td>\n",
       "      <td>1</td>\n",
       "      <td>0</td>\n",
       "      <td>0</td>\n",
       "      <td>1</td>\n",
       "      <td>0</td>\n",
       "      <td>0</td>\n",
       "      <td>1</td>\n",
       "      <td>...</td>\n",
       "      <td>0</td>\n",
       "      <td>0</td>\n",
       "      <td>0</td>\n",
       "      <td>0</td>\n",
       "      <td>0</td>\n",
       "      <td>0</td>\n",
       "      <td>1</td>\n",
       "      <td>0</td>\n",
       "      <td>1</td>\n",
       "      <td>Rhodobaca</td>\n",
       "    </tr>\n",
       "  </tbody>\n",
       "</table>\n",
       "<p>5 rows × 1026 columns</p>\n",
       "</div>"
      ],
      "text/plain": [
       "       seq_id  AAAAA  AAAAC  AAAAG  AAAAT  AAACA  AAACC  AAACG  AAACT  AAAGA  \\\n",
       "0  S003747738      0      0      0      0      0      1      0      0      1   \n",
       "1  S003747738      1      2      0      1      1      1      0      1      0   \n",
       "2  S003747738      0      0      0      1      0      1      0      0      1   \n",
       "3  S003747738      0      0      0      1      0      1      0      1      0   \n",
       "4  S003747738      0      0      1      0      0      1      0      0      1   \n",
       "\n",
       "   ...  TTTCT  TTTGA  TTTGC  TTTGG  TTTGT  TTTTA  TTTTC  TTTTG  TTTTT  \\\n",
       "0  ...      0      0      0      0      0      0      0      0      0   \n",
       "1  ...      0      0      0      0      0      0      0      0      0   \n",
       "2  ...      0      0      0      0      0      0      0      0      0   \n",
       "3  ...      0      0      0      0      0      0      0      0      0   \n",
       "4  ...      0      0      0      0      0      0      1      0      1   \n",
       "\n",
       "   Taxa_label  \n",
       "0   Rhodobaca  \n",
       "1   Rhodobaca  \n",
       "2   Rhodobaca  \n",
       "3   Rhodobaca  \n",
       "4   Rhodobaca  \n",
       "\n",
       "[5 rows x 1026 columns]"
      ]
     },
     "execution_count": 97,
     "metadata": {},
     "output_type": "execute_result"
    }
   ],
   "source": [
    "df.head()"
   ]
  },
  {
   "cell_type": "code",
   "execution_count": 98,
   "metadata": {},
   "outputs": [],
   "source": [
    "y=np.array(df['Taxa_label'].astype('category').cat.codes)\n",
    "df=df.drop(columns=['seq_id','Taxa_label'])"
   ]
  },
  {
   "cell_type": "code",
   "execution_count": 99,
   "metadata": {},
   "outputs": [],
   "source": [
    "X=np.array(df.copy(), dtype=float)"
   ]
  },
  {
   "cell_type": "code",
   "execution_count": 127,
   "metadata": {},
   "outputs": [],
   "source": [
    "X_train, X_val, Y_train, Y_val= train_test_split(X, y, test_size=0.25, random_state=1,stratify=y)"
   ]
  },
  {
   "cell_type": "code",
   "execution_count": 128,
   "metadata": {},
   "outputs": [],
   "source": [
    "inputs = torch.from_numpy(X_train.astype(np.float32))\n",
    "targets = torch.from_numpy(Y_train.astype(np.float32))\n",
    "targets = targets.long()\n",
    "# Define dataset\n",
    "train_ds = TensorDataset(inputs, targets)\n",
    "\n",
    "batch_size = 256\n",
    "train_loader = DataLoader(train_ds, batch_size=batch_size, shuffle=True)"
   ]
  },
  {
   "cell_type": "code",
   "execution_count": 129,
   "metadata": {},
   "outputs": [],
   "source": [
    "inputs = torch.from_numpy(X_val.astype(np.float32))\n",
    "targets = torch.from_numpy(Y_val.astype(np.float32))\n",
    "# Define dataset\n",
    "targets = targets.long()\n",
    "test_ds = TensorDataset(inputs, targets)\n",
    "test_loader = DataLoader(test_ds, batch_size=batch_size, shuffle=False)"
   ]
  },
  {
   "cell_type": "code",
   "execution_count": 130,
   "metadata": {},
   "outputs": [
    {
     "data": {
      "text/plain": [
       "torch.Size([7000])"
      ]
     },
     "execution_count": 130,
     "metadata": {},
     "output_type": "execute_result"
    }
   ],
   "source": [
    "targets.shape"
   ]
  },
  {
   "cell_type": "code",
   "execution_count": 131,
   "metadata": {},
   "outputs": [],
   "source": [
    "def train(\n",
    "    model: nn.Module, \n",
    "    optimizer: optim.Optimizer, \n",
    "    scheduler: optim.Optimizer,\n",
    "    data: Union[DataLoader, Tuple[DataLoader]], \n",
    "    max_epochs: int, \n",
    "    cuda=True):\n",
    "  \n",
    "  use_test = False\n",
    "  if isinstance(data, DataLoader):\n",
    "    train_loader = data\n",
    "  elif isinstance(data, tuple):\n",
    "    if len(data) == 2:\n",
    "      train_loader, test_loader = data\n",
    "      if not isinstance(train_loader, DataLoader):\n",
    "        raise TypeError(f'Expected 1st entry of type DataLoader, but got {type(train_loader)}!')\n",
    "      if not isinstance(test_loader, DataLoader):\n",
    "        raise TypeError(f'Expected 2nd entry of type DataLoader, but got {type(test_loader)}!')\n",
    "      use_test = True\n",
    "    else:\n",
    "      raise ValueError(f'Expected tuple of length 2, but got {len(data)}!')\n",
    "  \n",
    "  \n",
    "  criterion = nn.CrossEntropyLoss()\n",
    "  model.train()\n",
    "  losses = []\n",
    "  test_losses=[]\n",
    "  batch_total = len(train_loader)\n",
    "  train_acc=[]\n",
    "  test_acc=[]\n",
    "  best_model=None\n",
    "  min_loss=np.iinfo(0).max\n",
    "  for epoch in range(max_epochs):\n",
    "    samples_total = 0\n",
    "    samples_correct = 0\n",
    "    #scheduler.step()\n",
    "    batch_loss=[]\n",
    "    for batch_idx, batch in enumerate(train_loader):\n",
    "      x, y = batch\n",
    "      if cuda:\n",
    "        x, y = x.cuda(), y.cuda()\n",
    "      optimizer.zero_grad()\n",
    "      output = model(x)\n",
    "      loss = criterion(output, y)\n",
    "      loss.backward()\n",
    "      optimizer.step()\n",
    "      \n",
    "      yhat = torch.argmax(output, dim=1)\n",
    "\n",
    "      samples_total += len(y)\n",
    "      samples_correct += torch.sum(yhat == y)\n",
    "      batch_loss.append(loss.item())\n",
    "\n",
    "\n",
    "    acc = float(samples_correct) / float(samples_total)\n",
    "    train_acc.append(acc)\n",
    "    tsamples_total = 0\n",
    "    tsamples_correct = 0\n",
    "    test_epoch_loss=[]\n",
    "    if use_test:\n",
    "      model.eval()\n",
    "\n",
    "      for test_x, test_y in test_loader:\n",
    "        if cuda:\n",
    "          test_x, test_y = test_x.cuda(), test_y.cuda()\n",
    "        test_output = model(test_x)\n",
    "        test_loss = criterion(test_output, test_y)\n",
    "        test_epoch_loss.append(test_loss.item())\n",
    "        test_yhat = torch.argmax(test_output, dim=1)\n",
    "        tsamples_total += len(test_y)\n",
    "        tsamples_correct += torch.sum(test_yhat == test_y)\n",
    "\n",
    "\n",
    "      tacc = float(tsamples_correct) / float(tsamples_total)\n",
    "      test_acc.append(tacc)\n",
    "      if mean(test_epoch_loss)<min_loss:\n",
    "            min_loss = mean(test_epoch_loss)\n",
    "            best_model= model.state_dict()\n",
    "      model.train()\n",
    "      sys.stdout.write(f'\\rEpoch: {epoch}/{max_epochs}  Loss: {mean(batch_loss):.6f} Acc: {acc:.2%} Test loss: {mean(test_epoch_loss):.6f} Test acc: {tacc:.2%}')\n",
    "    else:\n",
    "      sys.stdout.write(f'\\rEpoch: {epoch}/{max_epochs}  Loss: {mean(batch_loss):.6f} Acc: {acc:.2%}')\n",
    "    losses.append(mean(batch_loss))\n",
    "    test_losses.append(mean(test_epoch_loss))\n",
    "  return losses,test_losses, train_acc,test_acc, best_model"
   ]
  },
  {
   "cell_type": "code",
   "execution_count": 139,
   "metadata": {},
   "outputs": [],
   "source": [
    "class Flatten(nn.Module):\n",
    "    def forward(self, x):\n",
    "        x = x.view(x.size()[0], -1)\n",
    "        return x\n",
    "class CNNModel(nn.Module):\n",
    "  def __init__(self):\n",
    "    super(CNNModel, self).__init__()\n",
    "  \n",
    "    \n",
    "    self.body = nn.Sequential(OrderedDict([\n",
    "                                   ('conv1', nn.Conv1d(in_channels=1, out_channels=5, kernel_size=5, stride=1, padding=1)),\n",
    "                                   ('relu1', nn.LeakyReLU()),\n",
    "                                   ('bn1', nn.BatchNorm1d(5)),\n",
    "                                   ('pool1', nn.MaxPool1d(kernel_size=2, stride=2)),\n",
    "                                   ('conv2', nn.Conv1d(in_channels=5, out_channels=10, kernel_size=5, stride=1, padding=1)),\n",
    "                                   ('relu2', nn.LeakyReLU()),\n",
    "                                   ('bn2', nn.BatchNorm1d(10)),\n",
    "                                   ('pool2', nn.MaxPool1d(kernel_size=2, stride=2)),\n",
    "\n",
    "                                   ('flatten',Flatten()),\n",
    "                                   ('linearlayer1',nn.Linear(2540, 500)),\n",
    "                                    ('relu1', nn.LeakyReLU()),\n",
    "                                   ('dropout',nn.Dropout(p=0.5)),\n",
    "                                    ('linearlayer2',nn.Linear(500, 96)),\n",
    "                                    ('softmax', nn.LogSoftmax(dim=1))\n",
    "                                   #('pool4', nn.MaxPool2d(kernel_size=2, stride=2))\n",
    "    ]))\n",
    "  def forward(self, x):\n",
    "    b, features = x.shape\n",
    "    #print(b,n_steps, features)\n",
    "    x = x.reshape([b,1,features])\n",
    "    y = self.body(x)\n",
    "    return y"
   ]
  },
  {
   "cell_type": "code",
   "execution_count": 140,
   "metadata": {},
   "outputs": [
    {
     "data": {
      "text/plain": [
       "True"
      ]
     },
     "execution_count": 140,
     "metadata": {},
     "output_type": "execute_result"
    }
   ],
   "source": [
    "cuda_available = torch.cuda.is_available()\n",
    "cuda_available"
   ]
  },
  {
   "cell_type": "code",
   "execution_count": 146,
   "metadata": {},
   "outputs": [
    {
     "name": "stdout",
     "output_type": "stream",
     "text": [
      "Epoch: 99/100  Loss: 0.005300 Acc: 99.98% Test loss: 0.471216 Test acc: 88.40%%\n",
      "Training took 45.32221221923828s!\n"
     ]
    }
   ],
   "source": [
    "\n",
    "start = time.time()\n",
    "model = CNNModel()\n",
    "if cuda_available:\n",
    "    model = model.cuda()\n",
    "criterion = nn.CrossEntropyLoss()\n",
    "optimizer = optim.SGD(model.parameters(), lr=1e-2, momentum=0.9, weight_decay=5e-4)\n",
    "scheduler = torch.optim.lr_scheduler.MultiStepLR(optimizer, milestones=[150, 200], gamma=0.1)\n",
    "#optimizer = optim.Adam(model.parameters(), lr=1e-3)\n",
    "losses,test_losses, train_acc,test_acc, best_model = train(model, optimizer,scheduler, (train_loader, test_loader), max_epochs=100,cuda=cuda_available)\n",
    "end = time.time()\n",
    "print(f'\\nTraining took {end-start}s!')"
   ]
  },
  {
   "cell_type": "code",
   "execution_count": 147,
   "metadata": {},
   "outputs": [],
   "source": [
    "def plot_loss(epochs,train_losses,test_losses):\n",
    "  plt.rcParams['figure.figsize'] = [10, 5]\n",
    "  plt.rcParams['figure.dpi'] = 100\n",
    "  plt.plot(range(epochs),train_losses, label='train loss')\n",
    "  plt.plot(range(epochs),test_losses,label='test loss')\n",
    "  plt.title('CNN')\n",
    "  plt.legend()\n",
    "  plt.show()\n",
    "def plot_acc(epochs,train_losses,test_losses):\n",
    "  plt.rcParams['figure.figsize'] = [10, 5]\n",
    "  plt.rcParams['figure.dpi'] = 100\n",
    "  plt.plot(range(epochs),train_losses, label='train acc')\n",
    "  plt.plot(range(epochs),test_losses,label='test acc')\n",
    "  plt.title('CNN')\n",
    "  plt.legend()\n",
    "  plt.show()"
   ]
  },
  {
   "cell_type": "code",
   "execution_count": 152,
   "metadata": {},
   "outputs": [
    {
     "data": {
      "image/png": "[encoded data removed]",
      "text/plain": [
       "<Figure size 1000x500 with 1 Axes>"
      ]
     },
     "metadata": {
      "needs_background": "light"
     },
     "output_type": "display_data"
    },
    {
     "data": {
      "image/png": "[encoded data removed]",
      "text/plain": [
       "<Figure size 1000x500 with 1 Axes>"
      ]
     },
     "metadata": {
      "needs_background": "light"
     },
     "output_type": "display_data"
    }
   ],
   "source": [
    "plot_loss(100,losses,test_losses)\n",
    "plot_loss(100,train_acc,test_acc)"
   ]
  },
  {
   "cell_type": "code",
   "execution_count": 150,
   "metadata": {},
   "outputs": [],
   "source": [
    "def validate(model: nn.Module, data: DataLoader, cuda=True):\n",
    "  criterion = nn.CrossEntropyLoss()\n",
    "  losses = []\n",
    "  correct_samples = 0\n",
    "  total_samples = 0\n",
    "  for x, y in data:\n",
    "      if cuda:\n",
    "        x, y = x.cuda(), y.cuda()\n",
    "      output = model(x)\n",
    "      loss = criterion(output, y)\n",
    "      yhat = torch.argmax(output, dim=1)\n",
    "      losses.append(loss.item())\n",
    "      correct_samples += torch.sum(yhat == y)\n",
    "      total_samples += len(y)\n",
    "\n",
    "  mean_losses = np.mean(losses)\n",
    "  acc = float(correct_samples) / float(total_samples)\n",
    "  print(f'Validation complete! Validation loss: {mean_losses:.6f}, Validation accuracy: {acc:.2%}')\n",
    "\n",
    "  return mean_losses, acc"
   ]
  },
  {
   "cell_type": "code",
   "execution_count": 151,
   "metadata": {},
   "outputs": [
    {
     "name": "stdout",
     "output_type": "stream",
     "text": [
      "Validation complete! Validation loss: 0.532183, Validation accuracy: 87.36%\n"
     ]
    },
    {
     "data": {
      "text/plain": [
       "(0.5321833704199109, 0.8735714285714286)"
      ]
     },
     "execution_count": 151,
     "metadata": {},
     "output_type": "execute_result"
    }
   ],
   "source": [
    "model = CNNModel()\n",
    "if cuda_available:\n",
    "    model = model.cuda()\n",
    "model.load_state_dict(best_model)\n",
    "validate(model, test_loader)"
   ]
  },
  {
   "cell_type": "code",
   "execution_count": null,
   "metadata": {},
   "outputs": [],
   "source": []
  }
 ],
 "metadata": {
  "kernelspec": {
   "display_name": "Python 3",
   "language": "python",
   "name": "python3"
  },
  "language_info": {
   "codemirror_mode": {
    "name": "ipython",
    "version": 3
   },
   "file_extension": ".py",
   "mimetype": "text/x-python",
   "name": "python",
   "nbconvert_exporter": "python",
   "pygments_lexer": "ipython3",
   "version": "3.8.5"
  }
 },
 "nbformat": 4,
 "nbformat_minor": 4
}
