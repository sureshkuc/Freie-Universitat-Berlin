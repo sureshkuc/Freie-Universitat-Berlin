{
 "metadata": {
  "language_info": {
   "codemirror_mode": {
    "name": "ipython",
    "version": 3
   },
   "file_extension": ".py",
   "mimetype": "text/x-python",
   "name": "python",
   "nbconvert_exporter": "python",
   "pygments_lexer": "ipython3",
   "version": "3.6.9-final"
  },
  "orig_nbformat": 2,
  "kernelspec": {
   "name": "python3",
   "display_name": "Python 3"
  }
 },
 "nbformat": 4,
 "nbformat_minor": 2,
 "cells": [
  {
   "cell_type": "code",
   "execution_count": 2,
   "metadata": {},
   "outputs": [],
   "source": [
    "import numpy as np\n",
    "import pandas as pd\n",
    "import os"
   ]
  },
  {
   "source": [
    "# 1. Read the Data"
   ],
   "cell_type": "markdown",
   "metadata": {}
  },
  {
   "cell_type": "code",
   "execution_count": 3,
   "metadata": {},
   "outputs": [
    {
     "output_type": "stream",
     "name": "stdout",
     "text": [
      "(18207, 88)\n"
     ]
    },
    {
     "output_type": "execute_result",
     "data": {
      "text/plain": [
       "       ID               Name  Age  \\\n",
       "0  158023           L. Messi   31   \n",
       "1   20801  Cristiano Ronaldo   33   \n",
       "2  190871          Neymar Jr   26   \n",
       "3  193080             De Gea   27   \n",
       "4  192985       K. De Bruyne   27   \n",
       "\n",
       "                                            Photo Nationality  \\\n",
       "0  https://cdn.sofifa.org/players/4/19/158023.png   Argentina   \n",
       "1   https://cdn.sofifa.org/players/4/19/20801.png    Portugal   \n",
       "2  https://cdn.sofifa.org/players/4/19/190871.png      Brazil   \n",
       "3  https://cdn.sofifa.org/players/4/19/193080.png       Spain   \n",
       "4  https://cdn.sofifa.org/players/4/19/192985.png     Belgium   \n",
       "\n",
       "                                  Flag  Overall  Potential  \\\n",
       "0  https://cdn.sofifa.org/flags/52.png       94         94   \n",
       "1  https://cdn.sofifa.org/flags/38.png       94         94   \n",
       "2  https://cdn.sofifa.org/flags/54.png       92         93   \n",
       "3  https://cdn.sofifa.org/flags/45.png       91         93   \n",
       "4   https://cdn.sofifa.org/flags/7.png       91         92   \n",
       "\n",
       "                  Club                                     Club Logo  ...  \\\n",
       "0         FC Barcelona  https://cdn.sofifa.org/teams/2/light/241.png  ...   \n",
       "1             Juventus   https://cdn.sofifa.org/teams/2/light/45.png  ...   \n",
       "2  Paris Saint-Germain   https://cdn.sofifa.org/teams/2/light/73.png  ...   \n",
       "3    Manchester United   https://cdn.sofifa.org/teams/2/light/11.png  ...   \n",
       "4      Manchester City   https://cdn.sofifa.org/teams/2/light/10.png  ...   \n",
       "\n",
       "  Composure Marking  StandingTackle SlidingTackle  GKDiving  GKHandling  \\\n",
       "0      96.0    33.0            28.0          26.0       6.0        11.0   \n",
       "1      95.0    28.0            31.0          23.0       7.0        11.0   \n",
       "2      94.0    27.0            24.0          33.0       9.0         9.0   \n",
       "3      68.0    15.0            21.0          13.0      90.0        85.0   \n",
       "4      88.0    68.0            58.0          51.0      15.0        13.0   \n",
       "\n",
       "   GKKicking GKPositioning GKReflexes Release Clause  \n",
       "0       15.0          14.0        8.0        €226.5M  \n",
       "1       15.0          14.0       11.0        €127.1M  \n",
       "2       15.0          15.0       11.0        €228.1M  \n",
       "3       87.0          88.0       94.0        €138.6M  \n",
       "4        5.0          10.0       13.0        €196.4M  \n",
       "\n",
       "[5 rows x 88 columns]"
      ],
      "text/html": "<div>\n<style scoped>\n    .dataframe tbody tr th:only-of-type {\n        vertical-align: middle;\n    }\n\n    .dataframe tbody tr th {\n        vertical-align: top;\n    }\n\n    .dataframe thead th {\n        text-align: right;\n    }\n</style>\n<table border=\"1\" class=\"dataframe\">\n  <thead>\n    <tr style=\"text-align: right;\">\n      <th></th>\n      <th>ID</th>\n      <th>Name</th>\n      <th>Age</th>\n      <th>Photo</th>\n      <th>Nationality</th>\n      <th>Flag</th>\n      <th>Overall</th>\n      <th>Potential</th>\n      <th>Club</th>\n      <th>Club Logo</th>\n      <th>...</th>\n      <th>Composure</th>\n      <th>Marking</th>\n      <th>StandingTackle</th>\n      <th>SlidingTackle</th>\n      <th>GKDiving</th>\n      <th>GKHandling</th>\n      <th>GKKicking</th>\n      <th>GKPositioning</th>\n      <th>GKReflexes</th>\n      <th>Release Clause</th>\n    </tr>\n  </thead>\n  <tbody>\n    <tr>\n      <th>0</th>\n      <td>158023</td>\n      <td>L. Messi</td>\n      <td>31</td>\n      <td>https://cdn.sofifa.org/players/4/19/158023.png</td>\n      <td>Argentina</td>\n      <td>https://cdn.sofifa.org/flags/52.png</td>\n      <td>94</td>\n      <td>94</td>\n      <td>FC Barcelona</td>\n      <td>https://cdn.sofifa.org/teams/2/light/241.png</td>\n      <td>...</td>\n      <td>96.0</td>\n      <td>33.0</td>\n      <td>28.0</td>\n      <td>26.0</td>\n      <td>6.0</td>\n      <td>11.0</td>\n      <td>15.0</td>\n      <td>14.0</td>\n      <td>8.0</td>\n      <td>€226.5M</td>\n    </tr>\n    <tr>\n      <th>1</th>\n      <td>20801</td>\n      <td>Cristiano Ronaldo</td>\n      <td>33</td>\n      <td>https://cdn.sofifa.org/players/4/19/20801.png</td>\n      <td>Portugal</td>\n      <td>https://cdn.sofifa.org/flags/38.png</td>\n      <td>94</td>\n      <td>94</td>\n      <td>Juventus</td>\n      <td>https://cdn.sofifa.org/teams/2/light/45.png</td>\n      <td>...</td>\n      <td>95.0</td>\n      <td>28.0</td>\n      <td>31.0</td>\n      <td>23.0</td>\n      <td>7.0</td>\n      <td>11.0</td>\n      <td>15.0</td>\n      <td>14.0</td>\n      <td>11.0</td>\n      <td>€127.1M</td>\n    </tr>\n    <tr>\n      <th>2</th>\n      <td>190871</td>\n      <td>Neymar Jr</td>\n      <td>26</td>\n      <td>https://cdn.sofifa.org/players/4/19/190871.png</td>\n      <td>Brazil</td>\n      <td>https://cdn.sofifa.org/flags/54.png</td>\n      <td>92</td>\n      <td>93</td>\n      <td>Paris Saint-Germain</td>\n      <td>https://cdn.sofifa.org/teams/2/light/73.png</td>\n      <td>...</td>\n      <td>94.0</td>\n      <td>27.0</td>\n      <td>24.0</td>\n      <td>33.0</td>\n      <td>9.0</td>\n      <td>9.0</td>\n      <td>15.0</td>\n      <td>15.0</td>\n      <td>11.0</td>\n      <td>€228.1M</td>\n    </tr>\n    <tr>\n      <th>3</th>\n      <td>193080</td>\n      <td>De Gea</td>\n      <td>27</td>\n      <td>https://cdn.sofifa.org/players/4/19/193080.png</td>\n      <td>Spain</td>\n      <td>https://cdn.sofifa.org/flags/45.png</td>\n      <td>91</td>\n      <td>93</td>\n      <td>Manchester United</td>\n      <td>https://cdn.sofifa.org/teams/2/light/11.png</td>\n      <td>...</td>\n      <td>68.0</td>\n      <td>15.0</td>\n      <td>21.0</td>\n      <td>13.0</td>\n      <td>90.0</td>\n      <td>85.0</td>\n      <td>87.0</td>\n      <td>88.0</td>\n      <td>94.0</td>\n      <td>€138.6M</td>\n    </tr>\n    <tr>\n      <th>4</th>\n      <td>192985</td>\n      <td>K. De Bruyne</td>\n      <td>27</td>\n      <td>https://cdn.sofifa.org/players/4/19/192985.png</td>\n      <td>Belgium</td>\n      <td>https://cdn.sofifa.org/flags/7.png</td>\n      <td>91</td>\n      <td>92</td>\n      <td>Manchester City</td>\n      <td>https://cdn.sofifa.org/teams/2/light/10.png</td>\n      <td>...</td>\n      <td>88.0</td>\n      <td>68.0</td>\n      <td>58.0</td>\n      <td>51.0</td>\n      <td>15.0</td>\n      <td>13.0</td>\n      <td>5.0</td>\n      <td>10.0</td>\n      <td>13.0</td>\n      <td>€196.4M</td>\n    </tr>\n  </tbody>\n</table>\n<p>5 rows × 88 columns</p>\n</div>"
     },
     "metadata": {},
     "execution_count": 3
    }
   ],
   "source": [
    "cwd = os.getcwd()\n",
    "df = pd.read_csv(cwd+'/fifa.csv', index_col = 0)\n",
    "print(df.shape)\n",
    "df.head()"
   ]
  },
  {
   "cell_type": "code",
   "execution_count": 3,
   "metadata": {},
   "outputs": [
    {
     "output_type": "execute_result",
     "data": {
      "text/plain": [
       "                  ID           Age       Overall     Potential       Special  \\\n",
       "count   18207.000000  18207.000000  18207.000000  18207.000000  18207.000000   \n",
       "mean   214298.338606     25.122206     66.238699     71.307299   1597.809908   \n",
       "std     29965.244204      4.669943      6.908930      6.136496    272.586016   \n",
       "min        16.000000     16.000000     46.000000     48.000000    731.000000   \n",
       "25%    200315.500000     21.000000     62.000000     67.000000   1457.000000   \n",
       "50%    221759.000000     25.000000     66.000000     71.000000   1635.000000   \n",
       "75%    236529.500000     28.000000     71.000000     75.000000   1787.000000   \n",
       "max    246620.000000     45.000000     94.000000     95.000000   2346.000000   \n",
       "\n",
       "       International Reputation     Weak Foot   Skill Moves  Jersey Number  \\\n",
       "count              18159.000000  18159.000000  18159.000000   18147.000000   \n",
       "mean                   1.113222      2.947299      2.361308      19.546096   \n",
       "std                    0.394031      0.660456      0.756164      15.947765   \n",
       "min                    1.000000      1.000000      1.000000       1.000000   \n",
       "25%                    1.000000      3.000000      2.000000       8.000000   \n",
       "50%                    1.000000      3.000000      2.000000      17.000000   \n",
       "75%                    1.000000      3.000000      3.000000      26.000000   \n",
       "max                    5.000000      5.000000      5.000000      99.000000   \n",
       "\n",
       "           Crossing  ...     Penalties     Composure       Marking  \\\n",
       "count  18159.000000  ...  18159.000000  18159.000000  18159.000000   \n",
       "mean      49.734181  ...     48.548598     58.648274     47.281623   \n",
       "std       18.364524  ...     15.704053     11.436133     19.904397   \n",
       "min        5.000000  ...      5.000000      3.000000      3.000000   \n",
       "25%       38.000000  ...     39.000000     51.000000     30.000000   \n",
       "50%       54.000000  ...     49.000000     60.000000     53.000000   \n",
       "75%       64.000000  ...     60.000000     67.000000     64.000000   \n",
       "max       93.000000  ...     92.000000     96.000000     94.000000   \n",
       "\n",
       "       StandingTackle  SlidingTackle      GKDiving    GKHandling  \\\n",
       "count    18159.000000   18159.000000  18159.000000  18159.000000   \n",
       "mean        47.697836      45.661435     16.616223     16.391596   \n",
       "std         21.664004      21.289135     17.695349     16.906900   \n",
       "min          2.000000       3.000000      1.000000      1.000000   \n",
       "25%         27.000000      24.000000      8.000000      8.000000   \n",
       "50%         55.000000      52.000000     11.000000     11.000000   \n",
       "75%         66.000000      64.000000     14.000000     14.000000   \n",
       "max         93.000000      91.000000     90.000000     92.000000   \n",
       "\n",
       "          GKKicking  GKPositioning    GKReflexes  \n",
       "count  18159.000000   18159.000000  18159.000000  \n",
       "mean      16.232061      16.388898     16.710887  \n",
       "std       16.502864      17.034669     17.955119  \n",
       "min        1.000000       1.000000      1.000000  \n",
       "25%        8.000000       8.000000      8.000000  \n",
       "50%       11.000000      11.000000     11.000000  \n",
       "75%       14.000000      14.000000     14.000000  \n",
       "max       91.000000      90.000000     94.000000  \n",
       "\n",
       "[8 rows x 43 columns]"
      ],
      "text/html": "<div>\n<style scoped>\n    .dataframe tbody tr th:only-of-type {\n        vertical-align: middle;\n    }\n\n    .dataframe tbody tr th {\n        vertical-align: top;\n    }\n\n    .dataframe thead th {\n        text-align: right;\n    }\n</style>\n<table border=\"1\" class=\"dataframe\">\n  <thead>\n    <tr style=\"text-align: right;\">\n      <th></th>\n      <th>ID</th>\n      <th>Age</th>\n      <th>Overall</th>\n      <th>Potential</th>\n      <th>Special</th>\n      <th>International Reputation</th>\n      <th>Weak Foot</th>\n      <th>Skill Moves</th>\n      <th>Jersey Number</th>\n      <th>Crossing</th>\n      <th>...</th>\n      <th>Penalties</th>\n      <th>Composure</th>\n      <th>Marking</th>\n      <th>StandingTackle</th>\n      <th>SlidingTackle</th>\n      <th>GKDiving</th>\n      <th>GKHandling</th>\n      <th>GKKicking</th>\n      <th>GKPositioning</th>\n      <th>GKReflexes</th>\n    </tr>\n  </thead>\n  <tbody>\n    <tr>\n      <th>count</th>\n      <td>18207.000000</td>\n      <td>18207.000000</td>\n      <td>18207.000000</td>\n      <td>18207.000000</td>\n      <td>18207.000000</td>\n      <td>18159.000000</td>\n      <td>18159.000000</td>\n      <td>18159.000000</td>\n      <td>18147.000000</td>\n      <td>18159.000000</td>\n      <td>...</td>\n      <td>18159.000000</td>\n      <td>18159.000000</td>\n      <td>18159.000000</td>\n      <td>18159.000000</td>\n      <td>18159.000000</td>\n      <td>18159.000000</td>\n      <td>18159.000000</td>\n      <td>18159.000000</td>\n      <td>18159.000000</td>\n      <td>18159.000000</td>\n    </tr>\n    <tr>\n      <th>mean</th>\n      <td>214298.338606</td>\n      <td>25.122206</td>\n      <td>66.238699</td>\n      <td>71.307299</td>\n      <td>1597.809908</td>\n      <td>1.113222</td>\n      <td>2.947299</td>\n      <td>2.361308</td>\n      <td>19.546096</td>\n      <td>49.734181</td>\n      <td>...</td>\n      <td>48.548598</td>\n      <td>58.648274</td>\n      <td>47.281623</td>\n      <td>47.697836</td>\n      <td>45.661435</td>\n      <td>16.616223</td>\n      <td>16.391596</td>\n      <td>16.232061</td>\n      <td>16.388898</td>\n      <td>16.710887</td>\n    </tr>\n    <tr>\n      <th>std</th>\n      <td>29965.244204</td>\n      <td>4.669943</td>\n      <td>6.908930</td>\n      <td>6.136496</td>\n      <td>272.586016</td>\n      <td>0.394031</td>\n      <td>0.660456</td>\n      <td>0.756164</td>\n      <td>15.947765</td>\n      <td>18.364524</td>\n      <td>...</td>\n      <td>15.704053</td>\n      <td>11.436133</td>\n      <td>19.904397</td>\n      <td>21.664004</td>\n      <td>21.289135</td>\n      <td>17.695349</td>\n      <td>16.906900</td>\n      <td>16.502864</td>\n      <td>17.034669</td>\n      <td>17.955119</td>\n    </tr>\n    <tr>\n      <th>min</th>\n      <td>16.000000</td>\n      <td>16.000000</td>\n      <td>46.000000</td>\n      <td>48.000000</td>\n      <td>731.000000</td>\n      <td>1.000000</td>\n      <td>1.000000</td>\n      <td>1.000000</td>\n      <td>1.000000</td>\n      <td>5.000000</td>\n      <td>...</td>\n      <td>5.000000</td>\n      <td>3.000000</td>\n      <td>3.000000</td>\n      <td>2.000000</td>\n      <td>3.000000</td>\n      <td>1.000000</td>\n      <td>1.000000</td>\n      <td>1.000000</td>\n      <td>1.000000</td>\n      <td>1.000000</td>\n    </tr>\n    <tr>\n      <th>25%</th>\n      <td>200315.500000</td>\n      <td>21.000000</td>\n      <td>62.000000</td>\n      <td>67.000000</td>\n      <td>1457.000000</td>\n      <td>1.000000</td>\n      <td>3.000000</td>\n      <td>2.000000</td>\n      <td>8.000000</td>\n      <td>38.000000</td>\n      <td>...</td>\n      <td>39.000000</td>\n      <td>51.000000</td>\n      <td>30.000000</td>\n      <td>27.000000</td>\n      <td>24.000000</td>\n      <td>8.000000</td>\n      <td>8.000000</td>\n      <td>8.000000</td>\n      <td>8.000000</td>\n      <td>8.000000</td>\n    </tr>\n    <tr>\n      <th>50%</th>\n      <td>221759.000000</td>\n      <td>25.000000</td>\n      <td>66.000000</td>\n      <td>71.000000</td>\n      <td>1635.000000</td>\n      <td>1.000000</td>\n      <td>3.000000</td>\n      <td>2.000000</td>\n      <td>17.000000</td>\n      <td>54.000000</td>\n      <td>...</td>\n      <td>49.000000</td>\n      <td>60.000000</td>\n      <td>53.000000</td>\n      <td>55.000000</td>\n      <td>52.000000</td>\n      <td>11.000000</td>\n      <td>11.000000</td>\n      <td>11.000000</td>\n      <td>11.000000</td>\n      <td>11.000000</td>\n    </tr>\n    <tr>\n      <th>75%</th>\n      <td>236529.500000</td>\n      <td>28.000000</td>\n      <td>71.000000</td>\n      <td>75.000000</td>\n      <td>1787.000000</td>\n      <td>1.000000</td>\n      <td>3.000000</td>\n      <td>3.000000</td>\n      <td>26.000000</td>\n      <td>64.000000</td>\n      <td>...</td>\n      <td>60.000000</td>\n      <td>67.000000</td>\n      <td>64.000000</td>\n      <td>66.000000</td>\n      <td>64.000000</td>\n      <td>14.000000</td>\n      <td>14.000000</td>\n      <td>14.000000</td>\n      <td>14.000000</td>\n      <td>14.000000</td>\n    </tr>\n    <tr>\n      <th>max</th>\n      <td>246620.000000</td>\n      <td>45.000000</td>\n      <td>94.000000</td>\n      <td>95.000000</td>\n      <td>2346.000000</td>\n      <td>5.000000</td>\n      <td>5.000000</td>\n      <td>5.000000</td>\n      <td>99.000000</td>\n      <td>93.000000</td>\n      <td>...</td>\n      <td>92.000000</td>\n      <td>96.000000</td>\n      <td>94.000000</td>\n      <td>93.000000</td>\n      <td>91.000000</td>\n      <td>90.000000</td>\n      <td>92.000000</td>\n      <td>91.000000</td>\n      <td>90.000000</td>\n      <td>94.000000</td>\n    </tr>\n  </tbody>\n</table>\n<p>8 rows × 43 columns</p>\n</div>"
     },
     "metadata": {},
     "execution_count": 3
    }
   ],
   "source": [
    "df.describe()"
   ]
  },
  {
   "source": [
    "# 2. Data Exploration\n",
    "### Plots at the end of the code\n",
    "* 241 player with no club\n",
    "* for 48 players some columns are undefined( such as preferred foot, Body type, real face, etc)( height,weight)\n",
    "* for 60 players POsition and Jersey number are undefined\n",
    "* 1553 joined(?)\n",
    "* 16943 loaned from undefined\n",
    "* 289 players have unidentified contract validity\n",
    "* 2085 missing in LS, ST, ..RB\n",
    "* 1564 release clause\n",
    "\n",
    "* LAM CAM RAM seem to have same value"
   ],
   "cell_type": "markdown",
   "metadata": {}
  },
  {
   "source": [
    "pd.set_option('display.max_row',30) #show #nans per column\n",
    "attributes = len(df) - df.count(axis = 0)\n",
    "attributes"
   ],
   "cell_type": "code",
   "metadata": {},
   "execution_count": 4,
   "outputs": [
    {
     "output_type": "execute_result",
     "data": {
      "text/plain": [
       "ID                   0\n",
       "Name                 0\n",
       "Age                  0\n",
       "Photo                0\n",
       "Nationality          0\n",
       "                  ... \n",
       "GKHandling          48\n",
       "GKKicking           48\n",
       "GKPositioning       48\n",
       "GKReflexes          48\n",
       "Release Clause    1564\n",
       "Length: 88, dtype: int64"
      ]
     },
     "metadata": {},
     "execution_count": 4
    }
   ]
  },
  {
   "source": [
    "the 48 missing values are all for same 48 players"
   ],
   "cell_type": "markdown",
   "metadata": {}
  },
  {
   "cell_type": "code",
   "execution_count": null,
   "metadata": {},
   "outputs": [],
   "source": [
    "attributes48 = attributes[attributes == 48].index #print columns where 38 players have nans"
   ]
  },
  {
   "cell_type": "code",
   "execution_count": 72,
   "metadata": {},
   "outputs": [],
   "source": [
    "missing48 = df[attributes48][df[attributes48].isna().all(axis=1)].index"
   ]
  },
  {
   "cell_type": "code",
   "execution_count": 73,
   "metadata": {},
   "outputs": [
    {
     "output_type": "execute_result",
     "data": {
      "text/plain": [
       "           ID            Name  Age  \\\n",
       "13236  177971      J. McNulty   33   \n",
       "13237  195380      J. Barrera   29   \n",
       "13238  139317        J. Stead   35   \n",
       "13239  240437     A. Semprini   20   \n",
       "13240  209462      R. Bingham   24   \n",
       "...       ...             ...  ...   \n",
       "13279  239679    P. Mazzocchi   22   \n",
       "13280  244543       Y. Ammour   19   \n",
       "13281  212800  Jwa Joon Hyeop   27   \n",
       "13282  231232      O. Marrufo   25   \n",
       "13283  232256     Han Pengfei   25   \n",
       "\n",
       "                                                Photo     Nationality  \\\n",
       "13236  https://cdn.sofifa.org/players/4/19/177971.png        Scotland   \n",
       "13237  https://cdn.sofifa.org/players/4/19/195380.png       Nicaragua   \n",
       "13238  https://cdn.sofifa.org/players/4/19/139317.png         England   \n",
       "13239  https://cdn.sofifa.org/players/4/19/240437.png           Italy   \n",
       "13240  https://cdn.sofifa.org/players/4/19/209462.png         England   \n",
       "...                                               ...             ...   \n",
       "13279  https://cdn.sofifa.org/players/4/19/239679.png           Italy   \n",
       "13280  https://cdn.sofifa.org/players/4/19/244543.png          France   \n",
       "13281  https://cdn.sofifa.org/players/4/19/212800.png  Korea Republic   \n",
       "13282  https://cdn.sofifa.org/players/4/19/231232.png          Mexico   \n",
       "13283  https://cdn.sofifa.org/players/4/19/232256.png        China PR   \n",
       "\n",
       "                                       Flag  Overall  Potential  \\\n",
       "13236   https://cdn.sofifa.org/flags/42.png       62         62   \n",
       "13237   https://cdn.sofifa.org/flags/86.png       62         62   \n",
       "13238   https://cdn.sofifa.org/flags/14.png       62         62   \n",
       "13239   https://cdn.sofifa.org/flags/27.png       62         72   \n",
       "13240   https://cdn.sofifa.org/flags/14.png       62         66   \n",
       "...                                     ...      ...        ...   \n",
       "13279   https://cdn.sofifa.org/flags/27.png       62         69   \n",
       "13280   https://cdn.sofifa.org/flags/18.png       62         77   \n",
       "13281  https://cdn.sofifa.org/flags/167.png       62         62   \n",
       "13282   https://cdn.sofifa.org/flags/83.png       62         65   \n",
       "13283  https://cdn.sofifa.org/flags/155.png       62         66   \n",
       "\n",
       "                              Club  \\\n",
       "13236                     Rochdale   \n",
       "13237              Boyacá Chicó FC   \n",
       "13238                 Notts County   \n",
       "13239                      Brescia   \n",
       "13240       Hamilton Academical FC   \n",
       "...                            ...   \n",
       "13279                      Perugia   \n",
       "13280              Montpellier HSC   \n",
       "13281                 Gyeongnam FC   \n",
       "13282  Tiburones Rojos de Veracruz   \n",
       "13283          Guizhou Hengfeng FC   \n",
       "\n",
       "                                             Club Logo  ... Composure Marking  \\\n",
       "13236    https://cdn.sofifa.org/teams/2/light/1955.png  ...       NaN     NaN   \n",
       "13237  https://cdn.sofifa.org/teams/2/light/112019.png  ...       NaN     NaN   \n",
       "13238    https://cdn.sofifa.org/teams/2/light/1937.png  ...       NaN     NaN   \n",
       "13239     https://cdn.sofifa.org/teams/2/light/190.png  ...       NaN     NaN   \n",
       "13240     https://cdn.sofifa.org/teams/2/light/184.png  ...       NaN     NaN   \n",
       "...                                                ...  ...       ...     ...   \n",
       "13279     https://cdn.sofifa.org/teams/2/light/199.png  ...       NaN     NaN   \n",
       "13280      https://cdn.sofifa.org/teams/2/light/70.png  ...       NaN     NaN   \n",
       "13281  https://cdn.sofifa.org/teams/2/light/111588.png  ...       NaN     NaN   \n",
       "13282  https://cdn.sofifa.org/teams/2/light/110145.png  ...       NaN     NaN   \n",
       "13283  https://cdn.sofifa.org/teams/2/light/112977.png  ...       NaN     NaN   \n",
       "\n",
       "       StandingTackle SlidingTackle  GKDiving  GKHandling  GKKicking  \\\n",
       "13236             NaN           NaN       NaN         NaN        NaN   \n",
       "13237             NaN           NaN       NaN         NaN        NaN   \n",
       "13238             NaN           NaN       NaN         NaN        NaN   \n",
       "13239             NaN           NaN       NaN         NaN        NaN   \n",
       "13240             NaN           NaN       NaN         NaN        NaN   \n",
       "...               ...           ...       ...         ...        ...   \n",
       "13279             NaN           NaN       NaN         NaN        NaN   \n",
       "13280             NaN           NaN       NaN         NaN        NaN   \n",
       "13281             NaN           NaN       NaN         NaN        NaN   \n",
       "13282             NaN           NaN       NaN         NaN        NaN   \n",
       "13283             NaN           NaN       NaN         NaN        NaN   \n",
       "\n",
       "      GKPositioning GKReflexes Release Clause  \n",
       "13236           NaN        NaN            NaN  \n",
       "13237           NaN        NaN            NaN  \n",
       "13238           NaN        NaN            NaN  \n",
       "13239           NaN        NaN            NaN  \n",
       "13240           NaN        NaN            NaN  \n",
       "...             ...        ...            ...  \n",
       "13279           NaN        NaN            NaN  \n",
       "13280           NaN        NaN            NaN  \n",
       "13281           NaN        NaN            NaN  \n",
       "13282           NaN        NaN            NaN  \n",
       "13283           NaN        NaN            NaN  \n",
       "\n",
       "[48 rows x 88 columns]"
      ],
      "text/html": "<div>\n<style scoped>\n    .dataframe tbody tr th:only-of-type {\n        vertical-align: middle;\n    }\n\n    .dataframe tbody tr th {\n        vertical-align: top;\n    }\n\n    .dataframe thead th {\n        text-align: right;\n    }\n</style>\n<table border=\"1\" class=\"dataframe\">\n  <thead>\n    <tr style=\"text-align: right;\">\n      <th></th>\n      <th>ID</th>\n      <th>Name</th>\n      <th>Age</th>\n      <th>Photo</th>\n      <th>Nationality</th>\n      <th>Flag</th>\n      <th>Overall</th>\n      <th>Potential</th>\n      <th>Club</th>\n      <th>Club Logo</th>\n      <th>...</th>\n      <th>Composure</th>\n      <th>Marking</th>\n      <th>StandingTackle</th>\n      <th>SlidingTackle</th>\n      <th>GKDiving</th>\n      <th>GKHandling</th>\n      <th>GKKicking</th>\n      <th>GKPositioning</th>\n      <th>GKReflexes</th>\n      <th>Release Clause</th>\n    </tr>\n  </thead>\n  <tbody>\n    <tr>\n      <th>13236</th>\n      <td>177971</td>\n      <td>J. McNulty</td>\n      <td>33</td>\n      <td>https://cdn.sofifa.org/players/4/19/177971.png</td>\n      <td>Scotland</td>\n      <td>https://cdn.sofifa.org/flags/42.png</td>\n      <td>62</td>\n      <td>62</td>\n      <td>Rochdale</td>\n      <td>https://cdn.sofifa.org/teams/2/light/1955.png</td>\n      <td>...</td>\n      <td>NaN</td>\n      <td>NaN</td>\n      <td>NaN</td>\n      <td>NaN</td>\n      <td>NaN</td>\n      <td>NaN</td>\n      <td>NaN</td>\n      <td>NaN</td>\n      <td>NaN</td>\n      <td>NaN</td>\n    </tr>\n    <tr>\n      <th>13237</th>\n      <td>195380</td>\n      <td>J. Barrera</td>\n      <td>29</td>\n      <td>https://cdn.sofifa.org/players/4/19/195380.png</td>\n      <td>Nicaragua</td>\n      <td>https://cdn.sofifa.org/flags/86.png</td>\n      <td>62</td>\n      <td>62</td>\n      <td>Boyacá Chicó FC</td>\n      <td>https://cdn.sofifa.org/teams/2/light/112019.png</td>\n      <td>...</td>\n      <td>NaN</td>\n      <td>NaN</td>\n      <td>NaN</td>\n      <td>NaN</td>\n      <td>NaN</td>\n      <td>NaN</td>\n      <td>NaN</td>\n      <td>NaN</td>\n      <td>NaN</td>\n      <td>NaN</td>\n    </tr>\n    <tr>\n      <th>13238</th>\n      <td>139317</td>\n      <td>J. Stead</td>\n      <td>35</td>\n      <td>https://cdn.sofifa.org/players/4/19/139317.png</td>\n      <td>England</td>\n      <td>https://cdn.sofifa.org/flags/14.png</td>\n      <td>62</td>\n      <td>62</td>\n      <td>Notts County</td>\n      <td>https://cdn.sofifa.org/teams/2/light/1937.png</td>\n      <td>...</td>\n      <td>NaN</td>\n      <td>NaN</td>\n      <td>NaN</td>\n      <td>NaN</td>\n      <td>NaN</td>\n      <td>NaN</td>\n      <td>NaN</td>\n      <td>NaN</td>\n      <td>NaN</td>\n      <td>NaN</td>\n    </tr>\n    <tr>\n      <th>13239</th>\n      <td>240437</td>\n      <td>A. Semprini</td>\n      <td>20</td>\n      <td>https://cdn.sofifa.org/players/4/19/240437.png</td>\n      <td>Italy</td>\n      <td>https://cdn.sofifa.org/flags/27.png</td>\n      <td>62</td>\n      <td>72</td>\n      <td>Brescia</td>\n      <td>https://cdn.sofifa.org/teams/2/light/190.png</td>\n      <td>...</td>\n      <td>NaN</td>\n      <td>NaN</td>\n      <td>NaN</td>\n      <td>NaN</td>\n      <td>NaN</td>\n      <td>NaN</td>\n      <td>NaN</td>\n      <td>NaN</td>\n      <td>NaN</td>\n      <td>NaN</td>\n    </tr>\n    <tr>\n      <th>13240</th>\n      <td>209462</td>\n      <td>R. Bingham</td>\n      <td>24</td>\n      <td>https://cdn.sofifa.org/players/4/19/209462.png</td>\n      <td>England</td>\n      <td>https://cdn.sofifa.org/flags/14.png</td>\n      <td>62</td>\n      <td>66</td>\n      <td>Hamilton Academical FC</td>\n      <td>https://cdn.sofifa.org/teams/2/light/184.png</td>\n      <td>...</td>\n      <td>NaN</td>\n      <td>NaN</td>\n      <td>NaN</td>\n      <td>NaN</td>\n      <td>NaN</td>\n      <td>NaN</td>\n      <td>NaN</td>\n      <td>NaN</td>\n      <td>NaN</td>\n      <td>NaN</td>\n    </tr>\n    <tr>\n      <th>...</th>\n      <td>...</td>\n      <td>...</td>\n      <td>...</td>\n      <td>...</td>\n      <td>...</td>\n      <td>...</td>\n      <td>...</td>\n      <td>...</td>\n      <td>...</td>\n      <td>...</td>\n      <td>...</td>\n      <td>...</td>\n      <td>...</td>\n      <td>...</td>\n      <td>...</td>\n      <td>...</td>\n      <td>...</td>\n      <td>...</td>\n      <td>...</td>\n      <td>...</td>\n      <td>...</td>\n    </tr>\n    <tr>\n      <th>13279</th>\n      <td>239679</td>\n      <td>P. Mazzocchi</td>\n      <td>22</td>\n      <td>https://cdn.sofifa.org/players/4/19/239679.png</td>\n      <td>Italy</td>\n      <td>https://cdn.sofifa.org/flags/27.png</td>\n      <td>62</td>\n      <td>69</td>\n      <td>Perugia</td>\n      <td>https://cdn.sofifa.org/teams/2/light/199.png</td>\n      <td>...</td>\n      <td>NaN</td>\n      <td>NaN</td>\n      <td>NaN</td>\n      <td>NaN</td>\n      <td>NaN</td>\n      <td>NaN</td>\n      <td>NaN</td>\n      <td>NaN</td>\n      <td>NaN</td>\n      <td>NaN</td>\n    </tr>\n    <tr>\n      <th>13280</th>\n      <td>244543</td>\n      <td>Y. Ammour</td>\n      <td>19</td>\n      <td>https://cdn.sofifa.org/players/4/19/244543.png</td>\n      <td>France</td>\n      <td>https://cdn.sofifa.org/flags/18.png</td>\n      <td>62</td>\n      <td>77</td>\n      <td>Montpellier HSC</td>\n      <td>https://cdn.sofifa.org/teams/2/light/70.png</td>\n      <td>...</td>\n      <td>NaN</td>\n      <td>NaN</td>\n      <td>NaN</td>\n      <td>NaN</td>\n      <td>NaN</td>\n      <td>NaN</td>\n      <td>NaN</td>\n      <td>NaN</td>\n      <td>NaN</td>\n      <td>NaN</td>\n    </tr>\n    <tr>\n      <th>13281</th>\n      <td>212800</td>\n      <td>Jwa Joon Hyeop</td>\n      <td>27</td>\n      <td>https://cdn.sofifa.org/players/4/19/212800.png</td>\n      <td>Korea Republic</td>\n      <td>https://cdn.sofifa.org/flags/167.png</td>\n      <td>62</td>\n      <td>62</td>\n      <td>Gyeongnam FC</td>\n      <td>https://cdn.sofifa.org/teams/2/light/111588.png</td>\n      <td>...</td>\n      <td>NaN</td>\n      <td>NaN</td>\n      <td>NaN</td>\n      <td>NaN</td>\n      <td>NaN</td>\n      <td>NaN</td>\n      <td>NaN</td>\n      <td>NaN</td>\n      <td>NaN</td>\n      <td>NaN</td>\n    </tr>\n    <tr>\n      <th>13282</th>\n      <td>231232</td>\n      <td>O. Marrufo</td>\n      <td>25</td>\n      <td>https://cdn.sofifa.org/players/4/19/231232.png</td>\n      <td>Mexico</td>\n      <td>https://cdn.sofifa.org/flags/83.png</td>\n      <td>62</td>\n      <td>65</td>\n      <td>Tiburones Rojos de Veracruz</td>\n      <td>https://cdn.sofifa.org/teams/2/light/110145.png</td>\n      <td>...</td>\n      <td>NaN</td>\n      <td>NaN</td>\n      <td>NaN</td>\n      <td>NaN</td>\n      <td>NaN</td>\n      <td>NaN</td>\n      <td>NaN</td>\n      <td>NaN</td>\n      <td>NaN</td>\n      <td>NaN</td>\n    </tr>\n    <tr>\n      <th>13283</th>\n      <td>232256</td>\n      <td>Han Pengfei</td>\n      <td>25</td>\n      <td>https://cdn.sofifa.org/players/4/19/232256.png</td>\n      <td>China PR</td>\n      <td>https://cdn.sofifa.org/flags/155.png</td>\n      <td>62</td>\n      <td>66</td>\n      <td>Guizhou Hengfeng FC</td>\n      <td>https://cdn.sofifa.org/teams/2/light/112977.png</td>\n      <td>...</td>\n      <td>NaN</td>\n      <td>NaN</td>\n      <td>NaN</td>\n      <td>NaN</td>\n      <td>NaN</td>\n      <td>NaN</td>\n      <td>NaN</td>\n      <td>NaN</td>\n      <td>NaN</td>\n      <td>NaN</td>\n    </tr>\n  </tbody>\n</table>\n<p>48 rows × 88 columns</p>\n</div>"
     },
     "metadata": {},
     "execution_count": 73
    }
   ],
   "source": [
    "df.loc[missing48]"
   ]
  },
  {
   "cell_type": "code",
   "execution_count": 78,
   "metadata": {},
   "outputs": [
    {
     "output_type": "execute_result",
     "data": {
      "text/plain": [
       "Club                      241\n",
       "Position                   60\n",
       "Jersey Number              60\n",
       "Joined                   1553\n",
       "Loaned From             16943\n",
       "Contract Valid Until      289\n",
       "LS                       2085\n",
       "ST                       2085\n",
       "RS                       2085\n",
       "LW                       2085\n",
       "LF                       2085\n",
       "CF                       2085\n",
       "RF                       2085\n",
       "RW                       2085\n",
       "LAM                      2085\n",
       "CAM                      2085\n",
       "RAM                      2085\n",
       "LM                       2085\n",
       "LCM                      2085\n",
       "CM                       2085\n",
       "RCM                      2085\n",
       "RM                       2085\n",
       "LWB                      2085\n",
       "LDM                      2085\n",
       "CDM                      2085\n",
       "RDM                      2085\n",
       "RWB                      2085\n",
       "LB                       2085\n",
       "LCB                      2085\n",
       "CB                       2085\n",
       "RCB                      2085\n",
       "RB                       2085\n",
       "Release Clause           1564\n",
       "dtype: int64"
      ]
     },
     "metadata": {},
     "execution_count": 78
    }
   ],
   "source": [
    "pd.set_option('display.max_row',34)\n",
    "attributes[(attributes!= 48) & (attributes!=0)]"
   ]
  },
  {
   "cell_type": "code",
   "execution_count": 79,
   "metadata": {},
   "outputs": [],
   "source": [
    "attributes2085 = attributes[attributes == 2085].index #print columns where 38 players have nans\n",
    "missing2085 = df[attributes2085][df[attributes2085].isna().all(axis=1)].index\n"
   ]
  },
  {
   "cell_type": "code",
   "execution_count": 81,
   "metadata": {},
   "outputs": [
    {
     "output_type": "execute_result",
     "data": {
      "text/plain": [
       "           ID           Name  Age  \\\n",
       "3      193080         De Gea   27   \n",
       "9      200389       J. Oblak   25   \n",
       "18     192448  M. ter Stegen   26   \n",
       "19     192119    T. Courtois   26   \n",
       "22     167495       M. Neuer   32   \n",
       "...       ...            ...  ...   \n",
       "18178  243158   L. Wahlstedt   18   \n",
       "18180  221669       M. Hurst   22   \n",
       "18183   53748  K. Pilkington   44   \n",
       "18194  245862       J. Milli   18   \n",
       "18198  242844     J. Livesey   18   \n",
       "\n",
       "                                                Photo Nationality  \\\n",
       "3      https://cdn.sofifa.org/players/4/19/193080.png       Spain   \n",
       "9      https://cdn.sofifa.org/players/4/19/200389.png    Slovenia   \n",
       "18     https://cdn.sofifa.org/players/4/19/192448.png     Germany   \n",
       "19     https://cdn.sofifa.org/players/4/19/192119.png     Belgium   \n",
       "22     https://cdn.sofifa.org/players/4/19/167495.png     Germany   \n",
       "...                                               ...         ...   \n",
       "18178  https://cdn.sofifa.org/players/4/19/243158.png      Sweden   \n",
       "18180  https://cdn.sofifa.org/players/4/19/221669.png    Scotland   \n",
       "18183   https://cdn.sofifa.org/players/4/19/53748.png     England   \n",
       "18194  https://cdn.sofifa.org/players/4/19/245862.png       Italy   \n",
       "18198  https://cdn.sofifa.org/players/4/19/242844.png     England   \n",
       "\n",
       "                                      Flag  Overall  Potential  \\\n",
       "3      https://cdn.sofifa.org/flags/45.png       91         93   \n",
       "9      https://cdn.sofifa.org/flags/44.png       90         93   \n",
       "18     https://cdn.sofifa.org/flags/21.png       89         92   \n",
       "19      https://cdn.sofifa.org/flags/7.png       89         90   \n",
       "22     https://cdn.sofifa.org/flags/21.png       89         89   \n",
       "...                                    ...      ...        ...   \n",
       "18178  https://cdn.sofifa.org/flags/46.png       48         65   \n",
       "18180  https://cdn.sofifa.org/flags/42.png       48         58   \n",
       "18183  https://cdn.sofifa.org/flags/14.png       48         48   \n",
       "18194  https://cdn.sofifa.org/flags/27.png       47         65   \n",
       "18198  https://cdn.sofifa.org/flags/14.png       47         70   \n",
       "\n",
       "                    Club                                        Club Logo  \\\n",
       "3      Manchester United      https://cdn.sofifa.org/teams/2/light/11.png   \n",
       "9        Atlético Madrid     https://cdn.sofifa.org/teams/2/light/240.png   \n",
       "18          FC Barcelona     https://cdn.sofifa.org/teams/2/light/241.png   \n",
       "19           Real Madrid     https://cdn.sofifa.org/teams/2/light/243.png   \n",
       "22     FC Bayern München      https://cdn.sofifa.org/teams/2/light/21.png   \n",
       "...                  ...                                              ...   \n",
       "18178         Dalkurd FF  https://cdn.sofifa.org/teams/2/light/113876.png   \n",
       "18180   St. Johnstone FC  https://cdn.sofifa.org/teams/2/light/100804.png   \n",
       "18183   Cambridge United    https://cdn.sofifa.org/teams/2/light/1944.png   \n",
       "18194              Lecce     https://cdn.sofifa.org/teams/2/light/347.png   \n",
       "18198      Burton Albion   https://cdn.sofifa.org/teams/2/light/15015.png   \n",
       "\n",
       "       ... Composure Marking  StandingTackle SlidingTackle  GKDiving  \\\n",
       "3      ...      68.0    15.0            21.0          13.0      90.0   \n",
       "9      ...      70.0    27.0            12.0          18.0      86.0   \n",
       "18     ...      69.0    25.0            13.0          10.0      87.0   \n",
       "19     ...      66.0    20.0            18.0          16.0      85.0   \n",
       "22     ...      70.0    17.0            10.0          11.0      90.0   \n",
       "...    ...       ...     ...             ...           ...       ...   \n",
       "18178  ...      28.0    16.0            11.0          10.0      47.0   \n",
       "18180  ...      28.0    12.0            15.0          16.0      45.0   \n",
       "18183  ...      56.0    15.0            15.0          13.0      45.0   \n",
       "18194  ...      23.0     6.0            10.0          11.0      52.0   \n",
       "18198  ...      34.0    15.0            11.0          13.0      46.0   \n",
       "\n",
       "       GKHandling  GKKicking GKPositioning GKReflexes Release Clause  \n",
       "3            85.0       87.0          88.0       94.0        €138.6M  \n",
       "9            92.0       78.0          88.0       89.0        €144.5M  \n",
       "18           85.0       88.0          85.0       90.0        €123.3M  \n",
       "19           91.0       72.0          86.0       88.0        €113.7M  \n",
       "22           86.0       91.0          87.0       87.0         €62.7M  \n",
       "...           ...        ...           ...        ...            ...  \n",
       "18178        46.0       50.0          45.0       51.0           €94K  \n",
       "18180        49.0       50.0          50.0       45.0           €78K  \n",
       "18183        48.0       44.0          49.0       46.0            NaN  \n",
       "18194        52.0       52.0          40.0       44.0          €109K  \n",
       "18198        52.0       58.0          42.0       48.0          €165K  \n",
       "\n",
       "[2085 rows x 88 columns]"
      ],
      "text/html": "<div>\n<style scoped>\n    .dataframe tbody tr th:only-of-type {\n        vertical-align: middle;\n    }\n\n    .dataframe tbody tr th {\n        vertical-align: top;\n    }\n\n    .dataframe thead th {\n        text-align: right;\n    }\n</style>\n<table border=\"1\" class=\"dataframe\">\n  <thead>\n    <tr style=\"text-align: right;\">\n      <th></th>\n      <th>ID</th>\n      <th>Name</th>\n      <th>Age</th>\n      <th>Photo</th>\n      <th>Nationality</th>\n      <th>Flag</th>\n      <th>Overall</th>\n      <th>Potential</th>\n      <th>Club</th>\n      <th>Club Logo</th>\n      <th>...</th>\n      <th>Composure</th>\n      <th>Marking</th>\n      <th>StandingTackle</th>\n      <th>SlidingTackle</th>\n      <th>GKDiving</th>\n      <th>GKHandling</th>\n      <th>GKKicking</th>\n      <th>GKPositioning</th>\n      <th>GKReflexes</th>\n      <th>Release Clause</th>\n    </tr>\n  </thead>\n  <tbody>\n    <tr>\n      <th>3</th>\n      <td>193080</td>\n      <td>De Gea</td>\n      <td>27</td>\n      <td>https://cdn.sofifa.org/players/4/19/193080.png</td>\n      <td>Spain</td>\n      <td>https://cdn.sofifa.org/flags/45.png</td>\n      <td>91</td>\n      <td>93</td>\n      <td>Manchester United</td>\n      <td>https://cdn.sofifa.org/teams/2/light/11.png</td>\n      <td>...</td>\n      <td>68.0</td>\n      <td>15.0</td>\n      <td>21.0</td>\n      <td>13.0</td>\n      <td>90.0</td>\n      <td>85.0</td>\n      <td>87.0</td>\n      <td>88.0</td>\n      <td>94.0</td>\n      <td>€138.6M</td>\n    </tr>\n    <tr>\n      <th>9</th>\n      <td>200389</td>\n      <td>J. Oblak</td>\n      <td>25</td>\n      <td>https://cdn.sofifa.org/players/4/19/200389.png</td>\n      <td>Slovenia</td>\n      <td>https://cdn.sofifa.org/flags/44.png</td>\n      <td>90</td>\n      <td>93</td>\n      <td>Atlético Madrid</td>\n      <td>https://cdn.sofifa.org/teams/2/light/240.png</td>\n      <td>...</td>\n      <td>70.0</td>\n      <td>27.0</td>\n      <td>12.0</td>\n      <td>18.0</td>\n      <td>86.0</td>\n      <td>92.0</td>\n      <td>78.0</td>\n      <td>88.0</td>\n      <td>89.0</td>\n      <td>€144.5M</td>\n    </tr>\n    <tr>\n      <th>18</th>\n      <td>192448</td>\n      <td>M. ter Stegen</td>\n      <td>26</td>\n      <td>https://cdn.sofifa.org/players/4/19/192448.png</td>\n      <td>Germany</td>\n      <td>https://cdn.sofifa.org/flags/21.png</td>\n      <td>89</td>\n      <td>92</td>\n      <td>FC Barcelona</td>\n      <td>https://cdn.sofifa.org/teams/2/light/241.png</td>\n      <td>...</td>\n      <td>69.0</td>\n      <td>25.0</td>\n      <td>13.0</td>\n      <td>10.0</td>\n      <td>87.0</td>\n      <td>85.0</td>\n      <td>88.0</td>\n      <td>85.0</td>\n      <td>90.0</td>\n      <td>€123.3M</td>\n    </tr>\n    <tr>\n      <th>19</th>\n      <td>192119</td>\n      <td>T. Courtois</td>\n      <td>26</td>\n      <td>https://cdn.sofifa.org/players/4/19/192119.png</td>\n      <td>Belgium</td>\n      <td>https://cdn.sofifa.org/flags/7.png</td>\n      <td>89</td>\n      <td>90</td>\n      <td>Real Madrid</td>\n      <td>https://cdn.sofifa.org/teams/2/light/243.png</td>\n      <td>...</td>\n      <td>66.0</td>\n      <td>20.0</td>\n      <td>18.0</td>\n      <td>16.0</td>\n      <td>85.0</td>\n      <td>91.0</td>\n      <td>72.0</td>\n      <td>86.0</td>\n      <td>88.0</td>\n      <td>€113.7M</td>\n    </tr>\n    <tr>\n      <th>22</th>\n      <td>167495</td>\n      <td>M. Neuer</td>\n      <td>32</td>\n      <td>https://cdn.sofifa.org/players/4/19/167495.png</td>\n      <td>Germany</td>\n      <td>https://cdn.sofifa.org/flags/21.png</td>\n      <td>89</td>\n      <td>89</td>\n      <td>FC Bayern München</td>\n      <td>https://cdn.sofifa.org/teams/2/light/21.png</td>\n      <td>...</td>\n      <td>70.0</td>\n      <td>17.0</td>\n      <td>10.0</td>\n      <td>11.0</td>\n      <td>90.0</td>\n      <td>86.0</td>\n      <td>91.0</td>\n      <td>87.0</td>\n      <td>87.0</td>\n      <td>€62.7M</td>\n    </tr>\n    <tr>\n      <th>...</th>\n      <td>...</td>\n      <td>...</td>\n      <td>...</td>\n      <td>...</td>\n      <td>...</td>\n      <td>...</td>\n      <td>...</td>\n      <td>...</td>\n      <td>...</td>\n      <td>...</td>\n      <td>...</td>\n      <td>...</td>\n      <td>...</td>\n      <td>...</td>\n      <td>...</td>\n      <td>...</td>\n      <td>...</td>\n      <td>...</td>\n      <td>...</td>\n      <td>...</td>\n      <td>...</td>\n    </tr>\n    <tr>\n      <th>18178</th>\n      <td>243158</td>\n      <td>L. Wahlstedt</td>\n      <td>18</td>\n      <td>https://cdn.sofifa.org/players/4/19/243158.png</td>\n      <td>Sweden</td>\n      <td>https://cdn.sofifa.org/flags/46.png</td>\n      <td>48</td>\n      <td>65</td>\n      <td>Dalkurd FF</td>\n      <td>https://cdn.sofifa.org/teams/2/light/113876.png</td>\n      <td>...</td>\n      <td>28.0</td>\n      <td>16.0</td>\n      <td>11.0</td>\n      <td>10.0</td>\n      <td>47.0</td>\n      <td>46.0</td>\n      <td>50.0</td>\n      <td>45.0</td>\n      <td>51.0</td>\n      <td>€94K</td>\n    </tr>\n    <tr>\n      <th>18180</th>\n      <td>221669</td>\n      <td>M. Hurst</td>\n      <td>22</td>\n      <td>https://cdn.sofifa.org/players/4/19/221669.png</td>\n      <td>Scotland</td>\n      <td>https://cdn.sofifa.org/flags/42.png</td>\n      <td>48</td>\n      <td>58</td>\n      <td>St. Johnstone FC</td>\n      <td>https://cdn.sofifa.org/teams/2/light/100804.png</td>\n      <td>...</td>\n      <td>28.0</td>\n      <td>12.0</td>\n      <td>15.0</td>\n      <td>16.0</td>\n      <td>45.0</td>\n      <td>49.0</td>\n      <td>50.0</td>\n      <td>50.0</td>\n      <td>45.0</td>\n      <td>€78K</td>\n    </tr>\n    <tr>\n      <th>18183</th>\n      <td>53748</td>\n      <td>K. Pilkington</td>\n      <td>44</td>\n      <td>https://cdn.sofifa.org/players/4/19/53748.png</td>\n      <td>England</td>\n      <td>https://cdn.sofifa.org/flags/14.png</td>\n      <td>48</td>\n      <td>48</td>\n      <td>Cambridge United</td>\n      <td>https://cdn.sofifa.org/teams/2/light/1944.png</td>\n      <td>...</td>\n      <td>56.0</td>\n      <td>15.0</td>\n      <td>15.0</td>\n      <td>13.0</td>\n      <td>45.0</td>\n      <td>48.0</td>\n      <td>44.0</td>\n      <td>49.0</td>\n      <td>46.0</td>\n      <td>NaN</td>\n    </tr>\n    <tr>\n      <th>18194</th>\n      <td>245862</td>\n      <td>J. Milli</td>\n      <td>18</td>\n      <td>https://cdn.sofifa.org/players/4/19/245862.png</td>\n      <td>Italy</td>\n      <td>https://cdn.sofifa.org/flags/27.png</td>\n      <td>47</td>\n      <td>65</td>\n      <td>Lecce</td>\n      <td>https://cdn.sofifa.org/teams/2/light/347.png</td>\n      <td>...</td>\n      <td>23.0</td>\n      <td>6.0</td>\n      <td>10.0</td>\n      <td>11.0</td>\n      <td>52.0</td>\n      <td>52.0</td>\n      <td>52.0</td>\n      <td>40.0</td>\n      <td>44.0</td>\n      <td>€109K</td>\n    </tr>\n    <tr>\n      <th>18198</th>\n      <td>242844</td>\n      <td>J. Livesey</td>\n      <td>18</td>\n      <td>https://cdn.sofifa.org/players/4/19/242844.png</td>\n      <td>England</td>\n      <td>https://cdn.sofifa.org/flags/14.png</td>\n      <td>47</td>\n      <td>70</td>\n      <td>Burton Albion</td>\n      <td>https://cdn.sofifa.org/teams/2/light/15015.png</td>\n      <td>...</td>\n      <td>34.0</td>\n      <td>15.0</td>\n      <td>11.0</td>\n      <td>13.0</td>\n      <td>46.0</td>\n      <td>52.0</td>\n      <td>58.0</td>\n      <td>42.0</td>\n      <td>48.0</td>\n      <td>€165K</td>\n    </tr>\n  </tbody>\n</table>\n<p>2085 rows × 88 columns</p>\n</div>"
     },
     "metadata": {},
     "execution_count": 81
    }
   ],
   "source": [
    "df.loc[missing2085] # all the sampe"
   ]
  },
  {
   "cell_type": "code",
   "execution_count": 82,
   "metadata": {},
   "outputs": [
    {
     "output_type": "execute_result",
     "data": {
      "text/plain": [
       "           ID            Name  Age  \\\n",
       "5018   153160       R. Raldes   37   \n",
       "6736   175393         J. Arce   33   \n",
       "7922   195905    L. Gutiérrez   33   \n",
       "9905   226044       R. Vargas   23   \n",
       "10628  216751     D. Bejarano   26   \n",
       "...       ...             ...  ...   \n",
       "16793  228192      E. Lyngdoh   31   \n",
       "17129  228198        J. Singh   26   \n",
       "17339  233526        S. Passi   23   \n",
       "17436  236452  D. Lalhlimpuia   20   \n",
       "17539  234508        C. Singh   21   \n",
       "\n",
       "                                                Photo Nationality  \\\n",
       "5018   https://cdn.sofifa.org/players/4/19/153160.png     Bolivia   \n",
       "6736   https://cdn.sofifa.org/players/4/19/175393.png     Bolivia   \n",
       "7922   https://cdn.sofifa.org/players/4/19/195905.png     Bolivia   \n",
       "9905   https://cdn.sofifa.org/players/4/19/226044.png     Bolivia   \n",
       "10628  https://cdn.sofifa.org/players/4/19/216751.png     Bolivia   \n",
       "...                                               ...         ...   \n",
       "16793  https://cdn.sofifa.org/players/4/19/228192.png       India   \n",
       "17129  https://cdn.sofifa.org/players/4/19/228198.png       India   \n",
       "17339  https://cdn.sofifa.org/players/4/19/233526.png       India   \n",
       "17436  https://cdn.sofifa.org/players/4/19/236452.png       India   \n",
       "17539  https://cdn.sofifa.org/players/4/19/234508.png       India   \n",
       "\n",
       "                                       Flag  Overall  Potential Club  \\\n",
       "5018    https://cdn.sofifa.org/flags/53.png       70         70  NaN   \n",
       "6736    https://cdn.sofifa.org/flags/53.png       68         68  NaN   \n",
       "7922    https://cdn.sofifa.org/flags/53.png       67         67  NaN   \n",
       "9905    https://cdn.sofifa.org/flags/53.png       66         69  NaN   \n",
       "10628   https://cdn.sofifa.org/flags/53.png       65         66  NaN   \n",
       "...                                     ...      ...        ...  ...   \n",
       "16793  https://cdn.sofifa.org/flags/159.png       56         56  NaN   \n",
       "17129  https://cdn.sofifa.org/flags/159.png       55         58  NaN   \n",
       "17339  https://cdn.sofifa.org/flags/159.png       54         63  NaN   \n",
       "17436  https://cdn.sofifa.org/flags/159.png       54         67  NaN   \n",
       "17539  https://cdn.sofifa.org/flags/159.png       53         62  NaN   \n",
       "\n",
       "                                  Club Logo  ... Composure Marking  \\\n",
       "5018    https://cdn.sofifa.org/flags/53.png  ...      64.0    79.0   \n",
       "6736    https://cdn.sofifa.org/flags/53.png  ...      67.0    12.0   \n",
       "7922    https://cdn.sofifa.org/flags/53.png  ...      54.0    72.0   \n",
       "9905    https://cdn.sofifa.org/flags/53.png  ...      64.0    19.0   \n",
       "10628   https://cdn.sofifa.org/flags/53.png  ...      57.0    68.0   \n",
       "...                                     ...  ...       ...     ...   \n",
       "16793  https://cdn.sofifa.org/flags/159.png  ...      63.0    43.0   \n",
       "17129  https://cdn.sofifa.org/flags/159.png  ...      42.0    26.0   \n",
       "17339  https://cdn.sofifa.org/flags/159.png  ...      45.0    14.0   \n",
       "17436  https://cdn.sofifa.org/flags/159.png  ...      46.0    26.0   \n",
       "17539  https://cdn.sofifa.org/flags/159.png  ...      41.0    56.0   \n",
       "\n",
       "       StandingTackle SlidingTackle  GKDiving  GKHandling  GKKicking  \\\n",
       "5018             70.0          70.0      16.0         8.0       11.0   \n",
       "6736             34.0          33.0      16.0        13.0       15.0   \n",
       "7922             71.0          64.0      11.0         7.0        8.0   \n",
       "9905             24.0          23.0      13.0        11.0       11.0   \n",
       "10628            69.0          68.0      14.0        12.0       11.0   \n",
       "...               ...           ...       ...         ...        ...   \n",
       "16793            48.0          32.0       7.0         8.0        9.0   \n",
       "17129            18.0          13.0      15.0        14.0        8.0   \n",
       "17339            23.0          21.0       8.0         6.0       13.0   \n",
       "17436            17.0          13.0       7.0         8.0       12.0   \n",
       "17539            49.0          53.0      12.0         9.0        6.0   \n",
       "\n",
       "      GKPositioning GKReflexes Release Clause  \n",
       "5018           12.0       13.0            NaN  \n",
       "6736           16.0        8.0            NaN  \n",
       "7922           12.0       12.0            NaN  \n",
       "9905            7.0        9.0            NaN  \n",
       "10628          14.0       12.0            NaN  \n",
       "...             ...        ...            ...  \n",
       "16793          15.0        9.0            NaN  \n",
       "17129          10.0       16.0            NaN  \n",
       "17339           9.0       10.0            NaN  \n",
       "17436          11.0       11.0            NaN  \n",
       "17539          14.0        8.0            NaN  \n",
       "\n",
       "[60 rows x 88 columns]"
      ],
      "text/html": "<div>\n<style scoped>\n    .dataframe tbody tr th:only-of-type {\n        vertical-align: middle;\n    }\n\n    .dataframe tbody tr th {\n        vertical-align: top;\n    }\n\n    .dataframe thead th {\n        text-align: right;\n    }\n</style>\n<table border=\"1\" class=\"dataframe\">\n  <thead>\n    <tr style=\"text-align: right;\">\n      <th></th>\n      <th>ID</th>\n      <th>Name</th>\n      <th>Age</th>\n      <th>Photo</th>\n      <th>Nationality</th>\n      <th>Flag</th>\n      <th>Overall</th>\n      <th>Potential</th>\n      <th>Club</th>\n      <th>Club Logo</th>\n      <th>...</th>\n      <th>Composure</th>\n      <th>Marking</th>\n      <th>StandingTackle</th>\n      <th>SlidingTackle</th>\n      <th>GKDiving</th>\n      <th>GKHandling</th>\n      <th>GKKicking</th>\n      <th>GKPositioning</th>\n      <th>GKReflexes</th>\n      <th>Release Clause</th>\n    </tr>\n  </thead>\n  <tbody>\n    <tr>\n      <th>5018</th>\n      <td>153160</td>\n      <td>R. Raldes</td>\n      <td>37</td>\n      <td>https://cdn.sofifa.org/players/4/19/153160.png</td>\n      <td>Bolivia</td>\n      <td>https://cdn.sofifa.org/flags/53.png</td>\n      <td>70</td>\n      <td>70</td>\n      <td>NaN</td>\n      <td>https://cdn.sofifa.org/flags/53.png</td>\n      <td>...</td>\n      <td>64.0</td>\n      <td>79.0</td>\n      <td>70.0</td>\n      <td>70.0</td>\n      <td>16.0</td>\n      <td>8.0</td>\n      <td>11.0</td>\n      <td>12.0</td>\n      <td>13.0</td>\n      <td>NaN</td>\n    </tr>\n    <tr>\n      <th>6736</th>\n      <td>175393</td>\n      <td>J. Arce</td>\n      <td>33</td>\n      <td>https://cdn.sofifa.org/players/4/19/175393.png</td>\n      <td>Bolivia</td>\n      <td>https://cdn.sofifa.org/flags/53.png</td>\n      <td>68</td>\n      <td>68</td>\n      <td>NaN</td>\n      <td>https://cdn.sofifa.org/flags/53.png</td>\n      <td>...</td>\n      <td>67.0</td>\n      <td>12.0</td>\n      <td>34.0</td>\n      <td>33.0</td>\n      <td>16.0</td>\n      <td>13.0</td>\n      <td>15.0</td>\n      <td>16.0</td>\n      <td>8.0</td>\n      <td>NaN</td>\n    </tr>\n    <tr>\n      <th>7922</th>\n      <td>195905</td>\n      <td>L. Gutiérrez</td>\n      <td>33</td>\n      <td>https://cdn.sofifa.org/players/4/19/195905.png</td>\n      <td>Bolivia</td>\n      <td>https://cdn.sofifa.org/flags/53.png</td>\n      <td>67</td>\n      <td>67</td>\n      <td>NaN</td>\n      <td>https://cdn.sofifa.org/flags/53.png</td>\n      <td>...</td>\n      <td>54.0</td>\n      <td>72.0</td>\n      <td>71.0</td>\n      <td>64.0</td>\n      <td>11.0</td>\n      <td>7.0</td>\n      <td>8.0</td>\n      <td>12.0</td>\n      <td>12.0</td>\n      <td>NaN</td>\n    </tr>\n    <tr>\n      <th>9905</th>\n      <td>226044</td>\n      <td>R. Vargas</td>\n      <td>23</td>\n      <td>https://cdn.sofifa.org/players/4/19/226044.png</td>\n      <td>Bolivia</td>\n      <td>https://cdn.sofifa.org/flags/53.png</td>\n      <td>66</td>\n      <td>69</td>\n      <td>NaN</td>\n      <td>https://cdn.sofifa.org/flags/53.png</td>\n      <td>...</td>\n      <td>64.0</td>\n      <td>19.0</td>\n      <td>24.0</td>\n      <td>23.0</td>\n      <td>13.0</td>\n      <td>11.0</td>\n      <td>11.0</td>\n      <td>7.0</td>\n      <td>9.0</td>\n      <td>NaN</td>\n    </tr>\n    <tr>\n      <th>10628</th>\n      <td>216751</td>\n      <td>D. Bejarano</td>\n      <td>26</td>\n      <td>https://cdn.sofifa.org/players/4/19/216751.png</td>\n      <td>Bolivia</td>\n      <td>https://cdn.sofifa.org/flags/53.png</td>\n      <td>65</td>\n      <td>66</td>\n      <td>NaN</td>\n      <td>https://cdn.sofifa.org/flags/53.png</td>\n      <td>...</td>\n      <td>57.0</td>\n      <td>68.0</td>\n      <td>69.0</td>\n      <td>68.0</td>\n      <td>14.0</td>\n      <td>12.0</td>\n      <td>11.0</td>\n      <td>14.0</td>\n      <td>12.0</td>\n      <td>NaN</td>\n    </tr>\n    <tr>\n      <th>...</th>\n      <td>...</td>\n      <td>...</td>\n      <td>...</td>\n      <td>...</td>\n      <td>...</td>\n      <td>...</td>\n      <td>...</td>\n      <td>...</td>\n      <td>...</td>\n      <td>...</td>\n      <td>...</td>\n      <td>...</td>\n      <td>...</td>\n      <td>...</td>\n      <td>...</td>\n      <td>...</td>\n      <td>...</td>\n      <td>...</td>\n      <td>...</td>\n      <td>...</td>\n      <td>...</td>\n    </tr>\n    <tr>\n      <th>16793</th>\n      <td>228192</td>\n      <td>E. Lyngdoh</td>\n      <td>31</td>\n      <td>https://cdn.sofifa.org/players/4/19/228192.png</td>\n      <td>India</td>\n      <td>https://cdn.sofifa.org/flags/159.png</td>\n      <td>56</td>\n      <td>56</td>\n      <td>NaN</td>\n      <td>https://cdn.sofifa.org/flags/159.png</td>\n      <td>...</td>\n      <td>63.0</td>\n      <td>43.0</td>\n      <td>48.0</td>\n      <td>32.0</td>\n      <td>7.0</td>\n      <td>8.0</td>\n      <td>9.0</td>\n      <td>15.0</td>\n      <td>9.0</td>\n      <td>NaN</td>\n    </tr>\n    <tr>\n      <th>17129</th>\n      <td>228198</td>\n      <td>J. Singh</td>\n      <td>26</td>\n      <td>https://cdn.sofifa.org/players/4/19/228198.png</td>\n      <td>India</td>\n      <td>https://cdn.sofifa.org/flags/159.png</td>\n      <td>55</td>\n      <td>58</td>\n      <td>NaN</td>\n      <td>https://cdn.sofifa.org/flags/159.png</td>\n      <td>...</td>\n      <td>42.0</td>\n      <td>26.0</td>\n      <td>18.0</td>\n      <td>13.0</td>\n      <td>15.0</td>\n      <td>14.0</td>\n      <td>8.0</td>\n      <td>10.0</td>\n      <td>16.0</td>\n      <td>NaN</td>\n    </tr>\n    <tr>\n      <th>17339</th>\n      <td>233526</td>\n      <td>S. Passi</td>\n      <td>23</td>\n      <td>https://cdn.sofifa.org/players/4/19/233526.png</td>\n      <td>India</td>\n      <td>https://cdn.sofifa.org/flags/159.png</td>\n      <td>54</td>\n      <td>63</td>\n      <td>NaN</td>\n      <td>https://cdn.sofifa.org/flags/159.png</td>\n      <td>...</td>\n      <td>45.0</td>\n      <td>14.0</td>\n      <td>23.0</td>\n      <td>21.0</td>\n      <td>8.0</td>\n      <td>6.0</td>\n      <td>13.0</td>\n      <td>9.0</td>\n      <td>10.0</td>\n      <td>NaN</td>\n    </tr>\n    <tr>\n      <th>17436</th>\n      <td>236452</td>\n      <td>D. Lalhlimpuia</td>\n      <td>20</td>\n      <td>https://cdn.sofifa.org/players/4/19/236452.png</td>\n      <td>India</td>\n      <td>https://cdn.sofifa.org/flags/159.png</td>\n      <td>54</td>\n      <td>67</td>\n      <td>NaN</td>\n      <td>https://cdn.sofifa.org/flags/159.png</td>\n      <td>...</td>\n      <td>46.0</td>\n      <td>26.0</td>\n      <td>17.0</td>\n      <td>13.0</td>\n      <td>7.0</td>\n      <td>8.0</td>\n      <td>12.0</td>\n      <td>11.0</td>\n      <td>11.0</td>\n      <td>NaN</td>\n    </tr>\n    <tr>\n      <th>17539</th>\n      <td>234508</td>\n      <td>C. Singh</td>\n      <td>21</td>\n      <td>https://cdn.sofifa.org/players/4/19/234508.png</td>\n      <td>India</td>\n      <td>https://cdn.sofifa.org/flags/159.png</td>\n      <td>53</td>\n      <td>62</td>\n      <td>NaN</td>\n      <td>https://cdn.sofifa.org/flags/159.png</td>\n      <td>...</td>\n      <td>41.0</td>\n      <td>56.0</td>\n      <td>49.0</td>\n      <td>53.0</td>\n      <td>12.0</td>\n      <td>9.0</td>\n      <td>6.0</td>\n      <td>14.0</td>\n      <td>8.0</td>\n      <td>NaN</td>\n    </tr>\n  </tbody>\n</table>\n<p>60 rows × 88 columns</p>\n</div>"
     },
     "metadata": {},
     "execution_count": 82
    }
   ],
   "source": [
    "df[pd.isnull(df.Position)& pd.isnull(df['Jersey Number'])]"
   ]
  },
  {
   "source": [
    "Columns with numeric type"
   ],
   "cell_type": "markdown",
   "metadata": {}
  },
  {
   "source": [
    "## 3 Finishing"
   ],
   "cell_type": "markdown",
   "metadata": {}
  },
  {
   "cell_type": "code",
   "execution_count": 4,
   "metadata": {},
   "outputs": [],
   "source": [
    "X = df['Finishing']\n",
    "N = df.shape[0]\n",
    "X_var = X.var()\n",
    "nsamples = [15000,10000, 5000, 1000,100]\n",
    "sample_var_SRS = pd.DataFrame(index = nsamples)\n",
    "sample_mean_SRS = pd.DataFrame(index = nsamples)\n",
    "for n in nsamples:\n",
    "    for i in range(100):\n",
    "        sample = X.sample(n, replace = False, random_state = i)\n",
    "        sample_var_SRS.at[n,i] = (sample.var()/n)*(1-(n-1)/(N-1))\n",
    "        sample_mean_SRS.at[n,i] = sample.mean()"
   ]
  },
  {
   "cell_type": "code",
   "execution_count": 5,
   "metadata": {},
   "outputs": [
    {
     "output_type": "execute_result",
     "data": {
      "text/plain": [
       "15000    0.003527\n",
       "10000    0.015827\n",
       "5000     0.054082\n",
       "1000     0.255438\n",
       "100      3.881822\n",
       "dtype: float64"
      ]
     },
     "metadata": {},
     "execution_count": 5
    }
   ],
   "source": [
    "sample_mean_SRS.var( axis = 1)"
   ]
  },
  {
   "cell_type": "code",
   "execution_count": 5,
   "metadata": {},
   "outputs": [
    {
     "output_type": "execute_result",
     "data": {
      "text/plain": [
       "             0         1         2         3         4         5         6   \\\n",
       "15000  0.004460  0.004463  0.004480  0.004488  0.004494  0.004471  0.004490   \n",
       "10000  0.017115  0.017115  0.017327  0.017168  0.017433  0.017267  0.017173   \n",
       "5000   0.055438  0.055968  0.055681  0.055096  0.056958  0.054409  0.055706   \n",
       "1000   0.364036  0.351540  0.358462  0.370757  0.381886  0.353178  0.362671   \n",
       "100    2.731755  3.767843  3.572921  3.404106  3.397323  3.757487  4.306418   \n",
       "\n",
       "             7         8         9   ...        90        91        92  \\\n",
       "15000  0.004469  0.004517  0.004480  ...  0.004480  0.004471  0.004476   \n",
       "10000  0.017145  0.017407  0.017258  ...  0.017234  0.017130  0.017207   \n",
       "5000   0.054977  0.056291  0.055801  ...  0.055999  0.055707  0.055334   \n",
       "1000   0.357444  0.373910  0.367412  ...  0.359573  0.353196  0.341365   \n",
       "100    3.573363  3.781282  4.989949  ...  3.159191  4.079096  3.722149   \n",
       "\n",
       "             93        94        95        96        97        98        99  \n",
       "15000  0.004464  0.004502  0.004499  0.004451  0.004460  0.004477  0.004492  \n",
       "10000  0.017285  0.017271  0.017385  0.016990  0.017078  0.017159  0.017392  \n",
       "5000   0.056237  0.055771  0.055237  0.054835  0.054705  0.054692  0.055310  \n",
       "1000   0.362457  0.380500  0.368551  0.378222  0.356489  0.358790  0.361718  \n",
       "100    4.461301  3.790888  4.385931  4.005056  3.837186  4.173578  3.507340  \n",
       "\n",
       "[5 rows x 100 columns]"
      ],
      "text/html": "<div>\n<style scoped>\n    .dataframe tbody tr th:only-of-type {\n        vertical-align: middle;\n    }\n\n    .dataframe tbody tr th {\n        vertical-align: top;\n    }\n\n    .dataframe thead th {\n        text-align: right;\n    }\n</style>\n<table border=\"1\" class=\"dataframe\">\n  <thead>\n    <tr style=\"text-align: right;\">\n      <th></th>\n      <th>0</th>\n      <th>1</th>\n      <th>2</th>\n      <th>3</th>\n      <th>4</th>\n      <th>5</th>\n      <th>6</th>\n      <th>7</th>\n      <th>8</th>\n      <th>9</th>\n      <th>...</th>\n      <th>90</th>\n      <th>91</th>\n      <th>92</th>\n      <th>93</th>\n      <th>94</th>\n      <th>95</th>\n      <th>96</th>\n      <th>97</th>\n      <th>98</th>\n      <th>99</th>\n    </tr>\n  </thead>\n  <tbody>\n    <tr>\n      <th>15000</th>\n      <td>0.004460</td>\n      <td>0.004463</td>\n      <td>0.004480</td>\n      <td>0.004488</td>\n      <td>0.004494</td>\n      <td>0.004471</td>\n      <td>0.004490</td>\n      <td>0.004469</td>\n      <td>0.004517</td>\n      <td>0.004480</td>\n      <td>...</td>\n      <td>0.004480</td>\n      <td>0.004471</td>\n      <td>0.004476</td>\n      <td>0.004464</td>\n      <td>0.004502</td>\n      <td>0.004499</td>\n      <td>0.004451</td>\n      <td>0.004460</td>\n      <td>0.004477</td>\n      <td>0.004492</td>\n    </tr>\n    <tr>\n      <th>10000</th>\n      <td>0.017115</td>\n      <td>0.017115</td>\n      <td>0.017327</td>\n      <td>0.017168</td>\n      <td>0.017433</td>\n      <td>0.017267</td>\n      <td>0.017173</td>\n      <td>0.017145</td>\n      <td>0.017407</td>\n      <td>0.017258</td>\n      <td>...</td>\n      <td>0.017234</td>\n      <td>0.017130</td>\n      <td>0.017207</td>\n      <td>0.017285</td>\n      <td>0.017271</td>\n      <td>0.017385</td>\n      <td>0.016990</td>\n      <td>0.017078</td>\n      <td>0.017159</td>\n      <td>0.017392</td>\n    </tr>\n    <tr>\n      <th>5000</th>\n      <td>0.055438</td>\n      <td>0.055968</td>\n      <td>0.055681</td>\n      <td>0.055096</td>\n      <td>0.056958</td>\n      <td>0.054409</td>\n      <td>0.055706</td>\n      <td>0.054977</td>\n      <td>0.056291</td>\n      <td>0.055801</td>\n      <td>...</td>\n      <td>0.055999</td>\n      <td>0.055707</td>\n      <td>0.055334</td>\n      <td>0.056237</td>\n      <td>0.055771</td>\n      <td>0.055237</td>\n      <td>0.054835</td>\n      <td>0.054705</td>\n      <td>0.054692</td>\n      <td>0.055310</td>\n    </tr>\n    <tr>\n      <th>1000</th>\n      <td>0.364036</td>\n      <td>0.351540</td>\n      <td>0.358462</td>\n      <td>0.370757</td>\n      <td>0.381886</td>\n      <td>0.353178</td>\n      <td>0.362671</td>\n      <td>0.357444</td>\n      <td>0.373910</td>\n      <td>0.367412</td>\n      <td>...</td>\n      <td>0.359573</td>\n      <td>0.353196</td>\n      <td>0.341365</td>\n      <td>0.362457</td>\n      <td>0.380500</td>\n      <td>0.368551</td>\n      <td>0.378222</td>\n      <td>0.356489</td>\n      <td>0.358790</td>\n      <td>0.361718</td>\n    </tr>\n    <tr>\n      <th>100</th>\n      <td>2.731755</td>\n      <td>3.767843</td>\n      <td>3.572921</td>\n      <td>3.404106</td>\n      <td>3.397323</td>\n      <td>3.757487</td>\n      <td>4.306418</td>\n      <td>3.573363</td>\n      <td>3.781282</td>\n      <td>4.989949</td>\n      <td>...</td>\n      <td>3.159191</td>\n      <td>4.079096</td>\n      <td>3.722149</td>\n      <td>4.461301</td>\n      <td>3.790888</td>\n      <td>4.385931</td>\n      <td>4.005056</td>\n      <td>3.837186</td>\n      <td>4.173578</td>\n      <td>3.507340</td>\n    </tr>\n  </tbody>\n</table>\n<p>5 rows × 100 columns</p>\n</div>"
     },
     "metadata": {},
     "execution_count": 5
    }
   ],
   "source": [
    "sample_var_SRS"
   ]
  },
  {
   "cell_type": "code",
   "execution_count": 6,
   "metadata": {},
   "outputs": [
    {
     "output_type": "execute_result",
     "data": {
      "text/plain": [
       "'I was made aware that Exercise 1 on the current Assignment sheet contains a term that was not defined in the lecture, \\nand, in fact, is used incorrectly here. Instead of \"sample variance\", it should read \"variance of the sample mean\". \\nThe analytic expression for this variance is given on Slide 43 of Monday\\'s lecture. The assignment sheet has been updated.\\n'"
      ]
     },
     "metadata": {},
     "execution_count": 6
    },
    {
     "output_type": "display_data",
     "data": {
      "text/plain": "<Figure size 1152x648 with 5 Axes>",
      "image/svg+xml": "<?xml version=\"1.0\" encoding=\"utf-8\" standalone=\"no\"?>\n<!DOCTYPE svg PUBLIC \"-//W3C//DTD SVG 1.1//EN\"\n  \"http://www.w3.org/Graphics/SVG/1.1/DTD/svg11.dtd\">\n<!-- Created with matplotlib (https://matplotlib.org/) -->\n<svg height=\"549.114375pt\" version=\"1.1\" viewBox=\"0 0 965.415635 549.114375\" width=\"965.415635pt\" xmlns=\"http://www.w3.org/2000/svg\" xmlns:xlink=\"http://www.w3.org/1999/xlink\">\n <defs>\n  <style type=\"text/css\">\n*{stroke-linecap:butt;stroke-linejoin:round;}\n  </style>\n </defs>\n <g id=\"figure_1\">\n  <g id=\"patch_1\">\n   <path d=\"M 0 549.114375 \nL 965.415635 549.114375 \nL 965.415635 0 \nL 0 0 \nz\n\" style=\"fill:none;\"/>\n  </g>\n  <g id=\"axes_1\">\n   <g id=\"patch_2\">\n    <path d=\"M 62.86875 511.558125 \nL 216.799784 511.558125 \nL 216.799784 22.318125 \nL 62.86875 22.318125 \nz\n\" style=\"fill:#ffffff;\"/>\n   </g>\n   <g id=\"PathCollection_1\">\n    <defs>\n     <path d=\"M 0 3 \nC 0.795609 3 1.55874 2.683901 2.12132 2.12132 \nC 2.683901 1.55874 3 0.795609 3 0 \nC 3 -0.795609 2.683901 -1.55874 2.12132 -2.12132 \nC 1.55874 -2.683901 0.795609 -3 0 -3 \nC -0.795609 -3 -1.55874 -2.683901 -2.12132 -2.12132 \nC -2.683901 -1.55874 -3 -0.795609 -3 0 \nC -3 0.795609 -2.683901 1.55874 -2.12132 2.12132 \nC -1.55874 2.683901 -0.795609 3 0 3 \nz\n\" id=\"m9bd8212b29\" style=\"stroke:#1f77b4;\"/>\n    </defs>\n    <g clip-path=\"url(#pb1955e992e)\">\n     <use style=\"fill:#1f77b4;stroke:#1f77b4;\" x=\"69.865615\" xlink:href=\"#m9bd8212b29\" y=\"70.663185\"/>\n     <use style=\"fill:#1f77b4;stroke:#1f77b4;\" x=\"71.279123\" xlink:href=\"#m9bd8212b29\" y=\"69.355231\"/>\n     <use style=\"fill:#1f77b4;stroke:#1f77b4;\" x=\"72.692631\" xlink:href=\"#m9bd8212b29\" y=\"61.958154\"/>\n     <use style=\"fill:#1f77b4;stroke:#1f77b4;\" x=\"74.10614\" xlink:href=\"#m9bd8212b29\" y=\"58.004688\"/>\n     <use style=\"fill:#1f77b4;stroke:#1f77b4;\" x=\"75.519648\" xlink:href=\"#m9bd8212b29\" y=\"55.682053\"/>\n     <use style=\"fill:#1f77b4;stroke:#1f77b4;\" x=\"76.933156\" xlink:href=\"#m9bd8212b29\" y=\"65.997665\"/>\n     <use style=\"fill:#1f77b4;stroke:#1f77b4;\" x=\"78.346664\" xlink:href=\"#m9bd8212b29\" y=\"57.391799\"/>\n     <use style=\"fill:#1f77b4;stroke:#1f77b4;\" x=\"79.760172\" xlink:href=\"#m9bd8212b29\" y=\"66.768208\"/>\n     <use style=\"fill:#1f77b4;stroke:#1f77b4;\" x=\"81.17368\" xlink:href=\"#m9bd8212b29\" y=\"45.200198\"/>\n     <use style=\"fill:#1f77b4;stroke:#1f77b4;\" x=\"82.587188\" xlink:href=\"#m9bd8212b29\" y=\"61.5791\"/>\n     <use style=\"fill:#1f77b4;stroke:#1f77b4;\" x=\"84.000696\" xlink:href=\"#m9bd8212b29\" y=\"53.711011\"/>\n     <use style=\"fill:#1f77b4;stroke:#1f77b4;\" x=\"85.414205\" xlink:href=\"#m9bd8212b29\" y=\"52.327608\"/>\n     <use style=\"fill:#1f77b4;stroke:#1f77b4;\" x=\"86.827713\" xlink:href=\"#m9bd8212b29\" y=\"68.761145\"/>\n     <use style=\"fill:#1f77b4;stroke:#1f77b4;\" x=\"88.241221\" xlink:href=\"#m9bd8212b29\" y=\"71.108632\"/>\n     <use style=\"fill:#1f77b4;stroke:#1f77b4;\" x=\"89.654729\" xlink:href=\"#m9bd8212b29\" y=\"62.51685\"/>\n     <use style=\"fill:#1f77b4;stroke:#1f77b4;\" x=\"91.068237\" xlink:href=\"#m9bd8212b29\" y=\"64.538976\"/>\n     <use style=\"fill:#1f77b4;stroke:#1f77b4;\" x=\"92.481745\" xlink:href=\"#m9bd8212b29\" y=\"60.027638\"/>\n     <use style=\"fill:#1f77b4;stroke:#1f77b4;\" x=\"93.895253\" xlink:href=\"#m9bd8212b29\" y=\"76.024791\"/>\n     <use style=\"fill:#1f77b4;stroke:#1f77b4;\" x=\"95.308761\" xlink:href=\"#m9bd8212b29\" y=\"68.131215\"/>\n     <use style=\"fill:#1f77b4;stroke:#1f77b4;\" x=\"96.72227\" xlink:href=\"#m9bd8212b29\" y=\"59.58645\"/>\n     <use style=\"fill:#1f77b4;stroke:#1f77b4;\" x=\"98.135778\" xlink:href=\"#m9bd8212b29\" y=\"57.747941\"/>\n     <use style=\"fill:#1f77b4;stroke:#1f77b4;\" x=\"99.549286\" xlink:href=\"#m9bd8212b29\" y=\"52.284654\"/>\n     <use style=\"fill:#1f77b4;stroke:#1f77b4;\" x=\"100.962794\" xlink:href=\"#m9bd8212b29\" y=\"74.688255\"/>\n     <use style=\"fill:#1f77b4;stroke:#1f77b4;\" x=\"102.376302\" xlink:href=\"#m9bd8212b29\" y=\"65.481428\"/>\n     <use style=\"fill:#1f77b4;stroke:#1f77b4;\" x=\"103.78981\" xlink:href=\"#m9bd8212b29\" y=\"53.034449\"/>\n     <use style=\"fill:#1f77b4;stroke:#1f77b4;\" x=\"105.203318\" xlink:href=\"#m9bd8212b29\" y=\"75.704906\"/>\n     <use style=\"fill:#1f77b4;stroke:#1f77b4;\" x=\"106.616826\" xlink:href=\"#m9bd8212b29\" y=\"69.188362\"/>\n     <use style=\"fill:#1f77b4;stroke:#1f77b4;\" x=\"108.030334\" xlink:href=\"#m9bd8212b29\" y=\"65.872696\"/>\n     <use style=\"fill:#1f77b4;stroke:#1f77b4;\" x=\"109.443843\" xlink:href=\"#m9bd8212b29\" y=\"44.556307\"/>\n     <use style=\"fill:#1f77b4;stroke:#1f77b4;\" x=\"110.857351\" xlink:href=\"#m9bd8212b29\" y=\"58.480723\"/>\n     <use style=\"fill:#1f77b4;stroke:#1f77b4;\" x=\"112.270859\" xlink:href=\"#m9bd8212b29\" y=\"59.226379\"/>\n     <use style=\"fill:#1f77b4;stroke:#1f77b4;\" x=\"113.684367\" xlink:href=\"#m9bd8212b29\" y=\"62.439922\"/>\n     <use style=\"fill:#1f77b4;stroke:#1f77b4;\" x=\"115.097875\" xlink:href=\"#m9bd8212b29\" y=\"77.324457\"/>\n     <use style=\"fill:#1f77b4;stroke:#1f77b4;\" x=\"116.511383\" xlink:href=\"#m9bd8212b29\" y=\"57.845997\"/>\n     <use style=\"fill:#1f77b4;stroke:#1f77b4;\" x=\"117.924891\" xlink:href=\"#m9bd8212b29\" y=\"68.515897\"/>\n     <use style=\"fill:#1f77b4;stroke:#1f77b4;\" x=\"119.338399\" xlink:href=\"#m9bd8212b29\" y=\"58.991654\"/>\n     <use style=\"fill:#1f77b4;stroke:#1f77b4;\" x=\"120.751908\" xlink:href=\"#m9bd8212b29\" y=\"71.850015\"/>\n     <use style=\"fill:#1f77b4;stroke:#1f77b4;\" x=\"122.165416\" xlink:href=\"#m9bd8212b29\" y=\"71.221543\"/>\n     <use style=\"fill:#1f77b4;stroke:#1f77b4;\" x=\"123.578924\" xlink:href=\"#m9bd8212b29\" y=\"70.937494\"/>\n     <use style=\"fill:#1f77b4;stroke:#1f77b4;\" x=\"124.992432\" xlink:href=\"#m9bd8212b29\" y=\"54.126814\"/>\n     <use style=\"fill:#1f77b4;stroke:#1f77b4;\" x=\"126.40594\" xlink:href=\"#m9bd8212b29\" y=\"70.166329\"/>\n     <use style=\"fill:#1f77b4;stroke:#1f77b4;\" x=\"127.819448\" xlink:href=\"#m9bd8212b29\" y=\"61.158705\"/>\n     <use style=\"fill:#1f77b4;stroke:#1f77b4;\" x=\"129.232956\" xlink:href=\"#m9bd8212b29\" y=\"65.827568\"/>\n     <use style=\"fill:#1f77b4;stroke:#1f77b4;\" x=\"130.646464\" xlink:href=\"#m9bd8212b29\" y=\"63.887451\"/>\n     <use style=\"fill:#1f77b4;stroke:#1f77b4;\" x=\"132.059973\" xlink:href=\"#m9bd8212b29\" y=\"75.171944\"/>\n     <use style=\"fill:#1f77b4;stroke:#1f77b4;\" x=\"133.473481\" xlink:href=\"#m9bd8212b29\" y=\"66.551975\"/>\n     <use style=\"fill:#1f77b4;stroke:#1f77b4;\" x=\"134.886989\" xlink:href=\"#m9bd8212b29\" y=\"64.527887\"/>\n     <use style=\"fill:#1f77b4;stroke:#1f77b4;\" x=\"136.300497\" xlink:href=\"#m9bd8212b29\" y=\"54.228468\"/>\n     <use style=\"fill:#1f77b4;stroke:#1f77b4;\" x=\"137.714005\" xlink:href=\"#m9bd8212b29\" y=\"59.371511\"/>\n     <use style=\"fill:#1f77b4;stroke:#1f77b4;\" x=\"139.127513\" xlink:href=\"#m9bd8212b29\" y=\"62.530698\"/>\n     <use style=\"fill:#1f77b4;stroke:#1f77b4;\" x=\"140.541021\" xlink:href=\"#m9bd8212b29\" y=\"65.063434\"/>\n     <use style=\"fill:#1f77b4;stroke:#1f77b4;\" x=\"141.954529\" xlink:href=\"#m9bd8212b29\" y=\"72.696234\"/>\n     <use style=\"fill:#1f77b4;stroke:#1f77b4;\" x=\"143.368038\" xlink:href=\"#m9bd8212b29\" y=\"68.276219\"/>\n     <use style=\"fill:#1f77b4;stroke:#1f77b4;\" x=\"144.781546\" xlink:href=\"#m9bd8212b29\" y=\"70.059609\"/>\n     <use style=\"fill:#1f77b4;stroke:#1f77b4;\" x=\"146.195054\" xlink:href=\"#m9bd8212b29\" y=\"66.997871\"/>\n     <use style=\"fill:#1f77b4;stroke:#1f77b4;\" x=\"147.608562\" xlink:href=\"#m9bd8212b29\" y=\"62.167407\"/>\n     <use style=\"fill:#1f77b4;stroke:#1f77b4;\" x=\"149.02207\" xlink:href=\"#m9bd8212b29\" y=\"63.912253\"/>\n     <use style=\"fill:#1f77b4;stroke:#1f77b4;\" x=\"150.435578\" xlink:href=\"#m9bd8212b29\" y=\"66.603873\"/>\n     <use style=\"fill:#1f77b4;stroke:#1f77b4;\" x=\"151.849086\" xlink:href=\"#m9bd8212b29\" y=\"54.023217\"/>\n     <use style=\"fill:#1f77b4;stroke:#1f77b4;\" x=\"153.262594\" xlink:href=\"#m9bd8212b29\" y=\"70.250885\"/>\n     <use style=\"fill:#1f77b4;stroke:#1f77b4;\" x=\"154.676103\" xlink:href=\"#m9bd8212b29\" y=\"61.658273\"/>\n     <use style=\"fill:#1f77b4;stroke:#1f77b4;\" x=\"156.089611\" xlink:href=\"#m9bd8212b29\" y=\"56.283673\"/>\n     <use style=\"fill:#1f77b4;stroke:#1f77b4;\" x=\"157.503119\" xlink:href=\"#m9bd8212b29\" y=\"58.991707\"/>\n     <use style=\"fill:#1f77b4;stroke:#1f77b4;\" x=\"158.916627\" xlink:href=\"#m9bd8212b29\" y=\"51.515258\"/>\n     <use style=\"fill:#1f77b4;stroke:#1f77b4;\" x=\"160.330135\" xlink:href=\"#m9bd8212b29\" y=\"66.308338\"/>\n     <use style=\"fill:#1f77b4;stroke:#1f77b4;\" x=\"161.743643\" xlink:href=\"#m9bd8212b29\" y=\"56.419595\"/>\n     <use style=\"fill:#1f77b4;stroke:#1f77b4;\" x=\"163.157151\" xlink:href=\"#m9bd8212b29\" y=\"75.549191\"/>\n     <use style=\"fill:#1f77b4;stroke:#1f77b4;\" x=\"164.570659\" xlink:href=\"#m9bd8212b29\" y=\"58.047869\"/>\n     <use style=\"fill:#1f77b4;stroke:#1f77b4;\" x=\"165.984167\" xlink:href=\"#m9bd8212b29\" y=\"66.976681\"/>\n     <use style=\"fill:#1f77b4;stroke:#1f77b4;\" x=\"167.397676\" xlink:href=\"#m9bd8212b29\" y=\"57.362939\"/>\n     <use style=\"fill:#1f77b4;stroke:#1f77b4;\" x=\"168.811184\" xlink:href=\"#m9bd8212b29\" y=\"69.062099\"/>\n     <use style=\"fill:#1f77b4;stroke:#1f77b4;\" x=\"170.224692\" xlink:href=\"#m9bd8212b29\" y=\"65.082642\"/>\n     <use style=\"fill:#1f77b4;stroke:#1f77b4;\" x=\"171.6382\" xlink:href=\"#m9bd8212b29\" y=\"68.72294\"/>\n     <use style=\"fill:#1f77b4;stroke:#1f77b4;\" x=\"173.051708\" xlink:href=\"#m9bd8212b29\" y=\"76.16374\"/>\n     <use style=\"fill:#1f77b4;stroke:#1f77b4;\" x=\"174.465216\" xlink:href=\"#m9bd8212b29\" y=\"72.668351\"/>\n     <use style=\"fill:#1f77b4;stroke:#1f77b4;\" x=\"175.878724\" xlink:href=\"#m9bd8212b29\" y=\"59.42218\"/>\n     <use style=\"fill:#1f77b4;stroke:#1f77b4;\" x=\"177.292232\" xlink:href=\"#m9bd8212b29\" y=\"55.84541\"/>\n     <use style=\"fill:#1f77b4;stroke:#1f77b4;\" x=\"178.705741\" xlink:href=\"#m9bd8212b29\" y=\"64.069008\"/>\n     <use style=\"fill:#1f77b4;stroke:#1f77b4;\" x=\"180.119249\" xlink:href=\"#m9bd8212b29\" y=\"70.877686\"/>\n     <use style=\"fill:#1f77b4;stroke:#1f77b4;\" x=\"181.532757\" xlink:href=\"#m9bd8212b29\" y=\"60.909159\"/>\n     <use style=\"fill:#1f77b4;stroke:#1f77b4;\" x=\"182.946265\" xlink:href=\"#m9bd8212b29\" y=\"58.233102\"/>\n     <use style=\"fill:#1f77b4;stroke:#1f77b4;\" x=\"184.359773\" xlink:href=\"#m9bd8212b29\" y=\"64.106425\"/>\n     <use style=\"fill:#1f77b4;stroke:#1f77b4;\" x=\"185.773281\" xlink:href=\"#m9bd8212b29\" y=\"57.83852\"/>\n     <use style=\"fill:#1f77b4;stroke:#1f77b4;\" x=\"187.186789\" xlink:href=\"#m9bd8212b29\" y=\"80.758211\"/>\n     <use style=\"fill:#1f77b4;stroke:#1f77b4;\" x=\"188.600297\" xlink:href=\"#m9bd8212b29\" y=\"70.723375\"/>\n     <use style=\"fill:#1f77b4;stroke:#1f77b4;\" x=\"190.013806\" xlink:href=\"#m9bd8212b29\" y=\"49.528945\"/>\n     <use style=\"fill:#1f77b4;stroke:#1f77b4;\" x=\"191.427314\" xlink:href=\"#m9bd8212b29\" y=\"62.35102\"/>\n     <use style=\"fill:#1f77b4;stroke:#1f77b4;\" x=\"192.840822\" xlink:href=\"#m9bd8212b29\" y=\"55.269924\"/>\n     <use style=\"fill:#1f77b4;stroke:#1f77b4;\" x=\"194.25433\" xlink:href=\"#m9bd8212b29\" y=\"62.535567\"/>\n     <use style=\"fill:#1f77b4;stroke:#1f77b4;\" x=\"195.667838\" xlink:href=\"#m9bd8212b29\" y=\"67.575692\"/>\n     <use style=\"fill:#1f77b4;stroke:#1f77b4;\" x=\"197.081346\" xlink:href=\"#m9bd8212b29\" y=\"61.929919\"/>\n     <use style=\"fill:#1f77b4;stroke:#1f77b4;\" x=\"198.494854\" xlink:href=\"#m9bd8212b29\" y=\"65.935831\"/>\n     <use style=\"fill:#1f77b4;stroke:#1f77b4;\" x=\"199.908362\" xlink:href=\"#m9bd8212b29\" y=\"63.554858\"/>\n     <use style=\"fill:#1f77b4;stroke:#1f77b4;\" x=\"201.321871\" xlink:href=\"#m9bd8212b29\" y=\"68.785853\"/>\n     <use style=\"fill:#1f77b4;stroke:#1f77b4;\" x=\"202.735379\" xlink:href=\"#m9bd8212b29\" y=\"51.798063\"/>\n     <use style=\"fill:#1f77b4;stroke:#1f77b4;\" x=\"204.148887\" xlink:href=\"#m9bd8212b29\" y=\"53.061671\"/>\n     <use style=\"fill:#1f77b4;stroke:#1f77b4;\" x=\"205.562395\" xlink:href=\"#m9bd8212b29\" y=\"74.714346\"/>\n     <use style=\"fill:#1f77b4;stroke:#1f77b4;\" x=\"206.975903\" xlink:href=\"#m9bd8212b29\" y=\"70.609554\"/>\n     <use style=\"fill:#1f77b4;stroke:#1f77b4;\" x=\"208.389411\" xlink:href=\"#m9bd8212b29\" y=\"63.24502\"/>\n     <use style=\"fill:#1f77b4;stroke:#1f77b4;\" x=\"209.802919\" xlink:href=\"#m9bd8212b29\" y=\"56.357904\"/>\n    </g>\n   </g>\n   <g id=\"matplotlib.axis_1\">\n    <g id=\"xtick_1\">\n     <g id=\"line2d_1\">\n      <defs>\n       <path d=\"M 0 0 \nL 0 3.5 \n\" id=\"m5e8504a32e\" style=\"stroke:#000000;stroke-width:0.8;\"/>\n      </defs>\n      <g>\n       <use style=\"stroke:#000000;stroke-width:0.8;\" x=\"68.452107\" xlink:href=\"#m5e8504a32e\" y=\"511.558125\"/>\n      </g>\n     </g>\n     <g id=\"text_1\">\n      <!-- 0 -->\n      <defs>\n       <path d=\"M 31.78125 66.40625 \nQ 24.171875 66.40625 20.328125 58.90625 \nQ 16.5 51.421875 16.5 36.375 \nQ 16.5 21.390625 20.328125 13.890625 \nQ 24.171875 6.390625 31.78125 6.390625 \nQ 39.453125 6.390625 43.28125 13.890625 \nQ 47.125 21.390625 47.125 36.375 \nQ 47.125 51.421875 43.28125 58.90625 \nQ 39.453125 66.40625 31.78125 66.40625 \nz\nM 31.78125 74.21875 \nQ 44.046875 74.21875 50.515625 64.515625 \nQ 56.984375 54.828125 56.984375 36.375 \nQ 56.984375 17.96875 50.515625 8.265625 \nQ 44.046875 -1.421875 31.78125 -1.421875 \nQ 19.53125 -1.421875 13.0625 8.265625 \nQ 6.59375 17.96875 6.59375 36.375 \nQ 6.59375 54.828125 13.0625 64.515625 \nQ 19.53125 74.21875 31.78125 74.21875 \nz\n\" id=\"DejaVuSans-48\"/>\n      </defs>\n      <g transform=\"translate(65.270857 526.156562)scale(0.1 -0.1)\">\n       <use xlink:href=\"#DejaVuSans-48\"/>\n      </g>\n     </g>\n    </g>\n    <g id=\"xtick_2\">\n     <g id=\"line2d_2\">\n      <g>\n       <use style=\"stroke:#000000;stroke-width:0.8;\" x=\"103.78981\" xlink:href=\"#m5e8504a32e\" y=\"511.558125\"/>\n      </g>\n     </g>\n     <g id=\"text_2\">\n      <!-- 25 -->\n      <defs>\n       <path d=\"M 19.1875 8.296875 \nL 53.609375 8.296875 \nL 53.609375 0 \nL 7.328125 0 \nL 7.328125 8.296875 \nQ 12.9375 14.109375 22.625 23.890625 \nQ 32.328125 33.6875 34.8125 36.53125 \nQ 39.546875 41.84375 41.421875 45.53125 \nQ 43.3125 49.21875 43.3125 52.78125 \nQ 43.3125 58.59375 39.234375 62.25 \nQ 35.15625 65.921875 28.609375 65.921875 \nQ 23.96875 65.921875 18.8125 64.3125 \nQ 13.671875 62.703125 7.8125 59.421875 \nL 7.8125 69.390625 \nQ 13.765625 71.78125 18.9375 73 \nQ 24.125 74.21875 28.421875 74.21875 \nQ 39.75 74.21875 46.484375 68.546875 \nQ 53.21875 62.890625 53.21875 53.421875 \nQ 53.21875 48.921875 51.53125 44.890625 \nQ 49.859375 40.875 45.40625 35.40625 \nQ 44.1875 33.984375 37.640625 27.21875 \nQ 31.109375 20.453125 19.1875 8.296875 \nz\n\" id=\"DejaVuSans-50\"/>\n       <path d=\"M 10.796875 72.90625 \nL 49.515625 72.90625 \nL 49.515625 64.59375 \nL 19.828125 64.59375 \nL 19.828125 46.734375 \nQ 21.96875 47.46875 24.109375 47.828125 \nQ 26.265625 48.1875 28.421875 48.1875 \nQ 40.625 48.1875 47.75 41.5 \nQ 54.890625 34.8125 54.890625 23.390625 \nQ 54.890625 11.625 47.5625 5.09375 \nQ 40.234375 -1.421875 26.90625 -1.421875 \nQ 22.3125 -1.421875 17.546875 -0.640625 \nQ 12.796875 0.140625 7.71875 1.703125 \nL 7.71875 11.625 \nQ 12.109375 9.234375 16.796875 8.0625 \nQ 21.484375 6.890625 26.703125 6.890625 \nQ 35.15625 6.890625 40.078125 11.328125 \nQ 45.015625 15.765625 45.015625 23.390625 \nQ 45.015625 31 40.078125 35.4375 \nQ 35.15625 39.890625 26.703125 39.890625 \nQ 22.75 39.890625 18.8125 39.015625 \nQ 14.890625 38.140625 10.796875 36.28125 \nz\n\" id=\"DejaVuSans-53\"/>\n      </defs>\n      <g transform=\"translate(97.42731 526.156562)scale(0.1 -0.1)\">\n       <use xlink:href=\"#DejaVuSans-50\"/>\n       <use x=\"63.623047\" xlink:href=\"#DejaVuSans-53\"/>\n      </g>\n     </g>\n    </g>\n    <g id=\"xtick_3\">\n     <g id=\"line2d_3\">\n      <g>\n       <use style=\"stroke:#000000;stroke-width:0.8;\" x=\"139.127513\" xlink:href=\"#m5e8504a32e\" y=\"511.558125\"/>\n      </g>\n     </g>\n     <g id=\"text_3\">\n      <!-- 50 -->\n      <g transform=\"translate(132.765013 526.156562)scale(0.1 -0.1)\">\n       <use xlink:href=\"#DejaVuSans-53\"/>\n       <use x=\"63.623047\" xlink:href=\"#DejaVuSans-48\"/>\n      </g>\n     </g>\n    </g>\n    <g id=\"xtick_4\">\n     <g id=\"line2d_4\">\n      <g>\n       <use style=\"stroke:#000000;stroke-width:0.8;\" x=\"174.465216\" xlink:href=\"#m5e8504a32e\" y=\"511.558125\"/>\n      </g>\n     </g>\n     <g id=\"text_4\">\n      <!-- 75 -->\n      <defs>\n       <path d=\"M 8.203125 72.90625 \nL 55.078125 72.90625 \nL 55.078125 68.703125 \nL 28.609375 0 \nL 18.3125 0 \nL 43.21875 64.59375 \nL 8.203125 64.59375 \nz\n\" id=\"DejaVuSans-55\"/>\n      </defs>\n      <g transform=\"translate(168.102716 526.156562)scale(0.1 -0.1)\">\n       <use xlink:href=\"#DejaVuSans-55\"/>\n       <use x=\"63.623047\" xlink:href=\"#DejaVuSans-53\"/>\n      </g>\n     </g>\n    </g>\n    <g id=\"xtick_5\">\n     <g id=\"line2d_5\">\n      <g>\n       <use style=\"stroke:#000000;stroke-width:0.8;\" x=\"209.802919\" xlink:href=\"#m5e8504a32e\" y=\"511.558125\"/>\n      </g>\n     </g>\n     <g id=\"text_5\">\n      <!-- 100 -->\n      <defs>\n       <path d=\"M 12.40625 8.296875 \nL 28.515625 8.296875 \nL 28.515625 63.921875 \nL 10.984375 60.40625 \nL 10.984375 69.390625 \nL 28.421875 72.90625 \nL 38.28125 72.90625 \nL 38.28125 8.296875 \nL 54.390625 8.296875 \nL 54.390625 0 \nL 12.40625 0 \nz\n\" id=\"DejaVuSans-49\"/>\n      </defs>\n      <g transform=\"translate(200.259169 526.156562)scale(0.1 -0.1)\">\n       <use xlink:href=\"#DejaVuSans-49\"/>\n       <use x=\"63.623047\" xlink:href=\"#DejaVuSans-48\"/>\n       <use x=\"127.246094\" xlink:href=\"#DejaVuSans-48\"/>\n      </g>\n     </g>\n    </g>\n    <g id=\"text_6\">\n     <!-- Sample # -->\n     <defs>\n      <path d=\"M 53.515625 70.515625 \nL 53.515625 60.890625 \nQ 47.90625 63.578125 42.921875 64.890625 \nQ 37.9375 66.21875 33.296875 66.21875 \nQ 25.25 66.21875 20.875 63.09375 \nQ 16.5 59.96875 16.5 54.203125 \nQ 16.5 49.359375 19.40625 46.890625 \nQ 22.3125 44.4375 30.421875 42.921875 \nL 36.375 41.703125 \nQ 47.40625 39.59375 52.65625 34.296875 \nQ 57.90625 29 57.90625 20.125 \nQ 57.90625 9.515625 50.796875 4.046875 \nQ 43.703125 -1.421875 29.984375 -1.421875 \nQ 24.8125 -1.421875 18.96875 -0.25 \nQ 13.140625 0.921875 6.890625 3.21875 \nL 6.890625 13.375 \nQ 12.890625 10.015625 18.65625 8.296875 \nQ 24.421875 6.59375 29.984375 6.59375 \nQ 38.421875 6.59375 43.015625 9.90625 \nQ 47.609375 13.234375 47.609375 19.390625 \nQ 47.609375 24.75 44.3125 27.78125 \nQ 41.015625 30.8125 33.5 32.328125 \nL 27.484375 33.5 \nQ 16.453125 35.6875 11.515625 40.375 \nQ 6.59375 45.0625 6.59375 53.421875 \nQ 6.59375 63.09375 13.40625 68.65625 \nQ 20.21875 74.21875 32.171875 74.21875 \nQ 37.3125 74.21875 42.625 73.28125 \nQ 47.953125 72.359375 53.515625 70.515625 \nz\n\" id=\"DejaVuSans-83\"/>\n      <path d=\"M 34.28125 27.484375 \nQ 23.390625 27.484375 19.1875 25 \nQ 14.984375 22.515625 14.984375 16.5 \nQ 14.984375 11.71875 18.140625 8.90625 \nQ 21.296875 6.109375 26.703125 6.109375 \nQ 34.1875 6.109375 38.703125 11.40625 \nQ 43.21875 16.703125 43.21875 25.484375 \nL 43.21875 27.484375 \nz\nM 52.203125 31.203125 \nL 52.203125 0 \nL 43.21875 0 \nL 43.21875 8.296875 \nQ 40.140625 3.328125 35.546875 0.953125 \nQ 30.953125 -1.421875 24.3125 -1.421875 \nQ 15.921875 -1.421875 10.953125 3.296875 \nQ 6 8.015625 6 15.921875 \nQ 6 25.140625 12.171875 29.828125 \nQ 18.359375 34.515625 30.609375 34.515625 \nL 43.21875 34.515625 \nL 43.21875 35.40625 \nQ 43.21875 41.609375 39.140625 45 \nQ 35.0625 48.390625 27.6875 48.390625 \nQ 23 48.390625 18.546875 47.265625 \nQ 14.109375 46.140625 10.015625 43.890625 \nL 10.015625 52.203125 \nQ 14.9375 54.109375 19.578125 55.046875 \nQ 24.21875 56 28.609375 56 \nQ 40.484375 56 46.34375 49.84375 \nQ 52.203125 43.703125 52.203125 31.203125 \nz\n\" id=\"DejaVuSans-97\"/>\n      <path d=\"M 52 44.1875 \nQ 55.375 50.25 60.0625 53.125 \nQ 64.75 56 71.09375 56 \nQ 79.640625 56 84.28125 50.015625 \nQ 88.921875 44.046875 88.921875 33.015625 \nL 88.921875 0 \nL 79.890625 0 \nL 79.890625 32.71875 \nQ 79.890625 40.578125 77.09375 44.375 \nQ 74.3125 48.1875 68.609375 48.1875 \nQ 61.625 48.1875 57.5625 43.546875 \nQ 53.515625 38.921875 53.515625 30.90625 \nL 53.515625 0 \nL 44.484375 0 \nL 44.484375 32.71875 \nQ 44.484375 40.625 41.703125 44.40625 \nQ 38.921875 48.1875 33.109375 48.1875 \nQ 26.21875 48.1875 22.15625 43.53125 \nQ 18.109375 38.875 18.109375 30.90625 \nL 18.109375 0 \nL 9.078125 0 \nL 9.078125 54.6875 \nL 18.109375 54.6875 \nL 18.109375 46.1875 \nQ 21.1875 51.21875 25.484375 53.609375 \nQ 29.78125 56 35.6875 56 \nQ 41.65625 56 45.828125 52.96875 \nQ 50 49.953125 52 44.1875 \nz\n\" id=\"DejaVuSans-109\"/>\n      <path d=\"M 18.109375 8.203125 \nL 18.109375 -20.796875 \nL 9.078125 -20.796875 \nL 9.078125 54.6875 \nL 18.109375 54.6875 \nL 18.109375 46.390625 \nQ 20.953125 51.265625 25.265625 53.625 \nQ 29.59375 56 35.59375 56 \nQ 45.5625 56 51.78125 48.09375 \nQ 58.015625 40.1875 58.015625 27.296875 \nQ 58.015625 14.40625 51.78125 6.484375 \nQ 45.5625 -1.421875 35.59375 -1.421875 \nQ 29.59375 -1.421875 25.265625 0.953125 \nQ 20.953125 3.328125 18.109375 8.203125 \nz\nM 48.6875 27.296875 \nQ 48.6875 37.203125 44.609375 42.84375 \nQ 40.53125 48.484375 33.40625 48.484375 \nQ 26.265625 48.484375 22.1875 42.84375 \nQ 18.109375 37.203125 18.109375 27.296875 \nQ 18.109375 17.390625 22.1875 11.75 \nQ 26.265625 6.109375 33.40625 6.109375 \nQ 40.53125 6.109375 44.609375 11.75 \nQ 48.6875 17.390625 48.6875 27.296875 \nz\n\" id=\"DejaVuSans-112\"/>\n      <path d=\"M 9.421875 75.984375 \nL 18.40625 75.984375 \nL 18.40625 0 \nL 9.421875 0 \nz\n\" id=\"DejaVuSans-108\"/>\n      <path d=\"M 56.203125 29.59375 \nL 56.203125 25.203125 \nL 14.890625 25.203125 \nQ 15.484375 15.921875 20.484375 11.0625 \nQ 25.484375 6.203125 34.421875 6.203125 \nQ 39.59375 6.203125 44.453125 7.46875 \nQ 49.3125 8.734375 54.109375 11.28125 \nL 54.109375 2.78125 \nQ 49.265625 0.734375 44.1875 -0.34375 \nQ 39.109375 -1.421875 33.890625 -1.421875 \nQ 20.796875 -1.421875 13.15625 6.1875 \nQ 5.515625 13.8125 5.515625 26.8125 \nQ 5.515625 40.234375 12.765625 48.109375 \nQ 20.015625 56 32.328125 56 \nQ 43.359375 56 49.78125 48.890625 \nQ 56.203125 41.796875 56.203125 29.59375 \nz\nM 47.21875 32.234375 \nQ 47.125 39.59375 43.09375 43.984375 \nQ 39.0625 48.390625 32.421875 48.390625 \nQ 24.90625 48.390625 20.390625 44.140625 \nQ 15.875 39.890625 15.1875 32.171875 \nz\n\" id=\"DejaVuSans-101\"/>\n      <path id=\"DejaVuSans-32\"/>\n      <path d=\"M 51.125 44 \nL 36.921875 44 \nL 32.8125 27.6875 \nL 47.125 27.6875 \nz\nM 43.796875 71.78125 \nL 38.71875 51.515625 \nL 52.984375 51.515625 \nL 58.109375 71.78125 \nL 65.921875 71.78125 \nL 60.890625 51.515625 \nL 76.125 51.515625 \nL 76.125 44 \nL 58.984375 44 \nL 54.984375 27.6875 \nL 70.515625 27.6875 \nL 70.515625 20.21875 \nL 53.078125 20.21875 \nL 48 0 \nL 40.1875 0 \nL 45.21875 20.21875 \nL 30.90625 20.21875 \nL 25.875 0 \nL 18.015625 0 \nL 23.09375 20.21875 \nL 7.71875 20.21875 \nL 7.71875 27.6875 \nL 24.90625 27.6875 \nL 29 44 \nL 13.28125 44 \nL 13.28125 51.515625 \nL 30.90625 51.515625 \nL 35.890625 71.78125 \nz\n\" id=\"DejaVuSans-35\"/>\n     </defs>\n     <g transform=\"translate(115.306923 539.834687)scale(0.1 -0.1)\">\n      <use xlink:href=\"#DejaVuSans-83\"/>\n      <use x=\"63.476562\" xlink:href=\"#DejaVuSans-97\"/>\n      <use x=\"124.755859\" xlink:href=\"#DejaVuSans-109\"/>\n      <use x=\"222.167969\" xlink:href=\"#DejaVuSans-112\"/>\n      <use x=\"285.644531\" xlink:href=\"#DejaVuSans-108\"/>\n      <use x=\"313.427734\" xlink:href=\"#DejaVuSans-101\"/>\n      <use x=\"374.951172\" xlink:href=\"#DejaVuSans-32\"/>\n      <use x=\"406.738281\" xlink:href=\"#DejaVuSans-35\"/>\n     </g>\n    </g>\n   </g>\n   <g id=\"matplotlib.axis_2\">\n    <g id=\"ytick_1\">\n     <g id=\"line2d_6\">\n      <defs>\n       <path d=\"M 0 0 \nL -3.5 0 \n\" id=\"me1a24a701e\" style=\"stroke:#000000;stroke-width:0.8;\"/>\n      </defs>\n      <g>\n       <use style=\"stroke:#000000;stroke-width:0.8;\" x=\"62.86875\" xlink:href=\"#me1a24a701e\" y=\"456.682661\"/>\n      </g>\n     </g>\n     <g id=\"text_7\">\n      <!-- 0.0036 -->\n      <defs>\n       <path d=\"M 10.6875 12.40625 \nL 21 12.40625 \nL 21 0 \nL 10.6875 0 \nz\n\" id=\"DejaVuSans-46\"/>\n       <path d=\"M 40.578125 39.3125 \nQ 47.65625 37.796875 51.625 33 \nQ 55.609375 28.21875 55.609375 21.1875 \nQ 55.609375 10.40625 48.1875 4.484375 \nQ 40.765625 -1.421875 27.09375 -1.421875 \nQ 22.515625 -1.421875 17.65625 -0.515625 \nQ 12.796875 0.390625 7.625 2.203125 \nL 7.625 11.71875 \nQ 11.71875 9.328125 16.59375 8.109375 \nQ 21.484375 6.890625 26.8125 6.890625 \nQ 36.078125 6.890625 40.9375 10.546875 \nQ 45.796875 14.203125 45.796875 21.1875 \nQ 45.796875 27.640625 41.28125 31.265625 \nQ 36.765625 34.90625 28.71875 34.90625 \nL 20.21875 34.90625 \nL 20.21875 43.015625 \nL 29.109375 43.015625 \nQ 36.375 43.015625 40.234375 45.921875 \nQ 44.09375 48.828125 44.09375 54.296875 \nQ 44.09375 59.90625 40.109375 62.90625 \nQ 36.140625 65.921875 28.71875 65.921875 \nQ 24.65625 65.921875 20.015625 65.03125 \nQ 15.375 64.15625 9.8125 62.3125 \nL 9.8125 71.09375 \nQ 15.4375 72.65625 20.34375 73.4375 \nQ 25.25 74.21875 29.59375 74.21875 \nQ 40.828125 74.21875 47.359375 69.109375 \nQ 53.90625 64.015625 53.90625 55.328125 \nQ 53.90625 49.265625 50.4375 45.09375 \nQ 46.96875 40.921875 40.578125 39.3125 \nz\n\" id=\"DejaVuSans-51\"/>\n       <path d=\"M 33.015625 40.375 \nQ 26.375 40.375 22.484375 35.828125 \nQ 18.609375 31.296875 18.609375 23.390625 \nQ 18.609375 15.53125 22.484375 10.953125 \nQ 26.375 6.390625 33.015625 6.390625 \nQ 39.65625 6.390625 43.53125 10.953125 \nQ 47.40625 15.53125 47.40625 23.390625 \nQ 47.40625 31.296875 43.53125 35.828125 \nQ 39.65625 40.375 33.015625 40.375 \nz\nM 52.59375 71.296875 \nL 52.59375 62.3125 \nQ 48.875 64.0625 45.09375 64.984375 \nQ 41.3125 65.921875 37.59375 65.921875 \nQ 27.828125 65.921875 22.671875 59.328125 \nQ 17.53125 52.734375 16.796875 39.40625 \nQ 19.671875 43.65625 24.015625 45.921875 \nQ 28.375 48.1875 33.59375 48.1875 \nQ 44.578125 48.1875 50.953125 41.515625 \nQ 57.328125 34.859375 57.328125 23.390625 \nQ 57.328125 12.15625 50.6875 5.359375 \nQ 44.046875 -1.421875 33.015625 -1.421875 \nQ 20.359375 -1.421875 13.671875 8.265625 \nQ 6.984375 17.96875 6.984375 36.375 \nQ 6.984375 53.65625 15.1875 63.9375 \nQ 23.390625 74.21875 37.203125 74.21875 \nQ 40.921875 74.21875 44.703125 73.484375 \nQ 48.484375 72.75 52.59375 71.296875 \nz\n\" id=\"DejaVuSans-54\"/>\n      </defs>\n      <g transform=\"translate(20.878125 460.48188)scale(0.1 -0.1)\">\n       <use xlink:href=\"#DejaVuSans-48\"/>\n       <use x=\"63.623047\" xlink:href=\"#DejaVuSans-46\"/>\n       <use x=\"95.410156\" xlink:href=\"#DejaVuSans-48\"/>\n       <use x=\"159.033203\" xlink:href=\"#DejaVuSans-48\"/>\n       <use x=\"222.65625\" xlink:href=\"#DejaVuSans-51\"/>\n       <use x=\"286.279297\" xlink:href=\"#DejaVuSans-54\"/>\n      </g>\n     </g>\n    </g>\n    <g id=\"ytick_2\">\n     <g id=\"line2d_7\">\n      <g>\n       <use style=\"stroke:#000000;stroke-width:0.8;\" x=\"62.86875\" xlink:href=\"#me1a24a701e\" y=\"366.929128\"/>\n      </g>\n     </g>\n     <g id=\"text_8\">\n      <!-- 0.0038 -->\n      <defs>\n       <path d=\"M 31.78125 34.625 \nQ 24.75 34.625 20.71875 30.859375 \nQ 16.703125 27.09375 16.703125 20.515625 \nQ 16.703125 13.921875 20.71875 10.15625 \nQ 24.75 6.390625 31.78125 6.390625 \nQ 38.8125 6.390625 42.859375 10.171875 \nQ 46.921875 13.96875 46.921875 20.515625 \nQ 46.921875 27.09375 42.890625 30.859375 \nQ 38.875 34.625 31.78125 34.625 \nz\nM 21.921875 38.8125 \nQ 15.578125 40.375 12.03125 44.71875 \nQ 8.5 49.078125 8.5 55.328125 \nQ 8.5 64.0625 14.71875 69.140625 \nQ 20.953125 74.21875 31.78125 74.21875 \nQ 42.671875 74.21875 48.875 69.140625 \nQ 55.078125 64.0625 55.078125 55.328125 \nQ 55.078125 49.078125 51.53125 44.71875 \nQ 48 40.375 41.703125 38.8125 \nQ 48.828125 37.15625 52.796875 32.3125 \nQ 56.78125 27.484375 56.78125 20.515625 \nQ 56.78125 9.90625 50.3125 4.234375 \nQ 43.84375 -1.421875 31.78125 -1.421875 \nQ 19.734375 -1.421875 13.25 4.234375 \nQ 6.78125 9.90625 6.78125 20.515625 \nQ 6.78125 27.484375 10.78125 32.3125 \nQ 14.796875 37.15625 21.921875 38.8125 \nz\nM 18.3125 54.390625 \nQ 18.3125 48.734375 21.84375 45.5625 \nQ 25.390625 42.390625 31.78125 42.390625 \nQ 38.140625 42.390625 41.71875 45.5625 \nQ 45.3125 48.734375 45.3125 54.390625 \nQ 45.3125 60.0625 41.71875 63.234375 \nQ 38.140625 66.40625 31.78125 66.40625 \nQ 25.390625 66.40625 21.84375 63.234375 \nQ 18.3125 60.0625 18.3125 54.390625 \nz\n\" id=\"DejaVuSans-56\"/>\n      </defs>\n      <g transform=\"translate(20.878125 370.728347)scale(0.1 -0.1)\">\n       <use xlink:href=\"#DejaVuSans-48\"/>\n       <use x=\"63.623047\" xlink:href=\"#DejaVuSans-46\"/>\n       <use x=\"95.410156\" xlink:href=\"#DejaVuSans-48\"/>\n       <use x=\"159.033203\" xlink:href=\"#DejaVuSans-48\"/>\n       <use x=\"222.65625\" xlink:href=\"#DejaVuSans-51\"/>\n       <use x=\"286.279297\" xlink:href=\"#DejaVuSans-56\"/>\n      </g>\n     </g>\n    </g>\n    <g id=\"ytick_3\">\n     <g id=\"line2d_8\">\n      <g>\n       <use style=\"stroke:#000000;stroke-width:0.8;\" x=\"62.86875\" xlink:href=\"#me1a24a701e\" y=\"277.175596\"/>\n      </g>\n     </g>\n     <g id=\"text_9\">\n      <!-- 0.0040 -->\n      <defs>\n       <path d=\"M 37.796875 64.3125 \nL 12.890625 25.390625 \nL 37.796875 25.390625 \nz\nM 35.203125 72.90625 \nL 47.609375 72.90625 \nL 47.609375 25.390625 \nL 58.015625 25.390625 \nL 58.015625 17.1875 \nL 47.609375 17.1875 \nL 47.609375 0 \nL 37.796875 0 \nL 37.796875 17.1875 \nL 4.890625 17.1875 \nL 4.890625 26.703125 \nz\n\" id=\"DejaVuSans-52\"/>\n      </defs>\n      <g transform=\"translate(20.878125 280.974815)scale(0.1 -0.1)\">\n       <use xlink:href=\"#DejaVuSans-48\"/>\n       <use x=\"63.623047\" xlink:href=\"#DejaVuSans-46\"/>\n       <use x=\"95.410156\" xlink:href=\"#DejaVuSans-48\"/>\n       <use x=\"159.033203\" xlink:href=\"#DejaVuSans-48\"/>\n       <use x=\"222.65625\" xlink:href=\"#DejaVuSans-52\"/>\n       <use x=\"286.279297\" xlink:href=\"#DejaVuSans-48\"/>\n      </g>\n     </g>\n    </g>\n    <g id=\"ytick_4\">\n     <g id=\"line2d_9\">\n      <g>\n       <use style=\"stroke:#000000;stroke-width:0.8;\" x=\"62.86875\" xlink:href=\"#me1a24a701e\" y=\"187.422064\"/>\n      </g>\n     </g>\n     <g id=\"text_10\">\n      <!-- 0.0042 -->\n      <g transform=\"translate(20.878125 191.221282)scale(0.1 -0.1)\">\n       <use xlink:href=\"#DejaVuSans-48\"/>\n       <use x=\"63.623047\" xlink:href=\"#DejaVuSans-46\"/>\n       <use x=\"95.410156\" xlink:href=\"#DejaVuSans-48\"/>\n       <use x=\"159.033203\" xlink:href=\"#DejaVuSans-48\"/>\n       <use x=\"222.65625\" xlink:href=\"#DejaVuSans-52\"/>\n       <use x=\"286.279297\" xlink:href=\"#DejaVuSans-50\"/>\n      </g>\n     </g>\n    </g>\n    <g id=\"ytick_5\">\n     <g id=\"line2d_10\">\n      <g>\n       <use style=\"stroke:#000000;stroke-width:0.8;\" x=\"62.86875\" xlink:href=\"#me1a24a701e\" y=\"97.668531\"/>\n      </g>\n     </g>\n     <g id=\"text_11\">\n      <!-- 0.0044 -->\n      <g transform=\"translate(20.878125 101.46775)scale(0.1 -0.1)\">\n       <use xlink:href=\"#DejaVuSans-48\"/>\n       <use x=\"63.623047\" xlink:href=\"#DejaVuSans-46\"/>\n       <use x=\"95.410156\" xlink:href=\"#DejaVuSans-48\"/>\n       <use x=\"159.033203\" xlink:href=\"#DejaVuSans-48\"/>\n       <use x=\"222.65625\" xlink:href=\"#DejaVuSans-52\"/>\n       <use x=\"286.279297\" xlink:href=\"#DejaVuSans-52\"/>\n      </g>\n     </g>\n    </g>\n    <g id=\"text_12\">\n     <!-- Sampling Variance -->\n     <defs>\n      <path d=\"M 9.421875 54.6875 \nL 18.40625 54.6875 \nL 18.40625 0 \nL 9.421875 0 \nz\nM 9.421875 75.984375 \nL 18.40625 75.984375 \nL 18.40625 64.59375 \nL 9.421875 64.59375 \nz\n\" id=\"DejaVuSans-105\"/>\n      <path d=\"M 54.890625 33.015625 \nL 54.890625 0 \nL 45.90625 0 \nL 45.90625 32.71875 \nQ 45.90625 40.484375 42.875 44.328125 \nQ 39.84375 48.1875 33.796875 48.1875 \nQ 26.515625 48.1875 22.3125 43.546875 \nQ 18.109375 38.921875 18.109375 30.90625 \nL 18.109375 0 \nL 9.078125 0 \nL 9.078125 54.6875 \nL 18.109375 54.6875 \nL 18.109375 46.1875 \nQ 21.34375 51.125 25.703125 53.5625 \nQ 30.078125 56 35.796875 56 \nQ 45.21875 56 50.046875 50.171875 \nQ 54.890625 44.34375 54.890625 33.015625 \nz\n\" id=\"DejaVuSans-110\"/>\n      <path d=\"M 45.40625 27.984375 \nQ 45.40625 37.75 41.375 43.109375 \nQ 37.359375 48.484375 30.078125 48.484375 \nQ 22.859375 48.484375 18.828125 43.109375 \nQ 14.796875 37.75 14.796875 27.984375 \nQ 14.796875 18.265625 18.828125 12.890625 \nQ 22.859375 7.515625 30.078125 7.515625 \nQ 37.359375 7.515625 41.375 12.890625 \nQ 45.40625 18.265625 45.40625 27.984375 \nz\nM 54.390625 6.78125 \nQ 54.390625 -7.171875 48.1875 -13.984375 \nQ 42 -20.796875 29.203125 -20.796875 \nQ 24.46875 -20.796875 20.265625 -20.09375 \nQ 16.0625 -19.390625 12.109375 -17.921875 \nL 12.109375 -9.1875 \nQ 16.0625 -11.328125 19.921875 -12.34375 \nQ 23.78125 -13.375 27.78125 -13.375 \nQ 36.625 -13.375 41.015625 -8.765625 \nQ 45.40625 -4.15625 45.40625 5.171875 \nL 45.40625 9.625 \nQ 42.625 4.78125 38.28125 2.390625 \nQ 33.9375 0 27.875 0 \nQ 17.828125 0 11.671875 7.65625 \nQ 5.515625 15.328125 5.515625 27.984375 \nQ 5.515625 40.671875 11.671875 48.328125 \nQ 17.828125 56 27.875 56 \nQ 33.9375 56 38.28125 53.609375 \nQ 42.625 51.21875 45.40625 46.390625 \nL 45.40625 54.6875 \nL 54.390625 54.6875 \nz\n\" id=\"DejaVuSans-103\"/>\n      <path d=\"M 28.609375 0 \nL 0.78125 72.90625 \nL 11.078125 72.90625 \nL 34.1875 11.53125 \nL 57.328125 72.90625 \nL 67.578125 72.90625 \nL 39.796875 0 \nz\n\" id=\"DejaVuSans-86\"/>\n      <path d=\"M 41.109375 46.296875 \nQ 39.59375 47.171875 37.8125 47.578125 \nQ 36.03125 48 33.890625 48 \nQ 26.265625 48 22.1875 43.046875 \nQ 18.109375 38.09375 18.109375 28.8125 \nL 18.109375 0 \nL 9.078125 0 \nL 9.078125 54.6875 \nL 18.109375 54.6875 \nL 18.109375 46.1875 \nQ 20.953125 51.171875 25.484375 53.578125 \nQ 30.03125 56 36.53125 56 \nQ 37.453125 56 38.578125 55.875 \nQ 39.703125 55.765625 41.0625 55.515625 \nz\n\" id=\"DejaVuSans-114\"/>\n      <path d=\"M 48.78125 52.59375 \nL 48.78125 44.1875 \nQ 44.96875 46.296875 41.140625 47.34375 \nQ 37.3125 48.390625 33.40625 48.390625 \nQ 24.65625 48.390625 19.8125 42.84375 \nQ 14.984375 37.3125 14.984375 27.296875 \nQ 14.984375 17.28125 19.8125 11.734375 \nQ 24.65625 6.203125 33.40625 6.203125 \nQ 37.3125 6.203125 41.140625 7.25 \nQ 44.96875 8.296875 48.78125 10.40625 \nL 48.78125 2.09375 \nQ 45.015625 0.34375 40.984375 -0.53125 \nQ 36.96875 -1.421875 32.421875 -1.421875 \nQ 20.0625 -1.421875 12.78125 6.34375 \nQ 5.515625 14.109375 5.515625 27.296875 \nQ 5.515625 40.671875 12.859375 48.328125 \nQ 20.21875 56 33.015625 56 \nQ 37.15625 56 41.109375 55.140625 \nQ 45.0625 54.296875 48.78125 52.59375 \nz\n\" id=\"DejaVuSans-99\"/>\n     </defs>\n     <g transform=\"translate(14.798438 313.531094)rotate(-90)scale(0.1 -0.1)\">\n      <use xlink:href=\"#DejaVuSans-83\"/>\n      <use x=\"63.476562\" xlink:href=\"#DejaVuSans-97\"/>\n      <use x=\"124.755859\" xlink:href=\"#DejaVuSans-109\"/>\n      <use x=\"222.167969\" xlink:href=\"#DejaVuSans-112\"/>\n      <use x=\"285.644531\" xlink:href=\"#DejaVuSans-108\"/>\n      <use x=\"313.427734\" xlink:href=\"#DejaVuSans-105\"/>\n      <use x=\"341.210938\" xlink:href=\"#DejaVuSans-110\"/>\n      <use x=\"404.589844\" xlink:href=\"#DejaVuSans-103\"/>\n      <use x=\"468.066406\" xlink:href=\"#DejaVuSans-32\"/>\n      <use x=\"499.853516\" xlink:href=\"#DejaVuSans-86\"/>\n      <use x=\"560.511719\" xlink:href=\"#DejaVuSans-97\"/>\n      <use x=\"621.791016\" xlink:href=\"#DejaVuSans-114\"/>\n      <use x=\"662.904297\" xlink:href=\"#DejaVuSans-105\"/>\n      <use x=\"690.6875\" xlink:href=\"#DejaVuSans-97\"/>\n      <use x=\"751.966797\" xlink:href=\"#DejaVuSans-110\"/>\n      <use x=\"815.345703\" xlink:href=\"#DejaVuSans-99\"/>\n      <use x=\"870.326172\" xlink:href=\"#DejaVuSans-101\"/>\n     </g>\n    </g>\n   </g>\n   <g id=\"line2d_11\">\n    <path clip-path=\"url(#pb1955e992e)\" d=\"M 62.86875 63.531786 \nL 216.799784 63.531786 \n\" style=\"fill:none;stroke:#1f77b4;stroke-linecap:square;stroke-width:1.5;\"/>\n   </g>\n   <g id=\"line2d_12\">\n    <path clip-path=\"url(#pb1955e992e)\" d=\"M 62.86875 489.319943 \nL 216.799784 489.319943 \n\" style=\"fill:none;stroke:#ff0000;stroke-linecap:square;stroke-width:1.5;\"/>\n   </g>\n   <g id=\"patch_3\">\n    <path d=\"M 62.86875 511.558125 \nL 62.86875 22.318125 \n\" style=\"fill:none;stroke:#000000;stroke-linecap:square;stroke-linejoin:miter;stroke-width:0.8;\"/>\n   </g>\n   <g id=\"patch_4\">\n    <path d=\"M 216.799784 511.558125 \nL 216.799784 22.318125 \n\" style=\"fill:none;stroke:#000000;stroke-linecap:square;stroke-linejoin:miter;stroke-width:0.8;\"/>\n   </g>\n   <g id=\"patch_5\">\n    <path d=\"M 62.86875 511.558125 \nL 216.799784 511.558125 \n\" style=\"fill:none;stroke:#000000;stroke-linecap:square;stroke-linejoin:miter;stroke-width:0.8;\"/>\n   </g>\n   <g id=\"patch_6\">\n    <path d=\"M 62.86875 22.318125 \nL 216.799784 22.318125 \n\" style=\"fill:none;stroke:#000000;stroke-linecap:square;stroke-linejoin:miter;stroke-width:0.8;\"/>\n   </g>\n   <g id=\"text_13\">\n    <!-- Variance in 15000 samples -->\n    <defs>\n     <path d=\"M 44.28125 53.078125 \nL 44.28125 44.578125 \nQ 40.484375 46.53125 36.375 47.5 \nQ 32.28125 48.484375 27.875 48.484375 \nQ 21.1875 48.484375 17.84375 46.4375 \nQ 14.5 44.390625 14.5 40.28125 \nQ 14.5 37.15625 16.890625 35.375 \nQ 19.28125 33.59375 26.515625 31.984375 \nL 29.59375 31.296875 \nQ 39.15625 29.25 43.1875 25.515625 \nQ 47.21875 21.78125 47.21875 15.09375 \nQ 47.21875 7.46875 41.1875 3.015625 \nQ 35.15625 -1.421875 24.609375 -1.421875 \nQ 20.21875 -1.421875 15.453125 -0.5625 \nQ 10.6875 0.296875 5.421875 2 \nL 5.421875 11.28125 \nQ 10.40625 8.6875 15.234375 7.390625 \nQ 20.0625 6.109375 24.8125 6.109375 \nQ 31.15625 6.109375 34.5625 8.28125 \nQ 37.984375 10.453125 37.984375 14.40625 \nQ 37.984375 18.0625 35.515625 20.015625 \nQ 33.0625 21.96875 24.703125 23.78125 \nL 21.578125 24.515625 \nQ 13.234375 26.265625 9.515625 29.90625 \nQ 5.8125 33.546875 5.8125 39.890625 \nQ 5.8125 47.609375 11.28125 51.796875 \nQ 16.75 56 26.8125 56 \nQ 31.78125 56 36.171875 55.265625 \nQ 40.578125 54.546875 44.28125 53.078125 \nz\n\" id=\"DejaVuSans-115\"/>\n    </defs>\n    <g transform=\"translate(58.696455 16.318125)scale(0.12 -0.12)\">\n     <use xlink:href=\"#DejaVuSans-86\"/>\n     <use x=\"60.658203\" xlink:href=\"#DejaVuSans-97\"/>\n     <use x=\"121.9375\" xlink:href=\"#DejaVuSans-114\"/>\n     <use x=\"163.050781\" xlink:href=\"#DejaVuSans-105\"/>\n     <use x=\"190.833984\" xlink:href=\"#DejaVuSans-97\"/>\n     <use x=\"252.113281\" xlink:href=\"#DejaVuSans-110\"/>\n     <use x=\"315.492188\" xlink:href=\"#DejaVuSans-99\"/>\n     <use x=\"370.472656\" xlink:href=\"#DejaVuSans-101\"/>\n     <use x=\"431.996094\" xlink:href=\"#DejaVuSans-32\"/>\n     <use x=\"463.783203\" xlink:href=\"#DejaVuSans-105\"/>\n     <use x=\"491.566406\" xlink:href=\"#DejaVuSans-110\"/>\n     <use x=\"554.945312\" xlink:href=\"#DejaVuSans-32\"/>\n     <use x=\"586.732422\" xlink:href=\"#DejaVuSans-49\"/>\n     <use x=\"650.355469\" xlink:href=\"#DejaVuSans-53\"/>\n     <use x=\"713.978516\" xlink:href=\"#DejaVuSans-48\"/>\n     <use x=\"777.601562\" xlink:href=\"#DejaVuSans-48\"/>\n     <use x=\"841.224609\" xlink:href=\"#DejaVuSans-48\"/>\n     <use x=\"904.847656\" xlink:href=\"#DejaVuSans-32\"/>\n     <use x=\"936.634766\" xlink:href=\"#DejaVuSans-115\"/>\n     <use x=\"988.734375\" xlink:href=\"#DejaVuSans-97\"/>\n     <use x=\"1050.013672\" xlink:href=\"#DejaVuSans-109\"/>\n     <use x=\"1147.425781\" xlink:href=\"#DejaVuSans-112\"/>\n     <use x=\"1210.902344\" xlink:href=\"#DejaVuSans-108\"/>\n     <use x=\"1238.685547\" xlink:href=\"#DejaVuSans-101\"/>\n     <use x=\"1300.208984\" xlink:href=\"#DejaVuSans-115\"/>\n    </g>\n   </g>\n  </g>\n  <g id=\"axes_2\">\n   <g id=\"patch_7\">\n    <path d=\"M 247.585991 511.558125 \nL 401.517026 511.558125 \nL 401.517026 22.318125 \nL 247.585991 22.318125 \nz\n\" style=\"fill:#ffffff;\"/>\n   </g>\n   <g id=\"PathCollection_2\">\n    <g clip-path=\"url(#p37bc21c854)\">\n     <use style=\"fill:#1f77b4;stroke:#1f77b4;\" x=\"254.582857\" xlink:href=\"#m9bd8212b29\" y=\"134.076464\"/>\n     <use style=\"fill:#1f77b4;stroke:#1f77b4;\" x=\"255.996365\" xlink:href=\"#m9bd8212b29\" y=\"133.979663\"/>\n     <use style=\"fill:#1f77b4;stroke:#1f77b4;\" x=\"257.409873\" xlink:href=\"#m9bd8212b29\" y=\"75.561542\"/>\n     <use style=\"fill:#1f77b4;stroke:#1f77b4;\" x=\"258.823381\" xlink:href=\"#m9bd8212b29\" y=\"119.450614\"/>\n     <use style=\"fill:#1f77b4;stroke:#1f77b4;\" x=\"260.236889\" xlink:href=\"#m9bd8212b29\" y=\"46.26338\"/>\n     <use style=\"fill:#1f77b4;stroke:#1f77b4;\" x=\"261.650397\" xlink:href=\"#m9bd8212b29\" y=\"92.256593\"/>\n     <use style=\"fill:#1f77b4;stroke:#1f77b4;\" x=\"263.063905\" xlink:href=\"#m9bd8212b29\" y=\"118.082448\"/>\n     <use style=\"fill:#1f77b4;stroke:#1f77b4;\" x=\"264.477413\" xlink:href=\"#m9bd8212b29\" y=\"125.733417\"/>\n     <use style=\"fill:#1f77b4;stroke:#1f77b4;\" x=\"265.890922\" xlink:href=\"#m9bd8212b29\" y=\"53.575347\"/>\n     <use style=\"fill:#1f77b4;stroke:#1f77b4;\" x=\"267.30443\" xlink:href=\"#m9bd8212b29\" y=\"94.671478\"/>\n     <use style=\"fill:#1f77b4;stroke:#1f77b4;\" x=\"268.717938\" xlink:href=\"#m9bd8212b29\" y=\"97.835843\"/>\n     <use style=\"fill:#1f77b4;stroke:#1f77b4;\" x=\"270.131446\" xlink:href=\"#m9bd8212b29\" y=\"76.133686\"/>\n     <use style=\"fill:#1f77b4;stroke:#1f77b4;\" x=\"271.544954\" xlink:href=\"#m9bd8212b29\" y=\"115.154731\"/>\n     <use style=\"fill:#1f77b4;stroke:#1f77b4;\" x=\"272.958462\" xlink:href=\"#m9bd8212b29\" y=\"163.443511\"/>\n     <use style=\"fill:#1f77b4;stroke:#1f77b4;\" x=\"274.37197\" xlink:href=\"#m9bd8212b29\" y=\"89.509115\"/>\n     <use style=\"fill:#1f77b4;stroke:#1f77b4;\" x=\"275.785478\" xlink:href=\"#m9bd8212b29\" y=\"105.120012\"/>\n     <use style=\"fill:#1f77b4;stroke:#1f77b4;\" x=\"277.198987\" xlink:href=\"#m9bd8212b29\" y=\"58.428205\"/>\n     <use style=\"fill:#1f77b4;stroke:#1f77b4;\" x=\"278.612495\" xlink:href=\"#m9bd8212b29\" y=\"147.439194\"/>\n     <use style=\"fill:#1f77b4;stroke:#1f77b4;\" x=\"280.026003\" xlink:href=\"#m9bd8212b29\" y=\"181.311682\"/>\n     <use style=\"fill:#1f77b4;stroke:#1f77b4;\" x=\"281.439511\" xlink:href=\"#m9bd8212b29\" y=\"122.664281\"/>\n     <use style=\"fill:#1f77b4;stroke:#1f77b4;\" x=\"282.853019\" xlink:href=\"#m9bd8212b29\" y=\"72.176501\"/>\n     <use style=\"fill:#1f77b4;stroke:#1f77b4;\" x=\"284.266527\" xlink:href=\"#m9bd8212b29\" y=\"88.100868\"/>\n     <use style=\"fill:#1f77b4;stroke:#1f77b4;\" x=\"285.680035\" xlink:href=\"#m9bd8212b29\" y=\"98.8177\"/>\n     <use style=\"fill:#1f77b4;stroke:#1f77b4;\" x=\"287.093543\" xlink:href=\"#m9bd8212b29\" y=\"105.041119\"/>\n     <use style=\"fill:#1f77b4;stroke:#1f77b4;\" x=\"288.507052\" xlink:href=\"#m9bd8212b29\" y=\"46.165677\"/>\n     <use style=\"fill:#1f77b4;stroke:#1f77b4;\" x=\"289.92056\" xlink:href=\"#m9bd8212b29\" y=\"125.758187\"/>\n     <use style=\"fill:#1f77b4;stroke:#1f77b4;\" x=\"291.334068\" xlink:href=\"#m9bd8212b29\" y=\"135.341222\"/>\n     <use style=\"fill:#1f77b4;stroke:#1f77b4;\" x=\"292.747576\" xlink:href=\"#m9bd8212b29\" y=\"103.878345\"/>\n     <use style=\"fill:#1f77b4;stroke:#1f77b4;\" x=\"294.161084\" xlink:href=\"#m9bd8212b29\" y=\"69.451742\"/>\n     <use style=\"fill:#1f77b4;stroke:#1f77b4;\" x=\"295.574592\" xlink:href=\"#m9bd8212b29\" y=\"115.62446\"/>\n     <use style=\"fill:#1f77b4;stroke:#1f77b4;\" x=\"296.9881\" xlink:href=\"#m9bd8212b29\" y=\"118.169759\"/>\n     <use style=\"fill:#1f77b4;stroke:#1f77b4;\" x=\"298.401608\" xlink:href=\"#m9bd8212b29\" y=\"80.948794\"/>\n     <use style=\"fill:#1f77b4;stroke:#1f77b4;\" x=\"299.815116\" xlink:href=\"#m9bd8212b29\" y=\"173.060314\"/>\n     <use style=\"fill:#1f77b4;stroke:#1f77b4;\" x=\"301.228625\" xlink:href=\"#m9bd8212b29\" y=\"54.273384\"/>\n     <use style=\"fill:#1f77b4;stroke:#1f77b4;\" x=\"302.642133\" xlink:href=\"#m9bd8212b29\" y=\"94.68754\"/>\n     <use style=\"fill:#1f77b4;stroke:#1f77b4;\" x=\"304.055641\" xlink:href=\"#m9bd8212b29\" y=\"95.849174\"/>\n     <use style=\"fill:#1f77b4;stroke:#1f77b4;\" x=\"305.469149\" xlink:href=\"#m9bd8212b29\" y=\"167.820533\"/>\n     <use style=\"fill:#1f77b4;stroke:#1f77b4;\" x=\"306.882657\" xlink:href=\"#m9bd8212b29\" y=\"135.249293\"/>\n     <use style=\"fill:#1f77b4;stroke:#1f77b4;\" x=\"308.296165\" xlink:href=\"#m9bd8212b29\" y=\"190.827044\"/>\n     <use style=\"fill:#1f77b4;stroke:#1f77b4;\" x=\"309.709673\" xlink:href=\"#m9bd8212b29\" y=\"140.894149\"/>\n     <use style=\"fill:#1f77b4;stroke:#1f77b4;\" x=\"311.123181\" xlink:href=\"#m9bd8212b29\" y=\"190.741656\"/>\n     <use style=\"fill:#1f77b4;stroke:#1f77b4;\" x=\"312.53669\" xlink:href=\"#m9bd8212b29\" y=\"130.28208\"/>\n     <use style=\"fill:#1f77b4;stroke:#1f77b4;\" x=\"313.950198\" xlink:href=\"#m9bd8212b29\" y=\"126.531388\"/>\n     <use style=\"fill:#1f77b4;stroke:#1f77b4;\" x=\"315.363706\" xlink:href=\"#m9bd8212b29\" y=\"177.310808\"/>\n     <use style=\"fill:#1f77b4;stroke:#1f77b4;\" x=\"316.777214\" xlink:href=\"#m9bd8212b29\" y=\"128.440232\"/>\n     <use style=\"fill:#1f77b4;stroke:#1f77b4;\" x=\"318.190722\" xlink:href=\"#m9bd8212b29\" y=\"103.22403\"/>\n     <use style=\"fill:#1f77b4;stroke:#1f77b4;\" x=\"319.60423\" xlink:href=\"#m9bd8212b29\" y=\"91.464707\"/>\n     <use style=\"fill:#1f77b4;stroke:#1f77b4;\" x=\"321.017738\" xlink:href=\"#m9bd8212b29\" y=\"105.1851\"/>\n     <use style=\"fill:#1f77b4;stroke:#1f77b4;\" x=\"322.431246\" xlink:href=\"#m9bd8212b29\" y=\"53.75561\"/>\n     <use style=\"fill:#1f77b4;stroke:#1f77b4;\" x=\"323.844755\" xlink:href=\"#m9bd8212b29\" y=\"125.078957\"/>\n     <use style=\"fill:#1f77b4;stroke:#1f77b4;\" x=\"325.258263\" xlink:href=\"#m9bd8212b29\" y=\"137.939851\"/>\n     <use style=\"fill:#1f77b4;stroke:#1f77b4;\" x=\"326.671771\" xlink:href=\"#m9bd8212b29\" y=\"171.109775\"/>\n     <use style=\"fill:#1f77b4;stroke:#1f77b4;\" x=\"328.085279\" xlink:href=\"#m9bd8212b29\" y=\"154.45217\"/>\n     <use style=\"fill:#1f77b4;stroke:#1f77b4;\" x=\"329.498787\" xlink:href=\"#m9bd8212b29\" y=\"112.954752\"/>\n     <use style=\"fill:#1f77b4;stroke:#1f77b4;\" x=\"330.912295\" xlink:href=\"#m9bd8212b29\" y=\"126.231902\"/>\n     <use style=\"fill:#1f77b4;stroke:#1f77b4;\" x=\"332.325803\" xlink:href=\"#m9bd8212b29\" y=\"118.440535\"/>\n     <use style=\"fill:#1f77b4;stroke:#1f77b4;\" x=\"333.739311\" xlink:href=\"#m9bd8212b29\" y=\"77.920134\"/>\n     <use style=\"fill:#1f77b4;stroke:#1f77b4;\" x=\"335.15282\" xlink:href=\"#m9bd8212b29\" y=\"115.875215\"/>\n     <use style=\"fill:#1f77b4;stroke:#1f77b4;\" x=\"336.566328\" xlink:href=\"#m9bd8212b29\" y=\"102.32612\"/>\n     <use style=\"fill:#1f77b4;stroke:#1f77b4;\" x=\"337.979836\" xlink:href=\"#m9bd8212b29\" y=\"125.293625\"/>\n     <use style=\"fill:#1f77b4;stroke:#1f77b4;\" x=\"339.393344\" xlink:href=\"#m9bd8212b29\" y=\"136.040512\"/>\n     <use style=\"fill:#1f77b4;stroke:#1f77b4;\" x=\"340.806852\" xlink:href=\"#m9bd8212b29\" y=\"46.473059\"/>\n     <use style=\"fill:#1f77b4;stroke:#1f77b4;\" x=\"342.22036\" xlink:href=\"#m9bd8212b29\" y=\"110.467087\"/>\n     <use style=\"fill:#1f77b4;stroke:#1f77b4;\" x=\"343.633868\" xlink:href=\"#m9bd8212b29\" y=\"78.354346\"/>\n     <use style=\"fill:#1f77b4;stroke:#1f77b4;\" x=\"345.047376\" xlink:href=\"#m9bd8212b29\" y=\"155.391816\"/>\n     <use style=\"fill:#1f77b4;stroke:#1f77b4;\" x=\"346.460885\" xlink:href=\"#m9bd8212b29\" y=\"44.556307\"/>\n     <use style=\"fill:#1f77b4;stroke:#1f77b4;\" x=\"347.874393\" xlink:href=\"#m9bd8212b29\" y=\"79.01558\"/>\n     <use style=\"fill:#1f77b4;stroke:#1f77b4;\" x=\"349.287901\" xlink:href=\"#m9bd8212b29\" y=\"77.313742\"/>\n     <use style=\"fill:#1f77b4;stroke:#1f77b4;\" x=\"350.701409\" xlink:href=\"#m9bd8212b29\" y=\"119.377516\"/>\n     <use style=\"fill:#1f77b4;stroke:#1f77b4;\" x=\"352.114917\" xlink:href=\"#m9bd8212b29\" y=\"75.980279\"/>\n     <use style=\"fill:#1f77b4;stroke:#1f77b4;\" x=\"353.528425\" xlink:href=\"#m9bd8212b29\" y=\"81.590286\"/>\n     <use style=\"fill:#1f77b4;stroke:#1f77b4;\" x=\"354.941933\" xlink:href=\"#m9bd8212b29\" y=\"113.427577\"/>\n     <use style=\"fill:#1f77b4;stroke:#1f77b4;\" x=\"356.355441\" xlink:href=\"#m9bd8212b29\" y=\"84.882263\"/>\n     <use style=\"fill:#1f77b4;stroke:#1f77b4;\" x=\"357.768949\" xlink:href=\"#m9bd8212b29\" y=\"201.466996\"/>\n     <use style=\"fill:#1f77b4;stroke:#1f77b4;\" x=\"359.182458\" xlink:href=\"#m9bd8212b29\" y=\"189.607371\"/>\n     <use style=\"fill:#1f77b4;stroke:#1f77b4;\" x=\"360.595966\" xlink:href=\"#m9bd8212b29\" y=\"125.873948\"/>\n     <use style=\"fill:#1f77b4;stroke:#1f77b4;\" x=\"362.009474\" xlink:href=\"#m9bd8212b29\" y=\"71.51932\"/>\n     <use style=\"fill:#1f77b4;stroke:#1f77b4;\" x=\"363.422982\" xlink:href=\"#m9bd8212b29\" y=\"131.594126\"/>\n     <use style=\"fill:#1f77b4;stroke:#1f77b4;\" x=\"364.83649\" xlink:href=\"#m9bd8212b29\" y=\"172.146604\"/>\n     <use style=\"fill:#1f77b4;stroke:#1f77b4;\" x=\"366.249998\" xlink:href=\"#m9bd8212b29\" y=\"77.335082\"/>\n     <use style=\"fill:#1f77b4;stroke:#1f77b4;\" x=\"367.663506\" xlink:href=\"#m9bd8212b29\" y=\"80.638305\"/>\n     <use style=\"fill:#1f77b4;stroke:#1f77b4;\" x=\"369.077014\" xlink:href=\"#m9bd8212b29\" y=\"132.685109\"/>\n     <use style=\"fill:#1f77b4;stroke:#1f77b4;\" x=\"370.490523\" xlink:href=\"#m9bd8212b29\" y=\"68.898779\"/>\n     <use style=\"fill:#1f77b4;stroke:#1f77b4;\" x=\"371.904031\" xlink:href=\"#m9bd8212b29\" y=\"184.503609\"/>\n     <use style=\"fill:#1f77b4;stroke:#1f77b4;\" x=\"373.317539\" xlink:href=\"#m9bd8212b29\" y=\"107.349394\"/>\n     <use style=\"fill:#1f77b4;stroke:#1f77b4;\" x=\"374.731047\" xlink:href=\"#m9bd8212b29\" y=\"55.498976\"/>\n     <use style=\"fill:#1f77b4;stroke:#1f77b4;\" x=\"376.144555\" xlink:href=\"#m9bd8212b29\" y=\"123.837005\"/>\n     <use style=\"fill:#1f77b4;stroke:#1f77b4;\" x=\"377.558063\" xlink:href=\"#m9bd8212b29\" y=\"95.674703\"/>\n     <use style=\"fill:#1f77b4;stroke:#1f77b4;\" x=\"378.971571\" xlink:href=\"#m9bd8212b29\" y=\"128.206058\"/>\n     <use style=\"fill:#1f77b4;stroke:#1f77b4;\" x=\"380.385079\" xlink:href=\"#m9bd8212b29\" y=\"99.580597\"/>\n     <use style=\"fill:#1f77b4;stroke:#1f77b4;\" x=\"381.798588\" xlink:href=\"#m9bd8212b29\" y=\"101.139364\"/>\n     <use style=\"fill:#1f77b4;stroke:#1f77b4;\" x=\"383.212096\" xlink:href=\"#m9bd8212b29\" y=\"129.93788\"/>\n     <use style=\"fill:#1f77b4;stroke:#1f77b4;\" x=\"384.625604\" xlink:href=\"#m9bd8212b29\" y=\"108.790323\"/>\n     <use style=\"fill:#1f77b4;stroke:#1f77b4;\" x=\"386.039112\" xlink:href=\"#m9bd8212b29\" y=\"87.245988\"/>\n     <use style=\"fill:#1f77b4;stroke:#1f77b4;\" x=\"387.45262\" xlink:href=\"#m9bd8212b29\" y=\"91.125876\"/>\n     <use style=\"fill:#1f77b4;stroke:#1f77b4;\" x=\"388.866128\" xlink:href=\"#m9bd8212b29\" y=\"59.6471\"/>\n     <use style=\"fill:#1f77b4;stroke:#1f77b4;\" x=\"390.279636\" xlink:href=\"#m9bd8212b29\" y=\"168.497837\"/>\n     <use style=\"fill:#1f77b4;stroke:#1f77b4;\" x=\"391.693144\" xlink:href=\"#m9bd8212b29\" y=\"144.231881\"/>\n     <use style=\"fill:#1f77b4;stroke:#1f77b4;\" x=\"393.106653\" xlink:href=\"#m9bd8212b29\" y=\"122.015796\"/>\n     <use style=\"fill:#1f77b4;stroke:#1f77b4;\" x=\"394.520161\" xlink:href=\"#m9bd8212b29\" y=\"57.752601\"/>\n    </g>\n   </g>\n   <g id=\"matplotlib.axis_3\">\n    <g id=\"xtick_6\">\n     <g id=\"line2d_13\">\n      <g>\n       <use style=\"stroke:#000000;stroke-width:0.8;\" x=\"253.169348\" xlink:href=\"#m5e8504a32e\" y=\"511.558125\"/>\n      </g>\n     </g>\n     <g id=\"text_14\">\n      <!-- 0 -->\n      <g transform=\"translate(249.988098 526.156562)scale(0.1 -0.1)\">\n       <use xlink:href=\"#DejaVuSans-48\"/>\n      </g>\n     </g>\n    </g>\n    <g id=\"xtick_7\">\n     <g id=\"line2d_14\">\n      <g>\n       <use style=\"stroke:#000000;stroke-width:0.8;\" x=\"288.507052\" xlink:href=\"#m5e8504a32e\" y=\"511.558125\"/>\n      </g>\n     </g>\n     <g id=\"text_15\">\n      <!-- 25 -->\n      <g transform=\"translate(282.144552 526.156562)scale(0.1 -0.1)\">\n       <use xlink:href=\"#DejaVuSans-50\"/>\n       <use x=\"63.623047\" xlink:href=\"#DejaVuSans-53\"/>\n      </g>\n     </g>\n    </g>\n    <g id=\"xtick_8\">\n     <g id=\"line2d_15\">\n      <g>\n       <use style=\"stroke:#000000;stroke-width:0.8;\" x=\"323.844755\" xlink:href=\"#m5e8504a32e\" y=\"511.558125\"/>\n      </g>\n     </g>\n     <g id=\"text_16\">\n      <!-- 50 -->\n      <g transform=\"translate(317.482255 526.156562)scale(0.1 -0.1)\">\n       <use xlink:href=\"#DejaVuSans-53\"/>\n       <use x=\"63.623047\" xlink:href=\"#DejaVuSans-48\"/>\n      </g>\n     </g>\n    </g>\n    <g id=\"xtick_9\">\n     <g id=\"line2d_16\">\n      <g>\n       <use style=\"stroke:#000000;stroke-width:0.8;\" x=\"359.182458\" xlink:href=\"#m5e8504a32e\" y=\"511.558125\"/>\n      </g>\n     </g>\n     <g id=\"text_17\">\n      <!-- 75 -->\n      <g transform=\"translate(352.819958 526.156562)scale(0.1 -0.1)\">\n       <use xlink:href=\"#DejaVuSans-55\"/>\n       <use x=\"63.623047\" xlink:href=\"#DejaVuSans-53\"/>\n      </g>\n     </g>\n    </g>\n    <g id=\"xtick_10\">\n     <g id=\"line2d_17\">\n      <g>\n       <use style=\"stroke:#000000;stroke-width:0.8;\" x=\"394.520161\" xlink:href=\"#m5e8504a32e\" y=\"511.558125\"/>\n      </g>\n     </g>\n     <g id=\"text_18\">\n      <!-- 100 -->\n      <g transform=\"translate(384.976411 526.156562)scale(0.1 -0.1)\">\n       <use xlink:href=\"#DejaVuSans-49\"/>\n       <use x=\"63.623047\" xlink:href=\"#DejaVuSans-48\"/>\n       <use x=\"127.246094\" xlink:href=\"#DejaVuSans-48\"/>\n      </g>\n     </g>\n    </g>\n    <g id=\"text_19\">\n     <!-- Sample # -->\n     <g transform=\"translate(300.024165 539.834687)scale(0.1 -0.1)\">\n      <use xlink:href=\"#DejaVuSans-83\"/>\n      <use x=\"63.476562\" xlink:href=\"#DejaVuSans-97\"/>\n      <use x=\"124.755859\" xlink:href=\"#DejaVuSans-109\"/>\n      <use x=\"222.167969\" xlink:href=\"#DejaVuSans-112\"/>\n      <use x=\"285.644531\" xlink:href=\"#DejaVuSans-108\"/>\n      <use x=\"313.427734\" xlink:href=\"#DejaVuSans-101\"/>\n      <use x=\"374.951172\" xlink:href=\"#DejaVuSans-32\"/>\n      <use x=\"406.738281\" xlink:href=\"#DejaVuSans-35\"/>\n     </g>\n    </g>\n   </g>\n   <g id=\"matplotlib.axis_4\">\n    <g id=\"ytick_6\">\n     <g id=\"line2d_18\">\n      <g>\n       <use style=\"stroke:#000000;stroke-width:0.8;\" x=\"247.585991\" xlink:href=\"#me1a24a701e\" y=\"496.761601\"/>\n      </g>\n     </g>\n     <g id=\"text_20\">\n      <!-- 0.0158 -->\n      <g transform=\"translate(205.595366 500.56082)scale(0.1 -0.1)\">\n       <use xlink:href=\"#DejaVuSans-48\"/>\n       <use x=\"63.623047\" xlink:href=\"#DejaVuSans-46\"/>\n       <use x=\"95.410156\" xlink:href=\"#DejaVuSans-48\"/>\n       <use x=\"159.033203\" xlink:href=\"#DejaVuSans-49\"/>\n       <use x=\"222.65625\" xlink:href=\"#DejaVuSans-53\"/>\n       <use x=\"286.279297\" xlink:href=\"#DejaVuSans-56\"/>\n      </g>\n     </g>\n    </g>\n    <g id=\"ytick_7\">\n     <g id=\"line2d_19\">\n      <g>\n       <use style=\"stroke:#000000;stroke-width:0.8;\" x=\"247.585991\" xlink:href=\"#me1a24a701e\" y=\"441.601974\"/>\n      </g>\n     </g>\n     <g id=\"text_21\">\n      <!-- 0.0160 -->\n      <g transform=\"translate(205.595366 445.401193)scale(0.1 -0.1)\">\n       <use xlink:href=\"#DejaVuSans-48\"/>\n       <use x=\"63.623047\" xlink:href=\"#DejaVuSans-46\"/>\n       <use x=\"95.410156\" xlink:href=\"#DejaVuSans-48\"/>\n       <use x=\"159.033203\" xlink:href=\"#DejaVuSans-49\"/>\n       <use x=\"222.65625\" xlink:href=\"#DejaVuSans-54\"/>\n       <use x=\"286.279297\" xlink:href=\"#DejaVuSans-48\"/>\n      </g>\n     </g>\n    </g>\n    <g id=\"ytick_8\">\n     <g id=\"line2d_20\">\n      <g>\n       <use style=\"stroke:#000000;stroke-width:0.8;\" x=\"247.585991\" xlink:href=\"#me1a24a701e\" y=\"386.442347\"/>\n      </g>\n     </g>\n     <g id=\"text_22\">\n      <!-- 0.0162 -->\n      <g transform=\"translate(205.595366 390.241566)scale(0.1 -0.1)\">\n       <use xlink:href=\"#DejaVuSans-48\"/>\n       <use x=\"63.623047\" xlink:href=\"#DejaVuSans-46\"/>\n       <use x=\"95.410156\" xlink:href=\"#DejaVuSans-48\"/>\n       <use x=\"159.033203\" xlink:href=\"#DejaVuSans-49\"/>\n       <use x=\"222.65625\" xlink:href=\"#DejaVuSans-54\"/>\n       <use x=\"286.279297\" xlink:href=\"#DejaVuSans-50\"/>\n      </g>\n     </g>\n    </g>\n    <g id=\"ytick_9\">\n     <g id=\"line2d_21\">\n      <g>\n       <use style=\"stroke:#000000;stroke-width:0.8;\" x=\"247.585991\" xlink:href=\"#me1a24a701e\" y=\"331.28272\"/>\n      </g>\n     </g>\n     <g id=\"text_23\">\n      <!-- 0.0164 -->\n      <g transform=\"translate(205.595366 335.081939)scale(0.1 -0.1)\">\n       <use xlink:href=\"#DejaVuSans-48\"/>\n       <use x=\"63.623047\" xlink:href=\"#DejaVuSans-46\"/>\n       <use x=\"95.410156\" xlink:href=\"#DejaVuSans-48\"/>\n       <use x=\"159.033203\" xlink:href=\"#DejaVuSans-49\"/>\n       <use x=\"222.65625\" xlink:href=\"#DejaVuSans-54\"/>\n       <use x=\"286.279297\" xlink:href=\"#DejaVuSans-52\"/>\n      </g>\n     </g>\n    </g>\n    <g id=\"ytick_10\">\n     <g id=\"line2d_22\">\n      <g>\n       <use style=\"stroke:#000000;stroke-width:0.8;\" x=\"247.585991\" xlink:href=\"#me1a24a701e\" y=\"276.123093\"/>\n      </g>\n     </g>\n     <g id=\"text_24\">\n      <!-- 0.0166 -->\n      <g transform=\"translate(205.595366 279.922311)scale(0.1 -0.1)\">\n       <use xlink:href=\"#DejaVuSans-48\"/>\n       <use x=\"63.623047\" xlink:href=\"#DejaVuSans-46\"/>\n       <use x=\"95.410156\" xlink:href=\"#DejaVuSans-48\"/>\n       <use x=\"159.033203\" xlink:href=\"#DejaVuSans-49\"/>\n       <use x=\"222.65625\" xlink:href=\"#DejaVuSans-54\"/>\n       <use x=\"286.279297\" xlink:href=\"#DejaVuSans-54\"/>\n      </g>\n     </g>\n    </g>\n    <g id=\"ytick_11\">\n     <g id=\"line2d_23\">\n      <g>\n       <use style=\"stroke:#000000;stroke-width:0.8;\" x=\"247.585991\" xlink:href=\"#me1a24a701e\" y=\"220.963466\"/>\n      </g>\n     </g>\n     <g id=\"text_25\">\n      <!-- 0.0168 -->\n      <g transform=\"translate(205.595366 224.762684)scale(0.1 -0.1)\">\n       <use xlink:href=\"#DejaVuSans-48\"/>\n       <use x=\"63.623047\" xlink:href=\"#DejaVuSans-46\"/>\n       <use x=\"95.410156\" xlink:href=\"#DejaVuSans-48\"/>\n       <use x=\"159.033203\" xlink:href=\"#DejaVuSans-49\"/>\n       <use x=\"222.65625\" xlink:href=\"#DejaVuSans-54\"/>\n       <use x=\"286.279297\" xlink:href=\"#DejaVuSans-56\"/>\n      </g>\n     </g>\n    </g>\n    <g id=\"ytick_12\">\n     <g id=\"line2d_24\">\n      <g>\n       <use style=\"stroke:#000000;stroke-width:0.8;\" x=\"247.585991\" xlink:href=\"#me1a24a701e\" y=\"165.803838\"/>\n      </g>\n     </g>\n     <g id=\"text_26\">\n      <!-- 0.0170 -->\n      <g transform=\"translate(205.595366 169.603057)scale(0.1 -0.1)\">\n       <use xlink:href=\"#DejaVuSans-48\"/>\n       <use x=\"63.623047\" xlink:href=\"#DejaVuSans-46\"/>\n       <use x=\"95.410156\" xlink:href=\"#DejaVuSans-48\"/>\n       <use x=\"159.033203\" xlink:href=\"#DejaVuSans-49\"/>\n       <use x=\"222.65625\" xlink:href=\"#DejaVuSans-55\"/>\n       <use x=\"286.279297\" xlink:href=\"#DejaVuSans-48\"/>\n      </g>\n     </g>\n    </g>\n    <g id=\"ytick_13\">\n     <g id=\"line2d_25\">\n      <g>\n       <use style=\"stroke:#000000;stroke-width:0.8;\" x=\"247.585991\" xlink:href=\"#me1a24a701e\" y=\"110.644211\"/>\n      </g>\n     </g>\n     <g id=\"text_27\">\n      <!-- 0.0172 -->\n      <g transform=\"translate(205.595366 114.44343)scale(0.1 -0.1)\">\n       <use xlink:href=\"#DejaVuSans-48\"/>\n       <use x=\"63.623047\" xlink:href=\"#DejaVuSans-46\"/>\n       <use x=\"95.410156\" xlink:href=\"#DejaVuSans-48\"/>\n       <use x=\"159.033203\" xlink:href=\"#DejaVuSans-49\"/>\n       <use x=\"222.65625\" xlink:href=\"#DejaVuSans-55\"/>\n       <use x=\"286.279297\" xlink:href=\"#DejaVuSans-50\"/>\n      </g>\n     </g>\n    </g>\n    <g id=\"ytick_14\">\n     <g id=\"line2d_26\">\n      <g>\n       <use style=\"stroke:#000000;stroke-width:0.8;\" x=\"247.585991\" xlink:href=\"#me1a24a701e\" y=\"55.484584\"/>\n      </g>\n     </g>\n     <g id=\"text_28\">\n      <!-- 0.0174 -->\n      <g transform=\"translate(205.595366 59.283803)scale(0.1 -0.1)\">\n       <use xlink:href=\"#DejaVuSans-48\"/>\n       <use x=\"63.623047\" xlink:href=\"#DejaVuSans-46\"/>\n       <use x=\"95.410156\" xlink:href=\"#DejaVuSans-48\"/>\n       <use x=\"159.033203\" xlink:href=\"#DejaVuSans-49\"/>\n       <use x=\"222.65625\" xlink:href=\"#DejaVuSans-55\"/>\n       <use x=\"286.279297\" xlink:href=\"#DejaVuSans-52\"/>\n      </g>\n     </g>\n    </g>\n   </g>\n   <g id=\"line2d_27\">\n    <path clip-path=\"url(#p37bc21c854)\" d=\"M 247.585991 111.570567 \nL 401.517026 111.570567 \n\" style=\"fill:none;stroke:#1f77b4;stroke-linecap:square;stroke-width:1.5;\"/>\n   </g>\n   <g id=\"line2d_28\">\n    <path clip-path=\"url(#p37bc21c854)\" d=\"M 247.585991 489.319943 \nL 401.517026 489.319943 \n\" style=\"fill:none;stroke:#ff0000;stroke-linecap:square;stroke-width:1.5;\"/>\n   </g>\n   <g id=\"patch_8\">\n    <path d=\"M 247.585991 511.558125 \nL 247.585991 22.318125 \n\" style=\"fill:none;stroke:#000000;stroke-linecap:square;stroke-linejoin:miter;stroke-width:0.8;\"/>\n   </g>\n   <g id=\"patch_9\">\n    <path d=\"M 401.517026 511.558125 \nL 401.517026 22.318125 \n\" style=\"fill:none;stroke:#000000;stroke-linecap:square;stroke-linejoin:miter;stroke-width:0.8;\"/>\n   </g>\n   <g id=\"patch_10\">\n    <path d=\"M 247.585991 511.558125 \nL 401.517026 511.558125 \n\" style=\"fill:none;stroke:#000000;stroke-linecap:square;stroke-linejoin:miter;stroke-width:0.8;\"/>\n   </g>\n   <g id=\"patch_11\">\n    <path d=\"M 247.585991 22.318125 \nL 401.517026 22.318125 \n\" style=\"fill:none;stroke:#000000;stroke-linecap:square;stroke-linejoin:miter;stroke-width:0.8;\"/>\n   </g>\n   <g id=\"text_29\">\n    <!-- Variance in 10000 samples -->\n    <g transform=\"translate(243.413696 16.318125)scale(0.12 -0.12)\">\n     <use xlink:href=\"#DejaVuSans-86\"/>\n     <use x=\"60.658203\" xlink:href=\"#DejaVuSans-97\"/>\n     <use x=\"121.9375\" xlink:href=\"#DejaVuSans-114\"/>\n     <use x=\"163.050781\" xlink:href=\"#DejaVuSans-105\"/>\n     <use x=\"190.833984\" xlink:href=\"#DejaVuSans-97\"/>\n     <use x=\"252.113281\" xlink:href=\"#DejaVuSans-110\"/>\n     <use x=\"315.492188\" xlink:href=\"#DejaVuSans-99\"/>\n     <use x=\"370.472656\" xlink:href=\"#DejaVuSans-101\"/>\n     <use x=\"431.996094\" xlink:href=\"#DejaVuSans-32\"/>\n     <use x=\"463.783203\" xlink:href=\"#DejaVuSans-105\"/>\n     <use x=\"491.566406\" xlink:href=\"#DejaVuSans-110\"/>\n     <use x=\"554.945312\" xlink:href=\"#DejaVuSans-32\"/>\n     <use x=\"586.732422\" xlink:href=\"#DejaVuSans-49\"/>\n     <use x=\"650.355469\" xlink:href=\"#DejaVuSans-48\"/>\n     <use x=\"713.978516\" xlink:href=\"#DejaVuSans-48\"/>\n     <use x=\"777.601562\" xlink:href=\"#DejaVuSans-48\"/>\n     <use x=\"841.224609\" xlink:href=\"#DejaVuSans-48\"/>\n     <use x=\"904.847656\" xlink:href=\"#DejaVuSans-32\"/>\n     <use x=\"936.634766\" xlink:href=\"#DejaVuSans-115\"/>\n     <use x=\"988.734375\" xlink:href=\"#DejaVuSans-97\"/>\n     <use x=\"1050.013672\" xlink:href=\"#DejaVuSans-109\"/>\n     <use x=\"1147.425781\" xlink:href=\"#DejaVuSans-112\"/>\n     <use x=\"1210.902344\" xlink:href=\"#DejaVuSans-108\"/>\n     <use x=\"1238.685547\" xlink:href=\"#DejaVuSans-101\"/>\n     <use x=\"1300.208984\" xlink:href=\"#DejaVuSans-115\"/>\n    </g>\n   </g>\n  </g>\n  <g id=\"axes_3\">\n   <g id=\"patch_12\">\n    <path d=\"M 432.303233 511.558125 \nL 586.234267 511.558125 \nL 586.234267 22.318125 \nL 432.303233 22.318125 \nz\n\" style=\"fill:#ffffff;\"/>\n   </g>\n   <g id=\"PathCollection_3\">\n    <g clip-path=\"url(#pc85f02799e)\">\n     <use style=\"fill:#1f77b4;stroke:#1f77b4;\" x=\"439.300098\" xlink:href=\"#m9bd8212b29\" y=\"249.461855\"/>\n     <use style=\"fill:#1f77b4;stroke:#1f77b4;\" x=\"440.713606\" xlink:href=\"#m9bd8212b29\" y=\"187.668218\"/>\n     <use style=\"fill:#1f77b4;stroke:#1f77b4;\" x=\"442.127114\" xlink:href=\"#m9bd8212b29\" y=\"221.108451\"/>\n     <use style=\"fill:#1f77b4;stroke:#1f77b4;\" x=\"443.540622\" xlink:href=\"#m9bd8212b29\" y=\"289.355586\"/>\n     <use style=\"fill:#1f77b4;stroke:#1f77b4;\" x=\"444.95413\" xlink:href=\"#m9bd8212b29\" y=\"72.287712\"/>\n     <use style=\"fill:#1f77b4;stroke:#1f77b4;\" x=\"446.367639\" xlink:href=\"#m9bd8212b29\" y=\"369.428694\"/>\n     <use style=\"fill:#1f77b4;stroke:#1f77b4;\" x=\"447.781147\" xlink:href=\"#m9bd8212b29\" y=\"218.196475\"/>\n     <use style=\"fill:#1f77b4;stroke:#1f77b4;\" x=\"449.194655\" xlink:href=\"#m9bd8212b29\" y=\"303.128017\"/>\n     <use style=\"fill:#1f77b4;stroke:#1f77b4;\" x=\"450.608163\" xlink:href=\"#m9bd8212b29\" y=\"149.9544\"/>\n     <use style=\"fill:#1f77b4;stroke:#1f77b4;\" x=\"452.021671\" xlink:href=\"#m9bd8212b29\" y=\"207.136853\"/>\n     <use style=\"fill:#1f77b4;stroke:#1f77b4;\" x=\"453.435179\" xlink:href=\"#m9bd8212b29\" y=\"303.013949\"/>\n     <use style=\"fill:#1f77b4;stroke:#1f77b4;\" x=\"454.848687\" xlink:href=\"#m9bd8212b29\" y=\"98.902418\"/>\n     <use style=\"fill:#1f77b4;stroke:#1f77b4;\" x=\"456.262195\" xlink:href=\"#m9bd8212b29\" y=\"284.7531\"/>\n     <use style=\"fill:#1f77b4;stroke:#1f77b4;\" x=\"457.675704\" xlink:href=\"#m9bd8212b29\" y=\"415.450732\"/>\n     <use style=\"fill:#1f77b4;stroke:#1f77b4;\" x=\"459.089212\" xlink:href=\"#m9bd8212b29\" y=\"120.246731\"/>\n     <use style=\"fill:#1f77b4;stroke:#1f77b4;\" x=\"460.50272\" xlink:href=\"#m9bd8212b29\" y=\"202.711678\"/>\n     <use style=\"fill:#1f77b4;stroke:#1f77b4;\" x=\"461.916228\" xlink:href=\"#m9bd8212b29\" y=\"228.193998\"/>\n     <use style=\"fill:#1f77b4;stroke:#1f77b4;\" x=\"463.329736\" xlink:href=\"#m9bd8212b29\" y=\"388.356449\"/>\n     <use style=\"fill:#1f77b4;stroke:#1f77b4;\" x=\"464.743244\" xlink:href=\"#m9bd8212b29\" y=\"328.115729\"/>\n     <use style=\"fill:#1f77b4;stroke:#1f77b4;\" x=\"466.156752\" xlink:href=\"#m9bd8212b29\" y=\"358.509486\"/>\n     <use style=\"fill:#1f77b4;stroke:#1f77b4;\" x=\"467.57026\" xlink:href=\"#m9bd8212b29\" y=\"175.605965\"/>\n     <use style=\"fill:#1f77b4;stroke:#1f77b4;\" x=\"468.983769\" xlink:href=\"#m9bd8212b29\" y=\"282.292527\"/>\n     <use style=\"fill:#1f77b4;stroke:#1f77b4;\" x=\"470.397277\" xlink:href=\"#m9bd8212b29\" y=\"140.967984\"/>\n     <use style=\"fill:#1f77b4;stroke:#1f77b4;\" x=\"471.810785\" xlink:href=\"#m9bd8212b29\" y=\"281.386148\"/>\n     <use style=\"fill:#1f77b4;stroke:#1f77b4;\" x=\"473.224293\" xlink:href=\"#m9bd8212b29\" y=\"103.574482\"/>\n     <use style=\"fill:#1f77b4;stroke:#1f77b4;\" x=\"474.637801\" xlink:href=\"#m9bd8212b29\" y=\"270.034754\"/>\n     <use style=\"fill:#1f77b4;stroke:#1f77b4;\" x=\"476.051309\" xlink:href=\"#m9bd8212b29\" y=\"304.241894\"/>\n     <use style=\"fill:#1f77b4;stroke:#1f77b4;\" x=\"477.464817\" xlink:href=\"#m9bd8212b29\" y=\"230.709434\"/>\n     <use style=\"fill:#1f77b4;stroke:#1f77b4;\" x=\"478.878325\" xlink:href=\"#m9bd8212b29\" y=\"302.286478\"/>\n     <use style=\"fill:#1f77b4;stroke:#1f77b4;\" x=\"480.291833\" xlink:href=\"#m9bd8212b29\" y=\"291.403608\"/>\n     <use style=\"fill:#1f77b4;stroke:#1f77b4;\" x=\"481.705342\" xlink:href=\"#m9bd8212b29\" y=\"347.055892\"/>\n     <use style=\"fill:#1f77b4;stroke:#1f77b4;\" x=\"483.11885\" xlink:href=\"#m9bd8212b29\" y=\"186.401904\"/>\n     <use style=\"fill:#1f77b4;stroke:#1f77b4;\" x=\"484.532358\" xlink:href=\"#m9bd8212b29\" y=\"300.472739\"/>\n     <use style=\"fill:#1f77b4;stroke:#1f77b4;\" x=\"485.945866\" xlink:href=\"#m9bd8212b29\" y=\"260.625712\"/>\n     <use style=\"fill:#1f77b4;stroke:#1f77b4;\" x=\"487.359374\" xlink:href=\"#m9bd8212b29\" y=\"238.564088\"/>\n     <use style=\"fill:#1f77b4;stroke:#1f77b4;\" x=\"488.772882\" xlink:href=\"#m9bd8212b29\" y=\"143.22501\"/>\n     <use style=\"fill:#1f77b4;stroke:#1f77b4;\" x=\"490.18639\" xlink:href=\"#m9bd8212b29\" y=\"291.171456\"/>\n     <use style=\"fill:#1f77b4;stroke:#1f77b4;\" x=\"491.599898\" xlink:href=\"#m9bd8212b29\" y=\"342.814117\"/>\n     <use style=\"fill:#1f77b4;stroke:#1f77b4;\" x=\"493.013407\" xlink:href=\"#m9bd8212b29\" y=\"355.553437\"/>\n     <use style=\"fill:#1f77b4;stroke:#1f77b4;\" x=\"494.426915\" xlink:href=\"#m9bd8212b29\" y=\"202.660281\"/>\n     <use style=\"fill:#1f77b4;stroke:#1f77b4;\" x=\"495.840423\" xlink:href=\"#m9bd8212b29\" y=\"380.998439\"/>\n     <use style=\"fill:#1f77b4;stroke:#1f77b4;\" x=\"497.253931\" xlink:href=\"#m9bd8212b29\" y=\"313.10315\"/>\n     <use style=\"fill:#1f77b4;stroke:#1f77b4;\" x=\"498.667439\" xlink:href=\"#m9bd8212b29\" y=\"321.867649\"/>\n     <use style=\"fill:#1f77b4;stroke:#1f77b4;\" x=\"500.080947\" xlink:href=\"#m9bd8212b29\" y=\"316.221357\"/>\n     <use style=\"fill:#1f77b4;stroke:#1f77b4;\" x=\"501.494455\" xlink:href=\"#m9bd8212b29\" y=\"403.009891\"/>\n     <use style=\"fill:#1f77b4;stroke:#1f77b4;\" x=\"502.907963\" xlink:href=\"#m9bd8212b29\" y=\"248.642145\"/>\n     <use style=\"fill:#1f77b4;stroke:#1f77b4;\" x=\"504.321472\" xlink:href=\"#m9bd8212b29\" y=\"248.077141\"/>\n     <use style=\"fill:#1f77b4;stroke:#1f77b4;\" x=\"505.73498\" xlink:href=\"#m9bd8212b29\" y=\"131.217672\"/>\n     <use style=\"fill:#1f77b4;stroke:#1f77b4;\" x=\"507.148488\" xlink:href=\"#m9bd8212b29\" y=\"162.324825\"/>\n     <use style=\"fill:#1f77b4;stroke:#1f77b4;\" x=\"508.561996\" xlink:href=\"#m9bd8212b29\" y=\"373.674288\"/>\n     <use style=\"fill:#1f77b4;stroke:#1f77b4;\" x=\"509.975504\" xlink:href=\"#m9bd8212b29\" y=\"256.832978\"/>\n     <use style=\"fill:#1f77b4;stroke:#1f77b4;\" x=\"511.389012\" xlink:href=\"#m9bd8212b29\" y=\"316.938964\"/>\n     <use style=\"fill:#1f77b4;stroke:#1f77b4;\" x=\"512.80252\" xlink:href=\"#m9bd8212b29\" y=\"359.359565\"/>\n     <use style=\"fill:#1f77b4;stroke:#1f77b4;\" x=\"514.216028\" xlink:href=\"#m9bd8212b29\" y=\"195.789012\"/>\n     <use style=\"fill:#1f77b4;stroke:#1f77b4;\" x=\"515.629537\" xlink:href=\"#m9bd8212b29\" y=\"301.258704\"/>\n     <use style=\"fill:#1f77b4;stroke:#1f77b4;\" x=\"517.043045\" xlink:href=\"#m9bd8212b29\" y=\"209.266654\"/>\n     <use style=\"fill:#1f77b4;stroke:#1f77b4;\" x=\"518.456553\" xlink:href=\"#m9bd8212b29\" y=\"177.354869\"/>\n     <use style=\"fill:#1f77b4;stroke:#1f77b4;\" x=\"519.870061\" xlink:href=\"#m9bd8212b29\" y=\"168.366012\"/>\n     <use style=\"fill:#1f77b4;stroke:#1f77b4;\" x=\"521.283569\" xlink:href=\"#m9bd8212b29\" y=\"221.996995\"/>\n     <use style=\"fill:#1f77b4;stroke:#1f77b4;\" x=\"522.697077\" xlink:href=\"#m9bd8212b29\" y=\"287.023585\"/>\n     <use style=\"fill:#1f77b4;stroke:#1f77b4;\" x=\"524.110585\" xlink:href=\"#m9bd8212b29\" y=\"255.415062\"/>\n     <use style=\"fill:#1f77b4;stroke:#1f77b4;\" x=\"525.524093\" xlink:href=\"#m9bd8212b29\" y=\"247.920198\"/>\n     <use style=\"fill:#1f77b4;stroke:#1f77b4;\" x=\"526.937602\" xlink:href=\"#m9bd8212b29\" y=\"215.287845\"/>\n     <use style=\"fill:#1f77b4;stroke:#1f77b4;\" x=\"528.35111\" xlink:href=\"#m9bd8212b29\" y=\"286.74683\"/>\n     <use style=\"fill:#1f77b4;stroke:#1f77b4;\" x=\"529.764618\" xlink:href=\"#m9bd8212b29\" y=\"401.289233\"/>\n     <use style=\"fill:#1f77b4;stroke:#1f77b4;\" x=\"531.178126\" xlink:href=\"#m9bd8212b29\" y=\"156.034849\"/>\n     <use style=\"fill:#1f77b4;stroke:#1f77b4;\" x=\"532.591634\" xlink:href=\"#m9bd8212b29\" y=\"143.756928\"/>\n     <use style=\"fill:#1f77b4;stroke:#1f77b4;\" x=\"534.005142\" xlink:href=\"#m9bd8212b29\" y=\"262.786269\"/>\n     <use style=\"fill:#1f77b4;stroke:#1f77b4;\" x=\"535.41865\" xlink:href=\"#m9bd8212b29\" y=\"263.545922\"/>\n     <use style=\"fill:#1f77b4;stroke:#1f77b4;\" x=\"536.832158\" xlink:href=\"#m9bd8212b29\" y=\"328.838868\"/>\n     <use style=\"fill:#1f77b4;stroke:#1f77b4;\" x=\"538.245667\" xlink:href=\"#m9bd8212b29\" y=\"208.658644\"/>\n     <use style=\"fill:#1f77b4;stroke:#1f77b4;\" x=\"539.659175\" xlink:href=\"#m9bd8212b29\" y=\"327.815294\"/>\n     <use style=\"fill:#1f77b4;stroke:#1f77b4;\" x=\"541.072683\" xlink:href=\"#m9bd8212b29\" y=\"105.306327\"/>\n     <use style=\"fill:#1f77b4;stroke:#1f77b4;\" x=\"542.486191\" xlink:href=\"#m9bd8212b29\" y=\"489.319943\"/>\n     <use style=\"fill:#1f77b4;stroke:#1f77b4;\" x=\"543.899699\" xlink:href=\"#m9bd8212b29\" y=\"405.0089\"/>\n     <use style=\"fill:#1f77b4;stroke:#1f77b4;\" x=\"545.313207\" xlink:href=\"#m9bd8212b29\" y=\"333.046451\"/>\n     <use style=\"fill:#1f77b4;stroke:#1f77b4;\" x=\"546.726715\" xlink:href=\"#m9bd8212b29\" y=\"136.75238\"/>\n     <use style=\"fill:#1f77b4;stroke:#1f77b4;\" x=\"548.140223\" xlink:href=\"#m9bd8212b29\" y=\"376.290916\"/>\n     <use style=\"fill:#1f77b4;stroke:#1f77b4;\" x=\"549.553731\" xlink:href=\"#m9bd8212b29\" y=\"441.609483\"/>\n     <use style=\"fill:#1f77b4;stroke:#1f77b4;\" x=\"550.96724\" xlink:href=\"#m9bd8212b29\" y=\"252.309625\"/>\n     <use style=\"fill:#1f77b4;stroke:#1f77b4;\" x=\"552.380748\" xlink:href=\"#m9bd8212b29\" y=\"208.295848\"/>\n     <use style=\"fill:#1f77b4;stroke:#1f77b4;\" x=\"553.794256\" xlink:href=\"#m9bd8212b29\" y=\"231.998227\"/>\n     <use style=\"fill:#1f77b4;stroke:#1f77b4;\" x=\"555.207764\" xlink:href=\"#m9bd8212b29\" y=\"175.304398\"/>\n     <use style=\"fill:#1f77b4;stroke:#1f77b4;\" x=\"556.621272\" xlink:href=\"#m9bd8212b29\" y=\"413.129633\"/>\n     <use style=\"fill:#1f77b4;stroke:#1f77b4;\" x=\"558.03478\" xlink:href=\"#m9bd8212b29\" y=\"287.877611\"/>\n     <use style=\"fill:#1f77b4;stroke:#1f77b4;\" x=\"559.448288\" xlink:href=\"#m9bd8212b29\" y=\"44.556307\"/>\n     <use style=\"fill:#1f77b4;stroke:#1f77b4;\" x=\"560.861796\" xlink:href=\"#m9bd8212b29\" y=\"324.954951\"/>\n     <use style=\"fill:#1f77b4;stroke:#1f77b4;\" x=\"562.275305\" xlink:href=\"#m9bd8212b29\" y=\"221.684045\"/>\n     <use style=\"fill:#1f77b4;stroke:#1f77b4;\" x=\"563.688813\" xlink:href=\"#m9bd8212b29\" y=\"444.909578\"/>\n     <use style=\"fill:#1f77b4;stroke:#1f77b4;\" x=\"565.102321\" xlink:href=\"#m9bd8212b29\" y=\"159.918325\"/>\n     <use style=\"fill:#1f77b4;stroke:#1f77b4;\" x=\"566.515829\" xlink:href=\"#m9bd8212b29\" y=\"183.995577\"/>\n     <use style=\"fill:#1f77b4;stroke:#1f77b4;\" x=\"567.929337\" xlink:href=\"#m9bd8212b29\" y=\"218.070389\"/>\n     <use style=\"fill:#1f77b4;stroke:#1f77b4;\" x=\"569.342845\" xlink:href=\"#m9bd8212b29\" y=\"261.539759\"/>\n     <use style=\"fill:#1f77b4;stroke:#1f77b4;\" x=\"570.756353\" xlink:href=\"#m9bd8212b29\" y=\"156.270353\"/>\n     <use style=\"fill:#1f77b4;stroke:#1f77b4;\" x=\"572.169861\" xlink:href=\"#m9bd8212b29\" y=\"210.60964\"/>\n     <use style=\"fill:#1f77b4;stroke:#1f77b4;\" x=\"573.58337\" xlink:href=\"#m9bd8212b29\" y=\"272.812314\"/>\n     <use style=\"fill:#1f77b4;stroke:#1f77b4;\" x=\"574.996878\" xlink:href=\"#m9bd8212b29\" y=\"319.669093\"/>\n     <use style=\"fill:#1f77b4;stroke:#1f77b4;\" x=\"576.410386\" xlink:href=\"#m9bd8212b29\" y=\"334.897439\"/>\n     <use style=\"fill:#1f77b4;stroke:#1f77b4;\" x=\"577.823894\" xlink:href=\"#m9bd8212b29\" y=\"336.433723\"/>\n     <use style=\"fill:#1f77b4;stroke:#1f77b4;\" x=\"579.237402\" xlink:href=\"#m9bd8212b29\" y=\"264.321247\"/>\n    </g>\n   </g>\n   <g id=\"matplotlib.axis_5\">\n    <g id=\"xtick_11\">\n     <g id=\"line2d_29\">\n      <g>\n       <use style=\"stroke:#000000;stroke-width:0.8;\" x=\"437.88659\" xlink:href=\"#m5e8504a32e\" y=\"511.558125\"/>\n      </g>\n     </g>\n     <g id=\"text_30\">\n      <!-- 0 -->\n      <g transform=\"translate(434.70534 526.156562)scale(0.1 -0.1)\">\n       <use xlink:href=\"#DejaVuSans-48\"/>\n      </g>\n     </g>\n    </g>\n    <g id=\"xtick_12\">\n     <g id=\"line2d_30\">\n      <g>\n       <use style=\"stroke:#000000;stroke-width:0.8;\" x=\"473.224293\" xlink:href=\"#m5e8504a32e\" y=\"511.558125\"/>\n      </g>\n     </g>\n     <g id=\"text_31\">\n      <!-- 25 -->\n      <g transform=\"translate(466.861793 526.156562)scale(0.1 -0.1)\">\n       <use xlink:href=\"#DejaVuSans-50\"/>\n       <use x=\"63.623047\" xlink:href=\"#DejaVuSans-53\"/>\n      </g>\n     </g>\n    </g>\n    <g id=\"xtick_13\">\n     <g id=\"line2d_31\">\n      <g>\n       <use style=\"stroke:#000000;stroke-width:0.8;\" x=\"508.561996\" xlink:href=\"#m5e8504a32e\" y=\"511.558125\"/>\n      </g>\n     </g>\n     <g id=\"text_32\">\n      <!-- 50 -->\n      <g transform=\"translate(502.199496 526.156562)scale(0.1 -0.1)\">\n       <use xlink:href=\"#DejaVuSans-53\"/>\n       <use x=\"63.623047\" xlink:href=\"#DejaVuSans-48\"/>\n      </g>\n     </g>\n    </g>\n    <g id=\"xtick_14\">\n     <g id=\"line2d_32\">\n      <g>\n       <use style=\"stroke:#000000;stroke-width:0.8;\" x=\"543.899699\" xlink:href=\"#m5e8504a32e\" y=\"511.558125\"/>\n      </g>\n     </g>\n     <g id=\"text_33\">\n      <!-- 75 -->\n      <g transform=\"translate(537.537199 526.156562)scale(0.1 -0.1)\">\n       <use xlink:href=\"#DejaVuSans-55\"/>\n       <use x=\"63.623047\" xlink:href=\"#DejaVuSans-53\"/>\n      </g>\n     </g>\n    </g>\n    <g id=\"xtick_15\">\n     <g id=\"line2d_33\">\n      <g>\n       <use style=\"stroke:#000000;stroke-width:0.8;\" x=\"579.237402\" xlink:href=\"#m5e8504a32e\" y=\"511.558125\"/>\n      </g>\n     </g>\n     <g id=\"text_34\">\n      <!-- 100 -->\n      <g transform=\"translate(569.693652 526.156562)scale(0.1 -0.1)\">\n       <use xlink:href=\"#DejaVuSans-49\"/>\n       <use x=\"63.623047\" xlink:href=\"#DejaVuSans-48\"/>\n       <use x=\"127.246094\" xlink:href=\"#DejaVuSans-48\"/>\n      </g>\n     </g>\n    </g>\n    <g id=\"text_35\">\n     <!-- Sample # -->\n     <g transform=\"translate(484.741406 539.834687)scale(0.1 -0.1)\">\n      <use xlink:href=\"#DejaVuSans-83\"/>\n      <use x=\"63.476562\" xlink:href=\"#DejaVuSans-97\"/>\n      <use x=\"124.755859\" xlink:href=\"#DejaVuSans-109\"/>\n      <use x=\"222.167969\" xlink:href=\"#DejaVuSans-112\"/>\n      <use x=\"285.644531\" xlink:href=\"#DejaVuSans-108\"/>\n      <use x=\"313.427734\" xlink:href=\"#DejaVuSans-101\"/>\n      <use x=\"374.951172\" xlink:href=\"#DejaVuSans-32\"/>\n      <use x=\"406.738281\" xlink:href=\"#DejaVuSans-35\"/>\n     </g>\n    </g>\n   </g>\n   <g id=\"matplotlib.axis_6\">\n    <g id=\"ytick_15\">\n     <g id=\"line2d_34\">\n      <g>\n       <use style=\"stroke:#000000;stroke-width:0.8;\" x=\"432.303233\" xlink:href=\"#me1a24a701e\" y=\"475.345496\"/>\n      </g>\n     </g>\n     <g id=\"text_36\">\n      <!-- 0.0535 -->\n      <g transform=\"translate(390.312608 479.144714)scale(0.1 -0.1)\">\n       <use xlink:href=\"#DejaVuSans-48\"/>\n       <use x=\"63.623047\" xlink:href=\"#DejaVuSans-46\"/>\n       <use x=\"95.410156\" xlink:href=\"#DejaVuSans-48\"/>\n       <use x=\"159.033203\" xlink:href=\"#DejaVuSans-53\"/>\n       <use x=\"222.65625\" xlink:href=\"#DejaVuSans-51\"/>\n       <use x=\"286.279297\" xlink:href=\"#DejaVuSans-53\"/>\n      </g>\n     </g>\n    </g>\n    <g id=\"ytick_16\">\n     <g id=\"line2d_35\">\n      <g>\n       <use style=\"stroke:#000000;stroke-width:0.8;\" x=\"432.303233\" xlink:href=\"#me1a24a701e\" y=\"417.06078\"/>\n      </g>\n     </g>\n     <g id=\"text_37\">\n      <!-- 0.0540 -->\n      <g transform=\"translate(390.312608 420.859999)scale(0.1 -0.1)\">\n       <use xlink:href=\"#DejaVuSans-48\"/>\n       <use x=\"63.623047\" xlink:href=\"#DejaVuSans-46\"/>\n       <use x=\"95.410156\" xlink:href=\"#DejaVuSans-48\"/>\n       <use x=\"159.033203\" xlink:href=\"#DejaVuSans-53\"/>\n       <use x=\"222.65625\" xlink:href=\"#DejaVuSans-52\"/>\n       <use x=\"286.279297\" xlink:href=\"#DejaVuSans-48\"/>\n      </g>\n     </g>\n    </g>\n    <g id=\"ytick_17\">\n     <g id=\"line2d_36\">\n      <g>\n       <use style=\"stroke:#000000;stroke-width:0.8;\" x=\"432.303233\" xlink:href=\"#me1a24a701e\" y=\"358.776065\"/>\n      </g>\n     </g>\n     <g id=\"text_38\">\n      <!-- 0.0545 -->\n      <g transform=\"translate(390.312608 362.575284)scale(0.1 -0.1)\">\n       <use xlink:href=\"#DejaVuSans-48\"/>\n       <use x=\"63.623047\" xlink:href=\"#DejaVuSans-46\"/>\n       <use x=\"95.410156\" xlink:href=\"#DejaVuSans-48\"/>\n       <use x=\"159.033203\" xlink:href=\"#DejaVuSans-53\"/>\n       <use x=\"222.65625\" xlink:href=\"#DejaVuSans-52\"/>\n       <use x=\"286.279297\" xlink:href=\"#DejaVuSans-53\"/>\n      </g>\n     </g>\n    </g>\n    <g id=\"ytick_18\">\n     <g id=\"line2d_37\">\n      <g>\n       <use style=\"stroke:#000000;stroke-width:0.8;\" x=\"432.303233\" xlink:href=\"#me1a24a701e\" y=\"300.49135\"/>\n      </g>\n     </g>\n     <g id=\"text_39\">\n      <!-- 0.0550 -->\n      <g transform=\"translate(390.312608 304.290569)scale(0.1 -0.1)\">\n       <use xlink:href=\"#DejaVuSans-48\"/>\n       <use x=\"63.623047\" xlink:href=\"#DejaVuSans-46\"/>\n       <use x=\"95.410156\" xlink:href=\"#DejaVuSans-48\"/>\n       <use x=\"159.033203\" xlink:href=\"#DejaVuSans-53\"/>\n       <use x=\"222.65625\" xlink:href=\"#DejaVuSans-53\"/>\n       <use x=\"286.279297\" xlink:href=\"#DejaVuSans-48\"/>\n      </g>\n     </g>\n    </g>\n    <g id=\"ytick_19\">\n     <g id=\"line2d_38\">\n      <g>\n       <use style=\"stroke:#000000;stroke-width:0.8;\" x=\"432.303233\" xlink:href=\"#me1a24a701e\" y=\"242.206635\"/>\n      </g>\n     </g>\n     <g id=\"text_40\">\n      <!-- 0.0555 -->\n      <g transform=\"translate(390.312608 246.005854)scale(0.1 -0.1)\">\n       <use xlink:href=\"#DejaVuSans-48\"/>\n       <use x=\"63.623047\" xlink:href=\"#DejaVuSans-46\"/>\n       <use x=\"95.410156\" xlink:href=\"#DejaVuSans-48\"/>\n       <use x=\"159.033203\" xlink:href=\"#DejaVuSans-53\"/>\n       <use x=\"222.65625\" xlink:href=\"#DejaVuSans-53\"/>\n       <use x=\"286.279297\" xlink:href=\"#DejaVuSans-53\"/>\n      </g>\n     </g>\n    </g>\n    <g id=\"ytick_20\">\n     <g id=\"line2d_39\">\n      <g>\n       <use style=\"stroke:#000000;stroke-width:0.8;\" x=\"432.303233\" xlink:href=\"#me1a24a701e\" y=\"183.92192\"/>\n      </g>\n     </g>\n     <g id=\"text_41\">\n      <!-- 0.0560 -->\n      <g transform=\"translate(390.312608 187.721138)scale(0.1 -0.1)\">\n       <use xlink:href=\"#DejaVuSans-48\"/>\n       <use x=\"63.623047\" xlink:href=\"#DejaVuSans-46\"/>\n       <use x=\"95.410156\" xlink:href=\"#DejaVuSans-48\"/>\n       <use x=\"159.033203\" xlink:href=\"#DejaVuSans-53\"/>\n       <use x=\"222.65625\" xlink:href=\"#DejaVuSans-54\"/>\n       <use x=\"286.279297\" xlink:href=\"#DejaVuSans-48\"/>\n      </g>\n     </g>\n    </g>\n    <g id=\"ytick_21\">\n     <g id=\"line2d_40\">\n      <g>\n       <use style=\"stroke:#000000;stroke-width:0.8;\" x=\"432.303233\" xlink:href=\"#me1a24a701e\" y=\"125.637204\"/>\n      </g>\n     </g>\n     <g id=\"text_42\">\n      <!-- 0.0565 -->\n      <g transform=\"translate(390.312608 129.436423)scale(0.1 -0.1)\">\n       <use xlink:href=\"#DejaVuSans-48\"/>\n       <use x=\"63.623047\" xlink:href=\"#DejaVuSans-46\"/>\n       <use x=\"95.410156\" xlink:href=\"#DejaVuSans-48\"/>\n       <use x=\"159.033203\" xlink:href=\"#DejaVuSans-53\"/>\n       <use x=\"222.65625\" xlink:href=\"#DejaVuSans-54\"/>\n       <use x=\"286.279297\" xlink:href=\"#DejaVuSans-53\"/>\n      </g>\n     </g>\n    </g>\n    <g id=\"ytick_22\">\n     <g id=\"line2d_41\">\n      <g>\n       <use style=\"stroke:#000000;stroke-width:0.8;\" x=\"432.303233\" xlink:href=\"#me1a24a701e\" y=\"67.352489\"/>\n      </g>\n     </g>\n     <g id=\"text_43\">\n      <!-- 0.0570 -->\n      <g transform=\"translate(390.312608 71.151708)scale(0.1 -0.1)\">\n       <use xlink:href=\"#DejaVuSans-48\"/>\n       <use x=\"63.623047\" xlink:href=\"#DejaVuSans-46\"/>\n       <use x=\"95.410156\" xlink:href=\"#DejaVuSans-48\"/>\n       <use x=\"159.033203\" xlink:href=\"#DejaVuSans-53\"/>\n       <use x=\"222.65625\" xlink:href=\"#DejaVuSans-55\"/>\n       <use x=\"286.279297\" xlink:href=\"#DejaVuSans-48\"/>\n      </g>\n     </g>\n    </g>\n   </g>\n   <g id=\"line2d_42\">\n    <path clip-path=\"url(#pc85f02799e)\" d=\"M 432.303233 261.493408 \nL 586.234267 261.493408 \n\" style=\"fill:none;stroke:#1f77b4;stroke-linecap:square;stroke-width:1.5;\"/>\n   </g>\n   <g id=\"line2d_43\">\n    <path clip-path=\"url(#pc85f02799e)\" d=\"M 432.303233 407.492837 \nL 586.234267 407.492837 \n\" style=\"fill:none;stroke:#ff0000;stroke-linecap:square;stroke-width:1.5;\"/>\n   </g>\n   <g id=\"patch_13\">\n    <path d=\"M 432.303233 511.558125 \nL 432.303233 22.318125 \n\" style=\"fill:none;stroke:#000000;stroke-linecap:square;stroke-linejoin:miter;stroke-width:0.8;\"/>\n   </g>\n   <g id=\"patch_14\">\n    <path d=\"M 586.234267 511.558125 \nL 586.234267 22.318125 \n\" style=\"fill:none;stroke:#000000;stroke-linecap:square;stroke-linejoin:miter;stroke-width:0.8;\"/>\n   </g>\n   <g id=\"patch_15\">\n    <path d=\"M 432.303233 511.558125 \nL 586.234267 511.558125 \n\" style=\"fill:none;stroke:#000000;stroke-linecap:square;stroke-linejoin:miter;stroke-width:0.8;\"/>\n   </g>\n   <g id=\"patch_16\">\n    <path d=\"M 432.303233 22.318125 \nL 586.234267 22.318125 \n\" style=\"fill:none;stroke:#000000;stroke-linecap:square;stroke-linejoin:miter;stroke-width:0.8;\"/>\n   </g>\n   <g id=\"text_44\">\n    <!-- Variance in 5000 samples -->\n    <g transform=\"translate(431.948438 16.318125)scale(0.12 -0.12)\">\n     <use xlink:href=\"#DejaVuSans-86\"/>\n     <use x=\"60.658203\" xlink:href=\"#DejaVuSans-97\"/>\n     <use x=\"121.9375\" xlink:href=\"#DejaVuSans-114\"/>\n     <use x=\"163.050781\" xlink:href=\"#DejaVuSans-105\"/>\n     <use x=\"190.833984\" xlink:href=\"#DejaVuSans-97\"/>\n     <use x=\"252.113281\" xlink:href=\"#DejaVuSans-110\"/>\n     <use x=\"315.492188\" xlink:href=\"#DejaVuSans-99\"/>\n     <use x=\"370.472656\" xlink:href=\"#DejaVuSans-101\"/>\n     <use x=\"431.996094\" xlink:href=\"#DejaVuSans-32\"/>\n     <use x=\"463.783203\" xlink:href=\"#DejaVuSans-105\"/>\n     <use x=\"491.566406\" xlink:href=\"#DejaVuSans-110\"/>\n     <use x=\"554.945312\" xlink:href=\"#DejaVuSans-32\"/>\n     <use x=\"586.732422\" xlink:href=\"#DejaVuSans-53\"/>\n     <use x=\"650.355469\" xlink:href=\"#DejaVuSans-48\"/>\n     <use x=\"713.978516\" xlink:href=\"#DejaVuSans-48\"/>\n     <use x=\"777.601562\" xlink:href=\"#DejaVuSans-48\"/>\n     <use x=\"841.224609\" xlink:href=\"#DejaVuSans-32\"/>\n     <use x=\"873.011719\" xlink:href=\"#DejaVuSans-115\"/>\n     <use x=\"925.111328\" xlink:href=\"#DejaVuSans-97\"/>\n     <use x=\"986.390625\" xlink:href=\"#DejaVuSans-109\"/>\n     <use x=\"1083.802734\" xlink:href=\"#DejaVuSans-112\"/>\n     <use x=\"1147.279297\" xlink:href=\"#DejaVuSans-108\"/>\n     <use x=\"1175.0625\" xlink:href=\"#DejaVuSans-101\"/>\n     <use x=\"1236.585938\" xlink:href=\"#DejaVuSans-115\"/>\n    </g>\n   </g>\n  </g>\n  <g id=\"axes_4\">\n   <g id=\"patch_17\">\n    <path d=\"M 617.020474 511.558125 \nL 770.951509 511.558125 \nL 770.951509 22.318125 \nL 617.020474 22.318125 \nz\n\" style=\"fill:#ffffff;\"/>\n   </g>\n   <g id=\"PathCollection_4\">\n    <g clip-path=\"url(#p6aeefa998a)\">\n     <use style=\"fill:#1f77b4;stroke:#1f77b4;\" x=\"624.017339\" xlink:href=\"#m9bd8212b29\" y=\"126.821602\"/>\n     <use style=\"fill:#1f77b4;stroke:#1f77b4;\" x=\"625.430847\" xlink:href=\"#m9bd8212b29\" y=\"168.533826\"/>\n     <use style=\"fill:#1f77b4;stroke:#1f77b4;\" x=\"626.844356\" xlink:href=\"#m9bd8212b29\" y=\"145.429016\"/>\n     <use style=\"fill:#1f77b4;stroke:#1f77b4;\" x=\"628.257864\" xlink:href=\"#m9bd8212b29\" y=\"104.386255\"/>\n     <use style=\"fill:#1f77b4;stroke:#1f77b4;\" x=\"629.671372\" xlink:href=\"#m9bd8212b29\" y=\"67.24028\"/>\n     <use style=\"fill:#1f77b4;stroke:#1f77b4;\" x=\"631.08488\" xlink:href=\"#m9bd8212b29\" y=\"163.066345\"/>\n     <use style=\"fill:#1f77b4;stroke:#1f77b4;\" x=\"632.498388\" xlink:href=\"#m9bd8212b29\" y=\"131.379599\"/>\n     <use style=\"fill:#1f77b4;stroke:#1f77b4;\" x=\"633.911896\" xlink:href=\"#m9bd8212b29\" y=\"148.825572\"/>\n     <use style=\"fill:#1f77b4;stroke:#1f77b4;\" x=\"635.325404\" xlink:href=\"#m9bd8212b29\" y=\"93.861463\"/>\n     <use style=\"fill:#1f77b4;stroke:#1f77b4;\" x=\"636.738912\" xlink:href=\"#m9bd8212b29\" y=\"115.552787\"/>\n     <use style=\"fill:#1f77b4;stroke:#1f77b4;\" x=\"638.152421\" xlink:href=\"#m9bd8212b29\" y=\"143.396153\"/>\n     <use style=\"fill:#1f77b4;stroke:#1f77b4;\" x=\"639.565929\" xlink:href=\"#m9bd8212b29\" y=\"148.518259\"/>\n     <use style=\"fill:#1f77b4;stroke:#1f77b4;\" x=\"640.979437\" xlink:href=\"#m9bd8212b29\" y=\"141.342374\"/>\n     <use style=\"fill:#1f77b4;stroke:#1f77b4;\" x=\"642.392945\" xlink:href=\"#m9bd8212b29\" y=\"136.21942\"/>\n     <use style=\"fill:#1f77b4;stroke:#1f77b4;\" x=\"643.806453\" xlink:href=\"#m9bd8212b29\" y=\"44.556307\"/>\n     <use style=\"fill:#1f77b4;stroke:#1f77b4;\" x=\"645.219961\" xlink:href=\"#m9bd8212b29\" y=\"126.023297\"/>\n     <use style=\"fill:#1f77b4;stroke:#1f77b4;\" x=\"646.633469\" xlink:href=\"#m9bd8212b29\" y=\"176.849006\"/>\n     <use style=\"fill:#1f77b4;stroke:#1f77b4;\" x=\"648.046977\" xlink:href=\"#m9bd8212b29\" y=\"161.553835\"/>\n     <use style=\"fill:#1f77b4;stroke:#1f77b4;\" x=\"649.460486\" xlink:href=\"#m9bd8212b29\" y=\"134.286026\"/>\n     <use style=\"fill:#1f77b4;stroke:#1f77b4;\" x=\"650.873994\" xlink:href=\"#m9bd8212b29\" y=\"151.763814\"/>\n     <use style=\"fill:#1f77b4;stroke:#1f77b4;\" x=\"652.287502\" xlink:href=\"#m9bd8212b29\" y=\"93.718927\"/>\n     <use style=\"fill:#1f77b4;stroke:#1f77b4;\" x=\"653.70101\" xlink:href=\"#m9bd8212b29\" y=\"146.998037\"/>\n     <use style=\"fill:#1f77b4;stroke:#1f77b4;\" x=\"655.114518\" xlink:href=\"#m9bd8212b29\" y=\"103.019314\"/>\n     <use style=\"fill:#1f77b4;stroke:#1f77b4;\" x=\"656.528026\" xlink:href=\"#m9bd8212b29\" y=\"70.991867\"/>\n     <use style=\"fill:#1f77b4;stroke:#1f77b4;\" x=\"657.941534\" xlink:href=\"#m9bd8212b29\" y=\"132.741612\"/>\n     <use style=\"fill:#1f77b4;stroke:#1f77b4;\" x=\"659.355042\" xlink:href=\"#m9bd8212b29\" y=\"117.642183\"/>\n     <use style=\"fill:#1f77b4;stroke:#1f77b4;\" x=\"660.768551\" xlink:href=\"#m9bd8212b29\" y=\"179.967881\"/>\n     <use style=\"fill:#1f77b4;stroke:#1f77b4;\" x=\"662.182059\" xlink:href=\"#m9bd8212b29\" y=\"191.540237\"/>\n     <use style=\"fill:#1f77b4;stroke:#1f77b4;\" x=\"663.595567\" xlink:href=\"#m9bd8212b29\" y=\"137.370946\"/>\n     <use style=\"fill:#1f77b4;stroke:#1f77b4;\" x=\"665.009075\" xlink:href=\"#m9bd8212b29\" y=\"142.711032\"/>\n     <use style=\"fill:#1f77b4;stroke:#1f77b4;\" x=\"666.422583\" xlink:href=\"#m9bd8212b29\" y=\"154.009289\"/>\n     <use style=\"fill:#1f77b4;stroke:#1f77b4;\" x=\"667.836091\" xlink:href=\"#m9bd8212b29\" y=\"157.421815\"/>\n     <use style=\"fill:#1f77b4;stroke:#1f77b4;\" x=\"669.249599\" xlink:href=\"#m9bd8212b29\" y=\"180.070781\"/>\n     <use style=\"fill:#1f77b4;stroke:#1f77b4;\" x=\"670.663107\" xlink:href=\"#m9bd8212b29\" y=\"113.099934\"/>\n     <use style=\"fill:#1f77b4;stroke:#1f77b4;\" x=\"672.076615\" xlink:href=\"#m9bd8212b29\" y=\"98.393934\"/>\n     <use style=\"fill:#1f77b4;stroke:#1f77b4;\" x=\"673.490124\" xlink:href=\"#m9bd8212b29\" y=\"58.196587\"/>\n     <use style=\"fill:#1f77b4;stroke:#1f77b4;\" x=\"674.903632\" xlink:href=\"#m9bd8212b29\" y=\"134.408284\"/>\n     <use style=\"fill:#1f77b4;stroke:#1f77b4;\" x=\"676.31714\" xlink:href=\"#m9bd8212b29\" y=\"145.253946\"/>\n     <use style=\"fill:#1f77b4;stroke:#1f77b4;\" x=\"677.730648\" xlink:href=\"#m9bd8212b29\" y=\"138.023468\"/>\n     <use style=\"fill:#1f77b4;stroke:#1f77b4;\" x=\"679.144156\" xlink:href=\"#m9bd8212b29\" y=\"159.085078\"/>\n     <use style=\"fill:#1f77b4;stroke:#1f77b4;\" x=\"680.557664\" xlink:href=\"#m9bd8212b29\" y=\"98.747064\"/>\n     <use style=\"fill:#1f77b4;stroke:#1f77b4;\" x=\"681.971172\" xlink:href=\"#m9bd8212b29\" y=\"188.958145\"/>\n     <use style=\"fill:#1f77b4;stroke:#1f77b4;\" x=\"683.38468\" xlink:href=\"#m9bd8212b29\" y=\"195.764772\"/>\n     <use style=\"fill:#1f77b4;stroke:#1f77b4;\" x=\"684.798189\" xlink:href=\"#m9bd8212b29\" y=\"160.61519\"/>\n     <use style=\"fill:#1f77b4;stroke:#1f77b4;\" x=\"686.211697\" xlink:href=\"#m9bd8212b29\" y=\"164.55332\"/>\n     <use style=\"fill:#1f77b4;stroke:#1f77b4;\" x=\"687.625205\" xlink:href=\"#m9bd8212b29\" y=\"120.464377\"/>\n     <use style=\"fill:#1f77b4;stroke:#1f77b4;\" x=\"689.038713\" xlink:href=\"#m9bd8212b29\" y=\"140.785267\"/>\n     <use style=\"fill:#1f77b4;stroke:#1f77b4;\" x=\"690.452221\" xlink:href=\"#m9bd8212b29\" y=\"92.823286\"/>\n     <use style=\"fill:#1f77b4;stroke:#1f77b4;\" x=\"691.865729\" xlink:href=\"#m9bd8212b29\" y=\"107.720208\"/>\n     <use style=\"fill:#1f77b4;stroke:#1f77b4;\" x=\"693.279237\" xlink:href=\"#m9bd8212b29\" y=\"210.217405\"/>\n     <use style=\"fill:#1f77b4;stroke:#1f77b4;\" x=\"694.692745\" xlink:href=\"#m9bd8212b29\" y=\"123.027428\"/>\n     <use style=\"fill:#1f77b4;stroke:#1f77b4;\" x=\"696.106254\" xlink:href=\"#m9bd8212b29\" y=\"151.820698\"/>\n     <use style=\"fill:#1f77b4;stroke:#1f77b4;\" x=\"697.519762\" xlink:href=\"#m9bd8212b29\" y=\"192.989068\"/>\n     <use style=\"fill:#1f77b4;stroke:#1f77b4;\" x=\"698.93327\" xlink:href=\"#m9bd8212b29\" y=\"173.998664\"/>\n     <use style=\"fill:#1f77b4;stroke:#1f77b4;\" x=\"700.346778\" xlink:href=\"#m9bd8212b29\" y=\"127.380551\"/>\n     <use style=\"fill:#1f77b4;stroke:#1f77b4;\" x=\"701.760286\" xlink:href=\"#m9bd8212b29\" y=\"154.863213\"/>\n     <use style=\"fill:#1f77b4;stroke:#1f77b4;\" x=\"703.173794\" xlink:href=\"#m9bd8212b29\" y=\"154.456503\"/>\n     <use style=\"fill:#1f77b4;stroke:#1f77b4;\" x=\"704.587302\" xlink:href=\"#m9bd8212b29\" y=\"123.591045\"/>\n     <use style=\"fill:#1f77b4;stroke:#1f77b4;\" x=\"706.00081\" xlink:href=\"#m9bd8212b29\" y=\"124.5747\"/>\n     <use style=\"fill:#1f77b4;stroke:#1f77b4;\" x=\"707.414319\" xlink:href=\"#m9bd8212b29\" y=\"174.095447\"/>\n     <use style=\"fill:#1f77b4;stroke:#1f77b4;\" x=\"708.827827\" xlink:href=\"#m9bd8212b29\" y=\"110.036339\"/>\n     <use style=\"fill:#1f77b4;stroke:#1f77b4;\" x=\"710.241335\" xlink:href=\"#m9bd8212b29\" y=\"81.636847\"/>\n     <use style=\"fill:#1f77b4;stroke:#1f77b4;\" x=\"711.654843\" xlink:href=\"#m9bd8212b29\" y=\"99.946122\"/>\n     <use style=\"fill:#1f77b4;stroke:#1f77b4;\" x=\"713.068351\" xlink:href=\"#m9bd8212b29\" y=\"192.72929\"/>\n     <use style=\"fill:#1f77b4;stroke:#1f77b4;\" x=\"714.481859\" xlink:href=\"#m9bd8212b29\" y=\"135.882252\"/>\n     <use style=\"fill:#1f77b4;stroke:#1f77b4;\" x=\"715.895367\" xlink:href=\"#m9bd8212b29\" y=\"115.473985\"/>\n     <use style=\"fill:#1f77b4;stroke:#1f77b4;\" x=\"717.308875\" xlink:href=\"#m9bd8212b29\" y=\"103.955348\"/>\n     <use style=\"fill:#1f77b4;stroke:#1f77b4;\" x=\"718.722384\" xlink:href=\"#m9bd8212b29\" y=\"188.655069\"/>\n     <use style=\"fill:#1f77b4;stroke:#1f77b4;\" x=\"720.135892\" xlink:href=\"#m9bd8212b29\" y=\"154.655551\"/>\n     <use style=\"fill:#1f77b4;stroke:#1f77b4;\" x=\"721.5494\" xlink:href=\"#m9bd8212b29\" y=\"162.853762\"/>\n     <use style=\"fill:#1f77b4;stroke:#1f77b4;\" x=\"722.962908\" xlink:href=\"#m9bd8212b29\" y=\"115.037245\"/>\n     <use style=\"fill:#1f77b4;stroke:#1f77b4;\" x=\"724.376416\" xlink:href=\"#m9bd8212b29\" y=\"173.652801\"/>\n     <use style=\"fill:#1f77b4;stroke:#1f77b4;\" x=\"725.789924\" xlink:href=\"#m9bd8212b29\" y=\"140.688483\"/>\n     <use style=\"fill:#1f77b4;stroke:#1f77b4;\" x=\"727.203432\" xlink:href=\"#m9bd8212b29\" y=\"182.42038\"/>\n     <use style=\"fill:#1f77b4;stroke:#1f77b4;\" x=\"728.61694\" xlink:href=\"#m9bd8212b29\" y=\"176.745987\"/>\n     <use style=\"fill:#1f77b4;stroke:#1f77b4;\" x=\"730.030448\" xlink:href=\"#m9bd8212b29\" y=\"178.426868\"/>\n     <use style=\"fill:#1f77b4;stroke:#1f77b4;\" x=\"731.443957\" xlink:href=\"#m9bd8212b29\" y=\"104.216049\"/>\n     <use style=\"fill:#1f77b4;stroke:#1f77b4;\" x=\"732.857465\" xlink:href=\"#m9bd8212b29\" y=\"181.626194\"/>\n     <use style=\"fill:#1f77b4;stroke:#1f77b4;\" x=\"734.270973\" xlink:href=\"#m9bd8212b29\" y=\"191.96937\"/>\n     <use style=\"fill:#1f77b4;stroke:#1f77b4;\" x=\"735.684481\" xlink:href=\"#m9bd8212b29\" y=\"164.634442\"/>\n     <use style=\"fill:#1f77b4;stroke:#1f77b4;\" x=\"737.097989\" xlink:href=\"#m9bd8212b29\" y=\"121.436317\"/>\n     <use style=\"fill:#1f77b4;stroke:#1f77b4;\" x=\"738.511497\" xlink:href=\"#m9bd8212b29\" y=\"66.045033\"/>\n     <use style=\"fill:#1f77b4;stroke:#1f77b4;\" x=\"739.925005\" xlink:href=\"#m9bd8212b29\" y=\"92.243422\"/>\n     <use style=\"fill:#1f77b4;stroke:#1f77b4;\" x=\"741.338513\" xlink:href=\"#m9bd8212b29\" y=\"171.36139\"/>\n     <use style=\"fill:#1f77b4;stroke:#1f77b4;\" x=\"742.752022\" xlink:href=\"#m9bd8212b29\" y=\"115.476893\"/>\n     <use style=\"fill:#1f77b4;stroke:#1f77b4;\" x=\"744.16553\" xlink:href=\"#m9bd8212b29\" y=\"79.247572\"/>\n     <use style=\"fill:#1f77b4;stroke:#1f77b4;\" x=\"745.579038\" xlink:href=\"#m9bd8212b29\" y=\"163.521477\"/>\n     <use style=\"fill:#1f77b4;stroke:#1f77b4;\" x=\"746.992546\" xlink:href=\"#m9bd8212b29\" y=\"129.76476\"/>\n     <use style=\"fill:#1f77b4;stroke:#1f77b4;\" x=\"748.406054\" xlink:href=\"#m9bd8212b29\" y=\"144.851277\"/>\n     <use style=\"fill:#1f77b4;stroke:#1f77b4;\" x=\"749.819562\" xlink:href=\"#m9bd8212b29\" y=\"137.386441\"/>\n     <use style=\"fill:#1f77b4;stroke:#1f77b4;\" x=\"751.23307\" xlink:href=\"#m9bd8212b29\" y=\"141.717655\"/>\n     <use style=\"fill:#1f77b4;stroke:#1f77b4;\" x=\"752.646578\" xlink:href=\"#m9bd8212b29\" y=\"163.006391\"/>\n     <use style=\"fill:#1f77b4;stroke:#1f77b4;\" x=\"754.060087\" xlink:href=\"#m9bd8212b29\" y=\"202.497429\"/>\n     <use style=\"fill:#1f77b4;stroke:#1f77b4;\" x=\"755.473595\" xlink:href=\"#m9bd8212b29\" y=\"132.093593\"/>\n     <use style=\"fill:#1f77b4;stroke:#1f77b4;\" x=\"756.887103\" xlink:href=\"#m9bd8212b29\" y=\"71.866156\"/>\n     <use style=\"fill:#1f77b4;stroke:#1f77b4;\" x=\"758.300611\" xlink:href=\"#m9bd8212b29\" y=\"111.74951\"/>\n     <use style=\"fill:#1f77b4;stroke:#1f77b4;\" x=\"759.714119\" xlink:href=\"#m9bd8212b29\" y=\"79.468123\"/>\n     <use style=\"fill:#1f77b4;stroke:#1f77b4;\" x=\"761.127627\" xlink:href=\"#m9bd8212b29\" y=\"152.014509\"/>\n     <use style=\"fill:#1f77b4;stroke:#1f77b4;\" x=\"762.541135\" xlink:href=\"#m9bd8212b29\" y=\"144.332765\"/>\n     <use style=\"fill:#1f77b4;stroke:#1f77b4;\" x=\"763.954643\" xlink:href=\"#m9bd8212b29\" y=\"134.559984\"/>\n    </g>\n   </g>\n   <g id=\"matplotlib.axis_7\">\n    <g id=\"xtick_16\">\n     <g id=\"line2d_44\">\n      <g>\n       <use style=\"stroke:#000000;stroke-width:0.8;\" x=\"622.603831\" xlink:href=\"#m5e8504a32e\" y=\"511.558125\"/>\n      </g>\n     </g>\n     <g id=\"text_45\">\n      <!-- 0 -->\n      <g transform=\"translate(619.422581 526.156562)scale(0.1 -0.1)\">\n       <use xlink:href=\"#DejaVuSans-48\"/>\n      </g>\n     </g>\n    </g>\n    <g id=\"xtick_17\">\n     <g id=\"line2d_45\">\n      <g>\n       <use style=\"stroke:#000000;stroke-width:0.8;\" x=\"657.941534\" xlink:href=\"#m5e8504a32e\" y=\"511.558125\"/>\n      </g>\n     </g>\n     <g id=\"text_46\">\n      <!-- 25 -->\n      <g transform=\"translate(651.579034 526.156562)scale(0.1 -0.1)\">\n       <use xlink:href=\"#DejaVuSans-50\"/>\n       <use x=\"63.623047\" xlink:href=\"#DejaVuSans-53\"/>\n      </g>\n     </g>\n    </g>\n    <g id=\"xtick_18\">\n     <g id=\"line2d_46\">\n      <g>\n       <use style=\"stroke:#000000;stroke-width:0.8;\" x=\"693.279237\" xlink:href=\"#m5e8504a32e\" y=\"511.558125\"/>\n      </g>\n     </g>\n     <g id=\"text_47\">\n      <!-- 50 -->\n      <g transform=\"translate(686.916737 526.156562)scale(0.1 -0.1)\">\n       <use xlink:href=\"#DejaVuSans-53\"/>\n       <use x=\"63.623047\" xlink:href=\"#DejaVuSans-48\"/>\n      </g>\n     </g>\n    </g>\n    <g id=\"xtick_19\">\n     <g id=\"line2d_47\">\n      <g>\n       <use style=\"stroke:#000000;stroke-width:0.8;\" x=\"728.61694\" xlink:href=\"#m5e8504a32e\" y=\"511.558125\"/>\n      </g>\n     </g>\n     <g id=\"text_48\">\n      <!-- 75 -->\n      <g transform=\"translate(722.25444 526.156562)scale(0.1 -0.1)\">\n       <use xlink:href=\"#DejaVuSans-55\"/>\n       <use x=\"63.623047\" xlink:href=\"#DejaVuSans-53\"/>\n      </g>\n     </g>\n    </g>\n    <g id=\"xtick_20\">\n     <g id=\"line2d_48\">\n      <g>\n       <use style=\"stroke:#000000;stroke-width:0.8;\" x=\"763.954643\" xlink:href=\"#m5e8504a32e\" y=\"511.558125\"/>\n      </g>\n     </g>\n     <g id=\"text_49\">\n      <!-- 100 -->\n      <g transform=\"translate(754.410893 526.156562)scale(0.1 -0.1)\">\n       <use xlink:href=\"#DejaVuSans-49\"/>\n       <use x=\"63.623047\" xlink:href=\"#DejaVuSans-48\"/>\n       <use x=\"127.246094\" xlink:href=\"#DejaVuSans-48\"/>\n      </g>\n     </g>\n    </g>\n    <g id=\"text_50\">\n     <!-- Sample # -->\n     <g transform=\"translate(669.458648 539.834687)scale(0.1 -0.1)\">\n      <use xlink:href=\"#DejaVuSans-83\"/>\n      <use x=\"63.476562\" xlink:href=\"#DejaVuSans-97\"/>\n      <use x=\"124.755859\" xlink:href=\"#DejaVuSans-109\"/>\n      <use x=\"222.167969\" xlink:href=\"#DejaVuSans-112\"/>\n      <use x=\"285.644531\" xlink:href=\"#DejaVuSans-108\"/>\n      <use x=\"313.427734\" xlink:href=\"#DejaVuSans-101\"/>\n      <use x=\"374.951172\" xlink:href=\"#DejaVuSans-32\"/>\n      <use x=\"406.738281\" xlink:href=\"#DejaVuSans-35\"/>\n     </g>\n    </g>\n   </g>\n   <g id=\"matplotlib.axis_8\">\n    <g id=\"ytick_23\">\n     <g id=\"line2d_49\">\n      <g>\n       <use style=\"stroke:#000000;stroke-width:0.8;\" x=\"617.020474\" xlink:href=\"#me1a24a701e\" y=\"474.092247\"/>\n      </g>\n     </g>\n     <g id=\"text_51\">\n      <!-- 0.26 -->\n      <g transform=\"translate(587.754849 477.891466)scale(0.1 -0.1)\">\n       <use xlink:href=\"#DejaVuSans-48\"/>\n       <use x=\"63.623047\" xlink:href=\"#DejaVuSans-46\"/>\n       <use x=\"95.410156\" xlink:href=\"#DejaVuSans-50\"/>\n       <use x=\"159.033203\" xlink:href=\"#DejaVuSans-54\"/>\n      </g>\n     </g>\n    </g>\n    <g id=\"ytick_24\">\n     <g id=\"line2d_50\">\n      <g>\n       <use style=\"stroke:#000000;stroke-width:0.8;\" x=\"617.020474\" xlink:href=\"#me1a24a701e\" y=\"407.332555\"/>\n      </g>\n     </g>\n     <g id=\"text_52\">\n      <!-- 0.28 -->\n      <g transform=\"translate(587.754849 411.131774)scale(0.1 -0.1)\">\n       <use xlink:href=\"#DejaVuSans-48\"/>\n       <use x=\"63.623047\" xlink:href=\"#DejaVuSans-46\"/>\n       <use x=\"95.410156\" xlink:href=\"#DejaVuSans-50\"/>\n       <use x=\"159.033203\" xlink:href=\"#DejaVuSans-56\"/>\n      </g>\n     </g>\n    </g>\n    <g id=\"ytick_25\">\n     <g id=\"line2d_51\">\n      <g>\n       <use style=\"stroke:#000000;stroke-width:0.8;\" x=\"617.020474\" xlink:href=\"#me1a24a701e\" y=\"340.572862\"/>\n      </g>\n     </g>\n     <g id=\"text_53\">\n      <!-- 0.30 -->\n      <g transform=\"translate(587.754849 344.372081)scale(0.1 -0.1)\">\n       <use xlink:href=\"#DejaVuSans-48\"/>\n       <use x=\"63.623047\" xlink:href=\"#DejaVuSans-46\"/>\n       <use x=\"95.410156\" xlink:href=\"#DejaVuSans-51\"/>\n       <use x=\"159.033203\" xlink:href=\"#DejaVuSans-48\"/>\n      </g>\n     </g>\n    </g>\n    <g id=\"ytick_26\">\n     <g id=\"line2d_52\">\n      <g>\n       <use style=\"stroke:#000000;stroke-width:0.8;\" x=\"617.020474\" xlink:href=\"#me1a24a701e\" y=\"273.81317\"/>\n      </g>\n     </g>\n     <g id=\"text_54\">\n      <!-- 0.32 -->\n      <g transform=\"translate(587.754849 277.612389)scale(0.1 -0.1)\">\n       <use xlink:href=\"#DejaVuSans-48\"/>\n       <use x=\"63.623047\" xlink:href=\"#DejaVuSans-46\"/>\n       <use x=\"95.410156\" xlink:href=\"#DejaVuSans-51\"/>\n       <use x=\"159.033203\" xlink:href=\"#DejaVuSans-50\"/>\n      </g>\n     </g>\n    </g>\n    <g id=\"ytick_27\">\n     <g id=\"line2d_53\">\n      <g>\n       <use style=\"stroke:#000000;stroke-width:0.8;\" x=\"617.020474\" xlink:href=\"#me1a24a701e\" y=\"207.053477\"/>\n      </g>\n     </g>\n     <g id=\"text_55\">\n      <!-- 0.34 -->\n      <g transform=\"translate(587.754849 210.852696)scale(0.1 -0.1)\">\n       <use xlink:href=\"#DejaVuSans-48\"/>\n       <use x=\"63.623047\" xlink:href=\"#DejaVuSans-46\"/>\n       <use x=\"95.410156\" xlink:href=\"#DejaVuSans-51\"/>\n       <use x=\"159.033203\" xlink:href=\"#DejaVuSans-52\"/>\n      </g>\n     </g>\n    </g>\n    <g id=\"ytick_28\">\n     <g id=\"line2d_54\">\n      <g>\n       <use style=\"stroke:#000000;stroke-width:0.8;\" x=\"617.020474\" xlink:href=\"#me1a24a701e\" y=\"140.293785\"/>\n      </g>\n     </g>\n     <g id=\"text_56\">\n      <!-- 0.36 -->\n      <g transform=\"translate(587.754849 144.093004)scale(0.1 -0.1)\">\n       <use xlink:href=\"#DejaVuSans-48\"/>\n       <use x=\"63.623047\" xlink:href=\"#DejaVuSans-46\"/>\n       <use x=\"95.410156\" xlink:href=\"#DejaVuSans-51\"/>\n       <use x=\"159.033203\" xlink:href=\"#DejaVuSans-54\"/>\n      </g>\n     </g>\n    </g>\n    <g id=\"ytick_29\">\n     <g id=\"line2d_55\">\n      <g>\n       <use style=\"stroke:#000000;stroke-width:0.8;\" x=\"617.020474\" xlink:href=\"#me1a24a701e\" y=\"73.534093\"/>\n      </g>\n     </g>\n     <g id=\"text_57\">\n      <!-- 0.38 -->\n      <g transform=\"translate(587.754849 77.333311)scale(0.1 -0.1)\">\n       <use xlink:href=\"#DejaVuSans-48\"/>\n       <use x=\"63.623047\" xlink:href=\"#DejaVuSans-46\"/>\n       <use x=\"95.410156\" xlink:href=\"#DejaVuSans-51\"/>\n       <use x=\"159.033203\" xlink:href=\"#DejaVuSans-56\"/>\n      </g>\n     </g>\n    </g>\n   </g>\n   <g id=\"line2d_56\">\n    <path clip-path=\"url(#p6aeefa998a)\" d=\"M 617.020474 137.755998 \nL 770.951509 137.755998 \n\" style=\"fill:none;stroke:#1f77b4;stroke-linecap:square;stroke-width:1.5;\"/>\n   </g>\n   <g id=\"line2d_57\">\n    <path clip-path=\"url(#p6aeefa998a)\" d=\"M 617.020474 489.319943 \nL 770.951509 489.319943 \n\" style=\"fill:none;stroke:#ff0000;stroke-linecap:square;stroke-width:1.5;\"/>\n   </g>\n   <g id=\"patch_18\">\n    <path d=\"M 617.020474 511.558125 \nL 617.020474 22.318125 \n\" style=\"fill:none;stroke:#000000;stroke-linecap:square;stroke-linejoin:miter;stroke-width:0.8;\"/>\n   </g>\n   <g id=\"patch_19\">\n    <path d=\"M 770.951509 511.558125 \nL 770.951509 22.318125 \n\" style=\"fill:none;stroke:#000000;stroke-linecap:square;stroke-linejoin:miter;stroke-width:0.8;\"/>\n   </g>\n   <g id=\"patch_20\">\n    <path d=\"M 617.020474 511.558125 \nL 770.951509 511.558125 \n\" style=\"fill:none;stroke:#000000;stroke-linecap:square;stroke-linejoin:miter;stroke-width:0.8;\"/>\n   </g>\n   <g id=\"patch_21\">\n    <path d=\"M 617.020474 22.318125 \nL 770.951509 22.318125 \n\" style=\"fill:none;stroke:#000000;stroke-linecap:square;stroke-linejoin:miter;stroke-width:0.8;\"/>\n   </g>\n   <g id=\"text_58\">\n    <!-- Variance in 1000 samples -->\n    <g transform=\"translate(616.665679 16.318125)scale(0.12 -0.12)\">\n     <use xlink:href=\"#DejaVuSans-86\"/>\n     <use x=\"60.658203\" xlink:href=\"#DejaVuSans-97\"/>\n     <use x=\"121.9375\" xlink:href=\"#DejaVuSans-114\"/>\n     <use x=\"163.050781\" xlink:href=\"#DejaVuSans-105\"/>\n     <use x=\"190.833984\" xlink:href=\"#DejaVuSans-97\"/>\n     <use x=\"252.113281\" xlink:href=\"#DejaVuSans-110\"/>\n     <use x=\"315.492188\" xlink:href=\"#DejaVuSans-99\"/>\n     <use x=\"370.472656\" xlink:href=\"#DejaVuSans-101\"/>\n     <use x=\"431.996094\" xlink:href=\"#DejaVuSans-32\"/>\n     <use x=\"463.783203\" xlink:href=\"#DejaVuSans-105\"/>\n     <use x=\"491.566406\" xlink:href=\"#DejaVuSans-110\"/>\n     <use x=\"554.945312\" xlink:href=\"#DejaVuSans-32\"/>\n     <use x=\"586.732422\" xlink:href=\"#DejaVuSans-49\"/>\n     <use x=\"650.355469\" xlink:href=\"#DejaVuSans-48\"/>\n     <use x=\"713.978516\" xlink:href=\"#DejaVuSans-48\"/>\n     <use x=\"777.601562\" xlink:href=\"#DejaVuSans-48\"/>\n     <use x=\"841.224609\" xlink:href=\"#DejaVuSans-32\"/>\n     <use x=\"873.011719\" xlink:href=\"#DejaVuSans-115\"/>\n     <use x=\"925.111328\" xlink:href=\"#DejaVuSans-97\"/>\n     <use x=\"986.390625\" xlink:href=\"#DejaVuSans-109\"/>\n     <use x=\"1083.802734\" xlink:href=\"#DejaVuSans-112\"/>\n     <use x=\"1147.279297\" xlink:href=\"#DejaVuSans-108\"/>\n     <use x=\"1175.0625\" xlink:href=\"#DejaVuSans-101\"/>\n     <use x=\"1236.585938\" xlink:href=\"#DejaVuSans-115\"/>\n    </g>\n   </g>\n  </g>\n  <g id=\"axes_5\">\n   <g id=\"patch_22\">\n    <path d=\"M 801.737716 511.558125 \nL 955.66875 511.558125 \nL 955.66875 22.318125 \nL 801.737716 22.318125 \nz\n\" style=\"fill:#ffffff;\"/>\n   </g>\n   <g id=\"PathCollection_5\">\n    <g clip-path=\"url(#p9a40bd83e4)\">\n     <use style=\"fill:#1f77b4;stroke:#1f77b4;\" x=\"808.734581\" xlink:href=\"#m9bd8212b29\" y=\"489.319943\"/>\n     <use style=\"fill:#1f77b4;stroke:#1f77b4;\" x=\"810.148089\" xlink:href=\"#m9bd8212b29\" y=\"285.256751\"/>\n     <use style=\"fill:#1f77b4;stroke:#1f77b4;\" x=\"811.561597\" xlink:href=\"#m9bd8212b29\" y=\"323.647771\"/>\n     <use style=\"fill:#1f77b4;stroke:#1f77b4;\" x=\"812.975105\" xlink:href=\"#m9bd8212b29\" y=\"356.896689\"/>\n     <use style=\"fill:#1f77b4;stroke:#1f77b4;\" x=\"814.388613\" xlink:href=\"#m9bd8212b29\" y=\"358.232661\"/>\n     <use style=\"fill:#1f77b4;stroke:#1f77b4;\" x=\"815.802121\" xlink:href=\"#m9bd8212b29\" y=\"287.29636\"/>\n     <use style=\"fill:#1f77b4;stroke:#1f77b4;\" x=\"817.215629\" xlink:href=\"#m9bd8212b29\" y=\"179.181527\"/>\n     <use style=\"fill:#1f77b4;stroke:#1f77b4;\" x=\"818.629138\" xlink:href=\"#m9bd8212b29\" y=\"323.560712\"/>\n     <use style=\"fill:#1f77b4;stroke:#1f77b4;\" x=\"820.042646\" xlink:href=\"#m9bd8212b29\" y=\"282.609827\"/>\n     <use style=\"fill:#1f77b4;stroke:#1f77b4;\" x=\"821.456154\" xlink:href=\"#m9bd8212b29\" y=\"44.556307\"/>\n     <use style=\"fill:#1f77b4;stroke:#1f77b4;\" x=\"822.869662\" xlink:href=\"#m9bd8212b29\" y=\"304.78093\"/>\n     <use style=\"fill:#1f77b4;stroke:#1f77b4;\" x=\"824.28317\" xlink:href=\"#m9bd8212b29\" y=\"265.290343\"/>\n     <use style=\"fill:#1f77b4;stroke:#1f77b4;\" x=\"825.696678\" xlink:href=\"#m9bd8212b29\" y=\"242.735014\"/>\n     <use style=\"fill:#1f77b4;stroke:#1f77b4;\" x=\"827.110186\" xlink:href=\"#m9bd8212b29\" y=\"343.795579\"/>\n     <use style=\"fill:#1f77b4;stroke:#1f77b4;\" x=\"828.523694\" xlink:href=\"#m9bd8212b29\" y=\"275.736405\"/>\n     <use style=\"fill:#1f77b4;stroke:#1f77b4;\" x=\"829.937203\" xlink:href=\"#m9bd8212b29\" y=\"357.099895\"/>\n     <use style=\"fill:#1f77b4;stroke:#1f77b4;\" x=\"831.350711\" xlink:href=\"#m9bd8212b29\" y=\"356.034006\"/>\n     <use style=\"fill:#1f77b4;stroke:#1f77b4;\" x=\"832.764219\" xlink:href=\"#m9bd8212b29\" y=\"328.853946\"/>\n     <use style=\"fill:#1f77b4;stroke:#1f77b4;\" x=\"834.177727\" xlink:href=\"#m9bd8212b29\" y=\"157.583354\"/>\n     <use style=\"fill:#1f77b4;stroke:#1f77b4;\" x=\"835.591235\" xlink:href=\"#m9bd8212b29\" y=\"235.868098\"/>\n     <use style=\"fill:#1f77b4;stroke:#1f77b4;\" x=\"837.004743\" xlink:href=\"#m9bd8212b29\" y=\"196.803862\"/>\n     <use style=\"fill:#1f77b4;stroke:#1f77b4;\" x=\"838.418251\" xlink:href=\"#m9bd8212b29\" y=\"325.360475\"/>\n     <use style=\"fill:#1f77b4;stroke:#1f77b4;\" x=\"839.831759\" xlink:href=\"#m9bd8212b29\" y=\"405.70249\"/>\n     <use style=\"fill:#1f77b4;stroke:#1f77b4;\" x=\"841.245268\" xlink:href=\"#m9bd8212b29\" y=\"279.991254\"/>\n     <use style=\"fill:#1f77b4;stroke:#1f77b4;\" x=\"842.658776\" xlink:href=\"#m9bd8212b29\" y=\"304.295176\"/>\n     <use style=\"fill:#1f77b4;stroke:#1f77b4;\" x=\"844.072284\" xlink:href=\"#m9bd8212b29\" y=\"289.4038\"/>\n     <use style=\"fill:#1f77b4;stroke:#1f77b4;\" x=\"845.485792\" xlink:href=\"#m9bd8212b29\" y=\"296.868186\"/>\n     <use style=\"fill:#1f77b4;stroke:#1f77b4;\" x=\"846.8993\" xlink:href=\"#m9bd8212b29\" y=\"344.711487\"/>\n     <use style=\"fill:#1f77b4;stroke:#1f77b4;\" x=\"848.312808\" xlink:href=\"#m9bd8212b29\" y=\"321.145792\"/>\n     <use style=\"fill:#1f77b4;stroke:#1f77b4;\" x=\"849.726316\" xlink:href=\"#m9bd8212b29\" y=\"389.34446\"/>\n     <use style=\"fill:#1f77b4;stroke:#1f77b4;\" x=\"851.139824\" xlink:href=\"#m9bd8212b29\" y=\"223.28948\"/>\n     <use style=\"fill:#1f77b4;stroke:#1f77b4;\" x=\"852.553333\" xlink:href=\"#m9bd8212b29\" y=\"329.107804\"/>\n     <use style=\"fill:#1f77b4;stroke:#1f77b4;\" x=\"853.966841\" xlink:href=\"#m9bd8212b29\" y=\"194.377269\"/>\n     <use style=\"fill:#1f77b4;stroke:#1f77b4;\" x=\"855.380349\" xlink:href=\"#m9bd8212b29\" y=\"185.751426\"/>\n     <use style=\"fill:#1f77b4;stroke:#1f77b4;\" x=\"856.793857\" xlink:href=\"#m9bd8212b29\" y=\"265.913006\"/>\n     <use style=\"fill:#1f77b4;stroke:#1f77b4;\" x=\"858.207365\" xlink:href=\"#m9bd8212b29\" y=\"230.27221\"/>\n     <use style=\"fill:#1f77b4;stroke:#1f77b4;\" x=\"859.620873\" xlink:href=\"#m9bd8212b29\" y=\"275.034092\"/>\n     <use style=\"fill:#1f77b4;stroke:#1f77b4;\" x=\"861.034381\" xlink:href=\"#m9bd8212b29\" y=\"364.0069\"/>\n     <use style=\"fill:#1f77b4;stroke:#1f77b4;\" x=\"862.447889\" xlink:href=\"#m9bd8212b29\" y=\"210.81257\"/>\n     <use style=\"fill:#1f77b4;stroke:#1f77b4;\" x=\"863.861397\" xlink:href=\"#m9bd8212b29\" y=\"265.536731\"/>\n     <use style=\"fill:#1f77b4;stroke:#1f77b4;\" x=\"865.274906\" xlink:href=\"#m9bd8212b29\" y=\"289.375251\"/>\n     <use style=\"fill:#1f77b4;stroke:#1f77b4;\" x=\"866.688414\" xlink:href=\"#m9bd8212b29\" y=\"257.327766\"/>\n     <use style=\"fill:#1f77b4;stroke:#1f77b4;\" x=\"868.101922\" xlink:href=\"#m9bd8212b29\" y=\"265.714152\"/>\n     <use style=\"fill:#1f77b4;stroke:#1f77b4;\" x=\"869.51543\" xlink:href=\"#m9bd8212b29\" y=\"382.028471\"/>\n     <use style=\"fill:#1f77b4;stroke:#1f77b4;\" x=\"870.928938\" xlink:href=\"#m9bd8212b29\" y=\"209.281308\"/>\n     <use style=\"fill:#1f77b4;stroke:#1f77b4;\" x=\"872.342446\" xlink:href=\"#m9bd8212b29\" y=\"223.172881\"/>\n     <use style=\"fill:#1f77b4;stroke:#1f77b4;\" x=\"873.755954\" xlink:href=\"#m9bd8212b29\" y=\"295.509064\"/>\n     <use style=\"fill:#1f77b4;stroke:#1f77b4;\" x=\"875.169462\" xlink:href=\"#m9bd8212b29\" y=\"173.29409\"/>\n     <use style=\"fill:#1f77b4;stroke:#1f77b4;\" x=\"876.582971\" xlink:href=\"#m9bd8212b29\" y=\"215.027253\"/>\n     <use style=\"fill:#1f77b4;stroke:#1f77b4;\" x=\"877.996479\" xlink:href=\"#m9bd8212b29\" y=\"400.821312\"/>\n     <use style=\"fill:#1f77b4;stroke:#1f77b4;\" x=\"879.409987\" xlink:href=\"#m9bd8212b29\" y=\"250.222154\"/>\n     <use style=\"fill:#1f77b4;stroke:#1f77b4;\" x=\"880.823495\" xlink:href=\"#m9bd8212b29\" y=\"282.50649\"/>\n     <use style=\"fill:#1f77b4;stroke:#1f77b4;\" x=\"882.237003\" xlink:href=\"#m9bd8212b29\" y=\"387.296378\"/>\n     <use style=\"fill:#1f77b4;stroke:#1f77b4;\" x=\"883.650511\" xlink:href=\"#m9bd8212b29\" y=\"359.745918\"/>\n     <use style=\"fill:#1f77b4;stroke:#1f77b4;\" x=\"885.064019\" xlink:href=\"#m9bd8212b29\" y=\"236.495994\"/>\n     <use style=\"fill:#1f77b4;stroke:#1f77b4;\" x=\"886.477527\" xlink:href=\"#m9bd8212b29\" y=\"245.02805\"/>\n     <use style=\"fill:#1f77b4;stroke:#1f77b4;\" x=\"887.891036\" xlink:href=\"#m9bd8212b29\" y=\"264.485711\"/>\n     <use style=\"fill:#1f77b4;stroke:#1f77b4;\" x=\"889.304544\" xlink:href=\"#m9bd8212b29\" y=\"243.716415\"/>\n     <use style=\"fill:#1f77b4;stroke:#1f77b4;\" x=\"890.718052\" xlink:href=\"#m9bd8212b29\" y=\"268.41547\"/>\n     <use style=\"fill:#1f77b4;stroke:#1f77b4;\" x=\"892.13156\" xlink:href=\"#m9bd8212b29\" y=\"302.94854\"/>\n     <use style=\"fill:#1f77b4;stroke:#1f77b4;\" x=\"893.545068\" xlink:href=\"#m9bd8212b29\" y=\"331.504629\"/>\n     <use style=\"fill:#1f77b4;stroke:#1f77b4;\" x=\"894.958576\" xlink:href=\"#m9bd8212b29\" y=\"140.197005\"/>\n     <use style=\"fill:#1f77b4;stroke:#1f77b4;\" x=\"896.372084\" xlink:href=\"#m9bd8212b29\" y=\"267.498738\"/>\n     <use style=\"fill:#1f77b4;stroke:#1f77b4;\" x=\"897.785592\" xlink:href=\"#m9bd8212b29\" y=\"292.922004\"/>\n     <use style=\"fill:#1f77b4;stroke:#1f77b4;\" x=\"899.199101\" xlink:href=\"#m9bd8212b29\" y=\"286.281718\"/>\n     <use style=\"fill:#1f77b4;stroke:#1f77b4;\" x=\"900.612609\" xlink:href=\"#m9bd8212b29\" y=\"300.505701\"/>\n     <use style=\"fill:#1f77b4;stroke:#1f77b4;\" x=\"902.026117\" xlink:href=\"#m9bd8212b29\" y=\"222.957606\"/>\n     <use style=\"fill:#1f77b4;stroke:#1f77b4;\" x=\"903.439625\" xlink:href=\"#m9bd8212b29\" y=\"296.411385\"/>\n     <use style=\"fill:#1f77b4;stroke:#1f77b4;\" x=\"904.853133\" xlink:href=\"#m9bd8212b29\" y=\"345.865857\"/>\n     <use style=\"fill:#1f77b4;stroke:#1f77b4;\" x=\"906.266641\" xlink:href=\"#m9bd8212b29\" y=\"296.681403\"/>\n     <use style=\"fill:#1f77b4;stroke:#1f77b4;\" x=\"907.680149\" xlink:href=\"#m9bd8212b29\" y=\"333.408557\"/>\n     <use style=\"fill:#1f77b4;stroke:#1f77b4;\" x=\"909.093657\" xlink:href=\"#m9bd8212b29\" y=\"430.397826\"/>\n     <use style=\"fill:#1f77b4;stroke:#1f77b4;\" x=\"910.507166\" xlink:href=\"#m9bd8212b29\" y=\"248.245106\"/>\n     <use style=\"fill:#1f77b4;stroke:#1f77b4;\" x=\"911.920674\" xlink:href=\"#m9bd8212b29\" y=\"397.852574\"/>\n     <use style=\"fill:#1f77b4;stroke:#1f77b4;\" x=\"913.334182\" xlink:href=\"#m9bd8212b29\" y=\"245.296073\"/>\n     <use style=\"fill:#1f77b4;stroke:#1f77b4;\" x=\"914.74769\" xlink:href=\"#m9bd8212b29\" y=\"323.752837\"/>\n     <use style=\"fill:#1f77b4;stroke:#1f77b4;\" x=\"916.161198\" xlink:href=\"#m9bd8212b29\" y=\"249.949103\"/>\n     <use style=\"fill:#1f77b4;stroke:#1f77b4;\" x=\"917.574706\" xlink:href=\"#m9bd8212b29\" y=\"345.078721\"/>\n     <use style=\"fill:#1f77b4;stroke:#1f77b4;\" x=\"918.988214\" xlink:href=\"#m9bd8212b29\" y=\"294.766088\"/>\n     <use style=\"fill:#1f77b4;stroke:#1f77b4;\" x=\"920.401722\" xlink:href=\"#m9bd8212b29\" y=\"305.56962\"/>\n     <use style=\"fill:#1f77b4;stroke:#1f77b4;\" x=\"921.81523\" xlink:href=\"#m9bd8212b29\" y=\"156.241923\"/>\n     <use style=\"fill:#1f77b4;stroke:#1f77b4;\" x=\"923.228739\" xlink:href=\"#m9bd8212b29\" y=\"212.013402\"/>\n     <use style=\"fill:#1f77b4;stroke:#1f77b4;\" x=\"924.642247\" xlink:href=\"#m9bd8212b29\" y=\"300.15489\"/>\n     <use style=\"fill:#1f77b4;stroke:#1f77b4;\" x=\"926.055755\" xlink:href=\"#m9bd8212b29\" y=\"188.659025\"/>\n     <use style=\"fill:#1f77b4;stroke:#1f77b4;\" x=\"927.469263\" xlink:href=\"#m9bd8212b29\" y=\"145.423757\"/>\n     <use style=\"fill:#1f77b4;stroke:#1f77b4;\" x=\"928.882771\" xlink:href=\"#m9bd8212b29\" y=\"405.410153\"/>\n     <use style=\"fill:#1f77b4;stroke:#1f77b4;\" x=\"930.296279\" xlink:href=\"#m9bd8212b29\" y=\"299.106765\"/>\n     <use style=\"fill:#1f77b4;stroke:#1f77b4;\" x=\"931.709787\" xlink:href=\"#m9bd8212b29\" y=\"312.560649\"/>\n     <use style=\"fill:#1f77b4;stroke:#1f77b4;\" x=\"933.123295\" xlink:href=\"#m9bd8212b29\" y=\"288.288643\"/>\n     <use style=\"fill:#1f77b4;stroke:#1f77b4;\" x=\"934.536804\" xlink:href=\"#m9bd8212b29\" y=\"293.187831\"/>\n     <use style=\"fill:#1f77b4;stroke:#1f77b4;\" x=\"935.950312\" xlink:href=\"#m9bd8212b29\" y=\"405.134134\"/>\n     <use style=\"fill:#1f77b4;stroke:#1f77b4;\" x=\"937.36382\" xlink:href=\"#m9bd8212b29\" y=\"223.953847\"/>\n     <use style=\"fill:#1f77b4;stroke:#1f77b4;\" x=\"938.777328\" xlink:href=\"#m9bd8212b29\" y=\"294.256393\"/>\n     <use style=\"fill:#1f77b4;stroke:#1f77b4;\" x=\"940.190836\" xlink:href=\"#m9bd8212b29\" y=\"148.676429\"/>\n     <use style=\"fill:#1f77b4;stroke:#1f77b4;\" x=\"941.604344\" xlink:href=\"#m9bd8212b29\" y=\"280.717807\"/>\n     <use style=\"fill:#1f77b4;stroke:#1f77b4;\" x=\"943.017852\" xlink:href=\"#m9bd8212b29\" y=\"163.521015\"/>\n     <use style=\"fill:#1f77b4;stroke:#1f77b4;\" x=\"944.43136\" xlink:href=\"#m9bd8212b29\" y=\"238.536359\"/>\n     <use style=\"fill:#1f77b4;stroke:#1f77b4;\" x=\"945.844869\" xlink:href=\"#m9bd8212b29\" y=\"271.599285\"/>\n     <use style=\"fill:#1f77b4;stroke:#1f77b4;\" x=\"947.258377\" xlink:href=\"#m9bd8212b29\" y=\"205.345088\"/>\n     <use style=\"fill:#1f77b4;stroke:#1f77b4;\" x=\"948.671885\" xlink:href=\"#m9bd8212b29\" y=\"336.564276\"/>\n    </g>\n   </g>\n   <g id=\"matplotlib.axis_9\">\n    <g id=\"xtick_21\">\n     <g id=\"line2d_58\">\n      <g>\n       <use style=\"stroke:#000000;stroke-width:0.8;\" x=\"807.321073\" xlink:href=\"#m5e8504a32e\" y=\"511.558125\"/>\n      </g>\n     </g>\n     <g id=\"text_59\">\n      <!-- 0 -->\n      <g transform=\"translate(804.139823 526.156562)scale(0.1 -0.1)\">\n       <use xlink:href=\"#DejaVuSans-48\"/>\n      </g>\n     </g>\n    </g>\n    <g id=\"xtick_22\">\n     <g id=\"line2d_59\">\n      <g>\n       <use style=\"stroke:#000000;stroke-width:0.8;\" x=\"842.658776\" xlink:href=\"#m5e8504a32e\" y=\"511.558125\"/>\n      </g>\n     </g>\n     <g id=\"text_60\">\n      <!-- 25 -->\n      <g transform=\"translate(836.296276 526.156562)scale(0.1 -0.1)\">\n       <use xlink:href=\"#DejaVuSans-50\"/>\n       <use x=\"63.623047\" xlink:href=\"#DejaVuSans-53\"/>\n      </g>\n     </g>\n    </g>\n    <g id=\"xtick_23\">\n     <g id=\"line2d_60\">\n      <g>\n       <use style=\"stroke:#000000;stroke-width:0.8;\" x=\"877.996479\" xlink:href=\"#m5e8504a32e\" y=\"511.558125\"/>\n      </g>\n     </g>\n     <g id=\"text_61\">\n      <!-- 50 -->\n      <g transform=\"translate(871.633979 526.156562)scale(0.1 -0.1)\">\n       <use xlink:href=\"#DejaVuSans-53\"/>\n       <use x=\"63.623047\" xlink:href=\"#DejaVuSans-48\"/>\n      </g>\n     </g>\n    </g>\n    <g id=\"xtick_24\">\n     <g id=\"line2d_61\">\n      <g>\n       <use style=\"stroke:#000000;stroke-width:0.8;\" x=\"913.334182\" xlink:href=\"#m5e8504a32e\" y=\"511.558125\"/>\n      </g>\n     </g>\n     <g id=\"text_62\">\n      <!-- 75 -->\n      <g transform=\"translate(906.971682 526.156562)scale(0.1 -0.1)\">\n       <use xlink:href=\"#DejaVuSans-55\"/>\n       <use x=\"63.623047\" xlink:href=\"#DejaVuSans-53\"/>\n      </g>\n     </g>\n    </g>\n    <g id=\"xtick_25\">\n     <g id=\"line2d_62\">\n      <g>\n       <use style=\"stroke:#000000;stroke-width:0.8;\" x=\"948.671885\" xlink:href=\"#m5e8504a32e\" y=\"511.558125\"/>\n      </g>\n     </g>\n     <g id=\"text_63\">\n      <!-- 100 -->\n      <g transform=\"translate(939.128135 526.156562)scale(0.1 -0.1)\">\n       <use xlink:href=\"#DejaVuSans-49\"/>\n       <use x=\"63.623047\" xlink:href=\"#DejaVuSans-48\"/>\n       <use x=\"127.246094\" xlink:href=\"#DejaVuSans-48\"/>\n      </g>\n     </g>\n    </g>\n    <g id=\"text_64\">\n     <!-- Sample # -->\n     <g transform=\"translate(854.175889 539.834687)scale(0.1 -0.1)\">\n      <use xlink:href=\"#DejaVuSans-83\"/>\n      <use x=\"63.476562\" xlink:href=\"#DejaVuSans-97\"/>\n      <use x=\"124.755859\" xlink:href=\"#DejaVuSans-109\"/>\n      <use x=\"222.167969\" xlink:href=\"#DejaVuSans-112\"/>\n      <use x=\"285.644531\" xlink:href=\"#DejaVuSans-108\"/>\n      <use x=\"313.427734\" xlink:href=\"#DejaVuSans-101\"/>\n      <use x=\"374.951172\" xlink:href=\"#DejaVuSans-32\"/>\n      <use x=\"406.738281\" xlink:href=\"#DejaVuSans-35\"/>\n     </g>\n    </g>\n   </g>\n   <g id=\"matplotlib.axis_10\">\n    <g id=\"ytick_30\">\n     <g id=\"line2d_63\">\n      <g>\n       <use style=\"stroke:#000000;stroke-width:0.8;\" x=\"801.737716\" xlink:href=\"#me1a24a701e\" y=\"436.487628\"/>\n      </g>\n     </g>\n     <g id=\"text_65\">\n      <!-- 3.0 -->\n      <g transform=\"translate(778.834591 440.286847)scale(0.1 -0.1)\">\n       <use xlink:href=\"#DejaVuSans-51\"/>\n       <use x=\"63.623047\" xlink:href=\"#DejaVuSans-46\"/>\n       <use x=\"95.410156\" xlink:href=\"#DejaVuSans-48\"/>\n      </g>\n     </g>\n    </g>\n    <g id=\"ytick_31\">\n     <g id=\"line2d_64\">\n      <g>\n       <use style=\"stroke:#000000;stroke-width:0.8;\" x=\"801.737716\" xlink:href=\"#me1a24a701e\" y=\"338.009887\"/>\n      </g>\n     </g>\n     <g id=\"text_66\">\n      <!-- 3.5 -->\n      <g transform=\"translate(778.834591 341.809105)scale(0.1 -0.1)\">\n       <use xlink:href=\"#DejaVuSans-51\"/>\n       <use x=\"63.623047\" xlink:href=\"#DejaVuSans-46\"/>\n       <use x=\"95.410156\" xlink:href=\"#DejaVuSans-53\"/>\n      </g>\n     </g>\n    </g>\n    <g id=\"ytick_32\">\n     <g id=\"line2d_65\">\n      <g>\n       <use style=\"stroke:#000000;stroke-width:0.8;\" x=\"801.737716\" xlink:href=\"#me1a24a701e\" y=\"239.532145\"/>\n      </g>\n     </g>\n     <g id=\"text_67\">\n      <!-- 4.0 -->\n      <g transform=\"translate(778.834591 243.331364)scale(0.1 -0.1)\">\n       <use xlink:href=\"#DejaVuSans-52\"/>\n       <use x=\"63.623047\" xlink:href=\"#DejaVuSans-46\"/>\n       <use x=\"95.410156\" xlink:href=\"#DejaVuSans-48\"/>\n      </g>\n     </g>\n    </g>\n    <g id=\"ytick_33\">\n     <g id=\"line2d_66\">\n      <g>\n       <use style=\"stroke:#000000;stroke-width:0.8;\" x=\"801.737716\" xlink:href=\"#me1a24a701e\" y=\"141.054404\"/>\n      </g>\n     </g>\n     <g id=\"text_68\">\n      <!-- 4.5 -->\n      <g transform=\"translate(778.834591 144.853623)scale(0.1 -0.1)\">\n       <use xlink:href=\"#DejaVuSans-52\"/>\n       <use x=\"63.623047\" xlink:href=\"#DejaVuSans-46\"/>\n       <use x=\"95.410156\" xlink:href=\"#DejaVuSans-53\"/>\n      </g>\n     </g>\n    </g>\n    <g id=\"ytick_34\">\n     <g id=\"line2d_67\">\n      <g>\n       <use style=\"stroke:#000000;stroke-width:0.8;\" x=\"801.737716\" xlink:href=\"#me1a24a701e\" y=\"42.576663\"/>\n      </g>\n     </g>\n     <g id=\"text_69\">\n      <!-- 5.0 -->\n      <g transform=\"translate(778.834591 46.375882)scale(0.1 -0.1)\">\n       <use xlink:href=\"#DejaVuSans-53\"/>\n       <use x=\"63.623047\" xlink:href=\"#DejaVuSans-46\"/>\n       <use x=\"95.410156\" xlink:href=\"#DejaVuSans-48\"/>\n      </g>\n     </g>\n    </g>\n   </g>\n   <g id=\"line2d_68\">\n    <path clip-path=\"url(#p9a40bd83e4)\" d=\"M 801.737716 281.729715 \nL 955.66875 281.729715 \n\" style=\"fill:none;stroke:#1f77b4;stroke-linecap:square;stroke-width:1.5;\"/>\n   </g>\n   <g id=\"line2d_69\">\n    <path clip-path=\"url(#p9a40bd83e4)\" d=\"M 801.737716 262.807968 \nL 955.66875 262.807968 \n\" style=\"fill:none;stroke:#ff0000;stroke-linecap:square;stroke-width:1.5;\"/>\n   </g>\n   <g id=\"patch_23\">\n    <path d=\"M 801.737716 511.558125 \nL 801.737716 22.318125 \n\" style=\"fill:none;stroke:#000000;stroke-linecap:square;stroke-linejoin:miter;stroke-width:0.8;\"/>\n   </g>\n   <g id=\"patch_24\">\n    <path d=\"M 955.66875 511.558125 \nL 955.66875 22.318125 \n\" style=\"fill:none;stroke:#000000;stroke-linecap:square;stroke-linejoin:miter;stroke-width:0.8;\"/>\n   </g>\n   <g id=\"patch_25\">\n    <path d=\"M 801.737716 511.558125 \nL 955.66875 511.558125 \n\" style=\"fill:none;stroke:#000000;stroke-linecap:square;stroke-linejoin:miter;stroke-width:0.8;\"/>\n   </g>\n   <g id=\"patch_26\">\n    <path d=\"M 801.737716 22.318125 \nL 955.66875 22.318125 \n\" style=\"fill:none;stroke:#000000;stroke-linecap:square;stroke-linejoin:miter;stroke-width:0.8;\"/>\n   </g>\n   <g id=\"text_70\">\n    <!-- Variance in 100 samples -->\n    <g transform=\"translate(805.20042 16.318125)scale(0.12 -0.12)\">\n     <use xlink:href=\"#DejaVuSans-86\"/>\n     <use x=\"60.658203\" xlink:href=\"#DejaVuSans-97\"/>\n     <use x=\"121.9375\" xlink:href=\"#DejaVuSans-114\"/>\n     <use x=\"163.050781\" xlink:href=\"#DejaVuSans-105\"/>\n     <use x=\"190.833984\" xlink:href=\"#DejaVuSans-97\"/>\n     <use x=\"252.113281\" xlink:href=\"#DejaVuSans-110\"/>\n     <use x=\"315.492188\" xlink:href=\"#DejaVuSans-99\"/>\n     <use x=\"370.472656\" xlink:href=\"#DejaVuSans-101\"/>\n     <use x=\"431.996094\" xlink:href=\"#DejaVuSans-32\"/>\n     <use x=\"463.783203\" xlink:href=\"#DejaVuSans-105\"/>\n     <use x=\"491.566406\" xlink:href=\"#DejaVuSans-110\"/>\n     <use x=\"554.945312\" xlink:href=\"#DejaVuSans-32\"/>\n     <use x=\"586.732422\" xlink:href=\"#DejaVuSans-49\"/>\n     <use x=\"650.355469\" xlink:href=\"#DejaVuSans-48\"/>\n     <use x=\"713.978516\" xlink:href=\"#DejaVuSans-48\"/>\n     <use x=\"777.601562\" xlink:href=\"#DejaVuSans-32\"/>\n     <use x=\"809.388672\" xlink:href=\"#DejaVuSans-115\"/>\n     <use x=\"861.488281\" xlink:href=\"#DejaVuSans-97\"/>\n     <use x=\"922.767578\" xlink:href=\"#DejaVuSans-109\"/>\n     <use x=\"1020.179688\" xlink:href=\"#DejaVuSans-112\"/>\n     <use x=\"1083.65625\" xlink:href=\"#DejaVuSans-108\"/>\n     <use x=\"1111.439453\" xlink:href=\"#DejaVuSans-101\"/>\n     <use x=\"1172.962891\" xlink:href=\"#DejaVuSans-115\"/>\n    </g>\n   </g>\n  </g>\n </g>\n <defs>\n  <clipPath id=\"pb1955e992e\">\n   <rect height=\"489.24\" width=\"153.931034\" x=\"62.86875\" y=\"22.318125\"/>\n  </clipPath>\n  <clipPath id=\"p37bc21c854\">\n   <rect height=\"489.24\" width=\"153.931034\" x=\"247.585991\" y=\"22.318125\"/>\n  </clipPath>\n  <clipPath id=\"pc85f02799e\">\n   <rect height=\"489.24\" width=\"153.931034\" x=\"432.303233\" y=\"22.318125\"/>\n  </clipPath>\n  <clipPath id=\"p6aeefa998a\">\n   <rect height=\"489.24\" width=\"153.931034\" x=\"617.020474\" y=\"22.318125\"/>\n  </clipPath>\n  <clipPath id=\"p9a40bd83e4\">\n   <rect height=\"489.24\" width=\"153.931034\" x=\"801.737716\" y=\"22.318125\"/>\n  </clipPath>\n </defs>\n</svg>\n",
      "image/png": "[encoded data removed]"
     },
     "metadata": {
      "needs_background": "light"
     }
    }
   ],
   "source": [
    "import matplotlib.pyplot as plt\n",
    "plt.figure(figsize=(16,9))\n",
    "for sample_size in range(len(sample_var_SRS)):\n",
    "    plt.subplot(1, 5,sample_size+1)\n",
    "    plt.scatter(range(1,101), sample_var_SRS.iloc[sample_size].values)\n",
    "    plt.axhline(sample_var_SRS.iloc[sample_size].mean())\n",
    "    plt.axhline(sample_mean_SRS.var(axis = 1).iloc[sample_size], color = 'red')\n",
    "    #plt.ylim(2,50)\n",
    "    plt.xlabel(\"Sample #\")\n",
    "    if sample_size == 0:\n",
    "        plt.ylabel(\"Sampling Variance\")\n",
    "    plt.title('Variance in '+ str(sample_var_SRS.index[sample_size])+' samples')\n",
    "# 0.004475<0.0172<0.0554<0.36<3.75  variance of sample mean is growing with the size of sampe decreasing\n",
    "\n",
    "\n",
    "\n",
    "\"\"\"I was made aware that Exercise 1 on the current Assignment sheet contains a term that was not defined in the lecture, \n",
    "and, in fact, is used incorrectly here. Instead of \"sample variance\", it should read \"variance of the sample mean\". \n",
    "The analytic expression for this variance is given on Slide 43 of Monday's lecture. The assignment sheet has been updated.\n",
    "\"\"\""
   ]
  },
  {
   "source": [
    "## 4 Stratified sampling by different Position id\n"
   ],
   "cell_type": "markdown",
   "metadata": {}
  },
  {
   "cell_type": "code",
   "execution_count": 13,
   "metadata": {},
   "outputs": [
    {
     "output_type": "display_data",
     "data": {
      "text/plain": "<Figure size 1152x360 with 2 Axes>",
      "image/svg+xml": "<?xml version=\"1.0\" encoding=\"utf-8\" standalone=\"no\"?>\n<!DOCTYPE svg PUBLIC \"-//W3C//DTD SVG 1.1//EN\"\n  \"http://www.w3.org/Graphics/SVG/1.1/DTD/svg11.dtd\">\n<!-- Created with matplotlib (https://matplotlib.org/) -->\n<svg height=\"331.674375pt\" version=\"1.1\" viewBox=\"0 0 950.14375 331.674375\" width=\"950.14375pt\" xmlns=\"http://www.w3.org/2000/svg\" xmlns:xlink=\"http://www.w3.org/1999/xlink\">\n <defs>\n  <style type=\"text/css\">\n*{stroke-linecap:butt;stroke-linejoin:round;}\n  </style>\n </defs>\n <g id=\"figure_1\">\n  <g id=\"patch_1\">\n   <path d=\"M 0 331.674375 \nL 950.14375 331.674375 \nL 950.14375 0 \nL 0 0 \nz\n\" style=\"fill:none;\"/>\n  </g>\n  <g id=\"axes_1\">\n   <g id=\"patch_2\">\n    <path d=\"M 50.14375 294.118125 \nL 455.961932 294.118125 \nL 455.961932 22.318125 \nL 50.14375 22.318125 \nz\n\" style=\"fill:#ffffff;\"/>\n   </g>\n   <g id=\"PathCollection_1\">\n    <defs>\n     <path d=\"M 0 3 \nC 0.795609 3 1.55874 2.683901 2.12132 2.12132 \nC 2.683901 1.55874 3 0.795609 3 0 \nC 3 -0.795609 2.683901 -1.55874 2.12132 -2.12132 \nC 1.55874 -2.683901 0.795609 -3 0 -3 \nC -0.795609 -3 -1.55874 -2.683901 -2.12132 -2.12132 \nC -2.683901 -1.55874 -3 -0.795609 -3 0 \nC -3 0.795609 -2.683901 1.55874 -2.12132 2.12132 \nC -1.55874 2.683901 -0.795609 3 0 3 \nz\n\" id=\"m62a780d990\" style=\"stroke:#1f77b4;\"/>\n    </defs>\n    <g clip-path=\"url(#p36e8bb03f2)\">\n     <use style=\"fill:#1f77b4;stroke:#1f77b4;\" x=\"68.590031\" xlink:href=\"#m62a780d990\" y=\"55.155852\"/>\n     <use style=\"fill:#1f77b4;stroke:#1f77b4;\" x=\"72.316552\" xlink:href=\"#m62a780d990\" y=\"51.994987\"/>\n     <use style=\"fill:#1f77b4;stroke:#1f77b4;\" x=\"76.043074\" xlink:href=\"#m62a780d990\" y=\"52.62524\"/>\n     <use style=\"fill:#1f77b4;stroke:#1f77b4;\" x=\"79.769595\" xlink:href=\"#m62a780d990\" y=\"55.43712\"/>\n     <use style=\"fill:#1f77b4;stroke:#1f77b4;\" x=\"83.496117\" xlink:href=\"#m62a780d990\" y=\"35.292602\"/>\n     <use style=\"fill:#1f77b4;stroke:#1f77b4;\" x=\"87.222638\" xlink:href=\"#m62a780d990\" y=\"63.168541\"/>\n     <use style=\"fill:#1f77b4;stroke:#1f77b4;\" x=\"90.949159\" xlink:href=\"#m62a780d990\" y=\"52.928521\"/>\n     <use style=\"fill:#1f77b4;stroke:#1f77b4;\" x=\"94.675681\" xlink:href=\"#m62a780d990\" y=\"59.358798\"/>\n     <use style=\"fill:#1f77b4;stroke:#1f77b4;\" x=\"98.402202\" xlink:href=\"#m62a780d990\" y=\"51.425413\"/>\n     <use style=\"fill:#1f77b4;stroke:#1f77b4;\" x=\"102.128724\" xlink:href=\"#m62a780d990\" y=\"52.751422\"/>\n     <use style=\"fill:#1f77b4;stroke:#1f77b4;\" x=\"105.855245\" xlink:href=\"#m62a780d990\" y=\"60.649233\"/>\n     <use style=\"fill:#1f77b4;stroke:#1f77b4;\" x=\"109.581767\" xlink:href=\"#m62a780d990\" y=\"53.446029\"/>\n     <use style=\"fill:#1f77b4;stroke:#1f77b4;\" x=\"113.308288\" xlink:href=\"#m62a780d990\" y=\"47.398208\"/>\n     <use style=\"fill:#1f77b4;stroke:#1f77b4;\" x=\"117.034809\" xlink:href=\"#m62a780d990\" y=\"60.045798\"/>\n     <use style=\"fill:#1f77b4;stroke:#1f77b4;\" x=\"120.761331\" xlink:href=\"#m62a780d990\" y=\"37.552764\"/>\n     <use style=\"fill:#1f77b4;stroke:#1f77b4;\" x=\"124.487852\" xlink:href=\"#m62a780d990\" y=\"49.156145\"/>\n     <use style=\"fill:#1f77b4;stroke:#1f77b4;\" x=\"128.214374\" xlink:href=\"#m62a780d990\" y=\"53.365264\"/>\n     <use style=\"fill:#1f77b4;stroke:#1f77b4;\" x=\"131.940895\" xlink:href=\"#m62a780d990\" y=\"65.075729\"/>\n     <use style=\"fill:#1f77b4;stroke:#1f77b4;\" x=\"135.667416\" xlink:href=\"#m62a780d990\" y=\"59.443382\"/>\n     <use style=\"fill:#1f77b4;stroke:#1f77b4;\" x=\"139.393938\" xlink:href=\"#m62a780d990\" y=\"62.98669\"/>\n     <use style=\"fill:#1f77b4;stroke:#1f77b4;\" x=\"143.120459\" xlink:href=\"#m62a780d990\" y=\"46.989802\"/>\n     <use style=\"fill:#1f77b4;stroke:#1f77b4;\" x=\"146.846981\" xlink:href=\"#m62a780d990\" y=\"53.575129\"/>\n     <use style=\"fill:#1f77b4;stroke:#1f77b4;\" x=\"150.573502\" xlink:href=\"#m62a780d990\" y=\"41.913476\"/>\n     <use style=\"fill:#1f77b4;stroke:#1f77b4;\" x=\"154.300023\" xlink:href=\"#m62a780d990\" y=\"54.955568\"/>\n     <use style=\"fill:#1f77b4;stroke:#1f77b4;\" x=\"158.026545\" xlink:href=\"#m62a780d990\" y=\"42.782305\"/>\n     <use style=\"fill:#1f77b4;stroke:#1f77b4;\" x=\"161.753066\" xlink:href=\"#m62a780d990\" y=\"51.259737\"/>\n     <use style=\"fill:#1f77b4;stroke:#1f77b4;\" x=\"165.479588\" xlink:href=\"#m62a780d990\" y=\"62.079744\"/>\n     <use style=\"fill:#1f77b4;stroke:#1f77b4;\" x=\"169.206109\" xlink:href=\"#m62a780d990\" y=\"53.73352\"/>\n     <use style=\"fill:#1f77b4;stroke:#1f77b4;\" x=\"172.932631\" xlink:href=\"#m62a780d990\" y=\"59.515359\"/>\n     <use style=\"fill:#1f77b4;stroke:#1f77b4;\" x=\"176.659152\" xlink:href=\"#m62a780d990\" y=\"60.949559\"/>\n     <use style=\"fill:#1f77b4;stroke:#1f77b4;\" x=\"180.385673\" xlink:href=\"#m62a780d990\" y=\"62.898572\"/>\n     <use style=\"fill:#1f77b4;stroke:#1f77b4;\" x=\"184.112195\" xlink:href=\"#m62a780d990\" y=\"54.36236\"/>\n     <use style=\"fill:#1f77b4;stroke:#1f77b4;\" x=\"187.838716\" xlink:href=\"#m62a780d990\" y=\"63.724895\"/>\n     <use style=\"fill:#1f77b4;stroke:#1f77b4;\" x=\"191.565238\" xlink:href=\"#m62a780d990\" y=\"54.387477\"/>\n     <use style=\"fill:#1f77b4;stroke:#1f77b4;\" x=\"195.291759\" xlink:href=\"#m62a780d990\" y=\"56.368721\"/>\n     <use style=\"fill:#1f77b4;stroke:#1f77b4;\" x=\"199.01828\" xlink:href=\"#m62a780d990\" y=\"40.15605\"/>\n     <use style=\"fill:#1f77b4;stroke:#1f77b4;\" x=\"202.744802\" xlink:href=\"#m62a780d990\" y=\"55.603364\"/>\n     <use style=\"fill:#1f77b4;stroke:#1f77b4;\" x=\"206.471323\" xlink:href=\"#m62a780d990\" y=\"61.721363\"/>\n     <use style=\"fill:#1f77b4;stroke:#1f77b4;\" x=\"210.197845\" xlink:href=\"#m62a780d990\" y=\"60.685085\"/>\n     <use style=\"fill:#1f77b4;stroke:#1f77b4;\" x=\"213.924366\" xlink:href=\"#m62a780d990\" y=\"49.601666\"/>\n     <use style=\"fill:#1f77b4;stroke:#1f77b4;\" x=\"217.650887\" xlink:href=\"#m62a780d990\" y=\"63.290139\"/>\n     <use style=\"fill:#1f77b4;stroke:#1f77b4;\" x=\"221.377409\" xlink:href=\"#m62a780d990\" y=\"66.634432\"/>\n     <use style=\"fill:#1f77b4;stroke:#1f77b4;\" x=\"225.10393\" xlink:href=\"#m62a780d990\" y=\"62.920969\"/>\n     <use style=\"fill:#1f77b4;stroke:#1f77b4;\" x=\"228.830452\" xlink:href=\"#m62a780d990\" y=\"64.897095\"/>\n     <use style=\"fill:#1f77b4;stroke:#1f77b4;\" x=\"232.556973\" xlink:href=\"#m62a780d990\" y=\"67.774231\"/>\n     <use style=\"fill:#1f77b4;stroke:#1f77b4;\" x=\"236.283495\" xlink:href=\"#m62a780d990\" y=\"52.612641\"/>\n     <use style=\"fill:#1f77b4;stroke:#1f77b4;\" x=\"240.010016\" xlink:href=\"#m62a780d990\" y=\"58.09106\"/>\n     <use style=\"fill:#1f77b4;stroke:#1f77b4;\" x=\"243.736537\" xlink:href=\"#m62a780d990\" y=\"45.315677\"/>\n     <use style=\"fill:#1f77b4;stroke:#1f77b4;\" x=\"247.463059\" xlink:href=\"#m62a780d990\" y=\"49.055932\"/>\n     <use style=\"fill:#1f77b4;stroke:#1f77b4;\" x=\"251.18958\" xlink:href=\"#m62a780d990\" y=\"65.635382\"/>\n     <use style=\"fill:#1f77b4;stroke:#1f77b4;\" x=\"254.916102\" xlink:href=\"#m62a780d990\" y=\"58.747327\"/>\n     <use style=\"fill:#1f77b4;stroke:#1f77b4;\" x=\"258.642623\" xlink:href=\"#m62a780d990\" y=\"62.884665\"/>\n     <use style=\"fill:#1f77b4;stroke:#1f77b4;\" x=\"262.369144\" xlink:href=\"#m62a780d990\" y=\"64.073074\"/>\n     <use style=\"fill:#1f77b4;stroke:#1f77b4;\" x=\"266.095666\" xlink:href=\"#m62a780d990\" y=\"54.711239\"/>\n     <use style=\"fill:#1f77b4;stroke:#1f77b4;\" x=\"269.822187\" xlink:href=\"#m62a780d990\" y=\"45.179996\"/>\n     <use style=\"fill:#1f77b4;stroke:#1f77b4;\" x=\"273.548709\" xlink:href=\"#m62a780d990\" y=\"50.857503\"/>\n     <use style=\"fill:#1f77b4;stroke:#1f77b4;\" x=\"277.27523\" xlink:href=\"#m62a780d990\" y=\"39.806488\"/>\n     <use style=\"fill:#1f77b4;stroke:#1f77b4;\" x=\"281.001752\" xlink:href=\"#m62a780d990\" y=\"42.079534\"/>\n     <use style=\"fill:#1f77b4;stroke:#1f77b4;\" x=\"284.728273\" xlink:href=\"#m62a780d990\" y=\"60.535075\"/>\n     <use style=\"fill:#1f77b4;stroke:#1f77b4;\" x=\"288.454794\" xlink:href=\"#m62a780d990\" y=\"53.243904\"/>\n     <use style=\"fill:#1f77b4;stroke:#1f77b4;\" x=\"292.181316\" xlink:href=\"#m62a780d990\" y=\"51.560852\"/>\n     <use style=\"fill:#1f77b4;stroke:#1f77b4;\" x=\"295.907837\" xlink:href=\"#m62a780d990\" y=\"48.263032\"/>\n     <use style=\"fill:#1f77b4;stroke:#1f77b4;\" x=\"299.634359\" xlink:href=\"#m62a780d990\" y=\"54.772697\"/>\n     <use style=\"fill:#1f77b4;stroke:#1f77b4;\" x=\"303.36088\" xlink:href=\"#m62a780d990\" y=\"67.128329\"/>\n     <use style=\"fill:#1f77b4;stroke:#1f77b4;\" x=\"307.087401\" xlink:href=\"#m62a780d990\" y=\"68.883392\"/>\n     <use style=\"fill:#1f77b4;stroke:#1f77b4;\" x=\"310.813923\" xlink:href=\"#m62a780d990\" y=\"47.850788\"/>\n     <use style=\"fill:#1f77b4;stroke:#1f77b4;\" x=\"314.540444\" xlink:href=\"#m62a780d990\" y=\"45.143468\"/>\n     <use style=\"fill:#1f77b4;stroke:#1f77b4;\" x=\"318.266966\" xlink:href=\"#m62a780d990\" y=\"58.348694\"/>\n     <use style=\"fill:#1f77b4;stroke:#1f77b4;\" x=\"321.993487\" xlink:href=\"#m62a780d990\" y=\"65.380101\"/>\n     <use style=\"fill:#1f77b4;stroke:#1f77b4;\" x=\"325.720008\" xlink:href=\"#m62a780d990\" y=\"59.087583\"/>\n     <use style=\"fill:#1f77b4;stroke:#1f77b4;\" x=\"329.44653\" xlink:href=\"#m62a780d990\" y=\"51.625215\"/>\n     <use style=\"fill:#1f77b4;stroke:#1f77b4;\" x=\"333.173051\" xlink:href=\"#m62a780d990\" y=\"62.420577\"/>\n     <use style=\"fill:#1f77b4;stroke:#1f77b4;\" x=\"336.899573\" xlink:href=\"#m62a780d990\" y=\"40.41904\"/>\n     <use style=\"fill:#1f77b4;stroke:#1f77b4;\" x=\"340.626094\" xlink:href=\"#m62a780d990\" y=\"67.011302\"/>\n     <use style=\"fill:#1f77b4;stroke:#1f77b4;\" x=\"344.352616\" xlink:href=\"#m62a780d990\" y=\"66.717483\"/>\n     <use style=\"fill:#1f77b4;stroke:#1f77b4;\" x=\"348.079137\" xlink:href=\"#m62a780d990\" y=\"58.510398\"/>\n     <use style=\"fill:#1f77b4;stroke:#1f77b4;\" x=\"351.805658\" xlink:href=\"#m62a780d990\" y=\"50.994079\"/>\n     <use style=\"fill:#1f77b4;stroke:#1f77b4;\" x=\"355.53218\" xlink:href=\"#m62a780d990\" y=\"66.37189\"/>\n     <use style=\"fill:#1f77b4;stroke:#1f77b4;\" x=\"359.258701\" xlink:href=\"#m62a780d990\" y=\"66.403032\"/>\n     <use style=\"fill:#1f77b4;stroke:#1f77b4;\" x=\"362.985223\" xlink:href=\"#m62a780d990\" y=\"55.490031\"/>\n     <use style=\"fill:#1f77b4;stroke:#1f77b4;\" x=\"366.711744\" xlink:href=\"#m62a780d990\" y=\"51.489449\"/>\n     <use style=\"fill:#1f77b4;stroke:#1f77b4;\" x=\"370.438265\" xlink:href=\"#m62a780d990\" y=\"54.875829\"/>\n     <use style=\"fill:#1f77b4;stroke:#1f77b4;\" x=\"374.164787\" xlink:href=\"#m62a780d990\" y=\"49.030279\"/>\n     <use style=\"fill:#1f77b4;stroke:#1f77b4;\" x=\"377.891308\" xlink:href=\"#m62a780d990\" y=\"66.799181\"/>\n     <use style=\"fill:#1f77b4;stroke:#1f77b4;\" x=\"381.61783\" xlink:href=\"#m62a780d990\" y=\"61.217424\"/>\n     <use style=\"fill:#1f77b4;stroke:#1f77b4;\" x=\"385.344351\" xlink:href=\"#m62a780d990\" y=\"41.261932\"/>\n     <use style=\"fill:#1f77b4;stroke:#1f77b4;\" x=\"389.070872\" xlink:href=\"#m62a780d990\" y=\"59.973943\"/>\n     <use style=\"fill:#1f77b4;stroke:#1f77b4;\" x=\"392.797394\" xlink:href=\"#m62a780d990\" y=\"62.282197\"/>\n     <use style=\"fill:#1f77b4;stroke:#1f77b4;\" x=\"396.523915\" xlink:href=\"#m62a780d990\" y=\"69.024346\"/>\n     <use style=\"fill:#1f77b4;stroke:#1f77b4;\" x=\"400.250437\" xlink:href=\"#m62a780d990\" y=\"53.437184\"/>\n     <use style=\"fill:#1f77b4;stroke:#1f77b4;\" x=\"403.976958\" xlink:href=\"#m62a780d990\" y=\"51.635352\"/>\n     <use style=\"fill:#1f77b4;stroke:#1f77b4;\" x=\"407.70348\" xlink:href=\"#m62a780d990\" y=\"56.357662\"/>\n     <use style=\"fill:#1f77b4;stroke:#1f77b4;\" x=\"411.430001\" xlink:href=\"#m62a780d990\" y=\"56.662143\"/>\n     <use style=\"fill:#1f77b4;stroke:#1f77b4;\" x=\"415.156522\" xlink:href=\"#m62a780d990\" y=\"52.100632\"/>\n     <use style=\"fill:#1f77b4;stroke:#1f77b4;\" x=\"418.883044\" xlink:href=\"#m62a780d990\" y=\"59.554594\"/>\n     <use style=\"fill:#1f77b4;stroke:#1f77b4;\" x=\"422.609565\" xlink:href=\"#m62a780d990\" y=\"62.734358\"/>\n     <use style=\"fill:#1f77b4;stroke:#1f77b4;\" x=\"426.336087\" xlink:href=\"#m62a780d990\" y=\"60.884806\"/>\n     <use style=\"fill:#1f77b4;stroke:#1f77b4;\" x=\"430.062608\" xlink:href=\"#m62a780d990\" y=\"60.73235\"/>\n     <use style=\"fill:#1f77b4;stroke:#1f77b4;\" x=\"433.789129\" xlink:href=\"#m62a780d990\" y=\"59.856597\"/>\n     <use style=\"fill:#1f77b4;stroke:#1f77b4;\" x=\"437.515651\" xlink:href=\"#m62a780d990\" y=\"53.552772\"/>\n    </g>\n   </g>\n   <g id=\"matplotlib.axis_1\">\n    <g id=\"xtick_1\">\n     <g id=\"line2d_1\">\n      <defs>\n       <path d=\"M 0 0 \nL 0 3.5 \n\" id=\"mb98a28c68b\" style=\"stroke:#000000;stroke-width:0.8;\"/>\n      </defs>\n      <g>\n       <use style=\"stroke:#000000;stroke-width:0.8;\" x=\"64.86351\" xlink:href=\"#mb98a28c68b\" y=\"294.118125\"/>\n      </g>\n     </g>\n     <g id=\"text_1\">\n      <!-- 0 -->\n      <defs>\n       <path d=\"M 31.78125 66.40625 \nQ 24.171875 66.40625 20.328125 58.90625 \nQ 16.5 51.421875 16.5 36.375 \nQ 16.5 21.390625 20.328125 13.890625 \nQ 24.171875 6.390625 31.78125 6.390625 \nQ 39.453125 6.390625 43.28125 13.890625 \nQ 47.125 21.390625 47.125 36.375 \nQ 47.125 51.421875 43.28125 58.90625 \nQ 39.453125 66.40625 31.78125 66.40625 \nz\nM 31.78125 74.21875 \nQ 44.046875 74.21875 50.515625 64.515625 \nQ 56.984375 54.828125 56.984375 36.375 \nQ 56.984375 17.96875 50.515625 8.265625 \nQ 44.046875 -1.421875 31.78125 -1.421875 \nQ 19.53125 -1.421875 13.0625 8.265625 \nQ 6.59375 17.96875 6.59375 36.375 \nQ 6.59375 54.828125 13.0625 64.515625 \nQ 19.53125 74.21875 31.78125 74.21875 \nz\n\" id=\"DejaVuSans-48\"/>\n      </defs>\n      <g transform=\"translate(61.68226 308.716563)scale(0.1 -0.1)\">\n       <use xlink:href=\"#DejaVuSans-48\"/>\n      </g>\n     </g>\n    </g>\n    <g id=\"xtick_2\">\n     <g id=\"line2d_2\">\n      <g>\n       <use style=\"stroke:#000000;stroke-width:0.8;\" x=\"139.393938\" xlink:href=\"#mb98a28c68b\" y=\"294.118125\"/>\n      </g>\n     </g>\n     <g id=\"text_2\">\n      <!-- 20 -->\n      <defs>\n       <path d=\"M 19.1875 8.296875 \nL 53.609375 8.296875 \nL 53.609375 0 \nL 7.328125 0 \nL 7.328125 8.296875 \nQ 12.9375 14.109375 22.625 23.890625 \nQ 32.328125 33.6875 34.8125 36.53125 \nQ 39.546875 41.84375 41.421875 45.53125 \nQ 43.3125 49.21875 43.3125 52.78125 \nQ 43.3125 58.59375 39.234375 62.25 \nQ 35.15625 65.921875 28.609375 65.921875 \nQ 23.96875 65.921875 18.8125 64.3125 \nQ 13.671875 62.703125 7.8125 59.421875 \nL 7.8125 69.390625 \nQ 13.765625 71.78125 18.9375 73 \nQ 24.125 74.21875 28.421875 74.21875 \nQ 39.75 74.21875 46.484375 68.546875 \nQ 53.21875 62.890625 53.21875 53.421875 \nQ 53.21875 48.921875 51.53125 44.890625 \nQ 49.859375 40.875 45.40625 35.40625 \nQ 44.1875 33.984375 37.640625 27.21875 \nQ 31.109375 20.453125 19.1875 8.296875 \nz\n\" id=\"DejaVuSans-50\"/>\n      </defs>\n      <g transform=\"translate(133.031438 308.716563)scale(0.1 -0.1)\">\n       <use xlink:href=\"#DejaVuSans-50\"/>\n       <use x=\"63.623047\" xlink:href=\"#DejaVuSans-48\"/>\n      </g>\n     </g>\n    </g>\n    <g id=\"xtick_3\">\n     <g id=\"line2d_3\">\n      <g>\n       <use style=\"stroke:#000000;stroke-width:0.8;\" x=\"213.924366\" xlink:href=\"#mb98a28c68b\" y=\"294.118125\"/>\n      </g>\n     </g>\n     <g id=\"text_3\">\n      <!-- 40 -->\n      <defs>\n       <path d=\"M 37.796875 64.3125 \nL 12.890625 25.390625 \nL 37.796875 25.390625 \nz\nM 35.203125 72.90625 \nL 47.609375 72.90625 \nL 47.609375 25.390625 \nL 58.015625 25.390625 \nL 58.015625 17.1875 \nL 47.609375 17.1875 \nL 47.609375 0 \nL 37.796875 0 \nL 37.796875 17.1875 \nL 4.890625 17.1875 \nL 4.890625 26.703125 \nz\n\" id=\"DejaVuSans-52\"/>\n      </defs>\n      <g transform=\"translate(207.561866 308.716563)scale(0.1 -0.1)\">\n       <use xlink:href=\"#DejaVuSans-52\"/>\n       <use x=\"63.623047\" xlink:href=\"#DejaVuSans-48\"/>\n      </g>\n     </g>\n    </g>\n    <g id=\"xtick_4\">\n     <g id=\"line2d_4\">\n      <g>\n       <use style=\"stroke:#000000;stroke-width:0.8;\" x=\"288.454794\" xlink:href=\"#mb98a28c68b\" y=\"294.118125\"/>\n      </g>\n     </g>\n     <g id=\"text_4\">\n      <!-- 60 -->\n      <defs>\n       <path d=\"M 33.015625 40.375 \nQ 26.375 40.375 22.484375 35.828125 \nQ 18.609375 31.296875 18.609375 23.390625 \nQ 18.609375 15.53125 22.484375 10.953125 \nQ 26.375 6.390625 33.015625 6.390625 \nQ 39.65625 6.390625 43.53125 10.953125 \nQ 47.40625 15.53125 47.40625 23.390625 \nQ 47.40625 31.296875 43.53125 35.828125 \nQ 39.65625 40.375 33.015625 40.375 \nz\nM 52.59375 71.296875 \nL 52.59375 62.3125 \nQ 48.875 64.0625 45.09375 64.984375 \nQ 41.3125 65.921875 37.59375 65.921875 \nQ 27.828125 65.921875 22.671875 59.328125 \nQ 17.53125 52.734375 16.796875 39.40625 \nQ 19.671875 43.65625 24.015625 45.921875 \nQ 28.375 48.1875 33.59375 48.1875 \nQ 44.578125 48.1875 50.953125 41.515625 \nQ 57.328125 34.859375 57.328125 23.390625 \nQ 57.328125 12.15625 50.6875 5.359375 \nQ 44.046875 -1.421875 33.015625 -1.421875 \nQ 20.359375 -1.421875 13.671875 8.265625 \nQ 6.984375 17.96875 6.984375 36.375 \nQ 6.984375 53.65625 15.1875 63.9375 \nQ 23.390625 74.21875 37.203125 74.21875 \nQ 40.921875 74.21875 44.703125 73.484375 \nQ 48.484375 72.75 52.59375 71.296875 \nz\n\" id=\"DejaVuSans-54\"/>\n      </defs>\n      <g transform=\"translate(282.092294 308.716563)scale(0.1 -0.1)\">\n       <use xlink:href=\"#DejaVuSans-54\"/>\n       <use x=\"63.623047\" xlink:href=\"#DejaVuSans-48\"/>\n      </g>\n     </g>\n    </g>\n    <g id=\"xtick_5\">\n     <g id=\"line2d_5\">\n      <g>\n       <use style=\"stroke:#000000;stroke-width:0.8;\" x=\"362.985223\" xlink:href=\"#mb98a28c68b\" y=\"294.118125\"/>\n      </g>\n     </g>\n     <g id=\"text_5\">\n      <!-- 80 -->\n      <defs>\n       <path d=\"M 31.78125 34.625 \nQ 24.75 34.625 20.71875 30.859375 \nQ 16.703125 27.09375 16.703125 20.515625 \nQ 16.703125 13.921875 20.71875 10.15625 \nQ 24.75 6.390625 31.78125 6.390625 \nQ 38.8125 6.390625 42.859375 10.171875 \nQ 46.921875 13.96875 46.921875 20.515625 \nQ 46.921875 27.09375 42.890625 30.859375 \nQ 38.875 34.625 31.78125 34.625 \nz\nM 21.921875 38.8125 \nQ 15.578125 40.375 12.03125 44.71875 \nQ 8.5 49.078125 8.5 55.328125 \nQ 8.5 64.0625 14.71875 69.140625 \nQ 20.953125 74.21875 31.78125 74.21875 \nQ 42.671875 74.21875 48.875 69.140625 \nQ 55.078125 64.0625 55.078125 55.328125 \nQ 55.078125 49.078125 51.53125 44.71875 \nQ 48 40.375 41.703125 38.8125 \nQ 48.828125 37.15625 52.796875 32.3125 \nQ 56.78125 27.484375 56.78125 20.515625 \nQ 56.78125 9.90625 50.3125 4.234375 \nQ 43.84375 -1.421875 31.78125 -1.421875 \nQ 19.734375 -1.421875 13.25 4.234375 \nQ 6.78125 9.90625 6.78125 20.515625 \nQ 6.78125 27.484375 10.78125 32.3125 \nQ 14.796875 37.15625 21.921875 38.8125 \nz\nM 18.3125 54.390625 \nQ 18.3125 48.734375 21.84375 45.5625 \nQ 25.390625 42.390625 31.78125 42.390625 \nQ 38.140625 42.390625 41.71875 45.5625 \nQ 45.3125 48.734375 45.3125 54.390625 \nQ 45.3125 60.0625 41.71875 63.234375 \nQ 38.140625 66.40625 31.78125 66.40625 \nQ 25.390625 66.40625 21.84375 63.234375 \nQ 18.3125 60.0625 18.3125 54.390625 \nz\n\" id=\"DejaVuSans-56\"/>\n      </defs>\n      <g transform=\"translate(356.622723 308.716563)scale(0.1 -0.1)\">\n       <use xlink:href=\"#DejaVuSans-56\"/>\n       <use x=\"63.623047\" xlink:href=\"#DejaVuSans-48\"/>\n      </g>\n     </g>\n    </g>\n    <g id=\"xtick_6\">\n     <g id=\"line2d_6\">\n      <g>\n       <use style=\"stroke:#000000;stroke-width:0.8;\" x=\"437.515651\" xlink:href=\"#mb98a28c68b\" y=\"294.118125\"/>\n      </g>\n     </g>\n     <g id=\"text_6\">\n      <!-- 100 -->\n      <defs>\n       <path d=\"M 12.40625 8.296875 \nL 28.515625 8.296875 \nL 28.515625 63.921875 \nL 10.984375 60.40625 \nL 10.984375 69.390625 \nL 28.421875 72.90625 \nL 38.28125 72.90625 \nL 38.28125 8.296875 \nL 54.390625 8.296875 \nL 54.390625 0 \nL 12.40625 0 \nz\n\" id=\"DejaVuSans-49\"/>\n      </defs>\n      <g transform=\"translate(427.971901 308.716563)scale(0.1 -0.1)\">\n       <use xlink:href=\"#DejaVuSans-49\"/>\n       <use x=\"63.623047\" xlink:href=\"#DejaVuSans-48\"/>\n       <use x=\"127.246094\" xlink:href=\"#DejaVuSans-48\"/>\n      </g>\n     </g>\n    </g>\n    <g id=\"text_7\">\n     <!-- Sample # -->\n     <defs>\n      <path d=\"M 53.515625 70.515625 \nL 53.515625 60.890625 \nQ 47.90625 63.578125 42.921875 64.890625 \nQ 37.9375 66.21875 33.296875 66.21875 \nQ 25.25 66.21875 20.875 63.09375 \nQ 16.5 59.96875 16.5 54.203125 \nQ 16.5 49.359375 19.40625 46.890625 \nQ 22.3125 44.4375 30.421875 42.921875 \nL 36.375 41.703125 \nQ 47.40625 39.59375 52.65625 34.296875 \nQ 57.90625 29 57.90625 20.125 \nQ 57.90625 9.515625 50.796875 4.046875 \nQ 43.703125 -1.421875 29.984375 -1.421875 \nQ 24.8125 -1.421875 18.96875 -0.25 \nQ 13.140625 0.921875 6.890625 3.21875 \nL 6.890625 13.375 \nQ 12.890625 10.015625 18.65625 8.296875 \nQ 24.421875 6.59375 29.984375 6.59375 \nQ 38.421875 6.59375 43.015625 9.90625 \nQ 47.609375 13.234375 47.609375 19.390625 \nQ 47.609375 24.75 44.3125 27.78125 \nQ 41.015625 30.8125 33.5 32.328125 \nL 27.484375 33.5 \nQ 16.453125 35.6875 11.515625 40.375 \nQ 6.59375 45.0625 6.59375 53.421875 \nQ 6.59375 63.09375 13.40625 68.65625 \nQ 20.21875 74.21875 32.171875 74.21875 \nQ 37.3125 74.21875 42.625 73.28125 \nQ 47.953125 72.359375 53.515625 70.515625 \nz\n\" id=\"DejaVuSans-83\"/>\n      <path d=\"M 34.28125 27.484375 \nQ 23.390625 27.484375 19.1875 25 \nQ 14.984375 22.515625 14.984375 16.5 \nQ 14.984375 11.71875 18.140625 8.90625 \nQ 21.296875 6.109375 26.703125 6.109375 \nQ 34.1875 6.109375 38.703125 11.40625 \nQ 43.21875 16.703125 43.21875 25.484375 \nL 43.21875 27.484375 \nz\nM 52.203125 31.203125 \nL 52.203125 0 \nL 43.21875 0 \nL 43.21875 8.296875 \nQ 40.140625 3.328125 35.546875 0.953125 \nQ 30.953125 -1.421875 24.3125 -1.421875 \nQ 15.921875 -1.421875 10.953125 3.296875 \nQ 6 8.015625 6 15.921875 \nQ 6 25.140625 12.171875 29.828125 \nQ 18.359375 34.515625 30.609375 34.515625 \nL 43.21875 34.515625 \nL 43.21875 35.40625 \nQ 43.21875 41.609375 39.140625 45 \nQ 35.0625 48.390625 27.6875 48.390625 \nQ 23 48.390625 18.546875 47.265625 \nQ 14.109375 46.140625 10.015625 43.890625 \nL 10.015625 52.203125 \nQ 14.9375 54.109375 19.578125 55.046875 \nQ 24.21875 56 28.609375 56 \nQ 40.484375 56 46.34375 49.84375 \nQ 52.203125 43.703125 52.203125 31.203125 \nz\n\" id=\"DejaVuSans-97\"/>\n      <path d=\"M 52 44.1875 \nQ 55.375 50.25 60.0625 53.125 \nQ 64.75 56 71.09375 56 \nQ 79.640625 56 84.28125 50.015625 \nQ 88.921875 44.046875 88.921875 33.015625 \nL 88.921875 0 \nL 79.890625 0 \nL 79.890625 32.71875 \nQ 79.890625 40.578125 77.09375 44.375 \nQ 74.3125 48.1875 68.609375 48.1875 \nQ 61.625 48.1875 57.5625 43.546875 \nQ 53.515625 38.921875 53.515625 30.90625 \nL 53.515625 0 \nL 44.484375 0 \nL 44.484375 32.71875 \nQ 44.484375 40.625 41.703125 44.40625 \nQ 38.921875 48.1875 33.109375 48.1875 \nQ 26.21875 48.1875 22.15625 43.53125 \nQ 18.109375 38.875 18.109375 30.90625 \nL 18.109375 0 \nL 9.078125 0 \nL 9.078125 54.6875 \nL 18.109375 54.6875 \nL 18.109375 46.1875 \nQ 21.1875 51.21875 25.484375 53.609375 \nQ 29.78125 56 35.6875 56 \nQ 41.65625 56 45.828125 52.96875 \nQ 50 49.953125 52 44.1875 \nz\n\" id=\"DejaVuSans-109\"/>\n      <path d=\"M 18.109375 8.203125 \nL 18.109375 -20.796875 \nL 9.078125 -20.796875 \nL 9.078125 54.6875 \nL 18.109375 54.6875 \nL 18.109375 46.390625 \nQ 20.953125 51.265625 25.265625 53.625 \nQ 29.59375 56 35.59375 56 \nQ 45.5625 56 51.78125 48.09375 \nQ 58.015625 40.1875 58.015625 27.296875 \nQ 58.015625 14.40625 51.78125 6.484375 \nQ 45.5625 -1.421875 35.59375 -1.421875 \nQ 29.59375 -1.421875 25.265625 0.953125 \nQ 20.953125 3.328125 18.109375 8.203125 \nz\nM 48.6875 27.296875 \nQ 48.6875 37.203125 44.609375 42.84375 \nQ 40.53125 48.484375 33.40625 48.484375 \nQ 26.265625 48.484375 22.1875 42.84375 \nQ 18.109375 37.203125 18.109375 27.296875 \nQ 18.109375 17.390625 22.1875 11.75 \nQ 26.265625 6.109375 33.40625 6.109375 \nQ 40.53125 6.109375 44.609375 11.75 \nQ 48.6875 17.390625 48.6875 27.296875 \nz\n\" id=\"DejaVuSans-112\"/>\n      <path d=\"M 9.421875 75.984375 \nL 18.40625 75.984375 \nL 18.40625 0 \nL 9.421875 0 \nz\n\" id=\"DejaVuSans-108\"/>\n      <path d=\"M 56.203125 29.59375 \nL 56.203125 25.203125 \nL 14.890625 25.203125 \nQ 15.484375 15.921875 20.484375 11.0625 \nQ 25.484375 6.203125 34.421875 6.203125 \nQ 39.59375 6.203125 44.453125 7.46875 \nQ 49.3125 8.734375 54.109375 11.28125 \nL 54.109375 2.78125 \nQ 49.265625 0.734375 44.1875 -0.34375 \nQ 39.109375 -1.421875 33.890625 -1.421875 \nQ 20.796875 -1.421875 13.15625 6.1875 \nQ 5.515625 13.8125 5.515625 26.8125 \nQ 5.515625 40.234375 12.765625 48.109375 \nQ 20.015625 56 32.328125 56 \nQ 43.359375 56 49.78125 48.890625 \nQ 56.203125 41.796875 56.203125 29.59375 \nz\nM 47.21875 32.234375 \nQ 47.125 39.59375 43.09375 43.984375 \nQ 39.0625 48.390625 32.421875 48.390625 \nQ 24.90625 48.390625 20.390625 44.140625 \nQ 15.875 39.890625 15.1875 32.171875 \nz\n\" id=\"DejaVuSans-101\"/>\n      <path id=\"DejaVuSans-32\"/>\n      <path d=\"M 51.125 44 \nL 36.921875 44 \nL 32.8125 27.6875 \nL 47.125 27.6875 \nz\nM 43.796875 71.78125 \nL 38.71875 51.515625 \nL 52.984375 51.515625 \nL 58.109375 71.78125 \nL 65.921875 71.78125 \nL 60.890625 51.515625 \nL 76.125 51.515625 \nL 76.125 44 \nL 58.984375 44 \nL 54.984375 27.6875 \nL 70.515625 27.6875 \nL 70.515625 20.21875 \nL 53.078125 20.21875 \nL 48 0 \nL 40.1875 0 \nL 45.21875 20.21875 \nL 30.90625 20.21875 \nL 25.875 0 \nL 18.015625 0 \nL 23.09375 20.21875 \nL 7.71875 20.21875 \nL 7.71875 27.6875 \nL 24.90625 27.6875 \nL 29 44 \nL 13.28125 44 \nL 13.28125 51.515625 \nL 30.90625 51.515625 \nL 35.890625 71.78125 \nz\n\" id=\"DejaVuSans-35\"/>\n     </defs>\n     <g transform=\"translate(228.525497 322.394687)scale(0.1 -0.1)\">\n      <use xlink:href=\"#DejaVuSans-83\"/>\n      <use x=\"63.476562\" xlink:href=\"#DejaVuSans-97\"/>\n      <use x=\"124.755859\" xlink:href=\"#DejaVuSans-109\"/>\n      <use x=\"222.167969\" xlink:href=\"#DejaVuSans-112\"/>\n      <use x=\"285.644531\" xlink:href=\"#DejaVuSans-108\"/>\n      <use x=\"313.427734\" xlink:href=\"#DejaVuSans-101\"/>\n      <use x=\"374.951172\" xlink:href=\"#DejaVuSans-32\"/>\n      <use x=\"406.738281\" xlink:href=\"#DejaVuSans-35\"/>\n     </g>\n    </g>\n   </g>\n   <g id=\"matplotlib.axis_2\">\n    <g id=\"ytick_1\">\n     <g id=\"line2d_7\">\n      <defs>\n       <path d=\"M 0 0 \nL -3.5 0 \n\" id=\"m163b744988\" style=\"stroke:#000000;stroke-width:0.8;\"/>\n      </defs>\n      <g>\n       <use style=\"stroke:#000000;stroke-width:0.8;\" x=\"50.14375\" xlink:href=\"#m163b744988\" y=\"294.118125\"/>\n      </g>\n     </g>\n     <g id=\"text_8\">\n      <!-- 0.04 -->\n      <defs>\n       <path d=\"M 10.6875 12.40625 \nL 21 12.40625 \nL 21 0 \nL 10.6875 0 \nz\n\" id=\"DejaVuSans-46\"/>\n      </defs>\n      <g transform=\"translate(20.878125 297.917344)scale(0.1 -0.1)\">\n       <use xlink:href=\"#DejaVuSans-48\"/>\n       <use x=\"63.623047\" xlink:href=\"#DejaVuSans-46\"/>\n       <use x=\"95.410156\" xlink:href=\"#DejaVuSans-48\"/>\n       <use x=\"159.033203\" xlink:href=\"#DejaVuSans-52\"/>\n      </g>\n     </g>\n    </g>\n    <g id=\"ytick_2\">\n     <g id=\"line2d_8\">\n      <g>\n       <use style=\"stroke:#000000;stroke-width:0.8;\" x=\"50.14375\" xlink:href=\"#m163b744988\" y=\"239.758125\"/>\n      </g>\n     </g>\n     <g id=\"text_9\">\n      <!-- 0.05 -->\n      <defs>\n       <path d=\"M 10.796875 72.90625 \nL 49.515625 72.90625 \nL 49.515625 64.59375 \nL 19.828125 64.59375 \nL 19.828125 46.734375 \nQ 21.96875 47.46875 24.109375 47.828125 \nQ 26.265625 48.1875 28.421875 48.1875 \nQ 40.625 48.1875 47.75 41.5 \nQ 54.890625 34.8125 54.890625 23.390625 \nQ 54.890625 11.625 47.5625 5.09375 \nQ 40.234375 -1.421875 26.90625 -1.421875 \nQ 22.3125 -1.421875 17.546875 -0.640625 \nQ 12.796875 0.140625 7.71875 1.703125 \nL 7.71875 11.625 \nQ 12.109375 9.234375 16.796875 8.0625 \nQ 21.484375 6.890625 26.703125 6.890625 \nQ 35.15625 6.890625 40.078125 11.328125 \nQ 45.015625 15.765625 45.015625 23.390625 \nQ 45.015625 31 40.078125 35.4375 \nQ 35.15625 39.890625 26.703125 39.890625 \nQ 22.75 39.890625 18.8125 39.015625 \nQ 14.890625 38.140625 10.796875 36.28125 \nz\n\" id=\"DejaVuSans-53\"/>\n      </defs>\n      <g transform=\"translate(20.878125 243.557344)scale(0.1 -0.1)\">\n       <use xlink:href=\"#DejaVuSans-48\"/>\n       <use x=\"63.623047\" xlink:href=\"#DejaVuSans-46\"/>\n       <use x=\"95.410156\" xlink:href=\"#DejaVuSans-48\"/>\n       <use x=\"159.033203\" xlink:href=\"#DejaVuSans-53\"/>\n      </g>\n     </g>\n    </g>\n    <g id=\"ytick_3\">\n     <g id=\"line2d_9\">\n      <g>\n       <use style=\"stroke:#000000;stroke-width:0.8;\" x=\"50.14375\" xlink:href=\"#m163b744988\" y=\"185.398125\"/>\n      </g>\n     </g>\n     <g id=\"text_10\">\n      <!-- 0.06 -->\n      <g transform=\"translate(20.878125 189.197344)scale(0.1 -0.1)\">\n       <use xlink:href=\"#DejaVuSans-48\"/>\n       <use x=\"63.623047\" xlink:href=\"#DejaVuSans-46\"/>\n       <use x=\"95.410156\" xlink:href=\"#DejaVuSans-48\"/>\n       <use x=\"159.033203\" xlink:href=\"#DejaVuSans-54\"/>\n      </g>\n     </g>\n    </g>\n    <g id=\"ytick_4\">\n     <g id=\"line2d_10\">\n      <g>\n       <use style=\"stroke:#000000;stroke-width:0.8;\" x=\"50.14375\" xlink:href=\"#m163b744988\" y=\"131.038125\"/>\n      </g>\n     </g>\n     <g id=\"text_11\">\n      <!-- 0.07 -->\n      <defs>\n       <path d=\"M 8.203125 72.90625 \nL 55.078125 72.90625 \nL 55.078125 68.703125 \nL 28.609375 0 \nL 18.3125 0 \nL 43.21875 64.59375 \nL 8.203125 64.59375 \nz\n\" id=\"DejaVuSans-55\"/>\n      </defs>\n      <g transform=\"translate(20.878125 134.837344)scale(0.1 -0.1)\">\n       <use xlink:href=\"#DejaVuSans-48\"/>\n       <use x=\"63.623047\" xlink:href=\"#DejaVuSans-46\"/>\n       <use x=\"95.410156\" xlink:href=\"#DejaVuSans-48\"/>\n       <use x=\"159.033203\" xlink:href=\"#DejaVuSans-55\"/>\n      </g>\n     </g>\n    </g>\n    <g id=\"ytick_5\">\n     <g id=\"line2d_11\">\n      <g>\n       <use style=\"stroke:#000000;stroke-width:0.8;\" x=\"50.14375\" xlink:href=\"#m163b744988\" y=\"76.678125\"/>\n      </g>\n     </g>\n     <g id=\"text_12\">\n      <!-- 0.08 -->\n      <g transform=\"translate(20.878125 80.477344)scale(0.1 -0.1)\">\n       <use xlink:href=\"#DejaVuSans-48\"/>\n       <use x=\"63.623047\" xlink:href=\"#DejaVuSans-46\"/>\n       <use x=\"95.410156\" xlink:href=\"#DejaVuSans-48\"/>\n       <use x=\"159.033203\" xlink:href=\"#DejaVuSans-56\"/>\n      </g>\n     </g>\n    </g>\n    <g id=\"ytick_6\">\n     <g id=\"line2d_12\">\n      <g>\n       <use style=\"stroke:#000000;stroke-width:0.8;\" x=\"50.14375\" xlink:href=\"#m163b744988\" y=\"22.318125\"/>\n      </g>\n     </g>\n     <g id=\"text_13\">\n      <!-- 0.09 -->\n      <defs>\n       <path d=\"M 10.984375 1.515625 \nL 10.984375 10.5 \nQ 14.703125 8.734375 18.5 7.8125 \nQ 22.3125 6.890625 25.984375 6.890625 \nQ 35.75 6.890625 40.890625 13.453125 \nQ 46.046875 20.015625 46.78125 33.40625 \nQ 43.953125 29.203125 39.59375 26.953125 \nQ 35.25 24.703125 29.984375 24.703125 \nQ 19.046875 24.703125 12.671875 31.3125 \nQ 6.296875 37.9375 6.296875 49.421875 \nQ 6.296875 60.640625 12.9375 67.421875 \nQ 19.578125 74.21875 30.609375 74.21875 \nQ 43.265625 74.21875 49.921875 64.515625 \nQ 56.59375 54.828125 56.59375 36.375 \nQ 56.59375 19.140625 48.40625 8.859375 \nQ 40.234375 -1.421875 26.421875 -1.421875 \nQ 22.703125 -1.421875 18.890625 -0.6875 \nQ 15.09375 0.046875 10.984375 1.515625 \nz\nM 30.609375 32.421875 \nQ 37.25 32.421875 41.125 36.953125 \nQ 45.015625 41.5 45.015625 49.421875 \nQ 45.015625 57.28125 41.125 61.84375 \nQ 37.25 66.40625 30.609375 66.40625 \nQ 23.96875 66.40625 20.09375 61.84375 \nQ 16.21875 57.28125 16.21875 49.421875 \nQ 16.21875 41.5 20.09375 36.953125 \nQ 23.96875 32.421875 30.609375 32.421875 \nz\n\" id=\"DejaVuSans-57\"/>\n      </defs>\n      <g transform=\"translate(20.878125 26.117344)scale(0.1 -0.1)\">\n       <use xlink:href=\"#DejaVuSans-48\"/>\n       <use x=\"63.623047\" xlink:href=\"#DejaVuSans-46\"/>\n       <use x=\"95.410156\" xlink:href=\"#DejaVuSans-48\"/>\n       <use x=\"159.033203\" xlink:href=\"#DejaVuSans-57\"/>\n      </g>\n     </g>\n    </g>\n    <g id=\"text_14\">\n     <!-- Variance of Sampling Mean -->\n     <defs>\n      <path d=\"M 28.609375 0 \nL 0.78125 72.90625 \nL 11.078125 72.90625 \nL 34.1875 11.53125 \nL 57.328125 72.90625 \nL 67.578125 72.90625 \nL 39.796875 0 \nz\n\" id=\"DejaVuSans-86\"/>\n      <path d=\"M 41.109375 46.296875 \nQ 39.59375 47.171875 37.8125 47.578125 \nQ 36.03125 48 33.890625 48 \nQ 26.265625 48 22.1875 43.046875 \nQ 18.109375 38.09375 18.109375 28.8125 \nL 18.109375 0 \nL 9.078125 0 \nL 9.078125 54.6875 \nL 18.109375 54.6875 \nL 18.109375 46.1875 \nQ 20.953125 51.171875 25.484375 53.578125 \nQ 30.03125 56 36.53125 56 \nQ 37.453125 56 38.578125 55.875 \nQ 39.703125 55.765625 41.0625 55.515625 \nz\n\" id=\"DejaVuSans-114\"/>\n      <path d=\"M 9.421875 54.6875 \nL 18.40625 54.6875 \nL 18.40625 0 \nL 9.421875 0 \nz\nM 9.421875 75.984375 \nL 18.40625 75.984375 \nL 18.40625 64.59375 \nL 9.421875 64.59375 \nz\n\" id=\"DejaVuSans-105\"/>\n      <path d=\"M 54.890625 33.015625 \nL 54.890625 0 \nL 45.90625 0 \nL 45.90625 32.71875 \nQ 45.90625 40.484375 42.875 44.328125 \nQ 39.84375 48.1875 33.796875 48.1875 \nQ 26.515625 48.1875 22.3125 43.546875 \nQ 18.109375 38.921875 18.109375 30.90625 \nL 18.109375 0 \nL 9.078125 0 \nL 9.078125 54.6875 \nL 18.109375 54.6875 \nL 18.109375 46.1875 \nQ 21.34375 51.125 25.703125 53.5625 \nQ 30.078125 56 35.796875 56 \nQ 45.21875 56 50.046875 50.171875 \nQ 54.890625 44.34375 54.890625 33.015625 \nz\n\" id=\"DejaVuSans-110\"/>\n      <path d=\"M 48.78125 52.59375 \nL 48.78125 44.1875 \nQ 44.96875 46.296875 41.140625 47.34375 \nQ 37.3125 48.390625 33.40625 48.390625 \nQ 24.65625 48.390625 19.8125 42.84375 \nQ 14.984375 37.3125 14.984375 27.296875 \nQ 14.984375 17.28125 19.8125 11.734375 \nQ 24.65625 6.203125 33.40625 6.203125 \nQ 37.3125 6.203125 41.140625 7.25 \nQ 44.96875 8.296875 48.78125 10.40625 \nL 48.78125 2.09375 \nQ 45.015625 0.34375 40.984375 -0.53125 \nQ 36.96875 -1.421875 32.421875 -1.421875 \nQ 20.0625 -1.421875 12.78125 6.34375 \nQ 5.515625 14.109375 5.515625 27.296875 \nQ 5.515625 40.671875 12.859375 48.328125 \nQ 20.21875 56 33.015625 56 \nQ 37.15625 56 41.109375 55.140625 \nQ 45.0625 54.296875 48.78125 52.59375 \nz\n\" id=\"DejaVuSans-99\"/>\n      <path d=\"M 30.609375 48.390625 \nQ 23.390625 48.390625 19.1875 42.75 \nQ 14.984375 37.109375 14.984375 27.296875 \nQ 14.984375 17.484375 19.15625 11.84375 \nQ 23.34375 6.203125 30.609375 6.203125 \nQ 37.796875 6.203125 41.984375 11.859375 \nQ 46.1875 17.53125 46.1875 27.296875 \nQ 46.1875 37.015625 41.984375 42.703125 \nQ 37.796875 48.390625 30.609375 48.390625 \nz\nM 30.609375 56 \nQ 42.328125 56 49.015625 48.375 \nQ 55.71875 40.765625 55.71875 27.296875 \nQ 55.71875 13.875 49.015625 6.21875 \nQ 42.328125 -1.421875 30.609375 -1.421875 \nQ 18.84375 -1.421875 12.171875 6.21875 \nQ 5.515625 13.875 5.515625 27.296875 \nQ 5.515625 40.765625 12.171875 48.375 \nQ 18.84375 56 30.609375 56 \nz\n\" id=\"DejaVuSans-111\"/>\n      <path d=\"M 37.109375 75.984375 \nL 37.109375 68.5 \nL 28.515625 68.5 \nQ 23.6875 68.5 21.796875 66.546875 \nQ 19.921875 64.59375 19.921875 59.515625 \nL 19.921875 54.6875 \nL 34.71875 54.6875 \nL 34.71875 47.703125 \nL 19.921875 47.703125 \nL 19.921875 0 \nL 10.890625 0 \nL 10.890625 47.703125 \nL 2.296875 47.703125 \nL 2.296875 54.6875 \nL 10.890625 54.6875 \nL 10.890625 58.5 \nQ 10.890625 67.625 15.140625 71.796875 \nQ 19.390625 75.984375 28.609375 75.984375 \nz\n\" id=\"DejaVuSans-102\"/>\n      <path d=\"M 45.40625 27.984375 \nQ 45.40625 37.75 41.375 43.109375 \nQ 37.359375 48.484375 30.078125 48.484375 \nQ 22.859375 48.484375 18.828125 43.109375 \nQ 14.796875 37.75 14.796875 27.984375 \nQ 14.796875 18.265625 18.828125 12.890625 \nQ 22.859375 7.515625 30.078125 7.515625 \nQ 37.359375 7.515625 41.375 12.890625 \nQ 45.40625 18.265625 45.40625 27.984375 \nz\nM 54.390625 6.78125 \nQ 54.390625 -7.171875 48.1875 -13.984375 \nQ 42 -20.796875 29.203125 -20.796875 \nQ 24.46875 -20.796875 20.265625 -20.09375 \nQ 16.0625 -19.390625 12.109375 -17.921875 \nL 12.109375 -9.1875 \nQ 16.0625 -11.328125 19.921875 -12.34375 \nQ 23.78125 -13.375 27.78125 -13.375 \nQ 36.625 -13.375 41.015625 -8.765625 \nQ 45.40625 -4.15625 45.40625 5.171875 \nL 45.40625 9.625 \nQ 42.625 4.78125 38.28125 2.390625 \nQ 33.9375 0 27.875 0 \nQ 17.828125 0 11.671875 7.65625 \nQ 5.515625 15.328125 5.515625 27.984375 \nQ 5.515625 40.671875 11.671875 48.328125 \nQ 17.828125 56 27.875 56 \nQ 33.9375 56 38.28125 53.609375 \nQ 42.625 51.21875 45.40625 46.390625 \nL 45.40625 54.6875 \nL 54.390625 54.6875 \nz\n\" id=\"DejaVuSans-103\"/>\n      <path d=\"M 9.8125 72.90625 \nL 24.515625 72.90625 \nL 43.109375 23.296875 \nL 61.8125 72.90625 \nL 76.515625 72.90625 \nL 76.515625 0 \nL 66.890625 0 \nL 66.890625 64.015625 \nL 48.09375 14.015625 \nL 38.1875 14.015625 \nL 19.390625 64.015625 \nL 19.390625 0 \nL 9.8125 0 \nz\n\" id=\"DejaVuSans-77\"/>\n     </defs>\n     <g transform=\"translate(14.798438 226.432187)rotate(-90)scale(0.1 -0.1)\">\n      <use xlink:href=\"#DejaVuSans-86\"/>\n      <use x=\"60.658203\" xlink:href=\"#DejaVuSans-97\"/>\n      <use x=\"121.9375\" xlink:href=\"#DejaVuSans-114\"/>\n      <use x=\"163.050781\" xlink:href=\"#DejaVuSans-105\"/>\n      <use x=\"190.833984\" xlink:href=\"#DejaVuSans-97\"/>\n      <use x=\"252.113281\" xlink:href=\"#DejaVuSans-110\"/>\n      <use x=\"315.492188\" xlink:href=\"#DejaVuSans-99\"/>\n      <use x=\"370.472656\" xlink:href=\"#DejaVuSans-101\"/>\n      <use x=\"431.996094\" xlink:href=\"#DejaVuSans-32\"/>\n      <use x=\"463.783203\" xlink:href=\"#DejaVuSans-111\"/>\n      <use x=\"524.964844\" xlink:href=\"#DejaVuSans-102\"/>\n      <use x=\"560.169922\" xlink:href=\"#DejaVuSans-32\"/>\n      <use x=\"591.957031\" xlink:href=\"#DejaVuSans-83\"/>\n      <use x=\"655.433594\" xlink:href=\"#DejaVuSans-97\"/>\n      <use x=\"716.712891\" xlink:href=\"#DejaVuSans-109\"/>\n      <use x=\"814.125\" xlink:href=\"#DejaVuSans-112\"/>\n      <use x=\"877.601562\" xlink:href=\"#DejaVuSans-108\"/>\n      <use x=\"905.384766\" xlink:href=\"#DejaVuSans-105\"/>\n      <use x=\"933.167969\" xlink:href=\"#DejaVuSans-110\"/>\n      <use x=\"996.546875\" xlink:href=\"#DejaVuSans-103\"/>\n      <use x=\"1060.023438\" xlink:href=\"#DejaVuSans-32\"/>\n      <use x=\"1091.810547\" xlink:href=\"#DejaVuSans-77\"/>\n      <use x=\"1178.089844\" xlink:href=\"#DejaVuSans-101\"/>\n      <use x=\"1239.613281\" xlink:href=\"#DejaVuSans-97\"/>\n      <use x=\"1300.892578\" xlink:href=\"#DejaVuSans-110\"/>\n     </g>\n    </g>\n   </g>\n   <g id=\"line2d_13\">\n    <path clip-path=\"url(#p36e8bb03f2)\" d=\"M 50.14375 55.907129 \nL 455.961932 55.907129 \n\" style=\"fill:none;stroke:#1f77b4;stroke-linecap:square;stroke-width:1.5;\"/>\n   </g>\n   <g id=\"line2d_14\">\n    <path clip-path=\"url(#p36e8bb03f2)\" d=\"M 50.14375 166.252886 \nL 455.961932 166.252886 \n\" style=\"fill:none;stroke:#ff0000;stroke-linecap:square;stroke-width:1.5;\"/>\n   </g>\n   <g id=\"patch_3\">\n    <path d=\"M 50.14375 294.118125 \nL 50.14375 22.318125 \n\" style=\"fill:none;stroke:#000000;stroke-linecap:square;stroke-linejoin:miter;stroke-width:0.8;\"/>\n   </g>\n   <g id=\"patch_4\">\n    <path d=\"M 455.961932 294.118125 \nL 455.961932 22.318125 \n\" style=\"fill:none;stroke:#000000;stroke-linecap:square;stroke-linejoin:miter;stroke-width:0.8;\"/>\n   </g>\n   <g id=\"patch_5\">\n    <path d=\"M 50.14375 294.118125 \nL 455.961932 294.118125 \n\" style=\"fill:none;stroke:#000000;stroke-linecap:square;stroke-linejoin:miter;stroke-width:0.8;\"/>\n   </g>\n   <g id=\"patch_6\">\n    <path d=\"M 50.14375 22.318125 \nL 455.961932 22.318125 \n\" style=\"fill:none;stroke:#000000;stroke-linecap:square;stroke-linejoin:miter;stroke-width:0.8;\"/>\n   </g>\n   <g id=\"text_15\">\n    <!-- SRS (without replacement) -->\n    <defs>\n     <path d=\"M 44.390625 34.1875 \nQ 47.5625 33.109375 50.5625 29.59375 \nQ 53.5625 26.078125 56.59375 19.921875 \nL 66.609375 0 \nL 56 0 \nL 46.6875 18.703125 \nQ 43.0625 26.03125 39.671875 28.421875 \nQ 36.28125 30.8125 30.421875 30.8125 \nL 19.671875 30.8125 \nL 19.671875 0 \nL 9.8125 0 \nL 9.8125 72.90625 \nL 32.078125 72.90625 \nQ 44.578125 72.90625 50.734375 67.671875 \nQ 56.890625 62.453125 56.890625 51.90625 \nQ 56.890625 45.015625 53.6875 40.46875 \nQ 50.484375 35.9375 44.390625 34.1875 \nz\nM 19.671875 64.796875 \nL 19.671875 38.921875 \nL 32.078125 38.921875 \nQ 39.203125 38.921875 42.84375 42.21875 \nQ 46.484375 45.515625 46.484375 51.90625 \nQ 46.484375 58.296875 42.84375 61.546875 \nQ 39.203125 64.796875 32.078125 64.796875 \nz\n\" id=\"DejaVuSans-82\"/>\n     <path d=\"M 31 75.875 \nQ 24.46875 64.65625 21.28125 53.65625 \nQ 18.109375 42.671875 18.109375 31.390625 \nQ 18.109375 20.125 21.3125 9.0625 \nQ 24.515625 -2 31 -13.1875 \nL 23.1875 -13.1875 \nQ 15.875 -1.703125 12.234375 9.375 \nQ 8.59375 20.453125 8.59375 31.390625 \nQ 8.59375 42.28125 12.203125 53.3125 \nQ 15.828125 64.359375 23.1875 75.875 \nz\n\" id=\"DejaVuSans-40\"/>\n     <path d=\"M 4.203125 54.6875 \nL 13.1875 54.6875 \nL 24.421875 12.015625 \nL 35.59375 54.6875 \nL 46.1875 54.6875 \nL 57.421875 12.015625 \nL 68.609375 54.6875 \nL 77.59375 54.6875 \nL 63.28125 0 \nL 52.6875 0 \nL 40.921875 44.828125 \nL 29.109375 0 \nL 18.5 0 \nz\n\" id=\"DejaVuSans-119\"/>\n     <path d=\"M 18.3125 70.21875 \nL 18.3125 54.6875 \nL 36.8125 54.6875 \nL 36.8125 47.703125 \nL 18.3125 47.703125 \nL 18.3125 18.015625 \nQ 18.3125 11.328125 20.140625 9.421875 \nQ 21.96875 7.515625 27.59375 7.515625 \nL 36.8125 7.515625 \nL 36.8125 0 \nL 27.59375 0 \nQ 17.1875 0 13.234375 3.875 \nQ 9.28125 7.765625 9.28125 18.015625 \nL 9.28125 47.703125 \nL 2.6875 47.703125 \nL 2.6875 54.6875 \nL 9.28125 54.6875 \nL 9.28125 70.21875 \nz\n\" id=\"DejaVuSans-116\"/>\n     <path d=\"M 54.890625 33.015625 \nL 54.890625 0 \nL 45.90625 0 \nL 45.90625 32.71875 \nQ 45.90625 40.484375 42.875 44.328125 \nQ 39.84375 48.1875 33.796875 48.1875 \nQ 26.515625 48.1875 22.3125 43.546875 \nQ 18.109375 38.921875 18.109375 30.90625 \nL 18.109375 0 \nL 9.078125 0 \nL 9.078125 75.984375 \nL 18.109375 75.984375 \nL 18.109375 46.1875 \nQ 21.34375 51.125 25.703125 53.5625 \nQ 30.078125 56 35.796875 56 \nQ 45.21875 56 50.046875 50.171875 \nQ 54.890625 44.34375 54.890625 33.015625 \nz\n\" id=\"DejaVuSans-104\"/>\n     <path d=\"M 8.5 21.578125 \nL 8.5 54.6875 \nL 17.484375 54.6875 \nL 17.484375 21.921875 \nQ 17.484375 14.15625 20.5 10.265625 \nQ 23.53125 6.390625 29.59375 6.390625 \nQ 36.859375 6.390625 41.078125 11.03125 \nQ 45.3125 15.671875 45.3125 23.6875 \nL 45.3125 54.6875 \nL 54.296875 54.6875 \nL 54.296875 0 \nL 45.3125 0 \nL 45.3125 8.40625 \nQ 42.046875 3.421875 37.71875 1 \nQ 33.40625 -1.421875 27.6875 -1.421875 \nQ 18.265625 -1.421875 13.375 4.4375 \nQ 8.5 10.296875 8.5 21.578125 \nz\nM 31.109375 56 \nz\n\" id=\"DejaVuSans-117\"/>\n     <path d=\"M 8.015625 75.875 \nL 15.828125 75.875 \nQ 23.140625 64.359375 26.78125 53.3125 \nQ 30.421875 42.28125 30.421875 31.390625 \nQ 30.421875 20.453125 26.78125 9.375 \nQ 23.140625 -1.703125 15.828125 -13.1875 \nL 8.015625 -13.1875 \nQ 14.5 -2 17.703125 9.0625 \nQ 20.90625 20.125 20.90625 31.390625 \nQ 20.90625 42.671875 17.703125 53.65625 \nQ 14.5 64.65625 8.015625 75.875 \nz\n\" id=\"DejaVuSans-41\"/>\n    </defs>\n    <g transform=\"translate(172.357528 16.318125)scale(0.12 -0.12)\">\n     <use xlink:href=\"#DejaVuSans-83\"/>\n     <use x=\"63.476562\" xlink:href=\"#DejaVuSans-82\"/>\n     <use x=\"132.958984\" xlink:href=\"#DejaVuSans-83\"/>\n     <use x=\"196.435547\" xlink:href=\"#DejaVuSans-32\"/>\n     <use x=\"228.222656\" xlink:href=\"#DejaVuSans-40\"/>\n     <use x=\"267.236328\" xlink:href=\"#DejaVuSans-119\"/>\n     <use x=\"349.023438\" xlink:href=\"#DejaVuSans-105\"/>\n     <use x=\"376.806641\" xlink:href=\"#DejaVuSans-116\"/>\n     <use x=\"416.015625\" xlink:href=\"#DejaVuSans-104\"/>\n     <use x=\"479.394531\" xlink:href=\"#DejaVuSans-111\"/>\n     <use x=\"540.576172\" xlink:href=\"#DejaVuSans-117\"/>\n     <use x=\"603.955078\" xlink:href=\"#DejaVuSans-116\"/>\n     <use x=\"643.164062\" xlink:href=\"#DejaVuSans-32\"/>\n     <use x=\"674.951172\" xlink:href=\"#DejaVuSans-114\"/>\n     <use x=\"713.814453\" xlink:href=\"#DejaVuSans-101\"/>\n     <use x=\"775.337891\" xlink:href=\"#DejaVuSans-112\"/>\n     <use x=\"838.814453\" xlink:href=\"#DejaVuSans-108\"/>\n     <use x=\"866.597656\" xlink:href=\"#DejaVuSans-97\"/>\n     <use x=\"927.876953\" xlink:href=\"#DejaVuSans-99\"/>\n     <use x=\"982.857422\" xlink:href=\"#DejaVuSans-101\"/>\n     <use x=\"1044.380859\" xlink:href=\"#DejaVuSans-109\"/>\n     <use x=\"1141.792969\" xlink:href=\"#DejaVuSans-101\"/>\n     <use x=\"1203.316406\" xlink:href=\"#DejaVuSans-110\"/>\n     <use x=\"1266.695312\" xlink:href=\"#DejaVuSans-116\"/>\n     <use x=\"1305.904297\" xlink:href=\"#DejaVuSans-41\"/>\n    </g>\n   </g>\n  </g>\n  <g id=\"axes_2\">\n   <g id=\"patch_7\">\n    <path d=\"M 537.125568 294.118125 \nL 942.94375 294.118125 \nL 942.94375 22.318125 \nL 537.125568 22.318125 \nz\n\" style=\"fill:#ffffff;\"/>\n   </g>\n   <g id=\"PathCollection_2\">\n    <g clip-path=\"url(#p83bb1a984e)\">\n     <use style=\"fill:#1f77b4;stroke:#1f77b4;\" x=\"555.571849\" xlink:href=\"#m62a780d990\" y=\"46.989185\"/>\n     <use style=\"fill:#1f77b4;stroke:#1f77b4;\" x=\"559.298371\" xlink:href=\"#m62a780d990\" y=\"45.876706\"/>\n     <use style=\"fill:#1f77b4;stroke:#1f77b4;\" x=\"563.024892\" xlink:href=\"#m62a780d990\" y=\"50.152744\"/>\n     <use style=\"fill:#1f77b4;stroke:#1f77b4;\" x=\"566.751413\" xlink:href=\"#m62a780d990\" y=\"49.824333\"/>\n     <use style=\"fill:#1f77b4;stroke:#1f77b4;\" x=\"570.477935\" xlink:href=\"#m62a780d990\" y=\"50.510517\"/>\n     <use style=\"fill:#1f77b4;stroke:#1f77b4;\" x=\"574.204456\" xlink:href=\"#m62a780d990\" y=\"60.511007\"/>\n     <use style=\"fill:#1f77b4;stroke:#1f77b4;\" x=\"577.930978\" xlink:href=\"#m62a780d990\" y=\"56.492218\"/>\n     <use style=\"fill:#1f77b4;stroke:#1f77b4;\" x=\"581.657499\" xlink:href=\"#m62a780d990\" y=\"61.144244\"/>\n     <use style=\"fill:#1f77b4;stroke:#1f77b4;\" x=\"585.38402\" xlink:href=\"#m62a780d990\" y=\"47.158103\"/>\n     <use style=\"fill:#1f77b4;stroke:#1f77b4;\" x=\"589.110542\" xlink:href=\"#m62a780d990\" y=\"48.595304\"/>\n     <use style=\"fill:#1f77b4;stroke:#1f77b4;\" x=\"592.837063\" xlink:href=\"#m62a780d990\" y=\"49.485168\"/>\n     <use style=\"fill:#1f77b4;stroke:#1f77b4;\" x=\"596.563585\" xlink:href=\"#m62a780d990\" y=\"52.461624\"/>\n     <use style=\"fill:#1f77b4;stroke:#1f77b4;\" x=\"600.290106\" xlink:href=\"#m62a780d990\" y=\"63.861976\"/>\n     <use style=\"fill:#1f77b4;stroke:#1f77b4;\" x=\"604.016628\" xlink:href=\"#m62a780d990\" y=\"54.12946\"/>\n     <use style=\"fill:#1f77b4;stroke:#1f77b4;\" x=\"607.743149\" xlink:href=\"#m62a780d990\" y=\"45.779438\"/>\n     <use style=\"fill:#1f77b4;stroke:#1f77b4;\" x=\"611.46967\" xlink:href=\"#m62a780d990\" y=\"56.660299\"/>\n     <use style=\"fill:#1f77b4;stroke:#1f77b4;\" x=\"615.196192\" xlink:href=\"#m62a780d990\" y=\"54.84942\"/>\n     <use style=\"fill:#1f77b4;stroke:#1f77b4;\" x=\"618.922713\" xlink:href=\"#m62a780d990\" y=\"57.546509\"/>\n     <use style=\"fill:#1f77b4;stroke:#1f77b4;\" x=\"622.649235\" xlink:href=\"#m62a780d990\" y=\"51.153232\"/>\n     <use style=\"fill:#1f77b4;stroke:#1f77b4;\" x=\"626.375756\" xlink:href=\"#m62a780d990\" y=\"57.155576\"/>\n     <use style=\"fill:#1f77b4;stroke:#1f77b4;\" x=\"630.102277\" xlink:href=\"#m62a780d990\" y=\"58.168816\"/>\n     <use style=\"fill:#1f77b4;stroke:#1f77b4;\" x=\"633.828799\" xlink:href=\"#m62a780d990\" y=\"56.951542\"/>\n     <use style=\"fill:#1f77b4;stroke:#1f77b4;\" x=\"637.55532\" xlink:href=\"#m62a780d990\" y=\"58.042043\"/>\n     <use style=\"fill:#1f77b4;stroke:#1f77b4;\" x=\"641.281842\" xlink:href=\"#m62a780d990\" y=\"45.681034\"/>\n     <use style=\"fill:#1f77b4;stroke:#1f77b4;\" x=\"645.008363\" xlink:href=\"#m62a780d990\" y=\"48.722963\"/>\n     <use style=\"fill:#1f77b4;stroke:#1f77b4;\" x=\"648.734884\" xlink:href=\"#m62a780d990\" y=\"59.782635\"/>\n     <use style=\"fill:#1f77b4;stroke:#1f77b4;\" x=\"652.461406\" xlink:href=\"#m62a780d990\" y=\"56.047553\"/>\n     <use style=\"fill:#1f77b4;stroke:#1f77b4;\" x=\"656.187927\" xlink:href=\"#m62a780d990\" y=\"51.065457\"/>\n     <use style=\"fill:#1f77b4;stroke:#1f77b4;\" x=\"659.914449\" xlink:href=\"#m62a780d990\" y=\"59.295806\"/>\n     <use style=\"fill:#1f77b4;stroke:#1f77b4;\" x=\"663.64097\" xlink:href=\"#m62a780d990\" y=\"51.648175\"/>\n     <use style=\"fill:#1f77b4;stroke:#1f77b4;\" x=\"667.367492\" xlink:href=\"#m62a780d990\" y=\"53.654123\"/>\n     <use style=\"fill:#1f77b4;stroke:#1f77b4;\" x=\"671.094013\" xlink:href=\"#m62a780d990\" y=\"46.853915\"/>\n     <use style=\"fill:#1f77b4;stroke:#1f77b4;\" x=\"674.820534\" xlink:href=\"#m62a780d990\" y=\"55.725092\"/>\n     <use style=\"fill:#1f77b4;stroke:#1f77b4;\" x=\"678.547056\" xlink:href=\"#m62a780d990\" y=\"48.747929\"/>\n     <use style=\"fill:#1f77b4;stroke:#1f77b4;\" x=\"682.273577\" xlink:href=\"#m62a780d990\" y=\"68.617522\"/>\n     <use style=\"fill:#1f77b4;stroke:#1f77b4;\" x=\"686.000099\" xlink:href=\"#m62a780d990\" y=\"41.129405\"/>\n     <use style=\"fill:#1f77b4;stroke:#1f77b4;\" x=\"689.72662\" xlink:href=\"#m62a780d990\" y=\"62.066907\"/>\n     <use style=\"fill:#1f77b4;stroke:#1f77b4;\" x=\"693.453141\" xlink:href=\"#m62a780d990\" y=\"47.76982\"/>\n     <use style=\"fill:#1f77b4;stroke:#1f77b4;\" x=\"697.179663\" xlink:href=\"#m62a780d990\" y=\"62.175131\"/>\n     <use style=\"fill:#1f77b4;stroke:#1f77b4;\" x=\"700.906184\" xlink:href=\"#m62a780d990\" y=\"50.02262\"/>\n     <use style=\"fill:#1f77b4;stroke:#1f77b4;\" x=\"704.632706\" xlink:href=\"#m62a780d990\" y=\"55.166806\"/>\n     <use style=\"fill:#1f77b4;stroke:#1f77b4;\" x=\"708.359227\" xlink:href=\"#m62a780d990\" y=\"61.421203\"/>\n     <use style=\"fill:#1f77b4;stroke:#1f77b4;\" x=\"712.085748\" xlink:href=\"#m62a780d990\" y=\"55.658308\"/>\n     <use style=\"fill:#1f77b4;stroke:#1f77b4;\" x=\"715.81227\" xlink:href=\"#m62a780d990\" y=\"57.766535\"/>\n     <use style=\"fill:#1f77b4;stroke:#1f77b4;\" x=\"719.538791\" xlink:href=\"#m62a780d990\" y=\"57.625125\"/>\n     <use style=\"fill:#1f77b4;stroke:#1f77b4;\" x=\"723.265313\" xlink:href=\"#m62a780d990\" y=\"55.722347\"/>\n     <use style=\"fill:#1f77b4;stroke:#1f77b4;\" x=\"726.991834\" xlink:href=\"#m62a780d990\" y=\"56.344918\"/>\n     <use style=\"fill:#1f77b4;stroke:#1f77b4;\" x=\"730.718356\" xlink:href=\"#m62a780d990\" y=\"54.450469\"/>\n     <use style=\"fill:#1f77b4;stroke:#1f77b4;\" x=\"734.444877\" xlink:href=\"#m62a780d990\" y=\"56.433137\"/>\n     <use style=\"fill:#1f77b4;stroke:#1f77b4;\" x=\"738.171398\" xlink:href=\"#m62a780d990\" y=\"47.586801\"/>\n     <use style=\"fill:#1f77b4;stroke:#1f77b4;\" x=\"741.89792\" xlink:href=\"#m62a780d990\" y=\"54.522714\"/>\n     <use style=\"fill:#1f77b4;stroke:#1f77b4;\" x=\"745.624441\" xlink:href=\"#m62a780d990\" y=\"56.568638\"/>\n     <use style=\"fill:#1f77b4;stroke:#1f77b4;\" x=\"749.350963\" xlink:href=\"#m62a780d990\" y=\"45.57623\"/>\n     <use style=\"fill:#1f77b4;stroke:#1f77b4;\" x=\"753.077484\" xlink:href=\"#m62a780d990\" y=\"60.928287\"/>\n     <use style=\"fill:#1f77b4;stroke:#1f77b4;\" x=\"756.804005\" xlink:href=\"#m62a780d990\" y=\"65.579305\"/>\n     <use style=\"fill:#1f77b4;stroke:#1f77b4;\" x=\"760.530527\" xlink:href=\"#m62a780d990\" y=\"59.736833\"/>\n     <use style=\"fill:#1f77b4;stroke:#1f77b4;\" x=\"764.257048\" xlink:href=\"#m62a780d990\" y=\"50.201798\"/>\n     <use style=\"fill:#1f77b4;stroke:#1f77b4;\" x=\"767.98357\" xlink:href=\"#m62a780d990\" y=\"60.816564\"/>\n     <use style=\"fill:#1f77b4;stroke:#1f77b4;\" x=\"771.710091\" xlink:href=\"#m62a780d990\" y=\"62.732086\"/>\n     <use style=\"fill:#1f77b4;stroke:#1f77b4;\" x=\"775.436613\" xlink:href=\"#m62a780d990\" y=\"47.328986\"/>\n     <use style=\"fill:#1f77b4;stroke:#1f77b4;\" x=\"779.163134\" xlink:href=\"#m62a780d990\" y=\"56.731091\"/>\n     <use style=\"fill:#1f77b4;stroke:#1f77b4;\" x=\"782.889655\" xlink:href=\"#m62a780d990\" y=\"49.116805\"/>\n     <use style=\"fill:#1f77b4;stroke:#1f77b4;\" x=\"786.616177\" xlink:href=\"#m62a780d990\" y=\"60.146983\"/>\n     <use style=\"fill:#1f77b4;stroke:#1f77b4;\" x=\"790.342698\" xlink:href=\"#m62a780d990\" y=\"57.960136\"/>\n     <use style=\"fill:#1f77b4;stroke:#1f77b4;\" x=\"794.06922\" xlink:href=\"#m62a780d990\" y=\"54.292867\"/>\n     <use style=\"fill:#1f77b4;stroke:#1f77b4;\" x=\"797.795741\" xlink:href=\"#m62a780d990\" y=\"47.986481\"/>\n     <use style=\"fill:#1f77b4;stroke:#1f77b4;\" x=\"801.522262\" xlink:href=\"#m62a780d990\" y=\"48.936605\"/>\n     <use style=\"fill:#1f77b4;stroke:#1f77b4;\" x=\"805.248784\" xlink:href=\"#m62a780d990\" y=\"49.508977\"/>\n     <use style=\"fill:#1f77b4;stroke:#1f77b4;\" x=\"808.975305\" xlink:href=\"#m62a780d990\" y=\"51.83218\"/>\n     <use style=\"fill:#1f77b4;stroke:#1f77b4;\" x=\"812.701827\" xlink:href=\"#m62a780d990\" y=\"49.955333\"/>\n     <use style=\"fill:#1f77b4;stroke:#1f77b4;\" x=\"816.428348\" xlink:href=\"#m62a780d990\" y=\"52.857264\"/>\n     <use style=\"fill:#1f77b4;stroke:#1f77b4;\" x=\"820.154869\" xlink:href=\"#m62a780d990\" y=\"57.009189\"/>\n     <use style=\"fill:#1f77b4;stroke:#1f77b4;\" x=\"823.881391\" xlink:href=\"#m62a780d990\" y=\"68.64997\"/>\n     <use style=\"fill:#1f77b4;stroke:#1f77b4;\" x=\"827.607912\" xlink:href=\"#m62a780d990\" y=\"53.827661\"/>\n     <use style=\"fill:#1f77b4;stroke:#1f77b4;\" x=\"831.334434\" xlink:href=\"#m62a780d990\" y=\"57.158454\"/>\n     <use style=\"fill:#1f77b4;stroke:#1f77b4;\" x=\"835.060955\" xlink:href=\"#m62a780d990\" y=\"53.181042\"/>\n     <use style=\"fill:#1f77b4;stroke:#1f77b4;\" x=\"838.787477\" xlink:href=\"#m62a780d990\" y=\"54.023974\"/>\n     <use style=\"fill:#1f77b4;stroke:#1f77b4;\" x=\"842.513998\" xlink:href=\"#m62a780d990\" y=\"48.557967\"/>\n     <use style=\"fill:#1f77b4;stroke:#1f77b4;\" x=\"846.240519\" xlink:href=\"#m62a780d990\" y=\"56.177919\"/>\n     <use style=\"fill:#1f77b4;stroke:#1f77b4;\" x=\"849.967041\" xlink:href=\"#m62a780d990\" y=\"60.447781\"/>\n     <use style=\"fill:#1f77b4;stroke:#1f77b4;\" x=\"853.693562\" xlink:href=\"#m62a780d990\" y=\"46.884651\"/>\n     <use style=\"fill:#1f77b4;stroke:#1f77b4;\" x=\"857.420084\" xlink:href=\"#m62a780d990\" y=\"43.952053\"/>\n     <use style=\"fill:#1f77b4;stroke:#1f77b4;\" x=\"861.146605\" xlink:href=\"#m62a780d990\" y=\"51.420685\"/>\n     <use style=\"fill:#1f77b4;stroke:#1f77b4;\" x=\"864.873126\" xlink:href=\"#m62a780d990\" y=\"57.211274\"/>\n     <use style=\"fill:#1f77b4;stroke:#1f77b4;\" x=\"868.599648\" xlink:href=\"#m62a780d990\" y=\"52.193417\"/>\n     <use style=\"fill:#1f77b4;stroke:#1f77b4;\" x=\"872.326169\" xlink:href=\"#m62a780d990\" y=\"50.154514\"/>\n     <use style=\"fill:#1f77b4;stroke:#1f77b4;\" x=\"876.052691\" xlink:href=\"#m62a780d990\" y=\"53.422686\"/>\n     <use style=\"fill:#1f77b4;stroke:#1f77b4;\" x=\"879.779212\" xlink:href=\"#m62a780d990\" y=\"56.26003\"/>\n     <use style=\"fill:#1f77b4;stroke:#1f77b4;\" x=\"883.505733\" xlink:href=\"#m62a780d990\" y=\"54.247279\"/>\n     <use style=\"fill:#1f77b4;stroke:#1f77b4;\" x=\"887.232255\" xlink:href=\"#m62a780d990\" y=\"55.943166\"/>\n     <use style=\"fill:#1f77b4;stroke:#1f77b4;\" x=\"890.958776\" xlink:href=\"#m62a780d990\" y=\"55.963102\"/>\n     <use style=\"fill:#1f77b4;stroke:#1f77b4;\" x=\"894.685298\" xlink:href=\"#m62a780d990\" y=\"59.427585\"/>\n     <use style=\"fill:#1f77b4;stroke:#1f77b4;\" x=\"898.411819\" xlink:href=\"#m62a780d990\" y=\"51.535847\"/>\n     <use style=\"fill:#1f77b4;stroke:#1f77b4;\" x=\"902.138341\" xlink:href=\"#m62a780d990\" y=\"53.314475\"/>\n     <use style=\"fill:#1f77b4;stroke:#1f77b4;\" x=\"905.864862\" xlink:href=\"#m62a780d990\" y=\"55.417178\"/>\n     <use style=\"fill:#1f77b4;stroke:#1f77b4;\" x=\"909.591383\" xlink:href=\"#m62a780d990\" y=\"59.173683\"/>\n     <use style=\"fill:#1f77b4;stroke:#1f77b4;\" x=\"913.317905\" xlink:href=\"#m62a780d990\" y=\"45.608346\"/>\n     <use style=\"fill:#1f77b4;stroke:#1f77b4;\" x=\"917.044426\" xlink:href=\"#m62a780d990\" y=\"52.298452\"/>\n     <use style=\"fill:#1f77b4;stroke:#1f77b4;\" x=\"920.770948\" xlink:href=\"#m62a780d990\" y=\"54.96922\"/>\n     <use style=\"fill:#1f77b4;stroke:#1f77b4;\" x=\"924.497469\" xlink:href=\"#m62a780d990\" y=\"55.129726\"/>\n    </g>\n   </g>\n   <g id=\"matplotlib.axis_3\">\n    <g id=\"xtick_7\">\n     <g id=\"line2d_15\">\n      <g>\n       <use style=\"stroke:#000000;stroke-width:0.8;\" x=\"551.845328\" xlink:href=\"#mb98a28c68b\" y=\"294.118125\"/>\n      </g>\n     </g>\n     <g id=\"text_16\">\n      <!-- 0 -->\n      <g transform=\"translate(548.664078 308.716563)scale(0.1 -0.1)\">\n       <use xlink:href=\"#DejaVuSans-48\"/>\n      </g>\n     </g>\n    </g>\n    <g id=\"xtick_8\">\n     <g id=\"line2d_16\">\n      <g>\n       <use style=\"stroke:#000000;stroke-width:0.8;\" x=\"626.375756\" xlink:href=\"#mb98a28c68b\" y=\"294.118125\"/>\n      </g>\n     </g>\n     <g id=\"text_17\">\n      <!-- 20 -->\n      <g transform=\"translate(620.013256 308.716563)scale(0.1 -0.1)\">\n       <use xlink:href=\"#DejaVuSans-50\"/>\n       <use x=\"63.623047\" xlink:href=\"#DejaVuSans-48\"/>\n      </g>\n     </g>\n    </g>\n    <g id=\"xtick_9\">\n     <g id=\"line2d_17\">\n      <g>\n       <use style=\"stroke:#000000;stroke-width:0.8;\" x=\"700.906184\" xlink:href=\"#mb98a28c68b\" y=\"294.118125\"/>\n      </g>\n     </g>\n     <g id=\"text_18\">\n      <!-- 40 -->\n      <g transform=\"translate(694.543684 308.716563)scale(0.1 -0.1)\">\n       <use xlink:href=\"#DejaVuSans-52\"/>\n       <use x=\"63.623047\" xlink:href=\"#DejaVuSans-48\"/>\n      </g>\n     </g>\n    </g>\n    <g id=\"xtick_10\">\n     <g id=\"line2d_18\">\n      <g>\n       <use style=\"stroke:#000000;stroke-width:0.8;\" x=\"775.436613\" xlink:href=\"#mb98a28c68b\" y=\"294.118125\"/>\n      </g>\n     </g>\n     <g id=\"text_19\">\n      <!-- 60 -->\n      <g transform=\"translate(769.074113 308.716563)scale(0.1 -0.1)\">\n       <use xlink:href=\"#DejaVuSans-54\"/>\n       <use x=\"63.623047\" xlink:href=\"#DejaVuSans-48\"/>\n      </g>\n     </g>\n    </g>\n    <g id=\"xtick_11\">\n     <g id=\"line2d_19\">\n      <g>\n       <use style=\"stroke:#000000;stroke-width:0.8;\" x=\"849.967041\" xlink:href=\"#mb98a28c68b\" y=\"294.118125\"/>\n      </g>\n     </g>\n     <g id=\"text_20\">\n      <!-- 80 -->\n      <g transform=\"translate(843.604541 308.716563)scale(0.1 -0.1)\">\n       <use xlink:href=\"#DejaVuSans-56\"/>\n       <use x=\"63.623047\" xlink:href=\"#DejaVuSans-48\"/>\n      </g>\n     </g>\n    </g>\n    <g id=\"xtick_12\">\n     <g id=\"line2d_20\">\n      <g>\n       <use style=\"stroke:#000000;stroke-width:0.8;\" x=\"924.497469\" xlink:href=\"#mb98a28c68b\" y=\"294.118125\"/>\n      </g>\n     </g>\n     <g id=\"text_21\">\n      <!-- 100 -->\n      <g transform=\"translate(914.953719 308.716563)scale(0.1 -0.1)\">\n       <use xlink:href=\"#DejaVuSans-49\"/>\n       <use x=\"63.623047\" xlink:href=\"#DejaVuSans-48\"/>\n       <use x=\"127.246094\" xlink:href=\"#DejaVuSans-48\"/>\n      </g>\n     </g>\n    </g>\n    <g id=\"text_22\">\n     <!-- Sample # -->\n     <g transform=\"translate(715.507315 322.394687)scale(0.1 -0.1)\">\n      <use xlink:href=\"#DejaVuSans-83\"/>\n      <use x=\"63.476562\" xlink:href=\"#DejaVuSans-97\"/>\n      <use x=\"124.755859\" xlink:href=\"#DejaVuSans-109\"/>\n      <use x=\"222.167969\" xlink:href=\"#DejaVuSans-112\"/>\n      <use x=\"285.644531\" xlink:href=\"#DejaVuSans-108\"/>\n      <use x=\"313.427734\" xlink:href=\"#DejaVuSans-101\"/>\n      <use x=\"374.951172\" xlink:href=\"#DejaVuSans-32\"/>\n      <use x=\"406.738281\" xlink:href=\"#DejaVuSans-35\"/>\n     </g>\n    </g>\n   </g>\n   <g id=\"matplotlib.axis_4\">\n    <g id=\"ytick_7\">\n     <g id=\"line2d_21\">\n      <g>\n       <use style=\"stroke:#000000;stroke-width:0.8;\" x=\"537.125568\" xlink:href=\"#m163b744988\" y=\"294.118125\"/>\n      </g>\n     </g>\n     <g id=\"text_23\">\n      <!-- 0.04 -->\n      <g transform=\"translate(507.859943 297.917344)scale(0.1 -0.1)\">\n       <use xlink:href=\"#DejaVuSans-48\"/>\n       <use x=\"63.623047\" xlink:href=\"#DejaVuSans-46\"/>\n       <use x=\"95.410156\" xlink:href=\"#DejaVuSans-48\"/>\n       <use x=\"159.033203\" xlink:href=\"#DejaVuSans-52\"/>\n      </g>\n     </g>\n    </g>\n    <g id=\"ytick_8\">\n     <g id=\"line2d_22\">\n      <g>\n       <use style=\"stroke:#000000;stroke-width:0.8;\" x=\"537.125568\" xlink:href=\"#m163b744988\" y=\"239.758125\"/>\n      </g>\n     </g>\n     <g id=\"text_24\">\n      <!-- 0.05 -->\n      <g transform=\"translate(507.859943 243.557344)scale(0.1 -0.1)\">\n       <use xlink:href=\"#DejaVuSans-48\"/>\n       <use x=\"63.623047\" xlink:href=\"#DejaVuSans-46\"/>\n       <use x=\"95.410156\" xlink:href=\"#DejaVuSans-48\"/>\n       <use x=\"159.033203\" xlink:href=\"#DejaVuSans-53\"/>\n      </g>\n     </g>\n    </g>\n    <g id=\"ytick_9\">\n     <g id=\"line2d_23\">\n      <g>\n       <use style=\"stroke:#000000;stroke-width:0.8;\" x=\"537.125568\" xlink:href=\"#m163b744988\" y=\"185.398125\"/>\n      </g>\n     </g>\n     <g id=\"text_25\">\n      <!-- 0.06 -->\n      <g transform=\"translate(507.859943 189.197344)scale(0.1 -0.1)\">\n       <use xlink:href=\"#DejaVuSans-48\"/>\n       <use x=\"63.623047\" xlink:href=\"#DejaVuSans-46\"/>\n       <use x=\"95.410156\" xlink:href=\"#DejaVuSans-48\"/>\n       <use x=\"159.033203\" xlink:href=\"#DejaVuSans-54\"/>\n      </g>\n     </g>\n    </g>\n    <g id=\"ytick_10\">\n     <g id=\"line2d_24\">\n      <g>\n       <use style=\"stroke:#000000;stroke-width:0.8;\" x=\"537.125568\" xlink:href=\"#m163b744988\" y=\"131.038125\"/>\n      </g>\n     </g>\n     <g id=\"text_26\">\n      <!-- 0.07 -->\n      <g transform=\"translate(507.859943 134.837344)scale(0.1 -0.1)\">\n       <use xlink:href=\"#DejaVuSans-48\"/>\n       <use x=\"63.623047\" xlink:href=\"#DejaVuSans-46\"/>\n       <use x=\"95.410156\" xlink:href=\"#DejaVuSans-48\"/>\n       <use x=\"159.033203\" xlink:href=\"#DejaVuSans-55\"/>\n      </g>\n     </g>\n    </g>\n    <g id=\"ytick_11\">\n     <g id=\"line2d_25\">\n      <g>\n       <use style=\"stroke:#000000;stroke-width:0.8;\" x=\"537.125568\" xlink:href=\"#m163b744988\" y=\"76.678125\"/>\n      </g>\n     </g>\n     <g id=\"text_27\">\n      <!-- 0.08 -->\n      <g transform=\"translate(507.859943 80.477344)scale(0.1 -0.1)\">\n       <use xlink:href=\"#DejaVuSans-48\"/>\n       <use x=\"63.623047\" xlink:href=\"#DejaVuSans-46\"/>\n       <use x=\"95.410156\" xlink:href=\"#DejaVuSans-48\"/>\n       <use x=\"159.033203\" xlink:href=\"#DejaVuSans-56\"/>\n      </g>\n     </g>\n    </g>\n    <g id=\"ytick_12\">\n     <g id=\"line2d_26\">\n      <g>\n       <use style=\"stroke:#000000;stroke-width:0.8;\" x=\"537.125568\" xlink:href=\"#m163b744988\" y=\"22.318125\"/>\n      </g>\n     </g>\n     <g id=\"text_28\">\n      <!-- 0.09 -->\n      <g transform=\"translate(507.859943 26.117344)scale(0.1 -0.1)\">\n       <use xlink:href=\"#DejaVuSans-48\"/>\n       <use x=\"63.623047\" xlink:href=\"#DejaVuSans-46\"/>\n       <use x=\"95.410156\" xlink:href=\"#DejaVuSans-48\"/>\n       <use x=\"159.033203\" xlink:href=\"#DejaVuSans-57\"/>\n      </g>\n     </g>\n    </g>\n    <g id=\"text_29\">\n     <!-- Variance of Sampling Mean -->\n     <g transform=\"translate(501.780256 226.432187)rotate(-90)scale(0.1 -0.1)\">\n      <use xlink:href=\"#DejaVuSans-86\"/>\n      <use x=\"60.658203\" xlink:href=\"#DejaVuSans-97\"/>\n      <use x=\"121.9375\" xlink:href=\"#DejaVuSans-114\"/>\n      <use x=\"163.050781\" xlink:href=\"#DejaVuSans-105\"/>\n      <use x=\"190.833984\" xlink:href=\"#DejaVuSans-97\"/>\n      <use x=\"252.113281\" xlink:href=\"#DejaVuSans-110\"/>\n      <use x=\"315.492188\" xlink:href=\"#DejaVuSans-99\"/>\n      <use x=\"370.472656\" xlink:href=\"#DejaVuSans-101\"/>\n      <use x=\"431.996094\" xlink:href=\"#DejaVuSans-32\"/>\n      <use x=\"463.783203\" xlink:href=\"#DejaVuSans-111\"/>\n      <use x=\"524.964844\" xlink:href=\"#DejaVuSans-102\"/>\n      <use x=\"560.169922\" xlink:href=\"#DejaVuSans-32\"/>\n      <use x=\"591.957031\" xlink:href=\"#DejaVuSans-83\"/>\n      <use x=\"655.433594\" xlink:href=\"#DejaVuSans-97\"/>\n      <use x=\"716.712891\" xlink:href=\"#DejaVuSans-109\"/>\n      <use x=\"814.125\" xlink:href=\"#DejaVuSans-112\"/>\n      <use x=\"877.601562\" xlink:href=\"#DejaVuSans-108\"/>\n      <use x=\"905.384766\" xlink:href=\"#DejaVuSans-105\"/>\n      <use x=\"933.167969\" xlink:href=\"#DejaVuSans-110\"/>\n      <use x=\"996.546875\" xlink:href=\"#DejaVuSans-103\"/>\n      <use x=\"1060.023438\" xlink:href=\"#DejaVuSans-32\"/>\n      <use x=\"1091.810547\" xlink:href=\"#DejaVuSans-77\"/>\n      <use x=\"1178.089844\" xlink:href=\"#DejaVuSans-101\"/>\n      <use x=\"1239.613281\" xlink:href=\"#DejaVuSans-97\"/>\n      <use x=\"1300.892578\" xlink:href=\"#DejaVuSans-110\"/>\n     </g>\n    </g>\n   </g>\n   <g id=\"line2d_27\">\n    <path clip-path=\"url(#p83bb1a984e)\" d=\"M 537.125568 54.175587 \nL 942.94375 54.175587 \n\" style=\"fill:none;stroke:#1f77b4;stroke-linecap:square;stroke-width:1.5;\"/>\n   </g>\n   <g id=\"line2d_28\">\n    <path clip-path=\"url(#p83bb1a984e)\" d=\"M 537.125568 285.758169 \nL 942.94375 285.758169 \n\" style=\"fill:none;stroke:#ff0000;stroke-linecap:square;stroke-width:1.5;\"/>\n   </g>\n   <g id=\"patch_8\">\n    <path d=\"M 537.125568 294.118125 \nL 537.125568 22.318125 \n\" style=\"fill:none;stroke:#000000;stroke-linecap:square;stroke-linejoin:miter;stroke-width:0.8;\"/>\n   </g>\n   <g id=\"patch_9\">\n    <path d=\"M 942.94375 294.118125 \nL 942.94375 22.318125 \n\" style=\"fill:none;stroke:#000000;stroke-linecap:square;stroke-linejoin:miter;stroke-width:0.8;\"/>\n   </g>\n   <g id=\"patch_10\">\n    <path d=\"M 537.125568 294.118125 \nL 942.94375 294.118125 \n\" style=\"fill:none;stroke:#000000;stroke-linecap:square;stroke-linejoin:miter;stroke-width:0.8;\"/>\n   </g>\n   <g id=\"patch_11\">\n    <path d=\"M 537.125568 22.318125 \nL 942.94375 22.318125 \n\" style=\"fill:none;stroke:#000000;stroke-linecap:square;stroke-linejoin:miter;stroke-width:0.8;\"/>\n   </g>\n   <g id=\"text_30\">\n    <!-- Stratified Sampling by Position -->\n    <defs>\n     <path d=\"M 45.40625 46.390625 \nL 45.40625 75.984375 \nL 54.390625 75.984375 \nL 54.390625 0 \nL 45.40625 0 \nL 45.40625 8.203125 \nQ 42.578125 3.328125 38.25 0.953125 \nQ 33.9375 -1.421875 27.875 -1.421875 \nQ 17.96875 -1.421875 11.734375 6.484375 \nQ 5.515625 14.40625 5.515625 27.296875 \nQ 5.515625 40.1875 11.734375 48.09375 \nQ 17.96875 56 27.875 56 \nQ 33.9375 56 38.25 53.625 \nQ 42.578125 51.265625 45.40625 46.390625 \nz\nM 14.796875 27.296875 \nQ 14.796875 17.390625 18.875 11.75 \nQ 22.953125 6.109375 30.078125 6.109375 \nQ 37.203125 6.109375 41.296875 11.75 \nQ 45.40625 17.390625 45.40625 27.296875 \nQ 45.40625 37.203125 41.296875 42.84375 \nQ 37.203125 48.484375 30.078125 48.484375 \nQ 22.953125 48.484375 18.875 42.84375 \nQ 14.796875 37.203125 14.796875 27.296875 \nz\n\" id=\"DejaVuSans-100\"/>\n     <path d=\"M 48.6875 27.296875 \nQ 48.6875 37.203125 44.609375 42.84375 \nQ 40.53125 48.484375 33.40625 48.484375 \nQ 26.265625 48.484375 22.1875 42.84375 \nQ 18.109375 37.203125 18.109375 27.296875 \nQ 18.109375 17.390625 22.1875 11.75 \nQ 26.265625 6.109375 33.40625 6.109375 \nQ 40.53125 6.109375 44.609375 11.75 \nQ 48.6875 17.390625 48.6875 27.296875 \nz\nM 18.109375 46.390625 \nQ 20.953125 51.265625 25.265625 53.625 \nQ 29.59375 56 35.59375 56 \nQ 45.5625 56 51.78125 48.09375 \nQ 58.015625 40.1875 58.015625 27.296875 \nQ 58.015625 14.40625 51.78125 6.484375 \nQ 45.5625 -1.421875 35.59375 -1.421875 \nQ 29.59375 -1.421875 25.265625 0.953125 \nQ 20.953125 3.328125 18.109375 8.203125 \nL 18.109375 0 \nL 9.078125 0 \nL 9.078125 75.984375 \nL 18.109375 75.984375 \nz\n\" id=\"DejaVuSans-98\"/>\n     <path d=\"M 32.171875 -5.078125 \nQ 28.375 -14.84375 24.75 -17.8125 \nQ 21.140625 -20.796875 15.09375 -20.796875 \nL 7.90625 -20.796875 \nL 7.90625 -13.28125 \nL 13.1875 -13.28125 \nQ 16.890625 -13.28125 18.9375 -11.515625 \nQ 21 -9.765625 23.484375 -3.21875 \nL 25.09375 0.875 \nL 2.984375 54.6875 \nL 12.5 54.6875 \nL 29.59375 11.921875 \nL 46.6875 54.6875 \nL 56.203125 54.6875 \nz\n\" id=\"DejaVuSans-121\"/>\n     <path d=\"M 19.671875 64.796875 \nL 19.671875 37.40625 \nL 32.078125 37.40625 \nQ 38.96875 37.40625 42.71875 40.96875 \nQ 46.484375 44.53125 46.484375 51.125 \nQ 46.484375 57.671875 42.71875 61.234375 \nQ 38.96875 64.796875 32.078125 64.796875 \nz\nM 9.8125 72.90625 \nL 32.078125 72.90625 \nQ 44.34375 72.90625 50.609375 67.359375 \nQ 56.890625 61.8125 56.890625 51.125 \nQ 56.890625 40.328125 50.609375 34.8125 \nQ 44.34375 29.296875 32.078125 29.296875 \nL 19.671875 29.296875 \nL 19.671875 0 \nL 9.8125 0 \nz\n\" id=\"DejaVuSans-80\"/>\n     <path d=\"M 44.28125 53.078125 \nL 44.28125 44.578125 \nQ 40.484375 46.53125 36.375 47.5 \nQ 32.28125 48.484375 27.875 48.484375 \nQ 21.1875 48.484375 17.84375 46.4375 \nQ 14.5 44.390625 14.5 40.28125 \nQ 14.5 37.15625 16.890625 35.375 \nQ 19.28125 33.59375 26.515625 31.984375 \nL 29.59375 31.296875 \nQ 39.15625 29.25 43.1875 25.515625 \nQ 47.21875 21.78125 47.21875 15.09375 \nQ 47.21875 7.46875 41.1875 3.015625 \nQ 35.15625 -1.421875 24.609375 -1.421875 \nQ 20.21875 -1.421875 15.453125 -0.5625 \nQ 10.6875 0.296875 5.421875 2 \nL 5.421875 11.28125 \nQ 10.40625 8.6875 15.234375 7.390625 \nQ 20.0625 6.109375 24.8125 6.109375 \nQ 31.15625 6.109375 34.5625 8.28125 \nQ 37.984375 10.453125 37.984375 14.40625 \nQ 37.984375 18.0625 35.515625 20.015625 \nQ 33.0625 21.96875 24.703125 23.78125 \nL 21.578125 24.515625 \nQ 13.234375 26.265625 9.515625 29.90625 \nQ 5.8125 33.546875 5.8125 39.890625 \nQ 5.8125 47.609375 11.28125 51.796875 \nQ 16.75 56 26.8125 56 \nQ 31.78125 56 36.171875 55.265625 \nQ 40.578125 54.546875 44.28125 53.078125 \nz\n\" id=\"DejaVuSans-115\"/>\n    </defs>\n    <g transform=\"translate(647.908409 16.318125)scale(0.12 -0.12)\">\n     <use xlink:href=\"#DejaVuSans-83\"/>\n     <use x=\"63.476562\" xlink:href=\"#DejaVuSans-116\"/>\n     <use x=\"102.685547\" xlink:href=\"#DejaVuSans-114\"/>\n     <use x=\"143.798828\" xlink:href=\"#DejaVuSans-97\"/>\n     <use x=\"205.078125\" xlink:href=\"#DejaVuSans-116\"/>\n     <use x=\"244.287109\" xlink:href=\"#DejaVuSans-105\"/>\n     <use x=\"272.070312\" xlink:href=\"#DejaVuSans-102\"/>\n     <use x=\"307.275391\" xlink:href=\"#DejaVuSans-105\"/>\n     <use x=\"335.058594\" xlink:href=\"#DejaVuSans-101\"/>\n     <use x=\"396.582031\" xlink:href=\"#DejaVuSans-100\"/>\n     <use x=\"460.058594\" xlink:href=\"#DejaVuSans-32\"/>\n     <use x=\"491.845703\" xlink:href=\"#DejaVuSans-83\"/>\n     <use x=\"555.322266\" xlink:href=\"#DejaVuSans-97\"/>\n     <use x=\"616.601562\" xlink:href=\"#DejaVuSans-109\"/>\n     <use x=\"714.013672\" xlink:href=\"#DejaVuSans-112\"/>\n     <use x=\"777.490234\" xlink:href=\"#DejaVuSans-108\"/>\n     <use x=\"805.273438\" xlink:href=\"#DejaVuSans-105\"/>\n     <use x=\"833.056641\" xlink:href=\"#DejaVuSans-110\"/>\n     <use x=\"896.435547\" xlink:href=\"#DejaVuSans-103\"/>\n     <use x=\"959.912109\" xlink:href=\"#DejaVuSans-32\"/>\n     <use x=\"991.699219\" xlink:href=\"#DejaVuSans-98\"/>\n     <use x=\"1055.175781\" xlink:href=\"#DejaVuSans-121\"/>\n     <use x=\"1114.355469\" xlink:href=\"#DejaVuSans-32\"/>\n     <use x=\"1146.142578\" xlink:href=\"#DejaVuSans-80\"/>\n     <use x=\"1202.820312\" xlink:href=\"#DejaVuSans-111\"/>\n     <use x=\"1264.001953\" xlink:href=\"#DejaVuSans-115\"/>\n     <use x=\"1316.101562\" xlink:href=\"#DejaVuSans-105\"/>\n     <use x=\"1343.884766\" xlink:href=\"#DejaVuSans-116\"/>\n     <use x=\"1383.09375\" xlink:href=\"#DejaVuSans-105\"/>\n     <use x=\"1410.876953\" xlink:href=\"#DejaVuSans-111\"/>\n     <use x=\"1472.058594\" xlink:href=\"#DejaVuSans-110\"/>\n    </g>\n   </g>\n  </g>\n </g>\n <defs>\n  <clipPath id=\"p36e8bb03f2\">\n   <rect height=\"271.8\" width=\"405.818182\" x=\"50.14375\" y=\"22.318125\"/>\n  </clipPath>\n  <clipPath id=\"p83bb1a984e\">\n   <rect height=\"271.8\" width=\"405.818182\" x=\"537.125568\" y=\"22.318125\"/>\n  </clipPath>\n </defs>\n</svg>\n",
      "image/png": "[encoded data removed]"
     },
     "metadata": {
      "needs_background": "light"
     }
    }
   ],
   "source": [
    "samplingratio = 1/5\n",
    "\n",
    "sample_var_Simple = []\n",
    "sample_mean_Simple = []\n",
    "for i in range(100):\n",
    "    sample = df.sample(frac=samplingratio, replace=False, random_state=i)\n",
    "    sample_var_Simple.append((sample.Finishing.var()/sample.shape[0])*(1-(sample.shape[0]-1)/(N-1)))\n",
    "    sample_mean_Simple.append(sample.Finishing.mean())\n",
    "\n",
    "sample_var_Stratified = []\n",
    "sample_mean_Stratified = []\n",
    "for i in range(100):\n",
    "    sample = df.groupby('Position').apply(lambda x: x.sample(frac=samplingratio,random_state=i))\n",
    "    sample_var_Stratified.append((sample.Finishing.var()/sample.shape[0])*(1-(sample.shape[0]-1)/(N-1)))\n",
    "    sample_mean_Stratified.append(sample.Finishing.mean())\n",
    "\n",
    "\n",
    "plt.figure(figsize=(16,5))\n",
    "\n",
    "plt.subplot(121)\n",
    "plt.scatter(range(1,101), sample_var_Simple)\n",
    "plt.axhline(np.mean(sample_var_Simple))\n",
    "plt.axhline(np.var(sample_mean_Simple), color = 'red')\n",
    "plt.ylim(0.04, 0.09)\n",
    "plt.xlabel(\"Sample #\")\n",
    "plt.ylabel(\"Variance of Sampling Mean\")\n",
    "plt.title(\"SRS (without replacement)\")\n",
    "\n",
    "plt.subplot(122)\n",
    "plt.scatter(range(1,101), sample_var_Stratified)\n",
    "plt.axhline(np.mean(sample_var_Stratified))\n",
    "plt.axhline(np.var(sample_mean_Stratified), color = 'red')\n",
    "plt.ylim(0.04, 0.09)\n",
    "plt.xlabel(\"Sample #\")\n",
    "plt.ylabel(\"Variance of Sampling Mean\")\n",
    "plt.title(\"Stratified Sampling by Position\")\n",
    "\n",
    "plt.show()"
   ]
  },
  {
   "source": [
    "## 5 same for Overall feature"
   ],
   "cell_type": "markdown",
   "metadata": {}
  },
  {
   "cell_type": "code",
   "execution_count": 8,
   "metadata": {},
   "outputs": [],
   "source": [
    "X = df['Overall']\n",
    "N = df.shape[0]\n",
    "X_var = X.var()\n",
    "nsamples = [15000,10000, 5000, 1000,100]\n",
    "sample_var_SRS_Overall = pd.DataFrame(index = nsamples)\n",
    "sample_mean_SRS_Overall = pd.DataFrame(index = nsamples)\n",
    "for n in nsamples:\n",
    "    for i in range(100):\n",
    "        sample = X.sample(n, replace = False, random_state = i)\n",
    "        sample_var_SRS_Overall.at[n,i] = (sample.var()/n)*(1-(n-1)/(N-1))\n",
    "        sample_mean_SRS_Overall.at[n,i] = sample.mean()\n",
    "    "
   ]
  },
  {
   "cell_type": "code",
   "execution_count": 9,
   "metadata": {},
   "outputs": [
    {
     "output_type": "display_data",
     "data": {
      "text/plain": "<Figure size 1152x648 with 5 Axes>",
      "image/svg+xml": "<?xml version=\"1.0\" encoding=\"utf-8\" standalone=\"no\"?>\n<!DOCTYPE svg PUBLIC \"-//W3C//DTD SVG 1.1//EN\"\n  \"http://www.w3.org/Graphics/SVG/1.1/DTD/svg11.dtd\">\n<!-- Created with matplotlib (https://matplotlib.org/) -->\n<svg height=\"549.114375pt\" version=\"1.1\" viewBox=\"0 0 978.140635 549.114375\" width=\"978.140635pt\" xmlns=\"http://www.w3.org/2000/svg\" xmlns:xlink=\"http://www.w3.org/1999/xlink\">\n <defs>\n  <style type=\"text/css\">\n*{stroke-linecap:butt;stroke-linejoin:round;}\n  </style>\n </defs>\n <g id=\"figure_1\">\n  <g id=\"patch_1\">\n   <path d=\"M 0 549.114375 \nL 978.140635 549.114375 \nL 978.140635 0 \nL 0 0 \nz\n\" style=\"fill:none;\"/>\n  </g>\n  <g id=\"axes_1\">\n   <g id=\"patch_2\">\n    <path d=\"M 75.59375 511.558125 \nL 229.524784 511.558125 \nL 229.524784 22.318125 \nL 75.59375 22.318125 \nz\n\" style=\"fill:#ffffff;\"/>\n   </g>\n   <g id=\"PathCollection_1\">\n    <defs>\n     <path d=\"M 0 3 \nC 0.795609 3 1.55874 2.683901 2.12132 2.12132 \nC 2.683901 1.55874 3 0.795609 3 0 \nC 3 -0.795609 2.683901 -1.55874 2.12132 -2.12132 \nC 1.55874 -2.683901 0.795609 -3 0 -3 \nC -0.795609 -3 -1.55874 -2.683901 -2.12132 -2.12132 \nC -2.683901 -1.55874 -3 -0.795609 -3 0 \nC -3 0.795609 -2.683901 1.55874 -2.12132 2.12132 \nC -1.55874 2.683901 -0.795609 3 0 3 \nz\n\" id=\"m82df392d8a\" style=\"stroke:#1f77b4;\"/>\n    </defs>\n    <g clip-path=\"url(#pdb48c2c3d6)\">\n     <use style=\"fill:#1f77b4;stroke:#1f77b4;\" x=\"82.590615\" xlink:href=\"#m82df392d8a\" y=\"416.224052\"/>\n     <use style=\"fill:#1f77b4;stroke:#1f77b4;\" x=\"84.004123\" xlink:href=\"#m82df392d8a\" y=\"417.401843\"/>\n     <use style=\"fill:#1f77b4;stroke:#1f77b4;\" x=\"85.417631\" xlink:href=\"#m82df392d8a\" y=\"346.896702\"/>\n     <use style=\"fill:#1f77b4;stroke:#1f77b4;\" x=\"86.83114\" xlink:href=\"#m82df392d8a\" y=\"379.973052\"/>\n     <use style=\"fill:#1f77b4;stroke:#1f77b4;\" x=\"88.244648\" xlink:href=\"#m82df392d8a\" y=\"335.360433\"/>\n     <use style=\"fill:#1f77b4;stroke:#1f77b4;\" x=\"89.658156\" xlink:href=\"#m82df392d8a\" y=\"451.189168\"/>\n     <use style=\"fill:#1f77b4;stroke:#1f77b4;\" x=\"91.071664\" xlink:href=\"#m82df392d8a\" y=\"376.732554\"/>\n     <use style=\"fill:#1f77b4;stroke:#1f77b4;\" x=\"92.485172\" xlink:href=\"#m82df392d8a\" y=\"373.024942\"/>\n     <use style=\"fill:#1f77b4;stroke:#1f77b4;\" x=\"93.89868\" xlink:href=\"#m82df392d8a\" y=\"325.543481\"/>\n     <use style=\"fill:#1f77b4;stroke:#1f77b4;\" x=\"95.312188\" xlink:href=\"#m82df392d8a\" y=\"426.242178\"/>\n     <use style=\"fill:#1f77b4;stroke:#1f77b4;\" x=\"96.725696\" xlink:href=\"#m82df392d8a\" y=\"287.848059\"/>\n     <use style=\"fill:#1f77b4;stroke:#1f77b4;\" x=\"98.139205\" xlink:href=\"#m82df392d8a\" y=\"331.834433\"/>\n     <use style=\"fill:#1f77b4;stroke:#1f77b4;\" x=\"99.552713\" xlink:href=\"#m82df392d8a\" y=\"489.319943\"/>\n     <use style=\"fill:#1f77b4;stroke:#1f77b4;\" x=\"100.966221\" xlink:href=\"#m82df392d8a\" y=\"482.919077\"/>\n     <use style=\"fill:#1f77b4;stroke:#1f77b4;\" x=\"102.379729\" xlink:href=\"#m82df392d8a\" y=\"369.772689\"/>\n     <use style=\"fill:#1f77b4;stroke:#1f77b4;\" x=\"103.793237\" xlink:href=\"#m82df392d8a\" y=\"336.39277\"/>\n     <use style=\"fill:#1f77b4;stroke:#1f77b4;\" x=\"105.206745\" xlink:href=\"#m82df392d8a\" y=\"443.435429\"/>\n     <use style=\"fill:#1f77b4;stroke:#1f77b4;\" x=\"106.620253\" xlink:href=\"#m82df392d8a\" y=\"381.095359\"/>\n     <use style=\"fill:#1f77b4;stroke:#1f77b4;\" x=\"108.033761\" xlink:href=\"#m82df392d8a\" y=\"482.878352\"/>\n     <use style=\"fill:#1f77b4;stroke:#1f77b4;\" x=\"109.44727\" xlink:href=\"#m82df392d8a\" y=\"347.981394\"/>\n     <use style=\"fill:#1f77b4;stroke:#1f77b4;\" x=\"110.860778\" xlink:href=\"#m82df392d8a\" y=\"406.355211\"/>\n     <use style=\"fill:#1f77b4;stroke:#1f77b4;\" x=\"112.274286\" xlink:href=\"#m82df392d8a\" y=\"364.402475\"/>\n     <use style=\"fill:#1f77b4;stroke:#1f77b4;\" x=\"113.687794\" xlink:href=\"#m82df392d8a\" y=\"454.801227\"/>\n     <use style=\"fill:#1f77b4;stroke:#1f77b4;\" x=\"115.101302\" xlink:href=\"#m82df392d8a\" y=\"278.213309\"/>\n     <use style=\"fill:#1f77b4;stroke:#1f77b4;\" x=\"116.51481\" xlink:href=\"#m82df392d8a\" y=\"395.470049\"/>\n     <use style=\"fill:#1f77b4;stroke:#1f77b4;\" x=\"117.928318\" xlink:href=\"#m82df392d8a\" y=\"336.49473\"/>\n     <use style=\"fill:#1f77b4;stroke:#1f77b4;\" x=\"119.341826\" xlink:href=\"#m82df392d8a\" y=\"337.573092\"/>\n     <use style=\"fill:#1f77b4;stroke:#1f77b4;\" x=\"120.755334\" xlink:href=\"#m82df392d8a\" y=\"424.081478\"/>\n     <use style=\"fill:#1f77b4;stroke:#1f77b4;\" x=\"122.168843\" xlink:href=\"#m82df392d8a\" y=\"345.235489\"/>\n     <use style=\"fill:#1f77b4;stroke:#1f77b4;\" x=\"123.582351\" xlink:href=\"#m82df392d8a\" y=\"392.778102\"/>\n     <use style=\"fill:#1f77b4;stroke:#1f77b4;\" x=\"124.995859\" xlink:href=\"#m82df392d8a\" y=\"340.847212\"/>\n     <use style=\"fill:#1f77b4;stroke:#1f77b4;\" x=\"126.409367\" xlink:href=\"#m82df392d8a\" y=\"429.759639\"/>\n     <use style=\"fill:#1f77b4;stroke:#1f77b4;\" x=\"127.822875\" xlink:href=\"#m82df392d8a\" y=\"429.873134\"/>\n     <use style=\"fill:#1f77b4;stroke:#1f77b4;\" x=\"129.236383\" xlink:href=\"#m82df392d8a\" y=\"309.518874\"/>\n     <use style=\"fill:#1f77b4;stroke:#1f77b4;\" x=\"130.649891\" xlink:href=\"#m82df392d8a\" y=\"356.518757\"/>\n     <use style=\"fill:#1f77b4;stroke:#1f77b4;\" x=\"132.063399\" xlink:href=\"#m82df392d8a\" y=\"445.816916\"/>\n     <use style=\"fill:#1f77b4;stroke:#1f77b4;\" x=\"133.476908\" xlink:href=\"#m82df392d8a\" y=\"417.209983\"/>\n     <use style=\"fill:#1f77b4;stroke:#1f77b4;\" x=\"134.890416\" xlink:href=\"#m82df392d8a\" y=\"362.313246\"/>\n     <use style=\"fill:#1f77b4;stroke:#1f77b4;\" x=\"136.303924\" xlink:href=\"#m82df392d8a\" y=\"334.253617\"/>\n     <use style=\"fill:#1f77b4;stroke:#1f77b4;\" x=\"137.717432\" xlink:href=\"#m82df392d8a\" y=\"367.107559\"/>\n     <use style=\"fill:#1f77b4;stroke:#1f77b4;\" x=\"139.13094\" xlink:href=\"#m82df392d8a\" y=\"378.005484\"/>\n     <use style=\"fill:#1f77b4;stroke:#1f77b4;\" x=\"140.544448\" xlink:href=\"#m82df392d8a\" y=\"413.54564\"/>\n     <use style=\"fill:#1f77b4;stroke:#1f77b4;\" x=\"141.957956\" xlink:href=\"#m82df392d8a\" y=\"412.600759\"/>\n     <use style=\"fill:#1f77b4;stroke:#1f77b4;\" x=\"143.371464\" xlink:href=\"#m82df392d8a\" y=\"339.014643\"/>\n     <use style=\"fill:#1f77b4;stroke:#1f77b4;\" x=\"144.784973\" xlink:href=\"#m82df392d8a\" y=\"466.582751\"/>\n     <use style=\"fill:#1f77b4;stroke:#1f77b4;\" x=\"146.198481\" xlink:href=\"#m82df392d8a\" y=\"418.501672\"/>\n     <use style=\"fill:#1f77b4;stroke:#1f77b4;\" x=\"147.611989\" xlink:href=\"#m82df392d8a\" y=\"445.710423\"/>\n     <use style=\"fill:#1f77b4;stroke:#1f77b4;\" x=\"149.025497\" xlink:href=\"#m82df392d8a\" y=\"312.769954\"/>\n     <use style=\"fill:#1f77b4;stroke:#1f77b4;\" x=\"150.439005\" xlink:href=\"#m82df392d8a\" y=\"340.448491\"/>\n     <use style=\"fill:#1f77b4;stroke:#1f77b4;\" x=\"151.852513\" xlink:href=\"#m82df392d8a\" y=\"387.999045\"/>\n     <use style=\"fill:#1f77b4;stroke:#1f77b4;\" x=\"153.266021\" xlink:href=\"#m82df392d8a\" y=\"362.107825\"/>\n     <use style=\"fill:#1f77b4;stroke:#1f77b4;\" x=\"154.679529\" xlink:href=\"#m82df392d8a\" y=\"407.298651\"/>\n     <use style=\"fill:#1f77b4;stroke:#1f77b4;\" x=\"156.093038\" xlink:href=\"#m82df392d8a\" y=\"343.916656\"/>\n     <use style=\"fill:#1f77b4;stroke:#1f77b4;\" x=\"157.506546\" xlink:href=\"#m82df392d8a\" y=\"355.249232\"/>\n     <use style=\"fill:#1f77b4;stroke:#1f77b4;\" x=\"158.920054\" xlink:href=\"#m82df392d8a\" y=\"349.11731\"/>\n     <use style=\"fill:#1f77b4;stroke:#1f77b4;\" x=\"160.333562\" xlink:href=\"#m82df392d8a\" y=\"389.527283\"/>\n     <use style=\"fill:#1f77b4;stroke:#1f77b4;\" x=\"161.74707\" xlink:href=\"#m82df392d8a\" y=\"475.163713\"/>\n     <use style=\"fill:#1f77b4;stroke:#1f77b4;\" x=\"163.160578\" xlink:href=\"#m82df392d8a\" y=\"351.121102\"/>\n     <use style=\"fill:#1f77b4;stroke:#1f77b4;\" x=\"164.574086\" xlink:href=\"#m82df392d8a\" y=\"373.961454\"/>\n     <use style=\"fill:#1f77b4;stroke:#1f77b4;\" x=\"165.987594\" xlink:href=\"#m82df392d8a\" y=\"322.55012\"/>\n     <use style=\"fill:#1f77b4;stroke:#1f77b4;\" x=\"167.401103\" xlink:href=\"#m82df392d8a\" y=\"395.143605\"/>\n     <use style=\"fill:#1f77b4;stroke:#1f77b4;\" x=\"168.814611\" xlink:href=\"#m82df392d8a\" y=\"375.376789\"/>\n     <use style=\"fill:#1f77b4;stroke:#1f77b4;\" x=\"170.228119\" xlink:href=\"#m82df392d8a\" y=\"395.277639\"/>\n     <use style=\"fill:#1f77b4;stroke:#1f77b4;\" x=\"171.641627\" xlink:href=\"#m82df392d8a\" y=\"382.293433\"/>\n     <use style=\"fill:#1f77b4;stroke:#1f77b4;\" x=\"173.055135\" xlink:href=\"#m82df392d8a\" y=\"426.427604\"/>\n     <use style=\"fill:#1f77b4;stroke:#1f77b4;\" x=\"174.468643\" xlink:href=\"#m82df392d8a\" y=\"336.152979\"/>\n     <use style=\"fill:#1f77b4;stroke:#1f77b4;\" x=\"175.882151\" xlink:href=\"#m82df392d8a\" y=\"424.011563\"/>\n     <use style=\"fill:#1f77b4;stroke:#1f77b4;\" x=\"177.295659\" xlink:href=\"#m82df392d8a\" y=\"382.646737\"/>\n     <use style=\"fill:#1f77b4;stroke:#1f77b4;\" x=\"178.709167\" xlink:href=\"#m82df392d8a\" y=\"320.330551\"/>\n     <use style=\"fill:#1f77b4;stroke:#1f77b4;\" x=\"180.122676\" xlink:href=\"#m82df392d8a\" y=\"367.49913\"/>\n     <use style=\"fill:#1f77b4;stroke:#1f77b4;\" x=\"181.536184\" xlink:href=\"#m82df392d8a\" y=\"368.111101\"/>\n     <use style=\"fill:#1f77b4;stroke:#1f77b4;\" x=\"182.949692\" xlink:href=\"#m82df392d8a\" y=\"359.429532\"/>\n     <use style=\"fill:#1f77b4;stroke:#1f77b4;\" x=\"184.3632\" xlink:href=\"#m82df392d8a\" y=\"403.989036\"/>\n     <use style=\"fill:#1f77b4;stroke:#1f77b4;\" x=\"185.776708\" xlink:href=\"#m82df392d8a\" y=\"361.781006\"/>\n     <use style=\"fill:#1f77b4;stroke:#1f77b4;\" x=\"187.190216\" xlink:href=\"#m82df392d8a\" y=\"427.444942\"/>\n     <use style=\"fill:#1f77b4;stroke:#1f77b4;\" x=\"188.603724\" xlink:href=\"#m82df392d8a\" y=\"277.692288\"/>\n     <use style=\"fill:#1f77b4;stroke:#1f77b4;\" x=\"190.017232\" xlink:href=\"#m82df392d8a\" y=\"340.626681\"/>\n     <use style=\"fill:#1f77b4;stroke:#1f77b4;\" x=\"191.430741\" xlink:href=\"#m82df392d8a\" y=\"347.804521\"/>\n     <use style=\"fill:#1f77b4;stroke:#1f77b4;\" x=\"192.844249\" xlink:href=\"#m82df392d8a\" y=\"361.223676\"/>\n     <use style=\"fill:#1f77b4;stroke:#1f77b4;\" x=\"194.257757\" xlink:href=\"#m82df392d8a\" y=\"355.681848\"/>\n     <use style=\"fill:#1f77b4;stroke:#1f77b4;\" x=\"195.671265\" xlink:href=\"#m82df392d8a\" y=\"376.947037\"/>\n     <use style=\"fill:#1f77b4;stroke:#1f77b4;\" x=\"197.084773\" xlink:href=\"#m82df392d8a\" y=\"345.235976\"/>\n     <use style=\"fill:#1f77b4;stroke:#1f77b4;\" x=\"198.498281\" xlink:href=\"#m82df392d8a\" y=\"290.456407\"/>\n     <use style=\"fill:#1f77b4;stroke:#1f77b4;\" x=\"199.911789\" xlink:href=\"#m82df392d8a\" y=\"446.699573\"/>\n     <use style=\"fill:#1f77b4;stroke:#1f77b4;\" x=\"201.325297\" xlink:href=\"#m82df392d8a\" y=\"315.163676\"/>\n     <use style=\"fill:#1f77b4;stroke:#1f77b4;\" x=\"202.738806\" xlink:href=\"#m82df392d8a\" y=\"393.214819\"/>\n     <use style=\"fill:#1f77b4;stroke:#1f77b4;\" x=\"204.152314\" xlink:href=\"#m82df392d8a\" y=\"395.601862\"/>\n     <use style=\"fill:#1f77b4;stroke:#1f77b4;\" x=\"205.565822\" xlink:href=\"#m82df392d8a\" y=\"391.883129\"/>\n     <use style=\"fill:#1f77b4;stroke:#1f77b4;\" x=\"206.97933\" xlink:href=\"#m82df392d8a\" y=\"435.149176\"/>\n     <use style=\"fill:#1f77b4;stroke:#1f77b4;\" x=\"208.392838\" xlink:href=\"#m82df392d8a\" y=\"420.737316\"/>\n     <use style=\"fill:#1f77b4;stroke:#1f77b4;\" x=\"209.806346\" xlink:href=\"#m82df392d8a\" y=\"316.669566\"/>\n     <use style=\"fill:#1f77b4;stroke:#1f77b4;\" x=\"211.219854\" xlink:href=\"#m82df392d8a\" y=\"449.329165\"/>\n     <use style=\"fill:#1f77b4;stroke:#1f77b4;\" x=\"212.633362\" xlink:href=\"#m82df392d8a\" y=\"434.562349\"/>\n     <use style=\"fill:#1f77b4;stroke:#1f77b4;\" x=\"214.046871\" xlink:href=\"#m82df392d8a\" y=\"371.426869\"/>\n     <use style=\"fill:#1f77b4;stroke:#1f77b4;\" x=\"215.460379\" xlink:href=\"#m82df392d8a\" y=\"338.680634\"/>\n     <use style=\"fill:#1f77b4;stroke:#1f77b4;\" x=\"216.873887\" xlink:href=\"#m82df392d8a\" y=\"367.787921\"/>\n     <use style=\"fill:#1f77b4;stroke:#1f77b4;\" x=\"218.287395\" xlink:href=\"#m82df392d8a\" y=\"449.719672\"/>\n     <use style=\"fill:#1f77b4;stroke:#1f77b4;\" x=\"219.700903\" xlink:href=\"#m82df392d8a\" y=\"381.91253\"/>\n     <use style=\"fill:#1f77b4;stroke:#1f77b4;\" x=\"221.114411\" xlink:href=\"#m82df392d8a\" y=\"341.955768\"/>\n     <use style=\"fill:#1f77b4;stroke:#1f77b4;\" x=\"222.527919\" xlink:href=\"#m82df392d8a\" y=\"364.824355\"/>\n    </g>\n   </g>\n   <g id=\"matplotlib.axis_1\">\n    <g id=\"xtick_1\">\n     <g id=\"line2d_1\">\n      <defs>\n       <path d=\"M 0 0 \nL 0 3.5 \n\" id=\"m68ec089b6e\" style=\"stroke:#000000;stroke-width:0.8;\"/>\n      </defs>\n      <g>\n       <use style=\"stroke:#000000;stroke-width:0.8;\" x=\"81.177107\" xlink:href=\"#m68ec089b6e\" y=\"511.558125\"/>\n      </g>\n     </g>\n     <g id=\"text_1\">\n      <!-- 0 -->\n      <defs>\n       <path d=\"M 31.78125 66.40625 \nQ 24.171875 66.40625 20.328125 58.90625 \nQ 16.5 51.421875 16.5 36.375 \nQ 16.5 21.390625 20.328125 13.890625 \nQ 24.171875 6.390625 31.78125 6.390625 \nQ 39.453125 6.390625 43.28125 13.890625 \nQ 47.125 21.390625 47.125 36.375 \nQ 47.125 51.421875 43.28125 58.90625 \nQ 39.453125 66.40625 31.78125 66.40625 \nz\nM 31.78125 74.21875 \nQ 44.046875 74.21875 50.515625 64.515625 \nQ 56.984375 54.828125 56.984375 36.375 \nQ 56.984375 17.96875 50.515625 8.265625 \nQ 44.046875 -1.421875 31.78125 -1.421875 \nQ 19.53125 -1.421875 13.0625 8.265625 \nQ 6.59375 17.96875 6.59375 36.375 \nQ 6.59375 54.828125 13.0625 64.515625 \nQ 19.53125 74.21875 31.78125 74.21875 \nz\n\" id=\"DejaVuSans-48\"/>\n      </defs>\n      <g transform=\"translate(77.995857 526.156562)scale(0.1 -0.1)\">\n       <use xlink:href=\"#DejaVuSans-48\"/>\n      </g>\n     </g>\n    </g>\n    <g id=\"xtick_2\">\n     <g id=\"line2d_2\">\n      <g>\n       <use style=\"stroke:#000000;stroke-width:0.8;\" x=\"116.51481\" xlink:href=\"#m68ec089b6e\" y=\"511.558125\"/>\n      </g>\n     </g>\n     <g id=\"text_2\">\n      <!-- 25 -->\n      <defs>\n       <path d=\"M 19.1875 8.296875 \nL 53.609375 8.296875 \nL 53.609375 0 \nL 7.328125 0 \nL 7.328125 8.296875 \nQ 12.9375 14.109375 22.625 23.890625 \nQ 32.328125 33.6875 34.8125 36.53125 \nQ 39.546875 41.84375 41.421875 45.53125 \nQ 43.3125 49.21875 43.3125 52.78125 \nQ 43.3125 58.59375 39.234375 62.25 \nQ 35.15625 65.921875 28.609375 65.921875 \nQ 23.96875 65.921875 18.8125 64.3125 \nQ 13.671875 62.703125 7.8125 59.421875 \nL 7.8125 69.390625 \nQ 13.765625 71.78125 18.9375 73 \nQ 24.125 74.21875 28.421875 74.21875 \nQ 39.75 74.21875 46.484375 68.546875 \nQ 53.21875 62.890625 53.21875 53.421875 \nQ 53.21875 48.921875 51.53125 44.890625 \nQ 49.859375 40.875 45.40625 35.40625 \nQ 44.1875 33.984375 37.640625 27.21875 \nQ 31.109375 20.453125 19.1875 8.296875 \nz\n\" id=\"DejaVuSans-50\"/>\n       <path d=\"M 10.796875 72.90625 \nL 49.515625 72.90625 \nL 49.515625 64.59375 \nL 19.828125 64.59375 \nL 19.828125 46.734375 \nQ 21.96875 47.46875 24.109375 47.828125 \nQ 26.265625 48.1875 28.421875 48.1875 \nQ 40.625 48.1875 47.75 41.5 \nQ 54.890625 34.8125 54.890625 23.390625 \nQ 54.890625 11.625 47.5625 5.09375 \nQ 40.234375 -1.421875 26.90625 -1.421875 \nQ 22.3125 -1.421875 17.546875 -0.640625 \nQ 12.796875 0.140625 7.71875 1.703125 \nL 7.71875 11.625 \nQ 12.109375 9.234375 16.796875 8.0625 \nQ 21.484375 6.890625 26.703125 6.890625 \nQ 35.15625 6.890625 40.078125 11.328125 \nQ 45.015625 15.765625 45.015625 23.390625 \nQ 45.015625 31 40.078125 35.4375 \nQ 35.15625 39.890625 26.703125 39.890625 \nQ 22.75 39.890625 18.8125 39.015625 \nQ 14.890625 38.140625 10.796875 36.28125 \nz\n\" id=\"DejaVuSans-53\"/>\n      </defs>\n      <g transform=\"translate(110.15231 526.156562)scale(0.1 -0.1)\">\n       <use xlink:href=\"#DejaVuSans-50\"/>\n       <use x=\"63.623047\" xlink:href=\"#DejaVuSans-53\"/>\n      </g>\n     </g>\n    </g>\n    <g id=\"xtick_3\">\n     <g id=\"line2d_3\">\n      <g>\n       <use style=\"stroke:#000000;stroke-width:0.8;\" x=\"151.852513\" xlink:href=\"#m68ec089b6e\" y=\"511.558125\"/>\n      </g>\n     </g>\n     <g id=\"text_3\">\n      <!-- 50 -->\n      <g transform=\"translate(145.490013 526.156562)scale(0.1 -0.1)\">\n       <use xlink:href=\"#DejaVuSans-53\"/>\n       <use x=\"63.623047\" xlink:href=\"#DejaVuSans-48\"/>\n      </g>\n     </g>\n    </g>\n    <g id=\"xtick_4\">\n     <g id=\"line2d_4\">\n      <g>\n       <use style=\"stroke:#000000;stroke-width:0.8;\" x=\"187.190216\" xlink:href=\"#m68ec089b6e\" y=\"511.558125\"/>\n      </g>\n     </g>\n     <g id=\"text_4\">\n      <!-- 75 -->\n      <defs>\n       <path d=\"M 8.203125 72.90625 \nL 55.078125 72.90625 \nL 55.078125 68.703125 \nL 28.609375 0 \nL 18.3125 0 \nL 43.21875 64.59375 \nL 8.203125 64.59375 \nz\n\" id=\"DejaVuSans-55\"/>\n      </defs>\n      <g transform=\"translate(180.827716 526.156562)scale(0.1 -0.1)\">\n       <use xlink:href=\"#DejaVuSans-55\"/>\n       <use x=\"63.623047\" xlink:href=\"#DejaVuSans-53\"/>\n      </g>\n     </g>\n    </g>\n    <g id=\"xtick_5\">\n     <g id=\"line2d_5\">\n      <g>\n       <use style=\"stroke:#000000;stroke-width:0.8;\" x=\"222.527919\" xlink:href=\"#m68ec089b6e\" y=\"511.558125\"/>\n      </g>\n     </g>\n     <g id=\"text_5\">\n      <!-- 100 -->\n      <defs>\n       <path d=\"M 12.40625 8.296875 \nL 28.515625 8.296875 \nL 28.515625 63.921875 \nL 10.984375 60.40625 \nL 10.984375 69.390625 \nL 28.421875 72.90625 \nL 38.28125 72.90625 \nL 38.28125 8.296875 \nL 54.390625 8.296875 \nL 54.390625 0 \nL 12.40625 0 \nz\n\" id=\"DejaVuSans-49\"/>\n      </defs>\n      <g transform=\"translate(212.984169 526.156562)scale(0.1 -0.1)\">\n       <use xlink:href=\"#DejaVuSans-49\"/>\n       <use x=\"63.623047\" xlink:href=\"#DejaVuSans-48\"/>\n       <use x=\"127.246094\" xlink:href=\"#DejaVuSans-48\"/>\n      </g>\n     </g>\n    </g>\n    <g id=\"text_6\">\n     <!-- Sample # -->\n     <defs>\n      <path d=\"M 53.515625 70.515625 \nL 53.515625 60.890625 \nQ 47.90625 63.578125 42.921875 64.890625 \nQ 37.9375 66.21875 33.296875 66.21875 \nQ 25.25 66.21875 20.875 63.09375 \nQ 16.5 59.96875 16.5 54.203125 \nQ 16.5 49.359375 19.40625 46.890625 \nQ 22.3125 44.4375 30.421875 42.921875 \nL 36.375 41.703125 \nQ 47.40625 39.59375 52.65625 34.296875 \nQ 57.90625 29 57.90625 20.125 \nQ 57.90625 9.515625 50.796875 4.046875 \nQ 43.703125 -1.421875 29.984375 -1.421875 \nQ 24.8125 -1.421875 18.96875 -0.25 \nQ 13.140625 0.921875 6.890625 3.21875 \nL 6.890625 13.375 \nQ 12.890625 10.015625 18.65625 8.296875 \nQ 24.421875 6.59375 29.984375 6.59375 \nQ 38.421875 6.59375 43.015625 9.90625 \nQ 47.609375 13.234375 47.609375 19.390625 \nQ 47.609375 24.75 44.3125 27.78125 \nQ 41.015625 30.8125 33.5 32.328125 \nL 27.484375 33.5 \nQ 16.453125 35.6875 11.515625 40.375 \nQ 6.59375 45.0625 6.59375 53.421875 \nQ 6.59375 63.09375 13.40625 68.65625 \nQ 20.21875 74.21875 32.171875 74.21875 \nQ 37.3125 74.21875 42.625 73.28125 \nQ 47.953125 72.359375 53.515625 70.515625 \nz\n\" id=\"DejaVuSans-83\"/>\n      <path d=\"M 34.28125 27.484375 \nQ 23.390625 27.484375 19.1875 25 \nQ 14.984375 22.515625 14.984375 16.5 \nQ 14.984375 11.71875 18.140625 8.90625 \nQ 21.296875 6.109375 26.703125 6.109375 \nQ 34.1875 6.109375 38.703125 11.40625 \nQ 43.21875 16.703125 43.21875 25.484375 \nL 43.21875 27.484375 \nz\nM 52.203125 31.203125 \nL 52.203125 0 \nL 43.21875 0 \nL 43.21875 8.296875 \nQ 40.140625 3.328125 35.546875 0.953125 \nQ 30.953125 -1.421875 24.3125 -1.421875 \nQ 15.921875 -1.421875 10.953125 3.296875 \nQ 6 8.015625 6 15.921875 \nQ 6 25.140625 12.171875 29.828125 \nQ 18.359375 34.515625 30.609375 34.515625 \nL 43.21875 34.515625 \nL 43.21875 35.40625 \nQ 43.21875 41.609375 39.140625 45 \nQ 35.0625 48.390625 27.6875 48.390625 \nQ 23 48.390625 18.546875 47.265625 \nQ 14.109375 46.140625 10.015625 43.890625 \nL 10.015625 52.203125 \nQ 14.9375 54.109375 19.578125 55.046875 \nQ 24.21875 56 28.609375 56 \nQ 40.484375 56 46.34375 49.84375 \nQ 52.203125 43.703125 52.203125 31.203125 \nz\n\" id=\"DejaVuSans-97\"/>\n      <path d=\"M 52 44.1875 \nQ 55.375 50.25 60.0625 53.125 \nQ 64.75 56 71.09375 56 \nQ 79.640625 56 84.28125 50.015625 \nQ 88.921875 44.046875 88.921875 33.015625 \nL 88.921875 0 \nL 79.890625 0 \nL 79.890625 32.71875 \nQ 79.890625 40.578125 77.09375 44.375 \nQ 74.3125 48.1875 68.609375 48.1875 \nQ 61.625 48.1875 57.5625 43.546875 \nQ 53.515625 38.921875 53.515625 30.90625 \nL 53.515625 0 \nL 44.484375 0 \nL 44.484375 32.71875 \nQ 44.484375 40.625 41.703125 44.40625 \nQ 38.921875 48.1875 33.109375 48.1875 \nQ 26.21875 48.1875 22.15625 43.53125 \nQ 18.109375 38.875 18.109375 30.90625 \nL 18.109375 0 \nL 9.078125 0 \nL 9.078125 54.6875 \nL 18.109375 54.6875 \nL 18.109375 46.1875 \nQ 21.1875 51.21875 25.484375 53.609375 \nQ 29.78125 56 35.6875 56 \nQ 41.65625 56 45.828125 52.96875 \nQ 50 49.953125 52 44.1875 \nz\n\" id=\"DejaVuSans-109\"/>\n      <path d=\"M 18.109375 8.203125 \nL 18.109375 -20.796875 \nL 9.078125 -20.796875 \nL 9.078125 54.6875 \nL 18.109375 54.6875 \nL 18.109375 46.390625 \nQ 20.953125 51.265625 25.265625 53.625 \nQ 29.59375 56 35.59375 56 \nQ 45.5625 56 51.78125 48.09375 \nQ 58.015625 40.1875 58.015625 27.296875 \nQ 58.015625 14.40625 51.78125 6.484375 \nQ 45.5625 -1.421875 35.59375 -1.421875 \nQ 29.59375 -1.421875 25.265625 0.953125 \nQ 20.953125 3.328125 18.109375 8.203125 \nz\nM 48.6875 27.296875 \nQ 48.6875 37.203125 44.609375 42.84375 \nQ 40.53125 48.484375 33.40625 48.484375 \nQ 26.265625 48.484375 22.1875 42.84375 \nQ 18.109375 37.203125 18.109375 27.296875 \nQ 18.109375 17.390625 22.1875 11.75 \nQ 26.265625 6.109375 33.40625 6.109375 \nQ 40.53125 6.109375 44.609375 11.75 \nQ 48.6875 17.390625 48.6875 27.296875 \nz\n\" id=\"DejaVuSans-112\"/>\n      <path d=\"M 9.421875 75.984375 \nL 18.40625 75.984375 \nL 18.40625 0 \nL 9.421875 0 \nz\n\" id=\"DejaVuSans-108\"/>\n      <path d=\"M 56.203125 29.59375 \nL 56.203125 25.203125 \nL 14.890625 25.203125 \nQ 15.484375 15.921875 20.484375 11.0625 \nQ 25.484375 6.203125 34.421875 6.203125 \nQ 39.59375 6.203125 44.453125 7.46875 \nQ 49.3125 8.734375 54.109375 11.28125 \nL 54.109375 2.78125 \nQ 49.265625 0.734375 44.1875 -0.34375 \nQ 39.109375 -1.421875 33.890625 -1.421875 \nQ 20.796875 -1.421875 13.15625 6.1875 \nQ 5.515625 13.8125 5.515625 26.8125 \nQ 5.515625 40.234375 12.765625 48.109375 \nQ 20.015625 56 32.328125 56 \nQ 43.359375 56 49.78125 48.890625 \nQ 56.203125 41.796875 56.203125 29.59375 \nz\nM 47.21875 32.234375 \nQ 47.125 39.59375 43.09375 43.984375 \nQ 39.0625 48.390625 32.421875 48.390625 \nQ 24.90625 48.390625 20.390625 44.140625 \nQ 15.875 39.890625 15.1875 32.171875 \nz\n\" id=\"DejaVuSans-101\"/>\n      <path id=\"DejaVuSans-32\"/>\n      <path d=\"M 51.125 44 \nL 36.921875 44 \nL 32.8125 27.6875 \nL 47.125 27.6875 \nz\nM 43.796875 71.78125 \nL 38.71875 51.515625 \nL 52.984375 51.515625 \nL 58.109375 71.78125 \nL 65.921875 71.78125 \nL 60.890625 51.515625 \nL 76.125 51.515625 \nL 76.125 44 \nL 58.984375 44 \nL 54.984375 27.6875 \nL 70.515625 27.6875 \nL 70.515625 20.21875 \nL 53.078125 20.21875 \nL 48 0 \nL 40.1875 0 \nL 45.21875 20.21875 \nL 30.90625 20.21875 \nL 25.875 0 \nL 18.015625 0 \nL 23.09375 20.21875 \nL 7.71875 20.21875 \nL 7.71875 27.6875 \nL 24.90625 27.6875 \nL 29 44 \nL 13.28125 44 \nL 13.28125 51.515625 \nL 30.90625 51.515625 \nL 35.890625 71.78125 \nz\n\" id=\"DejaVuSans-35\"/>\n     </defs>\n     <g transform=\"translate(128.031923 539.834687)scale(0.1 -0.1)\">\n      <use xlink:href=\"#DejaVuSans-83\"/>\n      <use x=\"63.476562\" xlink:href=\"#DejaVuSans-97\"/>\n      <use x=\"124.755859\" xlink:href=\"#DejaVuSans-109\"/>\n      <use x=\"222.167969\" xlink:href=\"#DejaVuSans-112\"/>\n      <use x=\"285.644531\" xlink:href=\"#DejaVuSans-108\"/>\n      <use x=\"313.427734\" xlink:href=\"#DejaVuSans-101\"/>\n      <use x=\"374.951172\" xlink:href=\"#DejaVuSans-32\"/>\n      <use x=\"406.738281\" xlink:href=\"#DejaVuSans-35\"/>\n     </g>\n    </g>\n   </g>\n   <g id=\"matplotlib.axis_2\">\n    <g id=\"ytick_1\">\n     <g id=\"line2d_6\">\n      <defs>\n       <path d=\"M 0 0 \nL -3.5 0 \n\" id=\"m7dac0412a8\" style=\"stroke:#000000;stroke-width:0.8;\"/>\n      </defs>\n      <g>\n       <use style=\"stroke:#000000;stroke-width:0.8;\" x=\"75.59375\" xlink:href=\"#m7dac0412a8\" y=\"467.486488\"/>\n      </g>\n     </g>\n     <g id=\"text_7\">\n      <!-- 0.000555 -->\n      <defs>\n       <path d=\"M 10.6875 12.40625 \nL 21 12.40625 \nL 21 0 \nL 10.6875 0 \nz\n\" id=\"DejaVuSans-46\"/>\n      </defs>\n      <g transform=\"translate(20.878125 471.285707)scale(0.1 -0.1)\">\n       <use xlink:href=\"#DejaVuSans-48\"/>\n       <use x=\"63.623047\" xlink:href=\"#DejaVuSans-46\"/>\n       <use x=\"95.410156\" xlink:href=\"#DejaVuSans-48\"/>\n       <use x=\"159.033203\" xlink:href=\"#DejaVuSans-48\"/>\n       <use x=\"222.65625\" xlink:href=\"#DejaVuSans-48\"/>\n       <use x=\"286.279297\" xlink:href=\"#DejaVuSans-53\"/>\n       <use x=\"349.902344\" xlink:href=\"#DejaVuSans-53\"/>\n       <use x=\"413.525391\" xlink:href=\"#DejaVuSans-53\"/>\n      </g>\n     </g>\n    </g>\n    <g id=\"ytick_2\">\n     <g id=\"line2d_7\">\n      <g>\n       <use style=\"stroke:#000000;stroke-width:0.8;\" x=\"75.59375\" xlink:href=\"#m7dac0412a8\" y=\"389.614342\"/>\n      </g>\n     </g>\n     <g id=\"text_8\">\n      <!-- 0.000560 -->\n      <defs>\n       <path d=\"M 33.015625 40.375 \nQ 26.375 40.375 22.484375 35.828125 \nQ 18.609375 31.296875 18.609375 23.390625 \nQ 18.609375 15.53125 22.484375 10.953125 \nQ 26.375 6.390625 33.015625 6.390625 \nQ 39.65625 6.390625 43.53125 10.953125 \nQ 47.40625 15.53125 47.40625 23.390625 \nQ 47.40625 31.296875 43.53125 35.828125 \nQ 39.65625 40.375 33.015625 40.375 \nz\nM 52.59375 71.296875 \nL 52.59375 62.3125 \nQ 48.875 64.0625 45.09375 64.984375 \nQ 41.3125 65.921875 37.59375 65.921875 \nQ 27.828125 65.921875 22.671875 59.328125 \nQ 17.53125 52.734375 16.796875 39.40625 \nQ 19.671875 43.65625 24.015625 45.921875 \nQ 28.375 48.1875 33.59375 48.1875 \nQ 44.578125 48.1875 50.953125 41.515625 \nQ 57.328125 34.859375 57.328125 23.390625 \nQ 57.328125 12.15625 50.6875 5.359375 \nQ 44.046875 -1.421875 33.015625 -1.421875 \nQ 20.359375 -1.421875 13.671875 8.265625 \nQ 6.984375 17.96875 6.984375 36.375 \nQ 6.984375 53.65625 15.1875 63.9375 \nQ 23.390625 74.21875 37.203125 74.21875 \nQ 40.921875 74.21875 44.703125 73.484375 \nQ 48.484375 72.75 52.59375 71.296875 \nz\n\" id=\"DejaVuSans-54\"/>\n      </defs>\n      <g transform=\"translate(20.878125 393.413561)scale(0.1 -0.1)\">\n       <use xlink:href=\"#DejaVuSans-48\"/>\n       <use x=\"63.623047\" xlink:href=\"#DejaVuSans-46\"/>\n       <use x=\"95.410156\" xlink:href=\"#DejaVuSans-48\"/>\n       <use x=\"159.033203\" xlink:href=\"#DejaVuSans-48\"/>\n       <use x=\"222.65625\" xlink:href=\"#DejaVuSans-48\"/>\n       <use x=\"286.279297\" xlink:href=\"#DejaVuSans-53\"/>\n       <use x=\"349.902344\" xlink:href=\"#DejaVuSans-54\"/>\n       <use x=\"413.525391\" xlink:href=\"#DejaVuSans-48\"/>\n      </g>\n     </g>\n    </g>\n    <g id=\"ytick_3\">\n     <g id=\"line2d_8\">\n      <g>\n       <use style=\"stroke:#000000;stroke-width:0.8;\" x=\"75.59375\" xlink:href=\"#m7dac0412a8\" y=\"311.742196\"/>\n      </g>\n     </g>\n     <g id=\"text_9\">\n      <!-- 0.000565 -->\n      <g transform=\"translate(20.878125 315.541414)scale(0.1 -0.1)\">\n       <use xlink:href=\"#DejaVuSans-48\"/>\n       <use x=\"63.623047\" xlink:href=\"#DejaVuSans-46\"/>\n       <use x=\"95.410156\" xlink:href=\"#DejaVuSans-48\"/>\n       <use x=\"159.033203\" xlink:href=\"#DejaVuSans-48\"/>\n       <use x=\"222.65625\" xlink:href=\"#DejaVuSans-48\"/>\n       <use x=\"286.279297\" xlink:href=\"#DejaVuSans-53\"/>\n       <use x=\"349.902344\" xlink:href=\"#DejaVuSans-54\"/>\n       <use x=\"413.525391\" xlink:href=\"#DejaVuSans-53\"/>\n      </g>\n     </g>\n    </g>\n    <g id=\"ytick_4\">\n     <g id=\"line2d_9\">\n      <g>\n       <use style=\"stroke:#000000;stroke-width:0.8;\" x=\"75.59375\" xlink:href=\"#m7dac0412a8\" y=\"233.870049\"/>\n      </g>\n     </g>\n     <g id=\"text_10\">\n      <!-- 0.000570 -->\n      <g transform=\"translate(20.878125 237.669268)scale(0.1 -0.1)\">\n       <use xlink:href=\"#DejaVuSans-48\"/>\n       <use x=\"63.623047\" xlink:href=\"#DejaVuSans-46\"/>\n       <use x=\"95.410156\" xlink:href=\"#DejaVuSans-48\"/>\n       <use x=\"159.033203\" xlink:href=\"#DejaVuSans-48\"/>\n       <use x=\"222.65625\" xlink:href=\"#DejaVuSans-48\"/>\n       <use x=\"286.279297\" xlink:href=\"#DejaVuSans-53\"/>\n       <use x=\"349.902344\" xlink:href=\"#DejaVuSans-55\"/>\n       <use x=\"413.525391\" xlink:href=\"#DejaVuSans-48\"/>\n      </g>\n     </g>\n    </g>\n    <g id=\"ytick_5\">\n     <g id=\"line2d_10\">\n      <g>\n       <use style=\"stroke:#000000;stroke-width:0.8;\" x=\"75.59375\" xlink:href=\"#m7dac0412a8\" y=\"155.997903\"/>\n      </g>\n     </g>\n     <g id=\"text_11\">\n      <!-- 0.000575 -->\n      <g transform=\"translate(20.878125 159.797122)scale(0.1 -0.1)\">\n       <use xlink:href=\"#DejaVuSans-48\"/>\n       <use x=\"63.623047\" xlink:href=\"#DejaVuSans-46\"/>\n       <use x=\"95.410156\" xlink:href=\"#DejaVuSans-48\"/>\n       <use x=\"159.033203\" xlink:href=\"#DejaVuSans-48\"/>\n       <use x=\"222.65625\" xlink:href=\"#DejaVuSans-48\"/>\n       <use x=\"286.279297\" xlink:href=\"#DejaVuSans-53\"/>\n       <use x=\"349.902344\" xlink:href=\"#DejaVuSans-55\"/>\n       <use x=\"413.525391\" xlink:href=\"#DejaVuSans-53\"/>\n      </g>\n     </g>\n    </g>\n    <g id=\"ytick_6\">\n     <g id=\"line2d_11\">\n      <g>\n       <use style=\"stroke:#000000;stroke-width:0.8;\" x=\"75.59375\" xlink:href=\"#m7dac0412a8\" y=\"78.125757\"/>\n      </g>\n     </g>\n     <g id=\"text_12\">\n      <!-- 0.000580 -->\n      <defs>\n       <path d=\"M 31.78125 34.625 \nQ 24.75 34.625 20.71875 30.859375 \nQ 16.703125 27.09375 16.703125 20.515625 \nQ 16.703125 13.921875 20.71875 10.15625 \nQ 24.75 6.390625 31.78125 6.390625 \nQ 38.8125 6.390625 42.859375 10.171875 \nQ 46.921875 13.96875 46.921875 20.515625 \nQ 46.921875 27.09375 42.890625 30.859375 \nQ 38.875 34.625 31.78125 34.625 \nz\nM 21.921875 38.8125 \nQ 15.578125 40.375 12.03125 44.71875 \nQ 8.5 49.078125 8.5 55.328125 \nQ 8.5 64.0625 14.71875 69.140625 \nQ 20.953125 74.21875 31.78125 74.21875 \nQ 42.671875 74.21875 48.875 69.140625 \nQ 55.078125 64.0625 55.078125 55.328125 \nQ 55.078125 49.078125 51.53125 44.71875 \nQ 48 40.375 41.703125 38.8125 \nQ 48.828125 37.15625 52.796875 32.3125 \nQ 56.78125 27.484375 56.78125 20.515625 \nQ 56.78125 9.90625 50.3125 4.234375 \nQ 43.84375 -1.421875 31.78125 -1.421875 \nQ 19.734375 -1.421875 13.25 4.234375 \nQ 6.78125 9.90625 6.78125 20.515625 \nQ 6.78125 27.484375 10.78125 32.3125 \nQ 14.796875 37.15625 21.921875 38.8125 \nz\nM 18.3125 54.390625 \nQ 18.3125 48.734375 21.84375 45.5625 \nQ 25.390625 42.390625 31.78125 42.390625 \nQ 38.140625 42.390625 41.71875 45.5625 \nQ 45.3125 48.734375 45.3125 54.390625 \nQ 45.3125 60.0625 41.71875 63.234375 \nQ 38.140625 66.40625 31.78125 66.40625 \nQ 25.390625 66.40625 21.84375 63.234375 \nQ 18.3125 60.0625 18.3125 54.390625 \nz\n\" id=\"DejaVuSans-56\"/>\n      </defs>\n      <g transform=\"translate(20.878125 81.924976)scale(0.1 -0.1)\">\n       <use xlink:href=\"#DejaVuSans-48\"/>\n       <use x=\"63.623047\" xlink:href=\"#DejaVuSans-46\"/>\n       <use x=\"95.410156\" xlink:href=\"#DejaVuSans-48\"/>\n       <use x=\"159.033203\" xlink:href=\"#DejaVuSans-48\"/>\n       <use x=\"222.65625\" xlink:href=\"#DejaVuSans-48\"/>\n       <use x=\"286.279297\" xlink:href=\"#DejaVuSans-53\"/>\n       <use x=\"349.902344\" xlink:href=\"#DejaVuSans-56\"/>\n       <use x=\"413.525391\" xlink:href=\"#DejaVuSans-48\"/>\n      </g>\n     </g>\n    </g>\n    <g id=\"text_13\">\n     <!-- Variance of Sampling mean -->\n     <defs>\n      <path d=\"M 28.609375 0 \nL 0.78125 72.90625 \nL 11.078125 72.90625 \nL 34.1875 11.53125 \nL 57.328125 72.90625 \nL 67.578125 72.90625 \nL 39.796875 0 \nz\n\" id=\"DejaVuSans-86\"/>\n      <path d=\"M 41.109375 46.296875 \nQ 39.59375 47.171875 37.8125 47.578125 \nQ 36.03125 48 33.890625 48 \nQ 26.265625 48 22.1875 43.046875 \nQ 18.109375 38.09375 18.109375 28.8125 \nL 18.109375 0 \nL 9.078125 0 \nL 9.078125 54.6875 \nL 18.109375 54.6875 \nL 18.109375 46.1875 \nQ 20.953125 51.171875 25.484375 53.578125 \nQ 30.03125 56 36.53125 56 \nQ 37.453125 56 38.578125 55.875 \nQ 39.703125 55.765625 41.0625 55.515625 \nz\n\" id=\"DejaVuSans-114\"/>\n      <path d=\"M 9.421875 54.6875 \nL 18.40625 54.6875 \nL 18.40625 0 \nL 9.421875 0 \nz\nM 9.421875 75.984375 \nL 18.40625 75.984375 \nL 18.40625 64.59375 \nL 9.421875 64.59375 \nz\n\" id=\"DejaVuSans-105\"/>\n      <path d=\"M 54.890625 33.015625 \nL 54.890625 0 \nL 45.90625 0 \nL 45.90625 32.71875 \nQ 45.90625 40.484375 42.875 44.328125 \nQ 39.84375 48.1875 33.796875 48.1875 \nQ 26.515625 48.1875 22.3125 43.546875 \nQ 18.109375 38.921875 18.109375 30.90625 \nL 18.109375 0 \nL 9.078125 0 \nL 9.078125 54.6875 \nL 18.109375 54.6875 \nL 18.109375 46.1875 \nQ 21.34375 51.125 25.703125 53.5625 \nQ 30.078125 56 35.796875 56 \nQ 45.21875 56 50.046875 50.171875 \nQ 54.890625 44.34375 54.890625 33.015625 \nz\n\" id=\"DejaVuSans-110\"/>\n      <path d=\"M 48.78125 52.59375 \nL 48.78125 44.1875 \nQ 44.96875 46.296875 41.140625 47.34375 \nQ 37.3125 48.390625 33.40625 48.390625 \nQ 24.65625 48.390625 19.8125 42.84375 \nQ 14.984375 37.3125 14.984375 27.296875 \nQ 14.984375 17.28125 19.8125 11.734375 \nQ 24.65625 6.203125 33.40625 6.203125 \nQ 37.3125 6.203125 41.140625 7.25 \nQ 44.96875 8.296875 48.78125 10.40625 \nL 48.78125 2.09375 \nQ 45.015625 0.34375 40.984375 -0.53125 \nQ 36.96875 -1.421875 32.421875 -1.421875 \nQ 20.0625 -1.421875 12.78125 6.34375 \nQ 5.515625 14.109375 5.515625 27.296875 \nQ 5.515625 40.671875 12.859375 48.328125 \nQ 20.21875 56 33.015625 56 \nQ 37.15625 56 41.109375 55.140625 \nQ 45.0625 54.296875 48.78125 52.59375 \nz\n\" id=\"DejaVuSans-99\"/>\n      <path d=\"M 30.609375 48.390625 \nQ 23.390625 48.390625 19.1875 42.75 \nQ 14.984375 37.109375 14.984375 27.296875 \nQ 14.984375 17.484375 19.15625 11.84375 \nQ 23.34375 6.203125 30.609375 6.203125 \nQ 37.796875 6.203125 41.984375 11.859375 \nQ 46.1875 17.53125 46.1875 27.296875 \nQ 46.1875 37.015625 41.984375 42.703125 \nQ 37.796875 48.390625 30.609375 48.390625 \nz\nM 30.609375 56 \nQ 42.328125 56 49.015625 48.375 \nQ 55.71875 40.765625 55.71875 27.296875 \nQ 55.71875 13.875 49.015625 6.21875 \nQ 42.328125 -1.421875 30.609375 -1.421875 \nQ 18.84375 -1.421875 12.171875 6.21875 \nQ 5.515625 13.875 5.515625 27.296875 \nQ 5.515625 40.765625 12.171875 48.375 \nQ 18.84375 56 30.609375 56 \nz\n\" id=\"DejaVuSans-111\"/>\n      <path d=\"M 37.109375 75.984375 \nL 37.109375 68.5 \nL 28.515625 68.5 \nQ 23.6875 68.5 21.796875 66.546875 \nQ 19.921875 64.59375 19.921875 59.515625 \nL 19.921875 54.6875 \nL 34.71875 54.6875 \nL 34.71875 47.703125 \nL 19.921875 47.703125 \nL 19.921875 0 \nL 10.890625 0 \nL 10.890625 47.703125 \nL 2.296875 47.703125 \nL 2.296875 54.6875 \nL 10.890625 54.6875 \nL 10.890625 58.5 \nQ 10.890625 67.625 15.140625 71.796875 \nQ 19.390625 75.984375 28.609375 75.984375 \nz\n\" id=\"DejaVuSans-102\"/>\n      <path d=\"M 45.40625 27.984375 \nQ 45.40625 37.75 41.375 43.109375 \nQ 37.359375 48.484375 30.078125 48.484375 \nQ 22.859375 48.484375 18.828125 43.109375 \nQ 14.796875 37.75 14.796875 27.984375 \nQ 14.796875 18.265625 18.828125 12.890625 \nQ 22.859375 7.515625 30.078125 7.515625 \nQ 37.359375 7.515625 41.375 12.890625 \nQ 45.40625 18.265625 45.40625 27.984375 \nz\nM 54.390625 6.78125 \nQ 54.390625 -7.171875 48.1875 -13.984375 \nQ 42 -20.796875 29.203125 -20.796875 \nQ 24.46875 -20.796875 20.265625 -20.09375 \nQ 16.0625 -19.390625 12.109375 -17.921875 \nL 12.109375 -9.1875 \nQ 16.0625 -11.328125 19.921875 -12.34375 \nQ 23.78125 -13.375 27.78125 -13.375 \nQ 36.625 -13.375 41.015625 -8.765625 \nQ 45.40625 -4.15625 45.40625 5.171875 \nL 45.40625 9.625 \nQ 42.625 4.78125 38.28125 2.390625 \nQ 33.9375 0 27.875 0 \nQ 17.828125 0 11.671875 7.65625 \nQ 5.515625 15.328125 5.515625 27.984375 \nQ 5.515625 40.671875 11.671875 48.328125 \nQ 17.828125 56 27.875 56 \nQ 33.9375 56 38.28125 53.609375 \nQ 42.625 51.21875 45.40625 46.390625 \nL 45.40625 54.6875 \nL 54.390625 54.6875 \nz\n\" id=\"DejaVuSans-103\"/>\n     </defs>\n     <g transform=\"translate(14.798437 335.708437)rotate(-90)scale(0.1 -0.1)\">\n      <use xlink:href=\"#DejaVuSans-86\"/>\n      <use x=\"60.658203\" xlink:href=\"#DejaVuSans-97\"/>\n      <use x=\"121.9375\" xlink:href=\"#DejaVuSans-114\"/>\n      <use x=\"163.050781\" xlink:href=\"#DejaVuSans-105\"/>\n      <use x=\"190.833984\" xlink:href=\"#DejaVuSans-97\"/>\n      <use x=\"252.113281\" xlink:href=\"#DejaVuSans-110\"/>\n      <use x=\"315.492188\" xlink:href=\"#DejaVuSans-99\"/>\n      <use x=\"370.472656\" xlink:href=\"#DejaVuSans-101\"/>\n      <use x=\"431.996094\" xlink:href=\"#DejaVuSans-32\"/>\n      <use x=\"463.783203\" xlink:href=\"#DejaVuSans-111\"/>\n      <use x=\"524.964844\" xlink:href=\"#DejaVuSans-102\"/>\n      <use x=\"560.169922\" xlink:href=\"#DejaVuSans-32\"/>\n      <use x=\"591.957031\" xlink:href=\"#DejaVuSans-83\"/>\n      <use x=\"655.433594\" xlink:href=\"#DejaVuSans-97\"/>\n      <use x=\"716.712891\" xlink:href=\"#DejaVuSans-109\"/>\n      <use x=\"814.125\" xlink:href=\"#DejaVuSans-112\"/>\n      <use x=\"877.601562\" xlink:href=\"#DejaVuSans-108\"/>\n      <use x=\"905.384766\" xlink:href=\"#DejaVuSans-105\"/>\n      <use x=\"933.167969\" xlink:href=\"#DejaVuSans-110\"/>\n      <use x=\"996.546875\" xlink:href=\"#DejaVuSans-103\"/>\n      <use x=\"1060.023438\" xlink:href=\"#DejaVuSans-32\"/>\n      <use x=\"1091.810547\" xlink:href=\"#DejaVuSans-109\"/>\n      <use x=\"1189.222656\" xlink:href=\"#DejaVuSans-101\"/>\n      <use x=\"1250.746094\" xlink:href=\"#DejaVuSans-97\"/>\n      <use x=\"1312.025391\" xlink:href=\"#DejaVuSans-110\"/>\n     </g>\n    </g>\n   </g>\n   <g id=\"line2d_12\">\n    <path clip-path=\"url(#pdb48c2c3d6)\" d=\"M 75.59375 380.127847 \nL 229.524784 380.127847 \n\" style=\"fill:none;stroke:#1f77b4;stroke-linecap:square;stroke-width:1.5;\"/>\n   </g>\n   <g id=\"line2d_13\">\n    <path clip-path=\"url(#pdb48c2c3d6)\" d=\"M 75.59375 44.556307 \nL 229.524784 44.556307 \n\" style=\"fill:none;stroke:#ff0000;stroke-linecap:square;stroke-width:1.5;\"/>\n   </g>\n   <g id=\"patch_3\">\n    <path d=\"M 75.59375 511.558125 \nL 75.59375 22.318125 \n\" style=\"fill:none;stroke:#000000;stroke-linecap:square;stroke-linejoin:miter;stroke-width:0.8;\"/>\n   </g>\n   <g id=\"patch_4\">\n    <path d=\"M 229.524784 511.558125 \nL 229.524784 22.318125 \n\" style=\"fill:none;stroke:#000000;stroke-linecap:square;stroke-linejoin:miter;stroke-width:0.8;\"/>\n   </g>\n   <g id=\"patch_5\">\n    <path d=\"M 75.59375 511.558125 \nL 229.524784 511.558125 \n\" style=\"fill:none;stroke:#000000;stroke-linecap:square;stroke-linejoin:miter;stroke-width:0.8;\"/>\n   </g>\n   <g id=\"patch_6\">\n    <path d=\"M 75.59375 22.318125 \nL 229.524784 22.318125 \n\" style=\"fill:none;stroke:#000000;stroke-linecap:square;stroke-linejoin:miter;stroke-width:0.8;\"/>\n   </g>\n   <g id=\"text_14\">\n    <!-- Variance in 15000 samples -->\n    <defs>\n     <path d=\"M 44.28125 53.078125 \nL 44.28125 44.578125 \nQ 40.484375 46.53125 36.375 47.5 \nQ 32.28125 48.484375 27.875 48.484375 \nQ 21.1875 48.484375 17.84375 46.4375 \nQ 14.5 44.390625 14.5 40.28125 \nQ 14.5 37.15625 16.890625 35.375 \nQ 19.28125 33.59375 26.515625 31.984375 \nL 29.59375 31.296875 \nQ 39.15625 29.25 43.1875 25.515625 \nQ 47.21875 21.78125 47.21875 15.09375 \nQ 47.21875 7.46875 41.1875 3.015625 \nQ 35.15625 -1.421875 24.609375 -1.421875 \nQ 20.21875 -1.421875 15.453125 -0.5625 \nQ 10.6875 0.296875 5.421875 2 \nL 5.421875 11.28125 \nQ 10.40625 8.6875 15.234375 7.390625 \nQ 20.0625 6.109375 24.8125 6.109375 \nQ 31.15625 6.109375 34.5625 8.28125 \nQ 37.984375 10.453125 37.984375 14.40625 \nQ 37.984375 18.0625 35.515625 20.015625 \nQ 33.0625 21.96875 24.703125 23.78125 \nL 21.578125 24.515625 \nQ 13.234375 26.265625 9.515625 29.90625 \nQ 5.8125 33.546875 5.8125 39.890625 \nQ 5.8125 47.609375 11.28125 51.796875 \nQ 16.75 56 26.8125 56 \nQ 31.78125 56 36.171875 55.265625 \nQ 40.578125 54.546875 44.28125 53.078125 \nz\n\" id=\"DejaVuSans-115\"/>\n    </defs>\n    <g transform=\"translate(71.421455 16.318125)scale(0.12 -0.12)\">\n     <use xlink:href=\"#DejaVuSans-86\"/>\n     <use x=\"60.658203\" xlink:href=\"#DejaVuSans-97\"/>\n     <use x=\"121.9375\" xlink:href=\"#DejaVuSans-114\"/>\n     <use x=\"163.050781\" xlink:href=\"#DejaVuSans-105\"/>\n     <use x=\"190.833984\" xlink:href=\"#DejaVuSans-97\"/>\n     <use x=\"252.113281\" xlink:href=\"#DejaVuSans-110\"/>\n     <use x=\"315.492188\" xlink:href=\"#DejaVuSans-99\"/>\n     <use x=\"370.472656\" xlink:href=\"#DejaVuSans-101\"/>\n     <use x=\"431.996094\" xlink:href=\"#DejaVuSans-32\"/>\n     <use x=\"463.783203\" xlink:href=\"#DejaVuSans-105\"/>\n     <use x=\"491.566406\" xlink:href=\"#DejaVuSans-110\"/>\n     <use x=\"554.945312\" xlink:href=\"#DejaVuSans-32\"/>\n     <use x=\"586.732422\" xlink:href=\"#DejaVuSans-49\"/>\n     <use x=\"650.355469\" xlink:href=\"#DejaVuSans-53\"/>\n     <use x=\"713.978516\" xlink:href=\"#DejaVuSans-48\"/>\n     <use x=\"777.601562\" xlink:href=\"#DejaVuSans-48\"/>\n     <use x=\"841.224609\" xlink:href=\"#DejaVuSans-48\"/>\n     <use x=\"904.847656\" xlink:href=\"#DejaVuSans-32\"/>\n     <use x=\"936.634766\" xlink:href=\"#DejaVuSans-115\"/>\n     <use x=\"988.734375\" xlink:href=\"#DejaVuSans-97\"/>\n     <use x=\"1050.013672\" xlink:href=\"#DejaVuSans-109\"/>\n     <use x=\"1147.425781\" xlink:href=\"#DejaVuSans-112\"/>\n     <use x=\"1210.902344\" xlink:href=\"#DejaVuSans-108\"/>\n     <use x=\"1238.685547\" xlink:href=\"#DejaVuSans-101\"/>\n     <use x=\"1300.208984\" xlink:href=\"#DejaVuSans-115\"/>\n    </g>\n   </g>\n  </g>\n  <g id=\"axes_2\">\n   <g id=\"patch_7\">\n    <path d=\"M 260.310991 511.558125 \nL 414.242026 511.558125 \nL 414.242026 22.318125 \nL 260.310991 22.318125 \nz\n\" style=\"fill:#ffffff;\"/>\n   </g>\n   <g id=\"PathCollection_2\">\n    <g clip-path=\"url(#p58506d90b7)\">\n     <use style=\"fill:#1f77b4;stroke:#1f77b4;\" x=\"267.307857\" xlink:href=\"#m82df392d8a\" y=\"157.971281\"/>\n     <use style=\"fill:#1f77b4;stroke:#1f77b4;\" x=\"268.721365\" xlink:href=\"#m82df392d8a\" y=\"132.034262\"/>\n     <use style=\"fill:#1f77b4;stroke:#1f77b4;\" x=\"270.134873\" xlink:href=\"#m82df392d8a\" y=\"90.439529\"/>\n     <use style=\"fill:#1f77b4;stroke:#1f77b4;\" x=\"271.548381\" xlink:href=\"#m82df392d8a\" y=\"123.705199\"/>\n     <use style=\"fill:#1f77b4;stroke:#1f77b4;\" x=\"272.961889\" xlink:href=\"#m82df392d8a\" y=\"67.608137\"/>\n     <use style=\"fill:#1f77b4;stroke:#1f77b4;\" x=\"274.375397\" xlink:href=\"#m82df392d8a\" y=\"100.340067\"/>\n     <use style=\"fill:#1f77b4;stroke:#1f77b4;\" x=\"275.788905\" xlink:href=\"#m82df392d8a\" y=\"109.291599\"/>\n     <use style=\"fill:#1f77b4;stroke:#1f77b4;\" x=\"277.202413\" xlink:href=\"#m82df392d8a\" y=\"70.912855\"/>\n     <use style=\"fill:#1f77b4;stroke:#1f77b4;\" x=\"278.615922\" xlink:href=\"#m82df392d8a\" y=\"87.890262\"/>\n     <use style=\"fill:#1f77b4;stroke:#1f77b4;\" x=\"280.02943\" xlink:href=\"#m82df392d8a\" y=\"129.813324\"/>\n     <use style=\"fill:#1f77b4;stroke:#1f77b4;\" x=\"281.442938\" xlink:href=\"#m82df392d8a\" y=\"97.416534\"/>\n     <use style=\"fill:#1f77b4;stroke:#1f77b4;\" x=\"282.856446\" xlink:href=\"#m82df392d8a\" y=\"86.910438\"/>\n     <use style=\"fill:#1f77b4;stroke:#1f77b4;\" x=\"284.269954\" xlink:href=\"#m82df392d8a\" y=\"117.176915\"/>\n     <use style=\"fill:#1f77b4;stroke:#1f77b4;\" x=\"285.683462\" xlink:href=\"#m82df392d8a\" y=\"158.124808\"/>\n     <use style=\"fill:#1f77b4;stroke:#1f77b4;\" x=\"287.09697\" xlink:href=\"#m82df392d8a\" y=\"124.439723\"/>\n     <use style=\"fill:#1f77b4;stroke:#1f77b4;\" x=\"288.510478\" xlink:href=\"#m82df392d8a\" y=\"90.466773\"/>\n     <use style=\"fill:#1f77b4;stroke:#1f77b4;\" x=\"289.923987\" xlink:href=\"#m82df392d8a\" y=\"147.033539\"/>\n     <use style=\"fill:#1f77b4;stroke:#1f77b4;\" x=\"291.337495\" xlink:href=\"#m82df392d8a\" y=\"134.97357\"/>\n     <use style=\"fill:#1f77b4;stroke:#1f77b4;\" x=\"292.751003\" xlink:href=\"#m82df392d8a\" y=\"110.046675\"/>\n     <use style=\"fill:#1f77b4;stroke:#1f77b4;\" x=\"294.164511\" xlink:href=\"#m82df392d8a\" y=\"89.868391\"/>\n     <use style=\"fill:#1f77b4;stroke:#1f77b4;\" x=\"295.578019\" xlink:href=\"#m82df392d8a\" y=\"117.241095\"/>\n     <use style=\"fill:#1f77b4;stroke:#1f77b4;\" x=\"296.991527\" xlink:href=\"#m82df392d8a\" y=\"136.310994\"/>\n     <use style=\"fill:#1f77b4;stroke:#1f77b4;\" x=\"298.405035\" xlink:href=\"#m82df392d8a\" y=\"93.200338\"/>\n     <use style=\"fill:#1f77b4;stroke:#1f77b4;\" x=\"299.818543\" xlink:href=\"#m82df392d8a\" y=\"53.858343\"/>\n     <use style=\"fill:#1f77b4;stroke:#1f77b4;\" x=\"301.232052\" xlink:href=\"#m82df392d8a\" y=\"98.017167\"/>\n     <use style=\"fill:#1f77b4;stroke:#1f77b4;\" x=\"302.64556\" xlink:href=\"#m82df392d8a\" y=\"105.557113\"/>\n     <use style=\"fill:#1f77b4;stroke:#1f77b4;\" x=\"304.059068\" xlink:href=\"#m82df392d8a\" y=\"76.039738\"/>\n     <use style=\"fill:#1f77b4;stroke:#1f77b4;\" x=\"305.472576\" xlink:href=\"#m82df392d8a\" y=\"114.858411\"/>\n     <use style=\"fill:#1f77b4;stroke:#1f77b4;\" x=\"306.886084\" xlink:href=\"#m82df392d8a\" y=\"103.180738\"/>\n     <use style=\"fill:#1f77b4;stroke:#1f77b4;\" x=\"308.299592\" xlink:href=\"#m82df392d8a\" y=\"112.82301\"/>\n     <use style=\"fill:#1f77b4;stroke:#1f77b4;\" x=\"309.7131\" xlink:href=\"#m82df392d8a\" y=\"125.80453\"/>\n     <use style=\"fill:#1f77b4;stroke:#1f77b4;\" x=\"311.126608\" xlink:href=\"#m82df392d8a\" y=\"133.139397\"/>\n     <use style=\"fill:#1f77b4;stroke:#1f77b4;\" x=\"312.540116\" xlink:href=\"#m82df392d8a\" y=\"177.786598\"/>\n     <use style=\"fill:#1f77b4;stroke:#1f77b4;\" x=\"313.953625\" xlink:href=\"#m82df392d8a\" y=\"60.444782\"/>\n     <use style=\"fill:#1f77b4;stroke:#1f77b4;\" x=\"315.367133\" xlink:href=\"#m82df392d8a\" y=\"154.757131\"/>\n     <use style=\"fill:#1f77b4;stroke:#1f77b4;\" x=\"316.780641\" xlink:href=\"#m82df392d8a\" y=\"160.743062\"/>\n     <use style=\"fill:#1f77b4;stroke:#1f77b4;\" x=\"318.194149\" xlink:href=\"#m82df392d8a\" y=\"132.934967\"/>\n     <use style=\"fill:#1f77b4;stroke:#1f77b4;\" x=\"319.607657\" xlink:href=\"#m82df392d8a\" y=\"140.102991\"/>\n     <use style=\"fill:#1f77b4;stroke:#1f77b4;\" x=\"321.021165\" xlink:href=\"#m82df392d8a\" y=\"88.716881\"/>\n     <use style=\"fill:#1f77b4;stroke:#1f77b4;\" x=\"322.434673\" xlink:href=\"#m82df392d8a\" y=\"117.456607\"/>\n     <use style=\"fill:#1f77b4;stroke:#1f77b4;\" x=\"323.848181\" xlink:href=\"#m82df392d8a\" y=\"171.633956\"/>\n     <use style=\"fill:#1f77b4;stroke:#1f77b4;\" x=\"325.26169\" xlink:href=\"#m82df392d8a\" y=\"121.414421\"/>\n     <use style=\"fill:#1f77b4;stroke:#1f77b4;\" x=\"326.675198\" xlink:href=\"#m82df392d8a\" y=\"143.764217\"/>\n     <use style=\"fill:#1f77b4;stroke:#1f77b4;\" x=\"328.088706\" xlink:href=\"#m82df392d8a\" y=\"138.46448\"/>\n     <use style=\"fill:#1f77b4;stroke:#1f77b4;\" x=\"329.502214\" xlink:href=\"#m82df392d8a\" y=\"132.748442\"/>\n     <use style=\"fill:#1f77b4;stroke:#1f77b4;\" x=\"330.915722\" xlink:href=\"#m82df392d8a\" y=\"87.673906\"/>\n     <use style=\"fill:#1f77b4;stroke:#1f77b4;\" x=\"332.32923\" xlink:href=\"#m82df392d8a\" y=\"122.324397\"/>\n     <use style=\"fill:#1f77b4;stroke:#1f77b4;\" x=\"333.742738\" xlink:href=\"#m82df392d8a\" y=\"114.711604\"/>\n     <use style=\"fill:#1f77b4;stroke:#1f77b4;\" x=\"335.156246\" xlink:href=\"#m82df392d8a\" y=\"96.320598\"/>\n     <use style=\"fill:#1f77b4;stroke:#1f77b4;\" x=\"336.569755\" xlink:href=\"#m82df392d8a\" y=\"44.556307\"/>\n     <use style=\"fill:#1f77b4;stroke:#1f77b4;\" x=\"337.983263\" xlink:href=\"#m82df392d8a\" y=\"124.95201\"/>\n     <use style=\"fill:#1f77b4;stroke:#1f77b4;\" x=\"339.396771\" xlink:href=\"#m82df392d8a\" y=\"115.188363\"/>\n     <use style=\"fill:#1f77b4;stroke:#1f77b4;\" x=\"340.810279\" xlink:href=\"#m82df392d8a\" y=\"131.853662\"/>\n     <use style=\"fill:#1f77b4;stroke:#1f77b4;\" x=\"342.223787\" xlink:href=\"#m82df392d8a\" y=\"129.101955\"/>\n     <use style=\"fill:#1f77b4;stroke:#1f77b4;\" x=\"343.637295\" xlink:href=\"#m82df392d8a\" y=\"90.660963\"/>\n     <use style=\"fill:#1f77b4;stroke:#1f77b4;\" x=\"345.050803\" xlink:href=\"#m82df392d8a\" y=\"153.903314\"/>\n     <use style=\"fill:#1f77b4;stroke:#1f77b4;\" x=\"346.464311\" xlink:href=\"#m82df392d8a\" y=\"118.691145\"/>\n     <use style=\"fill:#1f77b4;stroke:#1f77b4;\" x=\"347.87782\" xlink:href=\"#m82df392d8a\" y=\"70.065471\"/>\n     <use style=\"fill:#1f77b4;stroke:#1f77b4;\" x=\"349.291328\" xlink:href=\"#m82df392d8a\" y=\"115.523286\"/>\n     <use style=\"fill:#1f77b4;stroke:#1f77b4;\" x=\"350.704836\" xlink:href=\"#m82df392d8a\" y=\"113.744745\"/>\n     <use style=\"fill:#1f77b4;stroke:#1f77b4;\" x=\"352.118344\" xlink:href=\"#m82df392d8a\" y=\"126.645058\"/>\n     <use style=\"fill:#1f77b4;stroke:#1f77b4;\" x=\"353.531852\" xlink:href=\"#m82df392d8a\" y=\"95.213612\"/>\n     <use style=\"fill:#1f77b4;stroke:#1f77b4;\" x=\"354.94536\" xlink:href=\"#m82df392d8a\" y=\"125.699076\"/>\n     <use style=\"fill:#1f77b4;stroke:#1f77b4;\" x=\"356.358868\" xlink:href=\"#m82df392d8a\" y=\"62.419761\"/>\n     <use style=\"fill:#1f77b4;stroke:#1f77b4;\" x=\"357.772376\" xlink:href=\"#m82df392d8a\" y=\"88.028618\"/>\n     <use style=\"fill:#1f77b4;stroke:#1f77b4;\" x=\"359.185885\" xlink:href=\"#m82df392d8a\" y=\"95.743705\"/>\n     <use style=\"fill:#1f77b4;stroke:#1f77b4;\" x=\"360.599393\" xlink:href=\"#m82df392d8a\" y=\"137.88351\"/>\n     <use style=\"fill:#1f77b4;stroke:#1f77b4;\" x=\"362.012901\" xlink:href=\"#m82df392d8a\" y=\"101.850729\"/>\n     <use style=\"fill:#1f77b4;stroke:#1f77b4;\" x=\"363.426409\" xlink:href=\"#m82df392d8a\" y=\"76.468377\"/>\n     <use style=\"fill:#1f77b4;stroke:#1f77b4;\" x=\"364.839917\" xlink:href=\"#m82df392d8a\" y=\"127.730918\"/>\n     <use style=\"fill:#1f77b4;stroke:#1f77b4;\" x=\"366.253425\" xlink:href=\"#m82df392d8a\" y=\"110.831403\"/>\n     <use style=\"fill:#1f77b4;stroke:#1f77b4;\" x=\"367.666933\" xlink:href=\"#m82df392d8a\" y=\"96.731758\"/>\n     <use style=\"fill:#1f77b4;stroke:#1f77b4;\" x=\"369.080441\" xlink:href=\"#m82df392d8a\" y=\"90.815679\"/>\n     <use style=\"fill:#1f77b4;stroke:#1f77b4;\" x=\"370.493949\" xlink:href=\"#m82df392d8a\" y=\"124.653966\"/>\n     <use style=\"fill:#1f77b4;stroke:#1f77b4;\" x=\"371.907458\" xlink:href=\"#m82df392d8a\" y=\"147.82117\"/>\n     <use style=\"fill:#1f77b4;stroke:#1f77b4;\" x=\"373.320966\" xlink:href=\"#m82df392d8a\" y=\"99.322588\"/>\n     <use style=\"fill:#1f77b4;stroke:#1f77b4;\" x=\"374.734474\" xlink:href=\"#m82df392d8a\" y=\"76.160918\"/>\n     <use style=\"fill:#1f77b4;stroke:#1f77b4;\" x=\"376.147982\" xlink:href=\"#m82df392d8a\" y=\"106.952621\"/>\n     <use style=\"fill:#1f77b4;stroke:#1f77b4;\" x=\"377.56149\" xlink:href=\"#m82df392d8a\" y=\"129.22004\"/>\n     <use style=\"fill:#1f77b4;stroke:#1f77b4;\" x=\"378.974998\" xlink:href=\"#m82df392d8a\" y=\"154.066736\"/>\n     <use style=\"fill:#1f77b4;stroke:#1f77b4;\" x=\"380.388506\" xlink:href=\"#m82df392d8a\" y=\"99.698553\"/>\n     <use style=\"fill:#1f77b4;stroke:#1f77b4;\" x=\"381.802014\" xlink:href=\"#m82df392d8a\" y=\"55.426136\"/>\n     <use style=\"fill:#1f77b4;stroke:#1f77b4;\" x=\"383.215523\" xlink:href=\"#m82df392d8a\" y=\"60.620097\"/>\n     <use style=\"fill:#1f77b4;stroke:#1f77b4;\" x=\"384.629031\" xlink:href=\"#m82df392d8a\" y=\"124.291896\"/>\n     <use style=\"fill:#1f77b4;stroke:#1f77b4;\" x=\"386.042539\" xlink:href=\"#m82df392d8a\" y=\"125.866809\"/>\n     <use style=\"fill:#1f77b4;stroke:#1f77b4;\" x=\"387.456047\" xlink:href=\"#m82df392d8a\" y=\"114.400585\"/>\n     <use style=\"fill:#1f77b4;stroke:#1f77b4;\" x=\"388.869555\" xlink:href=\"#m82df392d8a\" y=\"103.350846\"/>\n     <use style=\"fill:#1f77b4;stroke:#1f77b4;\" x=\"390.283063\" xlink:href=\"#m82df392d8a\" y=\"102.966355\"/>\n     <use style=\"fill:#1f77b4;stroke:#1f77b4;\" x=\"391.696571\" xlink:href=\"#m82df392d8a\" y=\"136.106393\"/>\n     <use style=\"fill:#1f77b4;stroke:#1f77b4;\" x=\"393.110079\" xlink:href=\"#m82df392d8a\" y=\"149.040565\"/>\n     <use style=\"fill:#1f77b4;stroke:#1f77b4;\" x=\"394.523588\" xlink:href=\"#m82df392d8a\" y=\"98.324058\"/>\n     <use style=\"fill:#1f77b4;stroke:#1f77b4;\" x=\"395.937096\" xlink:href=\"#m82df392d8a\" y=\"80.676157\"/>\n     <use style=\"fill:#1f77b4;stroke:#1f77b4;\" x=\"397.350604\" xlink:href=\"#m82df392d8a\" y=\"150.058671\"/>\n     <use style=\"fill:#1f77b4;stroke:#1f77b4;\" x=\"398.764112\" xlink:href=\"#m82df392d8a\" y=\"62.54527\"/>\n     <use style=\"fill:#1f77b4;stroke:#1f77b4;\" x=\"400.17762\" xlink:href=\"#m82df392d8a\" y=\"115.651879\"/>\n     <use style=\"fill:#1f77b4;stroke:#1f77b4;\" x=\"401.591128\" xlink:href=\"#m82df392d8a\" y=\"86.300637\"/>\n     <use style=\"fill:#1f77b4;stroke:#1f77b4;\" x=\"403.004636\" xlink:href=\"#m82df392d8a\" y=\"175.909692\"/>\n     <use style=\"fill:#1f77b4;stroke:#1f77b4;\" x=\"404.418144\" xlink:href=\"#m82df392d8a\" y=\"141.267892\"/>\n     <use style=\"fill:#1f77b4;stroke:#1f77b4;\" x=\"405.831653\" xlink:href=\"#m82df392d8a\" y=\"107.29774\"/>\n     <use style=\"fill:#1f77b4;stroke:#1f77b4;\" x=\"407.245161\" xlink:href=\"#m82df392d8a\" y=\"113.007226\"/>\n    </g>\n   </g>\n   <g id=\"matplotlib.axis_3\">\n    <g id=\"xtick_6\">\n     <g id=\"line2d_14\">\n      <g>\n       <use style=\"stroke:#000000;stroke-width:0.8;\" x=\"265.894348\" xlink:href=\"#m68ec089b6e\" y=\"511.558125\"/>\n      </g>\n     </g>\n     <g id=\"text_15\">\n      <!-- 0 -->\n      <g transform=\"translate(262.713098 526.156562)scale(0.1 -0.1)\">\n       <use xlink:href=\"#DejaVuSans-48\"/>\n      </g>\n     </g>\n    </g>\n    <g id=\"xtick_7\">\n     <g id=\"line2d_15\">\n      <g>\n       <use style=\"stroke:#000000;stroke-width:0.8;\" x=\"301.232052\" xlink:href=\"#m68ec089b6e\" y=\"511.558125\"/>\n      </g>\n     </g>\n     <g id=\"text_16\">\n      <!-- 25 -->\n      <g transform=\"translate(294.869552 526.156562)scale(0.1 -0.1)\">\n       <use xlink:href=\"#DejaVuSans-50\"/>\n       <use x=\"63.623047\" xlink:href=\"#DejaVuSans-53\"/>\n      </g>\n     </g>\n    </g>\n    <g id=\"xtick_8\">\n     <g id=\"line2d_16\">\n      <g>\n       <use style=\"stroke:#000000;stroke-width:0.8;\" x=\"336.569755\" xlink:href=\"#m68ec089b6e\" y=\"511.558125\"/>\n      </g>\n     </g>\n     <g id=\"text_17\">\n      <!-- 50 -->\n      <g transform=\"translate(330.207255 526.156562)scale(0.1 -0.1)\">\n       <use xlink:href=\"#DejaVuSans-53\"/>\n       <use x=\"63.623047\" xlink:href=\"#DejaVuSans-48\"/>\n      </g>\n     </g>\n    </g>\n    <g id=\"xtick_9\">\n     <g id=\"line2d_17\">\n      <g>\n       <use style=\"stroke:#000000;stroke-width:0.8;\" x=\"371.907458\" xlink:href=\"#m68ec089b6e\" y=\"511.558125\"/>\n      </g>\n     </g>\n     <g id=\"text_18\">\n      <!-- 75 -->\n      <g transform=\"translate(365.544958 526.156562)scale(0.1 -0.1)\">\n       <use xlink:href=\"#DejaVuSans-55\"/>\n       <use x=\"63.623047\" xlink:href=\"#DejaVuSans-53\"/>\n      </g>\n     </g>\n    </g>\n    <g id=\"xtick_10\">\n     <g id=\"line2d_18\">\n      <g>\n       <use style=\"stroke:#000000;stroke-width:0.8;\" x=\"407.245161\" xlink:href=\"#m68ec089b6e\" y=\"511.558125\"/>\n      </g>\n     </g>\n     <g id=\"text_19\">\n      <!-- 100 -->\n      <g transform=\"translate(397.701411 526.156562)scale(0.1 -0.1)\">\n       <use xlink:href=\"#DejaVuSans-49\"/>\n       <use x=\"63.623047\" xlink:href=\"#DejaVuSans-48\"/>\n       <use x=\"127.246094\" xlink:href=\"#DejaVuSans-48\"/>\n      </g>\n     </g>\n    </g>\n    <g id=\"text_20\">\n     <!-- Sample # -->\n     <g transform=\"translate(312.749165 539.834687)scale(0.1 -0.1)\">\n      <use xlink:href=\"#DejaVuSans-83\"/>\n      <use x=\"63.476562\" xlink:href=\"#DejaVuSans-97\"/>\n      <use x=\"124.755859\" xlink:href=\"#DejaVuSans-109\"/>\n      <use x=\"222.167969\" xlink:href=\"#DejaVuSans-112\"/>\n      <use x=\"285.644531\" xlink:href=\"#DejaVuSans-108\"/>\n      <use x=\"313.427734\" xlink:href=\"#DejaVuSans-101\"/>\n      <use x=\"374.951172\" xlink:href=\"#DejaVuSans-32\"/>\n      <use x=\"406.738281\" xlink:href=\"#DejaVuSans-35\"/>\n     </g>\n    </g>\n   </g>\n   <g id=\"matplotlib.axis_4\">\n    <g id=\"ytick_7\">\n     <g id=\"line2d_19\">\n      <g>\n       <use style=\"stroke:#000000;stroke-width:0.8;\" x=\"260.310991\" xlink:href=\"#m7dac0412a8\" y=\"492.985844\"/>\n      </g>\n     </g>\n     <g id=\"text_21\">\n      <!-- 0.00185 -->\n      <g transform=\"translate(211.957866 496.785062)scale(0.1 -0.1)\">\n       <use xlink:href=\"#DejaVuSans-48\"/>\n       <use x=\"63.623047\" xlink:href=\"#DejaVuSans-46\"/>\n       <use x=\"95.410156\" xlink:href=\"#DejaVuSans-48\"/>\n       <use x=\"159.033203\" xlink:href=\"#DejaVuSans-48\"/>\n       <use x=\"222.65625\" xlink:href=\"#DejaVuSans-49\"/>\n       <use x=\"286.279297\" xlink:href=\"#DejaVuSans-56\"/>\n       <use x=\"349.902344\" xlink:href=\"#DejaVuSans-53\"/>\n      </g>\n     </g>\n    </g>\n    <g id=\"ytick_8\">\n     <g id=\"line2d_20\">\n      <g>\n       <use style=\"stroke:#000000;stroke-width:0.8;\" x=\"260.310991\" xlink:href=\"#m7dac0412a8\" y=\"430.10645\"/>\n      </g>\n     </g>\n     <g id=\"text_22\">\n      <!-- 0.00190 -->\n      <defs>\n       <path d=\"M 10.984375 1.515625 \nL 10.984375 10.5 \nQ 14.703125 8.734375 18.5 7.8125 \nQ 22.3125 6.890625 25.984375 6.890625 \nQ 35.75 6.890625 40.890625 13.453125 \nQ 46.046875 20.015625 46.78125 33.40625 \nQ 43.953125 29.203125 39.59375 26.953125 \nQ 35.25 24.703125 29.984375 24.703125 \nQ 19.046875 24.703125 12.671875 31.3125 \nQ 6.296875 37.9375 6.296875 49.421875 \nQ 6.296875 60.640625 12.9375 67.421875 \nQ 19.578125 74.21875 30.609375 74.21875 \nQ 43.265625 74.21875 49.921875 64.515625 \nQ 56.59375 54.828125 56.59375 36.375 \nQ 56.59375 19.140625 48.40625 8.859375 \nQ 40.234375 -1.421875 26.421875 -1.421875 \nQ 22.703125 -1.421875 18.890625 -0.6875 \nQ 15.09375 0.046875 10.984375 1.515625 \nz\nM 30.609375 32.421875 \nQ 37.25 32.421875 41.125 36.953125 \nQ 45.015625 41.5 45.015625 49.421875 \nQ 45.015625 57.28125 41.125 61.84375 \nQ 37.25 66.40625 30.609375 66.40625 \nQ 23.96875 66.40625 20.09375 61.84375 \nQ 16.21875 57.28125 16.21875 49.421875 \nQ 16.21875 41.5 20.09375 36.953125 \nQ 23.96875 32.421875 30.609375 32.421875 \nz\n\" id=\"DejaVuSans-57\"/>\n      </defs>\n      <g transform=\"translate(211.957866 433.905669)scale(0.1 -0.1)\">\n       <use xlink:href=\"#DejaVuSans-48\"/>\n       <use x=\"63.623047\" xlink:href=\"#DejaVuSans-46\"/>\n       <use x=\"95.410156\" xlink:href=\"#DejaVuSans-48\"/>\n       <use x=\"159.033203\" xlink:href=\"#DejaVuSans-48\"/>\n       <use x=\"222.65625\" xlink:href=\"#DejaVuSans-49\"/>\n       <use x=\"286.279297\" xlink:href=\"#DejaVuSans-57\"/>\n       <use x=\"349.902344\" xlink:href=\"#DejaVuSans-48\"/>\n      </g>\n     </g>\n    </g>\n    <g id=\"ytick_9\">\n     <g id=\"line2d_21\">\n      <g>\n       <use style=\"stroke:#000000;stroke-width:0.8;\" x=\"260.310991\" xlink:href=\"#m7dac0412a8\" y=\"367.227057\"/>\n      </g>\n     </g>\n     <g id=\"text_23\">\n      <!-- 0.00195 -->\n      <g transform=\"translate(211.957866 371.026276)scale(0.1 -0.1)\">\n       <use xlink:href=\"#DejaVuSans-48\"/>\n       <use x=\"63.623047\" xlink:href=\"#DejaVuSans-46\"/>\n       <use x=\"95.410156\" xlink:href=\"#DejaVuSans-48\"/>\n       <use x=\"159.033203\" xlink:href=\"#DejaVuSans-48\"/>\n       <use x=\"222.65625\" xlink:href=\"#DejaVuSans-49\"/>\n       <use x=\"286.279297\" xlink:href=\"#DejaVuSans-57\"/>\n       <use x=\"349.902344\" xlink:href=\"#DejaVuSans-53\"/>\n      </g>\n     </g>\n    </g>\n    <g id=\"ytick_10\">\n     <g id=\"line2d_22\">\n      <g>\n       <use style=\"stroke:#000000;stroke-width:0.8;\" x=\"260.310991\" xlink:href=\"#m7dac0412a8\" y=\"304.347664\"/>\n      </g>\n     </g>\n     <g id=\"text_24\">\n      <!-- 0.00200 -->\n      <g transform=\"translate(211.957866 308.146882)scale(0.1 -0.1)\">\n       <use xlink:href=\"#DejaVuSans-48\"/>\n       <use x=\"63.623047\" xlink:href=\"#DejaVuSans-46\"/>\n       <use x=\"95.410156\" xlink:href=\"#DejaVuSans-48\"/>\n       <use x=\"159.033203\" xlink:href=\"#DejaVuSans-48\"/>\n       <use x=\"222.65625\" xlink:href=\"#DejaVuSans-50\"/>\n       <use x=\"286.279297\" xlink:href=\"#DejaVuSans-48\"/>\n       <use x=\"349.902344\" xlink:href=\"#DejaVuSans-48\"/>\n      </g>\n     </g>\n    </g>\n    <g id=\"ytick_11\">\n     <g id=\"line2d_23\">\n      <g>\n       <use style=\"stroke:#000000;stroke-width:0.8;\" x=\"260.310991\" xlink:href=\"#m7dac0412a8\" y=\"241.46827\"/>\n      </g>\n     </g>\n     <g id=\"text_25\">\n      <!-- 0.00205 -->\n      <g transform=\"translate(211.957866 245.267489)scale(0.1 -0.1)\">\n       <use xlink:href=\"#DejaVuSans-48\"/>\n       <use x=\"63.623047\" xlink:href=\"#DejaVuSans-46\"/>\n       <use x=\"95.410156\" xlink:href=\"#DejaVuSans-48\"/>\n       <use x=\"159.033203\" xlink:href=\"#DejaVuSans-48\"/>\n       <use x=\"222.65625\" xlink:href=\"#DejaVuSans-50\"/>\n       <use x=\"286.279297\" xlink:href=\"#DejaVuSans-48\"/>\n       <use x=\"349.902344\" xlink:href=\"#DejaVuSans-53\"/>\n      </g>\n     </g>\n    </g>\n    <g id=\"ytick_12\">\n     <g id=\"line2d_24\">\n      <g>\n       <use style=\"stroke:#000000;stroke-width:0.8;\" x=\"260.310991\" xlink:href=\"#m7dac0412a8\" y=\"178.588877\"/>\n      </g>\n     </g>\n     <g id=\"text_26\">\n      <!-- 0.00210 -->\n      <g transform=\"translate(211.957866 182.388096)scale(0.1 -0.1)\">\n       <use xlink:href=\"#DejaVuSans-48\"/>\n       <use x=\"63.623047\" xlink:href=\"#DejaVuSans-46\"/>\n       <use x=\"95.410156\" xlink:href=\"#DejaVuSans-48\"/>\n       <use x=\"159.033203\" xlink:href=\"#DejaVuSans-48\"/>\n       <use x=\"222.65625\" xlink:href=\"#DejaVuSans-50\"/>\n       <use x=\"286.279297\" xlink:href=\"#DejaVuSans-49\"/>\n       <use x=\"349.902344\" xlink:href=\"#DejaVuSans-48\"/>\n      </g>\n     </g>\n    </g>\n    <g id=\"ytick_13\">\n     <g id=\"line2d_25\">\n      <g>\n       <use style=\"stroke:#000000;stroke-width:0.8;\" x=\"260.310991\" xlink:href=\"#m7dac0412a8\" y=\"115.709484\"/>\n      </g>\n     </g>\n     <g id=\"text_27\">\n      <!-- 0.00215 -->\n      <g transform=\"translate(211.957866 119.508702)scale(0.1 -0.1)\">\n       <use xlink:href=\"#DejaVuSans-48\"/>\n       <use x=\"63.623047\" xlink:href=\"#DejaVuSans-46\"/>\n       <use x=\"95.410156\" xlink:href=\"#DejaVuSans-48\"/>\n       <use x=\"159.033203\" xlink:href=\"#DejaVuSans-48\"/>\n       <use x=\"222.65625\" xlink:href=\"#DejaVuSans-50\"/>\n       <use x=\"286.279297\" xlink:href=\"#DejaVuSans-49\"/>\n       <use x=\"349.902344\" xlink:href=\"#DejaVuSans-53\"/>\n      </g>\n     </g>\n    </g>\n    <g id=\"ytick_14\">\n     <g id=\"line2d_26\">\n      <g>\n       <use style=\"stroke:#000000;stroke-width:0.8;\" x=\"260.310991\" xlink:href=\"#m7dac0412a8\" y=\"52.83009\"/>\n      </g>\n     </g>\n     <g id=\"text_28\">\n      <!-- 0.00220 -->\n      <g transform=\"translate(211.957866 56.629309)scale(0.1 -0.1)\">\n       <use xlink:href=\"#DejaVuSans-48\"/>\n       <use x=\"63.623047\" xlink:href=\"#DejaVuSans-46\"/>\n       <use x=\"95.410156\" xlink:href=\"#DejaVuSans-48\"/>\n       <use x=\"159.033203\" xlink:href=\"#DejaVuSans-48\"/>\n       <use x=\"222.65625\" xlink:href=\"#DejaVuSans-50\"/>\n       <use x=\"286.279297\" xlink:href=\"#DejaVuSans-50\"/>\n       <use x=\"349.902344\" xlink:href=\"#DejaVuSans-48\"/>\n      </g>\n     </g>\n    </g>\n   </g>\n   <g id=\"line2d_27\">\n    <path clip-path=\"url(#p58506d90b7)\" d=\"M 260.310991 112.438027 \nL 414.242026 112.438027 \n\" style=\"fill:none;stroke:#1f77b4;stroke-linecap:square;stroke-width:1.5;\"/>\n   </g>\n   <g id=\"line2d_28\">\n    <path clip-path=\"url(#p58506d90b7)\" d=\"M 260.310991 489.319943 \nL 414.242026 489.319943 \n\" style=\"fill:none;stroke:#ff0000;stroke-linecap:square;stroke-width:1.5;\"/>\n   </g>\n   <g id=\"patch_8\">\n    <path d=\"M 260.310991 511.558125 \nL 260.310991 22.318125 \n\" style=\"fill:none;stroke:#000000;stroke-linecap:square;stroke-linejoin:miter;stroke-width:0.8;\"/>\n   </g>\n   <g id=\"patch_9\">\n    <path d=\"M 414.242026 511.558125 \nL 414.242026 22.318125 \n\" style=\"fill:none;stroke:#000000;stroke-linecap:square;stroke-linejoin:miter;stroke-width:0.8;\"/>\n   </g>\n   <g id=\"patch_10\">\n    <path d=\"M 260.310991 511.558125 \nL 414.242026 511.558125 \n\" style=\"fill:none;stroke:#000000;stroke-linecap:square;stroke-linejoin:miter;stroke-width:0.8;\"/>\n   </g>\n   <g id=\"patch_11\">\n    <path d=\"M 260.310991 22.318125 \nL 414.242026 22.318125 \n\" style=\"fill:none;stroke:#000000;stroke-linecap:square;stroke-linejoin:miter;stroke-width:0.8;\"/>\n   </g>\n   <g id=\"text_29\">\n    <!-- Variance in 10000 samples -->\n    <g transform=\"translate(256.138696 16.318125)scale(0.12 -0.12)\">\n     <use xlink:href=\"#DejaVuSans-86\"/>\n     <use x=\"60.658203\" xlink:href=\"#DejaVuSans-97\"/>\n     <use x=\"121.9375\" xlink:href=\"#DejaVuSans-114\"/>\n     <use x=\"163.050781\" xlink:href=\"#DejaVuSans-105\"/>\n     <use x=\"190.833984\" xlink:href=\"#DejaVuSans-97\"/>\n     <use x=\"252.113281\" xlink:href=\"#DejaVuSans-110\"/>\n     <use x=\"315.492188\" xlink:href=\"#DejaVuSans-99\"/>\n     <use x=\"370.472656\" xlink:href=\"#DejaVuSans-101\"/>\n     <use x=\"431.996094\" xlink:href=\"#DejaVuSans-32\"/>\n     <use x=\"463.783203\" xlink:href=\"#DejaVuSans-105\"/>\n     <use x=\"491.566406\" xlink:href=\"#DejaVuSans-110\"/>\n     <use x=\"554.945312\" xlink:href=\"#DejaVuSans-32\"/>\n     <use x=\"586.732422\" xlink:href=\"#DejaVuSans-49\"/>\n     <use x=\"650.355469\" xlink:href=\"#DejaVuSans-48\"/>\n     <use x=\"713.978516\" xlink:href=\"#DejaVuSans-48\"/>\n     <use x=\"777.601562\" xlink:href=\"#DejaVuSans-48\"/>\n     <use x=\"841.224609\" xlink:href=\"#DejaVuSans-48\"/>\n     <use x=\"904.847656\" xlink:href=\"#DejaVuSans-32\"/>\n     <use x=\"936.634766\" xlink:href=\"#DejaVuSans-115\"/>\n     <use x=\"988.734375\" xlink:href=\"#DejaVuSans-97\"/>\n     <use x=\"1050.013672\" xlink:href=\"#DejaVuSans-109\"/>\n     <use x=\"1147.425781\" xlink:href=\"#DejaVuSans-112\"/>\n     <use x=\"1210.902344\" xlink:href=\"#DejaVuSans-108\"/>\n     <use x=\"1238.685547\" xlink:href=\"#DejaVuSans-101\"/>\n     <use x=\"1300.208984\" xlink:href=\"#DejaVuSans-115\"/>\n    </g>\n   </g>\n  </g>\n  <g id=\"axes_3\">\n   <g id=\"patch_12\">\n    <path d=\"M 445.028233 511.558125 \nL 598.959267 511.558125 \nL 598.959267 22.318125 \nL 445.028233 22.318125 \nz\n\" style=\"fill:#ffffff;\"/>\n   </g>\n   <g id=\"PathCollection_3\">\n    <g clip-path=\"url(#pb047bca6a7)\">\n     <use style=\"fill:#1f77b4;stroke:#1f77b4;\" x=\"452.025098\" xlink:href=\"#m82df392d8a\" y=\"240.548386\"/>\n     <use style=\"fill:#1f77b4;stroke:#1f77b4;\" x=\"453.438606\" xlink:href=\"#m82df392d8a\" y=\"265.150335\"/>\n     <use style=\"fill:#1f77b4;stroke:#1f77b4;\" x=\"454.852114\" xlink:href=\"#m82df392d8a\" y=\"171.984551\"/>\n     <use style=\"fill:#1f77b4;stroke:#1f77b4;\" x=\"456.265622\" xlink:href=\"#m82df392d8a\" y=\"170.24461\"/>\n     <use style=\"fill:#1f77b4;stroke:#1f77b4;\" x=\"457.67913\" xlink:href=\"#m82df392d8a\" y=\"83.267396\"/>\n     <use style=\"fill:#1f77b4;stroke:#1f77b4;\" x=\"459.092639\" xlink:href=\"#m82df392d8a\" y=\"167.811307\"/>\n     <use style=\"fill:#1f77b4;stroke:#1f77b4;\" x=\"460.506147\" xlink:href=\"#m82df392d8a\" y=\"185.994368\"/>\n     <use style=\"fill:#1f77b4;stroke:#1f77b4;\" x=\"461.919655\" xlink:href=\"#m82df392d8a\" y=\"150.269556\"/>\n     <use style=\"fill:#1f77b4;stroke:#1f77b4;\" x=\"463.333163\" xlink:href=\"#m82df392d8a\" y=\"89.742771\"/>\n     <use style=\"fill:#1f77b4;stroke:#1f77b4;\" x=\"464.746671\" xlink:href=\"#m82df392d8a\" y=\"304.301882\"/>\n     <use style=\"fill:#1f77b4;stroke:#1f77b4;\" x=\"466.160179\" xlink:href=\"#m82df392d8a\" y=\"185.360139\"/>\n     <use style=\"fill:#1f77b4;stroke:#1f77b4;\" x=\"467.573687\" xlink:href=\"#m82df392d8a\" y=\"157.890084\"/>\n     <use style=\"fill:#1f77b4;stroke:#1f77b4;\" x=\"468.987195\" xlink:href=\"#m82df392d8a\" y=\"180.491753\"/>\n     <use style=\"fill:#1f77b4;stroke:#1f77b4;\" x=\"470.400704\" xlink:href=\"#m82df392d8a\" y=\"328.693058\"/>\n     <use style=\"fill:#1f77b4;stroke:#1f77b4;\" x=\"471.814212\" xlink:href=\"#m82df392d8a\" y=\"143.38251\"/>\n     <use style=\"fill:#1f77b4;stroke:#1f77b4;\" x=\"473.22772\" xlink:href=\"#m82df392d8a\" y=\"156.818667\"/>\n     <use style=\"fill:#1f77b4;stroke:#1f77b4;\" x=\"474.641228\" xlink:href=\"#m82df392d8a\" y=\"251.415685\"/>\n     <use style=\"fill:#1f77b4;stroke:#1f77b4;\" x=\"476.054736\" xlink:href=\"#m82df392d8a\" y=\"279.278658\"/>\n     <use style=\"fill:#1f77b4;stroke:#1f77b4;\" x=\"477.468244\" xlink:href=\"#m82df392d8a\" y=\"219.25078\"/>\n     <use style=\"fill:#1f77b4;stroke:#1f77b4;\" x=\"478.881752\" xlink:href=\"#m82df392d8a\" y=\"114.386346\"/>\n     <use style=\"fill:#1f77b4;stroke:#1f77b4;\" x=\"480.29526\" xlink:href=\"#m82df392d8a\" y=\"254.948051\"/>\n     <use style=\"fill:#1f77b4;stroke:#1f77b4;\" x=\"481.708769\" xlink:href=\"#m82df392d8a\" y=\"164.903288\"/>\n     <use style=\"fill:#1f77b4;stroke:#1f77b4;\" x=\"483.122277\" xlink:href=\"#m82df392d8a\" y=\"209.76321\"/>\n     <use style=\"fill:#1f77b4;stroke:#1f77b4;\" x=\"484.535785\" xlink:href=\"#m82df392d8a\" y=\"138.132366\"/>\n     <use style=\"fill:#1f77b4;stroke:#1f77b4;\" x=\"485.949293\" xlink:href=\"#m82df392d8a\" y=\"94.566635\"/>\n     <use style=\"fill:#1f77b4;stroke:#1f77b4;\" x=\"487.362801\" xlink:href=\"#m82df392d8a\" y=\"155.009919\"/>\n     <use style=\"fill:#1f77b4;stroke:#1f77b4;\" x=\"488.776309\" xlink:href=\"#m82df392d8a\" y=\"125.856424\"/>\n     <use style=\"fill:#1f77b4;stroke:#1f77b4;\" x=\"490.189817\" xlink:href=\"#m82df392d8a\" y=\"158.434914\"/>\n     <use style=\"fill:#1f77b4;stroke:#1f77b4;\" x=\"491.603325\" xlink:href=\"#m82df392d8a\" y=\"243.8632\"/>\n     <use style=\"fill:#1f77b4;stroke:#1f77b4;\" x=\"493.016833\" xlink:href=\"#m82df392d8a\" y=\"183.791843\"/>\n     <use style=\"fill:#1f77b4;stroke:#1f77b4;\" x=\"494.430342\" xlink:href=\"#m82df392d8a\" y=\"152.602172\"/>\n     <use style=\"fill:#1f77b4;stroke:#1f77b4;\" x=\"495.84385\" xlink:href=\"#m82df392d8a\" y=\"224.524007\"/>\n     <use style=\"fill:#1f77b4;stroke:#1f77b4;\" x=\"497.257358\" xlink:href=\"#m82df392d8a\" y=\"276.34336\"/>\n     <use style=\"fill:#1f77b4;stroke:#1f77b4;\" x=\"498.670866\" xlink:href=\"#m82df392d8a\" y=\"168.354743\"/>\n     <use style=\"fill:#1f77b4;stroke:#1f77b4;\" x=\"500.084374\" xlink:href=\"#m82df392d8a\" y=\"314.90154\"/>\n     <use style=\"fill:#1f77b4;stroke:#1f77b4;\" x=\"501.497882\" xlink:href=\"#m82df392d8a\" y=\"371.836361\"/>\n     <use style=\"fill:#1f77b4;stroke:#1f77b4;\" x=\"502.91139\" xlink:href=\"#m82df392d8a\" y=\"216.603147\"/>\n     <use style=\"fill:#1f77b4;stroke:#1f77b4;\" x=\"504.324898\" xlink:href=\"#m82df392d8a\" y=\"236.669657\"/>\n     <use style=\"fill:#1f77b4;stroke:#1f77b4;\" x=\"505.738407\" xlink:href=\"#m82df392d8a\" y=\"127.160793\"/>\n     <use style=\"fill:#1f77b4;stroke:#1f77b4;\" x=\"507.151915\" xlink:href=\"#m82df392d8a\" y=\"204.729278\"/>\n     <use style=\"fill:#1f77b4;stroke:#1f77b4;\" x=\"508.565423\" xlink:href=\"#m82df392d8a\" y=\"309.484929\"/>\n     <use style=\"fill:#1f77b4;stroke:#1f77b4;\" x=\"509.978931\" xlink:href=\"#m82df392d8a\" y=\"260.267729\"/>\n     <use style=\"fill:#1f77b4;stroke:#1f77b4;\" x=\"511.392439\" xlink:href=\"#m82df392d8a\" y=\"277.693489\"/>\n     <use style=\"fill:#1f77b4;stroke:#1f77b4;\" x=\"512.805947\" xlink:href=\"#m82df392d8a\" y=\"238.487992\"/>\n     <use style=\"fill:#1f77b4;stroke:#1f77b4;\" x=\"514.219455\" xlink:href=\"#m82df392d8a\" y=\"207.813766\"/>\n     <use style=\"fill:#1f77b4;stroke:#1f77b4;\" x=\"515.632963\" xlink:href=\"#m82df392d8a\" y=\"136.297555\"/>\n     <use style=\"fill:#1f77b4;stroke:#1f77b4;\" x=\"517.046472\" xlink:href=\"#m82df392d8a\" y=\"309.319278\"/>\n     <use style=\"fill:#1f77b4;stroke:#1f77b4;\" x=\"518.45998\" xlink:href=\"#m82df392d8a\" y=\"200.551194\"/>\n     <use style=\"fill:#1f77b4;stroke:#1f77b4;\" x=\"519.873488\" xlink:href=\"#m82df392d8a\" y=\"166.729447\"/>\n     <use style=\"fill:#1f77b4;stroke:#1f77b4;\" x=\"521.286996\" xlink:href=\"#m82df392d8a\" y=\"82.770697\"/>\n     <use style=\"fill:#1f77b4;stroke:#1f77b4;\" x=\"522.700504\" xlink:href=\"#m82df392d8a\" y=\"226.900238\"/>\n     <use style=\"fill:#1f77b4;stroke:#1f77b4;\" x=\"524.114012\" xlink:href=\"#m82df392d8a\" y=\"152.652271\"/>\n     <use style=\"fill:#1f77b4;stroke:#1f77b4;\" x=\"525.52752\" xlink:href=\"#m82df392d8a\" y=\"310.023693\"/>\n     <use style=\"fill:#1f77b4;stroke:#1f77b4;\" x=\"526.941028\" xlink:href=\"#m82df392d8a\" y=\"251.401985\"/>\n     <use style=\"fill:#1f77b4;stroke:#1f77b4;\" x=\"528.354537\" xlink:href=\"#m82df392d8a\" y=\"154.895587\"/>\n     <use style=\"fill:#1f77b4;stroke:#1f77b4;\" x=\"529.768045\" xlink:href=\"#m82df392d8a\" y=\"269.017263\"/>\n     <use style=\"fill:#1f77b4;stroke:#1f77b4;\" x=\"531.181553\" xlink:href=\"#m82df392d8a\" y=\"218.640806\"/>\n     <use style=\"fill:#1f77b4;stroke:#1f77b4;\" x=\"532.595061\" xlink:href=\"#m82df392d8a\" y=\"59.410634\"/>\n     <use style=\"fill:#1f77b4;stroke:#1f77b4;\" x=\"534.008569\" xlink:href=\"#m82df392d8a\" y=\"215.366491\"/>\n     <use style=\"fill:#1f77b4;stroke:#1f77b4;\" x=\"535.422077\" xlink:href=\"#m82df392d8a\" y=\"239.771072\"/>\n     <use style=\"fill:#1f77b4;stroke:#1f77b4;\" x=\"536.835585\" xlink:href=\"#m82df392d8a\" y=\"212.301042\"/>\n     <use style=\"fill:#1f77b4;stroke:#1f77b4;\" x=\"538.249093\" xlink:href=\"#m82df392d8a\" y=\"201.382668\"/>\n     <use style=\"fill:#1f77b4;stroke:#1f77b4;\" x=\"539.662602\" xlink:href=\"#m82df392d8a\" y=\"221.873757\"/>\n     <use style=\"fill:#1f77b4;stroke:#1f77b4;\" x=\"541.07611\" xlink:href=\"#m82df392d8a\" y=\"146.640142\"/>\n     <use style=\"fill:#1f77b4;stroke:#1f77b4;\" x=\"542.489618\" xlink:href=\"#m82df392d8a\" y=\"101.798932\"/>\n     <use style=\"fill:#1f77b4;stroke:#1f77b4;\" x=\"543.903126\" xlink:href=\"#m82df392d8a\" y=\"126.178643\"/>\n     <use style=\"fill:#1f77b4;stroke:#1f77b4;\" x=\"545.316634\" xlink:href=\"#m82df392d8a\" y=\"287.512589\"/>\n     <use style=\"fill:#1f77b4;stroke:#1f77b4;\" x=\"546.730142\" xlink:href=\"#m82df392d8a\" y=\"185.941984\"/>\n     <use style=\"fill:#1f77b4;stroke:#1f77b4;\" x=\"548.14365\" xlink:href=\"#m82df392d8a\" y=\"138.232223\"/>\n     <use style=\"fill:#1f77b4;stroke:#1f77b4;\" x=\"549.557158\" xlink:href=\"#m82df392d8a\" y=\"194.495186\"/>\n     <use style=\"fill:#1f77b4;stroke:#1f77b4;\" x=\"550.970667\" xlink:href=\"#m82df392d8a\" y=\"175.482649\"/>\n     <use style=\"fill:#1f77b4;stroke:#1f77b4;\" x=\"552.384175\" xlink:href=\"#m82df392d8a\" y=\"118.586942\"/>\n     <use style=\"fill:#1f77b4;stroke:#1f77b4;\" x=\"553.797683\" xlink:href=\"#m82df392d8a\" y=\"44.556307\"/>\n     <use style=\"fill:#1f77b4;stroke:#1f77b4;\" x=\"555.211191\" xlink:href=\"#m82df392d8a\" y=\"277.373268\"/>\n     <use style=\"fill:#1f77b4;stroke:#1f77b4;\" x=\"556.624699\" xlink:href=\"#m82df392d8a\" y=\"315.733299\"/>\n     <use style=\"fill:#1f77b4;stroke:#1f77b4;\" x=\"558.038207\" xlink:href=\"#m82df392d8a\" y=\"115.183092\"/>\n     <use style=\"fill:#1f77b4;stroke:#1f77b4;\" x=\"559.451715\" xlink:href=\"#m82df392d8a\" y=\"130.439708\"/>\n     <use style=\"fill:#1f77b4;stroke:#1f77b4;\" x=\"560.865223\" xlink:href=\"#m82df392d8a\" y=\"189.579342\"/>\n     <use style=\"fill:#1f77b4;stroke:#1f77b4;\" x=\"562.278731\" xlink:href=\"#m82df392d8a\" y=\"242.376728\"/>\n     <use style=\"fill:#1f77b4;stroke:#1f77b4;\" x=\"563.69224\" xlink:href=\"#m82df392d8a\" y=\"276.894292\"/>\n     <use style=\"fill:#1f77b4;stroke:#1f77b4;\" x=\"565.105748\" xlink:href=\"#m82df392d8a\" y=\"125.61219\"/>\n     <use style=\"fill:#1f77b4;stroke:#1f77b4;\" x=\"566.519256\" xlink:href=\"#m82df392d8a\" y=\"53.456974\"/>\n     <use style=\"fill:#1f77b4;stroke:#1f77b4;\" x=\"567.932764\" xlink:href=\"#m82df392d8a\" y=\"72.843862\"/>\n     <use style=\"fill:#1f77b4;stroke:#1f77b4;\" x=\"569.346272\" xlink:href=\"#m82df392d8a\" y=\"116.336286\"/>\n     <use style=\"fill:#1f77b4;stroke:#1f77b4;\" x=\"570.75978\" xlink:href=\"#m82df392d8a\" y=\"241.575843\"/>\n     <use style=\"fill:#1f77b4;stroke:#1f77b4;\" x=\"572.173288\" xlink:href=\"#m82df392d8a\" y=\"222.139177\"/>\n     <use style=\"fill:#1f77b4;stroke:#1f77b4;\" x=\"573.586796\" xlink:href=\"#m82df392d8a\" y=\"197.386524\"/>\n     <use style=\"fill:#1f77b4;stroke:#1f77b4;\" x=\"575.000305\" xlink:href=\"#m82df392d8a\" y=\"141.701449\"/>\n     <use style=\"fill:#1f77b4;stroke:#1f77b4;\" x=\"576.413813\" xlink:href=\"#m82df392d8a\" y=\"269.780065\"/>\n     <use style=\"fill:#1f77b4;stroke:#1f77b4;\" x=\"577.827321\" xlink:href=\"#m82df392d8a\" y=\"163.44214\"/>\n     <use style=\"fill:#1f77b4;stroke:#1f77b4;\" x=\"579.240829\" xlink:href=\"#m82df392d8a\" y=\"205.541427\"/>\n     <use style=\"fill:#1f77b4;stroke:#1f77b4;\" x=\"580.654337\" xlink:href=\"#m82df392d8a\" y=\"218.041413\"/>\n     <use style=\"fill:#1f77b4;stroke:#1f77b4;\" x=\"582.067845\" xlink:href=\"#m82df392d8a\" y=\"299.745064\"/>\n     <use style=\"fill:#1f77b4;stroke:#1f77b4;\" x=\"583.481353\" xlink:href=\"#m82df392d8a\" y=\"56.763938\"/>\n     <use style=\"fill:#1f77b4;stroke:#1f77b4;\" x=\"584.894861\" xlink:href=\"#m82df392d8a\" y=\"147.587573\"/>\n     <use style=\"fill:#1f77b4;stroke:#1f77b4;\" x=\"586.30837\" xlink:href=\"#m82df392d8a\" y=\"101.928136\"/>\n     <use style=\"fill:#1f77b4;stroke:#1f77b4;\" x=\"587.721878\" xlink:href=\"#m82df392d8a\" y=\"218.656053\"/>\n     <use style=\"fill:#1f77b4;stroke:#1f77b4;\" x=\"589.135386\" xlink:href=\"#m82df392d8a\" y=\"192.328319\"/>\n     <use style=\"fill:#1f77b4;stroke:#1f77b4;\" x=\"590.548894\" xlink:href=\"#m82df392d8a\" y=\"203.829811\"/>\n     <use style=\"fill:#1f77b4;stroke:#1f77b4;\" x=\"591.962402\" xlink:href=\"#m82df392d8a\" y=\"135.562318\"/>\n    </g>\n   </g>\n   <g id=\"matplotlib.axis_5\">\n    <g id=\"xtick_11\">\n     <g id=\"line2d_29\">\n      <g>\n       <use style=\"stroke:#000000;stroke-width:0.8;\" x=\"450.61159\" xlink:href=\"#m68ec089b6e\" y=\"511.558125\"/>\n      </g>\n     </g>\n     <g id=\"text_30\">\n      <!-- 0 -->\n      <g transform=\"translate(447.43034 526.156562)scale(0.1 -0.1)\">\n       <use xlink:href=\"#DejaVuSans-48\"/>\n      </g>\n     </g>\n    </g>\n    <g id=\"xtick_12\">\n     <g id=\"line2d_30\">\n      <g>\n       <use style=\"stroke:#000000;stroke-width:0.8;\" x=\"485.949293\" xlink:href=\"#m68ec089b6e\" y=\"511.558125\"/>\n      </g>\n     </g>\n     <g id=\"text_31\">\n      <!-- 25 -->\n      <g transform=\"translate(479.586793 526.156562)scale(0.1 -0.1)\">\n       <use xlink:href=\"#DejaVuSans-50\"/>\n       <use x=\"63.623047\" xlink:href=\"#DejaVuSans-53\"/>\n      </g>\n     </g>\n    </g>\n    <g id=\"xtick_13\">\n     <g id=\"line2d_31\">\n      <g>\n       <use style=\"stroke:#000000;stroke-width:0.8;\" x=\"521.286996\" xlink:href=\"#m68ec089b6e\" y=\"511.558125\"/>\n      </g>\n     </g>\n     <g id=\"text_32\">\n      <!-- 50 -->\n      <g transform=\"translate(514.924496 526.156562)scale(0.1 -0.1)\">\n       <use xlink:href=\"#DejaVuSans-53\"/>\n       <use x=\"63.623047\" xlink:href=\"#DejaVuSans-48\"/>\n      </g>\n     </g>\n    </g>\n    <g id=\"xtick_14\">\n     <g id=\"line2d_32\">\n      <g>\n       <use style=\"stroke:#000000;stroke-width:0.8;\" x=\"556.624699\" xlink:href=\"#m68ec089b6e\" y=\"511.558125\"/>\n      </g>\n     </g>\n     <g id=\"text_33\">\n      <!-- 75 -->\n      <g transform=\"translate(550.262199 526.156562)scale(0.1 -0.1)\">\n       <use xlink:href=\"#DejaVuSans-55\"/>\n       <use x=\"63.623047\" xlink:href=\"#DejaVuSans-53\"/>\n      </g>\n     </g>\n    </g>\n    <g id=\"xtick_15\">\n     <g id=\"line2d_33\">\n      <g>\n       <use style=\"stroke:#000000;stroke-width:0.8;\" x=\"591.962402\" xlink:href=\"#m68ec089b6e\" y=\"511.558125\"/>\n      </g>\n     </g>\n     <g id=\"text_34\">\n      <!-- 100 -->\n      <g transform=\"translate(582.418652 526.156562)scale(0.1 -0.1)\">\n       <use xlink:href=\"#DejaVuSans-49\"/>\n       <use x=\"63.623047\" xlink:href=\"#DejaVuSans-48\"/>\n       <use x=\"127.246094\" xlink:href=\"#DejaVuSans-48\"/>\n      </g>\n     </g>\n    </g>\n    <g id=\"text_35\">\n     <!-- Sample # -->\n     <g transform=\"translate(497.466406 539.834687)scale(0.1 -0.1)\">\n      <use xlink:href=\"#DejaVuSans-83\"/>\n      <use x=\"63.476562\" xlink:href=\"#DejaVuSans-97\"/>\n      <use x=\"124.755859\" xlink:href=\"#DejaVuSans-109\"/>\n      <use x=\"222.167969\" xlink:href=\"#DejaVuSans-112\"/>\n      <use x=\"285.644531\" xlink:href=\"#DejaVuSans-108\"/>\n      <use x=\"313.427734\" xlink:href=\"#DejaVuSans-101\"/>\n      <use x=\"374.951172\" xlink:href=\"#DejaVuSans-32\"/>\n      <use x=\"406.738281\" xlink:href=\"#DejaVuSans-35\"/>\n     </g>\n    </g>\n   </g>\n   <g id=\"matplotlib.axis_6\">\n    <g id=\"ytick_15\">\n     <g id=\"line2d_34\">\n      <g>\n       <use style=\"stroke:#000000;stroke-width:0.8;\" x=\"445.028233\" xlink:href=\"#m7dac0412a8\" y=\"471.837323\"/>\n      </g>\n     </g>\n     <g id=\"text_36\">\n      <!-- 0.0064 -->\n      <defs>\n       <path d=\"M 37.796875 64.3125 \nL 12.890625 25.390625 \nL 37.796875 25.390625 \nz\nM 35.203125 72.90625 \nL 47.609375 72.90625 \nL 47.609375 25.390625 \nL 58.015625 25.390625 \nL 58.015625 17.1875 \nL 47.609375 17.1875 \nL 47.609375 0 \nL 37.796875 0 \nL 37.796875 17.1875 \nL 4.890625 17.1875 \nL 4.890625 26.703125 \nz\n\" id=\"DejaVuSans-52\"/>\n      </defs>\n      <g transform=\"translate(403.037608 475.636541)scale(0.1 -0.1)\">\n       <use xlink:href=\"#DejaVuSans-48\"/>\n       <use x=\"63.623047\" xlink:href=\"#DejaVuSans-46\"/>\n       <use x=\"95.410156\" xlink:href=\"#DejaVuSans-48\"/>\n       <use x=\"159.033203\" xlink:href=\"#DejaVuSans-48\"/>\n       <use x=\"222.65625\" xlink:href=\"#DejaVuSans-54\"/>\n       <use x=\"286.279297\" xlink:href=\"#DejaVuSans-52\"/>\n      </g>\n     </g>\n    </g>\n    <g id=\"ytick_16\">\n     <g id=\"line2d_35\">\n      <g>\n       <use style=\"stroke:#000000;stroke-width:0.8;\" x=\"445.028233\" xlink:href=\"#m7dac0412a8\" y=\"368.318041\"/>\n      </g>\n     </g>\n     <g id=\"text_37\">\n      <!-- 0.0066 -->\n      <g transform=\"translate(403.037608 372.11726)scale(0.1 -0.1)\">\n       <use xlink:href=\"#DejaVuSans-48\"/>\n       <use x=\"63.623047\" xlink:href=\"#DejaVuSans-46\"/>\n       <use x=\"95.410156\" xlink:href=\"#DejaVuSans-48\"/>\n       <use x=\"159.033203\" xlink:href=\"#DejaVuSans-48\"/>\n       <use x=\"222.65625\" xlink:href=\"#DejaVuSans-54\"/>\n       <use x=\"286.279297\" xlink:href=\"#DejaVuSans-54\"/>\n      </g>\n     </g>\n    </g>\n    <g id=\"ytick_17\">\n     <g id=\"line2d_36\">\n      <g>\n       <use style=\"stroke:#000000;stroke-width:0.8;\" x=\"445.028233\" xlink:href=\"#m7dac0412a8\" y=\"264.79876\"/>\n      </g>\n     </g>\n     <g id=\"text_38\">\n      <!-- 0.0068 -->\n      <g transform=\"translate(403.037608 268.597979)scale(0.1 -0.1)\">\n       <use xlink:href=\"#DejaVuSans-48\"/>\n       <use x=\"63.623047\" xlink:href=\"#DejaVuSans-46\"/>\n       <use x=\"95.410156\" xlink:href=\"#DejaVuSans-48\"/>\n       <use x=\"159.033203\" xlink:href=\"#DejaVuSans-48\"/>\n       <use x=\"222.65625\" xlink:href=\"#DejaVuSans-54\"/>\n       <use x=\"286.279297\" xlink:href=\"#DejaVuSans-56\"/>\n      </g>\n     </g>\n    </g>\n    <g id=\"ytick_18\">\n     <g id=\"line2d_37\">\n      <g>\n       <use style=\"stroke:#000000;stroke-width:0.8;\" x=\"445.028233\" xlink:href=\"#m7dac0412a8\" y=\"161.279479\"/>\n      </g>\n     </g>\n     <g id=\"text_39\">\n      <!-- 0.0070 -->\n      <g transform=\"translate(403.037608 165.078697)scale(0.1 -0.1)\">\n       <use xlink:href=\"#DejaVuSans-48\"/>\n       <use x=\"63.623047\" xlink:href=\"#DejaVuSans-46\"/>\n       <use x=\"95.410156\" xlink:href=\"#DejaVuSans-48\"/>\n       <use x=\"159.033203\" xlink:href=\"#DejaVuSans-48\"/>\n       <use x=\"222.65625\" xlink:href=\"#DejaVuSans-55\"/>\n       <use x=\"286.279297\" xlink:href=\"#DejaVuSans-48\"/>\n      </g>\n     </g>\n    </g>\n    <g id=\"ytick_19\">\n     <g id=\"line2d_38\">\n      <g>\n       <use style=\"stroke:#000000;stroke-width:0.8;\" x=\"445.028233\" xlink:href=\"#m7dac0412a8\" y=\"57.760197\"/>\n      </g>\n     </g>\n     <g id=\"text_40\">\n      <!-- 0.0072 -->\n      <g transform=\"translate(403.037608 61.559416)scale(0.1 -0.1)\">\n       <use xlink:href=\"#DejaVuSans-48\"/>\n       <use x=\"63.623047\" xlink:href=\"#DejaVuSans-46\"/>\n       <use x=\"95.410156\" xlink:href=\"#DejaVuSans-48\"/>\n       <use x=\"159.033203\" xlink:href=\"#DejaVuSans-48\"/>\n       <use x=\"222.65625\" xlink:href=\"#DejaVuSans-55\"/>\n       <use x=\"286.279297\" xlink:href=\"#DejaVuSans-50\"/>\n      </g>\n     </g>\n    </g>\n   </g>\n   <g id=\"line2d_39\">\n    <path clip-path=\"url(#pb047bca6a7)\" d=\"M 445.028233 192.435952 \nL 598.959267 192.435952 \n\" style=\"fill:none;stroke:#1f77b4;stroke-linecap:square;stroke-width:1.5;\"/>\n   </g>\n   <g id=\"line2d_40\">\n    <path clip-path=\"url(#pb047bca6a7)\" d=\"M 445.028233 489.319943 \nL 598.959267 489.319943 \n\" style=\"fill:none;stroke:#ff0000;stroke-linecap:square;stroke-width:1.5;\"/>\n   </g>\n   <g id=\"patch_13\">\n    <path d=\"M 445.028233 511.558125 \nL 445.028233 22.318125 \n\" style=\"fill:none;stroke:#000000;stroke-linecap:square;stroke-linejoin:miter;stroke-width:0.8;\"/>\n   </g>\n   <g id=\"patch_14\">\n    <path d=\"M 598.959267 511.558125 \nL 598.959267 22.318125 \n\" style=\"fill:none;stroke:#000000;stroke-linecap:square;stroke-linejoin:miter;stroke-width:0.8;\"/>\n   </g>\n   <g id=\"patch_15\">\n    <path d=\"M 445.028233 511.558125 \nL 598.959267 511.558125 \n\" style=\"fill:none;stroke:#000000;stroke-linecap:square;stroke-linejoin:miter;stroke-width:0.8;\"/>\n   </g>\n   <g id=\"patch_16\">\n    <path d=\"M 445.028233 22.318125 \nL 598.959267 22.318125 \n\" style=\"fill:none;stroke:#000000;stroke-linecap:square;stroke-linejoin:miter;stroke-width:0.8;\"/>\n   </g>\n   <g id=\"text_41\">\n    <!-- Variance in 5000 samples -->\n    <g transform=\"translate(444.673438 16.318125)scale(0.12 -0.12)\">\n     <use xlink:href=\"#DejaVuSans-86\"/>\n     <use x=\"60.658203\" xlink:href=\"#DejaVuSans-97\"/>\n     <use x=\"121.9375\" xlink:href=\"#DejaVuSans-114\"/>\n     <use x=\"163.050781\" xlink:href=\"#DejaVuSans-105\"/>\n     <use x=\"190.833984\" xlink:href=\"#DejaVuSans-97\"/>\n     <use x=\"252.113281\" xlink:href=\"#DejaVuSans-110\"/>\n     <use x=\"315.492188\" xlink:href=\"#DejaVuSans-99\"/>\n     <use x=\"370.472656\" xlink:href=\"#DejaVuSans-101\"/>\n     <use x=\"431.996094\" xlink:href=\"#DejaVuSans-32\"/>\n     <use x=\"463.783203\" xlink:href=\"#DejaVuSans-105\"/>\n     <use x=\"491.566406\" xlink:href=\"#DejaVuSans-110\"/>\n     <use x=\"554.945312\" xlink:href=\"#DejaVuSans-32\"/>\n     <use x=\"586.732422\" xlink:href=\"#DejaVuSans-53\"/>\n     <use x=\"650.355469\" xlink:href=\"#DejaVuSans-48\"/>\n     <use x=\"713.978516\" xlink:href=\"#DejaVuSans-48\"/>\n     <use x=\"777.601562\" xlink:href=\"#DejaVuSans-48\"/>\n     <use x=\"841.224609\" xlink:href=\"#DejaVuSans-32\"/>\n     <use x=\"873.011719\" xlink:href=\"#DejaVuSans-115\"/>\n     <use x=\"925.111328\" xlink:href=\"#DejaVuSans-97\"/>\n     <use x=\"986.390625\" xlink:href=\"#DejaVuSans-109\"/>\n     <use x=\"1083.802734\" xlink:href=\"#DejaVuSans-112\"/>\n     <use x=\"1147.279297\" xlink:href=\"#DejaVuSans-108\"/>\n     <use x=\"1175.0625\" xlink:href=\"#DejaVuSans-101\"/>\n     <use x=\"1236.585938\" xlink:href=\"#DejaVuSans-115\"/>\n    </g>\n   </g>\n  </g>\n  <g id=\"axes_4\">\n   <g id=\"patch_17\">\n    <path d=\"M 629.745474 511.558125 \nL 783.676509 511.558125 \nL 783.676509 22.318125 \nL 629.745474 22.318125 \nz\n\" style=\"fill:#ffffff;\"/>\n   </g>\n   <g id=\"PathCollection_4\">\n    <g clip-path=\"url(#p3eb0f74e8d)\">\n     <use style=\"fill:#1f77b4;stroke:#1f77b4;\" x=\"636.742339\" xlink:href=\"#m82df392d8a\" y=\"234.179802\"/>\n     <use style=\"fill:#1f77b4;stroke:#1f77b4;\" x=\"638.155847\" xlink:href=\"#m82df392d8a\" y=\"184.579262\"/>\n     <use style=\"fill:#1f77b4;stroke:#1f77b4;\" x=\"639.569356\" xlink:href=\"#m82df392d8a\" y=\"225.301391\"/>\n     <use style=\"fill:#1f77b4;stroke:#1f77b4;\" x=\"640.982864\" xlink:href=\"#m82df392d8a\" y=\"208.498209\"/>\n     <use style=\"fill:#1f77b4;stroke:#1f77b4;\" x=\"642.396372\" xlink:href=\"#m82df392d8a\" y=\"278.628549\"/>\n     <use style=\"fill:#1f77b4;stroke:#1f77b4;\" x=\"643.80988\" xlink:href=\"#m82df392d8a\" y=\"259.587612\"/>\n     <use style=\"fill:#1f77b4;stroke:#1f77b4;\" x=\"645.223388\" xlink:href=\"#m82df392d8a\" y=\"248.588817\"/>\n     <use style=\"fill:#1f77b4;stroke:#1f77b4;\" x=\"646.636896\" xlink:href=\"#m82df392d8a\" y=\"259.967047\"/>\n     <use style=\"fill:#1f77b4;stroke:#1f77b4;\" x=\"648.050404\" xlink:href=\"#m82df392d8a\" y=\"133.947811\"/>\n     <use style=\"fill:#1f77b4;stroke:#1f77b4;\" x=\"649.463912\" xlink:href=\"#m82df392d8a\" y=\"304.168246\"/>\n     <use style=\"fill:#1f77b4;stroke:#1f77b4;\" x=\"650.877421\" xlink:href=\"#m82df392d8a\" y=\"254.873847\"/>\n     <use style=\"fill:#1f77b4;stroke:#1f77b4;\" x=\"652.290929\" xlink:href=\"#m82df392d8a\" y=\"270.807969\"/>\n     <use style=\"fill:#1f77b4;stroke:#1f77b4;\" x=\"653.704437\" xlink:href=\"#m82df392d8a\" y=\"153.255071\"/>\n     <use style=\"fill:#1f77b4;stroke:#1f77b4;\" x=\"655.117945\" xlink:href=\"#m82df392d8a\" y=\"359.73975\"/>\n     <use style=\"fill:#1f77b4;stroke:#1f77b4;\" x=\"656.531453\" xlink:href=\"#m82df392d8a\" y=\"177.149089\"/>\n     <use style=\"fill:#1f77b4;stroke:#1f77b4;\" x=\"657.944961\" xlink:href=\"#m82df392d8a\" y=\"176.768286\"/>\n     <use style=\"fill:#1f77b4;stroke:#1f77b4;\" x=\"659.358469\" xlink:href=\"#m82df392d8a\" y=\"319.033069\"/>\n     <use style=\"fill:#1f77b4;stroke:#1f77b4;\" x=\"660.771977\" xlink:href=\"#m82df392d8a\" y=\"263.995081\"/>\n     <use style=\"fill:#1f77b4;stroke:#1f77b4;\" x=\"662.185486\" xlink:href=\"#m82df392d8a\" y=\"251.461668\"/>\n     <use style=\"fill:#1f77b4;stroke:#1f77b4;\" x=\"663.598994\" xlink:href=\"#m82df392d8a\" y=\"220.829331\"/>\n     <use style=\"fill:#1f77b4;stroke:#1f77b4;\" x=\"665.012502\" xlink:href=\"#m82df392d8a\" y=\"232.866808\"/>\n     <use style=\"fill:#1f77b4;stroke:#1f77b4;\" x=\"666.42601\" xlink:href=\"#m82df392d8a\" y=\"235.166482\"/>\n     <use style=\"fill:#1f77b4;stroke:#1f77b4;\" x=\"667.839518\" xlink:href=\"#m82df392d8a\" y=\"238.854215\"/>\n     <use style=\"fill:#1f77b4;stroke:#1f77b4;\" x=\"669.253026\" xlink:href=\"#m82df392d8a\" y=\"210.969307\"/>\n     <use style=\"fill:#1f77b4;stroke:#1f77b4;\" x=\"670.666534\" xlink:href=\"#m82df392d8a\" y=\"171.961054\"/>\n     <use style=\"fill:#1f77b4;stroke:#1f77b4;\" x=\"672.080042\" xlink:href=\"#m82df392d8a\" y=\"123.046991\"/>\n     <use style=\"fill:#1f77b4;stroke:#1f77b4;\" x=\"673.493551\" xlink:href=\"#m82df392d8a\" y=\"259.529393\"/>\n     <use style=\"fill:#1f77b4;stroke:#1f77b4;\" x=\"674.907059\" xlink:href=\"#m82df392d8a\" y=\"268.384211\"/>\n     <use style=\"fill:#1f77b4;stroke:#1f77b4;\" x=\"676.320567\" xlink:href=\"#m82df392d8a\" y=\"244.361725\"/>\n     <use style=\"fill:#1f77b4;stroke:#1f77b4;\" x=\"677.734075\" xlink:href=\"#m82df392d8a\" y=\"203.756625\"/>\n     <use style=\"fill:#1f77b4;stroke:#1f77b4;\" x=\"679.147583\" xlink:href=\"#m82df392d8a\" y=\"109.023161\"/>\n     <use style=\"fill:#1f77b4;stroke:#1f77b4;\" x=\"680.561091\" xlink:href=\"#m82df392d8a\" y=\"325.081305\"/>\n     <use style=\"fill:#1f77b4;stroke:#1f77b4;\" x=\"681.974599\" xlink:href=\"#m82df392d8a\" y=\"403.614201\"/>\n     <use style=\"fill:#1f77b4;stroke:#1f77b4;\" x=\"683.388107\" xlink:href=\"#m82df392d8a\" y=\"215.699329\"/>\n     <use style=\"fill:#1f77b4;stroke:#1f77b4;\" x=\"684.801615\" xlink:href=\"#m82df392d8a\" y=\"361.555144\"/>\n     <use style=\"fill:#1f77b4;stroke:#1f77b4;\" x=\"686.215124\" xlink:href=\"#m82df392d8a\" y=\"214.248636\"/>\n     <use style=\"fill:#1f77b4;stroke:#1f77b4;\" x=\"687.628632\" xlink:href=\"#m82df392d8a\" y=\"318.290051\"/>\n     <use style=\"fill:#1f77b4;stroke:#1f77b4;\" x=\"689.04214\" xlink:href=\"#m82df392d8a\" y=\"249.469099\"/>\n     <use style=\"fill:#1f77b4;stroke:#1f77b4;\" x=\"690.455648\" xlink:href=\"#m82df392d8a\" y=\"196.249365\"/>\n     <use style=\"fill:#1f77b4;stroke:#1f77b4;\" x=\"691.869156\" xlink:href=\"#m82df392d8a\" y=\"204.272858\"/>\n     <use style=\"fill:#1f77b4;stroke:#1f77b4;\" x=\"693.282664\" xlink:href=\"#m82df392d8a\" y=\"258.636305\"/>\n     <use style=\"fill:#1f77b4;stroke:#1f77b4;\" x=\"694.696172\" xlink:href=\"#m82df392d8a\" y=\"175.2733\"/>\n     <use style=\"fill:#1f77b4;stroke:#1f77b4;\" x=\"696.10968\" xlink:href=\"#m82df392d8a\" y=\"290.128502\"/>\n     <use style=\"fill:#1f77b4;stroke:#1f77b4;\" x=\"697.523189\" xlink:href=\"#m82df392d8a\" y=\"265.15875\"/>\n     <use style=\"fill:#1f77b4;stroke:#1f77b4;\" x=\"698.936697\" xlink:href=\"#m82df392d8a\" y=\"193.364826\"/>\n     <use style=\"fill:#1f77b4;stroke:#1f77b4;\" x=\"700.350205\" xlink:href=\"#m82df392d8a\" y=\"272.63617\"/>\n     <use style=\"fill:#1f77b4;stroke:#1f77b4;\" x=\"701.763713\" xlink:href=\"#m82df392d8a\" y=\"278.308266\"/>\n     <use style=\"fill:#1f77b4;stroke:#1f77b4;\" x=\"703.177221\" xlink:href=\"#m82df392d8a\" y=\"203.853853\"/>\n     <use style=\"fill:#1f77b4;stroke:#1f77b4;\" x=\"704.590729\" xlink:href=\"#m82df392d8a\" y=\"271.767078\"/>\n     <use style=\"fill:#1f77b4;stroke:#1f77b4;\" x=\"706.004237\" xlink:href=\"#m82df392d8a\" y=\"294.23241\"/>\n     <use style=\"fill:#1f77b4;stroke:#1f77b4;\" x=\"707.417745\" xlink:href=\"#m82df392d8a\" y=\"155.157125\"/>\n     <use style=\"fill:#1f77b4;stroke:#1f77b4;\" x=\"708.831254\" xlink:href=\"#m82df392d8a\" y=\"124.83699\"/>\n     <use style=\"fill:#1f77b4;stroke:#1f77b4;\" x=\"710.244762\" xlink:href=\"#m82df392d8a\" y=\"261.882809\"/>\n     <use style=\"fill:#1f77b4;stroke:#1f77b4;\" x=\"711.65827\" xlink:href=\"#m82df392d8a\" y=\"366.355072\"/>\n     <use style=\"fill:#1f77b4;stroke:#1f77b4;\" x=\"713.071778\" xlink:href=\"#m82df392d8a\" y=\"248.59006\"/>\n     <use style=\"fill:#1f77b4;stroke:#1f77b4;\" x=\"714.485286\" xlink:href=\"#m82df392d8a\" y=\"306.541929\"/>\n     <use style=\"fill:#1f77b4;stroke:#1f77b4;\" x=\"715.898794\" xlink:href=\"#m82df392d8a\" y=\"224.602233\"/>\n     <use style=\"fill:#1f77b4;stroke:#1f77b4;\" x=\"717.312302\" xlink:href=\"#m82df392d8a\" y=\"169.250427\"/>\n     <use style=\"fill:#1f77b4;stroke:#1f77b4;\" x=\"718.72581\" xlink:href=\"#m82df392d8a\" y=\"310.484391\"/>\n     <use style=\"fill:#1f77b4;stroke:#1f77b4;\" x=\"720.139319\" xlink:href=\"#m82df392d8a\" y=\"277.120881\"/>\n     <use style=\"fill:#1f77b4;stroke:#1f77b4;\" x=\"721.552827\" xlink:href=\"#m82df392d8a\" y=\"187.447264\"/>\n     <use style=\"fill:#1f77b4;stroke:#1f77b4;\" x=\"722.966335\" xlink:href=\"#m82df392d8a\" y=\"205.657187\"/>\n     <use style=\"fill:#1f77b4;stroke:#1f77b4;\" x=\"724.379843\" xlink:href=\"#m82df392d8a\" y=\"210.006872\"/>\n     <use style=\"fill:#1f77b4;stroke:#1f77b4;\" x=\"725.793351\" xlink:href=\"#m82df392d8a\" y=\"307.189552\"/>\n     <use style=\"fill:#1f77b4;stroke:#1f77b4;\" x=\"727.206859\" xlink:href=\"#m82df392d8a\" y=\"44.556307\"/>\n     <use style=\"fill:#1f77b4;stroke:#1f77b4;\" x=\"728.620367\" xlink:href=\"#m82df392d8a\" y=\"209.531918\"/>\n     <use style=\"fill:#1f77b4;stroke:#1f77b4;\" x=\"730.033875\" xlink:href=\"#m82df392d8a\" y=\"370.765649\"/>\n     <use style=\"fill:#1f77b4;stroke:#1f77b4;\" x=\"731.447384\" xlink:href=\"#m82df392d8a\" y=\"111.22831\"/>\n     <use style=\"fill:#1f77b4;stroke:#1f77b4;\" x=\"732.860892\" xlink:href=\"#m82df392d8a\" y=\"245.705025\"/>\n     <use style=\"fill:#1f77b4;stroke:#1f77b4;\" x=\"734.2744\" xlink:href=\"#m82df392d8a\" y=\"165.512867\"/>\n     <use style=\"fill:#1f77b4;stroke:#1f77b4;\" x=\"735.687908\" xlink:href=\"#m82df392d8a\" y=\"166.968813\"/>\n     <use style=\"fill:#1f77b4;stroke:#1f77b4;\" x=\"737.101416\" xlink:href=\"#m82df392d8a\" y=\"196.134978\"/>\n     <use style=\"fill:#1f77b4;stroke:#1f77b4;\" x=\"738.514924\" xlink:href=\"#m82df392d8a\" y=\"249.390862\"/>\n     <use style=\"fill:#1f77b4;stroke:#1f77b4;\" x=\"739.928432\" xlink:href=\"#m82df392d8a\" y=\"260.061167\"/>\n     <use style=\"fill:#1f77b4;stroke:#1f77b4;\" x=\"741.34194\" xlink:href=\"#m82df392d8a\" y=\"321.761848\"/>\n     <use style=\"fill:#1f77b4;stroke:#1f77b4;\" x=\"742.755448\" xlink:href=\"#m82df392d8a\" y=\"201.736204\"/>\n     <use style=\"fill:#1f77b4;stroke:#1f77b4;\" x=\"744.168957\" xlink:href=\"#m82df392d8a\" y=\"175.738649\"/>\n     <use style=\"fill:#1f77b4;stroke:#1f77b4;\" x=\"745.582465\" xlink:href=\"#m82df392d8a\" y=\"222.482967\"/>\n     <use style=\"fill:#1f77b4;stroke:#1f77b4;\" x=\"746.995973\" xlink:href=\"#m82df392d8a\" y=\"278.855334\"/>\n     <use style=\"fill:#1f77b4;stroke:#1f77b4;\" x=\"748.409481\" xlink:href=\"#m82df392d8a\" y=\"264.448028\"/>\n     <use style=\"fill:#1f77b4;stroke:#1f77b4;\" x=\"749.822989\" xlink:href=\"#m82df392d8a\" y=\"92.630994\"/>\n     <use style=\"fill:#1f77b4;stroke:#1f77b4;\" x=\"751.236497\" xlink:href=\"#m82df392d8a\" y=\"146.640122\"/>\n     <use style=\"fill:#1f77b4;stroke:#1f77b4;\" x=\"752.650005\" xlink:href=\"#m82df392d8a\" y=\"122.027052\"/>\n     <use style=\"fill:#1f77b4;stroke:#1f77b4;\" x=\"754.063513\" xlink:href=\"#m82df392d8a\" y=\"89.843467\"/>\n     <use style=\"fill:#1f77b4;stroke:#1f77b4;\" x=\"755.477022\" xlink:href=\"#m82df392d8a\" y=\"213.806599\"/>\n     <use style=\"fill:#1f77b4;stroke:#1f77b4;\" x=\"756.89053\" xlink:href=\"#m82df392d8a\" y=\"287.031602\"/>\n     <use style=\"fill:#1f77b4;stroke:#1f77b4;\" x=\"758.304038\" xlink:href=\"#m82df392d8a\" y=\"186.251175\"/>\n     <use style=\"fill:#1f77b4;stroke:#1f77b4;\" x=\"759.717546\" xlink:href=\"#m82df392d8a\" y=\"252.300422\"/>\n     <use style=\"fill:#1f77b4;stroke:#1f77b4;\" x=\"761.131054\" xlink:href=\"#m82df392d8a\" y=\"258.213571\"/>\n     <use style=\"fill:#1f77b4;stroke:#1f77b4;\" x=\"762.544562\" xlink:href=\"#m82df392d8a\" y=\"256.378563\"/>\n     <use style=\"fill:#1f77b4;stroke:#1f77b4;\" x=\"763.95807\" xlink:href=\"#m82df392d8a\" y=\"213.759725\"/>\n     <use style=\"fill:#1f77b4;stroke:#1f77b4;\" x=\"765.371578\" xlink:href=\"#m82df392d8a\" y=\"215.184121\"/>\n     <use style=\"fill:#1f77b4;stroke:#1f77b4;\" x=\"766.785087\" xlink:href=\"#m82df392d8a\" y=\"353.740189\"/>\n     <use style=\"fill:#1f77b4;stroke:#1f77b4;\" x=\"768.198595\" xlink:href=\"#m82df392d8a\" y=\"128.247117\"/>\n     <use style=\"fill:#1f77b4;stroke:#1f77b4;\" x=\"769.612103\" xlink:href=\"#m82df392d8a\" y=\"150.998417\"/>\n     <use style=\"fill:#1f77b4;stroke:#1f77b4;\" x=\"771.025611\" xlink:href=\"#m82df392d8a\" y=\"206.437256\"/>\n     <use style=\"fill:#1f77b4;stroke:#1f77b4;\" x=\"772.439119\" xlink:href=\"#m82df392d8a\" y=\"79.819198\"/>\n     <use style=\"fill:#1f77b4;stroke:#1f77b4;\" x=\"773.852627\" xlink:href=\"#m82df392d8a\" y=\"224.690758\"/>\n     <use style=\"fill:#1f77b4;stroke:#1f77b4;\" x=\"775.266135\" xlink:href=\"#m82df392d8a\" y=\"304.688862\"/>\n     <use style=\"fill:#1f77b4;stroke:#1f77b4;\" x=\"776.679643\" xlink:href=\"#m82df392d8a\" y=\"171.048446\"/>\n    </g>\n   </g>\n   <g id=\"matplotlib.axis_7\">\n    <g id=\"xtick_16\">\n     <g id=\"line2d_41\">\n      <g>\n       <use style=\"stroke:#000000;stroke-width:0.8;\" x=\"635.328831\" xlink:href=\"#m68ec089b6e\" y=\"511.558125\"/>\n      </g>\n     </g>\n     <g id=\"text_42\">\n      <!-- 0 -->\n      <g transform=\"translate(632.147581 526.156562)scale(0.1 -0.1)\">\n       <use xlink:href=\"#DejaVuSans-48\"/>\n      </g>\n     </g>\n    </g>\n    <g id=\"xtick_17\">\n     <g id=\"line2d_42\">\n      <g>\n       <use style=\"stroke:#000000;stroke-width:0.8;\" x=\"670.666534\" xlink:href=\"#m68ec089b6e\" y=\"511.558125\"/>\n      </g>\n     </g>\n     <g id=\"text_43\">\n      <!-- 25 -->\n      <g transform=\"translate(664.304034 526.156562)scale(0.1 -0.1)\">\n       <use xlink:href=\"#DejaVuSans-50\"/>\n       <use x=\"63.623047\" xlink:href=\"#DejaVuSans-53\"/>\n      </g>\n     </g>\n    </g>\n    <g id=\"xtick_18\">\n     <g id=\"line2d_43\">\n      <g>\n       <use style=\"stroke:#000000;stroke-width:0.8;\" x=\"706.004237\" xlink:href=\"#m68ec089b6e\" y=\"511.558125\"/>\n      </g>\n     </g>\n     <g id=\"text_44\">\n      <!-- 50 -->\n      <g transform=\"translate(699.641737 526.156562)scale(0.1 -0.1)\">\n       <use xlink:href=\"#DejaVuSans-53\"/>\n       <use x=\"63.623047\" xlink:href=\"#DejaVuSans-48\"/>\n      </g>\n     </g>\n    </g>\n    <g id=\"xtick_19\">\n     <g id=\"line2d_44\">\n      <g>\n       <use style=\"stroke:#000000;stroke-width:0.8;\" x=\"741.34194\" xlink:href=\"#m68ec089b6e\" y=\"511.558125\"/>\n      </g>\n     </g>\n     <g id=\"text_45\">\n      <!-- 75 -->\n      <g transform=\"translate(734.97944 526.156562)scale(0.1 -0.1)\">\n       <use xlink:href=\"#DejaVuSans-55\"/>\n       <use x=\"63.623047\" xlink:href=\"#DejaVuSans-53\"/>\n      </g>\n     </g>\n    </g>\n    <g id=\"xtick_20\">\n     <g id=\"line2d_45\">\n      <g>\n       <use style=\"stroke:#000000;stroke-width:0.8;\" x=\"776.679643\" xlink:href=\"#m68ec089b6e\" y=\"511.558125\"/>\n      </g>\n     </g>\n     <g id=\"text_46\">\n      <!-- 100 -->\n      <g transform=\"translate(767.135893 526.156562)scale(0.1 -0.1)\">\n       <use xlink:href=\"#DejaVuSans-49\"/>\n       <use x=\"63.623047\" xlink:href=\"#DejaVuSans-48\"/>\n       <use x=\"127.246094\" xlink:href=\"#DejaVuSans-48\"/>\n      </g>\n     </g>\n    </g>\n    <g id=\"text_47\">\n     <!-- Sample # -->\n     <g transform=\"translate(682.183648 539.834687)scale(0.1 -0.1)\">\n      <use xlink:href=\"#DejaVuSans-83\"/>\n      <use x=\"63.476562\" xlink:href=\"#DejaVuSans-97\"/>\n      <use x=\"124.755859\" xlink:href=\"#DejaVuSans-109\"/>\n      <use x=\"222.167969\" xlink:href=\"#DejaVuSans-112\"/>\n      <use x=\"285.644531\" xlink:href=\"#DejaVuSans-108\"/>\n      <use x=\"313.427734\" xlink:href=\"#DejaVuSans-101\"/>\n      <use x=\"374.951172\" xlink:href=\"#DejaVuSans-32\"/>\n      <use x=\"406.738281\" xlink:href=\"#DejaVuSans-35\"/>\n     </g>\n    </g>\n   </g>\n   <g id=\"matplotlib.axis_8\">\n    <g id=\"ytick_20\">\n     <g id=\"line2d_46\">\n      <g>\n       <use style=\"stroke:#000000;stroke-width:0.8;\" x=\"629.745474\" xlink:href=\"#m7dac0412a8\" y=\"459.962386\"/>\n      </g>\n     </g>\n     <g id=\"text_48\">\n      <!-- 0.038 -->\n      <defs>\n       <path d=\"M 40.578125 39.3125 \nQ 47.65625 37.796875 51.625 33 \nQ 55.609375 28.21875 55.609375 21.1875 \nQ 55.609375 10.40625 48.1875 4.484375 \nQ 40.765625 -1.421875 27.09375 -1.421875 \nQ 22.515625 -1.421875 17.65625 -0.515625 \nQ 12.796875 0.390625 7.625 2.203125 \nL 7.625 11.71875 \nQ 11.71875 9.328125 16.59375 8.109375 \nQ 21.484375 6.890625 26.8125 6.890625 \nQ 36.078125 6.890625 40.9375 10.546875 \nQ 45.796875 14.203125 45.796875 21.1875 \nQ 45.796875 27.640625 41.28125 31.265625 \nQ 36.765625 34.90625 28.71875 34.90625 \nL 20.21875 34.90625 \nL 20.21875 43.015625 \nL 29.109375 43.015625 \nQ 36.375 43.015625 40.234375 45.921875 \nQ 44.09375 48.828125 44.09375 54.296875 \nQ 44.09375 59.90625 40.109375 62.90625 \nQ 36.140625 65.921875 28.71875 65.921875 \nQ 24.65625 65.921875 20.015625 65.03125 \nQ 15.375 64.15625 9.8125 62.3125 \nL 9.8125 71.09375 \nQ 15.4375 72.65625 20.34375 73.4375 \nQ 25.25 74.21875 29.59375 74.21875 \nQ 40.828125 74.21875 47.359375 69.109375 \nQ 53.90625 64.015625 53.90625 55.328125 \nQ 53.90625 49.265625 50.4375 45.09375 \nQ 46.96875 40.921875 40.578125 39.3125 \nz\n\" id=\"DejaVuSans-51\"/>\n      </defs>\n      <g transform=\"translate(594.117349 463.761604)scale(0.1 -0.1)\">\n       <use xlink:href=\"#DejaVuSans-48\"/>\n       <use x=\"63.623047\" xlink:href=\"#DejaVuSans-46\"/>\n       <use x=\"95.410156\" xlink:href=\"#DejaVuSans-48\"/>\n       <use x=\"159.033203\" xlink:href=\"#DejaVuSans-51\"/>\n       <use x=\"222.65625\" xlink:href=\"#DejaVuSans-56\"/>\n      </g>\n     </g>\n    </g>\n    <g id=\"ytick_21\">\n     <g id=\"line2d_47\">\n      <g>\n       <use style=\"stroke:#000000;stroke-width:0.8;\" x=\"629.745474\" xlink:href=\"#m7dac0412a8\" y=\"394.252121\"/>\n      </g>\n     </g>\n     <g id=\"text_49\">\n      <!-- 0.040 -->\n      <g transform=\"translate(594.117349 398.05134)scale(0.1 -0.1)\">\n       <use xlink:href=\"#DejaVuSans-48\"/>\n       <use x=\"63.623047\" xlink:href=\"#DejaVuSans-46\"/>\n       <use x=\"95.410156\" xlink:href=\"#DejaVuSans-48\"/>\n       <use x=\"159.033203\" xlink:href=\"#DejaVuSans-52\"/>\n       <use x=\"222.65625\" xlink:href=\"#DejaVuSans-48\"/>\n      </g>\n     </g>\n    </g>\n    <g id=\"ytick_22\">\n     <g id=\"line2d_48\">\n      <g>\n       <use style=\"stroke:#000000;stroke-width:0.8;\" x=\"629.745474\" xlink:href=\"#m7dac0412a8\" y=\"328.541857\"/>\n      </g>\n     </g>\n     <g id=\"text_50\">\n      <!-- 0.042 -->\n      <g transform=\"translate(594.117349 332.341075)scale(0.1 -0.1)\">\n       <use xlink:href=\"#DejaVuSans-48\"/>\n       <use x=\"63.623047\" xlink:href=\"#DejaVuSans-46\"/>\n       <use x=\"95.410156\" xlink:href=\"#DejaVuSans-48\"/>\n       <use x=\"159.033203\" xlink:href=\"#DejaVuSans-52\"/>\n       <use x=\"222.65625\" xlink:href=\"#DejaVuSans-50\"/>\n      </g>\n     </g>\n    </g>\n    <g id=\"ytick_23\">\n     <g id=\"line2d_49\">\n      <g>\n       <use style=\"stroke:#000000;stroke-width:0.8;\" x=\"629.745474\" xlink:href=\"#m7dac0412a8\" y=\"262.831592\"/>\n      </g>\n     </g>\n     <g id=\"text_51\">\n      <!-- 0.044 -->\n      <g transform=\"translate(594.117349 266.630811)scale(0.1 -0.1)\">\n       <use xlink:href=\"#DejaVuSans-48\"/>\n       <use x=\"63.623047\" xlink:href=\"#DejaVuSans-46\"/>\n       <use x=\"95.410156\" xlink:href=\"#DejaVuSans-48\"/>\n       <use x=\"159.033203\" xlink:href=\"#DejaVuSans-52\"/>\n       <use x=\"222.65625\" xlink:href=\"#DejaVuSans-52\"/>\n      </g>\n     </g>\n    </g>\n    <g id=\"ytick_24\">\n     <g id=\"line2d_50\">\n      <g>\n       <use style=\"stroke:#000000;stroke-width:0.8;\" x=\"629.745474\" xlink:href=\"#m7dac0412a8\" y=\"197.121327\"/>\n      </g>\n     </g>\n     <g id=\"text_52\">\n      <!-- 0.046 -->\n      <g transform=\"translate(594.117349 200.920546)scale(0.1 -0.1)\">\n       <use xlink:href=\"#DejaVuSans-48\"/>\n       <use x=\"63.623047\" xlink:href=\"#DejaVuSans-46\"/>\n       <use x=\"95.410156\" xlink:href=\"#DejaVuSans-48\"/>\n       <use x=\"159.033203\" xlink:href=\"#DejaVuSans-52\"/>\n       <use x=\"222.65625\" xlink:href=\"#DejaVuSans-54\"/>\n      </g>\n     </g>\n    </g>\n    <g id=\"ytick_25\">\n     <g id=\"line2d_51\">\n      <g>\n       <use style=\"stroke:#000000;stroke-width:0.8;\" x=\"629.745474\" xlink:href=\"#m7dac0412a8\" y=\"131.411063\"/>\n      </g>\n     </g>\n     <g id=\"text_53\">\n      <!-- 0.048 -->\n      <g transform=\"translate(594.117349 135.210281)scale(0.1 -0.1)\">\n       <use xlink:href=\"#DejaVuSans-48\"/>\n       <use x=\"63.623047\" xlink:href=\"#DejaVuSans-46\"/>\n       <use x=\"95.410156\" xlink:href=\"#DejaVuSans-48\"/>\n       <use x=\"159.033203\" xlink:href=\"#DejaVuSans-52\"/>\n       <use x=\"222.65625\" xlink:href=\"#DejaVuSans-56\"/>\n      </g>\n     </g>\n    </g>\n    <g id=\"ytick_26\">\n     <g id=\"line2d_52\">\n      <g>\n       <use style=\"stroke:#000000;stroke-width:0.8;\" x=\"629.745474\" xlink:href=\"#m7dac0412a8\" y=\"65.700798\"/>\n      </g>\n     </g>\n     <g id=\"text_54\">\n      <!-- 0.050 -->\n      <g transform=\"translate(594.117349 69.500017)scale(0.1 -0.1)\">\n       <use xlink:href=\"#DejaVuSans-48\"/>\n       <use x=\"63.623047\" xlink:href=\"#DejaVuSans-46\"/>\n       <use x=\"95.410156\" xlink:href=\"#DejaVuSans-48\"/>\n       <use x=\"159.033203\" xlink:href=\"#DejaVuSans-53\"/>\n       <use x=\"222.65625\" xlink:href=\"#DejaVuSans-48\"/>\n      </g>\n     </g>\n    </g>\n   </g>\n   <g id=\"line2d_53\">\n    <path clip-path=\"url(#p3eb0f74e8d)\" d=\"M 629.745474 228.688587 \nL 783.676509 228.688587 \n\" style=\"fill:none;stroke:#1f77b4;stroke-linecap:square;stroke-width:1.5;\"/>\n   </g>\n   <g id=\"line2d_54\">\n    <path clip-path=\"url(#p3eb0f74e8d)\" d=\"M 629.745474 489.319943 \nL 783.676509 489.319943 \n\" style=\"fill:none;stroke:#ff0000;stroke-linecap:square;stroke-width:1.5;\"/>\n   </g>\n   <g id=\"patch_18\">\n    <path d=\"M 629.745474 511.558125 \nL 629.745474 22.318125 \n\" style=\"fill:none;stroke:#000000;stroke-linecap:square;stroke-linejoin:miter;stroke-width:0.8;\"/>\n   </g>\n   <g id=\"patch_19\">\n    <path d=\"M 783.676509 511.558125 \nL 783.676509 22.318125 \n\" style=\"fill:none;stroke:#000000;stroke-linecap:square;stroke-linejoin:miter;stroke-width:0.8;\"/>\n   </g>\n   <g id=\"patch_20\">\n    <path d=\"M 629.745474 511.558125 \nL 783.676509 511.558125 \n\" style=\"fill:none;stroke:#000000;stroke-linecap:square;stroke-linejoin:miter;stroke-width:0.8;\"/>\n   </g>\n   <g id=\"patch_21\">\n    <path d=\"M 629.745474 22.318125 \nL 783.676509 22.318125 \n\" style=\"fill:none;stroke:#000000;stroke-linecap:square;stroke-linejoin:miter;stroke-width:0.8;\"/>\n   </g>\n   <g id=\"text_55\">\n    <!-- Variance in 1000 samples -->\n    <g transform=\"translate(629.390679 16.318125)scale(0.12 -0.12)\">\n     <use xlink:href=\"#DejaVuSans-86\"/>\n     <use x=\"60.658203\" xlink:href=\"#DejaVuSans-97\"/>\n     <use x=\"121.9375\" xlink:href=\"#DejaVuSans-114\"/>\n     <use x=\"163.050781\" xlink:href=\"#DejaVuSans-105\"/>\n     <use x=\"190.833984\" xlink:href=\"#DejaVuSans-97\"/>\n     <use x=\"252.113281\" xlink:href=\"#DejaVuSans-110\"/>\n     <use x=\"315.492188\" xlink:href=\"#DejaVuSans-99\"/>\n     <use x=\"370.472656\" xlink:href=\"#DejaVuSans-101\"/>\n     <use x=\"431.996094\" xlink:href=\"#DejaVuSans-32\"/>\n     <use x=\"463.783203\" xlink:href=\"#DejaVuSans-105\"/>\n     <use x=\"491.566406\" xlink:href=\"#DejaVuSans-110\"/>\n     <use x=\"554.945312\" xlink:href=\"#DejaVuSans-32\"/>\n     <use x=\"586.732422\" xlink:href=\"#DejaVuSans-49\"/>\n     <use x=\"650.355469\" xlink:href=\"#DejaVuSans-48\"/>\n     <use x=\"713.978516\" xlink:href=\"#DejaVuSans-48\"/>\n     <use x=\"777.601562\" xlink:href=\"#DejaVuSans-48\"/>\n     <use x=\"841.224609\" xlink:href=\"#DejaVuSans-32\"/>\n     <use x=\"873.011719\" xlink:href=\"#DejaVuSans-115\"/>\n     <use x=\"925.111328\" xlink:href=\"#DejaVuSans-97\"/>\n     <use x=\"986.390625\" xlink:href=\"#DejaVuSans-109\"/>\n     <use x=\"1083.802734\" xlink:href=\"#DejaVuSans-112\"/>\n     <use x=\"1147.279297\" xlink:href=\"#DejaVuSans-108\"/>\n     <use x=\"1175.0625\" xlink:href=\"#DejaVuSans-101\"/>\n     <use x=\"1236.585938\" xlink:href=\"#DejaVuSans-115\"/>\n    </g>\n   </g>\n  </g>\n  <g id=\"axes_5\">\n   <g id=\"patch_22\">\n    <path d=\"M 814.462716 511.558125 \nL 968.39375 511.558125 \nL 968.39375 22.318125 \nL 814.462716 22.318125 \nz\n\" style=\"fill:#ffffff;\"/>\n   </g>\n   <g id=\"PathCollection_5\">\n    <g clip-path=\"url(#paf671cc1b8)\">\n     <use style=\"fill:#1f77b4;stroke:#1f77b4;\" x=\"821.459581\" xlink:href=\"#m82df392d8a\" y=\"402.63556\"/>\n     <use style=\"fill:#1f77b4;stroke:#1f77b4;\" x=\"822.873089\" xlink:href=\"#m82df392d8a\" y=\"308.16722\"/>\n     <use style=\"fill:#1f77b4;stroke:#1f77b4;\" x=\"824.286597\" xlink:href=\"#m82df392d8a\" y=\"338.855631\"/>\n     <use style=\"fill:#1f77b4;stroke:#1f77b4;\" x=\"825.700105\" xlink:href=\"#m82df392d8a\" y=\"466.507129\"/>\n     <use style=\"fill:#1f77b4;stroke:#1f77b4;\" x=\"827.113613\" xlink:href=\"#m82df392d8a\" y=\"409.466467\"/>\n     <use style=\"fill:#1f77b4;stroke:#1f77b4;\" x=\"828.527121\" xlink:href=\"#m82df392d8a\" y=\"325.538812\"/>\n     <use style=\"fill:#1f77b4;stroke:#1f77b4;\" x=\"829.940629\" xlink:href=\"#m82df392d8a\" y=\"295.067102\"/>\n     <use style=\"fill:#1f77b4;stroke:#1f77b4;\" x=\"831.354138\" xlink:href=\"#m82df392d8a\" y=\"260.493181\"/>\n     <use style=\"fill:#1f77b4;stroke:#1f77b4;\" x=\"832.767646\" xlink:href=\"#m82df392d8a\" y=\"216.299283\"/>\n     <use style=\"fill:#1f77b4;stroke:#1f77b4;\" x=\"834.181154\" xlink:href=\"#m82df392d8a\" y=\"331.700213\"/>\n     <use style=\"fill:#1f77b4;stroke:#1f77b4;\" x=\"835.594662\" xlink:href=\"#m82df392d8a\" y=\"363.33197\"/>\n     <use style=\"fill:#1f77b4;stroke:#1f77b4;\" x=\"837.00817\" xlink:href=\"#m82df392d8a\" y=\"359.106855\"/>\n     <use style=\"fill:#1f77b4;stroke:#1f77b4;\" x=\"838.421678\" xlink:href=\"#m82df392d8a\" y=\"427.873045\"/>\n     <use style=\"fill:#1f77b4;stroke:#1f77b4;\" x=\"839.835186\" xlink:href=\"#m82df392d8a\" y=\"359.684723\"/>\n     <use style=\"fill:#1f77b4;stroke:#1f77b4;\" x=\"841.248694\" xlink:href=\"#m82df392d8a\" y=\"289.502974\"/>\n     <use style=\"fill:#1f77b4;stroke:#1f77b4;\" x=\"842.662203\" xlink:href=\"#m82df392d8a\" y=\"329.082561\"/>\n     <use style=\"fill:#1f77b4;stroke:#1f77b4;\" x=\"844.075711\" xlink:href=\"#m82df392d8a\" y=\"317.086427\"/>\n     <use style=\"fill:#1f77b4;stroke:#1f77b4;\" x=\"845.489219\" xlink:href=\"#m82df392d8a\" y=\"348.553233\"/>\n     <use style=\"fill:#1f77b4;stroke:#1f77b4;\" x=\"846.902727\" xlink:href=\"#m82df392d8a\" y=\"378.511763\"/>\n     <use style=\"fill:#1f77b4;stroke:#1f77b4;\" x=\"848.316235\" xlink:href=\"#m82df392d8a\" y=\"289.97303\"/>\n     <use style=\"fill:#1f77b4;stroke:#1f77b4;\" x=\"849.729743\" xlink:href=\"#m82df392d8a\" y=\"304.15665\"/>\n     <use style=\"fill:#1f77b4;stroke:#1f77b4;\" x=\"851.143251\" xlink:href=\"#m82df392d8a\" y=\"315.525323\"/>\n     <use style=\"fill:#1f77b4;stroke:#1f77b4;\" x=\"852.556759\" xlink:href=\"#m82df392d8a\" y=\"293.963117\"/>\n     <use style=\"fill:#1f77b4;stroke:#1f77b4;\" x=\"853.970268\" xlink:href=\"#m82df392d8a\" y=\"306.822817\"/>\n     <use style=\"fill:#1f77b4;stroke:#1f77b4;\" x=\"855.383776\" xlink:href=\"#m82df392d8a\" y=\"305.148511\"/>\n     <use style=\"fill:#1f77b4;stroke:#1f77b4;\" x=\"856.797284\" xlink:href=\"#m82df392d8a\" y=\"262.507092\"/>\n     <use style=\"fill:#1f77b4;stroke:#1f77b4;\" x=\"858.210792\" xlink:href=\"#m82df392d8a\" y=\"400.970958\"/>\n     <use style=\"fill:#1f77b4;stroke:#1f77b4;\" x=\"859.6243\" xlink:href=\"#m82df392d8a\" y=\"311.885623\"/>\n     <use style=\"fill:#1f77b4;stroke:#1f77b4;\" x=\"861.037808\" xlink:href=\"#m82df392d8a\" y=\"172.835265\"/>\n     <use style=\"fill:#1f77b4;stroke:#1f77b4;\" x=\"862.451316\" xlink:href=\"#m82df392d8a\" y=\"310.99726\"/>\n     <use style=\"fill:#1f77b4;stroke:#1f77b4;\" x=\"863.864824\" xlink:href=\"#m82df392d8a\" y=\"343.176697\"/>\n     <use style=\"fill:#1f77b4;stroke:#1f77b4;\" x=\"865.278333\" xlink:href=\"#m82df392d8a\" y=\"445.044108\"/>\n     <use style=\"fill:#1f77b4;stroke:#1f77b4;\" x=\"866.691841\" xlink:href=\"#m82df392d8a\" y=\"349.156975\"/>\n     <use style=\"fill:#1f77b4;stroke:#1f77b4;\" x=\"868.105349\" xlink:href=\"#m82df392d8a\" y=\"278.61945\"/>\n     <use style=\"fill:#1f77b4;stroke:#1f77b4;\" x=\"869.518857\" xlink:href=\"#m82df392d8a\" y=\"377.89185\"/>\n     <use style=\"fill:#1f77b4;stroke:#1f77b4;\" x=\"870.932365\" xlink:href=\"#m82df392d8a\" y=\"298.382291\"/>\n     <use style=\"fill:#1f77b4;stroke:#1f77b4;\" x=\"872.345873\" xlink:href=\"#m82df392d8a\" y=\"366.061745\"/>\n     <use style=\"fill:#1f77b4;stroke:#1f77b4;\" x=\"873.759381\" xlink:href=\"#m82df392d8a\" y=\"249.216147\"/>\n     <use style=\"fill:#1f77b4;stroke:#1f77b4;\" x=\"875.172889\" xlink:href=\"#m82df392d8a\" y=\"219.524989\"/>\n     <use style=\"fill:#1f77b4;stroke:#1f77b4;\" x=\"876.586397\" xlink:href=\"#m82df392d8a\" y=\"344.125434\"/>\n     <use style=\"fill:#1f77b4;stroke:#1f77b4;\" x=\"877.999906\" xlink:href=\"#m82df392d8a\" y=\"372.3633\"/>\n     <use style=\"fill:#1f77b4;stroke:#1f77b4;\" x=\"879.413414\" xlink:href=\"#m82df392d8a\" y=\"205.480446\"/>\n     <use style=\"fill:#1f77b4;stroke:#1f77b4;\" x=\"880.826922\" xlink:href=\"#m82df392d8a\" y=\"418.765169\"/>\n     <use style=\"fill:#1f77b4;stroke:#1f77b4;\" x=\"882.24043\" xlink:href=\"#m82df392d8a\" y=\"250.933577\"/>\n     <use style=\"fill:#1f77b4;stroke:#1f77b4;\" x=\"883.653938\" xlink:href=\"#m82df392d8a\" y=\"354.000925\"/>\n     <use style=\"fill:#1f77b4;stroke:#1f77b4;\" x=\"885.067446\" xlink:href=\"#m82df392d8a\" y=\"309.266893\"/>\n     <use style=\"fill:#1f77b4;stroke:#1f77b4;\" x=\"886.480954\" xlink:href=\"#m82df392d8a\" y=\"293.152378\"/>\n     <use style=\"fill:#1f77b4;stroke:#1f77b4;\" x=\"887.894462\" xlink:href=\"#m82df392d8a\" y=\"268.217842\"/>\n     <use style=\"fill:#1f77b4;stroke:#1f77b4;\" x=\"889.307971\" xlink:href=\"#m82df392d8a\" y=\"258.264727\"/>\n     <use style=\"fill:#1f77b4;stroke:#1f77b4;\" x=\"890.721479\" xlink:href=\"#m82df392d8a\" y=\"212.768471\"/>\n     <use style=\"fill:#1f77b4;stroke:#1f77b4;\" x=\"892.134987\" xlink:href=\"#m82df392d8a\" y=\"385.912991\"/>\n     <use style=\"fill:#1f77b4;stroke:#1f77b4;\" x=\"893.548495\" xlink:href=\"#m82df392d8a\" y=\"44.556307\"/>\n     <use style=\"fill:#1f77b4;stroke:#1f77b4;\" x=\"894.962003\" xlink:href=\"#m82df392d8a\" y=\"384.765881\"/>\n     <use style=\"fill:#1f77b4;stroke:#1f77b4;\" x=\"896.375511\" xlink:href=\"#m82df392d8a\" y=\"384.346496\"/>\n     <use style=\"fill:#1f77b4;stroke:#1f77b4;\" x=\"897.789019\" xlink:href=\"#m82df392d8a\" y=\"329.670131\"/>\n     <use style=\"fill:#1f77b4;stroke:#1f77b4;\" x=\"899.202527\" xlink:href=\"#m82df392d8a\" y=\"289.019981\"/>\n     <use style=\"fill:#1f77b4;stroke:#1f77b4;\" x=\"900.616036\" xlink:href=\"#m82df392d8a\" y=\"322.424151\"/>\n     <use style=\"fill:#1f77b4;stroke:#1f77b4;\" x=\"902.029544\" xlink:href=\"#m82df392d8a\" y=\"279.467923\"/>\n     <use style=\"fill:#1f77b4;stroke:#1f77b4;\" x=\"903.443052\" xlink:href=\"#m82df392d8a\" y=\"489.319943\"/>\n     <use style=\"fill:#1f77b4;stroke:#1f77b4;\" x=\"904.85656\" xlink:href=\"#m82df392d8a\" y=\"424.322827\"/>\n     <use style=\"fill:#1f77b4;stroke:#1f77b4;\" x=\"906.270068\" xlink:href=\"#m82df392d8a\" y=\"265.983997\"/>\n     <use style=\"fill:#1f77b4;stroke:#1f77b4;\" x=\"907.683576\" xlink:href=\"#m82df392d8a\" y=\"162.6482\"/>\n     <use style=\"fill:#1f77b4;stroke:#1f77b4;\" x=\"909.097084\" xlink:href=\"#m82df392d8a\" y=\"348.11013\"/>\n     <use style=\"fill:#1f77b4;stroke:#1f77b4;\" x=\"910.510592\" xlink:href=\"#m82df392d8a\" y=\"421.878751\"/>\n     <use style=\"fill:#1f77b4;stroke:#1f77b4;\" x=\"911.924101\" xlink:href=\"#m82df392d8a\" y=\"269.657119\"/>\n     <use style=\"fill:#1f77b4;stroke:#1f77b4;\" x=\"913.337609\" xlink:href=\"#m82df392d8a\" y=\"243.7663\"/>\n     <use style=\"fill:#1f77b4;stroke:#1f77b4;\" x=\"914.751117\" xlink:href=\"#m82df392d8a\" y=\"414.461352\"/>\n     <use style=\"fill:#1f77b4;stroke:#1f77b4;\" x=\"916.164625\" xlink:href=\"#m82df392d8a\" y=\"212.16473\"/>\n     <use style=\"fill:#1f77b4;stroke:#1f77b4;\" x=\"917.578133\" xlink:href=\"#m82df392d8a\" y=\"328.505772\"/>\n     <use style=\"fill:#1f77b4;stroke:#1f77b4;\" x=\"918.991641\" xlink:href=\"#m82df392d8a\" y=\"320.380054\"/>\n     <use style=\"fill:#1f77b4;stroke:#1f77b4;\" x=\"920.405149\" xlink:href=\"#m82df392d8a\" y=\"334.731859\"/>\n     <use style=\"fill:#1f77b4;stroke:#1f77b4;\" x=\"921.818657\" xlink:href=\"#m82df392d8a\" y=\"362.848976\"/>\n     <use style=\"fill:#1f77b4;stroke:#1f77b4;\" x=\"923.232166\" xlink:href=\"#m82df392d8a\" y=\"322.39073\"/>\n     <use style=\"fill:#1f77b4;stroke:#1f77b4;\" x=\"924.645674\" xlink:href=\"#m82df392d8a\" y=\"291.185904\"/>\n     <use style=\"fill:#1f77b4;stroke:#1f77b4;\" x=\"926.059182\" xlink:href=\"#m82df392d8a\" y=\"427.923716\"/>\n     <use style=\"fill:#1f77b4;stroke:#1f77b4;\" x=\"927.47269\" xlink:href=\"#m82df392d8a\" y=\"328.488522\"/>\n     <use style=\"fill:#1f77b4;stroke:#1f77b4;\" x=\"928.886198\" xlink:href=\"#m82df392d8a\" y=\"341.036648\"/>\n     <use style=\"fill:#1f77b4;stroke:#1f77b4;\" x=\"930.299706\" xlink:href=\"#m82df392d8a\" y=\"428.519911\"/>\n     <use style=\"fill:#1f77b4;stroke:#1f77b4;\" x=\"931.713214\" xlink:href=\"#m82df392d8a\" y=\"362.487809\"/>\n     <use style=\"fill:#1f77b4;stroke:#1f77b4;\" x=\"933.126722\" xlink:href=\"#m82df392d8a\" y=\"353.819802\"/>\n     <use style=\"fill:#1f77b4;stroke:#1f77b4;\" x=\"934.54023\" xlink:href=\"#m82df392d8a\" y=\"294.661732\"/>\n     <use style=\"fill:#1f77b4;stroke:#1f77b4;\" x=\"935.953739\" xlink:href=\"#m82df392d8a\" y=\"240.152474\"/>\n     <use style=\"fill:#1f77b4;stroke:#1f77b4;\" x=\"937.367247\" xlink:href=\"#m82df392d8a\" y=\"339.054003\"/>\n     <use style=\"fill:#1f77b4;stroke:#1f77b4;\" x=\"938.780755\" xlink:href=\"#m82df392d8a\" y=\"382.238791\"/>\n     <use style=\"fill:#1f77b4;stroke:#1f77b4;\" x=\"940.194263\" xlink:href=\"#m82df392d8a\" y=\"317.503656\"/>\n     <use style=\"fill:#1f77b4;stroke:#1f77b4;\" x=\"941.607771\" xlink:href=\"#m82df392d8a\" y=\"377.236359\"/>\n     <use style=\"fill:#1f77b4;stroke:#1f77b4;\" x=\"943.021279\" xlink:href=\"#m82df392d8a\" y=\"290.904518\"/>\n     <use style=\"fill:#1f77b4;stroke:#1f77b4;\" x=\"944.434787\" xlink:href=\"#m82df392d8a\" y=\"267.838347\"/>\n     <use style=\"fill:#1f77b4;stroke:#1f77b4;\" x=\"945.848295\" xlink:href=\"#m82df392d8a\" y=\"271.045725\"/>\n     <use style=\"fill:#1f77b4;stroke:#1f77b4;\" x=\"947.261804\" xlink:href=\"#m82df392d8a\" y=\"93.175848\"/>\n     <use style=\"fill:#1f77b4;stroke:#1f77b4;\" x=\"948.675312\" xlink:href=\"#m82df392d8a\" y=\"181.434273\"/>\n     <use style=\"fill:#1f77b4;stroke:#1f77b4;\" x=\"950.08882\" xlink:href=\"#m82df392d8a\" y=\"304.15665\"/>\n     <use style=\"fill:#1f77b4;stroke:#1f77b4;\" x=\"951.502328\" xlink:href=\"#m82df392d8a\" y=\"258.350976\"/>\n     <use style=\"fill:#1f77b4;stroke:#1f77b4;\" x=\"952.915836\" xlink:href=\"#m82df392d8a\" y=\"245.123641\"/>\n     <use style=\"fill:#1f77b4;stroke:#1f77b4;\" x=\"954.329344\" xlink:href=\"#m82df392d8a\" y=\"261.730852\"/>\n     <use style=\"fill:#1f77b4;stroke:#1f77b4;\" x=\"955.742852\" xlink:href=\"#m82df392d8a\" y=\"405.146479\"/>\n     <use style=\"fill:#1f77b4;stroke:#1f77b4;\" x=\"957.15636\" xlink:href=\"#m82df392d8a\" y=\"189.708769\"/>\n     <use style=\"fill:#1f77b4;stroke:#1f77b4;\" x=\"958.569869\" xlink:href=\"#m82df392d8a\" y=\"390.974719\"/>\n     <use style=\"fill:#1f77b4;stroke:#1f77b4;\" x=\"959.983377\" xlink:href=\"#m82df392d8a\" y=\"329.970924\"/>\n     <use style=\"fill:#1f77b4;stroke:#1f77b4;\" x=\"961.396885\" xlink:href=\"#m82df392d8a\" y=\"398.781316\"/>\n    </g>\n   </g>\n   <g id=\"matplotlib.axis_9\">\n    <g id=\"xtick_21\">\n     <g id=\"line2d_55\">\n      <g>\n       <use style=\"stroke:#000000;stroke-width:0.8;\" x=\"820.046073\" xlink:href=\"#m68ec089b6e\" y=\"511.558125\"/>\n      </g>\n     </g>\n     <g id=\"text_56\">\n      <!-- 0 -->\n      <g transform=\"translate(816.864823 526.156562)scale(0.1 -0.1)\">\n       <use xlink:href=\"#DejaVuSans-48\"/>\n      </g>\n     </g>\n    </g>\n    <g id=\"xtick_22\">\n     <g id=\"line2d_56\">\n      <g>\n       <use style=\"stroke:#000000;stroke-width:0.8;\" x=\"855.383776\" xlink:href=\"#m68ec089b6e\" y=\"511.558125\"/>\n      </g>\n     </g>\n     <g id=\"text_57\">\n      <!-- 25 -->\n      <g transform=\"translate(849.021276 526.156562)scale(0.1 -0.1)\">\n       <use xlink:href=\"#DejaVuSans-50\"/>\n       <use x=\"63.623047\" xlink:href=\"#DejaVuSans-53\"/>\n      </g>\n     </g>\n    </g>\n    <g id=\"xtick_23\">\n     <g id=\"line2d_57\">\n      <g>\n       <use style=\"stroke:#000000;stroke-width:0.8;\" x=\"890.721479\" xlink:href=\"#m68ec089b6e\" y=\"511.558125\"/>\n      </g>\n     </g>\n     <g id=\"text_58\">\n      <!-- 50 -->\n      <g transform=\"translate(884.358979 526.156562)scale(0.1 -0.1)\">\n       <use xlink:href=\"#DejaVuSans-53\"/>\n       <use x=\"63.623047\" xlink:href=\"#DejaVuSans-48\"/>\n      </g>\n     </g>\n    </g>\n    <g id=\"xtick_24\">\n     <g id=\"line2d_58\">\n      <g>\n       <use style=\"stroke:#000000;stroke-width:0.8;\" x=\"926.059182\" xlink:href=\"#m68ec089b6e\" y=\"511.558125\"/>\n      </g>\n     </g>\n     <g id=\"text_59\">\n      <!-- 75 -->\n      <g transform=\"translate(919.696682 526.156562)scale(0.1 -0.1)\">\n       <use xlink:href=\"#DejaVuSans-55\"/>\n       <use x=\"63.623047\" xlink:href=\"#DejaVuSans-53\"/>\n      </g>\n     </g>\n    </g>\n    <g id=\"xtick_25\">\n     <g id=\"line2d_59\">\n      <g>\n       <use style=\"stroke:#000000;stroke-width:0.8;\" x=\"961.396885\" xlink:href=\"#m68ec089b6e\" y=\"511.558125\"/>\n      </g>\n     </g>\n     <g id=\"text_60\">\n      <!-- 100 -->\n      <g transform=\"translate(951.853135 526.156562)scale(0.1 -0.1)\">\n       <use xlink:href=\"#DejaVuSans-49\"/>\n       <use x=\"63.623047\" xlink:href=\"#DejaVuSans-48\"/>\n       <use x=\"127.246094\" xlink:href=\"#DejaVuSans-48\"/>\n      </g>\n     </g>\n    </g>\n    <g id=\"text_61\">\n     <!-- Sample # -->\n     <g transform=\"translate(866.900889 539.834687)scale(0.1 -0.1)\">\n      <use xlink:href=\"#DejaVuSans-83\"/>\n      <use x=\"63.476562\" xlink:href=\"#DejaVuSans-97\"/>\n      <use x=\"124.755859\" xlink:href=\"#DejaVuSans-109\"/>\n      <use x=\"222.167969\" xlink:href=\"#DejaVuSans-112\"/>\n      <use x=\"285.644531\" xlink:href=\"#DejaVuSans-108\"/>\n      <use x=\"313.427734\" xlink:href=\"#DejaVuSans-101\"/>\n      <use x=\"374.951172\" xlink:href=\"#DejaVuSans-32\"/>\n      <use x=\"406.738281\" xlink:href=\"#DejaVuSans-35\"/>\n     </g>\n    </g>\n   </g>\n   <g id=\"matplotlib.axis_10\">\n    <g id=\"ytick_27\">\n     <g id=\"line2d_60\">\n      <g>\n       <use style=\"stroke:#000000;stroke-width:0.8;\" x=\"814.462716\" xlink:href=\"#m7dac0412a8\" y=\"496.082016\"/>\n      </g>\n     </g>\n     <g id=\"text_62\">\n      <!-- 0.3 -->\n      <g transform=\"translate(791.559591 499.881235)scale(0.1 -0.1)\">\n       <use xlink:href=\"#DejaVuSans-48\"/>\n       <use x=\"63.623047\" xlink:href=\"#DejaVuSans-46\"/>\n       <use x=\"95.410156\" xlink:href=\"#DejaVuSans-51\"/>\n      </g>\n     </g>\n    </g>\n    <g id=\"ytick_28\">\n     <g id=\"line2d_61\">\n      <g>\n       <use style=\"stroke:#000000;stroke-width:0.8;\" x=\"814.462716\" xlink:href=\"#m7dac0412a8\" y=\"388.765531\"/>\n      </g>\n     </g>\n     <g id=\"text_63\">\n      <!-- 0.4 -->\n      <g transform=\"translate(791.559591 392.56475)scale(0.1 -0.1)\">\n       <use xlink:href=\"#DejaVuSans-48\"/>\n       <use x=\"63.623047\" xlink:href=\"#DejaVuSans-46\"/>\n       <use x=\"95.410156\" xlink:href=\"#DejaVuSans-52\"/>\n      </g>\n     </g>\n    </g>\n    <g id=\"ytick_29\">\n     <g id=\"line2d_62\">\n      <g>\n       <use style=\"stroke:#000000;stroke-width:0.8;\" x=\"814.462716\" xlink:href=\"#m7dac0412a8\" y=\"281.449046\"/>\n      </g>\n     </g>\n     <g id=\"text_64\">\n      <!-- 0.5 -->\n      <g transform=\"translate(791.559591 285.248265)scale(0.1 -0.1)\">\n       <use xlink:href=\"#DejaVuSans-48\"/>\n       <use x=\"63.623047\" xlink:href=\"#DejaVuSans-46\"/>\n       <use x=\"95.410156\" xlink:href=\"#DejaVuSans-53\"/>\n      </g>\n     </g>\n    </g>\n    <g id=\"ytick_30\">\n     <g id=\"line2d_63\">\n      <g>\n       <use style=\"stroke:#000000;stroke-width:0.8;\" x=\"814.462716\" xlink:href=\"#m7dac0412a8\" y=\"174.132561\"/>\n      </g>\n     </g>\n     <g id=\"text_65\">\n      <!-- 0.6 -->\n      <g transform=\"translate(791.559591 177.93178)scale(0.1 -0.1)\">\n       <use xlink:href=\"#DejaVuSans-48\"/>\n       <use x=\"63.623047\" xlink:href=\"#DejaVuSans-46\"/>\n       <use x=\"95.410156\" xlink:href=\"#DejaVuSans-54\"/>\n      </g>\n     </g>\n    </g>\n    <g id=\"ytick_31\">\n     <g id=\"line2d_64\">\n      <g>\n       <use style=\"stroke:#000000;stroke-width:0.8;\" x=\"814.462716\" xlink:href=\"#m7dac0412a8\" y=\"66.816076\"/>\n      </g>\n     </g>\n     <g id=\"text_66\">\n      <!-- 0.7 -->\n      <g transform=\"translate(791.559591 70.615295)scale(0.1 -0.1)\">\n       <use xlink:href=\"#DejaVuSans-48\"/>\n       <use x=\"63.623047\" xlink:href=\"#DejaVuSans-46\"/>\n       <use x=\"95.410156\" xlink:href=\"#DejaVuSans-55\"/>\n      </g>\n     </g>\n    </g>\n   </g>\n   <g id=\"line2d_65\">\n    <path clip-path=\"url(#paf671cc1b8)\" d=\"M 814.462716 317.306502 \nL 968.39375 317.306502 \n\" style=\"fill:none;stroke:#1f77b4;stroke-linecap:square;stroke-width:1.5;\"/>\n   </g>\n   <g id=\"line2d_66\">\n    <path clip-path=\"url(#paf671cc1b8)\" d=\"M 814.462716 233.739183 \nL 968.39375 233.739183 \n\" style=\"fill:none;stroke:#ff0000;stroke-linecap:square;stroke-width:1.5;\"/>\n   </g>\n   <g id=\"patch_23\">\n    <path d=\"M 814.462716 511.558125 \nL 814.462716 22.318125 \n\" style=\"fill:none;stroke:#000000;stroke-linecap:square;stroke-linejoin:miter;stroke-width:0.8;\"/>\n   </g>\n   <g id=\"patch_24\">\n    <path d=\"M 968.39375 511.558125 \nL 968.39375 22.318125 \n\" style=\"fill:none;stroke:#000000;stroke-linecap:square;stroke-linejoin:miter;stroke-width:0.8;\"/>\n   </g>\n   <g id=\"patch_25\">\n    <path d=\"M 814.462716 511.558125 \nL 968.39375 511.558125 \n\" style=\"fill:none;stroke:#000000;stroke-linecap:square;stroke-linejoin:miter;stroke-width:0.8;\"/>\n   </g>\n   <g id=\"patch_26\">\n    <path d=\"M 814.462716 22.318125 \nL 968.39375 22.318125 \n\" style=\"fill:none;stroke:#000000;stroke-linecap:square;stroke-linejoin:miter;stroke-width:0.8;\"/>\n   </g>\n   <g id=\"text_67\">\n    <!-- Variance in 100 samples -->\n    <g transform=\"translate(817.92542 16.318125)scale(0.12 -0.12)\">\n     <use xlink:href=\"#DejaVuSans-86\"/>\n     <use x=\"60.658203\" xlink:href=\"#DejaVuSans-97\"/>\n     <use x=\"121.9375\" xlink:href=\"#DejaVuSans-114\"/>\n     <use x=\"163.050781\" xlink:href=\"#DejaVuSans-105\"/>\n     <use x=\"190.833984\" xlink:href=\"#DejaVuSans-97\"/>\n     <use x=\"252.113281\" xlink:href=\"#DejaVuSans-110\"/>\n     <use x=\"315.492188\" xlink:href=\"#DejaVuSans-99\"/>\n     <use x=\"370.472656\" xlink:href=\"#DejaVuSans-101\"/>\n     <use x=\"431.996094\" xlink:href=\"#DejaVuSans-32\"/>\n     <use x=\"463.783203\" xlink:href=\"#DejaVuSans-105\"/>\n     <use x=\"491.566406\" xlink:href=\"#DejaVuSans-110\"/>\n     <use x=\"554.945312\" xlink:href=\"#DejaVuSans-32\"/>\n     <use x=\"586.732422\" xlink:href=\"#DejaVuSans-49\"/>\n     <use x=\"650.355469\" xlink:href=\"#DejaVuSans-48\"/>\n     <use x=\"713.978516\" xlink:href=\"#DejaVuSans-48\"/>\n     <use x=\"777.601562\" xlink:href=\"#DejaVuSans-32\"/>\n     <use x=\"809.388672\" xlink:href=\"#DejaVuSans-115\"/>\n     <use x=\"861.488281\" xlink:href=\"#DejaVuSans-97\"/>\n     <use x=\"922.767578\" xlink:href=\"#DejaVuSans-109\"/>\n     <use x=\"1020.179688\" xlink:href=\"#DejaVuSans-112\"/>\n     <use x=\"1083.65625\" xlink:href=\"#DejaVuSans-108\"/>\n     <use x=\"1111.439453\" xlink:href=\"#DejaVuSans-101\"/>\n     <use x=\"1172.962891\" xlink:href=\"#DejaVuSans-115\"/>\n    </g>\n   </g>\n  </g>\n </g>\n <defs>\n  <clipPath id=\"pdb48c2c3d6\">\n   <rect height=\"489.24\" width=\"153.931034\" x=\"75.59375\" y=\"22.318125\"/>\n  </clipPath>\n  <clipPath id=\"p58506d90b7\">\n   <rect height=\"489.24\" width=\"153.931034\" x=\"260.310991\" y=\"22.318125\"/>\n  </clipPath>\n  <clipPath id=\"pb047bca6a7\">\n   <rect height=\"489.24\" width=\"153.931034\" x=\"445.028233\" y=\"22.318125\"/>\n  </clipPath>\n  <clipPath id=\"p3eb0f74e8d\">\n   <rect height=\"489.24\" width=\"153.931034\" x=\"629.745474\" y=\"22.318125\"/>\n  </clipPath>\n  <clipPath id=\"paf671cc1b8\">\n   <rect height=\"489.24\" width=\"153.931034\" x=\"814.462716\" y=\"22.318125\"/>\n  </clipPath>\n </defs>\n</svg>\n",
      "image/png": "[encoded data removed]"
     },
     "metadata": {
      "needs_background": "light"
     }
    }
   ],
   "source": [
    "\n",
    "import matplotlib.pyplot as plt\n",
    "plt.figure(figsize=(16,9))\n",
    "for sample_size in range(len(sample_var_SRS_Overall)):\n",
    "    plt.subplot(1, 5,sample_size+1)\n",
    "    plt.scatter(range(1,101), sample_var_SRS_Overall.iloc[sample_size].values)\n",
    "    plt.axhline(sample_var_SRS_Overall.iloc[sample_size].mean())\n",
    "    plt.axhline(sample_mean_SRS_Overall.var(axis = 1).iloc[sample_size], color = 'red')\n",
    "    #plt.ylim(2,50)\n",
    "    plt.xlabel(\"Sample #\")\n",
    "    if sample_size == 0:\n",
    "        plt.ylabel(\"Variance of Sampling mean\")\n",
    "    plt.title('Variance in '+ str(sample_var_SRS_Overall.index[sample_size])+' samples')\n",
    "# 0.0005615<0.00215<0.00694<0.045<0.48  variance of sample mean is growing with the size of sampe decreasing\n"
   ]
  },
  {
   "cell_type": "code",
   "execution_count": 11,
   "metadata": {},
   "outputs": [
    {
     "output_type": "display_data",
     "data": {
      "text/plain": "<Figure size 1152x360 with 2 Axes>",
      "image/svg+xml": "<?xml version=\"1.0\" encoding=\"utf-8\" standalone=\"no\"?>\n<!DOCTYPE svg PUBLIC \"-//W3C//DTD SVG 1.1//EN\"\n  \"http://www.w3.org/Graphics/SVG/1.1/DTD/svg11.dtd\">\n<!-- Created with matplotlib (https://matplotlib.org/) -->\n<svg height=\"331.674375pt\" version=\"1.1\" viewBox=\"0 0 962.86875 331.674375\" width=\"962.86875pt\" xmlns=\"http://www.w3.org/2000/svg\" xmlns:xlink=\"http://www.w3.org/1999/xlink\">\n <defs>\n  <style type=\"text/css\">\n*{stroke-linecap:butt;stroke-linejoin:round;}\n  </style>\n </defs>\n <g id=\"figure_1\">\n  <g id=\"patch_1\">\n   <path d=\"M 0 331.674375 \nL 962.86875 331.674375 \nL 962.86875 0 \nL 0 0 \nz\n\" style=\"fill:none;\"/>\n  </g>\n  <g id=\"axes_1\">\n   <g id=\"patch_2\">\n    <path d=\"M 62.86875 294.118125 \nL 468.686932 294.118125 \nL 468.686932 22.318125 \nL 62.86875 22.318125 \nz\n\" style=\"fill:#ffffff;\"/>\n   </g>\n   <g id=\"PathCollection_1\">\n    <defs>\n     <path d=\"M 0 3 \nC 0.795609 3 1.55874 2.683901 2.12132 2.12132 \nC 2.683901 1.55874 3 0.795609 3 0 \nC 3 -0.795609 2.683901 -1.55874 2.12132 -2.12132 \nC 1.55874 -2.683901 0.795609 -3 0 -3 \nC -0.795609 -3 -1.55874 -2.683901 -2.12132 -2.12132 \nC -2.683901 -1.55874 -3 -0.795609 -3 0 \nC -3 0.795609 -2.683901 1.55874 -2.12132 2.12132 \nC -1.55874 2.683901 -0.795609 3 0 3 \nz\n\" id=\"m3fdd7df277\" style=\"stroke:#1f77b4;\"/>\n    </defs>\n    <g clip-path=\"url(#pa494836e1a)\">\n     <use style=\"fill:#1f77b4;stroke:#1f77b4;\" x=\"81.315031\" xlink:href=\"#m3fdd7df277\" y=\"170.15856\"/>\n     <use style=\"fill:#1f77b4;stroke:#1f77b4;\" x=\"85.041552\" xlink:href=\"#m3fdd7df277\" y=\"168.709442\"/>\n     <use style=\"fill:#1f77b4;stroke:#1f77b4;\" x=\"88.768074\" xlink:href=\"#m3fdd7df277\" y=\"164.849653\"/>\n     <use style=\"fill:#1f77b4;stroke:#1f77b4;\" x=\"92.494595\" xlink:href=\"#m3fdd7df277\" y=\"152.791379\"/>\n     <use style=\"fill:#1f77b4;stroke:#1f77b4;\" x=\"96.221117\" xlink:href=\"#m3fdd7df277\" y=\"158.039545\"/>\n     <use style=\"fill:#1f77b4;stroke:#1f77b4;\" x=\"99.947638\" xlink:href=\"#m3fdd7df277\" y=\"147.4311\"/>\n     <use style=\"fill:#1f77b4;stroke:#1f77b4;\" x=\"103.674159\" xlink:href=\"#m3fdd7df277\" y=\"164.896109\"/>\n     <use style=\"fill:#1f77b4;stroke:#1f77b4;\" x=\"107.400681\" xlink:href=\"#m3fdd7df277\" y=\"162.070866\"/>\n     <use style=\"fill:#1f77b4;stroke:#1f77b4;\" x=\"111.127202\" xlink:href=\"#m3fdd7df277\" y=\"129.036147\"/>\n     <use style=\"fill:#1f77b4;stroke:#1f77b4;\" x=\"114.853724\" xlink:href=\"#m3fdd7df277\" y=\"200.926425\"/>\n     <use style=\"fill:#1f77b4;stroke:#1f77b4;\" x=\"118.580245\" xlink:href=\"#m3fdd7df277\" y=\"163.738524\"/>\n     <use style=\"fill:#1f77b4;stroke:#1f77b4;\" x=\"122.306767\" xlink:href=\"#m3fdd7df277\" y=\"166.987188\"/>\n     <use style=\"fill:#1f77b4;stroke:#1f77b4;\" x=\"126.033288\" xlink:href=\"#m3fdd7df277\" y=\"136.878237\"/>\n     <use style=\"fill:#1f77b4;stroke:#1f77b4;\" x=\"129.759809\" xlink:href=\"#m3fdd7df277\" y=\"217.468932\"/>\n     <use style=\"fill:#1f77b4;stroke:#1f77b4;\" x=\"133.486331\" xlink:href=\"#m3fdd7df277\" y=\"146.130641\"/>\n     <use style=\"fill:#1f77b4;stroke:#1f77b4;\" x=\"137.212852\" xlink:href=\"#m3fdd7df277\" y=\"155.369056\"/>\n     <use style=\"fill:#1f77b4;stroke:#1f77b4;\" x=\"140.939374\" xlink:href=\"#m3fdd7df277\" y=\"177.572289\"/>\n     <use style=\"fill:#1f77b4;stroke:#1f77b4;\" x=\"144.665895\" xlink:href=\"#m3fdd7df277\" y=\"186.412054\"/>\n     <use style=\"fill:#1f77b4;stroke:#1f77b4;\" x=\"148.392416\" xlink:href=\"#m3fdd7df277\" y=\"179.2104\"/>\n     <use style=\"fill:#1f77b4;stroke:#1f77b4;\" x=\"152.118938\" xlink:href=\"#m3fdd7df277\" y=\"118.498856\"/>\n     <use style=\"fill:#1f77b4;stroke:#1f77b4;\" x=\"155.845459\" xlink:href=\"#m3fdd7df277\" y=\"183.977417\"/>\n     <use style=\"fill:#1f77b4;stroke:#1f77b4;\" x=\"159.571981\" xlink:href=\"#m3fdd7df277\" y=\"136.316601\"/>\n     <use style=\"fill:#1f77b4;stroke:#1f77b4;\" x=\"163.298502\" xlink:href=\"#m3fdd7df277\" y=\"172.718442\"/>\n     <use style=\"fill:#1f77b4;stroke:#1f77b4;\" x=\"167.025023\" xlink:href=\"#m3fdd7df277\" y=\"138.75317\"/>\n     <use style=\"fill:#1f77b4;stroke:#1f77b4;\" x=\"170.751545\" xlink:href=\"#m3fdd7df277\" y=\"115.395546\"/>\n     <use style=\"fill:#1f77b4;stroke:#1f77b4;\" x=\"174.478066\" xlink:href=\"#m3fdd7df277\" y=\"134.170589\"/>\n     <use style=\"fill:#1f77b4;stroke:#1f77b4;\" x=\"178.204588\" xlink:href=\"#m3fdd7df277\" y=\"141.457483\"/>\n     <use style=\"fill:#1f77b4;stroke:#1f77b4;\" x=\"181.931109\" xlink:href=\"#m3fdd7df277\" y=\"150.560547\"/>\n     <use style=\"fill:#1f77b4;stroke:#1f77b4;\" x=\"185.657631\" xlink:href=\"#m3fdd7df277\" y=\"181.655432\"/>\n     <use style=\"fill:#1f77b4;stroke:#1f77b4;\" x=\"189.384152\" xlink:href=\"#m3fdd7df277\" y=\"174.762369\"/>\n     <use style=\"fill:#1f77b4;stroke:#1f77b4;\" x=\"193.110673\" xlink:href=\"#m3fdd7df277\" y=\"135.910527\"/>\n     <use style=\"fill:#1f77b4;stroke:#1f77b4;\" x=\"196.837195\" xlink:href=\"#m3fdd7df277\" y=\"185.989327\"/>\n     <use style=\"fill:#1f77b4;stroke:#1f77b4;\" x=\"200.563716\" xlink:href=\"#m3fdd7df277\" y=\"195.029619\"/>\n     <use style=\"fill:#1f77b4;stroke:#1f77b4;\" x=\"204.290238\" xlink:href=\"#m3fdd7df277\" y=\"148.723321\"/>\n     <use style=\"fill:#1f77b4;stroke:#1f77b4;\" x=\"208.016759\" xlink:href=\"#m3fdd7df277\" y=\"207.253465\"/>\n     <use style=\"fill:#1f77b4;stroke:#1f77b4;\" x=\"211.74328\" xlink:href=\"#m3fdd7df277\" y=\"188.59224\"/>\n     <use style=\"fill:#1f77b4;stroke:#1f77b4;\" x=\"215.469802\" xlink:href=\"#m3fdd7df277\" y=\"151.814274\"/>\n     <use style=\"fill:#1f77b4;stroke:#1f77b4;\" x=\"219.196323\" xlink:href=\"#m3fdd7df277\" y=\"153.357522\"/>\n     <use style=\"fill:#1f77b4;stroke:#1f77b4;\" x=\"222.922845\" xlink:href=\"#m3fdd7df277\" y=\"140.720863\"/>\n     <use style=\"fill:#1f77b4;stroke:#1f77b4;\" x=\"226.649366\" xlink:href=\"#m3fdd7df277\" y=\"139.178468\"/>\n     <use style=\"fill:#1f77b4;stroke:#1f77b4;\" x=\"230.375887\" xlink:href=\"#m3fdd7df277\" y=\"186.600092\"/>\n     <use style=\"fill:#1f77b4;stroke:#1f77b4;\" x=\"234.102409\" xlink:href=\"#m3fdd7df277\" y=\"169.325636\"/>\n     <use style=\"fill:#1f77b4;stroke:#1f77b4;\" x=\"237.82893\" xlink:href=\"#m3fdd7df277\" y=\"183.302336\"/>\n     <use style=\"fill:#1f77b4;stroke:#1f77b4;\" x=\"241.555452\" xlink:href=\"#m3fdd7df277\" y=\"177.149121\"/>\n     <use style=\"fill:#1f77b4;stroke:#1f77b4;\" x=\"245.281973\" xlink:href=\"#m3fdd7df277\" y=\"151.50121\"/>\n     <use style=\"fill:#1f77b4;stroke:#1f77b4;\" x=\"249.008495\" xlink:href=\"#m3fdd7df277\" y=\"147.645624\"/>\n     <use style=\"fill:#1f77b4;stroke:#1f77b4;\" x=\"252.735016\" xlink:href=\"#m3fdd7df277\" y=\"189.752141\"/>\n     <use style=\"fill:#1f77b4;stroke:#1f77b4;\" x=\"256.461537\" xlink:href=\"#m3fdd7df277\" y=\"156.38138\"/>\n     <use style=\"fill:#1f77b4;stroke:#1f77b4;\" x=\"260.188059\" xlink:href=\"#m3fdd7df277\" y=\"156.087916\"/>\n     <use style=\"fill:#1f77b4;stroke:#1f77b4;\" x=\"263.91458\" xlink:href=\"#m3fdd7df277\" y=\"146.658283\"/>\n     <use style=\"fill:#1f77b4;stroke:#1f77b4;\" x=\"267.641102\" xlink:href=\"#m3fdd7df277\" y=\"169.710903\"/>\n     <use style=\"fill:#1f77b4;stroke:#1f77b4;\" x=\"271.367623\" xlink:href=\"#m3fdd7df277\" y=\"143.10281\"/>\n     <use style=\"fill:#1f77b4;stroke:#1f77b4;\" x=\"275.094144\" xlink:href=\"#m3fdd7df277\" y=\"179.361867\"/>\n     <use style=\"fill:#1f77b4;stroke:#1f77b4;\" x=\"278.820666\" xlink:href=\"#m3fdd7df277\" y=\"182.02014\"/>\n     <use style=\"fill:#1f77b4;stroke:#1f77b4;\" x=\"282.547187\" xlink:href=\"#m3fdd7df277\" y=\"134.11302\"/>\n     <use style=\"fill:#1f77b4;stroke:#1f77b4;\" x=\"286.273709\" xlink:href=\"#m3fdd7df277\" y=\"188.740138\"/>\n     <use style=\"fill:#1f77b4;stroke:#1f77b4;\" x=\"290.00023\" xlink:href=\"#m3fdd7df277\" y=\"147.097209\"/>\n     <use style=\"fill:#1f77b4;stroke:#1f77b4;\" x=\"293.726752\" xlink:href=\"#m3fdd7df277\" y=\"109.024321\"/>\n     <use style=\"fill:#1f77b4;stroke:#1f77b4;\" x=\"297.453273\" xlink:href=\"#m3fdd7df277\" y=\"168.035212\"/>\n     <use style=\"fill:#1f77b4;stroke:#1f77b4;\" x=\"301.179794\" xlink:href=\"#m3fdd7df277\" y=\"186.407082\"/>\n     <use style=\"fill:#1f77b4;stroke:#1f77b4;\" x=\"304.906316\" xlink:href=\"#m3fdd7df277\" y=\"142.155469\"/>\n     <use style=\"fill:#1f77b4;stroke:#1f77b4;\" x=\"308.632837\" xlink:href=\"#m3fdd7df277\" y=\"146.120468\"/>\n     <use style=\"fill:#1f77b4;stroke:#1f77b4;\" x=\"312.359359\" xlink:href=\"#m3fdd7df277\" y=\"154.217183\"/>\n     <use style=\"fill:#1f77b4;stroke:#1f77b4;\" x=\"316.08588\" xlink:href=\"#m3fdd7df277\" y=\"150.007275\"/>\n     <use style=\"fill:#1f77b4;stroke:#1f77b4;\" x=\"319.812401\" xlink:href=\"#m3fdd7df277\" y=\"122.221016\"/>\n     <use style=\"fill:#1f77b4;stroke:#1f77b4;\" x=\"323.538923\" xlink:href=\"#m3fdd7df277\" y=\"135.514415\"/>\n     <use style=\"fill:#1f77b4;stroke:#1f77b4;\" x=\"327.265444\" xlink:href=\"#m3fdd7df277\" y=\"193.489265\"/>\n     <use style=\"fill:#1f77b4;stroke:#1f77b4;\" x=\"330.991966\" xlink:href=\"#m3fdd7df277\" y=\"132.520208\"/>\n     <use style=\"fill:#1f77b4;stroke:#1f77b4;\" x=\"334.718487\" xlink:href=\"#m3fdd7df277\" y=\"143.648491\"/>\n     <use style=\"fill:#1f77b4;stroke:#1f77b4;\" x=\"338.445008\" xlink:href=\"#m3fdd7df277\" y=\"161.935734\"/>\n     <use style=\"fill:#1f77b4;stroke:#1f77b4;\" x=\"342.17153\" xlink:href=\"#m3fdd7df277\" y=\"138.990842\"/>\n     <use style=\"fill:#1f77b4;stroke:#1f77b4;\" x=\"345.898051\" xlink:href=\"#m3fdd7df277\" y=\"137.270549\"/>\n     <use style=\"fill:#1f77b4;stroke:#1f77b4;\" x=\"349.624573\" xlink:href=\"#m3fdd7df277\" y=\"123.437445\"/>\n     <use style=\"fill:#1f77b4;stroke:#1f77b4;\" x=\"353.351094\" xlink:href=\"#m3fdd7df277\" y=\"164.77466\"/>\n     <use style=\"fill:#1f77b4;stroke:#1f77b4;\" x=\"357.077616\" xlink:href=\"#m3fdd7df277\" y=\"204.514017\"/>\n     <use style=\"fill:#1f77b4;stroke:#1f77b4;\" x=\"360.804137\" xlink:href=\"#m3fdd7df277\" y=\"150.609805\"/>\n     <use style=\"fill:#1f77b4;stroke:#1f77b4;\" x=\"364.530658\" xlink:href=\"#m3fdd7df277\" y=\"142.487767\"/>\n     <use style=\"fill:#1f77b4;stroke:#1f77b4;\" x=\"368.25718\" xlink:href=\"#m3fdd7df277\" y=\"169.077618\"/>\n     <use style=\"fill:#1f77b4;stroke:#1f77b4;\" x=\"371.983701\" xlink:href=\"#m3fdd7df277\" y=\"151.251151\"/>\n     <use style=\"fill:#1f77b4;stroke:#1f77b4;\" x=\"375.710223\" xlink:href=\"#m3fdd7df277\" y=\"171.568396\"/>\n     <use style=\"fill:#1f77b4;stroke:#1f77b4;\" x=\"379.436744\" xlink:href=\"#m3fdd7df277\" y=\"149.562755\"/>\n     <use style=\"fill:#1f77b4;stroke:#1f77b4;\" x=\"383.163265\" xlink:href=\"#m3fdd7df277\" y=\"116.516538\"/>\n     <use style=\"fill:#1f77b4;stroke:#1f77b4;\" x=\"386.889787\" xlink:href=\"#m3fdd7df277\" y=\"127.144397\"/>\n     <use style=\"fill:#1f77b4;stroke:#1f77b4;\" x=\"390.616308\" xlink:href=\"#m3fdd7df277\" y=\"137.942695\"/>\n     <use style=\"fill:#1f77b4;stroke:#1f77b4;\" x=\"394.34283\" xlink:href=\"#m3fdd7df277\" y=\"158.70336\"/>\n     <use style=\"fill:#1f77b4;stroke:#1f77b4;\" x=\"398.069351\" xlink:href=\"#m3fdd7df277\" y=\"155.721714\"/>\n     <use style=\"fill:#1f77b4;stroke:#1f77b4;\" x=\"401.795872\" xlink:href=\"#m3fdd7df277\" y=\"164.495935\"/>\n     <use style=\"fill:#1f77b4;stroke:#1f77b4;\" x=\"405.522394\" xlink:href=\"#m3fdd7df277\" y=\"156.208018\"/>\n     <use style=\"fill:#1f77b4;stroke:#1f77b4;\" x=\"409.248915\" xlink:href=\"#m3fdd7df277\" y=\"199.705943\"/>\n     <use style=\"fill:#1f77b4;stroke:#1f77b4;\" x=\"412.975437\" xlink:href=\"#m3fdd7df277\" y=\"141.698445\"/>\n     <use style=\"fill:#1f77b4;stroke:#1f77b4;\" x=\"416.701958\" xlink:href=\"#m3fdd7df277\" y=\"166.265086\"/>\n     <use style=\"fill:#1f77b4;stroke:#1f77b4;\" x=\"420.42848\" xlink:href=\"#m3fdd7df277\" y=\"172.717331\"/>\n     <use style=\"fill:#1f77b4;stroke:#1f77b4;\" x=\"424.155001\" xlink:href=\"#m3fdd7df277\" y=\"175.579384\"/>\n     <use style=\"fill:#1f77b4;stroke:#1f77b4;\" x=\"427.881522\" xlink:href=\"#m3fdd7df277\" y=\"110.991056\"/>\n     <use style=\"fill:#1f77b4;stroke:#1f77b4;\" x=\"431.608044\" xlink:href=\"#m3fdd7df277\" y=\"162.844707\"/>\n     <use style=\"fill:#1f77b4;stroke:#1f77b4;\" x=\"435.334565\" xlink:href=\"#m3fdd7df277\" y=\"138.630228\"/>\n     <use style=\"fill:#1f77b4;stroke:#1f77b4;\" x=\"439.061087\" xlink:href=\"#m3fdd7df277\" y=\"153.887565\"/>\n     <use style=\"fill:#1f77b4;stroke:#1f77b4;\" x=\"442.787608\" xlink:href=\"#m3fdd7df277\" y=\"161.376994\"/>\n     <use style=\"fill:#1f77b4;stroke:#1f77b4;\" x=\"446.514129\" xlink:href=\"#m3fdd7df277\" y=\"174.736268\"/>\n     <use style=\"fill:#1f77b4;stroke:#1f77b4;\" x=\"450.240651\" xlink:href=\"#m3fdd7df277\" y=\"123.755049\"/>\n    </g>\n   </g>\n   <g id=\"matplotlib.axis_1\">\n    <g id=\"xtick_1\">\n     <g id=\"line2d_1\">\n      <defs>\n       <path d=\"M 0 0 \nL 0 3.5 \n\" id=\"mffd3714008\" style=\"stroke:#000000;stroke-width:0.8;\"/>\n      </defs>\n      <g>\n       <use style=\"stroke:#000000;stroke-width:0.8;\" x=\"77.58851\" xlink:href=\"#mffd3714008\" y=\"294.118125\"/>\n      </g>\n     </g>\n     <g id=\"text_1\">\n      <!-- 0 -->\n      <defs>\n       <path d=\"M 31.78125 66.40625 \nQ 24.171875 66.40625 20.328125 58.90625 \nQ 16.5 51.421875 16.5 36.375 \nQ 16.5 21.390625 20.328125 13.890625 \nQ 24.171875 6.390625 31.78125 6.390625 \nQ 39.453125 6.390625 43.28125 13.890625 \nQ 47.125 21.390625 47.125 36.375 \nQ 47.125 51.421875 43.28125 58.90625 \nQ 39.453125 66.40625 31.78125 66.40625 \nz\nM 31.78125 74.21875 \nQ 44.046875 74.21875 50.515625 64.515625 \nQ 56.984375 54.828125 56.984375 36.375 \nQ 56.984375 17.96875 50.515625 8.265625 \nQ 44.046875 -1.421875 31.78125 -1.421875 \nQ 19.53125 -1.421875 13.0625 8.265625 \nQ 6.59375 17.96875 6.59375 36.375 \nQ 6.59375 54.828125 13.0625 64.515625 \nQ 19.53125 74.21875 31.78125 74.21875 \nz\n\" id=\"DejaVuSans-48\"/>\n      </defs>\n      <g transform=\"translate(74.40726 308.716563)scale(0.1 -0.1)\">\n       <use xlink:href=\"#DejaVuSans-48\"/>\n      </g>\n     </g>\n    </g>\n    <g id=\"xtick_2\">\n     <g id=\"line2d_2\">\n      <g>\n       <use style=\"stroke:#000000;stroke-width:0.8;\" x=\"152.118938\" xlink:href=\"#mffd3714008\" y=\"294.118125\"/>\n      </g>\n     </g>\n     <g id=\"text_2\">\n      <!-- 20 -->\n      <defs>\n       <path d=\"M 19.1875 8.296875 \nL 53.609375 8.296875 \nL 53.609375 0 \nL 7.328125 0 \nL 7.328125 8.296875 \nQ 12.9375 14.109375 22.625 23.890625 \nQ 32.328125 33.6875 34.8125 36.53125 \nQ 39.546875 41.84375 41.421875 45.53125 \nQ 43.3125 49.21875 43.3125 52.78125 \nQ 43.3125 58.59375 39.234375 62.25 \nQ 35.15625 65.921875 28.609375 65.921875 \nQ 23.96875 65.921875 18.8125 64.3125 \nQ 13.671875 62.703125 7.8125 59.421875 \nL 7.8125 69.390625 \nQ 13.765625 71.78125 18.9375 73 \nQ 24.125 74.21875 28.421875 74.21875 \nQ 39.75 74.21875 46.484375 68.546875 \nQ 53.21875 62.890625 53.21875 53.421875 \nQ 53.21875 48.921875 51.53125 44.890625 \nQ 49.859375 40.875 45.40625 35.40625 \nQ 44.1875 33.984375 37.640625 27.21875 \nQ 31.109375 20.453125 19.1875 8.296875 \nz\n\" id=\"DejaVuSans-50\"/>\n      </defs>\n      <g transform=\"translate(145.756438 308.716563)scale(0.1 -0.1)\">\n       <use xlink:href=\"#DejaVuSans-50\"/>\n       <use x=\"63.623047\" xlink:href=\"#DejaVuSans-48\"/>\n      </g>\n     </g>\n    </g>\n    <g id=\"xtick_3\">\n     <g id=\"line2d_3\">\n      <g>\n       <use style=\"stroke:#000000;stroke-width:0.8;\" x=\"226.649366\" xlink:href=\"#mffd3714008\" y=\"294.118125\"/>\n      </g>\n     </g>\n     <g id=\"text_3\">\n      <!-- 40 -->\n      <defs>\n       <path d=\"M 37.796875 64.3125 \nL 12.890625 25.390625 \nL 37.796875 25.390625 \nz\nM 35.203125 72.90625 \nL 47.609375 72.90625 \nL 47.609375 25.390625 \nL 58.015625 25.390625 \nL 58.015625 17.1875 \nL 47.609375 17.1875 \nL 47.609375 0 \nL 37.796875 0 \nL 37.796875 17.1875 \nL 4.890625 17.1875 \nL 4.890625 26.703125 \nz\n\" id=\"DejaVuSans-52\"/>\n      </defs>\n      <g transform=\"translate(220.286866 308.716563)scale(0.1 -0.1)\">\n       <use xlink:href=\"#DejaVuSans-52\"/>\n       <use x=\"63.623047\" xlink:href=\"#DejaVuSans-48\"/>\n      </g>\n     </g>\n    </g>\n    <g id=\"xtick_4\">\n     <g id=\"line2d_4\">\n      <g>\n       <use style=\"stroke:#000000;stroke-width:0.8;\" x=\"301.179794\" xlink:href=\"#mffd3714008\" y=\"294.118125\"/>\n      </g>\n     </g>\n     <g id=\"text_4\">\n      <!-- 60 -->\n      <defs>\n       <path d=\"M 33.015625 40.375 \nQ 26.375 40.375 22.484375 35.828125 \nQ 18.609375 31.296875 18.609375 23.390625 \nQ 18.609375 15.53125 22.484375 10.953125 \nQ 26.375 6.390625 33.015625 6.390625 \nQ 39.65625 6.390625 43.53125 10.953125 \nQ 47.40625 15.53125 47.40625 23.390625 \nQ 47.40625 31.296875 43.53125 35.828125 \nQ 39.65625 40.375 33.015625 40.375 \nz\nM 52.59375 71.296875 \nL 52.59375 62.3125 \nQ 48.875 64.0625 45.09375 64.984375 \nQ 41.3125 65.921875 37.59375 65.921875 \nQ 27.828125 65.921875 22.671875 59.328125 \nQ 17.53125 52.734375 16.796875 39.40625 \nQ 19.671875 43.65625 24.015625 45.921875 \nQ 28.375 48.1875 33.59375 48.1875 \nQ 44.578125 48.1875 50.953125 41.515625 \nQ 57.328125 34.859375 57.328125 23.390625 \nQ 57.328125 12.15625 50.6875 5.359375 \nQ 44.046875 -1.421875 33.015625 -1.421875 \nQ 20.359375 -1.421875 13.671875 8.265625 \nQ 6.984375 17.96875 6.984375 36.375 \nQ 6.984375 53.65625 15.1875 63.9375 \nQ 23.390625 74.21875 37.203125 74.21875 \nQ 40.921875 74.21875 44.703125 73.484375 \nQ 48.484375 72.75 52.59375 71.296875 \nz\n\" id=\"DejaVuSans-54\"/>\n      </defs>\n      <g transform=\"translate(294.817294 308.716563)scale(0.1 -0.1)\">\n       <use xlink:href=\"#DejaVuSans-54\"/>\n       <use x=\"63.623047\" xlink:href=\"#DejaVuSans-48\"/>\n      </g>\n     </g>\n    </g>\n    <g id=\"xtick_5\">\n     <g id=\"line2d_5\">\n      <g>\n       <use style=\"stroke:#000000;stroke-width:0.8;\" x=\"375.710223\" xlink:href=\"#mffd3714008\" y=\"294.118125\"/>\n      </g>\n     </g>\n     <g id=\"text_5\">\n      <!-- 80 -->\n      <defs>\n       <path d=\"M 31.78125 34.625 \nQ 24.75 34.625 20.71875 30.859375 \nQ 16.703125 27.09375 16.703125 20.515625 \nQ 16.703125 13.921875 20.71875 10.15625 \nQ 24.75 6.390625 31.78125 6.390625 \nQ 38.8125 6.390625 42.859375 10.171875 \nQ 46.921875 13.96875 46.921875 20.515625 \nQ 46.921875 27.09375 42.890625 30.859375 \nQ 38.875 34.625 31.78125 34.625 \nz\nM 21.921875 38.8125 \nQ 15.578125 40.375 12.03125 44.71875 \nQ 8.5 49.078125 8.5 55.328125 \nQ 8.5 64.0625 14.71875 69.140625 \nQ 20.953125 74.21875 31.78125 74.21875 \nQ 42.671875 74.21875 48.875 69.140625 \nQ 55.078125 64.0625 55.078125 55.328125 \nQ 55.078125 49.078125 51.53125 44.71875 \nQ 48 40.375 41.703125 38.8125 \nQ 48.828125 37.15625 52.796875 32.3125 \nQ 56.78125 27.484375 56.78125 20.515625 \nQ 56.78125 9.90625 50.3125 4.234375 \nQ 43.84375 -1.421875 31.78125 -1.421875 \nQ 19.734375 -1.421875 13.25 4.234375 \nQ 6.78125 9.90625 6.78125 20.515625 \nQ 6.78125 27.484375 10.78125 32.3125 \nQ 14.796875 37.15625 21.921875 38.8125 \nz\nM 18.3125 54.390625 \nQ 18.3125 48.734375 21.84375 45.5625 \nQ 25.390625 42.390625 31.78125 42.390625 \nQ 38.140625 42.390625 41.71875 45.5625 \nQ 45.3125 48.734375 45.3125 54.390625 \nQ 45.3125 60.0625 41.71875 63.234375 \nQ 38.140625 66.40625 31.78125 66.40625 \nQ 25.390625 66.40625 21.84375 63.234375 \nQ 18.3125 60.0625 18.3125 54.390625 \nz\n\" id=\"DejaVuSans-56\"/>\n      </defs>\n      <g transform=\"translate(369.347723 308.716563)scale(0.1 -0.1)\">\n       <use xlink:href=\"#DejaVuSans-56\"/>\n       <use x=\"63.623047\" xlink:href=\"#DejaVuSans-48\"/>\n      </g>\n     </g>\n    </g>\n    <g id=\"xtick_6\">\n     <g id=\"line2d_6\">\n      <g>\n       <use style=\"stroke:#000000;stroke-width:0.8;\" x=\"450.240651\" xlink:href=\"#mffd3714008\" y=\"294.118125\"/>\n      </g>\n     </g>\n     <g id=\"text_6\">\n      <!-- 100 -->\n      <defs>\n       <path d=\"M 12.40625 8.296875 \nL 28.515625 8.296875 \nL 28.515625 63.921875 \nL 10.984375 60.40625 \nL 10.984375 69.390625 \nL 28.421875 72.90625 \nL 38.28125 72.90625 \nL 38.28125 8.296875 \nL 54.390625 8.296875 \nL 54.390625 0 \nL 12.40625 0 \nz\n\" id=\"DejaVuSans-49\"/>\n      </defs>\n      <g transform=\"translate(440.696901 308.716563)scale(0.1 -0.1)\">\n       <use xlink:href=\"#DejaVuSans-49\"/>\n       <use x=\"63.623047\" xlink:href=\"#DejaVuSans-48\"/>\n       <use x=\"127.246094\" xlink:href=\"#DejaVuSans-48\"/>\n      </g>\n     </g>\n    </g>\n    <g id=\"text_7\">\n     <!-- Sample # -->\n     <defs>\n      <path d=\"M 53.515625 70.515625 \nL 53.515625 60.890625 \nQ 47.90625 63.578125 42.921875 64.890625 \nQ 37.9375 66.21875 33.296875 66.21875 \nQ 25.25 66.21875 20.875 63.09375 \nQ 16.5 59.96875 16.5 54.203125 \nQ 16.5 49.359375 19.40625 46.890625 \nQ 22.3125 44.4375 30.421875 42.921875 \nL 36.375 41.703125 \nQ 47.40625 39.59375 52.65625 34.296875 \nQ 57.90625 29 57.90625 20.125 \nQ 57.90625 9.515625 50.796875 4.046875 \nQ 43.703125 -1.421875 29.984375 -1.421875 \nQ 24.8125 -1.421875 18.96875 -0.25 \nQ 13.140625 0.921875 6.890625 3.21875 \nL 6.890625 13.375 \nQ 12.890625 10.015625 18.65625 8.296875 \nQ 24.421875 6.59375 29.984375 6.59375 \nQ 38.421875 6.59375 43.015625 9.90625 \nQ 47.609375 13.234375 47.609375 19.390625 \nQ 47.609375 24.75 44.3125 27.78125 \nQ 41.015625 30.8125 33.5 32.328125 \nL 27.484375 33.5 \nQ 16.453125 35.6875 11.515625 40.375 \nQ 6.59375 45.0625 6.59375 53.421875 \nQ 6.59375 63.09375 13.40625 68.65625 \nQ 20.21875 74.21875 32.171875 74.21875 \nQ 37.3125 74.21875 42.625 73.28125 \nQ 47.953125 72.359375 53.515625 70.515625 \nz\n\" id=\"DejaVuSans-83\"/>\n      <path d=\"M 34.28125 27.484375 \nQ 23.390625 27.484375 19.1875 25 \nQ 14.984375 22.515625 14.984375 16.5 \nQ 14.984375 11.71875 18.140625 8.90625 \nQ 21.296875 6.109375 26.703125 6.109375 \nQ 34.1875 6.109375 38.703125 11.40625 \nQ 43.21875 16.703125 43.21875 25.484375 \nL 43.21875 27.484375 \nz\nM 52.203125 31.203125 \nL 52.203125 0 \nL 43.21875 0 \nL 43.21875 8.296875 \nQ 40.140625 3.328125 35.546875 0.953125 \nQ 30.953125 -1.421875 24.3125 -1.421875 \nQ 15.921875 -1.421875 10.953125 3.296875 \nQ 6 8.015625 6 15.921875 \nQ 6 25.140625 12.171875 29.828125 \nQ 18.359375 34.515625 30.609375 34.515625 \nL 43.21875 34.515625 \nL 43.21875 35.40625 \nQ 43.21875 41.609375 39.140625 45 \nQ 35.0625 48.390625 27.6875 48.390625 \nQ 23 48.390625 18.546875 47.265625 \nQ 14.109375 46.140625 10.015625 43.890625 \nL 10.015625 52.203125 \nQ 14.9375 54.109375 19.578125 55.046875 \nQ 24.21875 56 28.609375 56 \nQ 40.484375 56 46.34375 49.84375 \nQ 52.203125 43.703125 52.203125 31.203125 \nz\n\" id=\"DejaVuSans-97\"/>\n      <path d=\"M 52 44.1875 \nQ 55.375 50.25 60.0625 53.125 \nQ 64.75 56 71.09375 56 \nQ 79.640625 56 84.28125 50.015625 \nQ 88.921875 44.046875 88.921875 33.015625 \nL 88.921875 0 \nL 79.890625 0 \nL 79.890625 32.71875 \nQ 79.890625 40.578125 77.09375 44.375 \nQ 74.3125 48.1875 68.609375 48.1875 \nQ 61.625 48.1875 57.5625 43.546875 \nQ 53.515625 38.921875 53.515625 30.90625 \nL 53.515625 0 \nL 44.484375 0 \nL 44.484375 32.71875 \nQ 44.484375 40.625 41.703125 44.40625 \nQ 38.921875 48.1875 33.109375 48.1875 \nQ 26.21875 48.1875 22.15625 43.53125 \nQ 18.109375 38.875 18.109375 30.90625 \nL 18.109375 0 \nL 9.078125 0 \nL 9.078125 54.6875 \nL 18.109375 54.6875 \nL 18.109375 46.1875 \nQ 21.1875 51.21875 25.484375 53.609375 \nQ 29.78125 56 35.6875 56 \nQ 41.65625 56 45.828125 52.96875 \nQ 50 49.953125 52 44.1875 \nz\n\" id=\"DejaVuSans-109\"/>\n      <path d=\"M 18.109375 8.203125 \nL 18.109375 -20.796875 \nL 9.078125 -20.796875 \nL 9.078125 54.6875 \nL 18.109375 54.6875 \nL 18.109375 46.390625 \nQ 20.953125 51.265625 25.265625 53.625 \nQ 29.59375 56 35.59375 56 \nQ 45.5625 56 51.78125 48.09375 \nQ 58.015625 40.1875 58.015625 27.296875 \nQ 58.015625 14.40625 51.78125 6.484375 \nQ 45.5625 -1.421875 35.59375 -1.421875 \nQ 29.59375 -1.421875 25.265625 0.953125 \nQ 20.953125 3.328125 18.109375 8.203125 \nz\nM 48.6875 27.296875 \nQ 48.6875 37.203125 44.609375 42.84375 \nQ 40.53125 48.484375 33.40625 48.484375 \nQ 26.265625 48.484375 22.1875 42.84375 \nQ 18.109375 37.203125 18.109375 27.296875 \nQ 18.109375 17.390625 22.1875 11.75 \nQ 26.265625 6.109375 33.40625 6.109375 \nQ 40.53125 6.109375 44.609375 11.75 \nQ 48.6875 17.390625 48.6875 27.296875 \nz\n\" id=\"DejaVuSans-112\"/>\n      <path d=\"M 9.421875 75.984375 \nL 18.40625 75.984375 \nL 18.40625 0 \nL 9.421875 0 \nz\n\" id=\"DejaVuSans-108\"/>\n      <path d=\"M 56.203125 29.59375 \nL 56.203125 25.203125 \nL 14.890625 25.203125 \nQ 15.484375 15.921875 20.484375 11.0625 \nQ 25.484375 6.203125 34.421875 6.203125 \nQ 39.59375 6.203125 44.453125 7.46875 \nQ 49.3125 8.734375 54.109375 11.28125 \nL 54.109375 2.78125 \nQ 49.265625 0.734375 44.1875 -0.34375 \nQ 39.109375 -1.421875 33.890625 -1.421875 \nQ 20.796875 -1.421875 13.15625 6.1875 \nQ 5.515625 13.8125 5.515625 26.8125 \nQ 5.515625 40.234375 12.765625 48.109375 \nQ 20.015625 56 32.328125 56 \nQ 43.359375 56 49.78125 48.890625 \nQ 56.203125 41.796875 56.203125 29.59375 \nz\nM 47.21875 32.234375 \nQ 47.125 39.59375 43.09375 43.984375 \nQ 39.0625 48.390625 32.421875 48.390625 \nQ 24.90625 48.390625 20.390625 44.140625 \nQ 15.875 39.890625 15.1875 32.171875 \nz\n\" id=\"DejaVuSans-101\"/>\n      <path id=\"DejaVuSans-32\"/>\n      <path d=\"M 51.125 44 \nL 36.921875 44 \nL 32.8125 27.6875 \nL 47.125 27.6875 \nz\nM 43.796875 71.78125 \nL 38.71875 51.515625 \nL 52.984375 51.515625 \nL 58.109375 71.78125 \nL 65.921875 71.78125 \nL 60.890625 51.515625 \nL 76.125 51.515625 \nL 76.125 44 \nL 58.984375 44 \nL 54.984375 27.6875 \nL 70.515625 27.6875 \nL 70.515625 20.21875 \nL 53.078125 20.21875 \nL 48 0 \nL 40.1875 0 \nL 45.21875 20.21875 \nL 30.90625 20.21875 \nL 25.875 0 \nL 18.015625 0 \nL 23.09375 20.21875 \nL 7.71875 20.21875 \nL 7.71875 27.6875 \nL 24.90625 27.6875 \nL 29 44 \nL 13.28125 44 \nL 13.28125 51.515625 \nL 30.90625 51.515625 \nL 35.890625 71.78125 \nz\n\" id=\"DejaVuSans-35\"/>\n     </defs>\n     <g transform=\"translate(241.250497 322.394687)scale(0.1 -0.1)\">\n      <use xlink:href=\"#DejaVuSans-83\"/>\n      <use x=\"63.476562\" xlink:href=\"#DejaVuSans-97\"/>\n      <use x=\"124.755859\" xlink:href=\"#DejaVuSans-109\"/>\n      <use x=\"222.167969\" xlink:href=\"#DejaVuSans-112\"/>\n      <use x=\"285.644531\" xlink:href=\"#DejaVuSans-108\"/>\n      <use x=\"313.427734\" xlink:href=\"#DejaVuSans-101\"/>\n      <use x=\"374.951172\" xlink:href=\"#DejaVuSans-32\"/>\n      <use x=\"406.738281\" xlink:href=\"#DejaVuSans-35\"/>\n     </g>\n    </g>\n   </g>\n   <g id=\"matplotlib.axis_2\">\n    <g id=\"ytick_1\">\n     <g id=\"line2d_7\">\n      <defs>\n       <path d=\"M 0 0 \nL -3.5 0 \n\" id=\"m50b7139dfb\" style=\"stroke:#000000;stroke-width:0.8;\"/>\n      </defs>\n      <g>\n       <use style=\"stroke:#000000;stroke-width:0.8;\" x=\"62.86875\" xlink:href=\"#m50b7139dfb\" y=\"294.118125\"/>\n      </g>\n     </g>\n     <g id=\"text_8\">\n      <!-- 0.0090 -->\n      <defs>\n       <path d=\"M 10.6875 12.40625 \nL 21 12.40625 \nL 21 0 \nL 10.6875 0 \nz\n\" id=\"DejaVuSans-46\"/>\n       <path d=\"M 10.984375 1.515625 \nL 10.984375 10.5 \nQ 14.703125 8.734375 18.5 7.8125 \nQ 22.3125 6.890625 25.984375 6.890625 \nQ 35.75 6.890625 40.890625 13.453125 \nQ 46.046875 20.015625 46.78125 33.40625 \nQ 43.953125 29.203125 39.59375 26.953125 \nQ 35.25 24.703125 29.984375 24.703125 \nQ 19.046875 24.703125 12.671875 31.3125 \nQ 6.296875 37.9375 6.296875 49.421875 \nQ 6.296875 60.640625 12.9375 67.421875 \nQ 19.578125 74.21875 30.609375 74.21875 \nQ 43.265625 74.21875 49.921875 64.515625 \nQ 56.59375 54.828125 56.59375 36.375 \nQ 56.59375 19.140625 48.40625 8.859375 \nQ 40.234375 -1.421875 26.421875 -1.421875 \nQ 22.703125 -1.421875 18.890625 -0.6875 \nQ 15.09375 0.046875 10.984375 1.515625 \nz\nM 30.609375 32.421875 \nQ 37.25 32.421875 41.125 36.953125 \nQ 45.015625 41.5 45.015625 49.421875 \nQ 45.015625 57.28125 41.125 61.84375 \nQ 37.25 66.40625 30.609375 66.40625 \nQ 23.96875 66.40625 20.09375 61.84375 \nQ 16.21875 57.28125 16.21875 49.421875 \nQ 16.21875 41.5 20.09375 36.953125 \nQ 23.96875 32.421875 30.609375 32.421875 \nz\n\" id=\"DejaVuSans-57\"/>\n      </defs>\n      <g transform=\"translate(20.878125 297.917344)scale(0.1 -0.1)\">\n       <use xlink:href=\"#DejaVuSans-48\"/>\n       <use x=\"63.623047\" xlink:href=\"#DejaVuSans-46\"/>\n       <use x=\"95.410156\" xlink:href=\"#DejaVuSans-48\"/>\n       <use x=\"159.033203\" xlink:href=\"#DejaVuSans-48\"/>\n       <use x=\"222.65625\" xlink:href=\"#DejaVuSans-57\"/>\n       <use x=\"286.279297\" xlink:href=\"#DejaVuSans-48\"/>\n      </g>\n     </g>\n    </g>\n    <g id=\"ytick_2\">\n     <g id=\"line2d_8\">\n      <g>\n       <use style=\"stroke:#000000;stroke-width:0.8;\" x=\"62.86875\" xlink:href=\"#m50b7139dfb\" y=\"248.818125\"/>\n      </g>\n     </g>\n     <g id=\"text_9\">\n      <!-- 0.0095 -->\n      <defs>\n       <path d=\"M 10.796875 72.90625 \nL 49.515625 72.90625 \nL 49.515625 64.59375 \nL 19.828125 64.59375 \nL 19.828125 46.734375 \nQ 21.96875 47.46875 24.109375 47.828125 \nQ 26.265625 48.1875 28.421875 48.1875 \nQ 40.625 48.1875 47.75 41.5 \nQ 54.890625 34.8125 54.890625 23.390625 \nQ 54.890625 11.625 47.5625 5.09375 \nQ 40.234375 -1.421875 26.90625 -1.421875 \nQ 22.3125 -1.421875 17.546875 -0.640625 \nQ 12.796875 0.140625 7.71875 1.703125 \nL 7.71875 11.625 \nQ 12.109375 9.234375 16.796875 8.0625 \nQ 21.484375 6.890625 26.703125 6.890625 \nQ 35.15625 6.890625 40.078125 11.328125 \nQ 45.015625 15.765625 45.015625 23.390625 \nQ 45.015625 31 40.078125 35.4375 \nQ 35.15625 39.890625 26.703125 39.890625 \nQ 22.75 39.890625 18.8125 39.015625 \nQ 14.890625 38.140625 10.796875 36.28125 \nz\n\" id=\"DejaVuSans-53\"/>\n      </defs>\n      <g transform=\"translate(20.878125 252.617344)scale(0.1 -0.1)\">\n       <use xlink:href=\"#DejaVuSans-48\"/>\n       <use x=\"63.623047\" xlink:href=\"#DejaVuSans-46\"/>\n       <use x=\"95.410156\" xlink:href=\"#DejaVuSans-48\"/>\n       <use x=\"159.033203\" xlink:href=\"#DejaVuSans-48\"/>\n       <use x=\"222.65625\" xlink:href=\"#DejaVuSans-57\"/>\n       <use x=\"286.279297\" xlink:href=\"#DejaVuSans-53\"/>\n      </g>\n     </g>\n    </g>\n    <g id=\"ytick_3\">\n     <g id=\"line2d_9\">\n      <g>\n       <use style=\"stroke:#000000;stroke-width:0.8;\" x=\"62.86875\" xlink:href=\"#m50b7139dfb\" y=\"203.518125\"/>\n      </g>\n     </g>\n     <g id=\"text_10\">\n      <!-- 0.0100 -->\n      <g transform=\"translate(20.878125 207.317344)scale(0.1 -0.1)\">\n       <use xlink:href=\"#DejaVuSans-48\"/>\n       <use x=\"63.623047\" xlink:href=\"#DejaVuSans-46\"/>\n       <use x=\"95.410156\" xlink:href=\"#DejaVuSans-48\"/>\n       <use x=\"159.033203\" xlink:href=\"#DejaVuSans-49\"/>\n       <use x=\"222.65625\" xlink:href=\"#DejaVuSans-48\"/>\n       <use x=\"286.279297\" xlink:href=\"#DejaVuSans-48\"/>\n      </g>\n     </g>\n    </g>\n    <g id=\"ytick_4\">\n     <g id=\"line2d_10\">\n      <g>\n       <use style=\"stroke:#000000;stroke-width:0.8;\" x=\"62.86875\" xlink:href=\"#m50b7139dfb\" y=\"158.218125\"/>\n      </g>\n     </g>\n     <g id=\"text_11\">\n      <!-- 0.0105 -->\n      <g transform=\"translate(20.878125 162.017344)scale(0.1 -0.1)\">\n       <use xlink:href=\"#DejaVuSans-48\"/>\n       <use x=\"63.623047\" xlink:href=\"#DejaVuSans-46\"/>\n       <use x=\"95.410156\" xlink:href=\"#DejaVuSans-48\"/>\n       <use x=\"159.033203\" xlink:href=\"#DejaVuSans-49\"/>\n       <use x=\"222.65625\" xlink:href=\"#DejaVuSans-48\"/>\n       <use x=\"286.279297\" xlink:href=\"#DejaVuSans-53\"/>\n      </g>\n     </g>\n    </g>\n    <g id=\"ytick_5\">\n     <g id=\"line2d_11\">\n      <g>\n       <use style=\"stroke:#000000;stroke-width:0.8;\" x=\"62.86875\" xlink:href=\"#m50b7139dfb\" y=\"112.918125\"/>\n      </g>\n     </g>\n     <g id=\"text_12\">\n      <!-- 0.0110 -->\n      <g transform=\"translate(20.878125 116.717344)scale(0.1 -0.1)\">\n       <use xlink:href=\"#DejaVuSans-48\"/>\n       <use x=\"63.623047\" xlink:href=\"#DejaVuSans-46\"/>\n       <use x=\"95.410156\" xlink:href=\"#DejaVuSans-48\"/>\n       <use x=\"159.033203\" xlink:href=\"#DejaVuSans-49\"/>\n       <use x=\"222.65625\" xlink:href=\"#DejaVuSans-49\"/>\n       <use x=\"286.279297\" xlink:href=\"#DejaVuSans-48\"/>\n      </g>\n     </g>\n    </g>\n    <g id=\"ytick_6\">\n     <g id=\"line2d_12\">\n      <g>\n       <use style=\"stroke:#000000;stroke-width:0.8;\" x=\"62.86875\" xlink:href=\"#m50b7139dfb\" y=\"67.618125\"/>\n      </g>\n     </g>\n     <g id=\"text_13\">\n      <!-- 0.0115 -->\n      <g transform=\"translate(20.878125 71.417344)scale(0.1 -0.1)\">\n       <use xlink:href=\"#DejaVuSans-48\"/>\n       <use x=\"63.623047\" xlink:href=\"#DejaVuSans-46\"/>\n       <use x=\"95.410156\" xlink:href=\"#DejaVuSans-48\"/>\n       <use x=\"159.033203\" xlink:href=\"#DejaVuSans-49\"/>\n       <use x=\"222.65625\" xlink:href=\"#DejaVuSans-49\"/>\n       <use x=\"286.279297\" xlink:href=\"#DejaVuSans-53\"/>\n      </g>\n     </g>\n    </g>\n    <g id=\"ytick_7\">\n     <g id=\"line2d_13\">\n      <g>\n       <use style=\"stroke:#000000;stroke-width:0.8;\" x=\"62.86875\" xlink:href=\"#m50b7139dfb\" y=\"22.318125\"/>\n      </g>\n     </g>\n     <g id=\"text_14\">\n      <!-- 0.0120 -->\n      <g transform=\"translate(20.878125 26.117344)scale(0.1 -0.1)\">\n       <use xlink:href=\"#DejaVuSans-48\"/>\n       <use x=\"63.623047\" xlink:href=\"#DejaVuSans-46\"/>\n       <use x=\"95.410156\" xlink:href=\"#DejaVuSans-48\"/>\n       <use x=\"159.033203\" xlink:href=\"#DejaVuSans-49\"/>\n       <use x=\"222.65625\" xlink:href=\"#DejaVuSans-50\"/>\n       <use x=\"286.279297\" xlink:href=\"#DejaVuSans-48\"/>\n      </g>\n     </g>\n    </g>\n    <g id=\"text_15\">\n     <!-- Variance of Sampling Mean -->\n     <defs>\n      <path d=\"M 28.609375 0 \nL 0.78125 72.90625 \nL 11.078125 72.90625 \nL 34.1875 11.53125 \nL 57.328125 72.90625 \nL 67.578125 72.90625 \nL 39.796875 0 \nz\n\" id=\"DejaVuSans-86\"/>\n      <path d=\"M 41.109375 46.296875 \nQ 39.59375 47.171875 37.8125 47.578125 \nQ 36.03125 48 33.890625 48 \nQ 26.265625 48 22.1875 43.046875 \nQ 18.109375 38.09375 18.109375 28.8125 \nL 18.109375 0 \nL 9.078125 0 \nL 9.078125 54.6875 \nL 18.109375 54.6875 \nL 18.109375 46.1875 \nQ 20.953125 51.171875 25.484375 53.578125 \nQ 30.03125 56 36.53125 56 \nQ 37.453125 56 38.578125 55.875 \nQ 39.703125 55.765625 41.0625 55.515625 \nz\n\" id=\"DejaVuSans-114\"/>\n      <path d=\"M 9.421875 54.6875 \nL 18.40625 54.6875 \nL 18.40625 0 \nL 9.421875 0 \nz\nM 9.421875 75.984375 \nL 18.40625 75.984375 \nL 18.40625 64.59375 \nL 9.421875 64.59375 \nz\n\" id=\"DejaVuSans-105\"/>\n      <path d=\"M 54.890625 33.015625 \nL 54.890625 0 \nL 45.90625 0 \nL 45.90625 32.71875 \nQ 45.90625 40.484375 42.875 44.328125 \nQ 39.84375 48.1875 33.796875 48.1875 \nQ 26.515625 48.1875 22.3125 43.546875 \nQ 18.109375 38.921875 18.109375 30.90625 \nL 18.109375 0 \nL 9.078125 0 \nL 9.078125 54.6875 \nL 18.109375 54.6875 \nL 18.109375 46.1875 \nQ 21.34375 51.125 25.703125 53.5625 \nQ 30.078125 56 35.796875 56 \nQ 45.21875 56 50.046875 50.171875 \nQ 54.890625 44.34375 54.890625 33.015625 \nz\n\" id=\"DejaVuSans-110\"/>\n      <path d=\"M 48.78125 52.59375 \nL 48.78125 44.1875 \nQ 44.96875 46.296875 41.140625 47.34375 \nQ 37.3125 48.390625 33.40625 48.390625 \nQ 24.65625 48.390625 19.8125 42.84375 \nQ 14.984375 37.3125 14.984375 27.296875 \nQ 14.984375 17.28125 19.8125 11.734375 \nQ 24.65625 6.203125 33.40625 6.203125 \nQ 37.3125 6.203125 41.140625 7.25 \nQ 44.96875 8.296875 48.78125 10.40625 \nL 48.78125 2.09375 \nQ 45.015625 0.34375 40.984375 -0.53125 \nQ 36.96875 -1.421875 32.421875 -1.421875 \nQ 20.0625 -1.421875 12.78125 6.34375 \nQ 5.515625 14.109375 5.515625 27.296875 \nQ 5.515625 40.671875 12.859375 48.328125 \nQ 20.21875 56 33.015625 56 \nQ 37.15625 56 41.109375 55.140625 \nQ 45.0625 54.296875 48.78125 52.59375 \nz\n\" id=\"DejaVuSans-99\"/>\n      <path d=\"M 30.609375 48.390625 \nQ 23.390625 48.390625 19.1875 42.75 \nQ 14.984375 37.109375 14.984375 27.296875 \nQ 14.984375 17.484375 19.15625 11.84375 \nQ 23.34375 6.203125 30.609375 6.203125 \nQ 37.796875 6.203125 41.984375 11.859375 \nQ 46.1875 17.53125 46.1875 27.296875 \nQ 46.1875 37.015625 41.984375 42.703125 \nQ 37.796875 48.390625 30.609375 48.390625 \nz\nM 30.609375 56 \nQ 42.328125 56 49.015625 48.375 \nQ 55.71875 40.765625 55.71875 27.296875 \nQ 55.71875 13.875 49.015625 6.21875 \nQ 42.328125 -1.421875 30.609375 -1.421875 \nQ 18.84375 -1.421875 12.171875 6.21875 \nQ 5.515625 13.875 5.515625 27.296875 \nQ 5.515625 40.765625 12.171875 48.375 \nQ 18.84375 56 30.609375 56 \nz\n\" id=\"DejaVuSans-111\"/>\n      <path d=\"M 37.109375 75.984375 \nL 37.109375 68.5 \nL 28.515625 68.5 \nQ 23.6875 68.5 21.796875 66.546875 \nQ 19.921875 64.59375 19.921875 59.515625 \nL 19.921875 54.6875 \nL 34.71875 54.6875 \nL 34.71875 47.703125 \nL 19.921875 47.703125 \nL 19.921875 0 \nL 10.890625 0 \nL 10.890625 47.703125 \nL 2.296875 47.703125 \nL 2.296875 54.6875 \nL 10.890625 54.6875 \nL 10.890625 58.5 \nQ 10.890625 67.625 15.140625 71.796875 \nQ 19.390625 75.984375 28.609375 75.984375 \nz\n\" id=\"DejaVuSans-102\"/>\n      <path d=\"M 45.40625 27.984375 \nQ 45.40625 37.75 41.375 43.109375 \nQ 37.359375 48.484375 30.078125 48.484375 \nQ 22.859375 48.484375 18.828125 43.109375 \nQ 14.796875 37.75 14.796875 27.984375 \nQ 14.796875 18.265625 18.828125 12.890625 \nQ 22.859375 7.515625 30.078125 7.515625 \nQ 37.359375 7.515625 41.375 12.890625 \nQ 45.40625 18.265625 45.40625 27.984375 \nz\nM 54.390625 6.78125 \nQ 54.390625 -7.171875 48.1875 -13.984375 \nQ 42 -20.796875 29.203125 -20.796875 \nQ 24.46875 -20.796875 20.265625 -20.09375 \nQ 16.0625 -19.390625 12.109375 -17.921875 \nL 12.109375 -9.1875 \nQ 16.0625 -11.328125 19.921875 -12.34375 \nQ 23.78125 -13.375 27.78125 -13.375 \nQ 36.625 -13.375 41.015625 -8.765625 \nQ 45.40625 -4.15625 45.40625 5.171875 \nL 45.40625 9.625 \nQ 42.625 4.78125 38.28125 2.390625 \nQ 33.9375 0 27.875 0 \nQ 17.828125 0 11.671875 7.65625 \nQ 5.515625 15.328125 5.515625 27.984375 \nQ 5.515625 40.671875 11.671875 48.328125 \nQ 17.828125 56 27.875 56 \nQ 33.9375 56 38.28125 53.609375 \nQ 42.625 51.21875 45.40625 46.390625 \nL 45.40625 54.6875 \nL 54.390625 54.6875 \nz\n\" id=\"DejaVuSans-103\"/>\n      <path d=\"M 9.8125 72.90625 \nL 24.515625 72.90625 \nL 43.109375 23.296875 \nL 61.8125 72.90625 \nL 76.515625 72.90625 \nL 76.515625 0 \nL 66.890625 0 \nL 66.890625 64.015625 \nL 48.09375 14.015625 \nL 38.1875 14.015625 \nL 19.390625 64.015625 \nL 19.390625 0 \nL 9.8125 0 \nz\n\" id=\"DejaVuSans-77\"/>\n     </defs>\n     <g transform=\"translate(14.798438 226.432187)rotate(-90)scale(0.1 -0.1)\">\n      <use xlink:href=\"#DejaVuSans-86\"/>\n      <use x=\"60.658203\" xlink:href=\"#DejaVuSans-97\"/>\n      <use x=\"121.9375\" xlink:href=\"#DejaVuSans-114\"/>\n      <use x=\"163.050781\" xlink:href=\"#DejaVuSans-105\"/>\n      <use x=\"190.833984\" xlink:href=\"#DejaVuSans-97\"/>\n      <use x=\"252.113281\" xlink:href=\"#DejaVuSans-110\"/>\n      <use x=\"315.492188\" xlink:href=\"#DejaVuSans-99\"/>\n      <use x=\"370.472656\" xlink:href=\"#DejaVuSans-101\"/>\n      <use x=\"431.996094\" xlink:href=\"#DejaVuSans-32\"/>\n      <use x=\"463.783203\" xlink:href=\"#DejaVuSans-111\"/>\n      <use x=\"524.964844\" xlink:href=\"#DejaVuSans-102\"/>\n      <use x=\"560.169922\" xlink:href=\"#DejaVuSans-32\"/>\n      <use x=\"591.957031\" xlink:href=\"#DejaVuSans-83\"/>\n      <use x=\"655.433594\" xlink:href=\"#DejaVuSans-97\"/>\n      <use x=\"716.712891\" xlink:href=\"#DejaVuSans-109\"/>\n      <use x=\"814.125\" xlink:href=\"#DejaVuSans-112\"/>\n      <use x=\"877.601562\" xlink:href=\"#DejaVuSans-108\"/>\n      <use x=\"905.384766\" xlink:href=\"#DejaVuSans-105\"/>\n      <use x=\"933.167969\" xlink:href=\"#DejaVuSans-110\"/>\n      <use x=\"996.546875\" xlink:href=\"#DejaVuSans-103\"/>\n      <use x=\"1060.023438\" xlink:href=\"#DejaVuSans-32\"/>\n      <use x=\"1091.810547\" xlink:href=\"#DejaVuSans-77\"/>\n      <use x=\"1178.089844\" xlink:href=\"#DejaVuSans-101\"/>\n      <use x=\"1239.613281\" xlink:href=\"#DejaVuSans-97\"/>\n      <use x=\"1300.892578\" xlink:href=\"#DejaVuSans-110\"/>\n     </g>\n    </g>\n   </g>\n   <g id=\"line2d_14\">\n    <path clip-path=\"url(#pa494836e1a)\" d=\"M 62.86875 157.998243 \nL 468.686932 157.998243 \n\" style=\"fill:none;stroke:#1f77b4;stroke-linecap:square;stroke-width:1.5;\"/>\n   </g>\n   <g id=\"line2d_15\">\n    <path clip-path=\"url(#pa494836e1a)\" d=\"M 62.86875 246.150646 \nL 468.686932 246.150646 \n\" style=\"fill:none;stroke:#ff0000;stroke-linecap:square;stroke-width:1.5;\"/>\n   </g>\n   <g id=\"patch_3\">\n    <path d=\"M 62.86875 294.118125 \nL 62.86875 22.318125 \n\" style=\"fill:none;stroke:#000000;stroke-linecap:square;stroke-linejoin:miter;stroke-width:0.8;\"/>\n   </g>\n   <g id=\"patch_4\">\n    <path d=\"M 468.686932 294.118125 \nL 468.686932 22.318125 \n\" style=\"fill:none;stroke:#000000;stroke-linecap:square;stroke-linejoin:miter;stroke-width:0.8;\"/>\n   </g>\n   <g id=\"patch_5\">\n    <path d=\"M 62.86875 294.118125 \nL 468.686932 294.118125 \n\" style=\"fill:none;stroke:#000000;stroke-linecap:square;stroke-linejoin:miter;stroke-width:0.8;\"/>\n   </g>\n   <g id=\"patch_6\">\n    <path d=\"M 62.86875 22.318125 \nL 468.686932 22.318125 \n\" style=\"fill:none;stroke:#000000;stroke-linecap:square;stroke-linejoin:miter;stroke-width:0.8;\"/>\n   </g>\n   <g id=\"text_16\">\n    <!-- SRS (without replacement) -->\n    <defs>\n     <path d=\"M 44.390625 34.1875 \nQ 47.5625 33.109375 50.5625 29.59375 \nQ 53.5625 26.078125 56.59375 19.921875 \nL 66.609375 0 \nL 56 0 \nL 46.6875 18.703125 \nQ 43.0625 26.03125 39.671875 28.421875 \nQ 36.28125 30.8125 30.421875 30.8125 \nL 19.671875 30.8125 \nL 19.671875 0 \nL 9.8125 0 \nL 9.8125 72.90625 \nL 32.078125 72.90625 \nQ 44.578125 72.90625 50.734375 67.671875 \nQ 56.890625 62.453125 56.890625 51.90625 \nQ 56.890625 45.015625 53.6875 40.46875 \nQ 50.484375 35.9375 44.390625 34.1875 \nz\nM 19.671875 64.796875 \nL 19.671875 38.921875 \nL 32.078125 38.921875 \nQ 39.203125 38.921875 42.84375 42.21875 \nQ 46.484375 45.515625 46.484375 51.90625 \nQ 46.484375 58.296875 42.84375 61.546875 \nQ 39.203125 64.796875 32.078125 64.796875 \nz\n\" id=\"DejaVuSans-82\"/>\n     <path d=\"M 31 75.875 \nQ 24.46875 64.65625 21.28125 53.65625 \nQ 18.109375 42.671875 18.109375 31.390625 \nQ 18.109375 20.125 21.3125 9.0625 \nQ 24.515625 -2 31 -13.1875 \nL 23.1875 -13.1875 \nQ 15.875 -1.703125 12.234375 9.375 \nQ 8.59375 20.453125 8.59375 31.390625 \nQ 8.59375 42.28125 12.203125 53.3125 \nQ 15.828125 64.359375 23.1875 75.875 \nz\n\" id=\"DejaVuSans-40\"/>\n     <path d=\"M 4.203125 54.6875 \nL 13.1875 54.6875 \nL 24.421875 12.015625 \nL 35.59375 54.6875 \nL 46.1875 54.6875 \nL 57.421875 12.015625 \nL 68.609375 54.6875 \nL 77.59375 54.6875 \nL 63.28125 0 \nL 52.6875 0 \nL 40.921875 44.828125 \nL 29.109375 0 \nL 18.5 0 \nz\n\" id=\"DejaVuSans-119\"/>\n     <path d=\"M 18.3125 70.21875 \nL 18.3125 54.6875 \nL 36.8125 54.6875 \nL 36.8125 47.703125 \nL 18.3125 47.703125 \nL 18.3125 18.015625 \nQ 18.3125 11.328125 20.140625 9.421875 \nQ 21.96875 7.515625 27.59375 7.515625 \nL 36.8125 7.515625 \nL 36.8125 0 \nL 27.59375 0 \nQ 17.1875 0 13.234375 3.875 \nQ 9.28125 7.765625 9.28125 18.015625 \nL 9.28125 47.703125 \nL 2.6875 47.703125 \nL 2.6875 54.6875 \nL 9.28125 54.6875 \nL 9.28125 70.21875 \nz\n\" id=\"DejaVuSans-116\"/>\n     <path d=\"M 54.890625 33.015625 \nL 54.890625 0 \nL 45.90625 0 \nL 45.90625 32.71875 \nQ 45.90625 40.484375 42.875 44.328125 \nQ 39.84375 48.1875 33.796875 48.1875 \nQ 26.515625 48.1875 22.3125 43.546875 \nQ 18.109375 38.921875 18.109375 30.90625 \nL 18.109375 0 \nL 9.078125 0 \nL 9.078125 75.984375 \nL 18.109375 75.984375 \nL 18.109375 46.1875 \nQ 21.34375 51.125 25.703125 53.5625 \nQ 30.078125 56 35.796875 56 \nQ 45.21875 56 50.046875 50.171875 \nQ 54.890625 44.34375 54.890625 33.015625 \nz\n\" id=\"DejaVuSans-104\"/>\n     <path d=\"M 8.5 21.578125 \nL 8.5 54.6875 \nL 17.484375 54.6875 \nL 17.484375 21.921875 \nQ 17.484375 14.15625 20.5 10.265625 \nQ 23.53125 6.390625 29.59375 6.390625 \nQ 36.859375 6.390625 41.078125 11.03125 \nQ 45.3125 15.671875 45.3125 23.6875 \nL 45.3125 54.6875 \nL 54.296875 54.6875 \nL 54.296875 0 \nL 45.3125 0 \nL 45.3125 8.40625 \nQ 42.046875 3.421875 37.71875 1 \nQ 33.40625 -1.421875 27.6875 -1.421875 \nQ 18.265625 -1.421875 13.375 4.4375 \nQ 8.5 10.296875 8.5 21.578125 \nz\nM 31.109375 56 \nz\n\" id=\"DejaVuSans-117\"/>\n     <path d=\"M 8.015625 75.875 \nL 15.828125 75.875 \nQ 23.140625 64.359375 26.78125 53.3125 \nQ 30.421875 42.28125 30.421875 31.390625 \nQ 30.421875 20.453125 26.78125 9.375 \nQ 23.140625 -1.703125 15.828125 -13.1875 \nL 8.015625 -13.1875 \nQ 14.5 -2 17.703125 9.0625 \nQ 20.90625 20.125 20.90625 31.390625 \nQ 20.90625 42.671875 17.703125 53.65625 \nQ 14.5 64.65625 8.015625 75.875 \nz\n\" id=\"DejaVuSans-41\"/>\n    </defs>\n    <g transform=\"translate(185.082528 16.318125)scale(0.12 -0.12)\">\n     <use xlink:href=\"#DejaVuSans-83\"/>\n     <use x=\"63.476562\" xlink:href=\"#DejaVuSans-82\"/>\n     <use x=\"132.958984\" xlink:href=\"#DejaVuSans-83\"/>\n     <use x=\"196.435547\" xlink:href=\"#DejaVuSans-32\"/>\n     <use x=\"228.222656\" xlink:href=\"#DejaVuSans-40\"/>\n     <use x=\"267.236328\" xlink:href=\"#DejaVuSans-119\"/>\n     <use x=\"349.023438\" xlink:href=\"#DejaVuSans-105\"/>\n     <use x=\"376.806641\" xlink:href=\"#DejaVuSans-116\"/>\n     <use x=\"416.015625\" xlink:href=\"#DejaVuSans-104\"/>\n     <use x=\"479.394531\" xlink:href=\"#DejaVuSans-111\"/>\n     <use x=\"540.576172\" xlink:href=\"#DejaVuSans-117\"/>\n     <use x=\"603.955078\" xlink:href=\"#DejaVuSans-116\"/>\n     <use x=\"643.164062\" xlink:href=\"#DejaVuSans-32\"/>\n     <use x=\"674.951172\" xlink:href=\"#DejaVuSans-114\"/>\n     <use x=\"713.814453\" xlink:href=\"#DejaVuSans-101\"/>\n     <use x=\"775.337891\" xlink:href=\"#DejaVuSans-112\"/>\n     <use x=\"838.814453\" xlink:href=\"#DejaVuSans-108\"/>\n     <use x=\"866.597656\" xlink:href=\"#DejaVuSans-97\"/>\n     <use x=\"927.876953\" xlink:href=\"#DejaVuSans-99\"/>\n     <use x=\"982.857422\" xlink:href=\"#DejaVuSans-101\"/>\n     <use x=\"1044.380859\" xlink:href=\"#DejaVuSans-109\"/>\n     <use x=\"1141.792969\" xlink:href=\"#DejaVuSans-101\"/>\n     <use x=\"1203.316406\" xlink:href=\"#DejaVuSans-110\"/>\n     <use x=\"1266.695312\" xlink:href=\"#DejaVuSans-116\"/>\n     <use x=\"1305.904297\" xlink:href=\"#DejaVuSans-41\"/>\n    </g>\n   </g>\n  </g>\n  <g id=\"axes_2\">\n   <g id=\"patch_7\">\n    <path d=\"M 549.850568 294.118125 \nL 955.66875 294.118125 \nL 955.66875 22.318125 \nL 549.850568 22.318125 \nz\n\" style=\"fill:#ffffff;\"/>\n   </g>\n   <g id=\"PathCollection_2\">\n    <g clip-path=\"url(#p4a1c921022)\">\n     <use style=\"fill:#1f77b4;stroke:#1f77b4;\" x=\"568.296849\" xlink:href=\"#m3fdd7df277\" y=\"126.876308\"/>\n     <use style=\"fill:#1f77b4;stroke:#1f77b4;\" x=\"572.023371\" xlink:href=\"#m3fdd7df277\" y=\"177.10861\"/>\n     <use style=\"fill:#1f77b4;stroke:#1f77b4;\" x=\"575.749892\" xlink:href=\"#m3fdd7df277\" y=\"152.056396\"/>\n     <use style=\"fill:#1f77b4;stroke:#1f77b4;\" x=\"579.476413\" xlink:href=\"#m3fdd7df277\" y=\"156.572836\"/>\n     <use style=\"fill:#1f77b4;stroke:#1f77b4;\" x=\"583.202935\" xlink:href=\"#m3fdd7df277\" y=\"153.000332\"/>\n     <use style=\"fill:#1f77b4;stroke:#1f77b4;\" x=\"586.929456\" xlink:href=\"#m3fdd7df277\" y=\"187.946389\"/>\n     <use style=\"fill:#1f77b4;stroke:#1f77b4;\" x=\"590.655978\" xlink:href=\"#m3fdd7df277\" y=\"143.811038\"/>\n     <use style=\"fill:#1f77b4;stroke:#1f77b4;\" x=\"594.382499\" xlink:href=\"#m3fdd7df277\" y=\"150.880673\"/>\n     <use style=\"fill:#1f77b4;stroke:#1f77b4;\" x=\"598.10902\" xlink:href=\"#m3fdd7df277\" y=\"181.687444\"/>\n     <use style=\"fill:#1f77b4;stroke:#1f77b4;\" x=\"601.835542\" xlink:href=\"#m3fdd7df277\" y=\"119.345718\"/>\n     <use style=\"fill:#1f77b4;stroke:#1f77b4;\" x=\"605.562063\" xlink:href=\"#m3fdd7df277\" y=\"162.717988\"/>\n     <use style=\"fill:#1f77b4;stroke:#1f77b4;\" x=\"609.288585\" xlink:href=\"#m3fdd7df277\" y=\"173.284098\"/>\n     <use style=\"fill:#1f77b4;stroke:#1f77b4;\" x=\"613.015106\" xlink:href=\"#m3fdd7df277\" y=\"161.958638\"/>\n     <use style=\"fill:#1f77b4;stroke:#1f77b4;\" x=\"616.741628\" xlink:href=\"#m3fdd7df277\" y=\"172.226712\"/>\n     <use style=\"fill:#1f77b4;stroke:#1f77b4;\" x=\"620.468149\" xlink:href=\"#m3fdd7df277\" y=\"93.646753\"/>\n     <use style=\"fill:#1f77b4;stroke:#1f77b4;\" x=\"624.19467\" xlink:href=\"#m3fdd7df277\" y=\"163.774417\"/>\n     <use style=\"fill:#1f77b4;stroke:#1f77b4;\" x=\"627.921192\" xlink:href=\"#m3fdd7df277\" y=\"163.749114\"/>\n     <use style=\"fill:#1f77b4;stroke:#1f77b4;\" x=\"631.647713\" xlink:href=\"#m3fdd7df277\" y=\"211.145069\"/>\n     <use style=\"fill:#1f77b4;stroke:#1f77b4;\" x=\"635.374235\" xlink:href=\"#m3fdd7df277\" y=\"66.398782\"/>\n     <use style=\"fill:#1f77b4;stroke:#1f77b4;\" x=\"639.100756\" xlink:href=\"#m3fdd7df277\" y=\"186.505817\"/>\n     <use style=\"fill:#1f77b4;stroke:#1f77b4;\" x=\"642.827277\" xlink:href=\"#m3fdd7df277\" y=\"144.891764\"/>\n     <use style=\"fill:#1f77b4;stroke:#1f77b4;\" x=\"646.553799\" xlink:href=\"#m3fdd7df277\" y=\"187.173774\"/>\n     <use style=\"fill:#1f77b4;stroke:#1f77b4;\" x=\"650.28032\" xlink:href=\"#m3fdd7df277\" y=\"149.665535\"/>\n     <use style=\"fill:#1f77b4;stroke:#1f77b4;\" x=\"654.006842\" xlink:href=\"#m3fdd7df277\" y=\"180.987634\"/>\n     <use style=\"fill:#1f77b4;stroke:#1f77b4;\" x=\"657.733363\" xlink:href=\"#m3fdd7df277\" y=\"143.213928\"/>\n     <use style=\"fill:#1f77b4;stroke:#1f77b4;\" x=\"661.459884\" xlink:href=\"#m3fdd7df277\" y=\"180.665959\"/>\n     <use style=\"fill:#1f77b4;stroke:#1f77b4;\" x=\"665.186406\" xlink:href=\"#m3fdd7df277\" y=\"194.640805\"/>\n     <use style=\"fill:#1f77b4;stroke:#1f77b4;\" x=\"668.912927\" xlink:href=\"#m3fdd7df277\" y=\"139.85322\"/>\n     <use style=\"fill:#1f77b4;stroke:#1f77b4;\" x=\"672.639449\" xlink:href=\"#m3fdd7df277\" y=\"196.233494\"/>\n     <use style=\"fill:#1f77b4;stroke:#1f77b4;\" x=\"676.36597\" xlink:href=\"#m3fdd7df277\" y=\"153.89365\"/>\n     <use style=\"fill:#1f77b4;stroke:#1f77b4;\" x=\"680.092492\" xlink:href=\"#m3fdd7df277\" y=\"190.750781\"/>\n     <use style=\"fill:#1f77b4;stroke:#1f77b4;\" x=\"683.819013\" xlink:href=\"#m3fdd7df277\" y=\"130.339711\"/>\n     <use style=\"fill:#1f77b4;stroke:#1f77b4;\" x=\"687.545534\" xlink:href=\"#m3fdd7df277\" y=\"130.815723\"/>\n     <use style=\"fill:#1f77b4;stroke:#1f77b4;\" x=\"691.272056\" xlink:href=\"#m3fdd7df277\" y=\"155.591704\"/>\n     <use style=\"fill:#1f77b4;stroke:#1f77b4;\" x=\"694.998577\" xlink:href=\"#m3fdd7df277\" y=\"238.823176\"/>\n     <use style=\"fill:#1f77b4;stroke:#1f77b4;\" x=\"698.725099\" xlink:href=\"#m3fdd7df277\" y=\"180.790523\"/>\n     <use style=\"fill:#1f77b4;stroke:#1f77b4;\" x=\"702.45162\" xlink:href=\"#m3fdd7df277\" y=\"219.394682\"/>\n     <use style=\"fill:#1f77b4;stroke:#1f77b4;\" x=\"706.178141\" xlink:href=\"#m3fdd7df277\" y=\"89.552457\"/>\n     <use style=\"fill:#1f77b4;stroke:#1f77b4;\" x=\"709.904663\" xlink:href=\"#m3fdd7df277\" y=\"156.0565\"/>\n     <use style=\"fill:#1f77b4;stroke:#1f77b4;\" x=\"713.631184\" xlink:href=\"#m3fdd7df277\" y=\"157.935065\"/>\n     <use style=\"fill:#1f77b4;stroke:#1f77b4;\" x=\"717.357706\" xlink:href=\"#m3fdd7df277\" y=\"139.232882\"/>\n     <use style=\"fill:#1f77b4;stroke:#1f77b4;\" x=\"721.084227\" xlink:href=\"#m3fdd7df277\" y=\"171.606617\"/>\n     <use style=\"fill:#1f77b4;stroke:#1f77b4;\" x=\"724.810748\" xlink:href=\"#m3fdd7df277\" y=\"131.375113\"/>\n     <use style=\"fill:#1f77b4;stroke:#1f77b4;\" x=\"728.53727\" xlink:href=\"#m3fdd7df277\" y=\"166.245145\"/>\n     <use style=\"fill:#1f77b4;stroke:#1f77b4;\" x=\"732.263791\" xlink:href=\"#m3fdd7df277\" y=\"134.162133\"/>\n     <use style=\"fill:#1f77b4;stroke:#1f77b4;\" x=\"735.990313\" xlink:href=\"#m3fdd7df277\" y=\"121.314546\"/>\n     <use style=\"fill:#1f77b4;stroke:#1f77b4;\" x=\"739.716834\" xlink:href=\"#m3fdd7df277\" y=\"102.473397\"/>\n     <use style=\"fill:#1f77b4;stroke:#1f77b4;\" x=\"743.443356\" xlink:href=\"#m3fdd7df277\" y=\"124.266571\"/>\n     <use style=\"fill:#1f77b4;stroke:#1f77b4;\" x=\"747.169877\" xlink:href=\"#m3fdd7df277\" y=\"186.181497\"/>\n     <use style=\"fill:#1f77b4;stroke:#1f77b4;\" x=\"750.896398\" xlink:href=\"#m3fdd7df277\" y=\"128.370729\"/>\n     <use style=\"fill:#1f77b4;stroke:#1f77b4;\" x=\"754.62292\" xlink:href=\"#m3fdd7df277\" y=\"122.222711\"/>\n     <use style=\"fill:#1f77b4;stroke:#1f77b4;\" x=\"758.349441\" xlink:href=\"#m3fdd7df277\" y=\"152.138928\"/>\n     <use style=\"fill:#1f77b4;stroke:#1f77b4;\" x=\"762.075963\" xlink:href=\"#m3fdd7df277\" y=\"132.671986\"/>\n     <use style=\"fill:#1f77b4;stroke:#1f77b4;\" x=\"765.802484\" xlink:href=\"#m3fdd7df277\" y=\"182.34564\"/>\n     <use style=\"fill:#1f77b4;stroke:#1f77b4;\" x=\"769.529005\" xlink:href=\"#m3fdd7df277\" y=\"200.653343\"/>\n     <use style=\"fill:#1f77b4;stroke:#1f77b4;\" x=\"773.255527\" xlink:href=\"#m3fdd7df277\" y=\"227.511156\"/>\n     <use style=\"fill:#1f77b4;stroke:#1f77b4;\" x=\"776.982048\" xlink:href=\"#m3fdd7df277\" y=\"161.198678\"/>\n     <use style=\"fill:#1f77b4;stroke:#1f77b4;\" x=\"780.70857\" xlink:href=\"#m3fdd7df277\" y=\"195.271652\"/>\n     <use style=\"fill:#1f77b4;stroke:#1f77b4;\" x=\"784.435091\" xlink:href=\"#m3fdd7df277\" y=\"193.704261\"/>\n     <use style=\"fill:#1f77b4;stroke:#1f77b4;\" x=\"788.161613\" xlink:href=\"#m3fdd7df277\" y=\"127.401224\"/>\n     <use style=\"fill:#1f77b4;stroke:#1f77b4;\" x=\"791.888134\" xlink:href=\"#m3fdd7df277\" y=\"126.47804\"/>\n     <use style=\"fill:#1f77b4;stroke:#1f77b4;\" x=\"795.614655\" xlink:href=\"#m3fdd7df277\" y=\"125.508881\"/>\n     <use style=\"fill:#1f77b4;stroke:#1f77b4;\" x=\"799.341177\" xlink:href=\"#m3fdd7df277\" y=\"170.389331\"/>\n     <use style=\"fill:#1f77b4;stroke:#1f77b4;\" x=\"803.067698\" xlink:href=\"#m3fdd7df277\" y=\"124.207693\"/>\n     <use style=\"fill:#1f77b4;stroke:#1f77b4;\" x=\"806.79422\" xlink:href=\"#m3fdd7df277\" y=\"159.976575\"/>\n     <use style=\"fill:#1f77b4;stroke:#1f77b4;\" x=\"810.520741\" xlink:href=\"#m3fdd7df277\" y=\"161.601722\"/>\n     <use style=\"fill:#1f77b4;stroke:#1f77b4;\" x=\"814.247262\" xlink:href=\"#m3fdd7df277\" y=\"140.324536\"/>\n     <use style=\"fill:#1f77b4;stroke:#1f77b4;\" x=\"817.973784\" xlink:href=\"#m3fdd7df277\" y=\"121.773563\"/>\n     <use style=\"fill:#1f77b4;stroke:#1f77b4;\" x=\"821.700305\" xlink:href=\"#m3fdd7df277\" y=\"126.404351\"/>\n     <use style=\"fill:#1f77b4;stroke:#1f77b4;\" x=\"825.426827\" xlink:href=\"#m3fdd7df277\" y=\"52.180443\"/>\n     <use style=\"fill:#1f77b4;stroke:#1f77b4;\" x=\"829.153348\" xlink:href=\"#m3fdd7df277\" y=\"195.240202\"/>\n     <use style=\"fill:#1f77b4;stroke:#1f77b4;\" x=\"832.879869\" xlink:href=\"#m3fdd7df277\" y=\"162.81442\"/>\n     <use style=\"fill:#1f77b4;stroke:#1f77b4;\" x=\"836.606391\" xlink:href=\"#m3fdd7df277\" y=\"259.195929\"/>\n     <use style=\"fill:#1f77b4;stroke:#1f77b4;\" x=\"840.332912\" xlink:href=\"#m3fdd7df277\" y=\"94.888092\"/>\n     <use style=\"fill:#1f77b4;stroke:#1f77b4;\" x=\"844.059434\" xlink:href=\"#m3fdd7df277\" y=\"202.10854\"/>\n     <use style=\"fill:#1f77b4;stroke:#1f77b4;\" x=\"847.785955\" xlink:href=\"#m3fdd7df277\" y=\"187.471353\"/>\n     <use style=\"fill:#1f77b4;stroke:#1f77b4;\" x=\"851.512477\" xlink:href=\"#m3fdd7df277\" y=\"102.894866\"/>\n     <use style=\"fill:#1f77b4;stroke:#1f77b4;\" x=\"855.238998\" xlink:href=\"#m3fdd7df277\" y=\"174.434823\"/>\n     <use style=\"fill:#1f77b4;stroke:#1f77b4;\" x=\"858.965519\" xlink:href=\"#m3fdd7df277\" y=\"196.390589\"/>\n     <use style=\"fill:#1f77b4;stroke:#1f77b4;\" x=\"862.692041\" xlink:href=\"#m3fdd7df277\" y=\"145.222714\"/>\n     <use style=\"fill:#1f77b4;stroke:#1f77b4;\" x=\"866.418562\" xlink:href=\"#m3fdd7df277\" y=\"140.147333\"/>\n     <use style=\"fill:#1f77b4;stroke:#1f77b4;\" x=\"870.145084\" xlink:href=\"#m3fdd7df277\" y=\"109.995293\"/>\n     <use style=\"fill:#1f77b4;stroke:#1f77b4;\" x=\"873.871605\" xlink:href=\"#m3fdd7df277\" y=\"152.760261\"/>\n     <use style=\"fill:#1f77b4;stroke:#1f77b4;\" x=\"877.598126\" xlink:href=\"#m3fdd7df277\" y=\"156.577403\"/>\n     <use style=\"fill:#1f77b4;stroke:#1f77b4;\" x=\"881.324648\" xlink:href=\"#m3fdd7df277\" y=\"148.912388\"/>\n     <use style=\"fill:#1f77b4;stroke:#1f77b4;\" x=\"885.051169\" xlink:href=\"#m3fdd7df277\" y=\"102.046707\"/>\n     <use style=\"fill:#1f77b4;stroke:#1f77b4;\" x=\"888.777691\" xlink:href=\"#m3fdd7df277\" y=\"150.9216\"/>\n     <use style=\"fill:#1f77b4;stroke:#1f77b4;\" x=\"892.504212\" xlink:href=\"#m3fdd7df277\" y=\"114.276034\"/>\n     <use style=\"fill:#1f77b4;stroke:#1f77b4;\" x=\"896.230733\" xlink:href=\"#m3fdd7df277\" y=\"134.93614\"/>\n     <use style=\"fill:#1f77b4;stroke:#1f77b4;\" x=\"899.957255\" xlink:href=\"#m3fdd7df277\" y=\"183.375812\"/>\n     <use style=\"fill:#1f77b4;stroke:#1f77b4;\" x=\"903.683776\" xlink:href=\"#m3fdd7df277\" y=\"150.682074\"/>\n     <use style=\"fill:#1f77b4;stroke:#1f77b4;\" x=\"907.410298\" xlink:href=\"#m3fdd7df277\" y=\"105.512782\"/>\n     <use style=\"fill:#1f77b4;stroke:#1f77b4;\" x=\"911.136819\" xlink:href=\"#m3fdd7df277\" y=\"198.386207\"/>\n     <use style=\"fill:#1f77b4;stroke:#1f77b4;\" x=\"914.863341\" xlink:href=\"#m3fdd7df277\" y=\"117.805989\"/>\n     <use style=\"fill:#1f77b4;stroke:#1f77b4;\" x=\"918.589862\" xlink:href=\"#m3fdd7df277\" y=\"210.386588\"/>\n     <use style=\"fill:#1f77b4;stroke:#1f77b4;\" x=\"922.316383\" xlink:href=\"#m3fdd7df277\" y=\"199.408109\"/>\n     <use style=\"fill:#1f77b4;stroke:#1f77b4;\" x=\"926.042905\" xlink:href=\"#m3fdd7df277\" y=\"49.557289\"/>\n     <use style=\"fill:#1f77b4;stroke:#1f77b4;\" x=\"929.769426\" xlink:href=\"#m3fdd7df277\" y=\"88.357235\"/>\n     <use style=\"fill:#1f77b4;stroke:#1f77b4;\" x=\"933.495948\" xlink:href=\"#m3fdd7df277\" y=\"217.320997\"/>\n     <use style=\"fill:#1f77b4;stroke:#1f77b4;\" x=\"937.222469\" xlink:href=\"#m3fdd7df277\" y=\"160.251088\"/>\n    </g>\n   </g>\n   <g id=\"matplotlib.axis_3\">\n    <g id=\"xtick_7\">\n     <g id=\"line2d_16\">\n      <g>\n       <use style=\"stroke:#000000;stroke-width:0.8;\" x=\"564.570328\" xlink:href=\"#mffd3714008\" y=\"294.118125\"/>\n      </g>\n     </g>\n     <g id=\"text_17\">\n      <!-- 0 -->\n      <g transform=\"translate(561.389078 308.716563)scale(0.1 -0.1)\">\n       <use xlink:href=\"#DejaVuSans-48\"/>\n      </g>\n     </g>\n    </g>\n    <g id=\"xtick_8\">\n     <g id=\"line2d_17\">\n      <g>\n       <use style=\"stroke:#000000;stroke-width:0.8;\" x=\"639.100756\" xlink:href=\"#mffd3714008\" y=\"294.118125\"/>\n      </g>\n     </g>\n     <g id=\"text_18\">\n      <!-- 20 -->\n      <g transform=\"translate(632.738256 308.716563)scale(0.1 -0.1)\">\n       <use xlink:href=\"#DejaVuSans-50\"/>\n       <use x=\"63.623047\" xlink:href=\"#DejaVuSans-48\"/>\n      </g>\n     </g>\n    </g>\n    <g id=\"xtick_9\">\n     <g id=\"line2d_18\">\n      <g>\n       <use style=\"stroke:#000000;stroke-width:0.8;\" x=\"713.631184\" xlink:href=\"#mffd3714008\" y=\"294.118125\"/>\n      </g>\n     </g>\n     <g id=\"text_19\">\n      <!-- 40 -->\n      <g transform=\"translate(707.268684 308.716563)scale(0.1 -0.1)\">\n       <use xlink:href=\"#DejaVuSans-52\"/>\n       <use x=\"63.623047\" xlink:href=\"#DejaVuSans-48\"/>\n      </g>\n     </g>\n    </g>\n    <g id=\"xtick_10\">\n     <g id=\"line2d_19\">\n      <g>\n       <use style=\"stroke:#000000;stroke-width:0.8;\" x=\"788.161613\" xlink:href=\"#mffd3714008\" y=\"294.118125\"/>\n      </g>\n     </g>\n     <g id=\"text_20\">\n      <!-- 60 -->\n      <g transform=\"translate(781.799113 308.716563)scale(0.1 -0.1)\">\n       <use xlink:href=\"#DejaVuSans-54\"/>\n       <use x=\"63.623047\" xlink:href=\"#DejaVuSans-48\"/>\n      </g>\n     </g>\n    </g>\n    <g id=\"xtick_11\">\n     <g id=\"line2d_20\">\n      <g>\n       <use style=\"stroke:#000000;stroke-width:0.8;\" x=\"862.692041\" xlink:href=\"#mffd3714008\" y=\"294.118125\"/>\n      </g>\n     </g>\n     <g id=\"text_21\">\n      <!-- 80 -->\n      <g transform=\"translate(856.329541 308.716563)scale(0.1 -0.1)\">\n       <use xlink:href=\"#DejaVuSans-56\"/>\n       <use x=\"63.623047\" xlink:href=\"#DejaVuSans-48\"/>\n      </g>\n     </g>\n    </g>\n    <g id=\"xtick_12\">\n     <g id=\"line2d_21\">\n      <g>\n       <use style=\"stroke:#000000;stroke-width:0.8;\" x=\"937.222469\" xlink:href=\"#mffd3714008\" y=\"294.118125\"/>\n      </g>\n     </g>\n     <g id=\"text_22\">\n      <!-- 100 -->\n      <g transform=\"translate(927.678719 308.716563)scale(0.1 -0.1)\">\n       <use xlink:href=\"#DejaVuSans-49\"/>\n       <use x=\"63.623047\" xlink:href=\"#DejaVuSans-48\"/>\n       <use x=\"127.246094\" xlink:href=\"#DejaVuSans-48\"/>\n      </g>\n     </g>\n    </g>\n    <g id=\"text_23\">\n     <!-- Sample # -->\n     <g transform=\"translate(728.232315 322.394687)scale(0.1 -0.1)\">\n      <use xlink:href=\"#DejaVuSans-83\"/>\n      <use x=\"63.476562\" xlink:href=\"#DejaVuSans-97\"/>\n      <use x=\"124.755859\" xlink:href=\"#DejaVuSans-109\"/>\n      <use x=\"222.167969\" xlink:href=\"#DejaVuSans-112\"/>\n      <use x=\"285.644531\" xlink:href=\"#DejaVuSans-108\"/>\n      <use x=\"313.427734\" xlink:href=\"#DejaVuSans-101\"/>\n      <use x=\"374.951172\" xlink:href=\"#DejaVuSans-32\"/>\n      <use x=\"406.738281\" xlink:href=\"#DejaVuSans-35\"/>\n     </g>\n    </g>\n   </g>\n   <g id=\"matplotlib.axis_4\">\n    <g id=\"ytick_8\">\n     <g id=\"line2d_22\">\n      <g>\n       <use style=\"stroke:#000000;stroke-width:0.8;\" x=\"549.850568\" xlink:href=\"#m50b7139dfb\" y=\"294.118125\"/>\n      </g>\n     </g>\n     <g id=\"text_24\">\n      <!-- 0.0090 -->\n      <g transform=\"translate(507.859943 297.917344)scale(0.1 -0.1)\">\n       <use xlink:href=\"#DejaVuSans-48\"/>\n       <use x=\"63.623047\" xlink:href=\"#DejaVuSans-46\"/>\n       <use x=\"95.410156\" xlink:href=\"#DejaVuSans-48\"/>\n       <use x=\"159.033203\" xlink:href=\"#DejaVuSans-48\"/>\n       <use x=\"222.65625\" xlink:href=\"#DejaVuSans-57\"/>\n       <use x=\"286.279297\" xlink:href=\"#DejaVuSans-48\"/>\n      </g>\n     </g>\n    </g>\n    <g id=\"ytick_9\">\n     <g id=\"line2d_23\">\n      <g>\n       <use style=\"stroke:#000000;stroke-width:0.8;\" x=\"549.850568\" xlink:href=\"#m50b7139dfb\" y=\"248.818125\"/>\n      </g>\n     </g>\n     <g id=\"text_25\">\n      <!-- 0.0095 -->\n      <g transform=\"translate(507.859943 252.617344)scale(0.1 -0.1)\">\n       <use xlink:href=\"#DejaVuSans-48\"/>\n       <use x=\"63.623047\" xlink:href=\"#DejaVuSans-46\"/>\n       <use x=\"95.410156\" xlink:href=\"#DejaVuSans-48\"/>\n       <use x=\"159.033203\" xlink:href=\"#DejaVuSans-48\"/>\n       <use x=\"222.65625\" xlink:href=\"#DejaVuSans-57\"/>\n       <use x=\"286.279297\" xlink:href=\"#DejaVuSans-53\"/>\n      </g>\n     </g>\n    </g>\n    <g id=\"ytick_10\">\n     <g id=\"line2d_24\">\n      <g>\n       <use style=\"stroke:#000000;stroke-width:0.8;\" x=\"549.850568\" xlink:href=\"#m50b7139dfb\" y=\"203.518125\"/>\n      </g>\n     </g>\n     <g id=\"text_26\">\n      <!-- 0.0100 -->\n      <g transform=\"translate(507.859943 207.317344)scale(0.1 -0.1)\">\n       <use xlink:href=\"#DejaVuSans-48\"/>\n       <use x=\"63.623047\" xlink:href=\"#DejaVuSans-46\"/>\n       <use x=\"95.410156\" xlink:href=\"#DejaVuSans-48\"/>\n       <use x=\"159.033203\" xlink:href=\"#DejaVuSans-49\"/>\n       <use x=\"222.65625\" xlink:href=\"#DejaVuSans-48\"/>\n       <use x=\"286.279297\" xlink:href=\"#DejaVuSans-48\"/>\n      </g>\n     </g>\n    </g>\n    <g id=\"ytick_11\">\n     <g id=\"line2d_25\">\n      <g>\n       <use style=\"stroke:#000000;stroke-width:0.8;\" x=\"549.850568\" xlink:href=\"#m50b7139dfb\" y=\"158.218125\"/>\n      </g>\n     </g>\n     <g id=\"text_27\">\n      <!-- 0.0105 -->\n      <g transform=\"translate(507.859943 162.017344)scale(0.1 -0.1)\">\n       <use xlink:href=\"#DejaVuSans-48\"/>\n       <use x=\"63.623047\" xlink:href=\"#DejaVuSans-46\"/>\n       <use x=\"95.410156\" xlink:href=\"#DejaVuSans-48\"/>\n       <use x=\"159.033203\" xlink:href=\"#DejaVuSans-49\"/>\n       <use x=\"222.65625\" xlink:href=\"#DejaVuSans-48\"/>\n       <use x=\"286.279297\" xlink:href=\"#DejaVuSans-53\"/>\n      </g>\n     </g>\n    </g>\n    <g id=\"ytick_12\">\n     <g id=\"line2d_26\">\n      <g>\n       <use style=\"stroke:#000000;stroke-width:0.8;\" x=\"549.850568\" xlink:href=\"#m50b7139dfb\" y=\"112.918125\"/>\n      </g>\n     </g>\n     <g id=\"text_28\">\n      <!-- 0.0110 -->\n      <g transform=\"translate(507.859943 116.717344)scale(0.1 -0.1)\">\n       <use xlink:href=\"#DejaVuSans-48\"/>\n       <use x=\"63.623047\" xlink:href=\"#DejaVuSans-46\"/>\n       <use x=\"95.410156\" xlink:href=\"#DejaVuSans-48\"/>\n       <use x=\"159.033203\" xlink:href=\"#DejaVuSans-49\"/>\n       <use x=\"222.65625\" xlink:href=\"#DejaVuSans-49\"/>\n       <use x=\"286.279297\" xlink:href=\"#DejaVuSans-48\"/>\n      </g>\n     </g>\n    </g>\n    <g id=\"ytick_13\">\n     <g id=\"line2d_27\">\n      <g>\n       <use style=\"stroke:#000000;stroke-width:0.8;\" x=\"549.850568\" xlink:href=\"#m50b7139dfb\" y=\"67.618125\"/>\n      </g>\n     </g>\n     <g id=\"text_29\">\n      <!-- 0.0115 -->\n      <g transform=\"translate(507.859943 71.417344)scale(0.1 -0.1)\">\n       <use xlink:href=\"#DejaVuSans-48\"/>\n       <use x=\"63.623047\" xlink:href=\"#DejaVuSans-46\"/>\n       <use x=\"95.410156\" xlink:href=\"#DejaVuSans-48\"/>\n       <use x=\"159.033203\" xlink:href=\"#DejaVuSans-49\"/>\n       <use x=\"222.65625\" xlink:href=\"#DejaVuSans-49\"/>\n       <use x=\"286.279297\" xlink:href=\"#DejaVuSans-53\"/>\n      </g>\n     </g>\n    </g>\n    <g id=\"ytick_14\">\n     <g id=\"line2d_28\">\n      <g>\n       <use style=\"stroke:#000000;stroke-width:0.8;\" x=\"549.850568\" xlink:href=\"#m50b7139dfb\" y=\"22.318125\"/>\n      </g>\n     </g>\n     <g id=\"text_30\">\n      <!-- 0.0120 -->\n      <g transform=\"translate(507.859943 26.117344)scale(0.1 -0.1)\">\n       <use xlink:href=\"#DejaVuSans-48\"/>\n       <use x=\"63.623047\" xlink:href=\"#DejaVuSans-46\"/>\n       <use x=\"95.410156\" xlink:href=\"#DejaVuSans-48\"/>\n       <use x=\"159.033203\" xlink:href=\"#DejaVuSans-49\"/>\n       <use x=\"222.65625\" xlink:href=\"#DejaVuSans-50\"/>\n       <use x=\"286.279297\" xlink:href=\"#DejaVuSans-48\"/>\n      </g>\n     </g>\n    </g>\n    <g id=\"text_31\">\n     <!-- Variance of Sampling Mean -->\n     <g transform=\"translate(501.780256 226.432187)rotate(-90)scale(0.1 -0.1)\">\n      <use xlink:href=\"#DejaVuSans-86\"/>\n      <use x=\"60.658203\" xlink:href=\"#DejaVuSans-97\"/>\n      <use x=\"121.9375\" xlink:href=\"#DejaVuSans-114\"/>\n      <use x=\"163.050781\" xlink:href=\"#DejaVuSans-105\"/>\n      <use x=\"190.833984\" xlink:href=\"#DejaVuSans-97\"/>\n      <use x=\"252.113281\" xlink:href=\"#DejaVuSans-110\"/>\n      <use x=\"315.492188\" xlink:href=\"#DejaVuSans-99\"/>\n      <use x=\"370.472656\" xlink:href=\"#DejaVuSans-101\"/>\n      <use x=\"431.996094\" xlink:href=\"#DejaVuSans-32\"/>\n      <use x=\"463.783203\" xlink:href=\"#DejaVuSans-111\"/>\n      <use x=\"524.964844\" xlink:href=\"#DejaVuSans-102\"/>\n      <use x=\"560.169922\" xlink:href=\"#DejaVuSans-32\"/>\n      <use x=\"591.957031\" xlink:href=\"#DejaVuSans-83\"/>\n      <use x=\"655.433594\" xlink:href=\"#DejaVuSans-97\"/>\n      <use x=\"716.712891\" xlink:href=\"#DejaVuSans-109\"/>\n      <use x=\"814.125\" xlink:href=\"#DejaVuSans-112\"/>\n      <use x=\"877.601562\" xlink:href=\"#DejaVuSans-108\"/>\n      <use x=\"905.384766\" xlink:href=\"#DejaVuSans-105\"/>\n      <use x=\"933.167969\" xlink:href=\"#DejaVuSans-110\"/>\n      <use x=\"996.546875\" xlink:href=\"#DejaVuSans-103\"/>\n      <use x=\"1060.023438\" xlink:href=\"#DejaVuSans-32\"/>\n      <use x=\"1091.810547\" xlink:href=\"#DejaVuSans-77\"/>\n      <use x=\"1178.089844\" xlink:href=\"#DejaVuSans-101\"/>\n      <use x=\"1239.613281\" xlink:href=\"#DejaVuSans-97\"/>\n      <use x=\"1300.892578\" xlink:href=\"#DejaVuSans-110\"/>\n     </g>\n    </g>\n   </g>\n   <g id=\"line2d_29\">\n    <path clip-path=\"url(#p4a1c921022)\" d=\"M 549.850568 154.474354 \nL 955.66875 154.474354 \n\" style=\"fill:none;stroke:#1f77b4;stroke-linecap:square;stroke-width:1.5;\"/>\n   </g>\n   <g id=\"line2d_30\">\n    <path clip-path=\"url(#p4a1c921022)\" style=\"fill:none;stroke:#ff0000;stroke-linecap:square;stroke-width:1.5;\"/>\n   </g>\n   <g id=\"patch_8\">\n    <path d=\"M 549.850568 294.118125 \nL 549.850568 22.318125 \n\" style=\"fill:none;stroke:#000000;stroke-linecap:square;stroke-linejoin:miter;stroke-width:0.8;\"/>\n   </g>\n   <g id=\"patch_9\">\n    <path d=\"M 955.66875 294.118125 \nL 955.66875 22.318125 \n\" style=\"fill:none;stroke:#000000;stroke-linecap:square;stroke-linejoin:miter;stroke-width:0.8;\"/>\n   </g>\n   <g id=\"patch_10\">\n    <path d=\"M 549.850568 294.118125 \nL 955.66875 294.118125 \n\" style=\"fill:none;stroke:#000000;stroke-linecap:square;stroke-linejoin:miter;stroke-width:0.8;\"/>\n   </g>\n   <g id=\"patch_11\">\n    <path d=\"M 549.850568 22.318125 \nL 955.66875 22.318125 \n\" style=\"fill:none;stroke:#000000;stroke-linecap:square;stroke-linejoin:miter;stroke-width:0.8;\"/>\n   </g>\n   <g id=\"text_32\">\n    <!-- Stratified Sampling -->\n    <defs>\n     <path d=\"M 45.40625 46.390625 \nL 45.40625 75.984375 \nL 54.390625 75.984375 \nL 54.390625 0 \nL 45.40625 0 \nL 45.40625 8.203125 \nQ 42.578125 3.328125 38.25 0.953125 \nQ 33.9375 -1.421875 27.875 -1.421875 \nQ 17.96875 -1.421875 11.734375 6.484375 \nQ 5.515625 14.40625 5.515625 27.296875 \nQ 5.515625 40.1875 11.734375 48.09375 \nQ 17.96875 56 27.875 56 \nQ 33.9375 56 38.25 53.625 \nQ 42.578125 51.265625 45.40625 46.390625 \nz\nM 14.796875 27.296875 \nQ 14.796875 17.390625 18.875 11.75 \nQ 22.953125 6.109375 30.078125 6.109375 \nQ 37.203125 6.109375 41.296875 11.75 \nQ 45.40625 17.390625 45.40625 27.296875 \nQ 45.40625 37.203125 41.296875 42.84375 \nQ 37.203125 48.484375 30.078125 48.484375 \nQ 22.953125 48.484375 18.875 42.84375 \nQ 14.796875 37.203125 14.796875 27.296875 \nz\n\" id=\"DejaVuSans-100\"/>\n    </defs>\n    <g transform=\"translate(695.164347 16.318125)scale(0.12 -0.12)\">\n     <use xlink:href=\"#DejaVuSans-83\"/>\n     <use x=\"63.476562\" xlink:href=\"#DejaVuSans-116\"/>\n     <use x=\"102.685547\" xlink:href=\"#DejaVuSans-114\"/>\n     <use x=\"143.798828\" xlink:href=\"#DejaVuSans-97\"/>\n     <use x=\"205.078125\" xlink:href=\"#DejaVuSans-116\"/>\n     <use x=\"244.287109\" xlink:href=\"#DejaVuSans-105\"/>\n     <use x=\"272.070312\" xlink:href=\"#DejaVuSans-102\"/>\n     <use x=\"307.275391\" xlink:href=\"#DejaVuSans-105\"/>\n     <use x=\"335.058594\" xlink:href=\"#DejaVuSans-101\"/>\n     <use x=\"396.582031\" xlink:href=\"#DejaVuSans-100\"/>\n     <use x=\"460.058594\" xlink:href=\"#DejaVuSans-32\"/>\n     <use x=\"491.845703\" xlink:href=\"#DejaVuSans-83\"/>\n     <use x=\"555.322266\" xlink:href=\"#DejaVuSans-97\"/>\n     <use x=\"616.601562\" xlink:href=\"#DejaVuSans-109\"/>\n     <use x=\"714.013672\" xlink:href=\"#DejaVuSans-112\"/>\n     <use x=\"777.490234\" xlink:href=\"#DejaVuSans-108\"/>\n     <use x=\"805.273438\" xlink:href=\"#DejaVuSans-105\"/>\n     <use x=\"833.056641\" xlink:href=\"#DejaVuSans-110\"/>\n     <use x=\"896.435547\" xlink:href=\"#DejaVuSans-103\"/>\n    </g>\n   </g>\n  </g>\n </g>\n <defs>\n  <clipPath id=\"pa494836e1a\">\n   <rect height=\"271.8\" width=\"405.818182\" x=\"62.86875\" y=\"22.318125\"/>\n  </clipPath>\n  <clipPath id=\"p4a1c921022\">\n   <rect height=\"271.8\" width=\"405.818182\" x=\"549.850568\" y=\"22.318125\"/>\n  </clipPath>\n </defs>\n</svg>\n",
      "image/png": "[encoded data removed]"
     },
     "metadata": {
      "needs_background": "light"
     }
    }
   ],
   "source": [
    "samplingratio = 1/5\n",
    "\n",
    "sample_var_Simple_overall = []\n",
    "sample_mean_Simple_overall = []\n",
    "for i in range(100):\n",
    "    sample = df.sample(frac=samplingratio, replace=False, random_state=i)\n",
    "    sample_var_Simple_overall.append((sample.Overall.var()/sample.shape[0])*(1-(sample.shape[0]-1)/(N-1)))\n",
    "    sample_mean_Simple_overall.append(sample.Overall.mean())\n",
    "\n",
    "sample_var_Stratified_Overall = []\n",
    "sample_mean_Stratified_Overall = []\n",
    "for i in range(100):\n",
    "    sample = df.groupby('Position').apply(lambda x: x.sample(frac=samplingratio,random_state=i))\n",
    "    sample_var_Stratified_Overall.append((sample.Overall.var()/sample.shape[0])*(1-(sample.shape[0]-1)/(N-1)))\n",
    "    sample_mean_Stratified_Overall.append(sample.Overall.mean())\n",
    "\n",
    "\n",
    "plt.figure(figsize=(16,5))\n",
    "\n",
    "plt.subplot(121)\n",
    "plt.scatter(range(1,101), sample_var_Simple_overall)\n",
    "plt.axhline(np.mean(sample_var_Simple_overall))\n",
    "plt.axhline(np.var(sample_mean_Simple_overall), color = 'red')\n",
    "plt.ylim(0.009, 0.012)\n",
    "plt.xlabel(\"Sample #\")\n",
    "plt.ylabel(\"Variance of Sampling Mean\")\n",
    "plt.title(\"SRS (without replacement)\")\n",
    "\n",
    "plt.subplot(122)\n",
    "plt.scatter(range(1,101), sample_var_Stratified_Overall)\n",
    "plt.axhline(np.mean(sample_var_Stratified_Overall))\n",
    "plt.axhline(np.var(sample_mean_Stratified_Overall), color = 'red')\n",
    "#plt.ylim(0.009, 0.012)\n",
    "plt.xlabel(\"Sample #\")\n",
    "plt.ylabel(\"Variance of Sampling Mean\")\n",
    "plt.title(\"Stratified Sampling\")\n",
    "\n",
    "plt.show()"
   ]
  },
  {
   "cell_type": "code",
   "execution_count": 22,
   "metadata": {},
   "outputs": [
    {
     "output_type": "execute_result",
     "data": {
      "text/plain": [
       "0    94\n",
       "1    94\n",
       "2    92\n",
       "3    91\n",
       "4    91\n",
       "Name: Overall, dtype: int64"
      ]
     },
     "metadata": {},
     "execution_count": 22
    }
   ],
   "source": [
    "df.Overall.head()"
   ]
  },
  {
   "source": [
    "* I assume that stratification did not work well in this case because of the strata choice. \"Finishing\" variable describes score of accuracy of shots from within the penalty area. Probably it's in the correlation with Position variable, as it would make sense to put players, that can do such shots onto according positions. \n",
    "* However, \"Overall\" score is probably some weighted sum of all other scores and takes into account many points, with POsition playing not big roe, so that the choice of strata here increses the overall variance"
   ],
   "cell_type": "markdown",
   "metadata": {}
  },
  {
   "source": [
    "## 6 find better strata to decrease variance more than in 4"
   ],
   "cell_type": "markdown",
   "metadata": {}
  },
  {
   "cell_type": "code",
   "execution_count": 122,
   "metadata": {},
   "outputs": [
    {
     "output_type": "execute_result",
     "data": {
      "text/plain": [
       "Nationality\n",
       "Albania           40\n",
       "Algeria           60\n",
       "Angola            15\n",
       "Argentina        937\n",
       "Australia        236\n",
       "                ... \n",
       "United States    353\n",
       "Uruguay          149\n",
       "Venezuela         67\n",
       "Wales            129\n",
       "Zimbabwe          13\n",
       "Length: 90, dtype: int64"
      ]
     },
     "metadata": {},
     "execution_count": 122
    }
   ],
   "source": [
    "a = df.groupby('Nationality').size()\n",
    "a[a>10]"
   ]
  },
  {
   "cell_type": "code",
   "execution_count": 14,
   "metadata": {},
   "outputs": [
    {
     "output_type": "display_data",
     "data": {
      "text/plain": "<Figure size 1152x360 with 3 Axes>",
      "image/svg+xml": "<?xml version=\"1.0\" encoding=\"utf-8\" standalone=\"no\"?>\n<!DOCTYPE svg PUBLIC \"-//W3C//DTD SVG 1.1//EN\"\n  \"http://www.w3.org/Graphics/SVG/1.1/DTD/svg11.dtd\">\n<!-- Created with matplotlib (https://matplotlib.org/) -->\n<svg height=\"331.674375pt\" version=\"1.1\" viewBox=\"0 0 950.14375 331.674375\" width=\"950.14375pt\" xmlns=\"http://www.w3.org/2000/svg\" xmlns:xlink=\"http://www.w3.org/1999/xlink\">\n <defs>\n  <style type=\"text/css\">\n*{stroke-linecap:butt;stroke-linejoin:round;}\n  </style>\n </defs>\n <g id=\"figure_1\">\n  <g id=\"patch_1\">\n   <path d=\"M 0 331.674375 \nL 950.14375 331.674375 \nL 950.14375 0 \nL 0 0 \nz\n\" style=\"fill:none;\"/>\n  </g>\n  <g id=\"axes_1\">\n   <g id=\"patch_2\">\n    <path d=\"M 50.14375 294.118125 \nL 312.731985 294.118125 \nL 312.731985 22.318125 \nL 50.14375 22.318125 \nz\n\" style=\"fill:#ffffff;\"/>\n   </g>\n   <g id=\"PathCollection_1\">\n    <defs>\n     <path d=\"M 0 3 \nC 0.795609 3 1.55874 2.683901 2.12132 2.12132 \nC 2.683901 1.55874 3 0.795609 3 0 \nC 3 -0.795609 2.683901 -1.55874 2.12132 -2.12132 \nC 1.55874 -2.683901 0.795609 -3 0 -3 \nC -0.795609 -3 -1.55874 -2.683901 -2.12132 -2.12132 \nC -2.683901 -1.55874 -3 -0.795609 -3 0 \nC -3 0.795609 -2.683901 1.55874 -2.12132 2.12132 \nC -1.55874 2.683901 -0.795609 3 0 3 \nz\n\" id=\"m19eca7f2ed\" style=\"stroke:#1f77b4;\"/>\n    </defs>\n    <g clip-path=\"url(#p024db48948)\">\n     <use style=\"fill:#1f77b4;stroke:#1f77b4;\" x=\"62.079579\" xlink:href=\"#m19eca7f2ed\" y=\"55.155852\"/>\n     <use style=\"fill:#1f77b4;stroke:#1f77b4;\" x=\"64.490857\" xlink:href=\"#m19eca7f2ed\" y=\"51.994987\"/>\n     <use style=\"fill:#1f77b4;stroke:#1f77b4;\" x=\"66.902136\" xlink:href=\"#m19eca7f2ed\" y=\"52.62524\"/>\n     <use style=\"fill:#1f77b4;stroke:#1f77b4;\" x=\"69.313415\" xlink:href=\"#m19eca7f2ed\" y=\"55.43712\"/>\n     <use style=\"fill:#1f77b4;stroke:#1f77b4;\" x=\"71.724693\" xlink:href=\"#m19eca7f2ed\" y=\"35.292602\"/>\n     <use style=\"fill:#1f77b4;stroke:#1f77b4;\" x=\"74.135972\" xlink:href=\"#m19eca7f2ed\" y=\"63.168541\"/>\n     <use style=\"fill:#1f77b4;stroke:#1f77b4;\" x=\"76.54725\" xlink:href=\"#m19eca7f2ed\" y=\"52.928521\"/>\n     <use style=\"fill:#1f77b4;stroke:#1f77b4;\" x=\"78.958529\" xlink:href=\"#m19eca7f2ed\" y=\"59.358798\"/>\n     <use style=\"fill:#1f77b4;stroke:#1f77b4;\" x=\"81.369807\" xlink:href=\"#m19eca7f2ed\" y=\"51.425413\"/>\n     <use style=\"fill:#1f77b4;stroke:#1f77b4;\" x=\"83.781086\" xlink:href=\"#m19eca7f2ed\" y=\"52.751422\"/>\n     <use style=\"fill:#1f77b4;stroke:#1f77b4;\" x=\"86.192364\" xlink:href=\"#m19eca7f2ed\" y=\"60.649233\"/>\n     <use style=\"fill:#1f77b4;stroke:#1f77b4;\" x=\"88.603643\" xlink:href=\"#m19eca7f2ed\" y=\"53.446029\"/>\n     <use style=\"fill:#1f77b4;stroke:#1f77b4;\" x=\"91.014922\" xlink:href=\"#m19eca7f2ed\" y=\"47.398208\"/>\n     <use style=\"fill:#1f77b4;stroke:#1f77b4;\" x=\"93.4262\" xlink:href=\"#m19eca7f2ed\" y=\"60.045798\"/>\n     <use style=\"fill:#1f77b4;stroke:#1f77b4;\" x=\"95.837479\" xlink:href=\"#m19eca7f2ed\" y=\"37.552764\"/>\n     <use style=\"fill:#1f77b4;stroke:#1f77b4;\" x=\"98.248757\" xlink:href=\"#m19eca7f2ed\" y=\"49.156145\"/>\n     <use style=\"fill:#1f77b4;stroke:#1f77b4;\" x=\"100.660036\" xlink:href=\"#m19eca7f2ed\" y=\"53.365264\"/>\n     <use style=\"fill:#1f77b4;stroke:#1f77b4;\" x=\"103.071314\" xlink:href=\"#m19eca7f2ed\" y=\"65.075729\"/>\n     <use style=\"fill:#1f77b4;stroke:#1f77b4;\" x=\"105.482593\" xlink:href=\"#m19eca7f2ed\" y=\"59.443382\"/>\n     <use style=\"fill:#1f77b4;stroke:#1f77b4;\" x=\"107.893872\" xlink:href=\"#m19eca7f2ed\" y=\"62.98669\"/>\n     <use style=\"fill:#1f77b4;stroke:#1f77b4;\" x=\"110.30515\" xlink:href=\"#m19eca7f2ed\" y=\"46.989802\"/>\n     <use style=\"fill:#1f77b4;stroke:#1f77b4;\" x=\"112.716429\" xlink:href=\"#m19eca7f2ed\" y=\"53.575129\"/>\n     <use style=\"fill:#1f77b4;stroke:#1f77b4;\" x=\"115.127707\" xlink:href=\"#m19eca7f2ed\" y=\"41.913476\"/>\n     <use style=\"fill:#1f77b4;stroke:#1f77b4;\" x=\"117.538986\" xlink:href=\"#m19eca7f2ed\" y=\"54.955568\"/>\n     <use style=\"fill:#1f77b4;stroke:#1f77b4;\" x=\"119.950264\" xlink:href=\"#m19eca7f2ed\" y=\"42.782305\"/>\n     <use style=\"fill:#1f77b4;stroke:#1f77b4;\" x=\"122.361543\" xlink:href=\"#m19eca7f2ed\" y=\"51.259737\"/>\n     <use style=\"fill:#1f77b4;stroke:#1f77b4;\" x=\"124.772821\" xlink:href=\"#m19eca7f2ed\" y=\"62.079744\"/>\n     <use style=\"fill:#1f77b4;stroke:#1f77b4;\" x=\"127.1841\" xlink:href=\"#m19eca7f2ed\" y=\"53.73352\"/>\n     <use style=\"fill:#1f77b4;stroke:#1f77b4;\" x=\"129.595379\" xlink:href=\"#m19eca7f2ed\" y=\"59.515359\"/>\n     <use style=\"fill:#1f77b4;stroke:#1f77b4;\" x=\"132.006657\" xlink:href=\"#m19eca7f2ed\" y=\"60.949559\"/>\n     <use style=\"fill:#1f77b4;stroke:#1f77b4;\" x=\"134.417936\" xlink:href=\"#m19eca7f2ed\" y=\"62.898572\"/>\n     <use style=\"fill:#1f77b4;stroke:#1f77b4;\" x=\"136.829214\" xlink:href=\"#m19eca7f2ed\" y=\"54.36236\"/>\n     <use style=\"fill:#1f77b4;stroke:#1f77b4;\" x=\"139.240493\" xlink:href=\"#m19eca7f2ed\" y=\"63.724895\"/>\n     <use style=\"fill:#1f77b4;stroke:#1f77b4;\" x=\"141.651771\" xlink:href=\"#m19eca7f2ed\" y=\"54.387477\"/>\n     <use style=\"fill:#1f77b4;stroke:#1f77b4;\" x=\"144.06305\" xlink:href=\"#m19eca7f2ed\" y=\"56.368721\"/>\n     <use style=\"fill:#1f77b4;stroke:#1f77b4;\" x=\"146.474329\" xlink:href=\"#m19eca7f2ed\" y=\"40.15605\"/>\n     <use style=\"fill:#1f77b4;stroke:#1f77b4;\" x=\"148.885607\" xlink:href=\"#m19eca7f2ed\" y=\"55.603364\"/>\n     <use style=\"fill:#1f77b4;stroke:#1f77b4;\" x=\"151.296886\" xlink:href=\"#m19eca7f2ed\" y=\"61.721363\"/>\n     <use style=\"fill:#1f77b4;stroke:#1f77b4;\" x=\"153.708164\" xlink:href=\"#m19eca7f2ed\" y=\"60.685085\"/>\n     <use style=\"fill:#1f77b4;stroke:#1f77b4;\" x=\"156.119443\" xlink:href=\"#m19eca7f2ed\" y=\"49.601666\"/>\n     <use style=\"fill:#1f77b4;stroke:#1f77b4;\" x=\"158.530721\" xlink:href=\"#m19eca7f2ed\" y=\"63.290139\"/>\n     <use style=\"fill:#1f77b4;stroke:#1f77b4;\" x=\"160.942\" xlink:href=\"#m19eca7f2ed\" y=\"66.634432\"/>\n     <use style=\"fill:#1f77b4;stroke:#1f77b4;\" x=\"163.353278\" xlink:href=\"#m19eca7f2ed\" y=\"62.920969\"/>\n     <use style=\"fill:#1f77b4;stroke:#1f77b4;\" x=\"165.764557\" xlink:href=\"#m19eca7f2ed\" y=\"64.897095\"/>\n     <use style=\"fill:#1f77b4;stroke:#1f77b4;\" x=\"168.175836\" xlink:href=\"#m19eca7f2ed\" y=\"67.774231\"/>\n     <use style=\"fill:#1f77b4;stroke:#1f77b4;\" x=\"170.587114\" xlink:href=\"#m19eca7f2ed\" y=\"52.612641\"/>\n     <use style=\"fill:#1f77b4;stroke:#1f77b4;\" x=\"172.998393\" xlink:href=\"#m19eca7f2ed\" y=\"58.09106\"/>\n     <use style=\"fill:#1f77b4;stroke:#1f77b4;\" x=\"175.409671\" xlink:href=\"#m19eca7f2ed\" y=\"45.315677\"/>\n     <use style=\"fill:#1f77b4;stroke:#1f77b4;\" x=\"177.82095\" xlink:href=\"#m19eca7f2ed\" y=\"49.055932\"/>\n     <use style=\"fill:#1f77b4;stroke:#1f77b4;\" x=\"180.232228\" xlink:href=\"#m19eca7f2ed\" y=\"65.635382\"/>\n     <use style=\"fill:#1f77b4;stroke:#1f77b4;\" x=\"182.643507\" xlink:href=\"#m19eca7f2ed\" y=\"58.747327\"/>\n     <use style=\"fill:#1f77b4;stroke:#1f77b4;\" x=\"185.054785\" xlink:href=\"#m19eca7f2ed\" y=\"62.884665\"/>\n     <use style=\"fill:#1f77b4;stroke:#1f77b4;\" x=\"187.466064\" xlink:href=\"#m19eca7f2ed\" y=\"64.073074\"/>\n     <use style=\"fill:#1f77b4;stroke:#1f77b4;\" x=\"189.877343\" xlink:href=\"#m19eca7f2ed\" y=\"54.711239\"/>\n     <use style=\"fill:#1f77b4;stroke:#1f77b4;\" x=\"192.288621\" xlink:href=\"#m19eca7f2ed\" y=\"45.179996\"/>\n     <use style=\"fill:#1f77b4;stroke:#1f77b4;\" x=\"194.6999\" xlink:href=\"#m19eca7f2ed\" y=\"50.857503\"/>\n     <use style=\"fill:#1f77b4;stroke:#1f77b4;\" x=\"197.111178\" xlink:href=\"#m19eca7f2ed\" y=\"39.806488\"/>\n     <use style=\"fill:#1f77b4;stroke:#1f77b4;\" x=\"199.522457\" xlink:href=\"#m19eca7f2ed\" y=\"42.079534\"/>\n     <use style=\"fill:#1f77b4;stroke:#1f77b4;\" x=\"201.933735\" xlink:href=\"#m19eca7f2ed\" y=\"60.535075\"/>\n     <use style=\"fill:#1f77b4;stroke:#1f77b4;\" x=\"204.345014\" xlink:href=\"#m19eca7f2ed\" y=\"53.243904\"/>\n     <use style=\"fill:#1f77b4;stroke:#1f77b4;\" x=\"206.756293\" xlink:href=\"#m19eca7f2ed\" y=\"51.560852\"/>\n     <use style=\"fill:#1f77b4;stroke:#1f77b4;\" x=\"209.167571\" xlink:href=\"#m19eca7f2ed\" y=\"48.263032\"/>\n     <use style=\"fill:#1f77b4;stroke:#1f77b4;\" x=\"211.57885\" xlink:href=\"#m19eca7f2ed\" y=\"54.772697\"/>\n     <use style=\"fill:#1f77b4;stroke:#1f77b4;\" x=\"213.990128\" xlink:href=\"#m19eca7f2ed\" y=\"67.128329\"/>\n     <use style=\"fill:#1f77b4;stroke:#1f77b4;\" x=\"216.401407\" xlink:href=\"#m19eca7f2ed\" y=\"68.883392\"/>\n     <use style=\"fill:#1f77b4;stroke:#1f77b4;\" x=\"218.812685\" xlink:href=\"#m19eca7f2ed\" y=\"47.850788\"/>\n     <use style=\"fill:#1f77b4;stroke:#1f77b4;\" x=\"221.223964\" xlink:href=\"#m19eca7f2ed\" y=\"45.143468\"/>\n     <use style=\"fill:#1f77b4;stroke:#1f77b4;\" x=\"223.635242\" xlink:href=\"#m19eca7f2ed\" y=\"58.348694\"/>\n     <use style=\"fill:#1f77b4;stroke:#1f77b4;\" x=\"226.046521\" xlink:href=\"#m19eca7f2ed\" y=\"65.380101\"/>\n     <use style=\"fill:#1f77b4;stroke:#1f77b4;\" x=\"228.4578\" xlink:href=\"#m19eca7f2ed\" y=\"59.087583\"/>\n     <use style=\"fill:#1f77b4;stroke:#1f77b4;\" x=\"230.869078\" xlink:href=\"#m19eca7f2ed\" y=\"51.625215\"/>\n     <use style=\"fill:#1f77b4;stroke:#1f77b4;\" x=\"233.280357\" xlink:href=\"#m19eca7f2ed\" y=\"62.420577\"/>\n     <use style=\"fill:#1f77b4;stroke:#1f77b4;\" x=\"235.691635\" xlink:href=\"#m19eca7f2ed\" y=\"40.41904\"/>\n     <use style=\"fill:#1f77b4;stroke:#1f77b4;\" x=\"238.102914\" xlink:href=\"#m19eca7f2ed\" y=\"67.011302\"/>\n     <use style=\"fill:#1f77b4;stroke:#1f77b4;\" x=\"240.514192\" xlink:href=\"#m19eca7f2ed\" y=\"66.717483\"/>\n     <use style=\"fill:#1f77b4;stroke:#1f77b4;\" x=\"242.925471\" xlink:href=\"#m19eca7f2ed\" y=\"58.510398\"/>\n     <use style=\"fill:#1f77b4;stroke:#1f77b4;\" x=\"245.33675\" xlink:href=\"#m19eca7f2ed\" y=\"50.994079\"/>\n     <use style=\"fill:#1f77b4;stroke:#1f77b4;\" x=\"247.748028\" xlink:href=\"#m19eca7f2ed\" y=\"66.37189\"/>\n     <use style=\"fill:#1f77b4;stroke:#1f77b4;\" x=\"250.159307\" xlink:href=\"#m19eca7f2ed\" y=\"66.403032\"/>\n     <use style=\"fill:#1f77b4;stroke:#1f77b4;\" x=\"252.570585\" xlink:href=\"#m19eca7f2ed\" y=\"55.490031\"/>\n     <use style=\"fill:#1f77b4;stroke:#1f77b4;\" x=\"254.981864\" xlink:href=\"#m19eca7f2ed\" y=\"51.489449\"/>\n     <use style=\"fill:#1f77b4;stroke:#1f77b4;\" x=\"257.393142\" xlink:href=\"#m19eca7f2ed\" y=\"54.875829\"/>\n     <use style=\"fill:#1f77b4;stroke:#1f77b4;\" x=\"259.804421\" xlink:href=\"#m19eca7f2ed\" y=\"49.030279\"/>\n     <use style=\"fill:#1f77b4;stroke:#1f77b4;\" x=\"262.215699\" xlink:href=\"#m19eca7f2ed\" y=\"66.799181\"/>\n     <use style=\"fill:#1f77b4;stroke:#1f77b4;\" x=\"264.626978\" xlink:href=\"#m19eca7f2ed\" y=\"61.217424\"/>\n     <use style=\"fill:#1f77b4;stroke:#1f77b4;\" x=\"267.038257\" xlink:href=\"#m19eca7f2ed\" y=\"41.261932\"/>\n     <use style=\"fill:#1f77b4;stroke:#1f77b4;\" x=\"269.449535\" xlink:href=\"#m19eca7f2ed\" y=\"59.973943\"/>\n     <use style=\"fill:#1f77b4;stroke:#1f77b4;\" x=\"271.860814\" xlink:href=\"#m19eca7f2ed\" y=\"62.282197\"/>\n     <use style=\"fill:#1f77b4;stroke:#1f77b4;\" x=\"274.272092\" xlink:href=\"#m19eca7f2ed\" y=\"69.024346\"/>\n     <use style=\"fill:#1f77b4;stroke:#1f77b4;\" x=\"276.683371\" xlink:href=\"#m19eca7f2ed\" y=\"53.437184\"/>\n     <use style=\"fill:#1f77b4;stroke:#1f77b4;\" x=\"279.094649\" xlink:href=\"#m19eca7f2ed\" y=\"51.635352\"/>\n     <use style=\"fill:#1f77b4;stroke:#1f77b4;\" x=\"281.505928\" xlink:href=\"#m19eca7f2ed\" y=\"56.357662\"/>\n     <use style=\"fill:#1f77b4;stroke:#1f77b4;\" x=\"283.917206\" xlink:href=\"#m19eca7f2ed\" y=\"56.662143\"/>\n     <use style=\"fill:#1f77b4;stroke:#1f77b4;\" x=\"286.328485\" xlink:href=\"#m19eca7f2ed\" y=\"52.100632\"/>\n     <use style=\"fill:#1f77b4;stroke:#1f77b4;\" x=\"288.739764\" xlink:href=\"#m19eca7f2ed\" y=\"59.554594\"/>\n     <use style=\"fill:#1f77b4;stroke:#1f77b4;\" x=\"291.151042\" xlink:href=\"#m19eca7f2ed\" y=\"62.734358\"/>\n     <use style=\"fill:#1f77b4;stroke:#1f77b4;\" x=\"293.562321\" xlink:href=\"#m19eca7f2ed\" y=\"60.884806\"/>\n     <use style=\"fill:#1f77b4;stroke:#1f77b4;\" x=\"295.973599\" xlink:href=\"#m19eca7f2ed\" y=\"60.73235\"/>\n     <use style=\"fill:#1f77b4;stroke:#1f77b4;\" x=\"298.384878\" xlink:href=\"#m19eca7f2ed\" y=\"59.856597\"/>\n     <use style=\"fill:#1f77b4;stroke:#1f77b4;\" x=\"300.796156\" xlink:href=\"#m19eca7f2ed\" y=\"53.552772\"/>\n    </g>\n   </g>\n   <g id=\"matplotlib.axis_1\">\n    <g id=\"xtick_1\">\n     <g id=\"line2d_1\">\n      <defs>\n       <path d=\"M 0 0 \nL 0 3.5 \n\" id=\"m141c70010a\" style=\"stroke:#000000;stroke-width:0.8;\"/>\n      </defs>\n      <g>\n       <use style=\"stroke:#000000;stroke-width:0.8;\" x=\"59.6683\" xlink:href=\"#m141c70010a\" y=\"294.118125\"/>\n      </g>\n     </g>\n     <g id=\"text_1\">\n      <!-- 0 -->\n      <defs>\n       <path d=\"M 31.78125 66.40625 \nQ 24.171875 66.40625 20.328125 58.90625 \nQ 16.5 51.421875 16.5 36.375 \nQ 16.5 21.390625 20.328125 13.890625 \nQ 24.171875 6.390625 31.78125 6.390625 \nQ 39.453125 6.390625 43.28125 13.890625 \nQ 47.125 21.390625 47.125 36.375 \nQ 47.125 51.421875 43.28125 58.90625 \nQ 39.453125 66.40625 31.78125 66.40625 \nz\nM 31.78125 74.21875 \nQ 44.046875 74.21875 50.515625 64.515625 \nQ 56.984375 54.828125 56.984375 36.375 \nQ 56.984375 17.96875 50.515625 8.265625 \nQ 44.046875 -1.421875 31.78125 -1.421875 \nQ 19.53125 -1.421875 13.0625 8.265625 \nQ 6.59375 17.96875 6.59375 36.375 \nQ 6.59375 54.828125 13.0625 64.515625 \nQ 19.53125 74.21875 31.78125 74.21875 \nz\n\" id=\"DejaVuSans-48\"/>\n      </defs>\n      <g transform=\"translate(56.48705 308.716563)scale(0.1 -0.1)\">\n       <use xlink:href=\"#DejaVuSans-48\"/>\n      </g>\n     </g>\n    </g>\n    <g id=\"xtick_2\">\n     <g id=\"line2d_2\">\n      <g>\n       <use style=\"stroke:#000000;stroke-width:0.8;\" x=\"107.893872\" xlink:href=\"#m141c70010a\" y=\"294.118125\"/>\n      </g>\n     </g>\n     <g id=\"text_2\">\n      <!-- 20 -->\n      <defs>\n       <path d=\"M 19.1875 8.296875 \nL 53.609375 8.296875 \nL 53.609375 0 \nL 7.328125 0 \nL 7.328125 8.296875 \nQ 12.9375 14.109375 22.625 23.890625 \nQ 32.328125 33.6875 34.8125 36.53125 \nQ 39.546875 41.84375 41.421875 45.53125 \nQ 43.3125 49.21875 43.3125 52.78125 \nQ 43.3125 58.59375 39.234375 62.25 \nQ 35.15625 65.921875 28.609375 65.921875 \nQ 23.96875 65.921875 18.8125 64.3125 \nQ 13.671875 62.703125 7.8125 59.421875 \nL 7.8125 69.390625 \nQ 13.765625 71.78125 18.9375 73 \nQ 24.125 74.21875 28.421875 74.21875 \nQ 39.75 74.21875 46.484375 68.546875 \nQ 53.21875 62.890625 53.21875 53.421875 \nQ 53.21875 48.921875 51.53125 44.890625 \nQ 49.859375 40.875 45.40625 35.40625 \nQ 44.1875 33.984375 37.640625 27.21875 \nQ 31.109375 20.453125 19.1875 8.296875 \nz\n\" id=\"DejaVuSans-50\"/>\n      </defs>\n      <g transform=\"translate(101.531372 308.716563)scale(0.1 -0.1)\">\n       <use xlink:href=\"#DejaVuSans-50\"/>\n       <use x=\"63.623047\" xlink:href=\"#DejaVuSans-48\"/>\n      </g>\n     </g>\n    </g>\n    <g id=\"xtick_3\">\n     <g id=\"line2d_3\">\n      <g>\n       <use style=\"stroke:#000000;stroke-width:0.8;\" x=\"156.119443\" xlink:href=\"#m141c70010a\" y=\"294.118125\"/>\n      </g>\n     </g>\n     <g id=\"text_3\">\n      <!-- 40 -->\n      <defs>\n       <path d=\"M 37.796875 64.3125 \nL 12.890625 25.390625 \nL 37.796875 25.390625 \nz\nM 35.203125 72.90625 \nL 47.609375 72.90625 \nL 47.609375 25.390625 \nL 58.015625 25.390625 \nL 58.015625 17.1875 \nL 47.609375 17.1875 \nL 47.609375 0 \nL 37.796875 0 \nL 37.796875 17.1875 \nL 4.890625 17.1875 \nL 4.890625 26.703125 \nz\n\" id=\"DejaVuSans-52\"/>\n      </defs>\n      <g transform=\"translate(149.756943 308.716563)scale(0.1 -0.1)\">\n       <use xlink:href=\"#DejaVuSans-52\"/>\n       <use x=\"63.623047\" xlink:href=\"#DejaVuSans-48\"/>\n      </g>\n     </g>\n    </g>\n    <g id=\"xtick_4\">\n     <g id=\"line2d_4\">\n      <g>\n       <use style=\"stroke:#000000;stroke-width:0.8;\" x=\"204.345014\" xlink:href=\"#m141c70010a\" y=\"294.118125\"/>\n      </g>\n     </g>\n     <g id=\"text_4\">\n      <!-- 60 -->\n      <defs>\n       <path d=\"M 33.015625 40.375 \nQ 26.375 40.375 22.484375 35.828125 \nQ 18.609375 31.296875 18.609375 23.390625 \nQ 18.609375 15.53125 22.484375 10.953125 \nQ 26.375 6.390625 33.015625 6.390625 \nQ 39.65625 6.390625 43.53125 10.953125 \nQ 47.40625 15.53125 47.40625 23.390625 \nQ 47.40625 31.296875 43.53125 35.828125 \nQ 39.65625 40.375 33.015625 40.375 \nz\nM 52.59375 71.296875 \nL 52.59375 62.3125 \nQ 48.875 64.0625 45.09375 64.984375 \nQ 41.3125 65.921875 37.59375 65.921875 \nQ 27.828125 65.921875 22.671875 59.328125 \nQ 17.53125 52.734375 16.796875 39.40625 \nQ 19.671875 43.65625 24.015625 45.921875 \nQ 28.375 48.1875 33.59375 48.1875 \nQ 44.578125 48.1875 50.953125 41.515625 \nQ 57.328125 34.859375 57.328125 23.390625 \nQ 57.328125 12.15625 50.6875 5.359375 \nQ 44.046875 -1.421875 33.015625 -1.421875 \nQ 20.359375 -1.421875 13.671875 8.265625 \nQ 6.984375 17.96875 6.984375 36.375 \nQ 6.984375 53.65625 15.1875 63.9375 \nQ 23.390625 74.21875 37.203125 74.21875 \nQ 40.921875 74.21875 44.703125 73.484375 \nQ 48.484375 72.75 52.59375 71.296875 \nz\n\" id=\"DejaVuSans-54\"/>\n      </defs>\n      <g transform=\"translate(197.982514 308.716563)scale(0.1 -0.1)\">\n       <use xlink:href=\"#DejaVuSans-54\"/>\n       <use x=\"63.623047\" xlink:href=\"#DejaVuSans-48\"/>\n      </g>\n     </g>\n    </g>\n    <g id=\"xtick_5\">\n     <g id=\"line2d_5\">\n      <g>\n       <use style=\"stroke:#000000;stroke-width:0.8;\" x=\"252.570585\" xlink:href=\"#m141c70010a\" y=\"294.118125\"/>\n      </g>\n     </g>\n     <g id=\"text_5\">\n      <!-- 80 -->\n      <defs>\n       <path d=\"M 31.78125 34.625 \nQ 24.75 34.625 20.71875 30.859375 \nQ 16.703125 27.09375 16.703125 20.515625 \nQ 16.703125 13.921875 20.71875 10.15625 \nQ 24.75 6.390625 31.78125 6.390625 \nQ 38.8125 6.390625 42.859375 10.171875 \nQ 46.921875 13.96875 46.921875 20.515625 \nQ 46.921875 27.09375 42.890625 30.859375 \nQ 38.875 34.625 31.78125 34.625 \nz\nM 21.921875 38.8125 \nQ 15.578125 40.375 12.03125 44.71875 \nQ 8.5 49.078125 8.5 55.328125 \nQ 8.5 64.0625 14.71875 69.140625 \nQ 20.953125 74.21875 31.78125 74.21875 \nQ 42.671875 74.21875 48.875 69.140625 \nQ 55.078125 64.0625 55.078125 55.328125 \nQ 55.078125 49.078125 51.53125 44.71875 \nQ 48 40.375 41.703125 38.8125 \nQ 48.828125 37.15625 52.796875 32.3125 \nQ 56.78125 27.484375 56.78125 20.515625 \nQ 56.78125 9.90625 50.3125 4.234375 \nQ 43.84375 -1.421875 31.78125 -1.421875 \nQ 19.734375 -1.421875 13.25 4.234375 \nQ 6.78125 9.90625 6.78125 20.515625 \nQ 6.78125 27.484375 10.78125 32.3125 \nQ 14.796875 37.15625 21.921875 38.8125 \nz\nM 18.3125 54.390625 \nQ 18.3125 48.734375 21.84375 45.5625 \nQ 25.390625 42.390625 31.78125 42.390625 \nQ 38.140625 42.390625 41.71875 45.5625 \nQ 45.3125 48.734375 45.3125 54.390625 \nQ 45.3125 60.0625 41.71875 63.234375 \nQ 38.140625 66.40625 31.78125 66.40625 \nQ 25.390625 66.40625 21.84375 63.234375 \nQ 18.3125 60.0625 18.3125 54.390625 \nz\n\" id=\"DejaVuSans-56\"/>\n      </defs>\n      <g transform=\"translate(246.208085 308.716563)scale(0.1 -0.1)\">\n       <use xlink:href=\"#DejaVuSans-56\"/>\n       <use x=\"63.623047\" xlink:href=\"#DejaVuSans-48\"/>\n      </g>\n     </g>\n    </g>\n    <g id=\"xtick_6\">\n     <g id=\"line2d_6\">\n      <g>\n       <use style=\"stroke:#000000;stroke-width:0.8;\" x=\"300.796156\" xlink:href=\"#m141c70010a\" y=\"294.118125\"/>\n      </g>\n     </g>\n     <g id=\"text_6\">\n      <!-- 100 -->\n      <defs>\n       <path d=\"M 12.40625 8.296875 \nL 28.515625 8.296875 \nL 28.515625 63.921875 \nL 10.984375 60.40625 \nL 10.984375 69.390625 \nL 28.421875 72.90625 \nL 38.28125 72.90625 \nL 38.28125 8.296875 \nL 54.390625 8.296875 \nL 54.390625 0 \nL 12.40625 0 \nz\n\" id=\"DejaVuSans-49\"/>\n      </defs>\n      <g transform=\"translate(291.252406 308.716563)scale(0.1 -0.1)\">\n       <use xlink:href=\"#DejaVuSans-49\"/>\n       <use x=\"63.623047\" xlink:href=\"#DejaVuSans-48\"/>\n       <use x=\"127.246094\" xlink:href=\"#DejaVuSans-48\"/>\n      </g>\n     </g>\n    </g>\n    <g id=\"text_7\">\n     <!-- Sample # -->\n     <defs>\n      <path d=\"M 53.515625 70.515625 \nL 53.515625 60.890625 \nQ 47.90625 63.578125 42.921875 64.890625 \nQ 37.9375 66.21875 33.296875 66.21875 \nQ 25.25 66.21875 20.875 63.09375 \nQ 16.5 59.96875 16.5 54.203125 \nQ 16.5 49.359375 19.40625 46.890625 \nQ 22.3125 44.4375 30.421875 42.921875 \nL 36.375 41.703125 \nQ 47.40625 39.59375 52.65625 34.296875 \nQ 57.90625 29 57.90625 20.125 \nQ 57.90625 9.515625 50.796875 4.046875 \nQ 43.703125 -1.421875 29.984375 -1.421875 \nQ 24.8125 -1.421875 18.96875 -0.25 \nQ 13.140625 0.921875 6.890625 3.21875 \nL 6.890625 13.375 \nQ 12.890625 10.015625 18.65625 8.296875 \nQ 24.421875 6.59375 29.984375 6.59375 \nQ 38.421875 6.59375 43.015625 9.90625 \nQ 47.609375 13.234375 47.609375 19.390625 \nQ 47.609375 24.75 44.3125 27.78125 \nQ 41.015625 30.8125 33.5 32.328125 \nL 27.484375 33.5 \nQ 16.453125 35.6875 11.515625 40.375 \nQ 6.59375 45.0625 6.59375 53.421875 \nQ 6.59375 63.09375 13.40625 68.65625 \nQ 20.21875 74.21875 32.171875 74.21875 \nQ 37.3125 74.21875 42.625 73.28125 \nQ 47.953125 72.359375 53.515625 70.515625 \nz\n\" id=\"DejaVuSans-83\"/>\n      <path d=\"M 34.28125 27.484375 \nQ 23.390625 27.484375 19.1875 25 \nQ 14.984375 22.515625 14.984375 16.5 \nQ 14.984375 11.71875 18.140625 8.90625 \nQ 21.296875 6.109375 26.703125 6.109375 \nQ 34.1875 6.109375 38.703125 11.40625 \nQ 43.21875 16.703125 43.21875 25.484375 \nL 43.21875 27.484375 \nz\nM 52.203125 31.203125 \nL 52.203125 0 \nL 43.21875 0 \nL 43.21875 8.296875 \nQ 40.140625 3.328125 35.546875 0.953125 \nQ 30.953125 -1.421875 24.3125 -1.421875 \nQ 15.921875 -1.421875 10.953125 3.296875 \nQ 6 8.015625 6 15.921875 \nQ 6 25.140625 12.171875 29.828125 \nQ 18.359375 34.515625 30.609375 34.515625 \nL 43.21875 34.515625 \nL 43.21875 35.40625 \nQ 43.21875 41.609375 39.140625 45 \nQ 35.0625 48.390625 27.6875 48.390625 \nQ 23 48.390625 18.546875 47.265625 \nQ 14.109375 46.140625 10.015625 43.890625 \nL 10.015625 52.203125 \nQ 14.9375 54.109375 19.578125 55.046875 \nQ 24.21875 56 28.609375 56 \nQ 40.484375 56 46.34375 49.84375 \nQ 52.203125 43.703125 52.203125 31.203125 \nz\n\" id=\"DejaVuSans-97\"/>\n      <path d=\"M 52 44.1875 \nQ 55.375 50.25 60.0625 53.125 \nQ 64.75 56 71.09375 56 \nQ 79.640625 56 84.28125 50.015625 \nQ 88.921875 44.046875 88.921875 33.015625 \nL 88.921875 0 \nL 79.890625 0 \nL 79.890625 32.71875 \nQ 79.890625 40.578125 77.09375 44.375 \nQ 74.3125 48.1875 68.609375 48.1875 \nQ 61.625 48.1875 57.5625 43.546875 \nQ 53.515625 38.921875 53.515625 30.90625 \nL 53.515625 0 \nL 44.484375 0 \nL 44.484375 32.71875 \nQ 44.484375 40.625 41.703125 44.40625 \nQ 38.921875 48.1875 33.109375 48.1875 \nQ 26.21875 48.1875 22.15625 43.53125 \nQ 18.109375 38.875 18.109375 30.90625 \nL 18.109375 0 \nL 9.078125 0 \nL 9.078125 54.6875 \nL 18.109375 54.6875 \nL 18.109375 46.1875 \nQ 21.1875 51.21875 25.484375 53.609375 \nQ 29.78125 56 35.6875 56 \nQ 41.65625 56 45.828125 52.96875 \nQ 50 49.953125 52 44.1875 \nz\n\" id=\"DejaVuSans-109\"/>\n      <path d=\"M 18.109375 8.203125 \nL 18.109375 -20.796875 \nL 9.078125 -20.796875 \nL 9.078125 54.6875 \nL 18.109375 54.6875 \nL 18.109375 46.390625 \nQ 20.953125 51.265625 25.265625 53.625 \nQ 29.59375 56 35.59375 56 \nQ 45.5625 56 51.78125 48.09375 \nQ 58.015625 40.1875 58.015625 27.296875 \nQ 58.015625 14.40625 51.78125 6.484375 \nQ 45.5625 -1.421875 35.59375 -1.421875 \nQ 29.59375 -1.421875 25.265625 0.953125 \nQ 20.953125 3.328125 18.109375 8.203125 \nz\nM 48.6875 27.296875 \nQ 48.6875 37.203125 44.609375 42.84375 \nQ 40.53125 48.484375 33.40625 48.484375 \nQ 26.265625 48.484375 22.1875 42.84375 \nQ 18.109375 37.203125 18.109375 27.296875 \nQ 18.109375 17.390625 22.1875 11.75 \nQ 26.265625 6.109375 33.40625 6.109375 \nQ 40.53125 6.109375 44.609375 11.75 \nQ 48.6875 17.390625 48.6875 27.296875 \nz\n\" id=\"DejaVuSans-112\"/>\n      <path d=\"M 9.421875 75.984375 \nL 18.40625 75.984375 \nL 18.40625 0 \nL 9.421875 0 \nz\n\" id=\"DejaVuSans-108\"/>\n      <path d=\"M 56.203125 29.59375 \nL 56.203125 25.203125 \nL 14.890625 25.203125 \nQ 15.484375 15.921875 20.484375 11.0625 \nQ 25.484375 6.203125 34.421875 6.203125 \nQ 39.59375 6.203125 44.453125 7.46875 \nQ 49.3125 8.734375 54.109375 11.28125 \nL 54.109375 2.78125 \nQ 49.265625 0.734375 44.1875 -0.34375 \nQ 39.109375 -1.421875 33.890625 -1.421875 \nQ 20.796875 -1.421875 13.15625 6.1875 \nQ 5.515625 13.8125 5.515625 26.8125 \nQ 5.515625 40.234375 12.765625 48.109375 \nQ 20.015625 56 32.328125 56 \nQ 43.359375 56 49.78125 48.890625 \nQ 56.203125 41.796875 56.203125 29.59375 \nz\nM 47.21875 32.234375 \nQ 47.125 39.59375 43.09375 43.984375 \nQ 39.0625 48.390625 32.421875 48.390625 \nQ 24.90625 48.390625 20.390625 44.140625 \nQ 15.875 39.890625 15.1875 32.171875 \nz\n\" id=\"DejaVuSans-101\"/>\n      <path id=\"DejaVuSans-32\"/>\n      <path d=\"M 51.125 44 \nL 36.921875 44 \nL 32.8125 27.6875 \nL 47.125 27.6875 \nz\nM 43.796875 71.78125 \nL 38.71875 51.515625 \nL 52.984375 51.515625 \nL 58.109375 71.78125 \nL 65.921875 71.78125 \nL 60.890625 51.515625 \nL 76.125 51.515625 \nL 76.125 44 \nL 58.984375 44 \nL 54.984375 27.6875 \nL 70.515625 27.6875 \nL 70.515625 20.21875 \nL 53.078125 20.21875 \nL 48 0 \nL 40.1875 0 \nL 45.21875 20.21875 \nL 30.90625 20.21875 \nL 25.875 0 \nL 18.015625 0 \nL 23.09375 20.21875 \nL 7.71875 20.21875 \nL 7.71875 27.6875 \nL 24.90625 27.6875 \nL 29 44 \nL 13.28125 44 \nL 13.28125 51.515625 \nL 30.90625 51.515625 \nL 35.890625 71.78125 \nz\n\" id=\"DejaVuSans-35\"/>\n     </defs>\n     <g transform=\"translate(156.910524 322.394687)scale(0.1 -0.1)\">\n      <use xlink:href=\"#DejaVuSans-83\"/>\n      <use x=\"63.476562\" xlink:href=\"#DejaVuSans-97\"/>\n      <use x=\"124.755859\" xlink:href=\"#DejaVuSans-109\"/>\n      <use x=\"222.167969\" xlink:href=\"#DejaVuSans-112\"/>\n      <use x=\"285.644531\" xlink:href=\"#DejaVuSans-108\"/>\n      <use x=\"313.427734\" xlink:href=\"#DejaVuSans-101\"/>\n      <use x=\"374.951172\" xlink:href=\"#DejaVuSans-32\"/>\n      <use x=\"406.738281\" xlink:href=\"#DejaVuSans-35\"/>\n     </g>\n    </g>\n   </g>\n   <g id=\"matplotlib.axis_2\">\n    <g id=\"ytick_1\">\n     <g id=\"line2d_7\">\n      <defs>\n       <path d=\"M 0 0 \nL -3.5 0 \n\" id=\"me51b785b83\" style=\"stroke:#000000;stroke-width:0.8;\"/>\n      </defs>\n      <g>\n       <use style=\"stroke:#000000;stroke-width:0.8;\" x=\"50.14375\" xlink:href=\"#me51b785b83\" y=\"294.118125\"/>\n      </g>\n     </g>\n     <g id=\"text_8\">\n      <!-- 0.04 -->\n      <defs>\n       <path d=\"M 10.6875 12.40625 \nL 21 12.40625 \nL 21 0 \nL 10.6875 0 \nz\n\" id=\"DejaVuSans-46\"/>\n      </defs>\n      <g transform=\"translate(20.878125 297.917344)scale(0.1 -0.1)\">\n       <use xlink:href=\"#DejaVuSans-48\"/>\n       <use x=\"63.623047\" xlink:href=\"#DejaVuSans-46\"/>\n       <use x=\"95.410156\" xlink:href=\"#DejaVuSans-48\"/>\n       <use x=\"159.033203\" xlink:href=\"#DejaVuSans-52\"/>\n      </g>\n     </g>\n    </g>\n    <g id=\"ytick_2\">\n     <g id=\"line2d_8\">\n      <g>\n       <use style=\"stroke:#000000;stroke-width:0.8;\" x=\"50.14375\" xlink:href=\"#me51b785b83\" y=\"239.758125\"/>\n      </g>\n     </g>\n     <g id=\"text_9\">\n      <!-- 0.05 -->\n      <defs>\n       <path d=\"M 10.796875 72.90625 \nL 49.515625 72.90625 \nL 49.515625 64.59375 \nL 19.828125 64.59375 \nL 19.828125 46.734375 \nQ 21.96875 47.46875 24.109375 47.828125 \nQ 26.265625 48.1875 28.421875 48.1875 \nQ 40.625 48.1875 47.75 41.5 \nQ 54.890625 34.8125 54.890625 23.390625 \nQ 54.890625 11.625 47.5625 5.09375 \nQ 40.234375 -1.421875 26.90625 -1.421875 \nQ 22.3125 -1.421875 17.546875 -0.640625 \nQ 12.796875 0.140625 7.71875 1.703125 \nL 7.71875 11.625 \nQ 12.109375 9.234375 16.796875 8.0625 \nQ 21.484375 6.890625 26.703125 6.890625 \nQ 35.15625 6.890625 40.078125 11.328125 \nQ 45.015625 15.765625 45.015625 23.390625 \nQ 45.015625 31 40.078125 35.4375 \nQ 35.15625 39.890625 26.703125 39.890625 \nQ 22.75 39.890625 18.8125 39.015625 \nQ 14.890625 38.140625 10.796875 36.28125 \nz\n\" id=\"DejaVuSans-53\"/>\n      </defs>\n      <g transform=\"translate(20.878125 243.557344)scale(0.1 -0.1)\">\n       <use xlink:href=\"#DejaVuSans-48\"/>\n       <use x=\"63.623047\" xlink:href=\"#DejaVuSans-46\"/>\n       <use x=\"95.410156\" xlink:href=\"#DejaVuSans-48\"/>\n       <use x=\"159.033203\" xlink:href=\"#DejaVuSans-53\"/>\n      </g>\n     </g>\n    </g>\n    <g id=\"ytick_3\">\n     <g id=\"line2d_9\">\n      <g>\n       <use style=\"stroke:#000000;stroke-width:0.8;\" x=\"50.14375\" xlink:href=\"#me51b785b83\" y=\"185.398125\"/>\n      </g>\n     </g>\n     <g id=\"text_10\">\n      <!-- 0.06 -->\n      <g transform=\"translate(20.878125 189.197344)scale(0.1 -0.1)\">\n       <use xlink:href=\"#DejaVuSans-48\"/>\n       <use x=\"63.623047\" xlink:href=\"#DejaVuSans-46\"/>\n       <use x=\"95.410156\" xlink:href=\"#DejaVuSans-48\"/>\n       <use x=\"159.033203\" xlink:href=\"#DejaVuSans-54\"/>\n      </g>\n     </g>\n    </g>\n    <g id=\"ytick_4\">\n     <g id=\"line2d_10\">\n      <g>\n       <use style=\"stroke:#000000;stroke-width:0.8;\" x=\"50.14375\" xlink:href=\"#me51b785b83\" y=\"131.038125\"/>\n      </g>\n     </g>\n     <g id=\"text_11\">\n      <!-- 0.07 -->\n      <defs>\n       <path d=\"M 8.203125 72.90625 \nL 55.078125 72.90625 \nL 55.078125 68.703125 \nL 28.609375 0 \nL 18.3125 0 \nL 43.21875 64.59375 \nL 8.203125 64.59375 \nz\n\" id=\"DejaVuSans-55\"/>\n      </defs>\n      <g transform=\"translate(20.878125 134.837344)scale(0.1 -0.1)\">\n       <use xlink:href=\"#DejaVuSans-48\"/>\n       <use x=\"63.623047\" xlink:href=\"#DejaVuSans-46\"/>\n       <use x=\"95.410156\" xlink:href=\"#DejaVuSans-48\"/>\n       <use x=\"159.033203\" xlink:href=\"#DejaVuSans-55\"/>\n      </g>\n     </g>\n    </g>\n    <g id=\"ytick_5\">\n     <g id=\"line2d_11\">\n      <g>\n       <use style=\"stroke:#000000;stroke-width:0.8;\" x=\"50.14375\" xlink:href=\"#me51b785b83\" y=\"76.678125\"/>\n      </g>\n     </g>\n     <g id=\"text_12\">\n      <!-- 0.08 -->\n      <g transform=\"translate(20.878125 80.477344)scale(0.1 -0.1)\">\n       <use xlink:href=\"#DejaVuSans-48\"/>\n       <use x=\"63.623047\" xlink:href=\"#DejaVuSans-46\"/>\n       <use x=\"95.410156\" xlink:href=\"#DejaVuSans-48\"/>\n       <use x=\"159.033203\" xlink:href=\"#DejaVuSans-56\"/>\n      </g>\n     </g>\n    </g>\n    <g id=\"ytick_6\">\n     <g id=\"line2d_12\">\n      <g>\n       <use style=\"stroke:#000000;stroke-width:0.8;\" x=\"50.14375\" xlink:href=\"#me51b785b83\" y=\"22.318125\"/>\n      </g>\n     </g>\n     <g id=\"text_13\">\n      <!-- 0.09 -->\n      <defs>\n       <path d=\"M 10.984375 1.515625 \nL 10.984375 10.5 \nQ 14.703125 8.734375 18.5 7.8125 \nQ 22.3125 6.890625 25.984375 6.890625 \nQ 35.75 6.890625 40.890625 13.453125 \nQ 46.046875 20.015625 46.78125 33.40625 \nQ 43.953125 29.203125 39.59375 26.953125 \nQ 35.25 24.703125 29.984375 24.703125 \nQ 19.046875 24.703125 12.671875 31.3125 \nQ 6.296875 37.9375 6.296875 49.421875 \nQ 6.296875 60.640625 12.9375 67.421875 \nQ 19.578125 74.21875 30.609375 74.21875 \nQ 43.265625 74.21875 49.921875 64.515625 \nQ 56.59375 54.828125 56.59375 36.375 \nQ 56.59375 19.140625 48.40625 8.859375 \nQ 40.234375 -1.421875 26.421875 -1.421875 \nQ 22.703125 -1.421875 18.890625 -0.6875 \nQ 15.09375 0.046875 10.984375 1.515625 \nz\nM 30.609375 32.421875 \nQ 37.25 32.421875 41.125 36.953125 \nQ 45.015625 41.5 45.015625 49.421875 \nQ 45.015625 57.28125 41.125 61.84375 \nQ 37.25 66.40625 30.609375 66.40625 \nQ 23.96875 66.40625 20.09375 61.84375 \nQ 16.21875 57.28125 16.21875 49.421875 \nQ 16.21875 41.5 20.09375 36.953125 \nQ 23.96875 32.421875 30.609375 32.421875 \nz\n\" id=\"DejaVuSans-57\"/>\n      </defs>\n      <g transform=\"translate(20.878125 26.117344)scale(0.1 -0.1)\">\n       <use xlink:href=\"#DejaVuSans-48\"/>\n       <use x=\"63.623047\" xlink:href=\"#DejaVuSans-46\"/>\n       <use x=\"95.410156\" xlink:href=\"#DejaVuSans-48\"/>\n       <use x=\"159.033203\" xlink:href=\"#DejaVuSans-57\"/>\n      </g>\n     </g>\n    </g>\n    <g id=\"text_14\">\n     <!-- Variance of Sampling Mean -->\n     <defs>\n      <path d=\"M 28.609375 0 \nL 0.78125 72.90625 \nL 11.078125 72.90625 \nL 34.1875 11.53125 \nL 57.328125 72.90625 \nL 67.578125 72.90625 \nL 39.796875 0 \nz\n\" id=\"DejaVuSans-86\"/>\n      <path d=\"M 41.109375 46.296875 \nQ 39.59375 47.171875 37.8125 47.578125 \nQ 36.03125 48 33.890625 48 \nQ 26.265625 48 22.1875 43.046875 \nQ 18.109375 38.09375 18.109375 28.8125 \nL 18.109375 0 \nL 9.078125 0 \nL 9.078125 54.6875 \nL 18.109375 54.6875 \nL 18.109375 46.1875 \nQ 20.953125 51.171875 25.484375 53.578125 \nQ 30.03125 56 36.53125 56 \nQ 37.453125 56 38.578125 55.875 \nQ 39.703125 55.765625 41.0625 55.515625 \nz\n\" id=\"DejaVuSans-114\"/>\n      <path d=\"M 9.421875 54.6875 \nL 18.40625 54.6875 \nL 18.40625 0 \nL 9.421875 0 \nz\nM 9.421875 75.984375 \nL 18.40625 75.984375 \nL 18.40625 64.59375 \nL 9.421875 64.59375 \nz\n\" id=\"DejaVuSans-105\"/>\n      <path d=\"M 54.890625 33.015625 \nL 54.890625 0 \nL 45.90625 0 \nL 45.90625 32.71875 \nQ 45.90625 40.484375 42.875 44.328125 \nQ 39.84375 48.1875 33.796875 48.1875 \nQ 26.515625 48.1875 22.3125 43.546875 \nQ 18.109375 38.921875 18.109375 30.90625 \nL 18.109375 0 \nL 9.078125 0 \nL 9.078125 54.6875 \nL 18.109375 54.6875 \nL 18.109375 46.1875 \nQ 21.34375 51.125 25.703125 53.5625 \nQ 30.078125 56 35.796875 56 \nQ 45.21875 56 50.046875 50.171875 \nQ 54.890625 44.34375 54.890625 33.015625 \nz\n\" id=\"DejaVuSans-110\"/>\n      <path d=\"M 48.78125 52.59375 \nL 48.78125 44.1875 \nQ 44.96875 46.296875 41.140625 47.34375 \nQ 37.3125 48.390625 33.40625 48.390625 \nQ 24.65625 48.390625 19.8125 42.84375 \nQ 14.984375 37.3125 14.984375 27.296875 \nQ 14.984375 17.28125 19.8125 11.734375 \nQ 24.65625 6.203125 33.40625 6.203125 \nQ 37.3125 6.203125 41.140625 7.25 \nQ 44.96875 8.296875 48.78125 10.40625 \nL 48.78125 2.09375 \nQ 45.015625 0.34375 40.984375 -0.53125 \nQ 36.96875 -1.421875 32.421875 -1.421875 \nQ 20.0625 -1.421875 12.78125 6.34375 \nQ 5.515625 14.109375 5.515625 27.296875 \nQ 5.515625 40.671875 12.859375 48.328125 \nQ 20.21875 56 33.015625 56 \nQ 37.15625 56 41.109375 55.140625 \nQ 45.0625 54.296875 48.78125 52.59375 \nz\n\" id=\"DejaVuSans-99\"/>\n      <path d=\"M 30.609375 48.390625 \nQ 23.390625 48.390625 19.1875 42.75 \nQ 14.984375 37.109375 14.984375 27.296875 \nQ 14.984375 17.484375 19.15625 11.84375 \nQ 23.34375 6.203125 30.609375 6.203125 \nQ 37.796875 6.203125 41.984375 11.859375 \nQ 46.1875 17.53125 46.1875 27.296875 \nQ 46.1875 37.015625 41.984375 42.703125 \nQ 37.796875 48.390625 30.609375 48.390625 \nz\nM 30.609375 56 \nQ 42.328125 56 49.015625 48.375 \nQ 55.71875 40.765625 55.71875 27.296875 \nQ 55.71875 13.875 49.015625 6.21875 \nQ 42.328125 -1.421875 30.609375 -1.421875 \nQ 18.84375 -1.421875 12.171875 6.21875 \nQ 5.515625 13.875 5.515625 27.296875 \nQ 5.515625 40.765625 12.171875 48.375 \nQ 18.84375 56 30.609375 56 \nz\n\" id=\"DejaVuSans-111\"/>\n      <path d=\"M 37.109375 75.984375 \nL 37.109375 68.5 \nL 28.515625 68.5 \nQ 23.6875 68.5 21.796875 66.546875 \nQ 19.921875 64.59375 19.921875 59.515625 \nL 19.921875 54.6875 \nL 34.71875 54.6875 \nL 34.71875 47.703125 \nL 19.921875 47.703125 \nL 19.921875 0 \nL 10.890625 0 \nL 10.890625 47.703125 \nL 2.296875 47.703125 \nL 2.296875 54.6875 \nL 10.890625 54.6875 \nL 10.890625 58.5 \nQ 10.890625 67.625 15.140625 71.796875 \nQ 19.390625 75.984375 28.609375 75.984375 \nz\n\" id=\"DejaVuSans-102\"/>\n      <path d=\"M 45.40625 27.984375 \nQ 45.40625 37.75 41.375 43.109375 \nQ 37.359375 48.484375 30.078125 48.484375 \nQ 22.859375 48.484375 18.828125 43.109375 \nQ 14.796875 37.75 14.796875 27.984375 \nQ 14.796875 18.265625 18.828125 12.890625 \nQ 22.859375 7.515625 30.078125 7.515625 \nQ 37.359375 7.515625 41.375 12.890625 \nQ 45.40625 18.265625 45.40625 27.984375 \nz\nM 54.390625 6.78125 \nQ 54.390625 -7.171875 48.1875 -13.984375 \nQ 42 -20.796875 29.203125 -20.796875 \nQ 24.46875 -20.796875 20.265625 -20.09375 \nQ 16.0625 -19.390625 12.109375 -17.921875 \nL 12.109375 -9.1875 \nQ 16.0625 -11.328125 19.921875 -12.34375 \nQ 23.78125 -13.375 27.78125 -13.375 \nQ 36.625 -13.375 41.015625 -8.765625 \nQ 45.40625 -4.15625 45.40625 5.171875 \nL 45.40625 9.625 \nQ 42.625 4.78125 38.28125 2.390625 \nQ 33.9375 0 27.875 0 \nQ 17.828125 0 11.671875 7.65625 \nQ 5.515625 15.328125 5.515625 27.984375 \nQ 5.515625 40.671875 11.671875 48.328125 \nQ 17.828125 56 27.875 56 \nQ 33.9375 56 38.28125 53.609375 \nQ 42.625 51.21875 45.40625 46.390625 \nL 45.40625 54.6875 \nL 54.390625 54.6875 \nz\n\" id=\"DejaVuSans-103\"/>\n      <path d=\"M 9.8125 72.90625 \nL 24.515625 72.90625 \nL 43.109375 23.296875 \nL 61.8125 72.90625 \nL 76.515625 72.90625 \nL 76.515625 0 \nL 66.890625 0 \nL 66.890625 64.015625 \nL 48.09375 14.015625 \nL 38.1875 14.015625 \nL 19.390625 64.015625 \nL 19.390625 0 \nL 9.8125 0 \nz\n\" id=\"DejaVuSans-77\"/>\n     </defs>\n     <g transform=\"translate(14.798438 226.432187)rotate(-90)scale(0.1 -0.1)\">\n      <use xlink:href=\"#DejaVuSans-86\"/>\n      <use x=\"60.658203\" xlink:href=\"#DejaVuSans-97\"/>\n      <use x=\"121.9375\" xlink:href=\"#DejaVuSans-114\"/>\n      <use x=\"163.050781\" xlink:href=\"#DejaVuSans-105\"/>\n      <use x=\"190.833984\" xlink:href=\"#DejaVuSans-97\"/>\n      <use x=\"252.113281\" xlink:href=\"#DejaVuSans-110\"/>\n      <use x=\"315.492188\" xlink:href=\"#DejaVuSans-99\"/>\n      <use x=\"370.472656\" xlink:href=\"#DejaVuSans-101\"/>\n      <use x=\"431.996094\" xlink:href=\"#DejaVuSans-32\"/>\n      <use x=\"463.783203\" xlink:href=\"#DejaVuSans-111\"/>\n      <use x=\"524.964844\" xlink:href=\"#DejaVuSans-102\"/>\n      <use x=\"560.169922\" xlink:href=\"#DejaVuSans-32\"/>\n      <use x=\"591.957031\" xlink:href=\"#DejaVuSans-83\"/>\n      <use x=\"655.433594\" xlink:href=\"#DejaVuSans-97\"/>\n      <use x=\"716.712891\" xlink:href=\"#DejaVuSans-109\"/>\n      <use x=\"814.125\" xlink:href=\"#DejaVuSans-112\"/>\n      <use x=\"877.601562\" xlink:href=\"#DejaVuSans-108\"/>\n      <use x=\"905.384766\" xlink:href=\"#DejaVuSans-105\"/>\n      <use x=\"933.167969\" xlink:href=\"#DejaVuSans-110\"/>\n      <use x=\"996.546875\" xlink:href=\"#DejaVuSans-103\"/>\n      <use x=\"1060.023438\" xlink:href=\"#DejaVuSans-32\"/>\n      <use x=\"1091.810547\" xlink:href=\"#DejaVuSans-77\"/>\n      <use x=\"1178.089844\" xlink:href=\"#DejaVuSans-101\"/>\n      <use x=\"1239.613281\" xlink:href=\"#DejaVuSans-97\"/>\n      <use x=\"1300.892578\" xlink:href=\"#DejaVuSans-110\"/>\n     </g>\n    </g>\n   </g>\n   <g id=\"line2d_13\">\n    <path clip-path=\"url(#p024db48948)\" d=\"M 50.14375 55.907129 \nL 312.731985 55.907129 \n\" style=\"fill:none;stroke:#1f77b4;stroke-linecap:square;stroke-width:1.5;\"/>\n   </g>\n   <g id=\"line2d_14\">\n    <path clip-path=\"url(#p024db48948)\" d=\"M 50.14375 166.252886 \nL 312.731985 166.252886 \n\" style=\"fill:none;stroke:#ff0000;stroke-linecap:square;stroke-width:1.5;\"/>\n   </g>\n   <g id=\"patch_3\">\n    <path d=\"M 50.14375 294.118125 \nL 50.14375 22.318125 \n\" style=\"fill:none;stroke:#000000;stroke-linecap:square;stroke-linejoin:miter;stroke-width:0.8;\"/>\n   </g>\n   <g id=\"patch_4\">\n    <path d=\"M 312.731985 294.118125 \nL 312.731985 22.318125 \n\" style=\"fill:none;stroke:#000000;stroke-linecap:square;stroke-linejoin:miter;stroke-width:0.8;\"/>\n   </g>\n   <g id=\"patch_5\">\n    <path d=\"M 50.14375 294.118125 \nL 312.731985 294.118125 \n\" style=\"fill:none;stroke:#000000;stroke-linecap:square;stroke-linejoin:miter;stroke-width:0.8;\"/>\n   </g>\n   <g id=\"patch_6\">\n    <path d=\"M 50.14375 22.318125 \nL 312.731985 22.318125 \n\" style=\"fill:none;stroke:#000000;stroke-linecap:square;stroke-linejoin:miter;stroke-width:0.8;\"/>\n   </g>\n   <g id=\"text_15\">\n    <!-- SRS (without replacement) -->\n    <defs>\n     <path d=\"M 44.390625 34.1875 \nQ 47.5625 33.109375 50.5625 29.59375 \nQ 53.5625 26.078125 56.59375 19.921875 \nL 66.609375 0 \nL 56 0 \nL 46.6875 18.703125 \nQ 43.0625 26.03125 39.671875 28.421875 \nQ 36.28125 30.8125 30.421875 30.8125 \nL 19.671875 30.8125 \nL 19.671875 0 \nL 9.8125 0 \nL 9.8125 72.90625 \nL 32.078125 72.90625 \nQ 44.578125 72.90625 50.734375 67.671875 \nQ 56.890625 62.453125 56.890625 51.90625 \nQ 56.890625 45.015625 53.6875 40.46875 \nQ 50.484375 35.9375 44.390625 34.1875 \nz\nM 19.671875 64.796875 \nL 19.671875 38.921875 \nL 32.078125 38.921875 \nQ 39.203125 38.921875 42.84375 42.21875 \nQ 46.484375 45.515625 46.484375 51.90625 \nQ 46.484375 58.296875 42.84375 61.546875 \nQ 39.203125 64.796875 32.078125 64.796875 \nz\n\" id=\"DejaVuSans-82\"/>\n     <path d=\"M 31 75.875 \nQ 24.46875 64.65625 21.28125 53.65625 \nQ 18.109375 42.671875 18.109375 31.390625 \nQ 18.109375 20.125 21.3125 9.0625 \nQ 24.515625 -2 31 -13.1875 \nL 23.1875 -13.1875 \nQ 15.875 -1.703125 12.234375 9.375 \nQ 8.59375 20.453125 8.59375 31.390625 \nQ 8.59375 42.28125 12.203125 53.3125 \nQ 15.828125 64.359375 23.1875 75.875 \nz\n\" id=\"DejaVuSans-40\"/>\n     <path d=\"M 4.203125 54.6875 \nL 13.1875 54.6875 \nL 24.421875 12.015625 \nL 35.59375 54.6875 \nL 46.1875 54.6875 \nL 57.421875 12.015625 \nL 68.609375 54.6875 \nL 77.59375 54.6875 \nL 63.28125 0 \nL 52.6875 0 \nL 40.921875 44.828125 \nL 29.109375 0 \nL 18.5 0 \nz\n\" id=\"DejaVuSans-119\"/>\n     <path d=\"M 18.3125 70.21875 \nL 18.3125 54.6875 \nL 36.8125 54.6875 \nL 36.8125 47.703125 \nL 18.3125 47.703125 \nL 18.3125 18.015625 \nQ 18.3125 11.328125 20.140625 9.421875 \nQ 21.96875 7.515625 27.59375 7.515625 \nL 36.8125 7.515625 \nL 36.8125 0 \nL 27.59375 0 \nQ 17.1875 0 13.234375 3.875 \nQ 9.28125 7.765625 9.28125 18.015625 \nL 9.28125 47.703125 \nL 2.6875 47.703125 \nL 2.6875 54.6875 \nL 9.28125 54.6875 \nL 9.28125 70.21875 \nz\n\" id=\"DejaVuSans-116\"/>\n     <path d=\"M 54.890625 33.015625 \nL 54.890625 0 \nL 45.90625 0 \nL 45.90625 32.71875 \nQ 45.90625 40.484375 42.875 44.328125 \nQ 39.84375 48.1875 33.796875 48.1875 \nQ 26.515625 48.1875 22.3125 43.546875 \nQ 18.109375 38.921875 18.109375 30.90625 \nL 18.109375 0 \nL 9.078125 0 \nL 9.078125 75.984375 \nL 18.109375 75.984375 \nL 18.109375 46.1875 \nQ 21.34375 51.125 25.703125 53.5625 \nQ 30.078125 56 35.796875 56 \nQ 45.21875 56 50.046875 50.171875 \nQ 54.890625 44.34375 54.890625 33.015625 \nz\n\" id=\"DejaVuSans-104\"/>\n     <path d=\"M 8.5 21.578125 \nL 8.5 54.6875 \nL 17.484375 54.6875 \nL 17.484375 21.921875 \nQ 17.484375 14.15625 20.5 10.265625 \nQ 23.53125 6.390625 29.59375 6.390625 \nQ 36.859375 6.390625 41.078125 11.03125 \nQ 45.3125 15.671875 45.3125 23.6875 \nL 45.3125 54.6875 \nL 54.296875 54.6875 \nL 54.296875 0 \nL 45.3125 0 \nL 45.3125 8.40625 \nQ 42.046875 3.421875 37.71875 1 \nQ 33.40625 -1.421875 27.6875 -1.421875 \nQ 18.265625 -1.421875 13.375 4.4375 \nQ 8.5 10.296875 8.5 21.578125 \nz\nM 31.109375 56 \nz\n\" id=\"DejaVuSans-117\"/>\n     <path d=\"M 8.015625 75.875 \nL 15.828125 75.875 \nQ 23.140625 64.359375 26.78125 53.3125 \nQ 30.421875 42.28125 30.421875 31.390625 \nQ 30.421875 20.453125 26.78125 9.375 \nQ 23.140625 -1.703125 15.828125 -13.1875 \nL 8.015625 -13.1875 \nQ 14.5 -2 17.703125 9.0625 \nQ 20.90625 20.125 20.90625 31.390625 \nQ 20.90625 42.671875 17.703125 53.65625 \nQ 14.5 64.65625 8.015625 75.875 \nz\n\" id=\"DejaVuSans-41\"/>\n    </defs>\n    <g transform=\"translate(100.742555 16.318125)scale(0.12 -0.12)\">\n     <use xlink:href=\"#DejaVuSans-83\"/>\n     <use x=\"63.476562\" xlink:href=\"#DejaVuSans-82\"/>\n     <use x=\"132.958984\" xlink:href=\"#DejaVuSans-83\"/>\n     <use x=\"196.435547\" xlink:href=\"#DejaVuSans-32\"/>\n     <use x=\"228.222656\" xlink:href=\"#DejaVuSans-40\"/>\n     <use x=\"267.236328\" xlink:href=\"#DejaVuSans-119\"/>\n     <use x=\"349.023438\" xlink:href=\"#DejaVuSans-105\"/>\n     <use x=\"376.806641\" xlink:href=\"#DejaVuSans-116\"/>\n     <use x=\"416.015625\" xlink:href=\"#DejaVuSans-104\"/>\n     <use x=\"479.394531\" xlink:href=\"#DejaVuSans-111\"/>\n     <use x=\"540.576172\" xlink:href=\"#DejaVuSans-117\"/>\n     <use x=\"603.955078\" xlink:href=\"#DejaVuSans-116\"/>\n     <use x=\"643.164062\" xlink:href=\"#DejaVuSans-32\"/>\n     <use x=\"674.951172\" xlink:href=\"#DejaVuSans-114\"/>\n     <use x=\"713.814453\" xlink:href=\"#DejaVuSans-101\"/>\n     <use x=\"775.337891\" xlink:href=\"#DejaVuSans-112\"/>\n     <use x=\"838.814453\" xlink:href=\"#DejaVuSans-108\"/>\n     <use x=\"866.597656\" xlink:href=\"#DejaVuSans-97\"/>\n     <use x=\"927.876953\" xlink:href=\"#DejaVuSans-99\"/>\n     <use x=\"982.857422\" xlink:href=\"#DejaVuSans-101\"/>\n     <use x=\"1044.380859\" xlink:href=\"#DejaVuSans-109\"/>\n     <use x=\"1141.792969\" xlink:href=\"#DejaVuSans-101\"/>\n     <use x=\"1203.316406\" xlink:href=\"#DejaVuSans-110\"/>\n     <use x=\"1266.695312\" xlink:href=\"#DejaVuSans-116\"/>\n     <use x=\"1305.904297\" xlink:href=\"#DejaVuSans-41\"/>\n    </g>\n   </g>\n  </g>\n  <g id=\"axes_2\">\n   <g id=\"patch_7\">\n    <path d=\"M 365.249632 294.118125 \nL 627.837868 294.118125 \nL 627.837868 22.318125 \nL 365.249632 22.318125 \nz\n\" style=\"fill:#ffffff;\"/>\n   </g>\n   <g id=\"PathCollection_2\">\n    <g clip-path=\"url(#pc46ad8dcdb)\">\n     <use style=\"fill:#1f77b4;stroke:#1f77b4;\" x=\"377.185461\" xlink:href=\"#m19eca7f2ed\" y=\"46.989185\"/>\n     <use style=\"fill:#1f77b4;stroke:#1f77b4;\" x=\"379.59674\" xlink:href=\"#m19eca7f2ed\" y=\"45.876706\"/>\n     <use style=\"fill:#1f77b4;stroke:#1f77b4;\" x=\"382.008018\" xlink:href=\"#m19eca7f2ed\" y=\"50.152744\"/>\n     <use style=\"fill:#1f77b4;stroke:#1f77b4;\" x=\"384.419297\" xlink:href=\"#m19eca7f2ed\" y=\"49.824333\"/>\n     <use style=\"fill:#1f77b4;stroke:#1f77b4;\" x=\"386.830575\" xlink:href=\"#m19eca7f2ed\" y=\"50.510517\"/>\n     <use style=\"fill:#1f77b4;stroke:#1f77b4;\" x=\"389.241854\" xlink:href=\"#m19eca7f2ed\" y=\"60.511007\"/>\n     <use style=\"fill:#1f77b4;stroke:#1f77b4;\" x=\"391.653133\" xlink:href=\"#m19eca7f2ed\" y=\"56.492218\"/>\n     <use style=\"fill:#1f77b4;stroke:#1f77b4;\" x=\"394.064411\" xlink:href=\"#m19eca7f2ed\" y=\"61.144244\"/>\n     <use style=\"fill:#1f77b4;stroke:#1f77b4;\" x=\"396.47569\" xlink:href=\"#m19eca7f2ed\" y=\"47.158103\"/>\n     <use style=\"fill:#1f77b4;stroke:#1f77b4;\" x=\"398.886968\" xlink:href=\"#m19eca7f2ed\" y=\"48.595304\"/>\n     <use style=\"fill:#1f77b4;stroke:#1f77b4;\" x=\"401.298247\" xlink:href=\"#m19eca7f2ed\" y=\"49.485168\"/>\n     <use style=\"fill:#1f77b4;stroke:#1f77b4;\" x=\"403.709525\" xlink:href=\"#m19eca7f2ed\" y=\"52.461624\"/>\n     <use style=\"fill:#1f77b4;stroke:#1f77b4;\" x=\"406.120804\" xlink:href=\"#m19eca7f2ed\" y=\"63.861976\"/>\n     <use style=\"fill:#1f77b4;stroke:#1f77b4;\" x=\"408.532083\" xlink:href=\"#m19eca7f2ed\" y=\"54.12946\"/>\n     <use style=\"fill:#1f77b4;stroke:#1f77b4;\" x=\"410.943361\" xlink:href=\"#m19eca7f2ed\" y=\"45.779438\"/>\n     <use style=\"fill:#1f77b4;stroke:#1f77b4;\" x=\"413.35464\" xlink:href=\"#m19eca7f2ed\" y=\"56.660299\"/>\n     <use style=\"fill:#1f77b4;stroke:#1f77b4;\" x=\"415.765918\" xlink:href=\"#m19eca7f2ed\" y=\"54.84942\"/>\n     <use style=\"fill:#1f77b4;stroke:#1f77b4;\" x=\"418.177197\" xlink:href=\"#m19eca7f2ed\" y=\"57.546509\"/>\n     <use style=\"fill:#1f77b4;stroke:#1f77b4;\" x=\"420.588475\" xlink:href=\"#m19eca7f2ed\" y=\"51.153232\"/>\n     <use style=\"fill:#1f77b4;stroke:#1f77b4;\" x=\"422.999754\" xlink:href=\"#m19eca7f2ed\" y=\"57.155576\"/>\n     <use style=\"fill:#1f77b4;stroke:#1f77b4;\" x=\"425.411032\" xlink:href=\"#m19eca7f2ed\" y=\"58.168816\"/>\n     <use style=\"fill:#1f77b4;stroke:#1f77b4;\" x=\"427.822311\" xlink:href=\"#m19eca7f2ed\" y=\"56.951542\"/>\n     <use style=\"fill:#1f77b4;stroke:#1f77b4;\" x=\"430.23359\" xlink:href=\"#m19eca7f2ed\" y=\"58.042043\"/>\n     <use style=\"fill:#1f77b4;stroke:#1f77b4;\" x=\"432.644868\" xlink:href=\"#m19eca7f2ed\" y=\"45.681034\"/>\n     <use style=\"fill:#1f77b4;stroke:#1f77b4;\" x=\"435.056147\" xlink:href=\"#m19eca7f2ed\" y=\"48.722963\"/>\n     <use style=\"fill:#1f77b4;stroke:#1f77b4;\" x=\"437.467425\" xlink:href=\"#m19eca7f2ed\" y=\"59.782635\"/>\n     <use style=\"fill:#1f77b4;stroke:#1f77b4;\" x=\"439.878704\" xlink:href=\"#m19eca7f2ed\" y=\"56.047553\"/>\n     <use style=\"fill:#1f77b4;stroke:#1f77b4;\" x=\"442.289982\" xlink:href=\"#m19eca7f2ed\" y=\"51.065457\"/>\n     <use style=\"fill:#1f77b4;stroke:#1f77b4;\" x=\"444.701261\" xlink:href=\"#m19eca7f2ed\" y=\"59.295806\"/>\n     <use style=\"fill:#1f77b4;stroke:#1f77b4;\" x=\"447.112539\" xlink:href=\"#m19eca7f2ed\" y=\"51.648175\"/>\n     <use style=\"fill:#1f77b4;stroke:#1f77b4;\" x=\"449.523818\" xlink:href=\"#m19eca7f2ed\" y=\"53.654123\"/>\n     <use style=\"fill:#1f77b4;stroke:#1f77b4;\" x=\"451.935097\" xlink:href=\"#m19eca7f2ed\" y=\"46.853915\"/>\n     <use style=\"fill:#1f77b4;stroke:#1f77b4;\" x=\"454.346375\" xlink:href=\"#m19eca7f2ed\" y=\"55.725092\"/>\n     <use style=\"fill:#1f77b4;stroke:#1f77b4;\" x=\"456.757654\" xlink:href=\"#m19eca7f2ed\" y=\"48.747929\"/>\n     <use style=\"fill:#1f77b4;stroke:#1f77b4;\" x=\"459.168932\" xlink:href=\"#m19eca7f2ed\" y=\"68.617522\"/>\n     <use style=\"fill:#1f77b4;stroke:#1f77b4;\" x=\"461.580211\" xlink:href=\"#m19eca7f2ed\" y=\"41.129405\"/>\n     <use style=\"fill:#1f77b4;stroke:#1f77b4;\" x=\"463.991489\" xlink:href=\"#m19eca7f2ed\" y=\"62.066907\"/>\n     <use style=\"fill:#1f77b4;stroke:#1f77b4;\" x=\"466.402768\" xlink:href=\"#m19eca7f2ed\" y=\"47.76982\"/>\n     <use style=\"fill:#1f77b4;stroke:#1f77b4;\" x=\"468.814047\" xlink:href=\"#m19eca7f2ed\" y=\"62.175131\"/>\n     <use style=\"fill:#1f77b4;stroke:#1f77b4;\" x=\"471.225325\" xlink:href=\"#m19eca7f2ed\" y=\"50.02262\"/>\n     <use style=\"fill:#1f77b4;stroke:#1f77b4;\" x=\"473.636604\" xlink:href=\"#m19eca7f2ed\" y=\"55.166806\"/>\n     <use style=\"fill:#1f77b4;stroke:#1f77b4;\" x=\"476.047882\" xlink:href=\"#m19eca7f2ed\" y=\"61.421203\"/>\n     <use style=\"fill:#1f77b4;stroke:#1f77b4;\" x=\"478.459161\" xlink:href=\"#m19eca7f2ed\" y=\"55.658308\"/>\n     <use style=\"fill:#1f77b4;stroke:#1f77b4;\" x=\"480.870439\" xlink:href=\"#m19eca7f2ed\" y=\"57.766535\"/>\n     <use style=\"fill:#1f77b4;stroke:#1f77b4;\" x=\"483.281718\" xlink:href=\"#m19eca7f2ed\" y=\"57.625125\"/>\n     <use style=\"fill:#1f77b4;stroke:#1f77b4;\" x=\"485.692996\" xlink:href=\"#m19eca7f2ed\" y=\"55.722347\"/>\n     <use style=\"fill:#1f77b4;stroke:#1f77b4;\" x=\"488.104275\" xlink:href=\"#m19eca7f2ed\" y=\"56.344918\"/>\n     <use style=\"fill:#1f77b4;stroke:#1f77b4;\" x=\"490.515554\" xlink:href=\"#m19eca7f2ed\" y=\"54.450469\"/>\n     <use style=\"fill:#1f77b4;stroke:#1f77b4;\" x=\"492.926832\" xlink:href=\"#m19eca7f2ed\" y=\"56.433137\"/>\n     <use style=\"fill:#1f77b4;stroke:#1f77b4;\" x=\"495.338111\" xlink:href=\"#m19eca7f2ed\" y=\"47.586801\"/>\n     <use style=\"fill:#1f77b4;stroke:#1f77b4;\" x=\"497.749389\" xlink:href=\"#m19eca7f2ed\" y=\"54.522714\"/>\n     <use style=\"fill:#1f77b4;stroke:#1f77b4;\" x=\"500.160668\" xlink:href=\"#m19eca7f2ed\" y=\"56.568638\"/>\n     <use style=\"fill:#1f77b4;stroke:#1f77b4;\" x=\"502.571946\" xlink:href=\"#m19eca7f2ed\" y=\"45.57623\"/>\n     <use style=\"fill:#1f77b4;stroke:#1f77b4;\" x=\"504.983225\" xlink:href=\"#m19eca7f2ed\" y=\"60.928287\"/>\n     <use style=\"fill:#1f77b4;stroke:#1f77b4;\" x=\"507.394504\" xlink:href=\"#m19eca7f2ed\" y=\"65.579305\"/>\n     <use style=\"fill:#1f77b4;stroke:#1f77b4;\" x=\"509.805782\" xlink:href=\"#m19eca7f2ed\" y=\"59.736833\"/>\n     <use style=\"fill:#1f77b4;stroke:#1f77b4;\" x=\"512.217061\" xlink:href=\"#m19eca7f2ed\" y=\"50.201798\"/>\n     <use style=\"fill:#1f77b4;stroke:#1f77b4;\" x=\"514.628339\" xlink:href=\"#m19eca7f2ed\" y=\"60.816564\"/>\n     <use style=\"fill:#1f77b4;stroke:#1f77b4;\" x=\"517.039618\" xlink:href=\"#m19eca7f2ed\" y=\"62.732086\"/>\n     <use style=\"fill:#1f77b4;stroke:#1f77b4;\" x=\"519.450896\" xlink:href=\"#m19eca7f2ed\" y=\"47.328986\"/>\n     <use style=\"fill:#1f77b4;stroke:#1f77b4;\" x=\"521.862175\" xlink:href=\"#m19eca7f2ed\" y=\"56.731091\"/>\n     <use style=\"fill:#1f77b4;stroke:#1f77b4;\" x=\"524.273453\" xlink:href=\"#m19eca7f2ed\" y=\"49.116805\"/>\n     <use style=\"fill:#1f77b4;stroke:#1f77b4;\" x=\"526.684732\" xlink:href=\"#m19eca7f2ed\" y=\"60.146983\"/>\n     <use style=\"fill:#1f77b4;stroke:#1f77b4;\" x=\"529.096011\" xlink:href=\"#m19eca7f2ed\" y=\"57.960136\"/>\n     <use style=\"fill:#1f77b4;stroke:#1f77b4;\" x=\"531.507289\" xlink:href=\"#m19eca7f2ed\" y=\"54.292867\"/>\n     <use style=\"fill:#1f77b4;stroke:#1f77b4;\" x=\"533.918568\" xlink:href=\"#m19eca7f2ed\" y=\"47.986481\"/>\n     <use style=\"fill:#1f77b4;stroke:#1f77b4;\" x=\"536.329846\" xlink:href=\"#m19eca7f2ed\" y=\"48.936605\"/>\n     <use style=\"fill:#1f77b4;stroke:#1f77b4;\" x=\"538.741125\" xlink:href=\"#m19eca7f2ed\" y=\"49.508977\"/>\n     <use style=\"fill:#1f77b4;stroke:#1f77b4;\" x=\"541.152403\" xlink:href=\"#m19eca7f2ed\" y=\"51.83218\"/>\n     <use style=\"fill:#1f77b4;stroke:#1f77b4;\" x=\"543.563682\" xlink:href=\"#m19eca7f2ed\" y=\"49.955333\"/>\n     <use style=\"fill:#1f77b4;stroke:#1f77b4;\" x=\"545.974961\" xlink:href=\"#m19eca7f2ed\" y=\"52.857264\"/>\n     <use style=\"fill:#1f77b4;stroke:#1f77b4;\" x=\"548.386239\" xlink:href=\"#m19eca7f2ed\" y=\"57.009189\"/>\n     <use style=\"fill:#1f77b4;stroke:#1f77b4;\" x=\"550.797518\" xlink:href=\"#m19eca7f2ed\" y=\"68.64997\"/>\n     <use style=\"fill:#1f77b4;stroke:#1f77b4;\" x=\"553.208796\" xlink:href=\"#m19eca7f2ed\" y=\"53.827661\"/>\n     <use style=\"fill:#1f77b4;stroke:#1f77b4;\" x=\"555.620075\" xlink:href=\"#m19eca7f2ed\" y=\"57.158454\"/>\n     <use style=\"fill:#1f77b4;stroke:#1f77b4;\" x=\"558.031353\" xlink:href=\"#m19eca7f2ed\" y=\"53.181042\"/>\n     <use style=\"fill:#1f77b4;stroke:#1f77b4;\" x=\"560.442632\" xlink:href=\"#m19eca7f2ed\" y=\"54.023974\"/>\n     <use style=\"fill:#1f77b4;stroke:#1f77b4;\" x=\"562.85391\" xlink:href=\"#m19eca7f2ed\" y=\"48.557967\"/>\n     <use style=\"fill:#1f77b4;stroke:#1f77b4;\" x=\"565.265189\" xlink:href=\"#m19eca7f2ed\" y=\"56.177919\"/>\n     <use style=\"fill:#1f77b4;stroke:#1f77b4;\" x=\"567.676468\" xlink:href=\"#m19eca7f2ed\" y=\"60.447781\"/>\n     <use style=\"fill:#1f77b4;stroke:#1f77b4;\" x=\"570.087746\" xlink:href=\"#m19eca7f2ed\" y=\"46.884651\"/>\n     <use style=\"fill:#1f77b4;stroke:#1f77b4;\" x=\"572.499025\" xlink:href=\"#m19eca7f2ed\" y=\"43.952053\"/>\n     <use style=\"fill:#1f77b4;stroke:#1f77b4;\" x=\"574.910303\" xlink:href=\"#m19eca7f2ed\" y=\"51.420685\"/>\n     <use style=\"fill:#1f77b4;stroke:#1f77b4;\" x=\"577.321582\" xlink:href=\"#m19eca7f2ed\" y=\"57.211274\"/>\n     <use style=\"fill:#1f77b4;stroke:#1f77b4;\" x=\"579.73286\" xlink:href=\"#m19eca7f2ed\" y=\"52.193417\"/>\n     <use style=\"fill:#1f77b4;stroke:#1f77b4;\" x=\"582.144139\" xlink:href=\"#m19eca7f2ed\" y=\"50.154514\"/>\n     <use style=\"fill:#1f77b4;stroke:#1f77b4;\" x=\"584.555417\" xlink:href=\"#m19eca7f2ed\" y=\"53.422686\"/>\n     <use style=\"fill:#1f77b4;stroke:#1f77b4;\" x=\"586.966696\" xlink:href=\"#m19eca7f2ed\" y=\"56.26003\"/>\n     <use style=\"fill:#1f77b4;stroke:#1f77b4;\" x=\"589.377975\" xlink:href=\"#m19eca7f2ed\" y=\"54.247279\"/>\n     <use style=\"fill:#1f77b4;stroke:#1f77b4;\" x=\"591.789253\" xlink:href=\"#m19eca7f2ed\" y=\"55.943166\"/>\n     <use style=\"fill:#1f77b4;stroke:#1f77b4;\" x=\"594.200532\" xlink:href=\"#m19eca7f2ed\" y=\"55.963102\"/>\n     <use style=\"fill:#1f77b4;stroke:#1f77b4;\" x=\"596.61181\" xlink:href=\"#m19eca7f2ed\" y=\"59.427585\"/>\n     <use style=\"fill:#1f77b4;stroke:#1f77b4;\" x=\"599.023089\" xlink:href=\"#m19eca7f2ed\" y=\"51.535847\"/>\n     <use style=\"fill:#1f77b4;stroke:#1f77b4;\" x=\"601.434367\" xlink:href=\"#m19eca7f2ed\" y=\"53.314475\"/>\n     <use style=\"fill:#1f77b4;stroke:#1f77b4;\" x=\"603.845646\" xlink:href=\"#m19eca7f2ed\" y=\"55.417178\"/>\n     <use style=\"fill:#1f77b4;stroke:#1f77b4;\" x=\"606.256925\" xlink:href=\"#m19eca7f2ed\" y=\"59.173683\"/>\n     <use style=\"fill:#1f77b4;stroke:#1f77b4;\" x=\"608.668203\" xlink:href=\"#m19eca7f2ed\" y=\"45.608346\"/>\n     <use style=\"fill:#1f77b4;stroke:#1f77b4;\" x=\"611.079482\" xlink:href=\"#m19eca7f2ed\" y=\"52.298452\"/>\n     <use style=\"fill:#1f77b4;stroke:#1f77b4;\" x=\"613.49076\" xlink:href=\"#m19eca7f2ed\" y=\"54.96922\"/>\n     <use style=\"fill:#1f77b4;stroke:#1f77b4;\" x=\"615.902039\" xlink:href=\"#m19eca7f2ed\" y=\"55.129726\"/>\n    </g>\n   </g>\n   <g id=\"matplotlib.axis_3\">\n    <g id=\"xtick_7\">\n     <g id=\"line2d_15\">\n      <g>\n       <use style=\"stroke:#000000;stroke-width:0.8;\" x=\"374.774183\" xlink:href=\"#m141c70010a\" y=\"294.118125\"/>\n      </g>\n     </g>\n     <g id=\"text_16\">\n      <!-- 0 -->\n      <g transform=\"translate(371.592933 308.716563)scale(0.1 -0.1)\">\n       <use xlink:href=\"#DejaVuSans-48\"/>\n      </g>\n     </g>\n    </g>\n    <g id=\"xtick_8\">\n     <g id=\"line2d_16\">\n      <g>\n       <use style=\"stroke:#000000;stroke-width:0.8;\" x=\"422.999754\" xlink:href=\"#m141c70010a\" y=\"294.118125\"/>\n      </g>\n     </g>\n     <g id=\"text_17\">\n      <!-- 20 -->\n      <g transform=\"translate(416.637254 308.716563)scale(0.1 -0.1)\">\n       <use xlink:href=\"#DejaVuSans-50\"/>\n       <use x=\"63.623047\" xlink:href=\"#DejaVuSans-48\"/>\n      </g>\n     </g>\n    </g>\n    <g id=\"xtick_9\">\n     <g id=\"line2d_17\">\n      <g>\n       <use style=\"stroke:#000000;stroke-width:0.8;\" x=\"471.225325\" xlink:href=\"#m141c70010a\" y=\"294.118125\"/>\n      </g>\n     </g>\n     <g id=\"text_18\">\n      <!-- 40 -->\n      <g transform=\"translate(464.862825 308.716563)scale(0.1 -0.1)\">\n       <use xlink:href=\"#DejaVuSans-52\"/>\n       <use x=\"63.623047\" xlink:href=\"#DejaVuSans-48\"/>\n      </g>\n     </g>\n    </g>\n    <g id=\"xtick_10\">\n     <g id=\"line2d_18\">\n      <g>\n       <use style=\"stroke:#000000;stroke-width:0.8;\" x=\"519.450896\" xlink:href=\"#m141c70010a\" y=\"294.118125\"/>\n      </g>\n     </g>\n     <g id=\"text_19\">\n      <!-- 60 -->\n      <g transform=\"translate(513.088396 308.716563)scale(0.1 -0.1)\">\n       <use xlink:href=\"#DejaVuSans-54\"/>\n       <use x=\"63.623047\" xlink:href=\"#DejaVuSans-48\"/>\n      </g>\n     </g>\n    </g>\n    <g id=\"xtick_11\">\n     <g id=\"line2d_19\">\n      <g>\n       <use style=\"stroke:#000000;stroke-width:0.8;\" x=\"567.676468\" xlink:href=\"#m141c70010a\" y=\"294.118125\"/>\n      </g>\n     </g>\n     <g id=\"text_20\">\n      <!-- 80 -->\n      <g transform=\"translate(561.313968 308.716563)scale(0.1 -0.1)\">\n       <use xlink:href=\"#DejaVuSans-56\"/>\n       <use x=\"63.623047\" xlink:href=\"#DejaVuSans-48\"/>\n      </g>\n     </g>\n    </g>\n    <g id=\"xtick_12\">\n     <g id=\"line2d_20\">\n      <g>\n       <use style=\"stroke:#000000;stroke-width:0.8;\" x=\"615.902039\" xlink:href=\"#m141c70010a\" y=\"294.118125\"/>\n      </g>\n     </g>\n     <g id=\"text_21\">\n      <!-- 100 -->\n      <g transform=\"translate(606.358289 308.716563)scale(0.1 -0.1)\">\n       <use xlink:href=\"#DejaVuSans-49\"/>\n       <use x=\"63.623047\" xlink:href=\"#DejaVuSans-48\"/>\n       <use x=\"127.246094\" xlink:href=\"#DejaVuSans-48\"/>\n      </g>\n     </g>\n    </g>\n    <g id=\"text_22\">\n     <!-- Sample # -->\n     <g transform=\"translate(472.016406 322.394687)scale(0.1 -0.1)\">\n      <use xlink:href=\"#DejaVuSans-83\"/>\n      <use x=\"63.476562\" xlink:href=\"#DejaVuSans-97\"/>\n      <use x=\"124.755859\" xlink:href=\"#DejaVuSans-109\"/>\n      <use x=\"222.167969\" xlink:href=\"#DejaVuSans-112\"/>\n      <use x=\"285.644531\" xlink:href=\"#DejaVuSans-108\"/>\n      <use x=\"313.427734\" xlink:href=\"#DejaVuSans-101\"/>\n      <use x=\"374.951172\" xlink:href=\"#DejaVuSans-32\"/>\n      <use x=\"406.738281\" xlink:href=\"#DejaVuSans-35\"/>\n     </g>\n    </g>\n   </g>\n   <g id=\"matplotlib.axis_4\">\n    <g id=\"ytick_7\">\n     <g id=\"line2d_21\">\n      <g>\n       <use style=\"stroke:#000000;stroke-width:0.8;\" x=\"365.249632\" xlink:href=\"#me51b785b83\" y=\"294.118125\"/>\n      </g>\n     </g>\n     <g id=\"text_23\">\n      <!-- 0.04 -->\n      <g transform=\"translate(335.984007 297.917344)scale(0.1 -0.1)\">\n       <use xlink:href=\"#DejaVuSans-48\"/>\n       <use x=\"63.623047\" xlink:href=\"#DejaVuSans-46\"/>\n       <use x=\"95.410156\" xlink:href=\"#DejaVuSans-48\"/>\n       <use x=\"159.033203\" xlink:href=\"#DejaVuSans-52\"/>\n      </g>\n     </g>\n    </g>\n    <g id=\"ytick_8\">\n     <g id=\"line2d_22\">\n      <g>\n       <use style=\"stroke:#000000;stroke-width:0.8;\" x=\"365.249632\" xlink:href=\"#me51b785b83\" y=\"239.758125\"/>\n      </g>\n     </g>\n     <g id=\"text_24\">\n      <!-- 0.05 -->\n      <g transform=\"translate(335.984007 243.557344)scale(0.1 -0.1)\">\n       <use xlink:href=\"#DejaVuSans-48\"/>\n       <use x=\"63.623047\" xlink:href=\"#DejaVuSans-46\"/>\n       <use x=\"95.410156\" xlink:href=\"#DejaVuSans-48\"/>\n       <use x=\"159.033203\" xlink:href=\"#DejaVuSans-53\"/>\n      </g>\n     </g>\n    </g>\n    <g id=\"ytick_9\">\n     <g id=\"line2d_23\">\n      <g>\n       <use style=\"stroke:#000000;stroke-width:0.8;\" x=\"365.249632\" xlink:href=\"#me51b785b83\" y=\"185.398125\"/>\n      </g>\n     </g>\n     <g id=\"text_25\">\n      <!-- 0.06 -->\n      <g transform=\"translate(335.984007 189.197344)scale(0.1 -0.1)\">\n       <use xlink:href=\"#DejaVuSans-48\"/>\n       <use x=\"63.623047\" xlink:href=\"#DejaVuSans-46\"/>\n       <use x=\"95.410156\" xlink:href=\"#DejaVuSans-48\"/>\n       <use x=\"159.033203\" xlink:href=\"#DejaVuSans-54\"/>\n      </g>\n     </g>\n    </g>\n    <g id=\"ytick_10\">\n     <g id=\"line2d_24\">\n      <g>\n       <use style=\"stroke:#000000;stroke-width:0.8;\" x=\"365.249632\" xlink:href=\"#me51b785b83\" y=\"131.038125\"/>\n      </g>\n     </g>\n     <g id=\"text_26\">\n      <!-- 0.07 -->\n      <g transform=\"translate(335.984007 134.837344)scale(0.1 -0.1)\">\n       <use xlink:href=\"#DejaVuSans-48\"/>\n       <use x=\"63.623047\" xlink:href=\"#DejaVuSans-46\"/>\n       <use x=\"95.410156\" xlink:href=\"#DejaVuSans-48\"/>\n       <use x=\"159.033203\" xlink:href=\"#DejaVuSans-55\"/>\n      </g>\n     </g>\n    </g>\n    <g id=\"ytick_11\">\n     <g id=\"line2d_25\">\n      <g>\n       <use style=\"stroke:#000000;stroke-width:0.8;\" x=\"365.249632\" xlink:href=\"#me51b785b83\" y=\"76.678125\"/>\n      </g>\n     </g>\n     <g id=\"text_27\">\n      <!-- 0.08 -->\n      <g transform=\"translate(335.984007 80.477344)scale(0.1 -0.1)\">\n       <use xlink:href=\"#DejaVuSans-48\"/>\n       <use x=\"63.623047\" xlink:href=\"#DejaVuSans-46\"/>\n       <use x=\"95.410156\" xlink:href=\"#DejaVuSans-48\"/>\n       <use x=\"159.033203\" xlink:href=\"#DejaVuSans-56\"/>\n      </g>\n     </g>\n    </g>\n    <g id=\"ytick_12\">\n     <g id=\"line2d_26\">\n      <g>\n       <use style=\"stroke:#000000;stroke-width:0.8;\" x=\"365.249632\" xlink:href=\"#me51b785b83\" y=\"22.318125\"/>\n      </g>\n     </g>\n     <g id=\"text_28\">\n      <!-- 0.09 -->\n      <g transform=\"translate(335.984007 26.117344)scale(0.1 -0.1)\">\n       <use xlink:href=\"#DejaVuSans-48\"/>\n       <use x=\"63.623047\" xlink:href=\"#DejaVuSans-46\"/>\n       <use x=\"95.410156\" xlink:href=\"#DejaVuSans-48\"/>\n       <use x=\"159.033203\" xlink:href=\"#DejaVuSans-57\"/>\n      </g>\n     </g>\n    </g>\n    <g id=\"text_29\">\n     <!-- Variance of Sampling Mean -->\n     <g transform=\"translate(329.90432 226.432187)rotate(-90)scale(0.1 -0.1)\">\n      <use xlink:href=\"#DejaVuSans-86\"/>\n      <use x=\"60.658203\" xlink:href=\"#DejaVuSans-97\"/>\n      <use x=\"121.9375\" xlink:href=\"#DejaVuSans-114\"/>\n      <use x=\"163.050781\" xlink:href=\"#DejaVuSans-105\"/>\n      <use x=\"190.833984\" xlink:href=\"#DejaVuSans-97\"/>\n      <use x=\"252.113281\" xlink:href=\"#DejaVuSans-110\"/>\n      <use x=\"315.492188\" xlink:href=\"#DejaVuSans-99\"/>\n      <use x=\"370.472656\" xlink:href=\"#DejaVuSans-101\"/>\n      <use x=\"431.996094\" xlink:href=\"#DejaVuSans-32\"/>\n      <use x=\"463.783203\" xlink:href=\"#DejaVuSans-111\"/>\n      <use x=\"524.964844\" xlink:href=\"#DejaVuSans-102\"/>\n      <use x=\"560.169922\" xlink:href=\"#DejaVuSans-32\"/>\n      <use x=\"591.957031\" xlink:href=\"#DejaVuSans-83\"/>\n      <use x=\"655.433594\" xlink:href=\"#DejaVuSans-97\"/>\n      <use x=\"716.712891\" xlink:href=\"#DejaVuSans-109\"/>\n      <use x=\"814.125\" xlink:href=\"#DejaVuSans-112\"/>\n      <use x=\"877.601562\" xlink:href=\"#DejaVuSans-108\"/>\n      <use x=\"905.384766\" xlink:href=\"#DejaVuSans-105\"/>\n      <use x=\"933.167969\" xlink:href=\"#DejaVuSans-110\"/>\n      <use x=\"996.546875\" xlink:href=\"#DejaVuSans-103\"/>\n      <use x=\"1060.023438\" xlink:href=\"#DejaVuSans-32\"/>\n      <use x=\"1091.810547\" xlink:href=\"#DejaVuSans-77\"/>\n      <use x=\"1178.089844\" xlink:href=\"#DejaVuSans-101\"/>\n      <use x=\"1239.613281\" xlink:href=\"#DejaVuSans-97\"/>\n      <use x=\"1300.892578\" xlink:href=\"#DejaVuSans-110\"/>\n     </g>\n    </g>\n   </g>\n   <g id=\"line2d_27\">\n    <path clip-path=\"url(#pc46ad8dcdb)\" d=\"M 365.249632 54.175587 \nL 627.837868 54.175587 \n\" style=\"fill:none;stroke:#1f77b4;stroke-linecap:square;stroke-width:1.5;\"/>\n   </g>\n   <g id=\"line2d_28\">\n    <path clip-path=\"url(#pc46ad8dcdb)\" d=\"M 365.249632 285.758169 \nL 627.837868 285.758169 \n\" style=\"fill:none;stroke:#ff0000;stroke-linecap:square;stroke-width:1.5;\"/>\n   </g>\n   <g id=\"patch_8\">\n    <path d=\"M 365.249632 294.118125 \nL 365.249632 22.318125 \n\" style=\"fill:none;stroke:#000000;stroke-linecap:square;stroke-linejoin:miter;stroke-width:0.8;\"/>\n   </g>\n   <g id=\"patch_9\">\n    <path d=\"M 627.837868 294.118125 \nL 627.837868 22.318125 \n\" style=\"fill:none;stroke:#000000;stroke-linecap:square;stroke-linejoin:miter;stroke-width:0.8;\"/>\n   </g>\n   <g id=\"patch_10\">\n    <path d=\"M 365.249632 294.118125 \nL 627.837868 294.118125 \n\" style=\"fill:none;stroke:#000000;stroke-linecap:square;stroke-linejoin:miter;stroke-width:0.8;\"/>\n   </g>\n   <g id=\"patch_11\">\n    <path d=\"M 365.249632 22.318125 \nL 627.837868 22.318125 \n\" style=\"fill:none;stroke:#000000;stroke-linecap:square;stroke-linejoin:miter;stroke-width:0.8;\"/>\n   </g>\n   <g id=\"text_30\">\n    <!-- Stratified sampling py Position -->\n    <defs>\n     <path d=\"M 45.40625 46.390625 \nL 45.40625 75.984375 \nL 54.390625 75.984375 \nL 54.390625 0 \nL 45.40625 0 \nL 45.40625 8.203125 \nQ 42.578125 3.328125 38.25 0.953125 \nQ 33.9375 -1.421875 27.875 -1.421875 \nQ 17.96875 -1.421875 11.734375 6.484375 \nQ 5.515625 14.40625 5.515625 27.296875 \nQ 5.515625 40.1875 11.734375 48.09375 \nQ 17.96875 56 27.875 56 \nQ 33.9375 56 38.25 53.625 \nQ 42.578125 51.265625 45.40625 46.390625 \nz\nM 14.796875 27.296875 \nQ 14.796875 17.390625 18.875 11.75 \nQ 22.953125 6.109375 30.078125 6.109375 \nQ 37.203125 6.109375 41.296875 11.75 \nQ 45.40625 17.390625 45.40625 27.296875 \nQ 45.40625 37.203125 41.296875 42.84375 \nQ 37.203125 48.484375 30.078125 48.484375 \nQ 22.953125 48.484375 18.875 42.84375 \nQ 14.796875 37.203125 14.796875 27.296875 \nz\n\" id=\"DejaVuSans-100\"/>\n     <path d=\"M 44.28125 53.078125 \nL 44.28125 44.578125 \nQ 40.484375 46.53125 36.375 47.5 \nQ 32.28125 48.484375 27.875 48.484375 \nQ 21.1875 48.484375 17.84375 46.4375 \nQ 14.5 44.390625 14.5 40.28125 \nQ 14.5 37.15625 16.890625 35.375 \nQ 19.28125 33.59375 26.515625 31.984375 \nL 29.59375 31.296875 \nQ 39.15625 29.25 43.1875 25.515625 \nQ 47.21875 21.78125 47.21875 15.09375 \nQ 47.21875 7.46875 41.1875 3.015625 \nQ 35.15625 -1.421875 24.609375 -1.421875 \nQ 20.21875 -1.421875 15.453125 -0.5625 \nQ 10.6875 0.296875 5.421875 2 \nL 5.421875 11.28125 \nQ 10.40625 8.6875 15.234375 7.390625 \nQ 20.0625 6.109375 24.8125 6.109375 \nQ 31.15625 6.109375 34.5625 8.28125 \nQ 37.984375 10.453125 37.984375 14.40625 \nQ 37.984375 18.0625 35.515625 20.015625 \nQ 33.0625 21.96875 24.703125 23.78125 \nL 21.578125 24.515625 \nQ 13.234375 26.265625 9.515625 29.90625 \nQ 5.8125 33.546875 5.8125 39.890625 \nQ 5.8125 47.609375 11.28125 51.796875 \nQ 16.75 56 26.8125 56 \nQ 31.78125 56 36.171875 55.265625 \nQ 40.578125 54.546875 44.28125 53.078125 \nz\n\" id=\"DejaVuSans-115\"/>\n     <path d=\"M 32.171875 -5.078125 \nQ 28.375 -14.84375 24.75 -17.8125 \nQ 21.140625 -20.796875 15.09375 -20.796875 \nL 7.90625 -20.796875 \nL 7.90625 -13.28125 \nL 13.1875 -13.28125 \nQ 16.890625 -13.28125 18.9375 -11.515625 \nQ 21 -9.765625 23.484375 -3.21875 \nL 25.09375 0.875 \nL 2.984375 54.6875 \nL 12.5 54.6875 \nL 29.59375 11.921875 \nL 46.6875 54.6875 \nL 56.203125 54.6875 \nz\n\" id=\"DejaVuSans-121\"/>\n     <path d=\"M 19.671875 64.796875 \nL 19.671875 37.40625 \nL 32.078125 37.40625 \nQ 38.96875 37.40625 42.71875 40.96875 \nQ 46.484375 44.53125 46.484375 51.125 \nQ 46.484375 57.671875 42.71875 61.234375 \nQ 38.96875 64.796875 32.078125 64.796875 \nz\nM 9.8125 72.90625 \nL 32.078125 72.90625 \nQ 44.34375 72.90625 50.609375 67.359375 \nQ 56.890625 61.8125 56.890625 51.125 \nQ 56.890625 40.328125 50.609375 34.8125 \nQ 44.34375 29.296875 32.078125 29.296875 \nL 19.671875 29.296875 \nL 19.671875 0 \nL 9.8125 0 \nz\n\" id=\"DejaVuSans-80\"/>\n    </defs>\n    <g transform=\"translate(405.100938 16.318125)scale(0.12 -0.12)\">\n     <use xlink:href=\"#DejaVuSans-83\"/>\n     <use x=\"63.476562\" xlink:href=\"#DejaVuSans-116\"/>\n     <use x=\"102.685547\" xlink:href=\"#DejaVuSans-114\"/>\n     <use x=\"143.798828\" xlink:href=\"#DejaVuSans-97\"/>\n     <use x=\"205.078125\" xlink:href=\"#DejaVuSans-116\"/>\n     <use x=\"244.287109\" xlink:href=\"#DejaVuSans-105\"/>\n     <use x=\"272.070312\" xlink:href=\"#DejaVuSans-102\"/>\n     <use x=\"307.275391\" xlink:href=\"#DejaVuSans-105\"/>\n     <use x=\"335.058594\" xlink:href=\"#DejaVuSans-101\"/>\n     <use x=\"396.582031\" xlink:href=\"#DejaVuSans-100\"/>\n     <use x=\"460.058594\" xlink:href=\"#DejaVuSans-32\"/>\n     <use x=\"491.845703\" xlink:href=\"#DejaVuSans-115\"/>\n     <use x=\"543.945312\" xlink:href=\"#DejaVuSans-97\"/>\n     <use x=\"605.224609\" xlink:href=\"#DejaVuSans-109\"/>\n     <use x=\"702.636719\" xlink:href=\"#DejaVuSans-112\"/>\n     <use x=\"766.113281\" xlink:href=\"#DejaVuSans-108\"/>\n     <use x=\"793.896484\" xlink:href=\"#DejaVuSans-105\"/>\n     <use x=\"821.679688\" xlink:href=\"#DejaVuSans-110\"/>\n     <use x=\"885.058594\" xlink:href=\"#DejaVuSans-103\"/>\n     <use x=\"948.535156\" xlink:href=\"#DejaVuSans-32\"/>\n     <use x=\"980.322266\" xlink:href=\"#DejaVuSans-112\"/>\n     <use x=\"1043.798828\" xlink:href=\"#DejaVuSans-121\"/>\n     <use x=\"1102.978516\" xlink:href=\"#DejaVuSans-32\"/>\n     <use x=\"1134.765625\" xlink:href=\"#DejaVuSans-80\"/>\n     <use x=\"1191.443359\" xlink:href=\"#DejaVuSans-111\"/>\n     <use x=\"1252.625\" xlink:href=\"#DejaVuSans-115\"/>\n     <use x=\"1304.724609\" xlink:href=\"#DejaVuSans-105\"/>\n     <use x=\"1332.507812\" xlink:href=\"#DejaVuSans-116\"/>\n     <use x=\"1371.716797\" xlink:href=\"#DejaVuSans-105\"/>\n     <use x=\"1399.5\" xlink:href=\"#DejaVuSans-111\"/>\n     <use x=\"1460.681641\" xlink:href=\"#DejaVuSans-110\"/>\n    </g>\n   </g>\n  </g>\n  <g id=\"axes_3\">\n   <g id=\"patch_12\">\n    <path d=\"M 680.355515 294.118125 \nL 942.94375 294.118125 \nL 942.94375 22.318125 \nL 680.355515 22.318125 \nz\n\" style=\"fill:#ffffff;\"/>\n   </g>\n   <g id=\"PathCollection_3\">\n    <g clip-path=\"url(#p1415350220)\">\n     <use style=\"fill:#1f77b4;stroke:#1f77b4;\" x=\"692.291344\" xlink:href=\"#m19eca7f2ed\" y=\"137.397971\"/>\n     <use style=\"fill:#1f77b4;stroke:#1f77b4;\" x=\"694.702622\" xlink:href=\"#m19eca7f2ed\" y=\"144.815843\"/>\n     <use style=\"fill:#1f77b4;stroke:#1f77b4;\" x=\"697.113901\" xlink:href=\"#m19eca7f2ed\" y=\"134.223061\"/>\n     <use style=\"fill:#1f77b4;stroke:#1f77b4;\" x=\"699.525179\" xlink:href=\"#m19eca7f2ed\" y=\"126.573764\"/>\n     <use style=\"fill:#1f77b4;stroke:#1f77b4;\" x=\"701.936458\" xlink:href=\"#m19eca7f2ed\" y=\"133.216389\"/>\n     <use style=\"fill:#1f77b4;stroke:#1f77b4;\" x=\"704.347736\" xlink:href=\"#m19eca7f2ed\" y=\"144.365144\"/>\n     <use style=\"fill:#1f77b4;stroke:#1f77b4;\" x=\"706.759015\" xlink:href=\"#m19eca7f2ed\" y=\"140.82269\"/>\n     <use style=\"fill:#1f77b4;stroke:#1f77b4;\" x=\"709.170294\" xlink:href=\"#m19eca7f2ed\" y=\"142.799762\"/>\n     <use style=\"fill:#1f77b4;stroke:#1f77b4;\" x=\"711.581572\" xlink:href=\"#m19eca7f2ed\" y=\"137.26882\"/>\n     <use style=\"fill:#1f77b4;stroke:#1f77b4;\" x=\"713.992851\" xlink:href=\"#m19eca7f2ed\" y=\"129.188922\"/>\n     <use style=\"fill:#1f77b4;stroke:#1f77b4;\" x=\"716.404129\" xlink:href=\"#m19eca7f2ed\" y=\"145.299447\"/>\n     <use style=\"fill:#1f77b4;stroke:#1f77b4;\" x=\"718.815408\" xlink:href=\"#m19eca7f2ed\" y=\"133.126771\"/>\n     <use style=\"fill:#1f77b4;stroke:#1f77b4;\" x=\"721.226686\" xlink:href=\"#m19eca7f2ed\" y=\"138.046184\"/>\n     <use style=\"fill:#1f77b4;stroke:#1f77b4;\" x=\"723.637965\" xlink:href=\"#m19eca7f2ed\" y=\"137.972256\"/>\n     <use style=\"fill:#1f77b4;stroke:#1f77b4;\" x=\"726.049243\" xlink:href=\"#m19eca7f2ed\" y=\"133.715136\"/>\n     <use style=\"fill:#1f77b4;stroke:#1f77b4;\" x=\"728.460522\" xlink:href=\"#m19eca7f2ed\" y=\"133.220861\"/>\n     <use style=\"fill:#1f77b4;stroke:#1f77b4;\" x=\"730.871801\" xlink:href=\"#m19eca7f2ed\" y=\"143.135727\"/>\n     <use style=\"fill:#1f77b4;stroke:#1f77b4;\" x=\"733.283079\" xlink:href=\"#m19eca7f2ed\" y=\"135.442924\"/>\n     <use style=\"fill:#1f77b4;stroke:#1f77b4;\" x=\"735.694358\" xlink:href=\"#m19eca7f2ed\" y=\"136.804292\"/>\n     <use style=\"fill:#1f77b4;stroke:#1f77b4;\" x=\"738.105636\" xlink:href=\"#m19eca7f2ed\" y=\"131.068736\"/>\n     <use style=\"fill:#1f77b4;stroke:#1f77b4;\" x=\"740.516915\" xlink:href=\"#m19eca7f2ed\" y=\"144.137258\"/>\n     <use style=\"fill:#1f77b4;stroke:#1f77b4;\" x=\"742.928193\" xlink:href=\"#m19eca7f2ed\" y=\"134.205296\"/>\n     <use style=\"fill:#1f77b4;stroke:#1f77b4;\" x=\"745.339472\" xlink:href=\"#m19eca7f2ed\" y=\"147.575551\"/>\n     <use style=\"fill:#1f77b4;stroke:#1f77b4;\" x=\"747.75075\" xlink:href=\"#m19eca7f2ed\" y=\"145.745766\"/>\n     <use style=\"fill:#1f77b4;stroke:#1f77b4;\" x=\"750.162029\" xlink:href=\"#m19eca7f2ed\" y=\"132.077915\"/>\n     <use style=\"fill:#1f77b4;stroke:#1f77b4;\" x=\"752.573308\" xlink:href=\"#m19eca7f2ed\" y=\"141.606239\"/>\n     <use style=\"fill:#1f77b4;stroke:#1f77b4;\" x=\"754.984586\" xlink:href=\"#m19eca7f2ed\" y=\"147.804933\"/>\n     <use style=\"fill:#1f77b4;stroke:#1f77b4;\" x=\"757.395865\" xlink:href=\"#m19eca7f2ed\" y=\"140.544478\"/>\n     <use style=\"fill:#1f77b4;stroke:#1f77b4;\" x=\"759.807143\" xlink:href=\"#m19eca7f2ed\" y=\"141.501711\"/>\n     <use style=\"fill:#1f77b4;stroke:#1f77b4;\" x=\"762.218422\" xlink:href=\"#m19eca7f2ed\" y=\"142.531411\"/>\n     <use style=\"fill:#1f77b4;stroke:#1f77b4;\" x=\"764.6297\" xlink:href=\"#m19eca7f2ed\" y=\"133.034289\"/>\n     <use style=\"fill:#1f77b4;stroke:#1f77b4;\" x=\"767.040979\" xlink:href=\"#m19eca7f2ed\" y=\"142.247234\"/>\n     <use style=\"fill:#1f77b4;stroke:#1f77b4;\" x=\"769.452258\" xlink:href=\"#m19eca7f2ed\" y=\"140.745979\"/>\n     <use style=\"fill:#1f77b4;stroke:#1f77b4;\" x=\"771.863536\" xlink:href=\"#m19eca7f2ed\" y=\"152.797656\"/>\n     <use style=\"fill:#1f77b4;stroke:#1f77b4;\" x=\"774.274815\" xlink:href=\"#m19eca7f2ed\" y=\"139.799683\"/>\n     <use style=\"fill:#1f77b4;stroke:#1f77b4;\" x=\"776.686093\" xlink:href=\"#m19eca7f2ed\" y=\"139.17274\"/>\n     <use style=\"fill:#1f77b4;stroke:#1f77b4;\" x=\"779.097372\" xlink:href=\"#m19eca7f2ed\" y=\"140.327856\"/>\n     <use style=\"fill:#1f77b4;stroke:#1f77b4;\" x=\"781.50865\" xlink:href=\"#m19eca7f2ed\" y=\"144.989763\"/>\n     <use style=\"fill:#1f77b4;stroke:#1f77b4;\" x=\"783.919929\" xlink:href=\"#m19eca7f2ed\" y=\"144.464039\"/>\n     <use style=\"fill:#1f77b4;stroke:#1f77b4;\" x=\"786.331207\" xlink:href=\"#m19eca7f2ed\" y=\"139.949406\"/>\n     <use style=\"fill:#1f77b4;stroke:#1f77b4;\" x=\"788.742486\" xlink:href=\"#m19eca7f2ed\" y=\"136.591931\"/>\n     <use style=\"fill:#1f77b4;stroke:#1f77b4;\" x=\"791.153765\" xlink:href=\"#m19eca7f2ed\" y=\"156.873928\"/>\n     <use style=\"fill:#1f77b4;stroke:#1f77b4;\" x=\"793.565043\" xlink:href=\"#m19eca7f2ed\" y=\"128.318416\"/>\n     <use style=\"fill:#1f77b4;stroke:#1f77b4;\" x=\"795.976322\" xlink:href=\"#m19eca7f2ed\" y=\"134.918427\"/>\n     <use style=\"fill:#1f77b4;stroke:#1f77b4;\" x=\"798.3876\" xlink:href=\"#m19eca7f2ed\" y=\"139.277299\"/>\n     <use style=\"fill:#1f77b4;stroke:#1f77b4;\" x=\"800.798879\" xlink:href=\"#m19eca7f2ed\" y=\"136.078776\"/>\n     <use style=\"fill:#1f77b4;stroke:#1f77b4;\" x=\"803.210157\" xlink:href=\"#m19eca7f2ed\" y=\"140.912504\"/>\n     <use style=\"fill:#1f77b4;stroke:#1f77b4;\" x=\"805.621436\" xlink:href=\"#m19eca7f2ed\" y=\"143.154713\"/>\n     <use style=\"fill:#1f77b4;stroke:#1f77b4;\" x=\"808.032715\" xlink:href=\"#m19eca7f2ed\" y=\"151.244769\"/>\n     <use style=\"fill:#1f77b4;stroke:#1f77b4;\" x=\"810.443993\" xlink:href=\"#m19eca7f2ed\" y=\"149.624605\"/>\n     <use style=\"fill:#1f77b4;stroke:#1f77b4;\" x=\"812.855272\" xlink:href=\"#m19eca7f2ed\" y=\"132.696572\"/>\n     <use style=\"fill:#1f77b4;stroke:#1f77b4;\" x=\"815.26655\" xlink:href=\"#m19eca7f2ed\" y=\"146.868437\"/>\n     <use style=\"fill:#1f77b4;stroke:#1f77b4;\" x=\"817.677829\" xlink:href=\"#m19eca7f2ed\" y=\"140.239172\"/>\n     <use style=\"fill:#1f77b4;stroke:#1f77b4;\" x=\"820.089107\" xlink:href=\"#m19eca7f2ed\" y=\"148.148599\"/>\n     <use style=\"fill:#1f77b4;stroke:#1f77b4;\" x=\"822.500386\" xlink:href=\"#m19eca7f2ed\" y=\"147.396075\"/>\n     <use style=\"fill:#1f77b4;stroke:#1f77b4;\" x=\"824.911664\" xlink:href=\"#m19eca7f2ed\" y=\"143.355792\"/>\n     <use style=\"fill:#1f77b4;stroke:#1f77b4;\" x=\"827.322943\" xlink:href=\"#m19eca7f2ed\" y=\"142.34118\"/>\n     <use style=\"fill:#1f77b4;stroke:#1f77b4;\" x=\"829.734222\" xlink:href=\"#m19eca7f2ed\" y=\"129.418501\"/>\n     <use style=\"fill:#1f77b4;stroke:#1f77b4;\" x=\"832.1455\" xlink:href=\"#m19eca7f2ed\" y=\"145.162109\"/>\n     <use style=\"fill:#1f77b4;stroke:#1f77b4;\" x=\"834.556779\" xlink:href=\"#m19eca7f2ed\" y=\"139.308195\"/>\n     <use style=\"fill:#1f77b4;stroke:#1f77b4;\" x=\"836.968057\" xlink:href=\"#m19eca7f2ed\" y=\"138.49671\"/>\n     <use style=\"fill:#1f77b4;stroke:#1f77b4;\" x=\"839.379336\" xlink:href=\"#m19eca7f2ed\" y=\"153.866616\"/>\n     <use style=\"fill:#1f77b4;stroke:#1f77b4;\" x=\"841.790614\" xlink:href=\"#m19eca7f2ed\" y=\"135.251235\"/>\n     <use style=\"fill:#1f77b4;stroke:#1f77b4;\" x=\"844.201893\" xlink:href=\"#m19eca7f2ed\" y=\"147.900452\"/>\n     <use style=\"fill:#1f77b4;stroke:#1f77b4;\" x=\"846.613171\" xlink:href=\"#m19eca7f2ed\" y=\"138.242613\"/>\n     <use style=\"fill:#1f77b4;stroke:#1f77b4;\" x=\"849.02445\" xlink:href=\"#m19eca7f2ed\" y=\"127.0241\"/>\n     <use style=\"fill:#1f77b4;stroke:#1f77b4;\" x=\"851.435729\" xlink:href=\"#m19eca7f2ed\" y=\"141.966809\"/>\n     <use style=\"fill:#1f77b4;stroke:#1f77b4;\" x=\"853.847007\" xlink:href=\"#m19eca7f2ed\" y=\"134.790243\"/>\n     <use style=\"fill:#1f77b4;stroke:#1f77b4;\" x=\"856.258286\" xlink:href=\"#m19eca7f2ed\" y=\"146.601819\"/>\n     <use style=\"fill:#1f77b4;stroke:#1f77b4;\" x=\"858.669564\" xlink:href=\"#m19eca7f2ed\" y=\"136.035433\"/>\n     <use style=\"fill:#1f77b4;stroke:#1f77b4;\" x=\"861.080843\" xlink:href=\"#m19eca7f2ed\" y=\"140.039898\"/>\n     <use style=\"fill:#1f77b4;stroke:#1f77b4;\" x=\"863.492121\" xlink:href=\"#m19eca7f2ed\" y=\"147.316727\"/>\n     <use style=\"fill:#1f77b4;stroke:#1f77b4;\" x=\"865.9034\" xlink:href=\"#m19eca7f2ed\" y=\"145.994136\"/>\n     <use style=\"fill:#1f77b4;stroke:#1f77b4;\" x=\"868.314679\" xlink:href=\"#m19eca7f2ed\" y=\"141.071732\"/>\n     <use style=\"fill:#1f77b4;stroke:#1f77b4;\" x=\"870.725957\" xlink:href=\"#m19eca7f2ed\" y=\"139.054183\"/>\n     <use style=\"fill:#1f77b4;stroke:#1f77b4;\" x=\"873.137236\" xlink:href=\"#m19eca7f2ed\" y=\"143.733092\"/>\n     <use style=\"fill:#1f77b4;stroke:#1f77b4;\" x=\"875.548514\" xlink:href=\"#m19eca7f2ed\" y=\"132.569961\"/>\n     <use style=\"fill:#1f77b4;stroke:#1f77b4;\" x=\"877.959793\" xlink:href=\"#m19eca7f2ed\" y=\"139.011503\"/>\n     <use style=\"fill:#1f77b4;stroke:#1f77b4;\" x=\"880.371071\" xlink:href=\"#m19eca7f2ed\" y=\"146.130983\"/>\n     <use style=\"fill:#1f77b4;stroke:#1f77b4;\" x=\"882.78235\" xlink:href=\"#m19eca7f2ed\" y=\"141.265515\"/>\n     <use style=\"fill:#1f77b4;stroke:#1f77b4;\" x=\"885.193628\" xlink:href=\"#m19eca7f2ed\" y=\"126.659265\"/>\n     <use style=\"fill:#1f77b4;stroke:#1f77b4;\" x=\"887.604907\" xlink:href=\"#m19eca7f2ed\" y=\"134.827219\"/>\n     <use style=\"fill:#1f77b4;stroke:#1f77b4;\" x=\"890.016186\" xlink:href=\"#m19eca7f2ed\" y=\"139.697357\"/>\n     <use style=\"fill:#1f77b4;stroke:#1f77b4;\" x=\"892.427464\" xlink:href=\"#m19eca7f2ed\" y=\"131.043661\"/>\n     <use style=\"fill:#1f77b4;stroke:#1f77b4;\" x=\"894.838743\" xlink:href=\"#m19eca7f2ed\" y=\"136.176258\"/>\n     <use style=\"fill:#1f77b4;stroke:#1f77b4;\" x=\"897.250021\" xlink:href=\"#m19eca7f2ed\" y=\"142.331098\"/>\n     <use style=\"fill:#1f77b4;stroke:#1f77b4;\" x=\"899.6613\" xlink:href=\"#m19eca7f2ed\" y=\"136.491687\"/>\n     <use style=\"fill:#1f77b4;stroke:#1f77b4;\" x=\"902.072578\" xlink:href=\"#m19eca7f2ed\" y=\"130.69164\"/>\n     <use style=\"fill:#1f77b4;stroke:#1f77b4;\" x=\"904.483857\" xlink:href=\"#m19eca7f2ed\" y=\"141.69115\"/>\n     <use style=\"fill:#1f77b4;stroke:#1f77b4;\" x=\"906.895136\" xlink:href=\"#m19eca7f2ed\" y=\"144.349375\"/>\n     <use style=\"fill:#1f77b4;stroke:#1f77b4;\" x=\"909.306414\" xlink:href=\"#m19eca7f2ed\" y=\"145.026972\"/>\n     <use style=\"fill:#1f77b4;stroke:#1f77b4;\" x=\"911.717693\" xlink:href=\"#m19eca7f2ed\" y=\"131.499918\"/>\n     <use style=\"fill:#1f77b4;stroke:#1f77b4;\" x=\"914.128971\" xlink:href=\"#m19eca7f2ed\" y=\"144.287144\"/>\n     <use style=\"fill:#1f77b4;stroke:#1f77b4;\" x=\"916.54025\" xlink:href=\"#m19eca7f2ed\" y=\"140.077993\"/>\n     <use style=\"fill:#1f77b4;stroke:#1f77b4;\" x=\"918.951528\" xlink:href=\"#m19eca7f2ed\" y=\"141.33113\"/>\n     <use style=\"fill:#1f77b4;stroke:#1f77b4;\" x=\"921.362807\" xlink:href=\"#m19eca7f2ed\" y=\"137.706843\"/>\n     <use style=\"fill:#1f77b4;stroke:#1f77b4;\" x=\"923.774085\" xlink:href=\"#m19eca7f2ed\" y=\"140.729111\"/>\n     <use style=\"fill:#1f77b4;stroke:#1f77b4;\" x=\"926.185364\" xlink:href=\"#m19eca7f2ed\" y=\"134.39571\"/>\n     <use style=\"fill:#1f77b4;stroke:#1f77b4;\" x=\"928.596643\" xlink:href=\"#m19eca7f2ed\" y=\"134.862835\"/>\n     <use style=\"fill:#1f77b4;stroke:#1f77b4;\" x=\"931.007921\" xlink:href=\"#m19eca7f2ed\" y=\"136.608651\"/>\n    </g>\n   </g>\n   <g id=\"matplotlib.axis_5\">\n    <g id=\"xtick_13\">\n     <g id=\"line2d_29\">\n      <g>\n       <use style=\"stroke:#000000;stroke-width:0.8;\" x=\"689.880065\" xlink:href=\"#m141c70010a\" y=\"294.118125\"/>\n      </g>\n     </g>\n     <g id=\"text_31\">\n      <!-- 0 -->\n      <g transform=\"translate(686.698815 308.716563)scale(0.1 -0.1)\">\n       <use xlink:href=\"#DejaVuSans-48\"/>\n      </g>\n     </g>\n    </g>\n    <g id=\"xtick_14\">\n     <g id=\"line2d_30\">\n      <g>\n       <use style=\"stroke:#000000;stroke-width:0.8;\" x=\"738.105636\" xlink:href=\"#m141c70010a\" y=\"294.118125\"/>\n      </g>\n     </g>\n     <g id=\"text_32\">\n      <!-- 20 -->\n      <g transform=\"translate(731.743136 308.716563)scale(0.1 -0.1)\">\n       <use xlink:href=\"#DejaVuSans-50\"/>\n       <use x=\"63.623047\" xlink:href=\"#DejaVuSans-48\"/>\n      </g>\n     </g>\n    </g>\n    <g id=\"xtick_15\">\n     <g id=\"line2d_31\">\n      <g>\n       <use style=\"stroke:#000000;stroke-width:0.8;\" x=\"786.331207\" xlink:href=\"#m141c70010a\" y=\"294.118125\"/>\n      </g>\n     </g>\n     <g id=\"text_33\">\n      <!-- 40 -->\n      <g transform=\"translate(779.968707 308.716563)scale(0.1 -0.1)\">\n       <use xlink:href=\"#DejaVuSans-52\"/>\n       <use x=\"63.623047\" xlink:href=\"#DejaVuSans-48\"/>\n      </g>\n     </g>\n    </g>\n    <g id=\"xtick_16\">\n     <g id=\"line2d_32\">\n      <g>\n       <use style=\"stroke:#000000;stroke-width:0.8;\" x=\"834.556779\" xlink:href=\"#m141c70010a\" y=\"294.118125\"/>\n      </g>\n     </g>\n     <g id=\"text_34\">\n      <!-- 60 -->\n      <g transform=\"translate(828.194279 308.716563)scale(0.1 -0.1)\">\n       <use xlink:href=\"#DejaVuSans-54\"/>\n       <use x=\"63.623047\" xlink:href=\"#DejaVuSans-48\"/>\n      </g>\n     </g>\n    </g>\n    <g id=\"xtick_17\">\n     <g id=\"line2d_33\">\n      <g>\n       <use style=\"stroke:#000000;stroke-width:0.8;\" x=\"882.78235\" xlink:href=\"#m141c70010a\" y=\"294.118125\"/>\n      </g>\n     </g>\n     <g id=\"text_35\">\n      <!-- 80 -->\n      <g transform=\"translate(876.41985 308.716563)scale(0.1 -0.1)\">\n       <use xlink:href=\"#DejaVuSans-56\"/>\n       <use x=\"63.623047\" xlink:href=\"#DejaVuSans-48\"/>\n      </g>\n     </g>\n    </g>\n    <g id=\"xtick_18\">\n     <g id=\"line2d_34\">\n      <g>\n       <use style=\"stroke:#000000;stroke-width:0.8;\" x=\"931.007921\" xlink:href=\"#m141c70010a\" y=\"294.118125\"/>\n      </g>\n     </g>\n     <g id=\"text_36\">\n      <!-- 100 -->\n      <g transform=\"translate(921.464171 308.716563)scale(0.1 -0.1)\">\n       <use xlink:href=\"#DejaVuSans-49\"/>\n       <use x=\"63.623047\" xlink:href=\"#DejaVuSans-48\"/>\n       <use x=\"127.246094\" xlink:href=\"#DejaVuSans-48\"/>\n      </g>\n     </g>\n    </g>\n    <g id=\"text_37\">\n     <!-- Sample # -->\n     <g transform=\"translate(787.122289 322.394687)scale(0.1 -0.1)\">\n      <use xlink:href=\"#DejaVuSans-83\"/>\n      <use x=\"63.476562\" xlink:href=\"#DejaVuSans-97\"/>\n      <use x=\"124.755859\" xlink:href=\"#DejaVuSans-109\"/>\n      <use x=\"222.167969\" xlink:href=\"#DejaVuSans-112\"/>\n      <use x=\"285.644531\" xlink:href=\"#DejaVuSans-108\"/>\n      <use x=\"313.427734\" xlink:href=\"#DejaVuSans-101\"/>\n      <use x=\"374.951172\" xlink:href=\"#DejaVuSans-32\"/>\n      <use x=\"406.738281\" xlink:href=\"#DejaVuSans-35\"/>\n     </g>\n    </g>\n   </g>\n   <g id=\"matplotlib.axis_6\">\n    <g id=\"ytick_13\">\n     <g id=\"line2d_35\">\n      <g>\n       <use style=\"stroke:#000000;stroke-width:0.8;\" x=\"680.355515\" xlink:href=\"#me51b785b83\" y=\"294.118125\"/>\n      </g>\n     </g>\n     <g id=\"text_38\">\n      <!-- 0.04 -->\n      <g transform=\"translate(651.08989 297.917344)scale(0.1 -0.1)\">\n       <use xlink:href=\"#DejaVuSans-48\"/>\n       <use x=\"63.623047\" xlink:href=\"#DejaVuSans-46\"/>\n       <use x=\"95.410156\" xlink:href=\"#DejaVuSans-48\"/>\n       <use x=\"159.033203\" xlink:href=\"#DejaVuSans-52\"/>\n      </g>\n     </g>\n    </g>\n    <g id=\"ytick_14\">\n     <g id=\"line2d_36\">\n      <g>\n       <use style=\"stroke:#000000;stroke-width:0.8;\" x=\"680.355515\" xlink:href=\"#me51b785b83\" y=\"239.758125\"/>\n      </g>\n     </g>\n     <g id=\"text_39\">\n      <!-- 0.05 -->\n      <g transform=\"translate(651.08989 243.557344)scale(0.1 -0.1)\">\n       <use xlink:href=\"#DejaVuSans-48\"/>\n       <use x=\"63.623047\" xlink:href=\"#DejaVuSans-46\"/>\n       <use x=\"95.410156\" xlink:href=\"#DejaVuSans-48\"/>\n       <use x=\"159.033203\" xlink:href=\"#DejaVuSans-53\"/>\n      </g>\n     </g>\n    </g>\n    <g id=\"ytick_15\">\n     <g id=\"line2d_37\">\n      <g>\n       <use style=\"stroke:#000000;stroke-width:0.8;\" x=\"680.355515\" xlink:href=\"#me51b785b83\" y=\"185.398125\"/>\n      </g>\n     </g>\n     <g id=\"text_40\">\n      <!-- 0.06 -->\n      <g transform=\"translate(651.08989 189.197344)scale(0.1 -0.1)\">\n       <use xlink:href=\"#DejaVuSans-48\"/>\n       <use x=\"63.623047\" xlink:href=\"#DejaVuSans-46\"/>\n       <use x=\"95.410156\" xlink:href=\"#DejaVuSans-48\"/>\n       <use x=\"159.033203\" xlink:href=\"#DejaVuSans-54\"/>\n      </g>\n     </g>\n    </g>\n    <g id=\"ytick_16\">\n     <g id=\"line2d_38\">\n      <g>\n       <use style=\"stroke:#000000;stroke-width:0.8;\" x=\"680.355515\" xlink:href=\"#me51b785b83\" y=\"131.038125\"/>\n      </g>\n     </g>\n     <g id=\"text_41\">\n      <!-- 0.07 -->\n      <g transform=\"translate(651.08989 134.837344)scale(0.1 -0.1)\">\n       <use xlink:href=\"#DejaVuSans-48\"/>\n       <use x=\"63.623047\" xlink:href=\"#DejaVuSans-46\"/>\n       <use x=\"95.410156\" xlink:href=\"#DejaVuSans-48\"/>\n       <use x=\"159.033203\" xlink:href=\"#DejaVuSans-55\"/>\n      </g>\n     </g>\n    </g>\n    <g id=\"ytick_17\">\n     <g id=\"line2d_39\">\n      <g>\n       <use style=\"stroke:#000000;stroke-width:0.8;\" x=\"680.355515\" xlink:href=\"#me51b785b83\" y=\"76.678125\"/>\n      </g>\n     </g>\n     <g id=\"text_42\">\n      <!-- 0.08 -->\n      <g transform=\"translate(651.08989 80.477344)scale(0.1 -0.1)\">\n       <use xlink:href=\"#DejaVuSans-48\"/>\n       <use x=\"63.623047\" xlink:href=\"#DejaVuSans-46\"/>\n       <use x=\"95.410156\" xlink:href=\"#DejaVuSans-48\"/>\n       <use x=\"159.033203\" xlink:href=\"#DejaVuSans-56\"/>\n      </g>\n     </g>\n    </g>\n    <g id=\"ytick_18\">\n     <g id=\"line2d_40\">\n      <g>\n       <use style=\"stroke:#000000;stroke-width:0.8;\" x=\"680.355515\" xlink:href=\"#me51b785b83\" y=\"22.318125\"/>\n      </g>\n     </g>\n     <g id=\"text_43\">\n      <!-- 0.09 -->\n      <g transform=\"translate(651.08989 26.117344)scale(0.1 -0.1)\">\n       <use xlink:href=\"#DejaVuSans-48\"/>\n       <use x=\"63.623047\" xlink:href=\"#DejaVuSans-46\"/>\n       <use x=\"95.410156\" xlink:href=\"#DejaVuSans-48\"/>\n       <use x=\"159.033203\" xlink:href=\"#DejaVuSans-57\"/>\n      </g>\n     </g>\n    </g>\n    <g id=\"text_44\">\n     <!-- Variance of Sampling Mean -->\n     <g transform=\"translate(645.010202 226.432187)rotate(-90)scale(0.1 -0.1)\">\n      <use xlink:href=\"#DejaVuSans-86\"/>\n      <use x=\"60.658203\" xlink:href=\"#DejaVuSans-97\"/>\n      <use x=\"121.9375\" xlink:href=\"#DejaVuSans-114\"/>\n      <use x=\"163.050781\" xlink:href=\"#DejaVuSans-105\"/>\n      <use x=\"190.833984\" xlink:href=\"#DejaVuSans-97\"/>\n      <use x=\"252.113281\" xlink:href=\"#DejaVuSans-110\"/>\n      <use x=\"315.492188\" xlink:href=\"#DejaVuSans-99\"/>\n      <use x=\"370.472656\" xlink:href=\"#DejaVuSans-101\"/>\n      <use x=\"431.996094\" xlink:href=\"#DejaVuSans-32\"/>\n      <use x=\"463.783203\" xlink:href=\"#DejaVuSans-111\"/>\n      <use x=\"524.964844\" xlink:href=\"#DejaVuSans-102\"/>\n      <use x=\"560.169922\" xlink:href=\"#DejaVuSans-32\"/>\n      <use x=\"591.957031\" xlink:href=\"#DejaVuSans-83\"/>\n      <use x=\"655.433594\" xlink:href=\"#DejaVuSans-97\"/>\n      <use x=\"716.712891\" xlink:href=\"#DejaVuSans-109\"/>\n      <use x=\"814.125\" xlink:href=\"#DejaVuSans-112\"/>\n      <use x=\"877.601562\" xlink:href=\"#DejaVuSans-108\"/>\n      <use x=\"905.384766\" xlink:href=\"#DejaVuSans-105\"/>\n      <use x=\"933.167969\" xlink:href=\"#DejaVuSans-110\"/>\n      <use x=\"996.546875\" xlink:href=\"#DejaVuSans-103\"/>\n      <use x=\"1060.023438\" xlink:href=\"#DejaVuSans-32\"/>\n      <use x=\"1091.810547\" xlink:href=\"#DejaVuSans-77\"/>\n      <use x=\"1178.089844\" xlink:href=\"#DejaVuSans-101\"/>\n      <use x=\"1239.613281\" xlink:href=\"#DejaVuSans-97\"/>\n      <use x=\"1300.892578\" xlink:href=\"#DejaVuSans-110\"/>\n     </g>\n    </g>\n   </g>\n   <g id=\"line2d_41\">\n    <path clip-path=\"url(#p1415350220)\" d=\"M 680.355515 139.725427 \nL 942.94375 139.725427 \n\" style=\"fill:none;stroke:#1f77b4;stroke-linecap:square;stroke-width:1.5;\"/>\n   </g>\n   <g id=\"line2d_42\">\n    <path clip-path=\"url(#p1415350220)\" d=\"M 680.355515 221.702118 \nL 942.94375 221.702118 \n\" style=\"fill:none;stroke:#ff0000;stroke-linecap:square;stroke-width:1.5;\"/>\n   </g>\n   <g id=\"patch_13\">\n    <path d=\"M 680.355515 294.118125 \nL 680.355515 22.318125 \n\" style=\"fill:none;stroke:#000000;stroke-linecap:square;stroke-linejoin:miter;stroke-width:0.8;\"/>\n   </g>\n   <g id=\"patch_14\">\n    <path d=\"M 942.94375 294.118125 \nL 942.94375 22.318125 \n\" style=\"fill:none;stroke:#000000;stroke-linecap:square;stroke-linejoin:miter;stroke-width:0.8;\"/>\n   </g>\n   <g id=\"patch_15\">\n    <path d=\"M 680.355515 294.118125 \nL 942.94375 294.118125 \n\" style=\"fill:none;stroke:#000000;stroke-linecap:square;stroke-linejoin:miter;stroke-width:0.8;\"/>\n   </g>\n   <g id=\"patch_16\">\n    <path d=\"M 680.355515 22.318125 \nL 942.94375 22.318125 \n\" style=\"fill:none;stroke:#000000;stroke-linecap:square;stroke-linejoin:miter;stroke-width:0.8;\"/>\n   </g>\n   <g id=\"text_45\">\n    <!-- Stratified sampling by LAM -->\n    <defs>\n     <path d=\"M 48.6875 27.296875 \nQ 48.6875 37.203125 44.609375 42.84375 \nQ 40.53125 48.484375 33.40625 48.484375 \nQ 26.265625 48.484375 22.1875 42.84375 \nQ 18.109375 37.203125 18.109375 27.296875 \nQ 18.109375 17.390625 22.1875 11.75 \nQ 26.265625 6.109375 33.40625 6.109375 \nQ 40.53125 6.109375 44.609375 11.75 \nQ 48.6875 17.390625 48.6875 27.296875 \nz\nM 18.109375 46.390625 \nQ 20.953125 51.265625 25.265625 53.625 \nQ 29.59375 56 35.59375 56 \nQ 45.5625 56 51.78125 48.09375 \nQ 58.015625 40.1875 58.015625 27.296875 \nQ 58.015625 14.40625 51.78125 6.484375 \nQ 45.5625 -1.421875 35.59375 -1.421875 \nQ 29.59375 -1.421875 25.265625 0.953125 \nQ 20.953125 3.328125 18.109375 8.203125 \nL 18.109375 0 \nL 9.078125 0 \nL 9.078125 75.984375 \nL 18.109375 75.984375 \nz\n\" id=\"DejaVuSans-98\"/>\n     <path d=\"M 9.8125 72.90625 \nL 19.671875 72.90625 \nL 19.671875 8.296875 \nL 55.171875 8.296875 \nL 55.171875 0 \nL 9.8125 0 \nz\n\" id=\"DejaVuSans-76\"/>\n     <path d=\"M 34.1875 63.1875 \nL 20.796875 26.90625 \nL 47.609375 26.90625 \nz\nM 28.609375 72.90625 \nL 39.796875 72.90625 \nL 67.578125 0 \nL 57.328125 0 \nL 50.6875 18.703125 \nL 17.828125 18.703125 \nL 11.1875 0 \nL 0.78125 0 \nz\n\" id=\"DejaVuSans-65\"/>\n    </defs>\n    <g transform=\"translate(730.80432 16.318125)scale(0.12 -0.12)\">\n     <use xlink:href=\"#DejaVuSans-83\"/>\n     <use x=\"63.476562\" xlink:href=\"#DejaVuSans-116\"/>\n     <use x=\"102.685547\" xlink:href=\"#DejaVuSans-114\"/>\n     <use x=\"143.798828\" xlink:href=\"#DejaVuSans-97\"/>\n     <use x=\"205.078125\" xlink:href=\"#DejaVuSans-116\"/>\n     <use x=\"244.287109\" xlink:href=\"#DejaVuSans-105\"/>\n     <use x=\"272.070312\" xlink:href=\"#DejaVuSans-102\"/>\n     <use x=\"307.275391\" xlink:href=\"#DejaVuSans-105\"/>\n     <use x=\"335.058594\" xlink:href=\"#DejaVuSans-101\"/>\n     <use x=\"396.582031\" xlink:href=\"#DejaVuSans-100\"/>\n     <use x=\"460.058594\" xlink:href=\"#DejaVuSans-32\"/>\n     <use x=\"491.845703\" xlink:href=\"#DejaVuSans-115\"/>\n     <use x=\"543.945312\" xlink:href=\"#DejaVuSans-97\"/>\n     <use x=\"605.224609\" xlink:href=\"#DejaVuSans-109\"/>\n     <use x=\"702.636719\" xlink:href=\"#DejaVuSans-112\"/>\n     <use x=\"766.113281\" xlink:href=\"#DejaVuSans-108\"/>\n     <use x=\"793.896484\" xlink:href=\"#DejaVuSans-105\"/>\n     <use x=\"821.679688\" xlink:href=\"#DejaVuSans-110\"/>\n     <use x=\"885.058594\" xlink:href=\"#DejaVuSans-103\"/>\n     <use x=\"948.535156\" xlink:href=\"#DejaVuSans-32\"/>\n     <use x=\"980.322266\" xlink:href=\"#DejaVuSans-98\"/>\n     <use x=\"1043.798828\" xlink:href=\"#DejaVuSans-121\"/>\n     <use x=\"1102.978516\" xlink:href=\"#DejaVuSans-32\"/>\n     <use x=\"1134.765625\" xlink:href=\"#DejaVuSans-76\"/>\n     <use x=\"1192.728516\" xlink:href=\"#DejaVuSans-65\"/>\n     <use x=\"1261.136719\" xlink:href=\"#DejaVuSans-77\"/>\n    </g>\n   </g>\n  </g>\n </g>\n <defs>\n  <clipPath id=\"p024db48948\">\n   <rect height=\"271.8\" width=\"262.588235\" x=\"50.14375\" y=\"22.318125\"/>\n  </clipPath>\n  <clipPath id=\"pc46ad8dcdb\">\n   <rect height=\"271.8\" width=\"262.588235\" x=\"365.249632\" y=\"22.318125\"/>\n  </clipPath>\n  <clipPath id=\"p1415350220\">\n   <rect height=\"271.8\" width=\"262.588235\" x=\"680.355515\" y=\"22.318125\"/>\n  </clipPath>\n </defs>\n</svg>\n",
      "image/png": "[encoded data removed]"
     },
     "metadata": {
      "needs_background": "light"
     }
    }
   ],
   "source": [
    "samplingratio = 1/5\n",
    "\n",
    "#first two already exist\n",
    "\n",
    "\n",
    "\n",
    "sample_var_Stratified_new = []\n",
    "sample_mean_Stratified_new = []\n",
    "for i in range(100):\n",
    "    sample = df[pd.notnull(df['LAM'])].groupby('LAM').apply(lambda x: x.sample(frac=samplingratio,random_state=i))\n",
    "    sample_var_Stratified_new.append((sample.Finishing.var()/sample.shape[0])*(1-(sample.shape[0]-1)/(N-1)))\n",
    "    sample_mean_Stratified_new.append(sample.Finishing.mean())\n",
    "\n",
    "\n",
    "\n",
    "\n",
    "plt.figure(figsize=(16,5))\n",
    "\n",
    "plt.subplot(131)\n",
    "plt.scatter(range(1,101), sample_var_Simple)\n",
    "plt.axhline(np.mean(sample_var_Simple))\n",
    "plt.axhline(np.var(sample_mean_Simple), color = 'red')\n",
    "plt.ylim(0.04, 0.09)\n",
    "plt.xlabel(\"Sample #\")\n",
    "plt.ylabel(\"Variance of Sampling Mean\")\n",
    "plt.title(\"SRS (without replacement)\")\n",
    "\n",
    "plt.subplot(132)\n",
    "plt.scatter(range(1,101), sample_var_Stratified)\n",
    "plt.axhline(np.mean(sample_var_Stratified))\n",
    "plt.axhline(np.var(sample_mean_Stratified), color = 'red')\n",
    "plt.ylim(0.04, 0.09)\n",
    "plt.xlabel(\"Sample #\")\n",
    "plt.ylabel(\"Variance of Sampling Mean\")\n",
    "plt.title(\"Stratified sampling py Position\")\n",
    "\n",
    "plt.subplot(133)\n",
    "plt.scatter(range(1,101), sample_var_Stratified_new)\n",
    "plt.axhline(np.mean(sample_var_Stratified_new))\n",
    "plt.axhline(np.var(sample_mean_Stratified_new), color = 'red')\n",
    "plt.ylim(0.04, 0.09)\n",
    "plt.xlabel(\"Sample #\")\n",
    "plt.ylabel(\"Variance of Sampling Mean\")\n",
    "plt.title(\"Stratified sampling by LAM\")\n",
    "\n",
    "plt.show()"
   ]
  },
  {
   "source": [
    "### First we will drop all numeric columns, since most of them are score and are discrete. Then add back age, special( we don't use such things like ID and Jersey number as it probably makes no meaning), remove columns which represent links, Name is also not interesting for us"
   ],
   "cell_type": "markdown",
   "metadata": {}
  },
  {
   "cell_type": "code",
   "execution_count": 112,
   "metadata": {},
   "outputs": [],
   "source": [
    "columns_new = df.dtypes[(df.dtypes!='int64') & (df.dtypes != 'float64')].index.to_list()\n",
    "to_remove = ['Name','Photo','Flag', 'Club Logo']\n",
    "for i in to_remove:\n",
    "    columns_new.remove(i)\n",
    "columns_new = columns_new+['Age', 'Special']"
   ]
  },
  {
   "cell_type": "code",
   "execution_count": 113,
   "metadata": {},
   "outputs": [
    {
     "output_type": "execute_result",
     "data": {
      "text/plain": [
       "      Nationality                 Club    Value   Wage Preferred Foot  \\\n",
       "0       Argentina         FC Barcelona  €110.5M  €565K           Left   \n",
       "1        Portugal             Juventus     €77M  €405K          Right   \n",
       "2          Brazil  Paris Saint-Germain  €118.5M  €290K          Right   \n",
       "3           Spain    Manchester United     €72M  €260K          Right   \n",
       "4         Belgium      Manchester City    €102M  €355K          Right   \n",
       "...           ...                  ...      ...    ...            ...   \n",
       "18202     England      Crewe Alexandra     €60K    €1K          Right   \n",
       "18203      Sweden       Trelleborgs FF     €60K    €1K          Right   \n",
       "18204     England     Cambridge United     €60K    €1K          Right   \n",
       "18205     England      Tranmere Rovers     €60K    €1K          Right   \n",
       "18206     England      Tranmere Rovers     €60K    €1K          Right   \n",
       "\n",
       "            Work Rate   Body Type Real Face Position        Joined  ...   RDM  \\\n",
       "0      Medium/ Medium       Messi       Yes       RF   Jul 1, 2004  ...  61+2   \n",
       "1           High/ Low  C. Ronaldo       Yes       ST  Jul 10, 2018  ...  61+3   \n",
       "2        High/ Medium      Neymar       Yes       LW   Aug 3, 2017  ...  60+3   \n",
       "3      Medium/ Medium        Lean       Yes       GK   Jul 1, 2011  ...   NaN   \n",
       "4          High/ High      Normal       Yes      RCM  Aug 30, 2015  ...  77+3   \n",
       "...               ...         ...       ...      ...           ...  ...   ...   \n",
       "18202  Medium/ Medium        Lean        No       CM   May 3, 2017  ...  45+2   \n",
       "18203  Medium/ Medium      Normal        No       ST  Mar 19, 2018  ...  31+2   \n",
       "18204  Medium/ Medium      Normal        No       ST   Jul 1, 2017  ...  30+2   \n",
       "18205  Medium/ Medium        Lean        No       RW  Apr 24, 2018  ...  32+2   \n",
       "18206  Medium/ Medium        Lean        No       CM  Oct 30, 2018  ...  46+2   \n",
       "\n",
       "        RWB    LB   LCB    CB   RCB    RB Release Clause Age Special  \n",
       "0      64+2  59+2  47+2  47+2  47+2  59+2        €226.5M  31    2202  \n",
       "1      65+3  61+3  53+3  53+3  53+3  61+3        €127.1M  33    2228  \n",
       "2      65+3  60+3  47+3  47+3  47+3  60+3        €228.1M  26    2143  \n",
       "3       NaN   NaN   NaN   NaN   NaN   NaN        €138.6M  27    1471  \n",
       "4      77+3  73+3  66+3  66+3  66+3  73+3        €196.4M  27    2281  \n",
       "...     ...   ...   ...   ...   ...   ...            ...  ..     ...  \n",
       "18202  44+2  45+2  45+2  45+2  45+2  45+2          €143K  19    1307  \n",
       "18203  30+2  29+2  32+2  32+2  32+2  29+2          €113K  19    1098  \n",
       "18204  34+2  33+2  28+2  28+2  28+2  33+2          €165K  16    1189  \n",
       "18205  36+2  35+2  31+2  31+2  31+2  35+2          €143K  17    1228  \n",
       "18206  46+2  46+2  47+2  47+2  47+2  46+2          €165K  16    1321  \n",
       "\n",
       "[18207 rows x 43 columns]"
      ],
      "text/html": "<div>\n<style scoped>\n    .dataframe tbody tr th:only-of-type {\n        vertical-align: middle;\n    }\n\n    .dataframe tbody tr th {\n        vertical-align: top;\n    }\n\n    .dataframe thead th {\n        text-align: right;\n    }\n</style>\n<table border=\"1\" class=\"dataframe\">\n  <thead>\n    <tr style=\"text-align: right;\">\n      <th></th>\n      <th>Nationality</th>\n      <th>Club</th>\n      <th>Value</th>\n      <th>Wage</th>\n      <th>Preferred Foot</th>\n      <th>Work Rate</th>\n      <th>Body Type</th>\n      <th>Real Face</th>\n      <th>Position</th>\n      <th>Joined</th>\n      <th>...</th>\n      <th>RDM</th>\n      <th>RWB</th>\n      <th>LB</th>\n      <th>LCB</th>\n      <th>CB</th>\n      <th>RCB</th>\n      <th>RB</th>\n      <th>Release Clause</th>\n      <th>Age</th>\n      <th>Special</th>\n    </tr>\n  </thead>\n  <tbody>\n    <tr>\n      <th>0</th>\n      <td>Argentina</td>\n      <td>FC Barcelona</td>\n      <td>€110.5M</td>\n      <td>€565K</td>\n      <td>Left</td>\n      <td>Medium/ Medium</td>\n      <td>Messi</td>\n      <td>Yes</td>\n      <td>RF</td>\n      <td>Jul 1, 2004</td>\n      <td>...</td>\n      <td>61+2</td>\n      <td>64+2</td>\n      <td>59+2</td>\n      <td>47+2</td>\n      <td>47+2</td>\n      <td>47+2</td>\n      <td>59+2</td>\n      <td>€226.5M</td>\n      <td>31</td>\n      <td>2202</td>\n    </tr>\n    <tr>\n      <th>1</th>\n      <td>Portugal</td>\n      <td>Juventus</td>\n      <td>€77M</td>\n      <td>€405K</td>\n      <td>Right</td>\n      <td>High/ Low</td>\n      <td>C. Ronaldo</td>\n      <td>Yes</td>\n      <td>ST</td>\n      <td>Jul 10, 2018</td>\n      <td>...</td>\n      <td>61+3</td>\n      <td>65+3</td>\n      <td>61+3</td>\n      <td>53+3</td>\n      <td>53+3</td>\n      <td>53+3</td>\n      <td>61+3</td>\n      <td>€127.1M</td>\n      <td>33</td>\n      <td>2228</td>\n    </tr>\n    <tr>\n      <th>2</th>\n      <td>Brazil</td>\n      <td>Paris Saint-Germain</td>\n      <td>€118.5M</td>\n      <td>€290K</td>\n      <td>Right</td>\n      <td>High/ Medium</td>\n      <td>Neymar</td>\n      <td>Yes</td>\n      <td>LW</td>\n      <td>Aug 3, 2017</td>\n      <td>...</td>\n      <td>60+3</td>\n      <td>65+3</td>\n      <td>60+3</td>\n      <td>47+3</td>\n      <td>47+3</td>\n      <td>47+3</td>\n      <td>60+3</td>\n      <td>€228.1M</td>\n      <td>26</td>\n      <td>2143</td>\n    </tr>\n    <tr>\n      <th>3</th>\n      <td>Spain</td>\n      <td>Manchester United</td>\n      <td>€72M</td>\n      <td>€260K</td>\n      <td>Right</td>\n      <td>Medium/ Medium</td>\n      <td>Lean</td>\n      <td>Yes</td>\n      <td>GK</td>\n      <td>Jul 1, 2011</td>\n      <td>...</td>\n      <td>NaN</td>\n      <td>NaN</td>\n      <td>NaN</td>\n      <td>NaN</td>\n      <td>NaN</td>\n      <td>NaN</td>\n      <td>NaN</td>\n      <td>€138.6M</td>\n      <td>27</td>\n      <td>1471</td>\n    </tr>\n    <tr>\n      <th>4</th>\n      <td>Belgium</td>\n      <td>Manchester City</td>\n      <td>€102M</td>\n      <td>€355K</td>\n      <td>Right</td>\n      <td>High/ High</td>\n      <td>Normal</td>\n      <td>Yes</td>\n      <td>RCM</td>\n      <td>Aug 30, 2015</td>\n      <td>...</td>\n      <td>77+3</td>\n      <td>77+3</td>\n      <td>73+3</td>\n      <td>66+3</td>\n      <td>66+3</td>\n      <td>66+3</td>\n      <td>73+3</td>\n      <td>€196.4M</td>\n      <td>27</td>\n      <td>2281</td>\n    </tr>\n    <tr>\n      <th>...</th>\n      <td>...</td>\n      <td>...</td>\n      <td>...</td>\n      <td>...</td>\n      <td>...</td>\n      <td>...</td>\n      <td>...</td>\n      <td>...</td>\n      <td>...</td>\n      <td>...</td>\n      <td>...</td>\n      <td>...</td>\n      <td>...</td>\n      <td>...</td>\n      <td>...</td>\n      <td>...</td>\n      <td>...</td>\n      <td>...</td>\n      <td>...</td>\n      <td>...</td>\n      <td>...</td>\n    </tr>\n    <tr>\n      <th>18202</th>\n      <td>England</td>\n      <td>Crewe Alexandra</td>\n      <td>€60K</td>\n      <td>€1K</td>\n      <td>Right</td>\n      <td>Medium/ Medium</td>\n      <td>Lean</td>\n      <td>No</td>\n      <td>CM</td>\n      <td>May 3, 2017</td>\n      <td>...</td>\n      <td>45+2</td>\n      <td>44+2</td>\n      <td>45+2</td>\n      <td>45+2</td>\n      <td>45+2</td>\n      <td>45+2</td>\n      <td>45+2</td>\n      <td>€143K</td>\n      <td>19</td>\n      <td>1307</td>\n    </tr>\n    <tr>\n      <th>18203</th>\n      <td>Sweden</td>\n      <td>Trelleborgs FF</td>\n      <td>€60K</td>\n      <td>€1K</td>\n      <td>Right</td>\n      <td>Medium/ Medium</td>\n      <td>Normal</td>\n      <td>No</td>\n      <td>ST</td>\n      <td>Mar 19, 2018</td>\n      <td>...</td>\n      <td>31+2</td>\n      <td>30+2</td>\n      <td>29+2</td>\n      <td>32+2</td>\n      <td>32+2</td>\n      <td>32+2</td>\n      <td>29+2</td>\n      <td>€113K</td>\n      <td>19</td>\n      <td>1098</td>\n    </tr>\n    <tr>\n      <th>18204</th>\n      <td>England</td>\n      <td>Cambridge United</td>\n      <td>€60K</td>\n      <td>€1K</td>\n      <td>Right</td>\n      <td>Medium/ Medium</td>\n      <td>Normal</td>\n      <td>No</td>\n      <td>ST</td>\n      <td>Jul 1, 2017</td>\n      <td>...</td>\n      <td>30+2</td>\n      <td>34+2</td>\n      <td>33+2</td>\n      <td>28+2</td>\n      <td>28+2</td>\n      <td>28+2</td>\n      <td>33+2</td>\n      <td>€165K</td>\n      <td>16</td>\n      <td>1189</td>\n    </tr>\n    <tr>\n      <th>18205</th>\n      <td>England</td>\n      <td>Tranmere Rovers</td>\n      <td>€60K</td>\n      <td>€1K</td>\n      <td>Right</td>\n      <td>Medium/ Medium</td>\n      <td>Lean</td>\n      <td>No</td>\n      <td>RW</td>\n      <td>Apr 24, 2018</td>\n      <td>...</td>\n      <td>32+2</td>\n      <td>36+2</td>\n      <td>35+2</td>\n      <td>31+2</td>\n      <td>31+2</td>\n      <td>31+2</td>\n      <td>35+2</td>\n      <td>€143K</td>\n      <td>17</td>\n      <td>1228</td>\n    </tr>\n    <tr>\n      <th>18206</th>\n      <td>England</td>\n      <td>Tranmere Rovers</td>\n      <td>€60K</td>\n      <td>€1K</td>\n      <td>Right</td>\n      <td>Medium/ Medium</td>\n      <td>Lean</td>\n      <td>No</td>\n      <td>CM</td>\n      <td>Oct 30, 2018</td>\n      <td>...</td>\n      <td>46+2</td>\n      <td>46+2</td>\n      <td>46+2</td>\n      <td>47+2</td>\n      <td>47+2</td>\n      <td>47+2</td>\n      <td>46+2</td>\n      <td>€165K</td>\n      <td>16</td>\n      <td>1321</td>\n    </tr>\n  </tbody>\n</table>\n<p>18207 rows × 43 columns</p>\n</div>"
     },
     "metadata": {},
     "execution_count": 113
    }
   ],
   "source": [
    "df[columns_new]"
   ]
  },
  {
   "source": [
    "### Now there's a column with Positions which looks duplicated, we will remove those rows"
   ],
   "cell_type": "markdown",
   "metadata": {}
  },
  {
   "cell_type": "code",
   "execution_count": 114,
   "metadata": {},
   "outputs": [],
   "source": [
    "dup = df[['LS', 'ST', 'RS', 'LW', 'LF', 'CF', 'RF', 'RW', 'LAM', 'CAM', 'RAM', 'LM', 'LCM', 'CM', 'RCM', 'RM', 'LWB', 'LDM', 'CDM', 'RDM', 'RWB', 'LB', 'LCB', 'CB','RCB', 'RB']].T.drop_duplicates()"
   ]
  },
  {
   "cell_type": "code",
   "execution_count": 115,
   "metadata": {},
   "outputs": [],
   "source": [
    "all_positions = ['LS', 'ST', 'RS', 'LW', 'LF', 'CF', 'RF', 'RW', 'LAM', 'CAM', 'RAM', 'LM', 'LCM', 'CM', 'RCM', 'RM', 'LWB', 'LDM', 'CDM', 'RDM', 'RWB', 'LB', 'LCB', 'CB','RCB', 'RB']\n",
    "unique_positions = dup.index.to_list()\n",
    "for i in all_positions:\n",
    "    if i in unique_positions:\n",
    "        continue\n",
    "    else:\n",
    "        columns_new.remove(i)\n"
   ]
  },
  {
   "cell_type": "code",
   "execution_count": 116,
   "metadata": {},
   "outputs": [
    {
     "output_type": "execute_result",
     "data": {
      "text/plain": [
       "Index(['Nationality', 'Club', 'Value', 'Wage', 'Preferred Foot', 'Work Rate',\n",
       "       'Body Type', 'Real Face', 'Position', 'Joined', 'Loaned From',\n",
       "       'Contract Valid Until', 'Height', 'Weight', 'LS', 'LW', 'LF', 'LAM',\n",
       "       'LM', 'LCM', 'LWB', 'LDM', 'LB', 'LCB', 'Release Clause', 'Age',\n",
       "       'Special'],\n",
       "      dtype='object')"
      ]
     },
     "metadata": {},
     "execution_count": 116
    }
   ],
   "source": [
    "df[columns_new].columns"
   ]
  },
  {
   "cell_type": "code",
   "execution_count": 117,
   "metadata": {},
   "outputs": [
    {
     "output_type": "execute_result",
     "data": {
      "text/plain": [
       "      Nationality                 Club    Value   Wage Preferred Foot  \\\n",
       "0       Argentina         FC Barcelona  €110.5M  €565K           Left   \n",
       "1        Portugal             Juventus     €77M  €405K          Right   \n",
       "2          Brazil  Paris Saint-Germain  €118.5M  €290K          Right   \n",
       "3           Spain    Manchester United     €72M  €260K          Right   \n",
       "4         Belgium      Manchester City    €102M  €355K          Right   \n",
       "...           ...                  ...      ...    ...            ...   \n",
       "18202     England      Crewe Alexandra     €60K    €1K          Right   \n",
       "18203      Sweden       Trelleborgs FF     €60K    €1K          Right   \n",
       "18204     England     Cambridge United     €60K    €1K          Right   \n",
       "18205     England      Tranmere Rovers     €60K    €1K          Right   \n",
       "18206     England      Tranmere Rovers     €60K    €1K          Right   \n",
       "\n",
       "            Work Rate   Body Type Real Face Position        Joined  ...   LAM  \\\n",
       "0      Medium/ Medium       Messi       Yes       RF   Jul 1, 2004  ...  93+2   \n",
       "1           High/ Low  C. Ronaldo       Yes       ST  Jul 10, 2018  ...  88+3   \n",
       "2        High/ Medium      Neymar       Yes       LW   Aug 3, 2017  ...  89+3   \n",
       "3      Medium/ Medium        Lean       Yes       GK   Jul 1, 2011  ...   NaN   \n",
       "4          High/ High      Normal       Yes      RCM  Aug 30, 2015  ...  88+3   \n",
       "...               ...         ...       ...      ...           ...  ...   ...   \n",
       "18202  Medium/ Medium        Lean        No       CM   May 3, 2017  ...  45+2   \n",
       "18203  Medium/ Medium      Normal        No       ST  Mar 19, 2018  ...  40+2   \n",
       "18204  Medium/ Medium      Normal        No       ST   Jul 1, 2017  ...  44+2   \n",
       "18205  Medium/ Medium        Lean        No       RW  Apr 24, 2018  ...  45+2   \n",
       "18206  Medium/ Medium        Lean        No       CM  Oct 30, 2018  ...  45+2   \n",
       "\n",
       "         LM   LCM   LWB   LDM    LB   LCB Release Clause Age Special  \n",
       "0      91+2  84+2  64+2  61+2  59+2  47+2        €226.5M  31    2202  \n",
       "1      88+3  81+3  65+3  61+3  61+3  53+3        €127.1M  33    2228  \n",
       "2      88+3  81+3  65+3  60+3  60+3  47+3        €228.1M  26    2143  \n",
       "3       NaN   NaN   NaN   NaN   NaN   NaN        €138.6M  27    1471  \n",
       "4      88+3  87+3  77+3  77+3  73+3  66+3        €196.4M  27    2281  \n",
       "...     ...   ...   ...   ...   ...   ...            ...  ..     ...  \n",
       "18202  44+2  45+2  44+2  45+2  45+2  45+2          €143K  19    1307  \n",
       "18203  38+2  35+2  30+2  31+2  29+2  32+2          €113K  19    1098  \n",
       "18204  44+2  38+2  34+2  30+2  33+2  28+2          €165K  16    1189  \n",
       "18205  46+2  39+2  36+2  32+2  35+2  31+2          €143K  17    1228  \n",
       "18206  46+2  45+2  46+2  46+2  46+2  47+2          €165K  16    1321  \n",
       "\n",
       "[18207 rows x 27 columns]"
      ],
      "text/html": "<div>\n<style scoped>\n    .dataframe tbody tr th:only-of-type {\n        vertical-align: middle;\n    }\n\n    .dataframe tbody tr th {\n        vertical-align: top;\n    }\n\n    .dataframe thead th {\n        text-align: right;\n    }\n</style>\n<table border=\"1\" class=\"dataframe\">\n  <thead>\n    <tr style=\"text-align: right;\">\n      <th></th>\n      <th>Nationality</th>\n      <th>Club</th>\n      <th>Value</th>\n      <th>Wage</th>\n      <th>Preferred Foot</th>\n      <th>Work Rate</th>\n      <th>Body Type</th>\n      <th>Real Face</th>\n      <th>Position</th>\n      <th>Joined</th>\n      <th>...</th>\n      <th>LAM</th>\n      <th>LM</th>\n      <th>LCM</th>\n      <th>LWB</th>\n      <th>LDM</th>\n      <th>LB</th>\n      <th>LCB</th>\n      <th>Release Clause</th>\n      <th>Age</th>\n      <th>Special</th>\n    </tr>\n  </thead>\n  <tbody>\n    <tr>\n      <th>0</th>\n      <td>Argentina</td>\n      <td>FC Barcelona</td>\n      <td>€110.5M</td>\n      <td>€565K</td>\n      <td>Left</td>\n      <td>Medium/ Medium</td>\n      <td>Messi</td>\n      <td>Yes</td>\n      <td>RF</td>\n      <td>Jul 1, 2004</td>\n      <td>...</td>\n      <td>93+2</td>\n      <td>91+2</td>\n      <td>84+2</td>\n      <td>64+2</td>\n      <td>61+2</td>\n      <td>59+2</td>\n      <td>47+2</td>\n      <td>€226.5M</td>\n      <td>31</td>\n      <td>2202</td>\n    </tr>\n    <tr>\n      <th>1</th>\n      <td>Portugal</td>\n      <td>Juventus</td>\n      <td>€77M</td>\n      <td>€405K</td>\n      <td>Right</td>\n      <td>High/ Low</td>\n      <td>C. Ronaldo</td>\n      <td>Yes</td>\n      <td>ST</td>\n      <td>Jul 10, 2018</td>\n      <td>...</td>\n      <td>88+3</td>\n      <td>88+3</td>\n      <td>81+3</td>\n      <td>65+3</td>\n      <td>61+3</td>\n      <td>61+3</td>\n      <td>53+3</td>\n      <td>€127.1M</td>\n      <td>33</td>\n      <td>2228</td>\n    </tr>\n    <tr>\n      <th>2</th>\n      <td>Brazil</td>\n      <td>Paris Saint-Germain</td>\n      <td>€118.5M</td>\n      <td>€290K</td>\n      <td>Right</td>\n      <td>High/ Medium</td>\n      <td>Neymar</td>\n      <td>Yes</td>\n      <td>LW</td>\n      <td>Aug 3, 2017</td>\n      <td>...</td>\n      <td>89+3</td>\n      <td>88+3</td>\n      <td>81+3</td>\n      <td>65+3</td>\n      <td>60+3</td>\n      <td>60+3</td>\n      <td>47+3</td>\n      <td>€228.1M</td>\n      <td>26</td>\n      <td>2143</td>\n    </tr>\n    <tr>\n      <th>3</th>\n      <td>Spain</td>\n      <td>Manchester United</td>\n      <td>€72M</td>\n      <td>€260K</td>\n      <td>Right</td>\n      <td>Medium/ Medium</td>\n      <td>Lean</td>\n      <td>Yes</td>\n      <td>GK</td>\n      <td>Jul 1, 2011</td>\n      <td>...</td>\n      <td>NaN</td>\n      <td>NaN</td>\n      <td>NaN</td>\n      <td>NaN</td>\n      <td>NaN</td>\n      <td>NaN</td>\n      <td>NaN</td>\n      <td>€138.6M</td>\n      <td>27</td>\n      <td>1471</td>\n    </tr>\n    <tr>\n      <th>4</th>\n      <td>Belgium</td>\n      <td>Manchester City</td>\n      <td>€102M</td>\n      <td>€355K</td>\n      <td>Right</td>\n      <td>High/ High</td>\n      <td>Normal</td>\n      <td>Yes</td>\n      <td>RCM</td>\n      <td>Aug 30, 2015</td>\n      <td>...</td>\n      <td>88+3</td>\n      <td>88+3</td>\n      <td>87+3</td>\n      <td>77+3</td>\n      <td>77+3</td>\n      <td>73+3</td>\n      <td>66+3</td>\n      <td>€196.4M</td>\n      <td>27</td>\n      <td>2281</td>\n    </tr>\n    <tr>\n      <th>...</th>\n      <td>...</td>\n      <td>...</td>\n      <td>...</td>\n      <td>...</td>\n      <td>...</td>\n      <td>...</td>\n      <td>...</td>\n      <td>...</td>\n      <td>...</td>\n      <td>...</td>\n      <td>...</td>\n      <td>...</td>\n      <td>...</td>\n      <td>...</td>\n      <td>...</td>\n      <td>...</td>\n      <td>...</td>\n      <td>...</td>\n      <td>...</td>\n      <td>...</td>\n      <td>...</td>\n    </tr>\n    <tr>\n      <th>18202</th>\n      <td>England</td>\n      <td>Crewe Alexandra</td>\n      <td>€60K</td>\n      <td>€1K</td>\n      <td>Right</td>\n      <td>Medium/ Medium</td>\n      <td>Lean</td>\n      <td>No</td>\n      <td>CM</td>\n      <td>May 3, 2017</td>\n      <td>...</td>\n      <td>45+2</td>\n      <td>44+2</td>\n      <td>45+2</td>\n      <td>44+2</td>\n      <td>45+2</td>\n      <td>45+2</td>\n      <td>45+2</td>\n      <td>€143K</td>\n      <td>19</td>\n      <td>1307</td>\n    </tr>\n    <tr>\n      <th>18203</th>\n      <td>Sweden</td>\n      <td>Trelleborgs FF</td>\n      <td>€60K</td>\n      <td>€1K</td>\n      <td>Right</td>\n      <td>Medium/ Medium</td>\n      <td>Normal</td>\n      <td>No</td>\n      <td>ST</td>\n      <td>Mar 19, 2018</td>\n      <td>...</td>\n      <td>40+2</td>\n      <td>38+2</td>\n      <td>35+2</td>\n      <td>30+2</td>\n      <td>31+2</td>\n      <td>29+2</td>\n      <td>32+2</td>\n      <td>€113K</td>\n      <td>19</td>\n      <td>1098</td>\n    </tr>\n    <tr>\n      <th>18204</th>\n      <td>England</td>\n      <td>Cambridge United</td>\n      <td>€60K</td>\n      <td>€1K</td>\n      <td>Right</td>\n      <td>Medium/ Medium</td>\n      <td>Normal</td>\n      <td>No</td>\n      <td>ST</td>\n      <td>Jul 1, 2017</td>\n      <td>...</td>\n      <td>44+2</td>\n      <td>44+2</td>\n      <td>38+2</td>\n      <td>34+2</td>\n      <td>30+2</td>\n      <td>33+2</td>\n      <td>28+2</td>\n      <td>€165K</td>\n      <td>16</td>\n      <td>1189</td>\n    </tr>\n    <tr>\n      <th>18205</th>\n      <td>England</td>\n      <td>Tranmere Rovers</td>\n      <td>€60K</td>\n      <td>€1K</td>\n      <td>Right</td>\n      <td>Medium/ Medium</td>\n      <td>Lean</td>\n      <td>No</td>\n      <td>RW</td>\n      <td>Apr 24, 2018</td>\n      <td>...</td>\n      <td>45+2</td>\n      <td>46+2</td>\n      <td>39+2</td>\n      <td>36+2</td>\n      <td>32+2</td>\n      <td>35+2</td>\n      <td>31+2</td>\n      <td>€143K</td>\n      <td>17</td>\n      <td>1228</td>\n    </tr>\n    <tr>\n      <th>18206</th>\n      <td>England</td>\n      <td>Tranmere Rovers</td>\n      <td>€60K</td>\n      <td>€1K</td>\n      <td>Right</td>\n      <td>Medium/ Medium</td>\n      <td>Lean</td>\n      <td>No</td>\n      <td>CM</td>\n      <td>Oct 30, 2018</td>\n      <td>...</td>\n      <td>45+2</td>\n      <td>46+2</td>\n      <td>45+2</td>\n      <td>46+2</td>\n      <td>46+2</td>\n      <td>46+2</td>\n      <td>47+2</td>\n      <td>€165K</td>\n      <td>16</td>\n      <td>1321</td>\n    </tr>\n  </tbody>\n</table>\n<p>18207 rows × 27 columns</p>\n</div>"
     },
     "metadata": {},
     "execution_count": 117
    }
   ],
   "source": [
    "df[columns_new]"
   ]
  },
  {
   "source": [
    "## EDA"
   ],
   "cell_type": "markdown",
   "metadata": {}
  },
  {
   "cell_type": "code",
   "execution_count": 15,
   "metadata": {},
   "outputs": [],
   "source": [
    "import math\n",
    "\n",
    "from sklearn.model_selection import train_test_split, KFold\n",
    "from sklearn.preprocessing import LabelEncoder\n",
    "from sklearn.metrics import mean_squared_error as mse\n",
    "from sklearn.manifold import TSNE\n",
    "\n",
    "#import lightgbm as lgb\n",
    "\n",
    "import plotly.graph_objs as go\n",
    "from plotly.offline import init_notebook_mode, iplot\n",
    "import plotly.express as px\n",
    "\n",
    "#from iso3166 import countries\n",
    "import matplotlib.pyplot as plt"
   ]
  },
  {
   "cell_type": "code",
   "execution_count": 16,
   "metadata": {},
   "outputs": [
    {
     "output_type": "display_data",
     "data": {
      "application/vnd.plotly.v1+json": {
       "config": {
        "plotlyServerURL": "https://plot.ly"
       },
       "data": [
        {
         "alignmentgroup": "True",
         "hovertemplate": "percent=%{x}<br>column=%{y}<extra></extra>",
         "legendgroup": "",
         "marker": {
          "color": "#636efa"
         },
         "name": "",
         "offsetgroup": "",
         "orientation": "h",
         "showlegend": false,
         "textposition": "auto",
         "type": "bar",
         "x": [
          0.26,
          0.26,
          0.26,
          0.26,
          0.26,
          0.26,
          0.26,
          0.26,
          0.26,
          0.26,
          0.26,
          0.26,
          0.26,
          0.26,
          0.26,
          0.26,
          0.26,
          0.26,
          0.26,
          0.26,
          0.26,
          0.26,
          0.26,
          0.26,
          0.26,
          0.26,
          0.26,
          0.26,
          0.26,
          0.26,
          0.26,
          0.26,
          0.26,
          0.26,
          0.26,
          0.26,
          0.26,
          0.26,
          0.26,
          0.26,
          0.26,
          0.26,
          0.26,
          0.33,
          0.33,
          1.32,
          1.59,
          8.53,
          8.59,
          11.45,
          11.45,
          11.45,
          11.45,
          11.45,
          11.45,
          11.45,
          11.45,
          11.45,
          11.45,
          11.45,
          11.45,
          11.45,
          11.45,
          11.45,
          11.45,
          11.45,
          11.45,
          11.45,
          11.45,
          11.45,
          11.45,
          11.45,
          11.45,
          11.45,
          11.45,
          93.06
         ],
         "xaxis": "x",
         "y": [
          "Vision",
          "Aggression",
          "LongShots",
          "Strength",
          "Stamina",
          "Jumping",
          "ShotPower",
          "Balance",
          "Reactions",
          "Agility",
          "Interceptions",
          "SprintSpeed",
          "GKReflexes",
          "BallControl",
          "LongPassing",
          "FKAccuracy",
          "Crossing",
          "Finishing",
          "HeadingAccuracy",
          "ShortPassing",
          "Volleys",
          "Acceleration",
          "Positioning",
          "Curve",
          "Penalties",
          "Preferred Foot",
          "International Reputation",
          "Weak Foot",
          "Skill Moves",
          "Work Rate",
          "Body Type",
          "Real Face",
          "Dribbling",
          "GKPositioning",
          "Weight",
          "GKKicking",
          "GKHandling",
          "GKDiving",
          "SlidingTackle",
          "StandingTackle",
          "Marking",
          "Composure",
          "Height",
          "Jersey Number",
          "Position",
          "Club",
          "Contract Valid Until",
          "Joined",
          "Release Clause",
          "RCB",
          "LS",
          "ST",
          "RS",
          "LW",
          "LF",
          "CF",
          "RF",
          "RW",
          "LAM",
          "CAM",
          "RB",
          "RAM",
          "LCM",
          "CM",
          "RCM",
          "RM",
          "LWB",
          "LDM",
          "CDM",
          "RDM",
          "RWB",
          "LB",
          "CB",
          "LM",
          "LCB",
          "Loaned From"
         ],
         "yaxis": "y"
        }
       ],
       "layout": {
        "barmode": "relative",
        "height": 1300,
        "legend": {
         "tracegroupgap": 0
        },
        "template": {
         "data": {
          "bar": [
           {
            "error_x": {
             "color": "#2a3f5f"
            },
            "error_y": {
             "color": "#2a3f5f"
            },
            "marker": {
             "line": {
              "color": "#E5ECF6",
              "width": 0.5
             }
            },
            "type": "bar"
           }
          ],
          "barpolar": [
           {
            "marker": {
             "line": {
              "color": "#E5ECF6",
              "width": 0.5
             }
            },
            "type": "barpolar"
           }
          ],
          "carpet": [
           {
            "aaxis": {
             "endlinecolor": "#2a3f5f",
             "gridcolor": "white",
             "linecolor": "white",
             "minorgridcolor": "white",
             "startlinecolor": "#2a3f5f"
            },
            "baxis": {
             "endlinecolor": "#2a3f5f",
             "gridcolor": "white",
             "linecolor": "white",
             "minorgridcolor": "white",
             "startlinecolor": "#2a3f5f"
            },
            "type": "carpet"
           }
          ],
          "choropleth": [
           {
            "colorbar": {
             "outlinewidth": 0,
             "ticks": ""
            },
            "type": "choropleth"
           }
          ],
          "contour": [
           {
            "colorbar": {
             "outlinewidth": 0,
             "ticks": ""
            },
            "colorscale": [
             [
              0,
              "#0d0887"
             ],
             [
              0.1111111111111111,
              "#46039f"
             ],
             [
              0.2222222222222222,
              "#7201a8"
             ],
             [
              0.3333333333333333,
              "#9c179e"
             ],
             [
              0.4444444444444444,
              "#bd3786"
             ],
             [
              0.5555555555555556,
              "#d8576b"
             ],
             [
              0.6666666666666666,
              "#ed7953"
             ],
             [
              0.7777777777777778,
              "#fb9f3a"
             ],
             [
              0.8888888888888888,
              "#fdca26"
             ],
             [
              1,
              "#f0f921"
             ]
            ],
            "type": "contour"
           }
          ],
          "contourcarpet": [
           {
            "colorbar": {
             "outlinewidth": 0,
             "ticks": ""
            },
            "type": "contourcarpet"
           }
          ],
          "heatmap": [
           {
            "colorbar": {
             "outlinewidth": 0,
             "ticks": ""
            },
            "colorscale": [
             [
              0,
              "#0d0887"
             ],
             [
              0.1111111111111111,
              "#46039f"
             ],
             [
              0.2222222222222222,
              "#7201a8"
             ],
             [
              0.3333333333333333,
              "#9c179e"
             ],
             [
              0.4444444444444444,
              "#bd3786"
             ],
             [
              0.5555555555555556,
              "#d8576b"
             ],
             [
              0.6666666666666666,
              "#ed7953"
             ],
             [
              0.7777777777777778,
              "#fb9f3a"
             ],
             [
              0.8888888888888888,
              "#fdca26"
             ],
             [
              1,
              "#f0f921"
             ]
            ],
            "type": "heatmap"
           }
          ],
          "heatmapgl": [
           {
            "colorbar": {
             "outlinewidth": 0,
             "ticks": ""
            },
            "colorscale": [
             [
              0,
              "#0d0887"
             ],
             [
              0.1111111111111111,
              "#46039f"
             ],
             [
              0.2222222222222222,
              "#7201a8"
             ],
             [
              0.3333333333333333,
              "#9c179e"
             ],
             [
              0.4444444444444444,
              "#bd3786"
             ],
             [
              0.5555555555555556,
              "#d8576b"
             ],
             [
              0.6666666666666666,
              "#ed7953"
             ],
             [
              0.7777777777777778,
              "#fb9f3a"
             ],
             [
              0.8888888888888888,
              "#fdca26"
             ],
             [
              1,
              "#f0f921"
             ]
            ],
            "type": "heatmapgl"
           }
          ],
          "histogram": [
           {
            "marker": {
             "colorbar": {
              "outlinewidth": 0,
              "ticks": ""
             }
            },
            "type": "histogram"
           }
          ],
          "histogram2d": [
           {
            "colorbar": {
             "outlinewidth": 0,
             "ticks": ""
            },
            "colorscale": [
             [
              0,
              "#0d0887"
             ],
             [
              0.1111111111111111,
              "#46039f"
             ],
             [
              0.2222222222222222,
              "#7201a8"
             ],
             [
              0.3333333333333333,
              "#9c179e"
             ],
             [
              0.4444444444444444,
              "#bd3786"
             ],
             [
              0.5555555555555556,
              "#d8576b"
             ],
             [
              0.6666666666666666,
              "#ed7953"
             ],
             [
              0.7777777777777778,
              "#fb9f3a"
             ],
             [
              0.8888888888888888,
              "#fdca26"
             ],
             [
              1,
              "#f0f921"
             ]
            ],
            "type": "histogram2d"
           }
          ],
          "histogram2dcontour": [
           {
            "colorbar": {
             "outlinewidth": 0,
             "ticks": ""
            },
            "colorscale": [
             [
              0,
              "#0d0887"
             ],
             [
              0.1111111111111111,
              "#46039f"
             ],
             [
              0.2222222222222222,
              "#7201a8"
             ],
             [
              0.3333333333333333,
              "#9c179e"
             ],
             [
              0.4444444444444444,
              "#bd3786"
             ],
             [
              0.5555555555555556,
              "#d8576b"
             ],
             [
              0.6666666666666666,
              "#ed7953"
             ],
             [
              0.7777777777777778,
              "#fb9f3a"
             ],
             [
              0.8888888888888888,
              "#fdca26"
             ],
             [
              1,
              "#f0f921"
             ]
            ],
            "type": "histogram2dcontour"
           }
          ],
          "mesh3d": [
           {
            "colorbar": {
             "outlinewidth": 0,
             "ticks": ""
            },
            "type": "mesh3d"
           }
          ],
          "parcoords": [
           {
            "line": {
             "colorbar": {
              "outlinewidth": 0,
              "ticks": ""
             }
            },
            "type": "parcoords"
           }
          ],
          "pie": [
           {
            "automargin": true,
            "type": "pie"
           }
          ],
          "scatter": [
           {
            "marker": {
             "colorbar": {
              "outlinewidth": 0,
              "ticks": ""
             }
            },
            "type": "scatter"
           }
          ],
          "scatter3d": [
           {
            "line": {
             "colorbar": {
              "outlinewidth": 0,
              "ticks": ""
             }
            },
            "marker": {
             "colorbar": {
              "outlinewidth": 0,
              "ticks": ""
             }
            },
            "type": "scatter3d"
           }
          ],
          "scattercarpet": [
           {
            "marker": {
             "colorbar": {
              "outlinewidth": 0,
              "ticks": ""
             }
            },
            "type": "scattercarpet"
           }
          ],
          "scattergeo": [
           {
            "marker": {
             "colorbar": {
              "outlinewidth": 0,
              "ticks": ""
             }
            },
            "type": "scattergeo"
           }
          ],
          "scattergl": [
           {
            "marker": {
             "colorbar": {
              "outlinewidth": 0,
              "ticks": ""
             }
            },
            "type": "scattergl"
           }
          ],
          "scattermapbox": [
           {
            "marker": {
             "colorbar": {
              "outlinewidth": 0,
              "ticks": ""
             }
            },
            "type": "scattermapbox"
           }
          ],
          "scatterpolar": [
           {
            "marker": {
             "colorbar": {
              "outlinewidth": 0,
              "ticks": ""
             }
            },
            "type": "scatterpolar"
           }
          ],
          "scatterpolargl": [
           {
            "marker": {
             "colorbar": {
              "outlinewidth": 0,
              "ticks": ""
             }
            },
            "type": "scatterpolargl"
           }
          ],
          "scatterternary": [
           {
            "marker": {
             "colorbar": {
              "outlinewidth": 0,
              "ticks": ""
             }
            },
            "type": "scatterternary"
           }
          ],
          "surface": [
           {
            "colorbar": {
             "outlinewidth": 0,
             "ticks": ""
            },
            "colorscale": [
             [
              0,
              "#0d0887"
             ],
             [
              0.1111111111111111,
              "#46039f"
             ],
             [
              0.2222222222222222,
              "#7201a8"
             ],
             [
              0.3333333333333333,
              "#9c179e"
             ],
             [
              0.4444444444444444,
              "#bd3786"
             ],
             [
              0.5555555555555556,
              "#d8576b"
             ],
             [
              0.6666666666666666,
              "#ed7953"
             ],
             [
              0.7777777777777778,
              "#fb9f3a"
             ],
             [
              0.8888888888888888,
              "#fdca26"
             ],
             [
              1,
              "#f0f921"
             ]
            ],
            "type": "surface"
           }
          ],
          "table": [
           {
            "cells": {
             "fill": {
              "color": "#EBF0F8"
             },
             "line": {
              "color": "white"
             }
            },
            "header": {
             "fill": {
              "color": "#C8D4E3"
             },
             "line": {
              "color": "white"
             }
            },
            "type": "table"
           }
          ]
         },
         "layout": {
          "annotationdefaults": {
           "arrowcolor": "#2a3f5f",
           "arrowhead": 0,
           "arrowwidth": 1
          },
          "coloraxis": {
           "colorbar": {
            "outlinewidth": 0,
            "ticks": ""
           }
          },
          "colorscale": {
           "diverging": [
            [
             0,
             "#8e0152"
            ],
            [
             0.1,
             "#c51b7d"
            ],
            [
             0.2,
             "#de77ae"
            ],
            [
             0.3,
             "#f1b6da"
            ],
            [
             0.4,
             "#fde0ef"
            ],
            [
             0.5,
             "#f7f7f7"
            ],
            [
             0.6,
             "#e6f5d0"
            ],
            [
             0.7,
             "#b8e186"
            ],
            [
             0.8,
             "#7fbc41"
            ],
            [
             0.9,
             "#4d9221"
            ],
            [
             1,
             "#276419"
            ]
           ],
           "sequential": [
            [
             0,
             "#0d0887"
            ],
            [
             0.1111111111111111,
             "#46039f"
            ],
            [
             0.2222222222222222,
             "#7201a8"
            ],
            [
             0.3333333333333333,
             "#9c179e"
            ],
            [
             0.4444444444444444,
             "#bd3786"
            ],
            [
             0.5555555555555556,
             "#d8576b"
            ],
            [
             0.6666666666666666,
             "#ed7953"
            ],
            [
             0.7777777777777778,
             "#fb9f3a"
            ],
            [
             0.8888888888888888,
             "#fdca26"
            ],
            [
             1,
             "#f0f921"
            ]
           ],
           "sequentialminus": [
            [
             0,
             "#0d0887"
            ],
            [
             0.1111111111111111,
             "#46039f"
            ],
            [
             0.2222222222222222,
             "#7201a8"
            ],
            [
             0.3333333333333333,
             "#9c179e"
            ],
            [
             0.4444444444444444,
             "#bd3786"
            ],
            [
             0.5555555555555556,
             "#d8576b"
            ],
            [
             0.6666666666666666,
             "#ed7953"
            ],
            [
             0.7777777777777778,
             "#fb9f3a"
            ],
            [
             0.8888888888888888,
             "#fdca26"
            ],
            [
             1,
             "#f0f921"
            ]
           ]
          },
          "colorway": [
           "#636efa",
           "#EF553B",
           "#00cc96",
           "#ab63fa",
           "#FFA15A",
           "#19d3f3",
           "#FF6692",
           "#B6E880",
           "#FF97FF",
           "#FECB52"
          ],
          "font": {
           "color": "#2a3f5f"
          },
          "geo": {
           "bgcolor": "white",
           "lakecolor": "white",
           "landcolor": "#E5ECF6",
           "showlakes": true,
           "showland": true,
           "subunitcolor": "white"
          },
          "hoverlabel": {
           "align": "left"
          },
          "hovermode": "closest",
          "mapbox": {
           "style": "light"
          },
          "paper_bgcolor": "white",
          "plot_bgcolor": "#E5ECF6",
          "polar": {
           "angularaxis": {
            "gridcolor": "white",
            "linecolor": "white",
            "ticks": ""
           },
           "bgcolor": "#E5ECF6",
           "radialaxis": {
            "gridcolor": "white",
            "linecolor": "white",
            "ticks": ""
           }
          },
          "scene": {
           "xaxis": {
            "backgroundcolor": "#E5ECF6",
            "gridcolor": "white",
            "gridwidth": 2,
            "linecolor": "white",
            "showbackground": true,
            "ticks": "",
            "zerolinecolor": "white"
           },
           "yaxis": {
            "backgroundcolor": "#E5ECF6",
            "gridcolor": "white",
            "gridwidth": 2,
            "linecolor": "white",
            "showbackground": true,
            "ticks": "",
            "zerolinecolor": "white"
           },
           "zaxis": {
            "backgroundcolor": "#E5ECF6",
            "gridcolor": "white",
            "gridwidth": 2,
            "linecolor": "white",
            "showbackground": true,
            "ticks": "",
            "zerolinecolor": "white"
           }
          },
          "shapedefaults": {
           "line": {
            "color": "#2a3f5f"
           }
          },
          "ternary": {
           "aaxis": {
            "gridcolor": "white",
            "linecolor": "white",
            "ticks": ""
           },
           "baxis": {
            "gridcolor": "white",
            "linecolor": "white",
            "ticks": ""
           },
           "bgcolor": "#E5ECF6",
           "caxis": {
            "gridcolor": "white",
            "linecolor": "white",
            "ticks": ""
           }
          },
          "title": {
           "x": 0.05
          },
          "xaxis": {
           "automargin": true,
           "gridcolor": "white",
           "linecolor": "white",
           "ticks": "",
           "title": {
            "standoff": 15
           },
           "zerolinecolor": "white",
           "zerolinewidth": 2
          },
          "yaxis": {
           "automargin": true,
           "gridcolor": "white",
           "linecolor": "white",
           "ticks": "",
           "title": {
            "standoff": 15
           },
           "zerolinecolor": "white",
           "zerolinewidth": 2
          }
         }
        },
        "title": {
         "text": "Missed values percent for every column (percent > 0)"
        },
        "width": 800,
        "xaxis": {
         "anchor": "y",
         "domain": [
          0,
          1
         ],
         "title": {
          "text": "percent"
         }
        },
        "yaxis": {
         "anchor": "x",
         "domain": [
          0,
          1
         ],
         "title": {
          "text": "column"
         }
        }
       }
      }
     },
     "metadata": {}
    }
   ],
   "source": [
    "missed = pd.DataFrame()\n",
    "missed['column'] = df.columns\n",
    "missed['total_missing_values']=[\n",
    "     df[col].isnull().sum() for col in df.columns\n",
    "]\n",
    "missed['percent'] = [\n",
    "    round(100* df[col].isnull().sum() / len(df), 2) for col in df.columns\n",
    "]\n",
    "missed = missed[missed['percent']>0].sort_values('percent')\n",
    "fig = px.bar(\n",
    "    missed, \n",
    "    x='percent',\n",
    "    y=\"column\", \n",
    "    orientation='h', \n",
    "    title='Missed values percent for every column (percent > 0)', \n",
    "    height=1300, \n",
    "    width=800\n",
    ")\n",
    "\n",
    "fig.show()"
   ]
  },
  {
   "cell_type": "code",
   "execution_count": 17,
   "metadata": {},
   "outputs": [
    {
     "output_type": "execute_result",
     "data": {
      "text/plain": [
       "         column  total_missing_values  percent\n",
       "48           LB                  2085    11.45\n",
       "50           CB                  2085    11.45\n",
       "38           LM                  2085    11.45\n",
       "49          LCB                  2085    11.45\n",
       "23  Loaned From                 16943    93.06"
      ],
      "text/html": "<div>\n<style scoped>\n    .dataframe tbody tr th:only-of-type {\n        vertical-align: middle;\n    }\n\n    .dataframe tbody tr th {\n        vertical-align: top;\n    }\n\n    .dataframe thead th {\n        text-align: right;\n    }\n</style>\n<table border=\"1\" class=\"dataframe\">\n  <thead>\n    <tr style=\"text-align: right;\">\n      <th></th>\n      <th>column</th>\n      <th>total_missing_values</th>\n      <th>percent</th>\n    </tr>\n  </thead>\n  <tbody>\n    <tr>\n      <th>48</th>\n      <td>LB</td>\n      <td>2085</td>\n      <td>11.45</td>\n    </tr>\n    <tr>\n      <th>50</th>\n      <td>CB</td>\n      <td>2085</td>\n      <td>11.45</td>\n    </tr>\n    <tr>\n      <th>38</th>\n      <td>LM</td>\n      <td>2085</td>\n      <td>11.45</td>\n    </tr>\n    <tr>\n      <th>49</th>\n      <td>LCB</td>\n      <td>2085</td>\n      <td>11.45</td>\n    </tr>\n    <tr>\n      <th>23</th>\n      <td>Loaned From</td>\n      <td>16943</td>\n      <td>93.06</td>\n    </tr>\n  </tbody>\n</table>\n</div>"
     },
     "metadata": {},
     "execution_count": 17
    }
   ],
   "source": [
    "missed[missed['percent']>0][-5:]"
   ]
  },
  {
   "cell_type": "code",
   "execution_count": 19,
   "metadata": {},
   "outputs": [],
   "source": [
    "def plot_bar_plot(data, categorical_feature, target_feature, orientation, title, top_records=None, sort=False):\n",
    "    data = data.groupby(categorical_feature)[target_feature].count().reset_index()\n",
    "    fig = px.bar(\n",
    "        data, \n",
    "        x=categorical_feature, \n",
    "        y=target_feature, \n",
    "        orientation=orientation, \n",
    "        title=title,\n",
    "        height=600,\n",
    "        width=800\n",
    "    )\n",
    "    fig.show()\n",
    "    \n",
    "def plot_pie_count(data, field=\"Nationality\", percent_limit=0.5, title=\"Number of players by \"):\n",
    "    \n",
    "    title += field\n",
    "    data[field] = data[field].fillna('NA')\n",
    "    data = data[field].value_counts().to_frame()\n",
    "\n",
    "    total = data[field].sum()\n",
    "    data['percentage'] = 100 * data[field]/total    \n",
    "\n",
    "    percent_limit = percent_limit\n",
    "    otherdata = data[data['percentage'] < percent_limit] \n",
    "    others = otherdata['percentage'].sum()  \n",
    "    maindata = data[data['percentage'] >= percent_limit]\n",
    "\n",
    "    data = maindata\n",
    "    other_label = \"Others(<\" + str(percent_limit) + \"% each)\"\n",
    "    data.loc[other_label] = pd.Series({field:otherdata[field].sum()}) \n",
    "    \n",
    "    labels = data.index.tolist()   \n",
    "    datavals = data[field].tolist()\n",
    "    \n",
    "    trace=go.Pie(\n",
    "        labels=labels,\n",
    "        values=datavals\n",
    "    )\n",
    "\n",
    "    layout = go.Layout(\n",
    "        title = title,\n",
    "        height=500,\n",
    "        width=800\n",
    "    )\n",
    "    \n",
    "    fig = go.Figure(data=[trace], layout=layout)\n",
    "    iplot(fig)"
   ]
  },
  {
   "cell_type": "code",
   "execution_count": 20,
   "metadata": {},
   "outputs": [
    {
     "output_type": "display_data",
     "data": {
      "application/vnd.plotly.v1+json": {
       "config": {
        "plotlyServerURL": "https://plot.ly"
       },
       "data": [
        {
         "alignmentgroup": "True",
         "hovertemplate": "Position=%{x}<br>Value=%{y}<extra></extra>",
         "legendgroup": "",
         "marker": {
          "color": "#636efa"
         },
         "name": "",
         "offsetgroup": "",
         "orientation": "v",
         "showlegend": false,
         "textposition": "auto",
         "type": "bar",
         "x": [
          "CAM",
          "CB",
          "CDM",
          "CF",
          "CM",
          "GK",
          "LAM",
          "LB",
          "LCB",
          "LCM",
          "LDM",
          "LF",
          "LM",
          "LS",
          "LW",
          "LWB",
          "RAM",
          "RB",
          "RCB",
          "RCM",
          "RDM",
          "RF",
          "RM",
          "RS",
          "RW",
          "RWB",
          "ST"
         ],
         "xaxis": "x",
         "y": [
          958,
          1778,
          948,
          74,
          1394,
          2025,
          21,
          1322,
          648,
          395,
          243,
          15,
          1095,
          207,
          381,
          78,
          21,
          1291,
          662,
          391,
          248,
          16,
          1124,
          203,
          370,
          87,
          2152
         ],
         "yaxis": "y"
        }
       ],
       "layout": {
        "barmode": "relative",
        "height": 600,
        "legend": {
         "tracegroupgap": 0
        },
        "template": {
         "data": {
          "bar": [
           {
            "error_x": {
             "color": "#2a3f5f"
            },
            "error_y": {
             "color": "#2a3f5f"
            },
            "marker": {
             "line": {
              "color": "#E5ECF6",
              "width": 0.5
             }
            },
            "type": "bar"
           }
          ],
          "barpolar": [
           {
            "marker": {
             "line": {
              "color": "#E5ECF6",
              "width": 0.5
             }
            },
            "type": "barpolar"
           }
          ],
          "carpet": [
           {
            "aaxis": {
             "endlinecolor": "#2a3f5f",
             "gridcolor": "white",
             "linecolor": "white",
             "minorgridcolor": "white",
             "startlinecolor": "#2a3f5f"
            },
            "baxis": {
             "endlinecolor": "#2a3f5f",
             "gridcolor": "white",
             "linecolor": "white",
             "minorgridcolor": "white",
             "startlinecolor": "#2a3f5f"
            },
            "type": "carpet"
           }
          ],
          "choropleth": [
           {
            "colorbar": {
             "outlinewidth": 0,
             "ticks": ""
            },
            "type": "choropleth"
           }
          ],
          "contour": [
           {
            "colorbar": {
             "outlinewidth": 0,
             "ticks": ""
            },
            "colorscale": [
             [
              0,
              "#0d0887"
             ],
             [
              0.1111111111111111,
              "#46039f"
             ],
             [
              0.2222222222222222,
              "#7201a8"
             ],
             [
              0.3333333333333333,
              "#9c179e"
             ],
             [
              0.4444444444444444,
              "#bd3786"
             ],
             [
              0.5555555555555556,
              "#d8576b"
             ],
             [
              0.6666666666666666,
              "#ed7953"
             ],
             [
              0.7777777777777778,
              "#fb9f3a"
             ],
             [
              0.8888888888888888,
              "#fdca26"
             ],
             [
              1,
              "#f0f921"
             ]
            ],
            "type": "contour"
           }
          ],
          "contourcarpet": [
           {
            "colorbar": {
             "outlinewidth": 0,
             "ticks": ""
            },
            "type": "contourcarpet"
           }
          ],
          "heatmap": [
           {
            "colorbar": {
             "outlinewidth": 0,
             "ticks": ""
            },
            "colorscale": [
             [
              0,
              "#0d0887"
             ],
             [
              0.1111111111111111,
              "#46039f"
             ],
             [
              0.2222222222222222,
              "#7201a8"
             ],
             [
              0.3333333333333333,
              "#9c179e"
             ],
             [
              0.4444444444444444,
              "#bd3786"
             ],
             [
              0.5555555555555556,
              "#d8576b"
             ],
             [
              0.6666666666666666,
              "#ed7953"
             ],
             [
              0.7777777777777778,
              "#fb9f3a"
             ],
             [
              0.8888888888888888,
              "#fdca26"
             ],
             [
              1,
              "#f0f921"
             ]
            ],
            "type": "heatmap"
           }
          ],
          "heatmapgl": [
           {
            "colorbar": {
             "outlinewidth": 0,
             "ticks": ""
            },
            "colorscale": [
             [
              0,
              "#0d0887"
             ],
             [
              0.1111111111111111,
              "#46039f"
             ],
             [
              0.2222222222222222,
              "#7201a8"
             ],
             [
              0.3333333333333333,
              "#9c179e"
             ],
             [
              0.4444444444444444,
              "#bd3786"
             ],
             [
              0.5555555555555556,
              "#d8576b"
             ],
             [
              0.6666666666666666,
              "#ed7953"
             ],
             [
              0.7777777777777778,
              "#fb9f3a"
             ],
             [
              0.8888888888888888,
              "#fdca26"
             ],
             [
              1,
              "#f0f921"
             ]
            ],
            "type": "heatmapgl"
           }
          ],
          "histogram": [
           {
            "marker": {
             "colorbar": {
              "outlinewidth": 0,
              "ticks": ""
             }
            },
            "type": "histogram"
           }
          ],
          "histogram2d": [
           {
            "colorbar": {
             "outlinewidth": 0,
             "ticks": ""
            },
            "colorscale": [
             [
              0,
              "#0d0887"
             ],
             [
              0.1111111111111111,
              "#46039f"
             ],
             [
              0.2222222222222222,
              "#7201a8"
             ],
             [
              0.3333333333333333,
              "#9c179e"
             ],
             [
              0.4444444444444444,
              "#bd3786"
             ],
             [
              0.5555555555555556,
              "#d8576b"
             ],
             [
              0.6666666666666666,
              "#ed7953"
             ],
             [
              0.7777777777777778,
              "#fb9f3a"
             ],
             [
              0.8888888888888888,
              "#fdca26"
             ],
             [
              1,
              "#f0f921"
             ]
            ],
            "type": "histogram2d"
           }
          ],
          "histogram2dcontour": [
           {
            "colorbar": {
             "outlinewidth": 0,
             "ticks": ""
            },
            "colorscale": [
             [
              0,
              "#0d0887"
             ],
             [
              0.1111111111111111,
              "#46039f"
             ],
             [
              0.2222222222222222,
              "#7201a8"
             ],
             [
              0.3333333333333333,
              "#9c179e"
             ],
             [
              0.4444444444444444,
              "#bd3786"
             ],
             [
              0.5555555555555556,
              "#d8576b"
             ],
             [
              0.6666666666666666,
              "#ed7953"
             ],
             [
              0.7777777777777778,
              "#fb9f3a"
             ],
             [
              0.8888888888888888,
              "#fdca26"
             ],
             [
              1,
              "#f0f921"
             ]
            ],
            "type": "histogram2dcontour"
           }
          ],
          "mesh3d": [
           {
            "colorbar": {
             "outlinewidth": 0,
             "ticks": ""
            },
            "type": "mesh3d"
           }
          ],
          "parcoords": [
           {
            "line": {
             "colorbar": {
              "outlinewidth": 0,
              "ticks": ""
             }
            },
            "type": "parcoords"
           }
          ],
          "pie": [
           {
            "automargin": true,
            "type": "pie"
           }
          ],
          "scatter": [
           {
            "marker": {
             "colorbar": {
              "outlinewidth": 0,
              "ticks": ""
             }
            },
            "type": "scatter"
           }
          ],
          "scatter3d": [
           {
            "line": {
             "colorbar": {
              "outlinewidth": 0,
              "ticks": ""
             }
            },
            "marker": {
             "colorbar": {
              "outlinewidth": 0,
              "ticks": ""
             }
            },
            "type": "scatter3d"
           }
          ],
          "scattercarpet": [
           {
            "marker": {
             "colorbar": {
              "outlinewidth": 0,
              "ticks": ""
             }
            },
            "type": "scattercarpet"
           }
          ],
          "scattergeo": [
           {
            "marker": {
             "colorbar": {
              "outlinewidth": 0,
              "ticks": ""
             }
            },
            "type": "scattergeo"
           }
          ],
          "scattergl": [
           {
            "marker": {
             "colorbar": {
              "outlinewidth": 0,
              "ticks": ""
             }
            },
            "type": "scattergl"
           }
          ],
          "scattermapbox": [
           {
            "marker": {
             "colorbar": {
              "outlinewidth": 0,
              "ticks": ""
             }
            },
            "type": "scattermapbox"
           }
          ],
          "scatterpolar": [
           {
            "marker": {
             "colorbar": {
              "outlinewidth": 0,
              "ticks": ""
             }
            },
            "type": "scatterpolar"
           }
          ],
          "scatterpolargl": [
           {
            "marker": {
             "colorbar": {
              "outlinewidth": 0,
              "ticks": ""
             }
            },
            "type": "scatterpolargl"
           }
          ],
          "scatterternary": [
           {
            "marker": {
             "colorbar": {
              "outlinewidth": 0,
              "ticks": ""
             }
            },
            "type": "scatterternary"
           }
          ],
          "surface": [
           {
            "colorbar": {
             "outlinewidth": 0,
             "ticks": ""
            },
            "colorscale": [
             [
              0,
              "#0d0887"
             ],
             [
              0.1111111111111111,
              "#46039f"
             ],
             [
              0.2222222222222222,
              "#7201a8"
             ],
             [
              0.3333333333333333,
              "#9c179e"
             ],
             [
              0.4444444444444444,
              "#bd3786"
             ],
             [
              0.5555555555555556,
              "#d8576b"
             ],
             [
              0.6666666666666666,
              "#ed7953"
             ],
             [
              0.7777777777777778,
              "#fb9f3a"
             ],
             [
              0.8888888888888888,
              "#fdca26"
             ],
             [
              1,
              "#f0f921"
             ]
            ],
            "type": "surface"
           }
          ],
          "table": [
           {
            "cells": {
             "fill": {
              "color": "#EBF0F8"
             },
             "line": {
              "color": "white"
             }
            },
            "header": {
             "fill": {
              "color": "#C8D4E3"
             },
             "line": {
              "color": "white"
             }
            },
            "type": "table"
           }
          ]
         },
         "layout": {
          "annotationdefaults": {
           "arrowcolor": "#2a3f5f",
           "arrowhead": 0,
           "arrowwidth": 1
          },
          "coloraxis": {
           "colorbar": {
            "outlinewidth": 0,
            "ticks": ""
           }
          },
          "colorscale": {
           "diverging": [
            [
             0,
             "#8e0152"
            ],
            [
             0.1,
             "#c51b7d"
            ],
            [
             0.2,
             "#de77ae"
            ],
            [
             0.3,
             "#f1b6da"
            ],
            [
             0.4,
             "#fde0ef"
            ],
            [
             0.5,
             "#f7f7f7"
            ],
            [
             0.6,
             "#e6f5d0"
            ],
            [
             0.7,
             "#b8e186"
            ],
            [
             0.8,
             "#7fbc41"
            ],
            [
             0.9,
             "#4d9221"
            ],
            [
             1,
             "#276419"
            ]
           ],
           "sequential": [
            [
             0,
             "#0d0887"
            ],
            [
             0.1111111111111111,
             "#46039f"
            ],
            [
             0.2222222222222222,
             "#7201a8"
            ],
            [
             0.3333333333333333,
             "#9c179e"
            ],
            [
             0.4444444444444444,
             "#bd3786"
            ],
            [
             0.5555555555555556,
             "#d8576b"
            ],
            [
             0.6666666666666666,
             "#ed7953"
            ],
            [
             0.7777777777777778,
             "#fb9f3a"
            ],
            [
             0.8888888888888888,
             "#fdca26"
            ],
            [
             1,
             "#f0f921"
            ]
           ],
           "sequentialminus": [
            [
             0,
             "#0d0887"
            ],
            [
             0.1111111111111111,
             "#46039f"
            ],
            [
             0.2222222222222222,
             "#7201a8"
            ],
            [
             0.3333333333333333,
             "#9c179e"
            ],
            [
             0.4444444444444444,
             "#bd3786"
            ],
            [
             0.5555555555555556,
             "#d8576b"
            ],
            [
             0.6666666666666666,
             "#ed7953"
            ],
            [
             0.7777777777777778,
             "#fb9f3a"
            ],
            [
             0.8888888888888888,
             "#fdca26"
            ],
            [
             1,
             "#f0f921"
            ]
           ]
          },
          "colorway": [
           "#636efa",
           "#EF553B",
           "#00cc96",
           "#ab63fa",
           "#FFA15A",
           "#19d3f3",
           "#FF6692",
           "#B6E880",
           "#FF97FF",
           "#FECB52"
          ],
          "font": {
           "color": "#2a3f5f"
          },
          "geo": {
           "bgcolor": "white",
           "lakecolor": "white",
           "landcolor": "#E5ECF6",
           "showlakes": true,
           "showland": true,
           "subunitcolor": "white"
          },
          "hoverlabel": {
           "align": "left"
          },
          "hovermode": "closest",
          "mapbox": {
           "style": "light"
          },
          "paper_bgcolor": "white",
          "plot_bgcolor": "#E5ECF6",
          "polar": {
           "angularaxis": {
            "gridcolor": "white",
            "linecolor": "white",
            "ticks": ""
           },
           "bgcolor": "#E5ECF6",
           "radialaxis": {
            "gridcolor": "white",
            "linecolor": "white",
            "ticks": ""
           }
          },
          "scene": {
           "xaxis": {
            "backgroundcolor": "#E5ECF6",
            "gridcolor": "white",
            "gridwidth": 2,
            "linecolor": "white",
            "showbackground": true,
            "ticks": "",
            "zerolinecolor": "white"
           },
           "yaxis": {
            "backgroundcolor": "#E5ECF6",
            "gridcolor": "white",
            "gridwidth": 2,
            "linecolor": "white",
            "showbackground": true,
            "ticks": "",
            "zerolinecolor": "white"
           },
           "zaxis": {
            "backgroundcolor": "#E5ECF6",
            "gridcolor": "white",
            "gridwidth": 2,
            "linecolor": "white",
            "showbackground": true,
            "ticks": "",
            "zerolinecolor": "white"
           }
          },
          "shapedefaults": {
           "line": {
            "color": "#2a3f5f"
           }
          },
          "ternary": {
           "aaxis": {
            "gridcolor": "white",
            "linecolor": "white",
            "ticks": ""
           },
           "baxis": {
            "gridcolor": "white",
            "linecolor": "white",
            "ticks": ""
           },
           "bgcolor": "#E5ECF6",
           "caxis": {
            "gridcolor": "white",
            "linecolor": "white",
            "ticks": ""
           }
          },
          "title": {
           "x": 0.05
          },
          "xaxis": {
           "automargin": true,
           "gridcolor": "white",
           "linecolor": "white",
           "ticks": "",
           "title": {
            "standoff": 15
           },
           "zerolinecolor": "white",
           "zerolinewidth": 2
          },
          "yaxis": {
           "automargin": true,
           "gridcolor": "white",
           "linecolor": "white",
           "ticks": "",
           "title": {
            "standoff": 15
           },
           "zerolinecolor": "white",
           "zerolinewidth": 2
          }
         }
        },
        "title": {
         "text": "Number of players by position"
        },
        "width": 800,
        "xaxis": {
         "anchor": "y",
         "domain": [
          0,
          1
         ],
         "title": {
          "text": "Position"
         }
        },
        "yaxis": {
         "anchor": "x",
         "domain": [
          0,
          1
         ],
         "title": {
          "text": "Value"
         }
        }
       }
      }
     },
     "metadata": {}
    }
   ],
   "source": [
    "plot_bar_plot(\n",
    "    df, \n",
    "    'Position', \n",
    "    'Value', \n",
    "    'v', \n",
    "    'Number of players by position'\n",
    ")"
   ]
  },
  {
   "cell_type": "code",
   "execution_count": 21,
   "metadata": {},
   "outputs": [
    {
     "output_type": "display_data",
     "data": {
      "application/vnd.plotly.v1+json": {
       "config": {
        "linkText": "Export to plot.ly",
        "plotlyServerURL": "https://plot.ly",
        "showLink": false
       },
       "data": [
        {
         "labels": [
          "England",
          "Germany",
          "Spain",
          "Argentina",
          "France",
          "Brazil",
          "Italy",
          "Colombia",
          "Japan",
          "Netherlands",
          "Sweden",
          "China PR",
          "Chile",
          "Republic of Ireland",
          "Mexico",
          "United States",
          "Poland",
          "Norway",
          "Saudi Arabia",
          "Denmark",
          "Korea Republic",
          "Portugal",
          "Turkey",
          "Austria",
          "Scotland",
          "Belgium",
          "Australia",
          "Switzerland",
          "Uruguay",
          "Senegal",
          "Wales",
          "Serbia",
          "Croatia",
          "Nigeria",
          "Ghana",
          "Greece",
          "Czech Republic",
          "Ivory Coast",
          "Others(<0.5% each)"
         ],
         "type": "pie",
         "values": [
          1662,
          1198,
          1072,
          937,
          914,
          827,
          702,
          618,
          478,
          453,
          397,
          392,
          391,
          368,
          366,
          353,
          350,
          341,
          340,
          336,
          335,
          322,
          303,
          298,
          286,
          260,
          236,
          220,
          149,
          130,
          129,
          126,
          126,
          121,
          114,
          102,
          100,
          100,
          2255
         ]
        }
       ],
       "layout": {
        "height": 500,
        "template": {
         "data": {
          "bar": [
           {
            "error_x": {
             "color": "#2a3f5f"
            },
            "error_y": {
             "color": "#2a3f5f"
            },
            "marker": {
             "line": {
              "color": "#E5ECF6",
              "width": 0.5
             }
            },
            "type": "bar"
           }
          ],
          "barpolar": [
           {
            "marker": {
             "line": {
              "color": "#E5ECF6",
              "width": 0.5
             }
            },
            "type": "barpolar"
           }
          ],
          "carpet": [
           {
            "aaxis": {
             "endlinecolor": "#2a3f5f",
             "gridcolor": "white",
             "linecolor": "white",
             "minorgridcolor": "white",
             "startlinecolor": "#2a3f5f"
            },
            "baxis": {
             "endlinecolor": "#2a3f5f",
             "gridcolor": "white",
             "linecolor": "white",
             "minorgridcolor": "white",
             "startlinecolor": "#2a3f5f"
            },
            "type": "carpet"
           }
          ],
          "choropleth": [
           {
            "colorbar": {
             "outlinewidth": 0,
             "ticks": ""
            },
            "type": "choropleth"
           }
          ],
          "contour": [
           {
            "colorbar": {
             "outlinewidth": 0,
             "ticks": ""
            },
            "colorscale": [
             [
              0,
              "#0d0887"
             ],
             [
              0.1111111111111111,
              "#46039f"
             ],
             [
              0.2222222222222222,
              "#7201a8"
             ],
             [
              0.3333333333333333,
              "#9c179e"
             ],
             [
              0.4444444444444444,
              "#bd3786"
             ],
             [
              0.5555555555555556,
              "#d8576b"
             ],
             [
              0.6666666666666666,
              "#ed7953"
             ],
             [
              0.7777777777777778,
              "#fb9f3a"
             ],
             [
              0.8888888888888888,
              "#fdca26"
             ],
             [
              1,
              "#f0f921"
             ]
            ],
            "type": "contour"
           }
          ],
          "contourcarpet": [
           {
            "colorbar": {
             "outlinewidth": 0,
             "ticks": ""
            },
            "type": "contourcarpet"
           }
          ],
          "heatmap": [
           {
            "colorbar": {
             "outlinewidth": 0,
             "ticks": ""
            },
            "colorscale": [
             [
              0,
              "#0d0887"
             ],
             [
              0.1111111111111111,
              "#46039f"
             ],
             [
              0.2222222222222222,
              "#7201a8"
             ],
             [
              0.3333333333333333,
              "#9c179e"
             ],
             [
              0.4444444444444444,
              "#bd3786"
             ],
             [
              0.5555555555555556,
              "#d8576b"
             ],
             [
              0.6666666666666666,
              "#ed7953"
             ],
             [
              0.7777777777777778,
              "#fb9f3a"
             ],
             [
              0.8888888888888888,
              "#fdca26"
             ],
             [
              1,
              "#f0f921"
             ]
            ],
            "type": "heatmap"
           }
          ],
          "heatmapgl": [
           {
            "colorbar": {
             "outlinewidth": 0,
             "ticks": ""
            },
            "colorscale": [
             [
              0,
              "#0d0887"
             ],
             [
              0.1111111111111111,
              "#46039f"
             ],
             [
              0.2222222222222222,
              "#7201a8"
             ],
             [
              0.3333333333333333,
              "#9c179e"
             ],
             [
              0.4444444444444444,
              "#bd3786"
             ],
             [
              0.5555555555555556,
              "#d8576b"
             ],
             [
              0.6666666666666666,
              "#ed7953"
             ],
             [
              0.7777777777777778,
              "#fb9f3a"
             ],
             [
              0.8888888888888888,
              "#fdca26"
             ],
             [
              1,
              "#f0f921"
             ]
            ],
            "type": "heatmapgl"
           }
          ],
          "histogram": [
           {
            "marker": {
             "colorbar": {
              "outlinewidth": 0,
              "ticks": ""
             }
            },
            "type": "histogram"
           }
          ],
          "histogram2d": [
           {
            "colorbar": {
             "outlinewidth": 0,
             "ticks": ""
            },
            "colorscale": [
             [
              0,
              "#0d0887"
             ],
             [
              0.1111111111111111,
              "#46039f"
             ],
             [
              0.2222222222222222,
              "#7201a8"
             ],
             [
              0.3333333333333333,
              "#9c179e"
             ],
             [
              0.4444444444444444,
              "#bd3786"
             ],
             [
              0.5555555555555556,
              "#d8576b"
             ],
             [
              0.6666666666666666,
              "#ed7953"
             ],
             [
              0.7777777777777778,
              "#fb9f3a"
             ],
             [
              0.8888888888888888,
              "#fdca26"
             ],
             [
              1,
              "#f0f921"
             ]
            ],
            "type": "histogram2d"
           }
          ],
          "histogram2dcontour": [
           {
            "colorbar": {
             "outlinewidth": 0,
             "ticks": ""
            },
            "colorscale": [
             [
              0,
              "#0d0887"
             ],
             [
              0.1111111111111111,
              "#46039f"
             ],
             [
              0.2222222222222222,
              "#7201a8"
             ],
             [
              0.3333333333333333,
              "#9c179e"
             ],
             [
              0.4444444444444444,
              "#bd3786"
             ],
             [
              0.5555555555555556,
              "#d8576b"
             ],
             [
              0.6666666666666666,
              "#ed7953"
             ],
             [
              0.7777777777777778,
              "#fb9f3a"
             ],
             [
              0.8888888888888888,
              "#fdca26"
             ],
             [
              1,
              "#f0f921"
             ]
            ],
            "type": "histogram2dcontour"
           }
          ],
          "mesh3d": [
           {
            "colorbar": {
             "outlinewidth": 0,
             "ticks": ""
            },
            "type": "mesh3d"
           }
          ],
          "parcoords": [
           {
            "line": {
             "colorbar": {
              "outlinewidth": 0,
              "ticks": ""
             }
            },
            "type": "parcoords"
           }
          ],
          "pie": [
           {
            "automargin": true,
            "type": "pie"
           }
          ],
          "scatter": [
           {
            "marker": {
             "colorbar": {
              "outlinewidth": 0,
              "ticks": ""
             }
            },
            "type": "scatter"
           }
          ],
          "scatter3d": [
           {
            "line": {
             "colorbar": {
              "outlinewidth": 0,
              "ticks": ""
             }
            },
            "marker": {
             "colorbar": {
              "outlinewidth": 0,
              "ticks": ""
             }
            },
            "type": "scatter3d"
           }
          ],
          "scattercarpet": [
           {
            "marker": {
             "colorbar": {
              "outlinewidth": 0,
              "ticks": ""
             }
            },
            "type": "scattercarpet"
           }
          ],
          "scattergeo": [
           {
            "marker": {
             "colorbar": {
              "outlinewidth": 0,
              "ticks": ""
             }
            },
            "type": "scattergeo"
           }
          ],
          "scattergl": [
           {
            "marker": {
             "colorbar": {
              "outlinewidth": 0,
              "ticks": ""
             }
            },
            "type": "scattergl"
           }
          ],
          "scattermapbox": [
           {
            "marker": {
             "colorbar": {
              "outlinewidth": 0,
              "ticks": ""
             }
            },
            "type": "scattermapbox"
           }
          ],
          "scatterpolar": [
           {
            "marker": {
             "colorbar": {
              "outlinewidth": 0,
              "ticks": ""
             }
            },
            "type": "scatterpolar"
           }
          ],
          "scatterpolargl": [
           {
            "marker": {
             "colorbar": {
              "outlinewidth": 0,
              "ticks": ""
             }
            },
            "type": "scatterpolargl"
           }
          ],
          "scatterternary": [
           {
            "marker": {
             "colorbar": {
              "outlinewidth": 0,
              "ticks": ""
             }
            },
            "type": "scatterternary"
           }
          ],
          "surface": [
           {
            "colorbar": {
             "outlinewidth": 0,
             "ticks": ""
            },
            "colorscale": [
             [
              0,
              "#0d0887"
             ],
             [
              0.1111111111111111,
              "#46039f"
             ],
             [
              0.2222222222222222,
              "#7201a8"
             ],
             [
              0.3333333333333333,
              "#9c179e"
             ],
             [
              0.4444444444444444,
              "#bd3786"
             ],
             [
              0.5555555555555556,
              "#d8576b"
             ],
             [
              0.6666666666666666,
              "#ed7953"
             ],
             [
              0.7777777777777778,
              "#fb9f3a"
             ],
             [
              0.8888888888888888,
              "#fdca26"
             ],
             [
              1,
              "#f0f921"
             ]
            ],
            "type": "surface"
           }
          ],
          "table": [
           {
            "cells": {
             "fill": {
              "color": "#EBF0F8"
             },
             "line": {
              "color": "white"
             }
            },
            "header": {
             "fill": {
              "color": "#C8D4E3"
             },
             "line": {
              "color": "white"
             }
            },
            "type": "table"
           }
          ]
         },
         "layout": {
          "annotationdefaults": {
           "arrowcolor": "#2a3f5f",
           "arrowhead": 0,
           "arrowwidth": 1
          },
          "coloraxis": {
           "colorbar": {
            "outlinewidth": 0,
            "ticks": ""
           }
          },
          "colorscale": {
           "diverging": [
            [
             0,
             "#8e0152"
            ],
            [
             0.1,
             "#c51b7d"
            ],
            [
             0.2,
             "#de77ae"
            ],
            [
             0.3,
             "#f1b6da"
            ],
            [
             0.4,
             "#fde0ef"
            ],
            [
             0.5,
             "#f7f7f7"
            ],
            [
             0.6,
             "#e6f5d0"
            ],
            [
             0.7,
             "#b8e186"
            ],
            [
             0.8,
             "#7fbc41"
            ],
            [
             0.9,
             "#4d9221"
            ],
            [
             1,
             "#276419"
            ]
           ],
           "sequential": [
            [
             0,
             "#0d0887"
            ],
            [
             0.1111111111111111,
             "#46039f"
            ],
            [
             0.2222222222222222,
             "#7201a8"
            ],
            [
             0.3333333333333333,
             "#9c179e"
            ],
            [
             0.4444444444444444,
             "#bd3786"
            ],
            [
             0.5555555555555556,
             "#d8576b"
            ],
            [
             0.6666666666666666,
             "#ed7953"
            ],
            [
             0.7777777777777778,
             "#fb9f3a"
            ],
            [
             0.8888888888888888,
             "#fdca26"
            ],
            [
             1,
             "#f0f921"
            ]
           ],
           "sequentialminus": [
            [
             0,
             "#0d0887"
            ],
            [
             0.1111111111111111,
             "#46039f"
            ],
            [
             0.2222222222222222,
             "#7201a8"
            ],
            [
             0.3333333333333333,
             "#9c179e"
            ],
            [
             0.4444444444444444,
             "#bd3786"
            ],
            [
             0.5555555555555556,
             "#d8576b"
            ],
            [
             0.6666666666666666,
             "#ed7953"
            ],
            [
             0.7777777777777778,
             "#fb9f3a"
            ],
            [
             0.8888888888888888,
             "#fdca26"
            ],
            [
             1,
             "#f0f921"
            ]
           ]
          },
          "colorway": [
           "#636efa",
           "#EF553B",
           "#00cc96",
           "#ab63fa",
           "#FFA15A",
           "#19d3f3",
           "#FF6692",
           "#B6E880",
           "#FF97FF",
           "#FECB52"
          ],
          "font": {
           "color": "#2a3f5f"
          },
          "geo": {
           "bgcolor": "white",
           "lakecolor": "white",
           "landcolor": "#E5ECF6",
           "showlakes": true,
           "showland": true,
           "subunitcolor": "white"
          },
          "hoverlabel": {
           "align": "left"
          },
          "hovermode": "closest",
          "mapbox": {
           "style": "light"
          },
          "paper_bgcolor": "white",
          "plot_bgcolor": "#E5ECF6",
          "polar": {
           "angularaxis": {
            "gridcolor": "white",
            "linecolor": "white",
            "ticks": ""
           },
           "bgcolor": "#E5ECF6",
           "radialaxis": {
            "gridcolor": "white",
            "linecolor": "white",
            "ticks": ""
           }
          },
          "scene": {
           "xaxis": {
            "backgroundcolor": "#E5ECF6",
            "gridcolor": "white",
            "gridwidth": 2,
            "linecolor": "white",
            "showbackground": true,
            "ticks": "",
            "zerolinecolor": "white"
           },
           "yaxis": {
            "backgroundcolor": "#E5ECF6",
            "gridcolor": "white",
            "gridwidth": 2,
            "linecolor": "white",
            "showbackground": true,
            "ticks": "",
            "zerolinecolor": "white"
           },
           "zaxis": {
            "backgroundcolor": "#E5ECF6",
            "gridcolor": "white",
            "gridwidth": 2,
            "linecolor": "white",
            "showbackground": true,
            "ticks": "",
            "zerolinecolor": "white"
           }
          },
          "shapedefaults": {
           "line": {
            "color": "#2a3f5f"
           }
          },
          "ternary": {
           "aaxis": {
            "gridcolor": "white",
            "linecolor": "white",
            "ticks": ""
           },
           "baxis": {
            "gridcolor": "white",
            "linecolor": "white",
            "ticks": ""
           },
           "bgcolor": "#E5ECF6",
           "caxis": {
            "gridcolor": "white",
            "linecolor": "white",
            "ticks": ""
           }
          },
          "title": {
           "x": 0.05
          },
          "xaxis": {
           "automargin": true,
           "gridcolor": "white",
           "linecolor": "white",
           "ticks": "",
           "title": {
            "standoff": 15
           },
           "zerolinecolor": "white",
           "zerolinewidth": 2
          },
          "yaxis": {
           "automargin": true,
           "gridcolor": "white",
           "linecolor": "white",
           "ticks": "",
           "title": {
            "standoff": 15
           },
           "zerolinecolor": "white",
           "zerolinewidth": 2
          }
         }
        },
        "title": {
         "text": "Number of players by Nationality"
        },
        "width": 800
       }
      }
     },
     "metadata": {}
    }
   ],
   "source": [
    "plot_pie_count(df, 'Nationality')"
   ]
  },
  {
   "cell_type": "code",
   "execution_count": 22,
   "metadata": {},
   "outputs": [
    {
     "output_type": "display_data",
     "data": {
      "application/vnd.plotly.v1+json": {
       "config": {
        "linkText": "Export to plot.ly",
        "plotlyServerURL": "https://plot.ly",
        "showLink": false
       },
       "data": [
        {
         "labels": [
          "Right",
          "Left",
          "Others(<0.5% each)"
         ],
         "type": "pie",
         "values": [
          13948,
          4211,
          48
         ]
        }
       ],
       "layout": {
        "height": 500,
        "template": {
         "data": {
          "bar": [
           {
            "error_x": {
             "color": "#2a3f5f"
            },
            "error_y": {
             "color": "#2a3f5f"
            },
            "marker": {
             "line": {
              "color": "#E5ECF6",
              "width": 0.5
             }
            },
            "type": "bar"
           }
          ],
          "barpolar": [
           {
            "marker": {
             "line": {
              "color": "#E5ECF6",
              "width": 0.5
             }
            },
            "type": "barpolar"
           }
          ],
          "carpet": [
           {
            "aaxis": {
             "endlinecolor": "#2a3f5f",
             "gridcolor": "white",
             "linecolor": "white",
             "minorgridcolor": "white",
             "startlinecolor": "#2a3f5f"
            },
            "baxis": {
             "endlinecolor": "#2a3f5f",
             "gridcolor": "white",
             "linecolor": "white",
             "minorgridcolor": "white",
             "startlinecolor": "#2a3f5f"
            },
            "type": "carpet"
           }
          ],
          "choropleth": [
           {
            "colorbar": {
             "outlinewidth": 0,
             "ticks": ""
            },
            "type": "choropleth"
           }
          ],
          "contour": [
           {
            "colorbar": {
             "outlinewidth": 0,
             "ticks": ""
            },
            "colorscale": [
             [
              0,
              "#0d0887"
             ],
             [
              0.1111111111111111,
              "#46039f"
             ],
             [
              0.2222222222222222,
              "#7201a8"
             ],
             [
              0.3333333333333333,
              "#9c179e"
             ],
             [
              0.4444444444444444,
              "#bd3786"
             ],
             [
              0.5555555555555556,
              "#d8576b"
             ],
             [
              0.6666666666666666,
              "#ed7953"
             ],
             [
              0.7777777777777778,
              "#fb9f3a"
             ],
             [
              0.8888888888888888,
              "#fdca26"
             ],
             [
              1,
              "#f0f921"
             ]
            ],
            "type": "contour"
           }
          ],
          "contourcarpet": [
           {
            "colorbar": {
             "outlinewidth": 0,
             "ticks": ""
            },
            "type": "contourcarpet"
           }
          ],
          "heatmap": [
           {
            "colorbar": {
             "outlinewidth": 0,
             "ticks": ""
            },
            "colorscale": [
             [
              0,
              "#0d0887"
             ],
             [
              0.1111111111111111,
              "#46039f"
             ],
             [
              0.2222222222222222,
              "#7201a8"
             ],
             [
              0.3333333333333333,
              "#9c179e"
             ],
             [
              0.4444444444444444,
              "#bd3786"
             ],
             [
              0.5555555555555556,
              "#d8576b"
             ],
             [
              0.6666666666666666,
              "#ed7953"
             ],
             [
              0.7777777777777778,
              "#fb9f3a"
             ],
             [
              0.8888888888888888,
              "#fdca26"
             ],
             [
              1,
              "#f0f921"
             ]
            ],
            "type": "heatmap"
           }
          ],
          "heatmapgl": [
           {
            "colorbar": {
             "outlinewidth": 0,
             "ticks": ""
            },
            "colorscale": [
             [
              0,
              "#0d0887"
             ],
             [
              0.1111111111111111,
              "#46039f"
             ],
             [
              0.2222222222222222,
              "#7201a8"
             ],
             [
              0.3333333333333333,
              "#9c179e"
             ],
             [
              0.4444444444444444,
              "#bd3786"
             ],
             [
              0.5555555555555556,
              "#d8576b"
             ],
             [
              0.6666666666666666,
              "#ed7953"
             ],
             [
              0.7777777777777778,
              "#fb9f3a"
             ],
             [
              0.8888888888888888,
              "#fdca26"
             ],
             [
              1,
              "#f0f921"
             ]
            ],
            "type": "heatmapgl"
           }
          ],
          "histogram": [
           {
            "marker": {
             "colorbar": {
              "outlinewidth": 0,
              "ticks": ""
             }
            },
            "type": "histogram"
           }
          ],
          "histogram2d": [
           {
            "colorbar": {
             "outlinewidth": 0,
             "ticks": ""
            },
            "colorscale": [
             [
              0,
              "#0d0887"
             ],
             [
              0.1111111111111111,
              "#46039f"
             ],
             [
              0.2222222222222222,
              "#7201a8"
             ],
             [
              0.3333333333333333,
              "#9c179e"
             ],
             [
              0.4444444444444444,
              "#bd3786"
             ],
             [
              0.5555555555555556,
              "#d8576b"
             ],
             [
              0.6666666666666666,
              "#ed7953"
             ],
             [
              0.7777777777777778,
              "#fb9f3a"
             ],
             [
              0.8888888888888888,
              "#fdca26"
             ],
             [
              1,
              "#f0f921"
             ]
            ],
            "type": "histogram2d"
           }
          ],
          "histogram2dcontour": [
           {
            "colorbar": {
             "outlinewidth": 0,
             "ticks": ""
            },
            "colorscale": [
             [
              0,
              "#0d0887"
             ],
             [
              0.1111111111111111,
              "#46039f"
             ],
             [
              0.2222222222222222,
              "#7201a8"
             ],
             [
              0.3333333333333333,
              "#9c179e"
             ],
             [
              0.4444444444444444,
              "#bd3786"
             ],
             [
              0.5555555555555556,
              "#d8576b"
             ],
             [
              0.6666666666666666,
              "#ed7953"
             ],
             [
              0.7777777777777778,
              "#fb9f3a"
             ],
             [
              0.8888888888888888,
              "#fdca26"
             ],
             [
              1,
              "#f0f921"
             ]
            ],
            "type": "histogram2dcontour"
           }
          ],
          "mesh3d": [
           {
            "colorbar": {
             "outlinewidth": 0,
             "ticks": ""
            },
            "type": "mesh3d"
           }
          ],
          "parcoords": [
           {
            "line": {
             "colorbar": {
              "outlinewidth": 0,
              "ticks": ""
             }
            },
            "type": "parcoords"
           }
          ],
          "pie": [
           {
            "automargin": true,
            "type": "pie"
           }
          ],
          "scatter": [
           {
            "marker": {
             "colorbar": {
              "outlinewidth": 0,
              "ticks": ""
             }
            },
            "type": "scatter"
           }
          ],
          "scatter3d": [
           {
            "line": {
             "colorbar": {
              "outlinewidth": 0,
              "ticks": ""
             }
            },
            "marker": {
             "colorbar": {
              "outlinewidth": 0,
              "ticks": ""
             }
            },
            "type": "scatter3d"
           }
          ],
          "scattercarpet": [
           {
            "marker": {
             "colorbar": {
              "outlinewidth": 0,
              "ticks": ""
             }
            },
            "type": "scattercarpet"
           }
          ],
          "scattergeo": [
           {
            "marker": {
             "colorbar": {
              "outlinewidth": 0,
              "ticks": ""
             }
            },
            "type": "scattergeo"
           }
          ],
          "scattergl": [
           {
            "marker": {
             "colorbar": {
              "outlinewidth": 0,
              "ticks": ""
             }
            },
            "type": "scattergl"
           }
          ],
          "scattermapbox": [
           {
            "marker": {
             "colorbar": {
              "outlinewidth": 0,
              "ticks": ""
             }
            },
            "type": "scattermapbox"
           }
          ],
          "scatterpolar": [
           {
            "marker": {
             "colorbar": {
              "outlinewidth": 0,
              "ticks": ""
             }
            },
            "type": "scatterpolar"
           }
          ],
          "scatterpolargl": [
           {
            "marker": {
             "colorbar": {
              "outlinewidth": 0,
              "ticks": ""
             }
            },
            "type": "scatterpolargl"
           }
          ],
          "scatterternary": [
           {
            "marker": {
             "colorbar": {
              "outlinewidth": 0,
              "ticks": ""
             }
            },
            "type": "scatterternary"
           }
          ],
          "surface": [
           {
            "colorbar": {
             "outlinewidth": 0,
             "ticks": ""
            },
            "colorscale": [
             [
              0,
              "#0d0887"
             ],
             [
              0.1111111111111111,
              "#46039f"
             ],
             [
              0.2222222222222222,
              "#7201a8"
             ],
             [
              0.3333333333333333,
              "#9c179e"
             ],
             [
              0.4444444444444444,
              "#bd3786"
             ],
             [
              0.5555555555555556,
              "#d8576b"
             ],
             [
              0.6666666666666666,
              "#ed7953"
             ],
             [
              0.7777777777777778,
              "#fb9f3a"
             ],
             [
              0.8888888888888888,
              "#fdca26"
             ],
             [
              1,
              "#f0f921"
             ]
            ],
            "type": "surface"
           }
          ],
          "table": [
           {
            "cells": {
             "fill": {
              "color": "#EBF0F8"
             },
             "line": {
              "color": "white"
             }
            },
            "header": {
             "fill": {
              "color": "#C8D4E3"
             },
             "line": {
              "color": "white"
             }
            },
            "type": "table"
           }
          ]
         },
         "layout": {
          "annotationdefaults": {
           "arrowcolor": "#2a3f5f",
           "arrowhead": 0,
           "arrowwidth": 1
          },
          "coloraxis": {
           "colorbar": {
            "outlinewidth": 0,
            "ticks": ""
           }
          },
          "colorscale": {
           "diverging": [
            [
             0,
             "#8e0152"
            ],
            [
             0.1,
             "#c51b7d"
            ],
            [
             0.2,
             "#de77ae"
            ],
            [
             0.3,
             "#f1b6da"
            ],
            [
             0.4,
             "#fde0ef"
            ],
            [
             0.5,
             "#f7f7f7"
            ],
            [
             0.6,
             "#e6f5d0"
            ],
            [
             0.7,
             "#b8e186"
            ],
            [
             0.8,
             "#7fbc41"
            ],
            [
             0.9,
             "#4d9221"
            ],
            [
             1,
             "#276419"
            ]
           ],
           "sequential": [
            [
             0,
             "#0d0887"
            ],
            [
             0.1111111111111111,
             "#46039f"
            ],
            [
             0.2222222222222222,
             "#7201a8"
            ],
            [
             0.3333333333333333,
             "#9c179e"
            ],
            [
             0.4444444444444444,
             "#bd3786"
            ],
            [
             0.5555555555555556,
             "#d8576b"
            ],
            [
             0.6666666666666666,
             "#ed7953"
            ],
            [
             0.7777777777777778,
             "#fb9f3a"
            ],
            [
             0.8888888888888888,
             "#fdca26"
            ],
            [
             1,
             "#f0f921"
            ]
           ],
           "sequentialminus": [
            [
             0,
             "#0d0887"
            ],
            [
             0.1111111111111111,
             "#46039f"
            ],
            [
             0.2222222222222222,
             "#7201a8"
            ],
            [
             0.3333333333333333,
             "#9c179e"
            ],
            [
             0.4444444444444444,
             "#bd3786"
            ],
            [
             0.5555555555555556,
             "#d8576b"
            ],
            [
             0.6666666666666666,
             "#ed7953"
            ],
            [
             0.7777777777777778,
             "#fb9f3a"
            ],
            [
             0.8888888888888888,
             "#fdca26"
            ],
            [
             1,
             "#f0f921"
            ]
           ]
          },
          "colorway": [
           "#636efa",
           "#EF553B",
           "#00cc96",
           "#ab63fa",
           "#FFA15A",
           "#19d3f3",
           "#FF6692",
           "#B6E880",
           "#FF97FF",
           "#FECB52"
          ],
          "font": {
           "color": "#2a3f5f"
          },
          "geo": {
           "bgcolor": "white",
           "lakecolor": "white",
           "landcolor": "#E5ECF6",
           "showlakes": true,
           "showland": true,
           "subunitcolor": "white"
          },
          "hoverlabel": {
           "align": "left"
          },
          "hovermode": "closest",
          "mapbox": {
           "style": "light"
          },
          "paper_bgcolor": "white",
          "plot_bgcolor": "#E5ECF6",
          "polar": {
           "angularaxis": {
            "gridcolor": "white",
            "linecolor": "white",
            "ticks": ""
           },
           "bgcolor": "#E5ECF6",
           "radialaxis": {
            "gridcolor": "white",
            "linecolor": "white",
            "ticks": ""
           }
          },
          "scene": {
           "xaxis": {
            "backgroundcolor": "#E5ECF6",
            "gridcolor": "white",
            "gridwidth": 2,
            "linecolor": "white",
            "showbackground": true,
            "ticks": "",
            "zerolinecolor": "white"
           },
           "yaxis": {
            "backgroundcolor": "#E5ECF6",
            "gridcolor": "white",
            "gridwidth": 2,
            "linecolor": "white",
            "showbackground": true,
            "ticks": "",
            "zerolinecolor": "white"
           },
           "zaxis": {
            "backgroundcolor": "#E5ECF6",
            "gridcolor": "white",
            "gridwidth": 2,
            "linecolor": "white",
            "showbackground": true,
            "ticks": "",
            "zerolinecolor": "white"
           }
          },
          "shapedefaults": {
           "line": {
            "color": "#2a3f5f"
           }
          },
          "ternary": {
           "aaxis": {
            "gridcolor": "white",
            "linecolor": "white",
            "ticks": ""
           },
           "baxis": {
            "gridcolor": "white",
            "linecolor": "white",
            "ticks": ""
           },
           "bgcolor": "#E5ECF6",
           "caxis": {
            "gridcolor": "white",
            "linecolor": "white",
            "ticks": ""
           }
          },
          "title": {
           "x": 0.05
          },
          "xaxis": {
           "automargin": true,
           "gridcolor": "white",
           "linecolor": "white",
           "ticks": "",
           "title": {
            "standoff": 15
           },
           "zerolinecolor": "white",
           "zerolinewidth": 2
          },
          "yaxis": {
           "automargin": true,
           "gridcolor": "white",
           "linecolor": "white",
           "ticks": "",
           "title": {
            "standoff": 15
           },
           "zerolinecolor": "white",
           "zerolinewidth": 2
          }
         }
        },
        "title": {
         "text": "Number of players by Preferred Foot"
        },
        "width": 800
       }
      }
     },
     "metadata": {}
    }
   ],
   "source": [
    "plot_pie_count(df, 'Preferred Foot')"
   ]
  },
  {
   "cell_type": "code",
   "execution_count": 23,
   "metadata": {},
   "outputs": [
    {
     "output_type": "display_data",
     "data": {
      "application/vnd.plotly.v1+json": {
       "config": {
        "linkText": "Export to plot.ly",
        "plotlyServerURL": "https://plot.ly",
        "showLink": false
       },
       "data": [
        {
         "labels": [
          "Medium/ Medium",
          "High/ Medium",
          "Medium/ High",
          "High/ High",
          "Medium/ Low",
          "High/ Low",
          "Low/ Medium",
          "Low/ High",
          "NA",
          "Low/ Low",
          "Others(<0.1% each)"
         ],
         "type": "pie",
         "values": [
          9810,
          3173,
          1690,
          1015,
          850,
          699,
          449,
          439,
          48,
          34,
          0
         ]
        }
       ],
       "layout": {
        "height": 500,
        "template": {
         "data": {
          "bar": [
           {
            "error_x": {
             "color": "#2a3f5f"
            },
            "error_y": {
             "color": "#2a3f5f"
            },
            "marker": {
             "line": {
              "color": "#E5ECF6",
              "width": 0.5
             }
            },
            "type": "bar"
           }
          ],
          "barpolar": [
           {
            "marker": {
             "line": {
              "color": "#E5ECF6",
              "width": 0.5
             }
            },
            "type": "barpolar"
           }
          ],
          "carpet": [
           {
            "aaxis": {
             "endlinecolor": "#2a3f5f",
             "gridcolor": "white",
             "linecolor": "white",
             "minorgridcolor": "white",
             "startlinecolor": "#2a3f5f"
            },
            "baxis": {
             "endlinecolor": "#2a3f5f",
             "gridcolor": "white",
             "linecolor": "white",
             "minorgridcolor": "white",
             "startlinecolor": "#2a3f5f"
            },
            "type": "carpet"
           }
          ],
          "choropleth": [
           {
            "colorbar": {
             "outlinewidth": 0,
             "ticks": ""
            },
            "type": "choropleth"
           }
          ],
          "contour": [
           {
            "colorbar": {
             "outlinewidth": 0,
             "ticks": ""
            },
            "colorscale": [
             [
              0,
              "#0d0887"
             ],
             [
              0.1111111111111111,
              "#46039f"
             ],
             [
              0.2222222222222222,
              "#7201a8"
             ],
             [
              0.3333333333333333,
              "#9c179e"
             ],
             [
              0.4444444444444444,
              "#bd3786"
             ],
             [
              0.5555555555555556,
              "#d8576b"
             ],
             [
              0.6666666666666666,
              "#ed7953"
             ],
             [
              0.7777777777777778,
              "#fb9f3a"
             ],
             [
              0.8888888888888888,
              "#fdca26"
             ],
             [
              1,
              "#f0f921"
             ]
            ],
            "type": "contour"
           }
          ],
          "contourcarpet": [
           {
            "colorbar": {
             "outlinewidth": 0,
             "ticks": ""
            },
            "type": "contourcarpet"
           }
          ],
          "heatmap": [
           {
            "colorbar": {
             "outlinewidth": 0,
             "ticks": ""
            },
            "colorscale": [
             [
              0,
              "#0d0887"
             ],
             [
              0.1111111111111111,
              "#46039f"
             ],
             [
              0.2222222222222222,
              "#7201a8"
             ],
             [
              0.3333333333333333,
              "#9c179e"
             ],
             [
              0.4444444444444444,
              "#bd3786"
             ],
             [
              0.5555555555555556,
              "#d8576b"
             ],
             [
              0.6666666666666666,
              "#ed7953"
             ],
             [
              0.7777777777777778,
              "#fb9f3a"
             ],
             [
              0.8888888888888888,
              "#fdca26"
             ],
             [
              1,
              "#f0f921"
             ]
            ],
            "type": "heatmap"
           }
          ],
          "heatmapgl": [
           {
            "colorbar": {
             "outlinewidth": 0,
             "ticks": ""
            },
            "colorscale": [
             [
              0,
              "#0d0887"
             ],
             [
              0.1111111111111111,
              "#46039f"
             ],
             [
              0.2222222222222222,
              "#7201a8"
             ],
             [
              0.3333333333333333,
              "#9c179e"
             ],
             [
              0.4444444444444444,
              "#bd3786"
             ],
             [
              0.5555555555555556,
              "#d8576b"
             ],
             [
              0.6666666666666666,
              "#ed7953"
             ],
             [
              0.7777777777777778,
              "#fb9f3a"
             ],
             [
              0.8888888888888888,
              "#fdca26"
             ],
             [
              1,
              "#f0f921"
             ]
            ],
            "type": "heatmapgl"
           }
          ],
          "histogram": [
           {
            "marker": {
             "colorbar": {
              "outlinewidth": 0,
              "ticks": ""
             }
            },
            "type": "histogram"
           }
          ],
          "histogram2d": [
           {
            "colorbar": {
             "outlinewidth": 0,
             "ticks": ""
            },
            "colorscale": [
             [
              0,
              "#0d0887"
             ],
             [
              0.1111111111111111,
              "#46039f"
             ],
             [
              0.2222222222222222,
              "#7201a8"
             ],
             [
              0.3333333333333333,
              "#9c179e"
             ],
             [
              0.4444444444444444,
              "#bd3786"
             ],
             [
              0.5555555555555556,
              "#d8576b"
             ],
             [
              0.6666666666666666,
              "#ed7953"
             ],
             [
              0.7777777777777778,
              "#fb9f3a"
             ],
             [
              0.8888888888888888,
              "#fdca26"
             ],
             [
              1,
              "#f0f921"
             ]
            ],
            "type": "histogram2d"
           }
          ],
          "histogram2dcontour": [
           {
            "colorbar": {
             "outlinewidth": 0,
             "ticks": ""
            },
            "colorscale": [
             [
              0,
              "#0d0887"
             ],
             [
              0.1111111111111111,
              "#46039f"
             ],
             [
              0.2222222222222222,
              "#7201a8"
             ],
             [
              0.3333333333333333,
              "#9c179e"
             ],
             [
              0.4444444444444444,
              "#bd3786"
             ],
             [
              0.5555555555555556,
              "#d8576b"
             ],
             [
              0.6666666666666666,
              "#ed7953"
             ],
             [
              0.7777777777777778,
              "#fb9f3a"
             ],
             [
              0.8888888888888888,
              "#fdca26"
             ],
             [
              1,
              "#f0f921"
             ]
            ],
            "type": "histogram2dcontour"
           }
          ],
          "mesh3d": [
           {
            "colorbar": {
             "outlinewidth": 0,
             "ticks": ""
            },
            "type": "mesh3d"
           }
          ],
          "parcoords": [
           {
            "line": {
             "colorbar": {
              "outlinewidth": 0,
              "ticks": ""
             }
            },
            "type": "parcoords"
           }
          ],
          "pie": [
           {
            "automargin": true,
            "type": "pie"
           }
          ],
          "scatter": [
           {
            "marker": {
             "colorbar": {
              "outlinewidth": 0,
              "ticks": ""
             }
            },
            "type": "scatter"
           }
          ],
          "scatter3d": [
           {
            "line": {
             "colorbar": {
              "outlinewidth": 0,
              "ticks": ""
             }
            },
            "marker": {
             "colorbar": {
              "outlinewidth": 0,
              "ticks": ""
             }
            },
            "type": "scatter3d"
           }
          ],
          "scattercarpet": [
           {
            "marker": {
             "colorbar": {
              "outlinewidth": 0,
              "ticks": ""
             }
            },
            "type": "scattercarpet"
           }
          ],
          "scattergeo": [
           {
            "marker": {
             "colorbar": {
              "outlinewidth": 0,
              "ticks": ""
             }
            },
            "type": "scattergeo"
           }
          ],
          "scattergl": [
           {
            "marker": {
             "colorbar": {
              "outlinewidth": 0,
              "ticks": ""
             }
            },
            "type": "scattergl"
           }
          ],
          "scattermapbox": [
           {
            "marker": {
             "colorbar": {
              "outlinewidth": 0,
              "ticks": ""
             }
            },
            "type": "scattermapbox"
           }
          ],
          "scatterpolar": [
           {
            "marker": {
             "colorbar": {
              "outlinewidth": 0,
              "ticks": ""
             }
            },
            "type": "scatterpolar"
           }
          ],
          "scatterpolargl": [
           {
            "marker": {
             "colorbar": {
              "outlinewidth": 0,
              "ticks": ""
             }
            },
            "type": "scatterpolargl"
           }
          ],
          "scatterternary": [
           {
            "marker": {
             "colorbar": {
              "outlinewidth": 0,
              "ticks": ""
             }
            },
            "type": "scatterternary"
           }
          ],
          "surface": [
           {
            "colorbar": {
             "outlinewidth": 0,
             "ticks": ""
            },
            "colorscale": [
             [
              0,
              "#0d0887"
             ],
             [
              0.1111111111111111,
              "#46039f"
             ],
             [
              0.2222222222222222,
              "#7201a8"
             ],
             [
              0.3333333333333333,
              "#9c179e"
             ],
             [
              0.4444444444444444,
              "#bd3786"
             ],
             [
              0.5555555555555556,
              "#d8576b"
             ],
             [
              0.6666666666666666,
              "#ed7953"
             ],
             [
              0.7777777777777778,
              "#fb9f3a"
             ],
             [
              0.8888888888888888,
              "#fdca26"
             ],
             [
              1,
              "#f0f921"
             ]
            ],
            "type": "surface"
           }
          ],
          "table": [
           {
            "cells": {
             "fill": {
              "color": "#EBF0F8"
             },
             "line": {
              "color": "white"
             }
            },
            "header": {
             "fill": {
              "color": "#C8D4E3"
             },
             "line": {
              "color": "white"
             }
            },
            "type": "table"
           }
          ]
         },
         "layout": {
          "annotationdefaults": {
           "arrowcolor": "#2a3f5f",
           "arrowhead": 0,
           "arrowwidth": 1
          },
          "coloraxis": {
           "colorbar": {
            "outlinewidth": 0,
            "ticks": ""
           }
          },
          "colorscale": {
           "diverging": [
            [
             0,
             "#8e0152"
            ],
            [
             0.1,
             "#c51b7d"
            ],
            [
             0.2,
             "#de77ae"
            ],
            [
             0.3,
             "#f1b6da"
            ],
            [
             0.4,
             "#fde0ef"
            ],
            [
             0.5,
             "#f7f7f7"
            ],
            [
             0.6,
             "#e6f5d0"
            ],
            [
             0.7,
             "#b8e186"
            ],
            [
             0.8,
             "#7fbc41"
            ],
            [
             0.9,
             "#4d9221"
            ],
            [
             1,
             "#276419"
            ]
           ],
           "sequential": [
            [
             0,
             "#0d0887"
            ],
            [
             0.1111111111111111,
             "#46039f"
            ],
            [
             0.2222222222222222,
             "#7201a8"
            ],
            [
             0.3333333333333333,
             "#9c179e"
            ],
            [
             0.4444444444444444,
             "#bd3786"
            ],
            [
             0.5555555555555556,
             "#d8576b"
            ],
            [
             0.6666666666666666,
             "#ed7953"
            ],
            [
             0.7777777777777778,
             "#fb9f3a"
            ],
            [
             0.8888888888888888,
             "#fdca26"
            ],
            [
             1,
             "#f0f921"
            ]
           ],
           "sequentialminus": [
            [
             0,
             "#0d0887"
            ],
            [
             0.1111111111111111,
             "#46039f"
            ],
            [
             0.2222222222222222,
             "#7201a8"
            ],
            [
             0.3333333333333333,
             "#9c179e"
            ],
            [
             0.4444444444444444,
             "#bd3786"
            ],
            [
             0.5555555555555556,
             "#d8576b"
            ],
            [
             0.6666666666666666,
             "#ed7953"
            ],
            [
             0.7777777777777778,
             "#fb9f3a"
            ],
            [
             0.8888888888888888,
             "#fdca26"
            ],
            [
             1,
             "#f0f921"
            ]
           ]
          },
          "colorway": [
           "#636efa",
           "#EF553B",
           "#00cc96",
           "#ab63fa",
           "#FFA15A",
           "#19d3f3",
           "#FF6692",
           "#B6E880",
           "#FF97FF",
           "#FECB52"
          ],
          "font": {
           "color": "#2a3f5f"
          },
          "geo": {
           "bgcolor": "white",
           "lakecolor": "white",
           "landcolor": "#E5ECF6",
           "showlakes": true,
           "showland": true,
           "subunitcolor": "white"
          },
          "hoverlabel": {
           "align": "left"
          },
          "hovermode": "closest",
          "mapbox": {
           "style": "light"
          },
          "paper_bgcolor": "white",
          "plot_bgcolor": "#E5ECF6",
          "polar": {
           "angularaxis": {
            "gridcolor": "white",
            "linecolor": "white",
            "ticks": ""
           },
           "bgcolor": "#E5ECF6",
           "radialaxis": {
            "gridcolor": "white",
            "linecolor": "white",
            "ticks": ""
           }
          },
          "scene": {
           "xaxis": {
            "backgroundcolor": "#E5ECF6",
            "gridcolor": "white",
            "gridwidth": 2,
            "linecolor": "white",
            "showbackground": true,
            "ticks": "",
            "zerolinecolor": "white"
           },
           "yaxis": {
            "backgroundcolor": "#E5ECF6",
            "gridcolor": "white",
            "gridwidth": 2,
            "linecolor": "white",
            "showbackground": true,
            "ticks": "",
            "zerolinecolor": "white"
           },
           "zaxis": {
            "backgroundcolor": "#E5ECF6",
            "gridcolor": "white",
            "gridwidth": 2,
            "linecolor": "white",
            "showbackground": true,
            "ticks": "",
            "zerolinecolor": "white"
           }
          },
          "shapedefaults": {
           "line": {
            "color": "#2a3f5f"
           }
          },
          "ternary": {
           "aaxis": {
            "gridcolor": "white",
            "linecolor": "white",
            "ticks": ""
           },
           "baxis": {
            "gridcolor": "white",
            "linecolor": "white",
            "ticks": ""
           },
           "bgcolor": "#E5ECF6",
           "caxis": {
            "gridcolor": "white",
            "linecolor": "white",
            "ticks": ""
           }
          },
          "title": {
           "x": 0.05
          },
          "xaxis": {
           "automargin": true,
           "gridcolor": "white",
           "linecolor": "white",
           "ticks": "",
           "title": {
            "standoff": 15
           },
           "zerolinecolor": "white",
           "zerolinewidth": 2
          },
          "yaxis": {
           "automargin": true,
           "gridcolor": "white",
           "linecolor": "white",
           "ticks": "",
           "title": {
            "standoff": 15
           },
           "zerolinecolor": "white",
           "zerolinewidth": 2
          }
         }
        },
        "title": {
         "text": "Number of players by Work Rate"
        },
        "width": 800
       }
      }
     },
     "metadata": {}
    },
    {
     "output_type": "display_data",
     "data": {
      "application/vnd.plotly.v1+json": {
       "config": {
        "linkText": "Export to plot.ly",
        "plotlyServerURL": "https://plot.ly",
        "showLink": false
       },
       "data": [
        {
         "labels": [
          "Normal",
          "Lean",
          "Stocky",
          "NA",
          "Others(<0.1% each)"
         ],
         "type": "pie",
         "values": [
          10595,
          6417,
          1140,
          48,
          7
         ]
        }
       ],
       "layout": {
        "height": 500,
        "template": {
         "data": {
          "bar": [
           {
            "error_x": {
             "color": "#2a3f5f"
            },
            "error_y": {
             "color": "#2a3f5f"
            },
            "marker": {
             "line": {
              "color": "#E5ECF6",
              "width": 0.5
             }
            },
            "type": "bar"
           }
          ],
          "barpolar": [
           {
            "marker": {
             "line": {
              "color": "#E5ECF6",
              "width": 0.5
             }
            },
            "type": "barpolar"
           }
          ],
          "carpet": [
           {
            "aaxis": {
             "endlinecolor": "#2a3f5f",
             "gridcolor": "white",
             "linecolor": "white",
             "minorgridcolor": "white",
             "startlinecolor": "#2a3f5f"
            },
            "baxis": {
             "endlinecolor": "#2a3f5f",
             "gridcolor": "white",
             "linecolor": "white",
             "minorgridcolor": "white",
             "startlinecolor": "#2a3f5f"
            },
            "type": "carpet"
           }
          ],
          "choropleth": [
           {
            "colorbar": {
             "outlinewidth": 0,
             "ticks": ""
            },
            "type": "choropleth"
           }
          ],
          "contour": [
           {
            "colorbar": {
             "outlinewidth": 0,
             "ticks": ""
            },
            "colorscale": [
             [
              0,
              "#0d0887"
             ],
             [
              0.1111111111111111,
              "#46039f"
             ],
             [
              0.2222222222222222,
              "#7201a8"
             ],
             [
              0.3333333333333333,
              "#9c179e"
             ],
             [
              0.4444444444444444,
              "#bd3786"
             ],
             [
              0.5555555555555556,
              "#d8576b"
             ],
             [
              0.6666666666666666,
              "#ed7953"
             ],
             [
              0.7777777777777778,
              "#fb9f3a"
             ],
             [
              0.8888888888888888,
              "#fdca26"
             ],
             [
              1,
              "#f0f921"
             ]
            ],
            "type": "contour"
           }
          ],
          "contourcarpet": [
           {
            "colorbar": {
             "outlinewidth": 0,
             "ticks": ""
            },
            "type": "contourcarpet"
           }
          ],
          "heatmap": [
           {
            "colorbar": {
             "outlinewidth": 0,
             "ticks": ""
            },
            "colorscale": [
             [
              0,
              "#0d0887"
             ],
             [
              0.1111111111111111,
              "#46039f"
             ],
             [
              0.2222222222222222,
              "#7201a8"
             ],
             [
              0.3333333333333333,
              "#9c179e"
             ],
             [
              0.4444444444444444,
              "#bd3786"
             ],
             [
              0.5555555555555556,
              "#d8576b"
             ],
             [
              0.6666666666666666,
              "#ed7953"
             ],
             [
              0.7777777777777778,
              "#fb9f3a"
             ],
             [
              0.8888888888888888,
              "#fdca26"
             ],
             [
              1,
              "#f0f921"
             ]
            ],
            "type": "heatmap"
           }
          ],
          "heatmapgl": [
           {
            "colorbar": {
             "outlinewidth": 0,
             "ticks": ""
            },
            "colorscale": [
             [
              0,
              "#0d0887"
             ],
             [
              0.1111111111111111,
              "#46039f"
             ],
             [
              0.2222222222222222,
              "#7201a8"
             ],
             [
              0.3333333333333333,
              "#9c179e"
             ],
             [
              0.4444444444444444,
              "#bd3786"
             ],
             [
              0.5555555555555556,
              "#d8576b"
             ],
             [
              0.6666666666666666,
              "#ed7953"
             ],
             [
              0.7777777777777778,
              "#fb9f3a"
             ],
             [
              0.8888888888888888,
              "#fdca26"
             ],
             [
              1,
              "#f0f921"
             ]
            ],
            "type": "heatmapgl"
           }
          ],
          "histogram": [
           {
            "marker": {
             "colorbar": {
              "outlinewidth": 0,
              "ticks": ""
             }
            },
            "type": "histogram"
           }
          ],
          "histogram2d": [
           {
            "colorbar": {
             "outlinewidth": 0,
             "ticks": ""
            },
            "colorscale": [
             [
              0,
              "#0d0887"
             ],
             [
              0.1111111111111111,
              "#46039f"
             ],
             [
              0.2222222222222222,
              "#7201a8"
             ],
             [
              0.3333333333333333,
              "#9c179e"
             ],
             [
              0.4444444444444444,
              "#bd3786"
             ],
             [
              0.5555555555555556,
              "#d8576b"
             ],
             [
              0.6666666666666666,
              "#ed7953"
             ],
             [
              0.7777777777777778,
              "#fb9f3a"
             ],
             [
              0.8888888888888888,
              "#fdca26"
             ],
             [
              1,
              "#f0f921"
             ]
            ],
            "type": "histogram2d"
           }
          ],
          "histogram2dcontour": [
           {
            "colorbar": {
             "outlinewidth": 0,
             "ticks": ""
            },
            "colorscale": [
             [
              0,
              "#0d0887"
             ],
             [
              0.1111111111111111,
              "#46039f"
             ],
             [
              0.2222222222222222,
              "#7201a8"
             ],
             [
              0.3333333333333333,
              "#9c179e"
             ],
             [
              0.4444444444444444,
              "#bd3786"
             ],
             [
              0.5555555555555556,
              "#d8576b"
             ],
             [
              0.6666666666666666,
              "#ed7953"
             ],
             [
              0.7777777777777778,
              "#fb9f3a"
             ],
             [
              0.8888888888888888,
              "#fdca26"
             ],
             [
              1,
              "#f0f921"
             ]
            ],
            "type": "histogram2dcontour"
           }
          ],
          "mesh3d": [
           {
            "colorbar": {
             "outlinewidth": 0,
             "ticks": ""
            },
            "type": "mesh3d"
           }
          ],
          "parcoords": [
           {
            "line": {
             "colorbar": {
              "outlinewidth": 0,
              "ticks": ""
             }
            },
            "type": "parcoords"
           }
          ],
          "pie": [
           {
            "automargin": true,
            "type": "pie"
           }
          ],
          "scatter": [
           {
            "marker": {
             "colorbar": {
              "outlinewidth": 0,
              "ticks": ""
             }
            },
            "type": "scatter"
           }
          ],
          "scatter3d": [
           {
            "line": {
             "colorbar": {
              "outlinewidth": 0,
              "ticks": ""
             }
            },
            "marker": {
             "colorbar": {
              "outlinewidth": 0,
              "ticks": ""
             }
            },
            "type": "scatter3d"
           }
          ],
          "scattercarpet": [
           {
            "marker": {
             "colorbar": {
              "outlinewidth": 0,
              "ticks": ""
             }
            },
            "type": "scattercarpet"
           }
          ],
          "scattergeo": [
           {
            "marker": {
             "colorbar": {
              "outlinewidth": 0,
              "ticks": ""
             }
            },
            "type": "scattergeo"
           }
          ],
          "scattergl": [
           {
            "marker": {
             "colorbar": {
              "outlinewidth": 0,
              "ticks": ""
             }
            },
            "type": "scattergl"
           }
          ],
          "scattermapbox": [
           {
            "marker": {
             "colorbar": {
              "outlinewidth": 0,
              "ticks": ""
             }
            },
            "type": "scattermapbox"
           }
          ],
          "scatterpolar": [
           {
            "marker": {
             "colorbar": {
              "outlinewidth": 0,
              "ticks": ""
             }
            },
            "type": "scatterpolar"
           }
          ],
          "scatterpolargl": [
           {
            "marker": {
             "colorbar": {
              "outlinewidth": 0,
              "ticks": ""
             }
            },
            "type": "scatterpolargl"
           }
          ],
          "scatterternary": [
           {
            "marker": {
             "colorbar": {
              "outlinewidth": 0,
              "ticks": ""
             }
            },
            "type": "scatterternary"
           }
          ],
          "surface": [
           {
            "colorbar": {
             "outlinewidth": 0,
             "ticks": ""
            },
            "colorscale": [
             [
              0,
              "#0d0887"
             ],
             [
              0.1111111111111111,
              "#46039f"
             ],
             [
              0.2222222222222222,
              "#7201a8"
             ],
             [
              0.3333333333333333,
              "#9c179e"
             ],
             [
              0.4444444444444444,
              "#bd3786"
             ],
             [
              0.5555555555555556,
              "#d8576b"
             ],
             [
              0.6666666666666666,
              "#ed7953"
             ],
             [
              0.7777777777777778,
              "#fb9f3a"
             ],
             [
              0.8888888888888888,
              "#fdca26"
             ],
             [
              1,
              "#f0f921"
             ]
            ],
            "type": "surface"
           }
          ],
          "table": [
           {
            "cells": {
             "fill": {
              "color": "#EBF0F8"
             },
             "line": {
              "color": "white"
             }
            },
            "header": {
             "fill": {
              "color": "#C8D4E3"
             },
             "line": {
              "color": "white"
             }
            },
            "type": "table"
           }
          ]
         },
         "layout": {
          "annotationdefaults": {
           "arrowcolor": "#2a3f5f",
           "arrowhead": 0,
           "arrowwidth": 1
          },
          "coloraxis": {
           "colorbar": {
            "outlinewidth": 0,
            "ticks": ""
           }
          },
          "colorscale": {
           "diverging": [
            [
             0,
             "#8e0152"
            ],
            [
             0.1,
             "#c51b7d"
            ],
            [
             0.2,
             "#de77ae"
            ],
            [
             0.3,
             "#f1b6da"
            ],
            [
             0.4,
             "#fde0ef"
            ],
            [
             0.5,
             "#f7f7f7"
            ],
            [
             0.6,
             "#e6f5d0"
            ],
            [
             0.7,
             "#b8e186"
            ],
            [
             0.8,
             "#7fbc41"
            ],
            [
             0.9,
             "#4d9221"
            ],
            [
             1,
             "#276419"
            ]
           ],
           "sequential": [
            [
             0,
             "#0d0887"
            ],
            [
             0.1111111111111111,
             "#46039f"
            ],
            [
             0.2222222222222222,
             "#7201a8"
            ],
            [
             0.3333333333333333,
             "#9c179e"
            ],
            [
             0.4444444444444444,
             "#bd3786"
            ],
            [
             0.5555555555555556,
             "#d8576b"
            ],
            [
             0.6666666666666666,
             "#ed7953"
            ],
            [
             0.7777777777777778,
             "#fb9f3a"
            ],
            [
             0.8888888888888888,
             "#fdca26"
            ],
            [
             1,
             "#f0f921"
            ]
           ],
           "sequentialminus": [
            [
             0,
             "#0d0887"
            ],
            [
             0.1111111111111111,
             "#46039f"
            ],
            [
             0.2222222222222222,
             "#7201a8"
            ],
            [
             0.3333333333333333,
             "#9c179e"
            ],
            [
             0.4444444444444444,
             "#bd3786"
            ],
            [
             0.5555555555555556,
             "#d8576b"
            ],
            [
             0.6666666666666666,
             "#ed7953"
            ],
            [
             0.7777777777777778,
             "#fb9f3a"
            ],
            [
             0.8888888888888888,
             "#fdca26"
            ],
            [
             1,
             "#f0f921"
            ]
           ]
          },
          "colorway": [
           "#636efa",
           "#EF553B",
           "#00cc96",
           "#ab63fa",
           "#FFA15A",
           "#19d3f3",
           "#FF6692",
           "#B6E880",
           "#FF97FF",
           "#FECB52"
          ],
          "font": {
           "color": "#2a3f5f"
          },
          "geo": {
           "bgcolor": "white",
           "lakecolor": "white",
           "landcolor": "#E5ECF6",
           "showlakes": true,
           "showland": true,
           "subunitcolor": "white"
          },
          "hoverlabel": {
           "align": "left"
          },
          "hovermode": "closest",
          "mapbox": {
           "style": "light"
          },
          "paper_bgcolor": "white",
          "plot_bgcolor": "#E5ECF6",
          "polar": {
           "angularaxis": {
            "gridcolor": "white",
            "linecolor": "white",
            "ticks": ""
           },
           "bgcolor": "#E5ECF6",
           "radialaxis": {
            "gridcolor": "white",
            "linecolor": "white",
            "ticks": ""
           }
          },
          "scene": {
           "xaxis": {
            "backgroundcolor": "#E5ECF6",
            "gridcolor": "white",
            "gridwidth": 2,
            "linecolor": "white",
            "showbackground": true,
            "ticks": "",
            "zerolinecolor": "white"
           },
           "yaxis": {
            "backgroundcolor": "#E5ECF6",
            "gridcolor": "white",
            "gridwidth": 2,
            "linecolor": "white",
            "showbackground": true,
            "ticks": "",
            "zerolinecolor": "white"
           },
           "zaxis": {
            "backgroundcolor": "#E5ECF6",
            "gridcolor": "white",
            "gridwidth": 2,
            "linecolor": "white",
            "showbackground": true,
            "ticks": "",
            "zerolinecolor": "white"
           }
          },
          "shapedefaults": {
           "line": {
            "color": "#2a3f5f"
           }
          },
          "ternary": {
           "aaxis": {
            "gridcolor": "white",
            "linecolor": "white",
            "ticks": ""
           },
           "baxis": {
            "gridcolor": "white",
            "linecolor": "white",
            "ticks": ""
           },
           "bgcolor": "#E5ECF6",
           "caxis": {
            "gridcolor": "white",
            "linecolor": "white",
            "ticks": ""
           }
          },
          "title": {
           "x": 0.05
          },
          "xaxis": {
           "automargin": true,
           "gridcolor": "white",
           "linecolor": "white",
           "ticks": "",
           "title": {
            "standoff": 15
           },
           "zerolinecolor": "white",
           "zerolinewidth": 2
          },
          "yaxis": {
           "automargin": true,
           "gridcolor": "white",
           "linecolor": "white",
           "ticks": "",
           "title": {
            "standoff": 15
           },
           "zerolinecolor": "white",
           "zerolinewidth": 2
          }
         }
        },
        "title": {
         "text": "Number of players by Body Type"
        },
        "width": 800
       }
      }
     },
     "metadata": {}
    }
   ],
   "source": [
    "plot_pie_count(df, 'Work Rate', 0.1)\n",
    "plot_pie_count(df, 'Body Type', 0.1)"
   ]
  },
  {
   "source": [
    "Here are some other variables one can try"
   ],
   "cell_type": "markdown",
   "metadata": {}
  }
 ]
}