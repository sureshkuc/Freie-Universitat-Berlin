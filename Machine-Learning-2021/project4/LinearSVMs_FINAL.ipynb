{
 "cells": [
  {
   "cell_type": "markdown",
   "metadata": {},
   "source": [
    "# Demo: Linear hard-margin SVM"
   ]
  },
  {
   "cell_type": "code",
   "execution_count": 280,
   "metadata": {},
   "outputs": [],
   "source": [
    "import numpy as np\n",
    "import matplotlib.pyplot as plt\n",
    "import cvxopt\n",
    "from cvxopt import matrix \n",
    "from cvxopt import solvers as cvx_solver\n",
    "from sklearn.metrics import f1_score\n",
    "from sklearn.metrics import accuracy_score"
   ]
  },
  {
   "cell_type": "markdown",
   "metadata": {},
   "source": [
    "## Generating test data"
   ]
  },
  {
   "cell_type": "code",
   "execution_count": 281,
   "metadata": {},
   "outputs": [],
   "source": [
    "nsamples = 200\n",
    "salmon = np.random.multivariate_normal([3,18],0.2*np.array([[3.25,-2.25],[-2.25,9.25]]),nsamples)\n",
    "seabass = np.random.multivariate_normal([14.5,19], 0.1*np.array([[9.5625,1.3125],[1.3125,6.0625]]),nsamples)\n",
    "X = np.concatenate((salmon,seabass))\n",
    "y = [1]*nsamples + [-1]*nsamples"
   ]
  },
  {
   "cell_type": "code",
   "execution_count": 282,
   "metadata": {},
   "outputs": [
    {
     "data": {
      "image/png": "[encoded data removed]",
      "text/plain": [
       "<Figure size 432x288 with 1 Axes>"
      ]
     },
     "metadata": {
      "needs_background": "light"
     },
     "output_type": "display_data"
    }
   ],
   "source": [
    "plt.scatter(salmon[:,0],salmon[:,1])\n",
    "plt.scatter(seabass[:,0],seabass[:,1])\n",
    "plt.legend([\"Salmon\",\"Sea bass\"])\n",
    "plt.xlabel(\"Lightness\")\n",
    "plt.ylabel(\"Size\")\n",
    "plt.show()"
   ]
  },
  {
   "cell_type": "code",
   "execution_count": 283,
   "metadata": {},
   "outputs": [
    {
     "name": "stdout",
     "output_type": "stream",
     "text": [
      "Size of training data points:  (400, 2)\n",
      "Size of training data labels:  (400,)\n"
     ]
    }
   ],
   "source": [
    "print(\"Size of training data points: \", np.shape(X))\n",
    "print(\"Size of training data labels: \", np.shape(y))\n"
   ]
  },
  {
   "cell_type": "markdown",
   "metadata": {},
   "source": [
    "## Building our own classifier"
   ]
  },
  {
   "cell_type": "code",
   "execution_count": 284,
   "metadata": {},
   "outputs": [],
   "source": [
    "import qpsolvers\n",
    "import numpy.matlib"
   ]
  },
  {
   "cell_type": "code",
   "execution_count": 285,
   "metadata": {},
   "outputs": [],
   "source": [
    "def train(X,y):\n",
    "    # dimensions of the training data\n",
    "    nsamples = np.shape(X)[0]\n",
    "    ndims = np.shape(X)[1]\n",
    "    \n",
    "    # constructing the quadratic cost matrix\n",
    "    P = np.zeros((ndims+1,ndims+1))\n",
    "    P[0:ndims,0:ndims] = np.eye(ndims)\n",
    "    P = P + np.eye(ndims+1)*1e-3\n",
    "    print(P)\n",
    "    # constructing the quadratic cost vector\n",
    "    q = np.zeros(ndims+1)\n",
    "    \n",
    "    # constructing the linear inequality matrix\n",
    "    G = np.zeros((nsamples,ndims+1))\n",
    "    G[:,0:ndims] = np.multiply(np.array(np.matlib.repmat(y,ndims,1)).T,X)\n",
    "    G[:,ndims] = y \n",
    "    G = -G\n",
    "    print(G)\n",
    "    \n",
    "    # constructing the linear inequality vector\n",
    "    h = -np.ones((nsamples,1))[:,0]\n",
    "    \n",
    "    # solving the quadratic optimization problem\n",
    "    z = qpsolvers.solve_qp(P, q, G, h)\n",
    "    \n",
    "    w = z[0:ndims]\n",
    "    b = z[ndims]\n",
    "    \n",
    "    return w, b\n",
    "\n",
    "def classify(w,b,X):\n",
    "    nsamples = np.shape(X)[0]\n",
    "    ndims = np.shape(X)[1]\n",
    "    print(w)\n",
    "    # signed distance\n",
    "    r = np.matmul(w,X.T) + b\n",
    "    \n",
    "    return r/abs(r)"
   ]
  },
  {
   "cell_type": "markdown",
   "metadata": {},
   "source": [
    "### Training the classifier"
   ]
  },
  {
   "cell_type": "code",
   "execution_count": 286,
   "metadata": {},
   "outputs": [
    {
     "name": "stdout",
     "output_type": "stream",
     "text": [
      "[[1.001e+00 0.000e+00 0.000e+00]\n",
      " [0.000e+00 1.001e+00 0.000e+00]\n",
      " [0.000e+00 0.000e+00 1.000e-03]]\n",
      "[[ -4.072352   -17.28075349  -1.        ]\n",
      " [ -2.69027176 -17.39407307  -1.        ]\n",
      " [ -2.88036776 -18.92487972  -1.        ]\n",
      " ...\n",
      " [ 14.31724371  18.94818693   1.        ]\n",
      " [ 14.21610718  19.13644022   1.        ]\n",
      " [ 15.52057954  20.17687154   1.        ]]\n"
     ]
    }
   ],
   "source": [
    "w,b = train(X,y)"
   ]
  },
  {
   "cell_type": "code",
   "execution_count": 287,
   "metadata": {},
   "outputs": [
    {
     "name": "stdout",
     "output_type": "stream",
     "text": [
      "Classification hyperplane defined by\n",
      "w:  [-0.26838952 -0.03937911]\n",
      "b:  3.014885252233555\n"
     ]
    }
   ],
   "source": [
    "print(\"Classification hyperplane defined by\")\n",
    "print(\"w: \", w)\n",
    "print(\"b: \", b)"
   ]
  },
  {
   "cell_type": "code",
   "execution_count": 288,
   "metadata": {},
   "outputs": [
    {
     "name": "stdout",
     "output_type": "stream",
     "text": [
      "(400, 3)\n",
      "[[  4.072352    17.28075349   0.        ]\n",
      " [  2.69027176  17.39407307   0.        ]\n",
      " [  2.88036776  18.92487972   0.        ]\n",
      " ...\n",
      " [-14.31724371 -18.94818693   0.        ]\n",
      " [-14.21610718 -19.13644022   0.        ]\n",
      " [-15.52057954 -20.17687154   0.        ]]\n",
      "[[ -4.072352   -17.28075349  -1.        ]\n",
      " [ -2.69027176 -17.39407307  -1.        ]\n",
      " [ -2.88036776 -18.92487972  -1.        ]\n",
      " ...\n",
      " [ 14.31724371  18.94818693   1.        ]\n",
      " [ 14.21610718  19.13644022   1.        ]\n",
      " [ 15.52057954  20.17687154   1.        ]]\n"
     ]
    }
   ],
   "source": [
    "    nsamples = np.shape(X)[0]\n",
    "    ndims = np.shape(X)[1]\n",
    "    G = np.zeros((nsamples,ndims+1))\n",
    "    print(G.shape)\n",
    "    G[:,0:ndims] = np.multiply(np.array(np.matlib.repmat(y,ndims,1)).T,X)\n",
    "    print(G)\n",
    "    G[:,ndims] = y \n",
    "    G = -G\n",
    "    print(G)"
   ]
  },
  {
   "cell_type": "markdown",
   "metadata": {},
   "source": [
    "### Classification result"
   ]
  },
  {
   "cell_type": "code",
   "execution_count": 289,
   "metadata": {},
   "outputs": [
    {
     "name": "stdout",
     "output_type": "stream",
     "text": [
      "[-0.26838952 -0.03937911]\n"
     ]
    },
    {
     "data": {
      "image/png": "[encoded data removed]",
      "text/plain": [
       "<Figure size 432x288 with 1 Axes>"
      ]
     },
     "metadata": {
      "needs_background": "light"
     },
     "output_type": "display_data"
    }
   ],
   "source": [
    "# construct a grid\n",
    "h=0.02\n",
    "x_min, x_max = X[:, 0].min() - 1, X[:, 0].max() + 1\n",
    "y_min, y_max = X[:, 1].min() - 1, X[:, 1].max() + 1\n",
    "xx, yy = np.meshgrid(np.arange(x_min, x_max, h),\n",
    "                     np.arange(y_min, y_max, h))\n",
    "# classify grid points\n",
    "Z = classify(w, b, np.c_[xx.ravel(), yy.ravel()])\n",
    "\n",
    "\n",
    "# put the result into a color plot\n",
    "Z = Z.reshape(xx.shape)\n",
    "plt.contourf(xx, yy, Z, cmap=plt.cm.coolwarm, alpha=0.8)\n",
    "plt.scatter(salmon[:,0],salmon[:,1])\n",
    "plt.scatter(seabass[:,0],seabass[:,1])\n",
    "plt.legend([\"Salmon\",\"Sea bass\"])\n",
    "plt.xlabel(\"Lightness\")\n",
    "plt.ylabel(\"Size\")\n",
    "plt.show()"
   ]
  },
  {
   "cell_type": "markdown",
   "metadata": {},
   "source": [
    "## But what about non-linearly-separable data?"
   ]
  },
  {
   "cell_type": "code",
   "execution_count": 290,
   "metadata": {},
   "outputs": [],
   "source": [
    "nsamples = 200\n",
    "salmon = np.random.multivariate_normal([3,18],0.2*np.array([[3.25,-2.25],[-2.25,9.25]]),nsamples)\n",
    "seabass = np.random.multivariate_normal([5.5,19], 0.1*np.array([[9.5625,1.3125],[1.3125,6.0625]]),nsamples)\n",
    "X = np.concatenate((salmon,seabass))\n",
    "y = [1]*nsamples + [-1]*nsamples"
   ]
  },
  {
   "cell_type": "code",
   "execution_count": 291,
   "metadata": {},
   "outputs": [
    {
     "data": {
      "image/png": "[encoded data removed]",
      "text/plain": [
       "<Figure size 432x288 with 1 Axes>"
      ]
     },
     "metadata": {
      "needs_background": "light"
     },
     "output_type": "display_data"
    }
   ],
   "source": [
    "plt.scatter(salmon[:,0],salmon[:,1])\n",
    "plt.scatter(seabass[:,0],seabass[:,1])\n",
    "plt.legend([\"Salmon\",\"Trout\"])\n",
    "plt.xlabel(\"Lightness\")\n",
    "plt.ylabel(\"Size\")\n",
    "plt.show()"
   ]
  },
  {
   "cell_type": "markdown",
   "metadata": {},
   "source": [
    "### Can the hard-margin classifier handle this case?\n",
    "No, Hard Margin classifier cann't handle this case"
   ]
  },
  {
   "cell_type": "code",
   "execution_count": 292,
   "metadata": {},
   "outputs": [
    {
     "data": {
      "text/plain": [
       "400"
      ]
     },
     "execution_count": 292,
     "metadata": {},
     "output_type": "execute_result"
    }
   ],
   "source": [
    "len(y)"
   ]
  },
  {
   "cell_type": "markdown",
   "metadata": {},
   "source": [
    "### Soft Margin SVM classifier"
   ]
  },
  {
   "cell_type": "code",
   "execution_count": 294,
   "metadata": {},
   "outputs": [],
   "source": [
    "def train_soft(X,y,C):\n",
    "    #Initializing values and computing H. Note the 1. to force to float type\n",
    "    m,n = X.shape\n",
    "    y = y.reshape(-1,1) * 1.\n",
    "    #print(y)\n",
    "    X_dash = y * X\n",
    "    #print(X_dash)\n",
    "    H = np.dot(X_dash , X_dash.T) * 1.\n",
    "\n",
    "    #Converting into cvxopt format \n",
    "    P = matrix(H)\n",
    "    #print(P)\n",
    "    q = matrix(-np.ones((m, 1)))\n",
    "    G = matrix(np.vstack((np.eye(m)*-1,np.eye(m))))\n",
    "    h = matrix(np.hstack((np.zeros(m), np.ones(m) * C)))\n",
    "    A = matrix(y.reshape(1, -1))\n",
    "    b = matrix(np.zeros(1))\n",
    "\n",
    "    #Run solver\n",
    "    sol = cvx_solver.qp(P, q, G, h, A, b)\n",
    "    # Lagrange multipliers\n",
    "    a =np.array(sol['x'])\n",
    "\n",
    "    # Support vectors have non zero lagrange multipliers\n",
    "    # Weight vector\n",
    "    w = ((y * a).T @ X).reshape(-1,1)\n",
    "    # Intercept\n",
    "    S = (a > 1e-6).flatten()\n",
    "    b = y[S] - np.dot(X[S], w)\n",
    "\n",
    "   \n",
    "    return w,b.mean()\n",
    "def classify(w,b,X):\n",
    "    nsamples = np.shape(X)[0]\n",
    "    ndims = np.shape(X)[1]\n",
    "    #print(w.flatten())\n",
    "    w=w.flatten()\n",
    "    # signed distance\n",
    "    r = np.dot(w,X.T) + b\n",
    "    #print(r)\n",
    "    return r/abs(r)"
   ]
  },
  {
   "cell_type": "code",
   "execution_count": 295,
   "metadata": {},
   "outputs": [
    {
     "name": "stdout",
     "output_type": "stream",
     "text": [
      "Accuracy: 0.9525\n"
     ]
    }
   ],
   "source": [
    "\n",
    "w,b = train_soft(X,np.array(y),1000.1)\n",
    "y_pred = classify(np.array(w),b,X)\n",
    "print(\"Accuracy:\",accuracy_score(y,y_pred))\n"
   ]
  },
  {
   "cell_type": "code",
   "execution_count": 296,
   "metadata": {},
   "outputs": [
    {
     "data": {
      "image/png": "[encoded data removed]",
      "text/plain": [
       "<Figure size 432x288 with 1 Axes>"
      ]
     },
     "metadata": {
      "needs_background": "light"
     },
     "output_type": "display_data"
    }
   ],
   "source": [
    "# construct a grid\n",
    "h=0.02\n",
    "x_min, x_max = X[:, 0].min() - 1, X[:, 0].max() + 1\n",
    "y_min, y_max = X[:, 1].min() - 1, X[:, 1].max() + 1\n",
    "xx, yy = np.meshgrid(np.arange(x_min, x_max, h),\n",
    "                     np.arange(y_min, y_max, h))\n",
    "\n",
    "# classify grid points\n",
    "Z = classify(w, b, np.c_[xx.ravel(), yy.ravel()])\n",
    "\n",
    "# put the result into a color plot\n",
    "Z = Z.reshape(xx.shape)\n",
    "plt.contourf(xx, yy, Z, cmap=plt.cm.coolwarm, alpha=0.8)\n",
    "plt.scatter(salmon[:,0],salmon[:,1])\n",
    "plt.scatter(seabass[:,0],seabass[:,1])\n",
    "plt.legend([\"Salmon\",\"Sea bass\"])\n",
    "plt.xlabel(\"Lightness\")\n",
    "plt.ylabel(\"Size\")\n",
    "plt.show()"
   ]
  },
  {
   "cell_type": "code",
   "execution_count": 297,
   "metadata": {},
   "outputs": [],
   "source": [
    "import numpy as np\n",
    "import pandas as pd\n",
    "from sklearn.datasets import load_iris\n",
    "\n",
    "# save load_iris() sklearn dataset to iris\n",
    "# if you'd like to check dataset type use: type(load_iris())\n",
    "# if you'd like to view list of attributes use: dir(load_iris())\n",
    "iris = load_iris()\n",
    "\n",
    "# np.c_ is the numpy concatenate function\n",
    "# which is used to concat iris['data'] and iris['target'] arrays \n",
    "# for pandas column argument: concat iris['feature_names'] list\n",
    "# and string list (in this case one string); you can make this anything you'd like..  \n",
    "# the original dataset would probably call this ['Species']\n",
    "data1 = pd.DataFrame(data= np.c_[iris['data'], iris['target']],\n",
    "                     columns= iris['feature_names'] + ['target'])\n"
   ]
  },
  {
   "cell_type": "code",
   "execution_count": 298,
   "metadata": {},
   "outputs": [
    {
     "data": {
      "text/html": [
       "<div>\n",
       "<style scoped>\n",
       "    .dataframe tbody tr th:only-of-type {\n",
       "        vertical-align: middle;\n",
       "    }\n",
       "\n",
       "    .dataframe tbody tr th {\n",
       "        vertical-align: top;\n",
       "    }\n",
       "\n",
       "    .dataframe thead th {\n",
       "        text-align: right;\n",
       "    }\n",
       "</style>\n",
       "<table border=\"1\" class=\"dataframe\">\n",
       "  <thead>\n",
       "    <tr style=\"text-align: right;\">\n",
       "      <th></th>\n",
       "      <th>sepal length (cm)</th>\n",
       "      <th>sepal width (cm)</th>\n",
       "      <th>petal length (cm)</th>\n",
       "      <th>petal width (cm)</th>\n",
       "      <th>target</th>\n",
       "    </tr>\n",
       "  </thead>\n",
       "  <tbody>\n",
       "    <tr>\n",
       "      <th>0</th>\n",
       "      <td>5.1</td>\n",
       "      <td>3.5</td>\n",
       "      <td>1.4</td>\n",
       "      <td>0.2</td>\n",
       "      <td>0.0</td>\n",
       "    </tr>\n",
       "    <tr>\n",
       "      <th>1</th>\n",
       "      <td>4.9</td>\n",
       "      <td>3.0</td>\n",
       "      <td>1.4</td>\n",
       "      <td>0.2</td>\n",
       "      <td>0.0</td>\n",
       "    </tr>\n",
       "    <tr>\n",
       "      <th>2</th>\n",
       "      <td>4.7</td>\n",
       "      <td>3.2</td>\n",
       "      <td>1.3</td>\n",
       "      <td>0.2</td>\n",
       "      <td>0.0</td>\n",
       "    </tr>\n",
       "    <tr>\n",
       "      <th>3</th>\n",
       "      <td>4.6</td>\n",
       "      <td>3.1</td>\n",
       "      <td>1.5</td>\n",
       "      <td>0.2</td>\n",
       "      <td>0.0</td>\n",
       "    </tr>\n",
       "    <tr>\n",
       "      <th>4</th>\n",
       "      <td>5.0</td>\n",
       "      <td>3.6</td>\n",
       "      <td>1.4</td>\n",
       "      <td>0.2</td>\n",
       "      <td>0.0</td>\n",
       "    </tr>\n",
       "    <tr>\n",
       "      <th>...</th>\n",
       "      <td>...</td>\n",
       "      <td>...</td>\n",
       "      <td>...</td>\n",
       "      <td>...</td>\n",
       "      <td>...</td>\n",
       "    </tr>\n",
       "    <tr>\n",
       "      <th>145</th>\n",
       "      <td>6.7</td>\n",
       "      <td>3.0</td>\n",
       "      <td>5.2</td>\n",
       "      <td>2.3</td>\n",
       "      <td>2.0</td>\n",
       "    </tr>\n",
       "    <tr>\n",
       "      <th>146</th>\n",
       "      <td>6.3</td>\n",
       "      <td>2.5</td>\n",
       "      <td>5.0</td>\n",
       "      <td>1.9</td>\n",
       "      <td>2.0</td>\n",
       "    </tr>\n",
       "    <tr>\n",
       "      <th>147</th>\n",
       "      <td>6.5</td>\n",
       "      <td>3.0</td>\n",
       "      <td>5.2</td>\n",
       "      <td>2.0</td>\n",
       "      <td>2.0</td>\n",
       "    </tr>\n",
       "    <tr>\n",
       "      <th>148</th>\n",
       "      <td>6.2</td>\n",
       "      <td>3.4</td>\n",
       "      <td>5.4</td>\n",
       "      <td>2.3</td>\n",
       "      <td>2.0</td>\n",
       "    </tr>\n",
       "    <tr>\n",
       "      <th>149</th>\n",
       "      <td>5.9</td>\n",
       "      <td>3.0</td>\n",
       "      <td>5.1</td>\n",
       "      <td>1.8</td>\n",
       "      <td>2.0</td>\n",
       "    </tr>\n",
       "  </tbody>\n",
       "</table>\n",
       "<p>150 rows × 5 columns</p>\n",
       "</div>"
      ],
      "text/plain": [
       "     sepal length (cm)  sepal width (cm)  petal length (cm)  petal width (cm)  \\\n",
       "0                  5.1               3.5                1.4               0.2   \n",
       "1                  4.9               3.0                1.4               0.2   \n",
       "2                  4.7               3.2                1.3               0.2   \n",
       "3                  4.6               3.1                1.5               0.2   \n",
       "4                  5.0               3.6                1.4               0.2   \n",
       "..                 ...               ...                ...               ...   \n",
       "145                6.7               3.0                5.2               2.3   \n",
       "146                6.3               2.5                5.0               1.9   \n",
       "147                6.5               3.0                5.2               2.0   \n",
       "148                6.2               3.4                5.4               2.3   \n",
       "149                5.9               3.0                5.1               1.8   \n",
       "\n",
       "     target  \n",
       "0       0.0  \n",
       "1       0.0  \n",
       "2       0.0  \n",
       "3       0.0  \n",
       "4       0.0  \n",
       "..      ...  \n",
       "145     2.0  \n",
       "146     2.0  \n",
       "147     2.0  \n",
       "148     2.0  \n",
       "149     2.0  \n",
       "\n",
       "[150 rows x 5 columns]"
      ]
     },
     "execution_count": 298,
     "metadata": {},
     "output_type": "execute_result"
    }
   ],
   "source": [
    "#'target_names': array(['setosa', 'versicolor', 'virginica']\n",
    "data1"
   ]
  },
  {
   "cell_type": "code",
   "execution_count": 299,
   "metadata": {},
   "outputs": [
    {
     "data": {
      "text/plain": [
       "0     -1.0\n",
       "1     -1.0\n",
       "2     -1.0\n",
       "3     -1.0\n",
       "4     -1.0\n",
       "      ... \n",
       "145    1.0\n",
       "146    1.0\n",
       "147    1.0\n",
       "148    1.0\n",
       "149    1.0\n",
       "Name: target, Length: 150, dtype: float64"
      ]
     },
     "execution_count": 299,
     "metadata": {},
     "output_type": "execute_result"
    }
   ],
   "source": [
    "#Setosa=-1 and Non Setosa=1\n",
    "data2=data1.replace({'target': {2:1,0:-1}})\n",
    "y=data2['target']\n",
    "data3=data2.drop(['target',], axis=1)\n",
    "X=np.array(data3)\n",
    "y"
   ]
  },
  {
   "cell_type": "code",
   "execution_count": 300,
   "metadata": {},
   "outputs": [],
   "source": [
    "from sklearn.model_selection import train_test_split\n",
    "X_train, X_test, y_train, y_test = train_test_split(X, y, test_size=0.30, random_state=1, stratify=y)"
   ]
  },
  {
   "cell_type": "code",
   "execution_count": 301,
   "metadata": {},
   "outputs": [
    {
     "name": "stdout",
     "output_type": "stream",
     "text": [
      "C value 0.1  Accuracy: 1.0  Accuracy(F-score) 1.0\n",
      "C value 0.5  Accuracy: 1.0  Accuracy(F-score) 1.0\n",
      "C value 1  Accuracy: 1.0  Accuracy(F-score) 1.0\n",
      "C value 5  Accuracy: 1.0  Accuracy(F-score) 1.0\n",
      "C value 10  Accuracy: 1.0  Accuracy(F-score) 1.0\n",
      "C value 100  Accuracy: 1.0  Accuracy(F-score) 1.0\n"
     ]
    },
    {
     "data": {
      "image/png": "[encoded data removed]",
      "text/plain": [
       "<Figure size 432x288 with 1 Axes>"
      ]
     },
     "metadata": {
      "needs_background": "light"
     },
     "output_type": "display_data"
    }
   ],
   "source": [
    "import math\n",
    "C_list=[0.1,0.5,1,5,10,100]\n",
    "F_score_list=[]\n",
    "for C in C_list:\n",
    "    w,b = train_soft(np.array(X_train),np.array(y_train),C)\n",
    "    #print(w)\n",
    "    #print(b)\n",
    "    y_pred = classify(np.array(w),b,np.array(X_test))\n",
    "\n",
    "    #print(\"Accuracy:\",accuracy_score(y_test,y_pred))\n",
    "    Accuracy_score=f1_score(y_test, y_pred)\n",
    "    print('C value',C, \" Accuracy:\",accuracy_score(y_test,y_pred), ' Accuracy(F-score)', Accuracy_score)\n",
    "    #print(Accuracy_score)\n",
    "    F_score_list.append(Accuracy_score)\n",
    "plt.plot([str(x) for x in C_list],F_score_list)  \n",
    "plt.xlabel('C value')\n",
    "plt.ylabel('Accuracy(F-Score)')\n",
    "plt.show()"
   ]
  },
  {
   "cell_type": "code",
   "execution_count": 302,
   "metadata": {},
   "outputs": [
    {
     "name": "stdout",
     "output_type": "stream",
     "text": [
      "              precision    recall  f1-score   support\n",
      "\n",
      "      Setosa       1.00      1.00      1.00        15\n",
      "  non Setosa       1.00      1.00      1.00        30\n",
      "\n",
      "    accuracy                           1.00        45\n",
      "   macro avg       1.00      1.00      1.00        45\n",
      "weighted avg       1.00      1.00      1.00        45\n",
      "\n",
      "Confusion matrix, without normalization\n",
      "[[15  0]\n",
      " [ 0 30]]\n"
     ]
    },
    {
     "data": {
      "image/png": "[encoded data removed]",
      "text/plain": [
       "<Figure size 432x288 with 2 Axes>"
      ]
     },
     "metadata": {
      "needs_background": "light"
     },
     "output_type": "display_data"
    }
   ],
   "source": [
    "from sklearn.metrics import classification_report\n",
    "from sklearn.metrics import confusion_matrix\n",
    "import itertools\n",
    "#best C parameter linear SVM model\n",
    "w,b = train_soft(np.array(X_train),np.array(y_train),C=0.1)\n",
    "y_pred = classify(np.array(w),b,np.array(X_test))\n",
    "# Generate a classification report\n",
    "cm_plot_labels = ['Setosa', 'non Setosa']\n",
    "# For this to work we need y_pred as binary labels not as probabilities\n",
    "#y_pred_binary = np.where(predictions > 0.5, 1, 0)\n",
    "\n",
    "report = classification_report(y_test, y_pred, target_names=cm_plot_labels)\n",
    "\n",
    "print(report)\n",
    "def plot_confusion_matrix(cm, classes,\n",
    "                          normalize=False,\n",
    "                          title='Confusion matrix',\n",
    "                          cmap=plt.cm.Blues):\n",
    "    \"\"\"\n",
    "    This function prints and plots the confusion matrix.\n",
    "    Normalization can be applied by setting `normalize=True`.\n",
    "    \"\"\"\n",
    "    if normalize:\n",
    "        cm = cm.astype('float') / cm.sum(axis=1)[:, np.newaxis]\n",
    "        print(\"Normalized confusion matrix\")\n",
    "    else:\n",
    "        print('Confusion matrix, without normalization')\n",
    "\n",
    "    print(cm)\n",
    "\n",
    "    plt.imshow(cm, interpolation='nearest', cmap=cmap)\n",
    "    plt.title(title)\n",
    "    plt.colorbar()\n",
    "    tick_marks = np.arange(len(classes))\n",
    "    plt.xticks(tick_marks, classes, rotation=45)\n",
    "    plt.yticks(tick_marks, classes)\n",
    "\n",
    "    fmt = '.2f' if normalize else 'd'\n",
    "    thresh = cm.max() / 2.\n",
    "    for i, j in itertools.product(range(cm.shape[0]), range(cm.shape[1])):\n",
    "        plt.text(j, i, format(cm[i, j], fmt),\n",
    "                 horizontalalignment=\"center\",\n",
    "                 color=\"white\" if cm[i, j] > thresh else \"black\")\n",
    "\n",
    "    plt.ylabel('True label')\n",
    "    plt.xlabel('Predicted label')\n",
    "    plt.tight_layout()\n",
    "\n",
    "\n",
    "# argmax returns the index of the max value in a row\n",
    "cm = confusion_matrix(y_test, y_pred)\n",
    "\n",
    "plot_confusion_matrix(cm, cm_plot_labels, title='Confusion Matrix')"
   ]
  },
  {
   "cell_type": "code",
   "execution_count": 304,
   "metadata": {},
   "outputs": [],
   "source": [
    "#'versicolor=-1', 'non versicolor=1'\n",
    "data2=data1.replace({'target': {1:-1,0:1,2:1}})\n",
    "y=data2['target']\n",
    "data3=data2.drop(['target',], axis=1)\n",
    "X=np.array(data3)\n",
    "X_train, X_test, y_train, y_test = train_test_split(X, y, test_size=0.30, random_state=1, stratify=y)"
   ]
  },
  {
   "cell_type": "code",
   "execution_count": 305,
   "metadata": {},
   "outputs": [
    {
     "name": "stdout",
     "output_type": "stream",
     "text": [
      "C value 0.0001  Accuracy: 0.6666666666666666  Accuracy(F-score) 0.8\n",
      "C value 0.001  Accuracy: 0.6666666666666666  Accuracy(F-score) 0.8\n",
      "C value 0.01  Accuracy: 0.7333333333333333  Accuracy(F-score) 0.8285714285714285\n",
      "C value 0.1  Accuracy: 0.7333333333333333  Accuracy(F-score) 0.8181818181818182\n",
      "C value 0.5  Accuracy: 0.7111111111111111  Accuracy(F-score) 0.8\n",
      "C value 1  Accuracy: 0.6888888888888889  Accuracy(F-score) 0.78125\n",
      "C value 5  Accuracy: 0.7333333333333333  Accuracy(F-score) 0.8125\n",
      "C value 10.1  Accuracy: 0.7333333333333333  Accuracy(F-score) 0.8125\n",
      "C value 100.1  Accuracy: 0.7333333333333333  Accuracy(F-score) 0.8125\n",
      "C value 1000.1  Accuracy: 0.7555555555555555  Accuracy(F-score) 0.819672131147541\n"
     ]
    },
    {
     "data": {
      "image/png": "[encoded data removed]",
      "text/plain": [
       "<Figure size 432x288 with 1 Axes>"
      ]
     },
     "metadata": {
      "needs_background": "light"
     },
     "output_type": "display_data"
    }
   ],
   "source": [
    "C_list=[0.0001,0.001,0.01,0.1,0.5,1,5,10.1,100.1,1000.1]\n",
    "F_score_list=[]\n",
    "for C in C_list:\n",
    "    w,b = train_soft(np.array(X_train),np.array(y_train),C)\n",
    "    y_pred = classify(np.array(w),b,np.array(X_test))\n",
    "    Accuracy_score=f1_score(y_test, y_pred)\n",
    "    print('C value',C, \" Accuracy:\",accuracy_score(y_test,y_pred), ' Accuracy(F-score)', Accuracy_score)\n",
    "    F_score_list.append(Accuracy_score)\n",
    "plt.plot([str(x) for x in C_list],F_score_list)  \n",
    "plt.xlabel('C value')\n",
    "plt.ylabel('Accuracy(F-Score)')\n",
    "plt.show()"
   ]
  },
  {
   "cell_type": "code",
   "execution_count": 306,
   "metadata": {},
   "outputs": [
    {
     "name": "stdout",
     "output_type": "stream",
     "text": [
      "                precision    recall  f1-score   support\n",
      "\n",
      "    versicolor       0.80      0.27      0.40        15\n",
      "non versicolor       0.72      0.97      0.83        30\n",
      "\n",
      "      accuracy                           0.73        45\n",
      "     macro avg       0.76      0.62      0.61        45\n",
      "  weighted avg       0.75      0.73      0.69        45\n",
      "\n",
      "Confusion matrix, without normalization\n",
      "[[ 4 11]\n",
      " [ 1 29]]\n"
     ]
    },
    {
     "data": {
      "image/png": "[encoded data removed]",
      "text/plain": [
       "<Figure size 432x288 with 2 Axes>"
      ]
     },
     "metadata": {
      "needs_background": "light"
     },
     "output_type": "display_data"
    }
   ],
   "source": [
    "from sklearn.metrics import classification_report\n",
    "from sklearn.metrics import confusion_matrix\n",
    "import itertools\n",
    "#best C parameter linear SVM model\n",
    "w,b = train_soft(np.array(X_train),np.array(y_train),C=0.01)\n",
    "y_pred = classify(np.array(w),b,np.array(X_test))\n",
    "# Generate a classification report\n",
    "cm_plot_labels = ['versicolor', 'non versicolor']\n",
    "# For this to work we need y_pred as binary labels not as probabilities\n",
    "#y_pred_binary = np.where(predictions > 0.5, 1, 0)\n",
    "\n",
    "report = classification_report(y_test, y_pred, target_names=cm_plot_labels)\n",
    "\n",
    "print(report)\n",
    "\n",
    "# argmax returns the index of the max value in a row\n",
    "cm = confusion_matrix(y_test, y_pred)\n",
    "\n",
    "plot_confusion_matrix(cm, cm_plot_labels, title='Confusion Matrix')"
   ]
  },
  {
   "cell_type": "markdown",
   "metadata": {},
   "source": [
    "#  Excercise 3: To make a multi-class classifierwe could simply make a one vs the rest classification for all the classes. E.g. for four classes: 1 vs 2-3-4, then 2 vs 1-3-4 then 3 vs 1-2-4 and finally 4 vs 1-2-3.\n"
   ]
  }
 ],
 "metadata": {
  "kernelspec": {
   "display_name": "Python 3",
   "language": "python",
   "name": "python3"
  },
  "language_info": {
   "codemirror_mode": {
    "name": "ipython",
    "version": 3
   },
   "file_extension": ".py",
   "mimetype": "text/x-python",
   "name": "python",
   "nbconvert_exporter": "python",
   "pygments_lexer": "ipython3",
   "version": "3.8.5"
  }
 },
 "nbformat": 4,
 "nbformat_minor": 2
}
