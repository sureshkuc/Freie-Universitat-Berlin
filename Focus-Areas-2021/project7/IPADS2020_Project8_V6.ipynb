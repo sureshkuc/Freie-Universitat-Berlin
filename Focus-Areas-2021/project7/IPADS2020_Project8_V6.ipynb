{
  "nbformat": 4,
  "nbformat_minor": 0,
  "metadata": {
    "colab": {
      "name": "IPADS2020_Project8_V4(1).ipynb",
      "provenance": [],
      "collapsed_sections": []
    },
    "kernelspec": {
      "name": "python3",
      "display_name": "Python 3"
    }
  },
  "cells": [
    {
      "cell_type": "markdown",
      "metadata": {
        "id": "HsmjXxl2z93X"
      },
      "source": [
        "#Importing the Tables and storing in DF from GoogleBigQuery"
      ]
    },
    {
      "cell_type": "code",
      "metadata": {
        "id": "6sKainkgjU-x"
      },
      "source": [
        "from pandas.io import gbq\r\n",
        "from matplotlib import pyplot as plt\r\n",
        "import pandas as pd"
      ],
      "execution_count": null,
      "outputs": []
    },
    {
      "cell_type": "code",
      "metadata": {
        "id": "NNz0v4VHjbYn"
      },
      "source": [
        "df_activity_u10 = gbq.read_gbq('select * from Students.activity_u10',project_id='ipads2020assignment8')\r\n",
        "df_activity_u16 = gbq.read_gbq('select * from Students.activity_u16',project_id='ipads2020assignment8')"
      ],
      "execution_count": null,
      "outputs": []
    },
    {
      "cell_type": "code",
      "metadata": {
        "id": "yl-9-jCom2aF"
      },
      "source": [
        "df_stressscale = gbq.read_gbq('select string_field_0,string_field_4\t from Students.stressScale', project_id='ipads2020assignment8')"
      ],
      "execution_count": null,
      "outputs": []
    },
    {
      "cell_type": "code",
      "metadata": {
        "colab": {
          "base_uri": "https://localhost:8080/"
        },
        "id": "JdAz7pDBngte",
        "outputId": "7bb1efe0-868c-4ed6-9e79-b82ef9f26fd1"
      },
      "source": [
        "df_stressscale.shape"
      ],
      "execution_count": null,
      "outputs": [
        {
          "output_type": "execute_result",
          "data": {
            "text/plain": [
              "(86, 2)"
            ]
          },
          "metadata": {
            "tags": []
          },
          "execution_count": 4
        }
      ]
    },
    {
      "cell_type": "code",
      "metadata": {
        "colab": {
          "base_uri": "https://localhost:8080/",
          "height": 204
        },
        "id": "RACXOpLoj-zs",
        "outputId": "f4e0e5f0-285b-4b10-9cf1-8f21fe878b0b"
      },
      "source": [
        "df_activity_u10.head()"
      ],
      "execution_count": null,
      "outputs": [
        {
          "output_type": "execute_result",
          "data": {
            "text/html": [
              "<div>\n",
              "<style scoped>\n",
              "    .dataframe tbody tr th:only-of-type {\n",
              "        vertical-align: middle;\n",
              "    }\n",
              "\n",
              "    .dataframe tbody tr th {\n",
              "        vertical-align: top;\n",
              "    }\n",
              "\n",
              "    .dataframe thead th {\n",
              "        text-align: right;\n",
              "    }\n",
              "</style>\n",
              "<table border=\"1\" class=\"dataframe\">\n",
              "  <thead>\n",
              "    <tr style=\"text-align: right;\">\n",
              "      <th></th>\n",
              "      <th>timestamp</th>\n",
              "      <th>_activity_inference</th>\n",
              "    </tr>\n",
              "  </thead>\n",
              "  <tbody>\n",
              "    <tr>\n",
              "      <th>0</th>\n",
              "      <td>1.364393e+09</td>\n",
              "      <td>2.0</td>\n",
              "    </tr>\n",
              "    <tr>\n",
              "      <th>1</th>\n",
              "      <td>1.364393e+09</td>\n",
              "      <td>2.0</td>\n",
              "    </tr>\n",
              "    <tr>\n",
              "      <th>2</th>\n",
              "      <td>1.364406e+09</td>\n",
              "      <td>2.0</td>\n",
              "    </tr>\n",
              "    <tr>\n",
              "      <th>3</th>\n",
              "      <td>1.364411e+09</td>\n",
              "      <td>2.0</td>\n",
              "    </tr>\n",
              "    <tr>\n",
              "      <th>4</th>\n",
              "      <td>1.364411e+09</td>\n",
              "      <td>2.0</td>\n",
              "    </tr>\n",
              "  </tbody>\n",
              "</table>\n",
              "</div>"
            ],
            "text/plain": [
              "      timestamp  _activity_inference\n",
              "0  1.364393e+09                  2.0\n",
              "1  1.364393e+09                  2.0\n",
              "2  1.364406e+09                  2.0\n",
              "3  1.364411e+09                  2.0\n",
              "4  1.364411e+09                  2.0"
            ]
          },
          "metadata": {
            "tags": []
          },
          "execution_count": 5
        }
      ]
    },
    {
      "cell_type": "code",
      "metadata": {
        "colab": {
          "base_uri": "https://localhost:8080/"
        },
        "id": "8_7xk0FCkz7b",
        "outputId": "11db6e77-5fde-4182-869c-ab505da2fa67"
      },
      "source": [
        "df_activity_u10.shape"
      ],
      "execution_count": null,
      "outputs": [
        {
          "output_type": "execute_result",
          "data": {
            "text/plain": [
              "(1062318, 2)"
            ]
          },
          "metadata": {
            "tags": []
          },
          "execution_count": 6
        }
      ]
    },
    {
      "cell_type": "code",
      "metadata": {
        "colab": {
          "base_uri": "https://localhost:8080/",
          "height": 204
        },
        "id": "eLq6ixRzk2LT",
        "outputId": "92d01d46-8f2e-4c63-b894-746387beed14"
      },
      "source": [
        "df_activity_u16.tail()"
      ],
      "execution_count": null,
      "outputs": [
        {
          "output_type": "execute_result",
          "data": {
            "text/html": [
              "<div>\n",
              "<style scoped>\n",
              "    .dataframe tbody tr th:only-of-type {\n",
              "        vertical-align: middle;\n",
              "    }\n",
              "\n",
              "    .dataframe tbody tr th {\n",
              "        vertical-align: top;\n",
              "    }\n",
              "\n",
              "    .dataframe thead th {\n",
              "        text-align: right;\n",
              "    }\n",
              "</style>\n",
              "<table border=\"1\" class=\"dataframe\">\n",
              "  <thead>\n",
              "    <tr style=\"text-align: right;\">\n",
              "      <th></th>\n",
              "      <th>timestamp</th>\n",
              "      <th>_activity_inference</th>\n",
              "    </tr>\n",
              "  </thead>\n",
              "  <tbody>\n",
              "    <tr>\n",
              "      <th>981493</th>\n",
              "      <td>1.369810e+09</td>\n",
              "      <td>3.0</td>\n",
              "    </tr>\n",
              "    <tr>\n",
              "      <th>981494</th>\n",
              "      <td>1.369823e+09</td>\n",
              "      <td>3.0</td>\n",
              "    </tr>\n",
              "    <tr>\n",
              "      <th>981495</th>\n",
              "      <td>1.369823e+09</td>\n",
              "      <td>3.0</td>\n",
              "    </tr>\n",
              "    <tr>\n",
              "      <th>981496</th>\n",
              "      <td>1.369823e+09</td>\n",
              "      <td>3.0</td>\n",
              "    </tr>\n",
              "    <tr>\n",
              "      <th>981497</th>\n",
              "      <td>1.369823e+09</td>\n",
              "      <td>3.0</td>\n",
              "    </tr>\n",
              "  </tbody>\n",
              "</table>\n",
              "</div>"
            ],
            "text/plain": [
              "           timestamp  _activity_inference\n",
              "981493  1.369810e+09                  3.0\n",
              "981494  1.369823e+09                  3.0\n",
              "981495  1.369823e+09                  3.0\n",
              "981496  1.369823e+09                  3.0\n",
              "981497  1.369823e+09                  3.0"
            ]
          },
          "metadata": {
            "tags": []
          },
          "execution_count": 7
        }
      ]
    },
    {
      "cell_type": "code",
      "metadata": {
        "colab": {
          "base_uri": "https://localhost:8080/"
        },
        "id": "W_YRHlsFk7UA",
        "outputId": "f40b37e8-8a22-45f7-e43c-10ca86181e5f"
      },
      "source": [
        "df_activity_u16.shape"
      ],
      "execution_count": null,
      "outputs": [
        {
          "output_type": "execute_result",
          "data": {
            "text/plain": [
              "(981498, 2)"
            ]
          },
          "metadata": {
            "tags": []
          },
          "execution_count": 8
        }
      ]
    },
    {
      "cell_type": "code",
      "metadata": {
        "colab": {
          "base_uri": "https://localhost:8080/"
        },
        "id": "h9qIwH7_k9gk",
        "outputId": "6b366516-5ea1-453a-c232-61ec278a51cf"
      },
      "source": [
        "df_stressscale.columns"
      ],
      "execution_count": null,
      "outputs": [
        {
          "output_type": "execute_result",
          "data": {
            "text/plain": [
              "Index(['string_field_0', 'string_field_4'], dtype='object')"
            ]
          },
          "metadata": {
            "tags": []
          },
          "execution_count": 9
        }
      ]
    },
    {
      "cell_type": "code",
      "metadata": {
        "id": "Ay9AkA-wokA2"
      },
      "source": [
        "df_stressscale.columns = ['UID', 'In the last month, how often have you felt nervous and \"stressed\"?']"
      ],
      "execution_count": null,
      "outputs": []
    },
    {
      "cell_type": "code",
      "metadata": {
        "id": "E8yMKLZ3oSAP"
      },
      "source": [
        "df_stressscale.drop(df_stressscale.tail(1).index,inplace=True)"
      ],
      "execution_count": null,
      "outputs": []
    },
    {
      "cell_type": "markdown",
      "metadata": {
        "id": "TrL5q7c2atxf"
      },
      "source": [
        "#Task 8.1\r\n"
      ]
    },
    {
      "cell_type": "markdown",
      "metadata": {
        "id": "z3Km5iIcsM7V"
      },
      "source": [
        "##Summary Statistics for Stress"
      ]
    },
    {
      "cell_type": "markdown",
      "metadata": {
        "id": "jko3Mxv4w-F8"
      },
      "source": [
        "###Overall Students"
      ]
    },
    {
      "cell_type": "code",
      "metadata": {
        "colab": {
          "base_uri": "https://localhost:8080/"
        },
        "id": "-JZVgYT-pGKE",
        "outputId": "18fc844d-bcb4-4a39-c0aa-4cf7efcf91d8"
      },
      "source": [
        "print('List of frequency of the students who felt stressful in the last one month : ')\r\n",
        "df_stressCounts = df_stressscale['In the last month, how often have you felt nervous and \"stressed\"?'].value_counts()\r\n",
        "print(df_stressCounts)"
      ],
      "execution_count": null,
      "outputs": [
        {
          "output_type": "stream",
          "text": [
            "List of frequency of the students who felt stressful in the last one month : \n",
            "Sometime        31\n",
            "Very often      23\n",
            "Fairly often    19\n",
            "Almost never    11\n",
            "Name: In the last month, how often have you felt nervous and \"stressed\"?, dtype: int64\n"
          ],
          "name": "stdout"
        }
      ]
    },
    {
      "cell_type": "code",
      "metadata": {
        "colab": {
          "base_uri": "https://localhost:8080/",
          "height": 303
        },
        "id": "4gN1E8mJxGgG",
        "outputId": "0c83fb87-4c74-4e38-e7a8-6ceae8a64596"
      },
      "source": [
        "labels = df_stressCounts.index\r\n",
        "counts = df_stressCounts.values\r\n",
        "fig, ax = plt.subplots(figsize = (5,5))\r\n",
        "ax.pie(counts, labels = labels)\r\n",
        "plt.show()"
      ],
      "execution_count": null,
      "outputs": [
        {
          "output_type": "display_data",
          "data": {
            "image/png": "[encoded data removed]",
            "text/plain": [
              "<Figure size 360x360 with 1 Axes>"
            ]
          },
          "metadata": {
            "tags": []
          }
        }
      ]
    },
    {
      "cell_type": "markdown",
      "metadata": {
        "id": "km3YxWoq4JTn"
      },
      "source": [
        "**Conclusion : Most of the students felt stress sometimes, followed by very often and fairly often. Very few students (11) almost never felt stressed out**\r\n",
        "\r\n",
        "\r\n"
      ]
    },
    {
      "cell_type": "markdown",
      "metadata": {
        "id": "Dujc1vIrxCJ0"
      },
      "source": [
        "###For Students U10 and U16"
      ]
    },
    {
      "cell_type": "code",
      "metadata": {
        "colab": {
          "base_uri": "https://localhost:8080/",
          "height": 111
        },
        "id": "LrOcxWUi0MyU",
        "outputId": "411178e7-1f6b-4ba6-ee75-a9e7aa72a9dd"
      },
      "source": [
        "gbq.read_gbq('select string_field_4\t from Students.stressScale where string_field_0 = \"u10\"', project_id='ipads2020assignment8')"
      ],
      "execution_count": null,
      "outputs": [
        {
          "output_type": "execute_result",
          "data": {
            "text/html": [
              "<div>\n",
              "<style scoped>\n",
              "    .dataframe tbody tr th:only-of-type {\n",
              "        vertical-align: middle;\n",
              "    }\n",
              "\n",
              "    .dataframe tbody tr th {\n",
              "        vertical-align: top;\n",
              "    }\n",
              "\n",
              "    .dataframe thead th {\n",
              "        text-align: right;\n",
              "    }\n",
              "</style>\n",
              "<table border=\"1\" class=\"dataframe\">\n",
              "  <thead>\n",
              "    <tr style=\"text-align: right;\">\n",
              "      <th></th>\n",
              "      <th>string_field_4</th>\n",
              "    </tr>\n",
              "  </thead>\n",
              "  <tbody>\n",
              "    <tr>\n",
              "      <th>0</th>\n",
              "      <td>Fairly often</td>\n",
              "    </tr>\n",
              "    <tr>\n",
              "      <th>1</th>\n",
              "      <td>Fairly often</td>\n",
              "    </tr>\n",
              "  </tbody>\n",
              "</table>\n",
              "</div>"
            ],
            "text/plain": [
              "  string_field_4\n",
              "0   Fairly often\n",
              "1   Fairly often"
            ]
          },
          "metadata": {
            "tags": []
          },
          "execution_count": 14
        }
      ]
    },
    {
      "cell_type": "code",
      "metadata": {
        "colab": {
          "base_uri": "https://localhost:8080/",
          "height": 111
        },
        "id": "EBtHqS3d3xTa",
        "outputId": "8f7f0959-c175-447b-cea6-c22d750bd4c0"
      },
      "source": [
        "gbq.read_gbq('select string_field_4\t from Students.stressScale where string_field_0 = \"u16\"', project_id='ipads2020assignment8')"
      ],
      "execution_count": null,
      "outputs": [
        {
          "output_type": "execute_result",
          "data": {
            "text/html": [
              "<div>\n",
              "<style scoped>\n",
              "    .dataframe tbody tr th:only-of-type {\n",
              "        vertical-align: middle;\n",
              "    }\n",
              "\n",
              "    .dataframe tbody tr th {\n",
              "        vertical-align: top;\n",
              "    }\n",
              "\n",
              "    .dataframe thead th {\n",
              "        text-align: right;\n",
              "    }\n",
              "</style>\n",
              "<table border=\"1\" class=\"dataframe\">\n",
              "  <thead>\n",
              "    <tr style=\"text-align: right;\">\n",
              "      <th></th>\n",
              "      <th>string_field_4</th>\n",
              "    </tr>\n",
              "  </thead>\n",
              "  <tbody>\n",
              "    <tr>\n",
              "      <th>0</th>\n",
              "      <td>Very often</td>\n",
              "    </tr>\n",
              "    <tr>\n",
              "      <th>1</th>\n",
              "      <td>Very often</td>\n",
              "    </tr>\n",
              "  </tbody>\n",
              "</table>\n",
              "</div>"
            ],
            "text/plain": [
              "  string_field_4\n",
              "0     Very often\n",
              "1     Very often"
            ]
          },
          "metadata": {
            "tags": []
          },
          "execution_count": 15
        }
      ]
    },
    {
      "cell_type": "markdown",
      "metadata": {
        "id": "6KlLFHLq30s7"
      },
      "source": [
        "**Conclusion : Student U16 very often felt stressful pre and post intervention where Student U10 fairly often felt stressful**"
      ]
    },
    {
      "cell_type": "markdown",
      "metadata": {
        "id": "olp6C2VOufww"
      },
      "source": [
        "##Summary Statistics for Activity"
      ]
    },
    {
      "cell_type": "markdown",
      "metadata": {
        "id": "Wr4ML53MWvzj"
      },
      "source": [
        "###Individual Students"
      ]
    },
    {
      "cell_type": "code",
      "metadata": {
        "id": "2_dW_hiQP2G9"
      },
      "source": [
        "df_activity_u10['timestamp']=pd.to_datetime(df_activity_u10['timestamp'],unit='s')\r\n",
        "df_activity_u16['timestamp']=pd.to_datetime(df_activity_u16['timestamp'],unit='s')\r\n",
        "df_activity_u10.dropna(axis=0,inplace = True)\r\n",
        "df_activity_u16.dropna(axis=0,inplace = True)"
      ],
      "execution_count": null,
      "outputs": []
    },
    {
      "cell_type": "code",
      "metadata": {
        "colab": {
          "base_uri": "https://localhost:8080/",
          "height": 303
        },
        "id": "1M8rwlCcP17Z",
        "outputId": "67ebc8d8-6d08-4dd8-9d7d-3f0bf8114ed5"
      },
      "source": [
        "df_activity_u10_counts = df_activity_u10['_activity_inference'].value_counts()\r\n",
        "labels = ['Stationary', 'Walking','Unknown','Running']\r\n",
        "counts = df_activity_u10_counts.values\r\n",
        "fig, ax = plt.subplots(figsize = (5,5))\r\n",
        "ax.pie(counts, labels = labels)\r\n",
        "plt.show()"
      ],
      "execution_count": null,
      "outputs": [
        {
          "output_type": "display_data",
          "data": {
            "image/png": "[encoded data removed]",
            "text/plain": [
              "<Figure size 360x360 with 1 Axes>"
            ]
          },
          "metadata": {
            "tags": []
          }
        }
      ]
    },
    {
      "cell_type": "code",
      "metadata": {
        "colab": {
          "base_uri": "https://localhost:8080/",
          "height": 303
        },
        "id": "0vjwYXiSQReP",
        "outputId": "804b26b1-da7a-4fd2-afe7-c11a0ae1b73f"
      },
      "source": [
        "df_activity_u16_counts = df_activity_u16['_activity_inference'].value_counts()\r\n",
        "labels = ['Stationary', 'Walking','Unknown','Running']\r\n",
        "counts = df_activity_u16_counts.values\r\n",
        "fig, ax = plt.subplots(figsize = (5,5))\r\n",
        "ax.pie(counts, labels = labels)\r\n",
        "plt.show()"
      ],
      "execution_count": null,
      "outputs": [
        {
          "output_type": "display_data",
          "data": {
            "image/png": "[encoded data removed]",
            "text/plain": [
              "<Figure size 360x360 with 1 Axes>"
            ]
          },
          "metadata": {
            "tags": []
          }
        }
      ]
    },
    {
      "cell_type": "code",
      "metadata": {
        "colab": {
          "base_uri": "https://localhost:8080/"
        },
        "id": "wB5Hl2cyXulM",
        "outputId": "af37d2a2-5012-41c5-a631-01b87b52728c"
      },
      "source": [
        "U10_Stationary = (df_activity_u10['_activity_inference'].value_counts()[0]/df_activity_u10.shape[0])*100\r\n",
        "U16_Stationary = (df_activity_u16['_activity_inference'].value_counts()[0]/df_activity_u16.shape[0])*100\r\n",
        "U10_Activness = 100 - U10_Stationary\r\n",
        "U16_Activness = 100 - U16_Stationary\r\n",
        "from tabulate import tabulate\r\n",
        "print(tabulate([['U10', U10_Stationary,U10_Activness], ['U16', U16_Stationary,U16_Activness]], headers=['Name', 'Stationary','Activity']))"
      ],
      "execution_count": null,
      "outputs": [
        {
          "output_type": "stream",
          "text": [
            "Name      Stationary    Activity\n",
            "------  ------------  ----------\n",
            "U10          95.1169     4.8831\n",
            "U16          94.0075     5.99247\n"
          ],
          "name": "stdout"
        }
      ]
    },
    {
      "cell_type": "markdown",
      "metadata": {
        "id": "PJ91Z59LV3ec"
      },
      "source": [
        "**CONCLUSION : STUDENT U16 IS MORE ACTIVE THAN U10**"
      ]
    },
    {
      "cell_type": "markdown",
      "metadata": {
        "id": "_SPIm0JfWzKK"
      },
      "source": [
        "###For Overall Students"
      ]
    },
    {
      "cell_type": "code",
      "metadata": {
        "id": "VolVi_qfsUqW",
        "colab": {
          "base_uri": "https://localhost:8080/"
        },
        "outputId": "e4c83e45-e270-4cd6-cbf6-a36d5bf6047d"
      },
      "source": [
        "df_activity = pd.concat([df_activity_u10, df_activity_u16])\r\n",
        "df_activity.shape"
      ],
      "execution_count": null,
      "outputs": [
        {
          "output_type": "execute_result",
          "data": {
            "text/plain": [
              "(1021908, 2)"
            ]
          },
          "metadata": {
            "tags": []
          },
          "execution_count": 20
        }
      ]
    },
    {
      "cell_type": "code",
      "metadata": {
        "colab": {
          "base_uri": "https://localhost:8080/",
          "height": 204
        },
        "id": "J5r0H4KJ65KX",
        "outputId": "67ef615c-8b16-49ff-eef7-ec758c5cf68f"
      },
      "source": [
        "df_activity['timestamp']=pd.to_datetime(df_activity['timestamp'],unit='s')\r\n",
        "df_activity.head()"
      ],
      "execution_count": null,
      "outputs": [
        {
          "output_type": "execute_result",
          "data": {
            "text/html": [
              "<div>\n",
              "<style scoped>\n",
              "    .dataframe tbody tr th:only-of-type {\n",
              "        vertical-align: middle;\n",
              "    }\n",
              "\n",
              "    .dataframe tbody tr th {\n",
              "        vertical-align: top;\n",
              "    }\n",
              "\n",
              "    .dataframe thead th {\n",
              "        text-align: right;\n",
              "    }\n",
              "</style>\n",
              "<table border=\"1\" class=\"dataframe\">\n",
              "  <thead>\n",
              "    <tr style=\"text-align: right;\">\n",
              "      <th></th>\n",
              "      <th>timestamp</th>\n",
              "      <th>_activity_inference</th>\n",
              "    </tr>\n",
              "  </thead>\n",
              "  <tbody>\n",
              "    <tr>\n",
              "      <th>0</th>\n",
              "      <td>2013-03-27 13:57:23</td>\n",
              "      <td>2.0</td>\n",
              "    </tr>\n",
              "    <tr>\n",
              "      <th>1</th>\n",
              "      <td>2013-03-27 13:57:25</td>\n",
              "      <td>2.0</td>\n",
              "    </tr>\n",
              "    <tr>\n",
              "      <th>2</th>\n",
              "      <td>2013-03-27 17:41:30</td>\n",
              "      <td>2.0</td>\n",
              "    </tr>\n",
              "    <tr>\n",
              "      <th>3</th>\n",
              "      <td>2013-03-27 18:57:13</td>\n",
              "      <td>2.0</td>\n",
              "    </tr>\n",
              "    <tr>\n",
              "      <th>4</th>\n",
              "      <td>2013-03-27 18:57:16</td>\n",
              "      <td>2.0</td>\n",
              "    </tr>\n",
              "  </tbody>\n",
              "</table>\n",
              "</div>"
            ],
            "text/plain": [
              "            timestamp  _activity_inference\n",
              "0 2013-03-27 13:57:23                  2.0\n",
              "1 2013-03-27 13:57:25                  2.0\n",
              "2 2013-03-27 17:41:30                  2.0\n",
              "3 2013-03-27 18:57:13                  2.0\n",
              "4 2013-03-27 18:57:16                  2.0"
            ]
          },
          "metadata": {
            "tags": []
          },
          "execution_count": 21
        }
      ]
    },
    {
      "cell_type": "code",
      "metadata": {
        "colab": {
          "base_uri": "https://localhost:8080/"
        },
        "id": "Dy2CDZWCJVCY",
        "outputId": "5cc3c082-6af8-4e93-a2bb-f10435c326ca"
      },
      "source": [
        "print('Students Stationary time (In Percentage) is',(df_activity['_activity_inference'].value_counts()[0]/df_activity.shape[0])*100)"
      ],
      "execution_count": null,
      "outputs": [
        {
          "output_type": "stream",
          "text": [
            "Students Stationary time (In Percentage) is 94.58415043232856\n"
          ],
          "name": "stdout"
        }
      ]
    },
    {
      "cell_type": "markdown",
      "metadata": {
        "id": "ao3Jms32XGlx"
      },
      "source": [
        ""
      ]
    },
    {
      "cell_type": "markdown",
      "metadata": {
        "id": "QoZM3sV5PWyM"
      },
      "source": [
        "![image.png](data:image/png;base64,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)"
      ]
    },
    {
      "cell_type": "markdown",
      "metadata": {
        "id": "jnH7kZzbaELO"
      },
      "source": [
        ""
      ]
    },
    {
      "cell_type": "code",
      "metadata": {
        "id": "k3TAFG_-aLdK"
      },
      "source": [
        ""
      ],
      "execution_count": null,
      "outputs": []
    },
    {
      "cell_type": "markdown",
      "metadata": {
        "id": "IlDZKFL3Cc2n"
      },
      "source": [
        "##Performing Time Series Analysis"
      ]
    },
    {
      "cell_type": "code",
      "metadata": {
        "id": "-SrpSg-1DbkR"
      },
      "source": [
        "from fbprophet import Prophet"
      ],
      "execution_count": null,
      "outputs": []
    },
    {
      "cell_type": "code",
      "metadata": {
        "id": "8r3GaEuxC5JR"
      },
      "source": [
        "#df_act = df_activity.drop('timestamp', axis=1)\r\n",
        "#df_act"
      ],
      "execution_count": null,
      "outputs": []
    },
    {
      "cell_type": "code",
      "metadata": {
        "id": "oBeSVkgL7C_C"
      },
      "source": [
        "df_activity.columns = ['y', 'ds']"
      ],
      "execution_count": null,
      "outputs": []
    },
    {
      "cell_type": "code",
      "metadata": {
        "colab": {
          "base_uri": "https://localhost:8080/",
          "height": 399
        },
        "id": "sIfP3fTzC2ZJ",
        "outputId": "d5a551e9-85ab-499d-8e10-edc86d2c4e08"
      },
      "source": [
        "df_activity"
      ],
      "execution_count": null,
      "outputs": [
        {
          "output_type": "execute_result",
          "data": {
            "text/html": [
              "<div>\n",
              "<style scoped>\n",
              "    .dataframe tbody tr th:only-of-type {\n",
              "        vertical-align: middle;\n",
              "    }\n",
              "\n",
              "    .dataframe tbody tr th {\n",
              "        vertical-align: top;\n",
              "    }\n",
              "\n",
              "    .dataframe thead th {\n",
              "        text-align: right;\n",
              "    }\n",
              "</style>\n",
              "<table border=\"1\" class=\"dataframe\">\n",
              "  <thead>\n",
              "    <tr style=\"text-align: right;\">\n",
              "      <th></th>\n",
              "      <th>y</th>\n",
              "      <th>ds</th>\n",
              "    </tr>\n",
              "  </thead>\n",
              "  <tbody>\n",
              "    <tr>\n",
              "      <th>0</th>\n",
              "      <td>2013-03-27 13:57:23</td>\n",
              "      <td>2.0</td>\n",
              "    </tr>\n",
              "    <tr>\n",
              "      <th>1</th>\n",
              "      <td>2013-03-27 13:57:25</td>\n",
              "      <td>2.0</td>\n",
              "    </tr>\n",
              "    <tr>\n",
              "      <th>2</th>\n",
              "      <td>2013-03-27 17:41:30</td>\n",
              "      <td>2.0</td>\n",
              "    </tr>\n",
              "    <tr>\n",
              "      <th>3</th>\n",
              "      <td>2013-03-27 18:57:13</td>\n",
              "      <td>2.0</td>\n",
              "    </tr>\n",
              "    <tr>\n",
              "      <th>4</th>\n",
              "      <td>2013-03-27 18:57:16</td>\n",
              "      <td>2.0</td>\n",
              "    </tr>\n",
              "    <tr>\n",
              "      <th>...</th>\n",
              "      <td>...</td>\n",
              "      <td>...</td>\n",
              "    </tr>\n",
              "    <tr>\n",
              "      <th>981493</th>\n",
              "      <td>2013-05-29 06:40:27</td>\n",
              "      <td>3.0</td>\n",
              "    </tr>\n",
              "    <tr>\n",
              "      <th>981494</th>\n",
              "      <td>2013-05-29 10:16:13</td>\n",
              "      <td>3.0</td>\n",
              "    </tr>\n",
              "    <tr>\n",
              "      <th>981495</th>\n",
              "      <td>2013-05-29 10:16:24</td>\n",
              "      <td>3.0</td>\n",
              "    </tr>\n",
              "    <tr>\n",
              "      <th>981496</th>\n",
              "      <td>2013-05-29 10:16:26</td>\n",
              "      <td>3.0</td>\n",
              "    </tr>\n",
              "    <tr>\n",
              "      <th>981497</th>\n",
              "      <td>2013-05-29 10:16:29</td>\n",
              "      <td>3.0</td>\n",
              "    </tr>\n",
              "  </tbody>\n",
              "</table>\n",
              "<p>1021908 rows × 2 columns</p>\n",
              "</div>"
            ],
            "text/plain": [
              "                         y   ds\n",
              "0      2013-03-27 13:57:23  2.0\n",
              "1      2013-03-27 13:57:25  2.0\n",
              "2      2013-03-27 17:41:30  2.0\n",
              "3      2013-03-27 18:57:13  2.0\n",
              "4      2013-03-27 18:57:16  2.0\n",
              "...                    ...  ...\n",
              "981493 2013-05-29 06:40:27  3.0\n",
              "981494 2013-05-29 10:16:13  3.0\n",
              "981495 2013-05-29 10:16:24  3.0\n",
              "981496 2013-05-29 10:16:26  3.0\n",
              "981497 2013-05-29 10:16:29  3.0\n",
              "\n",
              "[1021908 rows x 2 columns]"
            ]
          },
          "metadata": {
            "tags": []
          },
          "execution_count": 28
        }
      ]
    },
    {
      "cell_type": "code",
      "metadata": {
        "colab": {
          "base_uri": "https://localhost:8080/",
          "height": 399
        },
        "id": "egsCK6nhKHeD",
        "outputId": "176e7539-627b-4df9-f86e-f3b0d222c457"
      },
      "source": [
        "df_activity.dropna(axis = 0)"
      ],
      "execution_count": null,
      "outputs": [
        {
          "output_type": "execute_result",
          "data": {
            "text/html": [
              "<div>\n",
              "<style scoped>\n",
              "    .dataframe tbody tr th:only-of-type {\n",
              "        vertical-align: middle;\n",
              "    }\n",
              "\n",
              "    .dataframe tbody tr th {\n",
              "        vertical-align: top;\n",
              "    }\n",
              "\n",
              "    .dataframe thead th {\n",
              "        text-align: right;\n",
              "    }\n",
              "</style>\n",
              "<table border=\"1\" class=\"dataframe\">\n",
              "  <thead>\n",
              "    <tr style=\"text-align: right;\">\n",
              "      <th></th>\n",
              "      <th>y</th>\n",
              "      <th>ds</th>\n",
              "    </tr>\n",
              "  </thead>\n",
              "  <tbody>\n",
              "    <tr>\n",
              "      <th>0</th>\n",
              "      <td>2013-03-27 13:57:23</td>\n",
              "      <td>2.0</td>\n",
              "    </tr>\n",
              "    <tr>\n",
              "      <th>1</th>\n",
              "      <td>2013-03-27 13:57:25</td>\n",
              "      <td>2.0</td>\n",
              "    </tr>\n",
              "    <tr>\n",
              "      <th>2</th>\n",
              "      <td>2013-03-27 17:41:30</td>\n",
              "      <td>2.0</td>\n",
              "    </tr>\n",
              "    <tr>\n",
              "      <th>3</th>\n",
              "      <td>2013-03-27 18:57:13</td>\n",
              "      <td>2.0</td>\n",
              "    </tr>\n",
              "    <tr>\n",
              "      <th>4</th>\n",
              "      <td>2013-03-27 18:57:16</td>\n",
              "      <td>2.0</td>\n",
              "    </tr>\n",
              "    <tr>\n",
              "      <th>...</th>\n",
              "      <td>...</td>\n",
              "      <td>...</td>\n",
              "    </tr>\n",
              "    <tr>\n",
              "      <th>981493</th>\n",
              "      <td>2013-05-29 06:40:27</td>\n",
              "      <td>3.0</td>\n",
              "    </tr>\n",
              "    <tr>\n",
              "      <th>981494</th>\n",
              "      <td>2013-05-29 10:16:13</td>\n",
              "      <td>3.0</td>\n",
              "    </tr>\n",
              "    <tr>\n",
              "      <th>981495</th>\n",
              "      <td>2013-05-29 10:16:24</td>\n",
              "      <td>3.0</td>\n",
              "    </tr>\n",
              "    <tr>\n",
              "      <th>981496</th>\n",
              "      <td>2013-05-29 10:16:26</td>\n",
              "      <td>3.0</td>\n",
              "    </tr>\n",
              "    <tr>\n",
              "      <th>981497</th>\n",
              "      <td>2013-05-29 10:16:29</td>\n",
              "      <td>3.0</td>\n",
              "    </tr>\n",
              "  </tbody>\n",
              "</table>\n",
              "<p>1021908 rows × 2 columns</p>\n",
              "</div>"
            ],
            "text/plain": [
              "                         y   ds\n",
              "0      2013-03-27 13:57:23  2.0\n",
              "1      2013-03-27 13:57:25  2.0\n",
              "2      2013-03-27 17:41:30  2.0\n",
              "3      2013-03-27 18:57:13  2.0\n",
              "4      2013-03-27 18:57:16  2.0\n",
              "...                    ...  ...\n",
              "981493 2013-05-29 06:40:27  3.0\n",
              "981494 2013-05-29 10:16:13  3.0\n",
              "981495 2013-05-29 10:16:24  3.0\n",
              "981496 2013-05-29 10:16:26  3.0\n",
              "981497 2013-05-29 10:16:29  3.0\n",
              "\n",
              "[1021908 rows x 2 columns]"
            ]
          },
          "metadata": {
            "tags": []
          },
          "execution_count": 29
        }
      ]
    },
    {
      "cell_type": "code",
      "metadata": {
        "colab": {
          "base_uri": "https://localhost:8080/",
          "height": 399
        },
        "id": "JsKldfjEEV5S",
        "outputId": "e752ed2b-9615-4d89-cc57-377c184e992d"
      },
      "source": [
        "#Swapping the Columns \r\n",
        "columns_titles = [\"ds\",\"y\"] \r\n",
        "\r\n",
        "df_reorder=df_activity.reindex(columns=columns_titles)\r\n",
        "df_reorder"
      ],
      "execution_count": null,
      "outputs": [
        {
          "output_type": "execute_result",
          "data": {
            "text/html": [
              "<div>\n",
              "<style scoped>\n",
              "    .dataframe tbody tr th:only-of-type {\n",
              "        vertical-align: middle;\n",
              "    }\n",
              "\n",
              "    .dataframe tbody tr th {\n",
              "        vertical-align: top;\n",
              "    }\n",
              "\n",
              "    .dataframe thead th {\n",
              "        text-align: right;\n",
              "    }\n",
              "</style>\n",
              "<table border=\"1\" class=\"dataframe\">\n",
              "  <thead>\n",
              "    <tr style=\"text-align: right;\">\n",
              "      <th></th>\n",
              "      <th>ds</th>\n",
              "      <th>y</th>\n",
              "    </tr>\n",
              "  </thead>\n",
              "  <tbody>\n",
              "    <tr>\n",
              "      <th>0</th>\n",
              "      <td>2.0</td>\n",
              "      <td>2013-03-27 13:57:23</td>\n",
              "    </tr>\n",
              "    <tr>\n",
              "      <th>1</th>\n",
              "      <td>2.0</td>\n",
              "      <td>2013-03-27 13:57:25</td>\n",
              "    </tr>\n",
              "    <tr>\n",
              "      <th>2</th>\n",
              "      <td>2.0</td>\n",
              "      <td>2013-03-27 17:41:30</td>\n",
              "    </tr>\n",
              "    <tr>\n",
              "      <th>3</th>\n",
              "      <td>2.0</td>\n",
              "      <td>2013-03-27 18:57:13</td>\n",
              "    </tr>\n",
              "    <tr>\n",
              "      <th>4</th>\n",
              "      <td>2.0</td>\n",
              "      <td>2013-03-27 18:57:16</td>\n",
              "    </tr>\n",
              "    <tr>\n",
              "      <th>...</th>\n",
              "      <td>...</td>\n",
              "      <td>...</td>\n",
              "    </tr>\n",
              "    <tr>\n",
              "      <th>981493</th>\n",
              "      <td>3.0</td>\n",
              "      <td>2013-05-29 06:40:27</td>\n",
              "    </tr>\n",
              "    <tr>\n",
              "      <th>981494</th>\n",
              "      <td>3.0</td>\n",
              "      <td>2013-05-29 10:16:13</td>\n",
              "    </tr>\n",
              "    <tr>\n",
              "      <th>981495</th>\n",
              "      <td>3.0</td>\n",
              "      <td>2013-05-29 10:16:24</td>\n",
              "    </tr>\n",
              "    <tr>\n",
              "      <th>981496</th>\n",
              "      <td>3.0</td>\n",
              "      <td>2013-05-29 10:16:26</td>\n",
              "    </tr>\n",
              "    <tr>\n",
              "      <th>981497</th>\n",
              "      <td>3.0</td>\n",
              "      <td>2013-05-29 10:16:29</td>\n",
              "    </tr>\n",
              "  </tbody>\n",
              "</table>\n",
              "<p>1021908 rows × 2 columns</p>\n",
              "</div>"
            ],
            "text/plain": [
              "         ds                   y\n",
              "0       2.0 2013-03-27 13:57:23\n",
              "1       2.0 2013-03-27 13:57:25\n",
              "2       2.0 2013-03-27 17:41:30\n",
              "3       2.0 2013-03-27 18:57:13\n",
              "4       2.0 2013-03-27 18:57:16\n",
              "...     ...                 ...\n",
              "981493  3.0 2013-05-29 06:40:27\n",
              "981494  3.0 2013-05-29 10:16:13\n",
              "981495  3.0 2013-05-29 10:16:24\n",
              "981496  3.0 2013-05-29 10:16:26\n",
              "981497  3.0 2013-05-29 10:16:29\n",
              "\n",
              "[1021908 rows x 2 columns]"
            ]
          },
          "metadata": {
            "tags": []
          },
          "execution_count": 30
        }
      ]
    },
    {
      "cell_type": "code",
      "metadata": {
        "colab": {
          "base_uri": "https://localhost:8080/"
        },
        "id": "o-6hFP6IMEml",
        "outputId": "1b46deaf-3fbf-4769-80d2-22cc525ee7d9"
      },
      "source": [
        "df_reorder.dropna(axis = 0, inplace = True)\r\n",
        "df_reorder.isna().any()"
      ],
      "execution_count": null,
      "outputs": [
        {
          "output_type": "execute_result",
          "data": {
            "text/plain": [
              "ds    False\n",
              "y     False\n",
              "dtype: bool"
            ]
          },
          "metadata": {
            "tags": []
          },
          "execution_count": 31
        }
      ]
    },
    {
      "cell_type": "code",
      "metadata": {
        "colab": {
          "base_uri": "https://localhost:8080/"
        },
        "id": "AwT-bCv6DP1h",
        "outputId": "5f5b21ae-330a-4b18-f886-2ab2c86ef3e5"
      },
      "source": [
        "m = Prophet()\r\n",
        "m.fit(df_reorder)"
      ],
      "execution_count": null,
      "outputs": [
        {
          "output_type": "stream",
          "text": [
            "INFO:fbprophet:Disabling yearly seasonality. Run prophet with yearly_seasonality=True to override this.\n",
            "INFO:fbprophet:Disabling weekly seasonality. Run prophet with weekly_seasonality=True to override this.\n",
            "INFO:fbprophet:Disabling daily seasonality. Run prophet with daily_seasonality=True to override this.\n"
          ],
          "name": "stderr"
        },
        {
          "output_type": "execute_result",
          "data": {
            "text/plain": [
              "<fbprophet.forecaster.Prophet at 0x7f7f3b454b70>"
            ]
          },
          "metadata": {
            "tags": []
          },
          "execution_count": 32
        }
      ]
    },
    {
      "cell_type": "code",
      "metadata": {
        "colab": {
          "base_uri": "https://localhost:8080/",
          "height": 194
        },
        "id": "eL1tPd3kDspZ",
        "outputId": "23f84d98-61b6-41ce-8308-7e0e812f18c1"
      },
      "source": [
        "future = m.make_future_dataframe(periods = 60)\r\n",
        "future.tail()"
      ],
      "execution_count": null,
      "outputs": [
        {
          "output_type": "execute_result",
          "data": {
            "text/html": [
              "<div>\n",
              "<style scoped>\n",
              "    .dataframe tbody tr th:only-of-type {\n",
              "        vertical-align: middle;\n",
              "    }\n",
              "\n",
              "    .dataframe tbody tr th {\n",
              "        vertical-align: top;\n",
              "    }\n",
              "\n",
              "    .dataframe thead th {\n",
              "        text-align: right;\n",
              "    }\n",
              "</style>\n",
              "<table border=\"1\" class=\"dataframe\">\n",
              "  <thead>\n",
              "    <tr style=\"text-align: right;\">\n",
              "      <th></th>\n",
              "      <th>ds</th>\n",
              "    </tr>\n",
              "  </thead>\n",
              "  <tbody>\n",
              "    <tr>\n",
              "      <th>59</th>\n",
              "      <td>1970-02-26 00:00:00.000000003</td>\n",
              "    </tr>\n",
              "    <tr>\n",
              "      <th>60</th>\n",
              "      <td>1970-02-27 00:00:00.000000003</td>\n",
              "    </tr>\n",
              "    <tr>\n",
              "      <th>61</th>\n",
              "      <td>1970-02-28 00:00:00.000000003</td>\n",
              "    </tr>\n",
              "    <tr>\n",
              "      <th>62</th>\n",
              "      <td>1970-03-01 00:00:00.000000003</td>\n",
              "    </tr>\n",
              "    <tr>\n",
              "      <th>63</th>\n",
              "      <td>1970-03-02 00:00:00.000000003</td>\n",
              "    </tr>\n",
              "  </tbody>\n",
              "</table>\n",
              "</div>"
            ],
            "text/plain": [
              "                              ds\n",
              "59 1970-02-26 00:00:00.000000003\n",
              "60 1970-02-27 00:00:00.000000003\n",
              "61 1970-02-28 00:00:00.000000003\n",
              "62 1970-03-01 00:00:00.000000003\n",
              "63 1970-03-02 00:00:00.000000003"
            ]
          },
          "metadata": {
            "tags": []
          },
          "execution_count": 33
        }
      ]
    },
    {
      "cell_type": "code",
      "metadata": {
        "id": "aIsBmhcQJpDH"
      },
      "source": [
        "forecast = m.predict(df_reorder)\r\n",
        "fig1 = m.plot(forecast)"
      ],
      "execution_count": null,
      "outputs": []
    },
    {
      "cell_type": "code",
      "metadata": {
        "id": "-6zOLrlBJ3Ex"
      },
      "source": [
        ""
      ],
      "execution_count": null,
      "outputs": []
    },
    {
      "cell_type": "code",
      "metadata": {
        "id": "paqFIouuX6eW"
      },
      "source": [
        ""
      ],
      "execution_count": null,
      "outputs": []
    },
    {
      "cell_type": "markdown",
      "metadata": {
        "id": "6WyH6r2WYwM_"
      },
      "source": [
        "correlation between stress and conversation"
      ]
    },
    {
      "cell_type": "code",
      "metadata": {
        "colab": {
          "base_uri": "https://localhost:8080/"
        },
        "id": "UjSR48BFX6vt",
        "outputId": "76183471-4b97-40c6-abbd-814546ed88c2"
      },
      "source": [
        "\r\n",
        "from pandas.io import gbq\r\n",
        "from matplotlib import pyplot as plt\r\n",
        "import pandas as pd\r\n",
        "import numpy as np\r\n",
        "\r\n",
        "df_activity_u10 = gbq.read_gbq('select * from Students.activity_u10',project_id='ipads2020assignment8')\r\n",
        "df_activity_u16 = gbq.read_gbq('select * from Students.activity_u16',project_id='ipads2020assignment8')\r\n",
        "\r\n",
        "st_list=['u00','u01','u02','u03','u04','u05','u07.','u08','u09','u10']\r\n",
        "stress_val_con={'Fairly often':0,'Sometime':1,'Almost never':2,'Very often':3}\r\n",
        "df_stressscale = gbq.read_gbq('select string_field_0,string_field_4\t from Students.stressScale where string_field_1=\"pre\" ', project_id='ipads2020assignment8')\r\n",
        "file_list=['conversation_u00.csv',\r\n",
        " 'conversation_u01.csv',\r\n",
        " 'conversation_u02.csv',\r\n",
        " 'conversation_u03.csv',\r\n",
        " 'conversation_u04.csv',\r\n",
        " 'conversation_u05.csv',\r\n",
        " 'conversation_u08.csv',\r\n",
        " 'conversation_u09.csv',\r\n",
        " 'conversation_u10.csv']\r\n",
        "avg_list=[]\r\n",
        "for table in file_list:\r\n",
        "  query='SELECT avg(start_timestamp-_end_timestamp) FROM Students.'+table.split('.')[0]\r\n",
        "  temp=gbq.read_gbq(query, project_id='ipads2020assignment8').head()\r\n",
        "  avg_list.append([x[1] for x in temp.itertuples()][0])\r\n",
        "avg_list\r\n",
        "stress_dict={}\r\n",
        "for i in df_stressscale.itertuples():\r\n",
        "  if i[1] in st_list:\r\n",
        "    stress_dict[i[1]]=i[2]\r\n",
        "stress_class=[]\r\n",
        "for key,val in stress_dict.items():\r\n",
        "   stress_dict[key]=stress_val_con[val]\r\n",
        "   stress_class.append(stress_val_con[val])\r\n",
        "#correlation between stress and conversation\r\n",
        "np.corrcoef(avg_list, stress_class)"
      ],
      "execution_count": null,
      "outputs": [
        {
          "output_type": "execute_result",
          "data": {
            "text/plain": [
              "array([[ 1.        , -0.42761519],\n",
              "       [-0.42761519,  1.        ]])"
            ]
          },
          "metadata": {
            "tags": []
          },
          "execution_count": 26
        }
      ]
    },
    {
      "cell_type": "code",
      "metadata": {
        "colab": {
          "base_uri": "https://localhost:8080/"
        },
        "id": "uuYORcfIiKK3",
        "outputId": "1b964958-ab9a-48c7-870a-62df890468d3"
      },
      "source": [
        "from pandas.io import gbq\r\n",
        "from matplotlib import pyplot as plt\r\n",
        "import pandas as pd\r\n",
        "import numpy as np\r\n",
        "# Importing the required packages \r\n",
        "import numpy as np \r\n",
        "import pandas as pd \r\n",
        "from sklearn.metrics import confusion_matrix \r\n",
        "from sklearn.model_selection import train_test_split\r\n",
        "from sklearn.tree import DecisionTreeClassifier \r\n",
        "from sklearn.metrics import accuracy_score \r\n",
        "from sklearn.metrics import classification_report\r\n",
        "\r\n",
        "df_activity_u10 = gbq.read_gbq('select * from Students.activity_u10',project_id='ipads2020assignment8')\r\n",
        "df_activity_u16 = gbq.read_gbq('select * from Students.activity_u16',project_id='ipads2020assignment8')\r\n",
        "\r\n",
        "st_list=['u00','u01','u02','u03','u04','u05','u07.','u08','u09','u10']\r\n",
        "stress_val_con={'Fairly often':0,'Sometime':1,'Almost never':2,'Very often':3}\r\n",
        "df_stressscale = gbq.read_gbq('select string_field_0,string_field_4\t from Students.stressScale where string_field_1=\"pre\" ', project_id='ipads2020assignment8')\r\n",
        "file_list=['conversation_u00.csv',\r\n",
        " 'conversation_u01.csv',\r\n",
        " 'conversation_u02.csv',\r\n",
        " 'conversation_u03.csv',\r\n",
        " 'conversation_u04.csv',\r\n",
        " 'conversation_u05.csv',\r\n",
        " 'conversation_u08.csv',\r\n",
        " 'conversation_u09.csv',\r\n",
        " 'conversation_u10.csv']\r\n",
        "avg_list=[]\r\n",
        "for table in file_list:\r\n",
        "  query='SELECT avg(start_timestamp-_end_timestamp) FROM Students.'+table.split('.')[0]\r\n",
        "  temp=gbq.read_gbq(query, project_id='ipads2020assignment8').head()\r\n",
        "  avg_list.append([x[1] for x in temp.itertuples()][0])\r\n",
        "avg_list\r\n",
        "stress_dict={}\r\n",
        "for i in df_stressscale.itertuples():\r\n",
        "  if i[1] in st_list:\r\n",
        "    stress_dict[i[1]]=i[2]\r\n",
        "stress_class=[]\r\n",
        "for key,val in stress_dict.items():\r\n",
        "   stress_dict[key]=stress_val_con[val]\r\n",
        "   stress_class.append(stress_val_con[val])\r\n",
        "#correlation between stress and conversation\r\n",
        "np.corrcoef(avg_list, stress_class)\r\n",
        "\r\n",
        "file_list=['phonecharge_u00',\r\n",
        " 'phonecharge_u01',\r\n",
        " 'phonecharge_u02',\r\n",
        " 'phonecharge_u03',\r\n",
        " 'phonecharge_u04',\r\n",
        " 'phonecharge_u05',\r\n",
        " 'phonecharge_u08',\r\n",
        " 'phonecharge_u09',\r\n",
        " 'phonecharge_u10']\r\n",
        "avg_list1=avg_list\r\n",
        "avg_list=[]\r\n",
        "for table in file_list:\r\n",
        "  query='SELECT avg(t.start- t.end) FROM Students.'+table.split('.')[0]+' as t'\r\n",
        "  temp=gbq.read_gbq(query, project_id='ipads2020assignment8').head()\r\n",
        "  avg_list.append([x[1] for x in temp.itertuples()][0])\r\n",
        "avg_list\r\n",
        "stress_dict={}\r\n",
        "for i in df_stressscale.itertuples():\r\n",
        "  if i[1] in st_list:\r\n",
        "    stress_dict[i[1]]=i[2]\r\n",
        "stress_class=[]\r\n",
        "for key,val in stress_dict.items():\r\n",
        "   stress_dict[key]=stress_val_con[val]\r\n",
        "   stress_class.append(stress_val_con[val])\r\n",
        "#correlation between stress and conversation\r\n",
        "np.corrcoef(avg_list, stress_class)\r\n",
        "\r\n",
        "file_list=['phonelock_u00',\r\n",
        " 'phonelock_u01',\r\n",
        " 'phonelock_u02',\r\n",
        " 'phonelock_u03',\r\n",
        " 'phonelock_u04',\r\n",
        " 'phonelock_u05',\r\n",
        " 'phonelock_u08',\r\n",
        " 'phonelock_u09',\r\n",
        " 'phonelock_u10']\r\n",
        "avg_list2=avg_list\r\n",
        "avg_list=[]\r\n",
        "for table in file_list:\r\n",
        "  query='SELECT avg(t.start- t.end) FROM Students.'+table.split('.')[0]+' as t'\r\n",
        "  temp=gbq.read_gbq(query, project_id='ipads2020assignment8').head()\r\n",
        "  avg_list.append([x[1] for x in temp.itertuples()][0])\r\n",
        "avg_list\r\n",
        "stress_dict={}\r\n",
        "for i in df_stressscale.itertuples():\r\n",
        "  if i[1] in st_list:\r\n",
        "    stress_dict[i[1]]=i[2]\r\n",
        "stress_class=[]\r\n",
        "for key,val in stress_dict.items():\r\n",
        "   stress_dict[key]=stress_val_con[val]\r\n",
        "   stress_class.append(stress_val_con[val])\r\n",
        "#correlation between stress and conversation\r\n",
        "np.corrcoef(avg_list, stress_class)\r\n",
        "\r\n",
        "avg_list2\r\n",
        "\r\n",
        "X=[]\r\n",
        "for i, j,k in zip(avg_list1,avg_list2,avg_list):\r\n",
        "    X.append([i,j,k])\r\n",
        "\r\n",
        "X=np.array(X)\r\n",
        "Y=np.array(stress_class)\r\n",
        "\r\n",
        "X\r\n",
        "\r\n",
        "X_train, X_test, y_train, y_test = train_test_split( X, Y, test_size = 0.2, random_state = 100)\r\n",
        "\r\n",
        "# Creating the classifier object \r\n",
        "clf_gini = DecisionTreeClassifier(criterion = \"gini\", random_state = 100,max_depth=1, min_samples_leaf=1)\r\n",
        "# Performing training \r\n",
        "clf_gini.fit(X_train, y_train) \r\n",
        "y_pred=clf_gini.predict(X_test)\r\n",
        "print(\"Report : \", \r\n",
        "classification_report(y_test, y_pred))"
      ],
      "execution_count": 2,
      "outputs": [
        {
          "output_type": "stream",
          "text": [
            "Report :                precision    recall  f1-score   support\n",
            "\n",
            "           0       0.00      0.00      0.00         0\n",
            "           1       1.00      0.50      0.67         2\n",
            "\n",
            "    accuracy                           0.50         2\n",
            "   macro avg       0.50      0.25      0.33         2\n",
            "weighted avg       1.00      0.50      0.67         2\n",
            "\n"
          ],
          "name": "stdout"
        },
        {
          "output_type": "stream",
          "text": [
            "/usr/local/lib/python3.6/dist-packages/sklearn/metrics/_classification.py:1272: UndefinedMetricWarning: Recall and F-score are ill-defined and being set to 0.0 in labels with no true samples. Use `zero_division` parameter to control this behavior.\n",
            "  _warn_prf(average, modifier, msg_start, len(result))\n"
          ],
          "name": "stderr"
        }
      ]
    }
  ]
}