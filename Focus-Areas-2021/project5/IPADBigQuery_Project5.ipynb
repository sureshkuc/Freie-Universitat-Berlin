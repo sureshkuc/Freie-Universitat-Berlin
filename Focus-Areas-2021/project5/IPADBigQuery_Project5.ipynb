{
  "nbformat": 4,
  "nbformat_minor": 0,
  "metadata": {
    "colab": {
      "name": "IPADBigQuery_Project5.ipynb",
      "provenance": [],
      "collapsed_sections": []
    },
    "kernelspec": {
      "display_name": "Python 3",
      "language": "python",
      "name": "python3"
    },
    "language_info": {
      "codemirror_mode": {
        "name": "ipython",
        "version": 3
      },
      "file_extension": ".py",
      "mimetype": "text/x-python",
      "name": "python",
      "nbconvert_exporter": "python",
      "pygments_lexer": "ipython3",
      "version": "3.8.3"
    }
  },
  "cells": [
    {
      "cell_type": "markdown",
      "metadata": {
        "id": "c5RI445dao9Y"
      },
      "source": [
        "See  https://colab.research.google.com/notebooks/bigquery.ipynb#scrollTo=KcAZ2RHCg_Ze"
      ]
    },
    {
      "cell_type": "code",
      "metadata": {
        "colab": {
          "base_uri": "https://localhost:8080/"
        },
        "id": "wV_ozUbwYWJk",
        "outputId": "f1ea7740-02f6-490b-8c62-68829e087fea"
      },
      "source": [
        "from google.colab import auth\n",
        "auth.authenticate_user()\n",
        "print('Authenticated')"
      ],
      "execution_count": null,
      "outputs": [
        {
          "output_type": "stream",
          "text": [
            "Authenticated\n"
          ],
          "name": "stdout"
        }
      ]
    },
    {
      "cell_type": "code",
      "metadata": {
        "id": "ydA69wTjbMKy"
      },
      "source": [
        "%load_ext google.colab.data_table"
      ],
      "execution_count": null,
      "outputs": []
    },
    {
      "cell_type": "code",
      "metadata": {
        "id": "406WefsiYmYk"
      },
      "source": [
        "project_id = 'centered-oasis-297411'\n"
      ],
      "execution_count": null,
      "outputs": []
    },
    {
      "cell_type": "code",
      "metadata": {
        "colab": {
          "base_uri": "https://localhost:8080/"
        },
        "id": "TF5bun-D8P-m",
        "outputId": "e07fce57-d6fe-4e89-f682-c2913395ab01"
      },
      "source": [
        "%env GCLOUD_PROJECT=centered-oasis-297411"
      ],
      "execution_count": null,
      "outputs": [
        {
          "output_type": "stream",
          "text": [
            "env: GCLOUD_PROJECT=centered-oasis-297411\n"
          ],
          "name": "stdout"
        }
      ]
    },
    {
      "cell_type": "code",
      "metadata": {
        "id": "hPskyQNQomOa"
      },
      "source": [
        "# Source: https://github.com/SohierDane/BigQuery_Helper/blob/master/bq_helper.py\n",
        "\n",
        "import time\n",
        "import pandas as pd\n",
        "\n",
        "from google.cloud import bigquery\n",
        "\n",
        "\n",
        "class BigQueryHelper(object):\n",
        "    \"\"\"\n",
        "    Helper class to simplify common BigQuery tasks like executing queries,\n",
        "    showing table schemas, etc without worrying about table or dataset pointers.\n",
        "    See the BigQuery docs for details of the steps this class lets you skip:\n",
        "    https://googlecloudplatform.github.io/google-cloud-python/latest/bigquery/reference.html\n",
        "    \"\"\"\n",
        "\n",
        "    def __init__(self, active_project, dataset_name, max_wait_seconds=180):\n",
        "        self.project_name = active_project\n",
        "        self.dataset_name = dataset_name\n",
        "        self.max_wait_seconds = max_wait_seconds\n",
        "        self.client = bigquery.Client()\n",
        "        self.__dataset_ref = self.client.dataset(self.dataset_name, project=self.project_name)\n",
        "        self.dataset = None\n",
        "        self.tables = dict()  # {table name (str): table object}\n",
        "        self.__table_refs = dict()  # {table name (str): table reference}\n",
        "        self.total_gb_used_net_cache = 0\n",
        "        self.BYTES_PER_GB = 2**30\n",
        "\n",
        "    def __fetch_dataset(self):\n",
        "        \"\"\"\n",
        "        Lazy loading of dataset. For example,\n",
        "        if the user only calls `self.query_to_pandas` then the\n",
        "        dataset never has to be fetched.\n",
        "        \"\"\"\n",
        "        if self.dataset is None:\n",
        "            self.dataset = self.client.get_dataset(self.__dataset_ref)\n",
        "\n",
        "    def __fetch_table(self, table_name):\n",
        "        \"\"\"\n",
        "        Lazy loading of table\n",
        "        \"\"\"\n",
        "        self.__fetch_dataset()\n",
        "        if table_name not in self.__table_refs:\n",
        "            self.__table_refs[table_name] = self.dataset.table(table_name)\n",
        "        if table_name not in self.tables:\n",
        "            self.tables[table_name] = self.client.get_table(self.__table_refs[table_name])\n",
        "\n",
        "    def __handle_record_field(self, row, schema_details, top_level_name=''):\n",
        "        \"\"\"\n",
        "        Unpack a single row, including any nested fields.\n",
        "        \"\"\"\n",
        "        name = row['name']\n",
        "        if top_level_name != '':\n",
        "            name = top_level_name + '.' + name\n",
        "        schema_details.append([{\n",
        "            'name': name,\n",
        "            'type': row['type'],\n",
        "            'mode': row['mode'],\n",
        "            'fields': pd.np.nan,\n",
        "            'description': row['description']\n",
        "                               }])\n",
        "        # float check is to dodge row['fields'] == np.nan\n",
        "        if type(row.get('fields', 0.0)) == float:\n",
        "            return None\n",
        "        for entry in row['fields']:\n",
        "            self.__handle_record_field(entry, schema_details, name)\n",
        "\n",
        "    def __unpack_all_schema_fields(self, schema):\n",
        "        \"\"\"\n",
        "        Unrolls nested schemas. Returns dataframe with one row per field,\n",
        "        and the field names in the format accepted by the API.\n",
        "        Results will look similar to the website schema, such as:\n",
        "            https://bigquery.cloud.google.com/table/bigquery-public-data:github_repos.commits?pli=1\n",
        "        Args:\n",
        "            schema: DataFrame derived from api repr of raw table.schema\n",
        "        Returns:\n",
        "            Dataframe of the unrolled schema.\n",
        "        \"\"\"\n",
        "        schema_details = []\n",
        "        schema.apply(lambda row:\n",
        "            self.__handle_record_field(row, schema_details), axis=1)\n",
        "        result = pd.concat([pd.DataFrame.from_dict(x) for x in schema_details])\n",
        "        result.reset_index(drop=True, inplace=True)\n",
        "        del result['fields']\n",
        "        return result\n",
        "\n",
        "    def table_schema(self, table_name):\n",
        "        \"\"\"\n",
        "        Get the schema for a specific table from a dataset.\n",
        "        Unrolls nested field names into the format that can be copied\n",
        "        directly into queries. For example, for the `github.commits` table,\n",
        "        the this will return `committer.name`.\n",
        "        This is a very different return signature than BigQuery's table.schema.\n",
        "        \"\"\"\n",
        "        self.__fetch_table(table_name)\n",
        "        raw_schema = self.tables[table_name].schema\n",
        "        schema = pd.DataFrame.from_dict([x.to_api_repr() for x in raw_schema])\n",
        "        # the api_repr only has the fields column for tables with nested data\n",
        "        if 'fields' in schema.columns:\n",
        "            schema = self.__unpack_all_schema_fields(schema)\n",
        "        # Set the column order\n",
        "        schema = schema[['name', 'type', 'mode', 'description']]\n",
        "        return schema\n",
        "\n",
        "    def list_tables(self):\n",
        "        \"\"\"\n",
        "        List the names of the tables in a dataset\n",
        "        \"\"\"\n",
        "        self.__fetch_dataset()\n",
        "        return([x.table_id for x in self.client.list_tables(self.dataset)])\n",
        "\n",
        "    def estimate_query_size(self, query):\n",
        "        \"\"\"\n",
        "        Estimate gigabytes scanned by query.\n",
        "        Does not consider if there is a cached query table.\n",
        "        See https://cloud.google.com/bigquery/docs/reference/rest/v2/jobs#configuration.dryRun\n",
        "        \"\"\"\n",
        "        my_job_config = bigquery.job.QueryJobConfig()\n",
        "        my_job_config.dry_run = True\n",
        "        my_job = self.client.query(query, job_config=my_job_config)\n",
        "        return my_job.total_bytes_processed / self.BYTES_PER_GB\n",
        "\n",
        "    def query_to_pandas(self, query):\n",
        "        \"\"\"\n",
        "        Execute a SQL query & return a pandas dataframe\n",
        "        \"\"\"\n",
        "        my_job = self.client.query(query)\n",
        "        start_time = time.time()\n",
        "        while not my_job.done():\n",
        "            if (time.time() - start_time) > self.max_wait_seconds:\n",
        "                print(\"Max wait time elapsed, query cancelled.\")\n",
        "                self.client.cancel_job(my_job.job_id)\n",
        "                return None\n",
        "            time.sleep(0.1)\n",
        "        # Queries that hit errors will return an exception type.\n",
        "        # Those exceptions don't get raised until we call my_job.to_dataframe()\n",
        "        # In that case, my_job.total_bytes_billed can be called but is None\n",
        "        if my_job.total_bytes_billed:\n",
        "            self.total_gb_used_net_cache += my_job.total_bytes_billed / self.BYTES_PER_GB\n",
        "        return my_job.to_dataframe()\n",
        "\n",
        "    def query_to_pandas_safe(self, query, max_gb_scanned=1):\n",
        "        \"\"\"\n",
        "        Execute a query, but only if the query would scan less than `max_gb_scanned` of data.\n",
        "        \"\"\"\n",
        "        query_size = self.estimate_query_size(query)\n",
        "        if query_size <= max_gb_scanned:\n",
        "            return self.query_to_pandas(query)\n",
        "        msg = \"Query cancelled; estimated size of {0} exceeds limit of {1} GB\"\n",
        "        print(msg.format(query_size, max_gb_scanned))\n",
        "\n",
        "    def head(self, table_name, num_rows=5, start_index=None, selected_columns=None):\n",
        "        \"\"\"\n",
        "        Get the first n rows of a table as a DataFrame.\n",
        "        Does not perform a full table scan; should use a trivial amount of data as long as n is small.\n",
        "        \"\"\"\n",
        "        self.__fetch_table(table_name)\n",
        "        active_table = self.tables[table_name]\n",
        "        schema_subset = None\n",
        "        if selected_columns:\n",
        "            schema_subset = [col for col in active_table.schema if col.name in selected_columns]\n",
        "        results = self.client.list_rows(active_table, selected_fields=schema_subset,\n",
        "            max_results=num_rows, start_index=start_index)\n",
        "        results = [x for x in results]\n",
        "        return pd.DataFrame(\n",
        "data=[list(x.values()) for x in results], columns=list(results[0].keys()))"
      ],
      "execution_count": null,
      "outputs": []
    },
    {
      "cell_type": "code",
      "metadata": {
        "colab": {
          "base_uri": "https://localhost:8080/",
          "height": 286
        },
        "id": "i5N-ZEKruxqF",
        "outputId": "211d18fb-f51b-436c-ecad-439822f593c3"
      },
      "source": [
        "bq_assistant = BigQueryHelper(\"bigquery-public-data\", \"github_repos\")\n",
        "bq_assistant.list_tables()\n",
        "bq_assistant.table_schema(\"licenses\")\n",
        "bq_assistant.head(\"licenses\", num_rows=10)"
      ],
      "execution_count": null,
      "outputs": [
        {
          "output_type": "execute_result",
          "data": {
            "application/vnd.google.colaboratory.module+javascript": "\n      import \"https://ssl.gstatic.com/colaboratory/data_table/a6224c040fa35dcf/data_table.js\";\n\n      window.createDataTable({\n        data: [[{\n            'v': 0,\n            'f': \"0\",\n        },\n\"azuredream/chat_server-client\",\n\"artistic-2.0\"],\n [{\n            'v': 1,\n            'f': \"1\",\n        },\n\"Egyptian19/JemCraft\",\n\"artistic-2.0\"],\n [{\n            'v': 2,\n            'f': \"2\",\n        },\n\"ZioRiP/cookie\",\n\"artistic-2.0\"],\n [{\n            'v': 3,\n            'f': \"3\",\n        },\n\"ajs/perl6-log\",\n\"artistic-2.0\"],\n [{\n            'v': 4,\n            'f': \"4\",\n        },\n\"JohanPotgieter/Internet\",\n\"artistic-2.0\"],\n [{\n            'v': 5,\n            'f': \"5\",\n        },\n\"myafrica/java_snippets\",\n\"artistic-2.0\"],\n [{\n            'v': 6,\n            'f': \"6\",\n        },\n\"gitpan/Net-Moip\",\n\"artistic-2.0\"],\n [{\n            'v': 7,\n            'f': \"7\",\n        },\n\"DubiousYak/house\",\n\"artistic-2.0\"],\n [{\n            'v': 8,\n            'f': \"8\",\n        },\n\"JJ/Infraestructura-como-servicio\",\n\"artistic-2.0\"],\n [{\n            'v': 9,\n            'f': \"9\",\n        },\n\"tnalpgge/ant-docbook-dummy\",\n\"artistic-2.0\"]],\n        columns: [[\"number\", \"index\"], [\"string\", \"repo_name\"], [\"string\", \"license\"]],\n        columnOptions: [{\"width\": \"1px\", \"className\": \"index_column\"}],\n        rowsPerPage: 25,\n        helpUrl: \"https://colab.research.google.com/notebooks/data_table.ipynb\",\n        suppressOutputScrolling: true,\n        minimumWidth: undefined,\n      });\n    ",
            "text/html": [
              "<div>\n",
              "<style scoped>\n",
              "    .dataframe tbody tr th:only-of-type {\n",
              "        vertical-align: middle;\n",
              "    }\n",
              "\n",
              "    .dataframe tbody tr th {\n",
              "        vertical-align: top;\n",
              "    }\n",
              "\n",
              "    .dataframe thead th {\n",
              "        text-align: right;\n",
              "    }\n",
              "</style>\n",
              "<table border=\"1\" class=\"dataframe\">\n",
              "  <thead>\n",
              "    <tr style=\"text-align: right;\">\n",
              "      <th></th>\n",
              "      <th>repo_name</th>\n",
              "      <th>license</th>\n",
              "    </tr>\n",
              "  </thead>\n",
              "  <tbody>\n",
              "    <tr>\n",
              "      <th>0</th>\n",
              "      <td>azuredream/chat_server-client</td>\n",
              "      <td>artistic-2.0</td>\n",
              "    </tr>\n",
              "    <tr>\n",
              "      <th>1</th>\n",
              "      <td>Egyptian19/JemCraft</td>\n",
              "      <td>artistic-2.0</td>\n",
              "    </tr>\n",
              "    <tr>\n",
              "      <th>2</th>\n",
              "      <td>ZioRiP/cookie</td>\n",
              "      <td>artistic-2.0</td>\n",
              "    </tr>\n",
              "    <tr>\n",
              "      <th>3</th>\n",
              "      <td>ajs/perl6-log</td>\n",
              "      <td>artistic-2.0</td>\n",
              "    </tr>\n",
              "    <tr>\n",
              "      <th>4</th>\n",
              "      <td>JohanPotgieter/Internet</td>\n",
              "      <td>artistic-2.0</td>\n",
              "    </tr>\n",
              "    <tr>\n",
              "      <th>5</th>\n",
              "      <td>myafrica/java_snippets</td>\n",
              "      <td>artistic-2.0</td>\n",
              "    </tr>\n",
              "    <tr>\n",
              "      <th>6</th>\n",
              "      <td>gitpan/Net-Moip</td>\n",
              "      <td>artistic-2.0</td>\n",
              "    </tr>\n",
              "    <tr>\n",
              "      <th>7</th>\n",
              "      <td>DubiousYak/house</td>\n",
              "      <td>artistic-2.0</td>\n",
              "    </tr>\n",
              "    <tr>\n",
              "      <th>8</th>\n",
              "      <td>JJ/Infraestructura-como-servicio</td>\n",
              "      <td>artistic-2.0</td>\n",
              "    </tr>\n",
              "    <tr>\n",
              "      <th>9</th>\n",
              "      <td>tnalpgge/ant-docbook-dummy</td>\n",
              "      <td>artistic-2.0</td>\n",
              "    </tr>\n",
              "  </tbody>\n",
              "</table>\n",
              "</div>"
            ],
            "text/plain": [
              "                          repo_name       license\n",
              "0     azuredream/chat_server-client  artistic-2.0\n",
              "1               Egyptian19/JemCraft  artistic-2.0\n",
              "2                     ZioRiP/cookie  artistic-2.0\n",
              "3                     ajs/perl6-log  artistic-2.0\n",
              "4           JohanPotgieter/Internet  artistic-2.0\n",
              "5            myafrica/java_snippets  artistic-2.0\n",
              "6                   gitpan/Net-Moip  artistic-2.0\n",
              "7                  DubiousYak/house  artistic-2.0\n",
              "8  JJ/Infraestructura-como-servicio  artistic-2.0\n",
              "9        tnalpgge/ant-docbook-dummy  artistic-2.0"
            ]
          },
          "metadata": {
            "tags": []
          },
          "execution_count": 11
        }
      ]
    },
    {
      "cell_type": "markdown",
      "metadata": {
        "id": "ZKgZgcggurDY"
      },
      "source": [
        "## **TASK 1**\n",
        "Advanced guide to analyzing variants using BigQuery tutorial"
      ]
    },
    {
      "cell_type": "markdown",
      "metadata": {
        "id": "iir6ZTSEJuIC"
      },
      "source": [
        "# Counting the variants called by each sample\n",
        "\n",
        "Each variant in the table has zero or more values for call.name. A particular call.name value can appear in multiple rows.\n",
        "\n",
        "To count the number of rows in which each call set appears, run the following query:\n"
      ]
    },
    {
      "cell_type": "code",
      "metadata": {
        "id": "yze1tTELWdWA"
      },
      "source": [
        "QUERY1 = \"\"\"\n",
        "SELECT\n",
        "  call.name AS call_name,\n",
        "  COUNT(call.name) AS call_count_for_call_set\n",
        "FROM\n",
        "  `bigquery-public-data.human_genome_variants.platinum_genomes_deepvariant_variants_20180823` v, v.call\n",
        "GROUP BY\n",
        "  call_name\n",
        "ORDER BY\n",
        "  call_name\n",
        "\"\"\""
      ],
      "execution_count": null,
      "outputs": []
    },
    {
      "cell_type": "code",
      "metadata": {
        "colab": {
          "base_uri": "https://localhost:8080/"
        },
        "id": "aX0uDQQ9XYX3",
        "outputId": "606f9547-7823-4162-bdf0-354ce21414a3"
      },
      "source": [
        "bq_assistant.estimate_query_size(QUERY1)  "
      ],
      "execution_count": null,
      "outputs": [
        {
          "output_type": "execute_result",
          "data": {
            "text/plain": [
              "1.5263835601508617"
            ]
          },
          "metadata": {
            "tags": []
          },
          "execution_count": 16
        }
      ]
    },
    {
      "cell_type": "code",
      "metadata": {
        "id": "uFrNsvt0XamR"
      },
      "source": [
        "df1 = bq_assistant.query_to_pandas_safe(QUERY1,max_gb_scanned = 2)"
      ],
      "execution_count": null,
      "outputs": []
    },
    {
      "cell_type": "code",
      "metadata": {
        "colab": {
          "base_uri": "https://localhost:8080/",
          "height": 206
        },
        "id": "vVAtxxn_XcFu",
        "outputId": "0e416832-7f8c-4712-f227-35f2914fa879"
      },
      "source": [
        "df1"
      ],
      "execution_count": null,
      "outputs": [
        {
          "output_type": "execute_result",
          "data": {
            "application/vnd.google.colaboratory.module+javascript": "\n      import \"https://ssl.gstatic.com/colaboratory/data_table/a6224c040fa35dcf/data_table.js\";\n\n      window.createDataTable({\n        data: [[{\n            'v': 0,\n            'f': \"0\",\n        },\n\"NA12877\",\n{\n            'v': 31592135,\n            'f': \"31592135\",\n        }],\n [{\n            'v': 1,\n            'f': \"1\",\n        },\n\"NA12878\",\n{\n            'v': 28012646,\n            'f': \"28012646\",\n        }],\n [{\n            'v': 2,\n            'f': \"2\",\n        },\n\"NA12889\",\n{\n            'v': 31028550,\n            'f': \"31028550\",\n        }],\n [{\n            'v': 3,\n            'f': \"3\",\n        },\n\"NA12890\",\n{\n            'v': 30636087,\n            'f': \"30636087\",\n        }],\n [{\n            'v': 4,\n            'f': \"4\",\n        },\n\"NA12891\",\n{\n            'v': 33487348,\n            'f': \"33487348\",\n        }],\n [{\n            'v': 5,\n            'f': \"5\",\n        },\n\"NA12892\",\n{\n            'v': 27347886,\n            'f': \"27347886\",\n        }]],\n        columns: [[\"number\", \"index\"], [\"string\", \"call_name\"], [\"number\", \"call_count_for_call_set\"]],\n        columnOptions: [{\"width\": \"1px\", \"className\": \"index_column\"}],\n        rowsPerPage: 25,\n        helpUrl: \"https://colab.research.google.com/notebooks/data_table.ipynb\",\n        suppressOutputScrolling: true,\n        minimumWidth: undefined,\n      });\n    ",
            "text/html": [
              "<div>\n",
              "<style scoped>\n",
              "    .dataframe tbody tr th:only-of-type {\n",
              "        vertical-align: middle;\n",
              "    }\n",
              "\n",
              "    .dataframe tbody tr th {\n",
              "        vertical-align: top;\n",
              "    }\n",
              "\n",
              "    .dataframe thead th {\n",
              "        text-align: right;\n",
              "    }\n",
              "</style>\n",
              "<table border=\"1\" class=\"dataframe\">\n",
              "  <thead>\n",
              "    <tr style=\"text-align: right;\">\n",
              "      <th></th>\n",
              "      <th>call_name</th>\n",
              "      <th>call_count_for_call_set</th>\n",
              "    </tr>\n",
              "  </thead>\n",
              "  <tbody>\n",
              "    <tr>\n",
              "      <th>0</th>\n",
              "      <td>NA12877</td>\n",
              "      <td>31592135</td>\n",
              "    </tr>\n",
              "    <tr>\n",
              "      <th>1</th>\n",
              "      <td>NA12878</td>\n",
              "      <td>28012646</td>\n",
              "    </tr>\n",
              "    <tr>\n",
              "      <th>2</th>\n",
              "      <td>NA12889</td>\n",
              "      <td>31028550</td>\n",
              "    </tr>\n",
              "    <tr>\n",
              "      <th>3</th>\n",
              "      <td>NA12890</td>\n",
              "      <td>30636087</td>\n",
              "    </tr>\n",
              "    <tr>\n",
              "      <th>4</th>\n",
              "      <td>NA12891</td>\n",
              "      <td>33487348</td>\n",
              "    </tr>\n",
              "    <tr>\n",
              "      <th>5</th>\n",
              "      <td>NA12892</td>\n",
              "      <td>27347886</td>\n",
              "    </tr>\n",
              "  </tbody>\n",
              "</table>\n",
              "</div>"
            ],
            "text/plain": [
              "  call_name  call_count_for_call_set\n",
              "0   NA12877                 31592135\n",
              "1   NA12878                 28012646\n",
              "2   NA12889                 31028550\n",
              "3   NA12890                 30636087\n",
              "4   NA12891                 33487348\n",
              "5   NA12892                 27347886"
            ]
          },
          "metadata": {
            "tags": []
          },
          "execution_count": 22
        }
      ]
    },
    {
      "cell_type": "markdown",
      "metadata": {
        "id": "iOcxSjUkK27S"
      },
      "source": [
        "# Filtering true variants by genotype\n",
        "The variants in the table include no-calls, which are represented by a genotype value of -1. These variants are not considered true variants for individuals, so filter them out. True variants can only include calls with genotypes greater than zero. If a call includes only genotypes that are no-calls (-1) or reference (0), then they are not true variants.\n",
        "\n",
        "To filter the variants by genotype:"
      ]
    },
    {
      "cell_type": "code",
      "metadata": {
        "id": "oXarpClSY8q6"
      },
      "source": [
        "QUERY2=\"\"\"\n",
        "SELECT\n",
        "  call.name AS call_name,\n",
        "  COUNT(call.name) AS call_count_for_call_set\n",
        "FROM\n",
        "  `bigquery-public-data.human_genome_variants.platinum_genomes_deepvariant_variants_20180823` v, v.call\n",
        "WHERE\n",
        "  EXISTS (SELECT 1 FROM UNNEST(call.genotype) AS gt WHERE gt > 0)\n",
        "  AND NOT EXISTS (SELECT 1 FROM UNNEST(call.genotype) AS gt WHERE gt < 0)\n",
        "GROUP BY\n",
        "  call_name\n",
        "ORDER BY\n",
        "  call_name\n",
        "  \"\"\""
      ],
      "execution_count": null,
      "outputs": []
    },
    {
      "cell_type": "code",
      "metadata": {
        "id": "cgh7l4cAmics"
      },
      "source": [
        ""
      ],
      "execution_count": null,
      "outputs": []
    },
    {
      "cell_type": "code",
      "metadata": {
        "colab": {
          "base_uri": "https://localhost:8080/"
        },
        "id": "h_LL_8TIaU97",
        "outputId": "2cd46f82-6089-4212-c6bc-8c431dd89ded"
      },
      "source": [
        "bq_assistant.estimate_query_size(QUERY2) "
      ],
      "execution_count": null,
      "outputs": [
        {
          "output_type": "execute_result",
          "data": {
            "text/plain": [
              "4.239954333752394"
            ]
          },
          "metadata": {
            "tags": []
          },
          "execution_count": 25
        }
      ]
    },
    {
      "cell_type": "code",
      "metadata": {
        "colab": {
          "base_uri": "https://localhost:8080/",
          "height": 206
        },
        "id": "GTqTnPc-ZEu4",
        "outputId": "abe19ab5-c64c-494f-9fec-97372769392b"
      },
      "source": [
        "df2 = bq_assistant.query_to_pandas_safe(QUERY2,max_gb_scanned = 5)\n",
        "df2"
      ],
      "execution_count": null,
      "outputs": [
        {
          "output_type": "execute_result",
          "data": {
            "application/vnd.google.colaboratory.module+javascript": "\n      import \"https://ssl.gstatic.com/colaboratory/data_table/a6224c040fa35dcf/data_table.js\";\n\n      window.createDataTable({\n        data: [[{\n            'v': 0,\n            'f': \"0\",\n        },\n\"NA12877\",\n{\n            'v': 4486610,\n            'f': \"4486610\",\n        }],\n [{\n            'v': 1,\n            'f': \"1\",\n        },\n\"NA12878\",\n{\n            'v': 4502017,\n            'f': \"4502017\",\n        }],\n [{\n            'v': 2,\n            'f': \"2\",\n        },\n\"NA12889\",\n{\n            'v': 4422706,\n            'f': \"4422706\",\n        }],\n [{\n            'v': 3,\n            'f': \"3\",\n        },\n\"NA12890\",\n{\n            'v': 4528725,\n            'f': \"4528725\",\n        }],\n [{\n            'v': 4,\n            'f': \"4\",\n        },\n\"NA12891\",\n{\n            'v': 4424094,\n            'f': \"4424094\",\n        }],\n [{\n            'v': 5,\n            'f': \"5\",\n        },\n\"NA12892\",\n{\n            'v': 4495753,\n            'f': \"4495753\",\n        }]],\n        columns: [[\"number\", \"index\"], [\"string\", \"call_name\"], [\"number\", \"call_count_for_call_set\"]],\n        columnOptions: [{\"width\": \"1px\", \"className\": \"index_column\"}],\n        rowsPerPage: 25,\n        helpUrl: \"https://colab.research.google.com/notebooks/data_table.ipynb\",\n        suppressOutputScrolling: true,\n        minimumWidth: undefined,\n      });\n    ",
            "text/html": [
              "<div>\n",
              "<style scoped>\n",
              "    .dataframe tbody tr th:only-of-type {\n",
              "        vertical-align: middle;\n",
              "    }\n",
              "\n",
              "    .dataframe tbody tr th {\n",
              "        vertical-align: top;\n",
              "    }\n",
              "\n",
              "    .dataframe thead th {\n",
              "        text-align: right;\n",
              "    }\n",
              "</style>\n",
              "<table border=\"1\" class=\"dataframe\">\n",
              "  <thead>\n",
              "    <tr style=\"text-align: right;\">\n",
              "      <th></th>\n",
              "      <th>call_name</th>\n",
              "      <th>call_count_for_call_set</th>\n",
              "    </tr>\n",
              "  </thead>\n",
              "  <tbody>\n",
              "    <tr>\n",
              "      <th>0</th>\n",
              "      <td>NA12877</td>\n",
              "      <td>4486610</td>\n",
              "    </tr>\n",
              "    <tr>\n",
              "      <th>1</th>\n",
              "      <td>NA12878</td>\n",
              "      <td>4502017</td>\n",
              "    </tr>\n",
              "    <tr>\n",
              "      <th>2</th>\n",
              "      <td>NA12889</td>\n",
              "      <td>4422706</td>\n",
              "    </tr>\n",
              "    <tr>\n",
              "      <th>3</th>\n",
              "      <td>NA12890</td>\n",
              "      <td>4528725</td>\n",
              "    </tr>\n",
              "    <tr>\n",
              "      <th>4</th>\n",
              "      <td>NA12891</td>\n",
              "      <td>4424094</td>\n",
              "    </tr>\n",
              "    <tr>\n",
              "      <th>5</th>\n",
              "      <td>NA12892</td>\n",
              "      <td>4495753</td>\n",
              "    </tr>\n",
              "  </tbody>\n",
              "</table>\n",
              "</div>"
            ],
            "text/plain": [
              "  call_name  call_count_for_call_set\n",
              "0   NA12877                  4486610\n",
              "1   NA12878                  4502017\n",
              "2   NA12889                  4422706\n",
              "3   NA12890                  4528725\n",
              "4   NA12891                  4424094\n",
              "5   NA12892                  4495753"
            ]
          },
          "metadata": {
            "tags": []
          },
          "execution_count": 21
        }
      ]
    },
    {
      "cell_type": "markdown",
      "metadata": {
        "id": "GVfXb4elYuaY"
      },
      "source": [
        "# per-variant-call FILTER values\n",
        "\n",
        "The VCF specification describes the FILTER column which can be used to label variant calls of differing qualities.\n",
        "\n",
        "The following query shows how to view the per-variant-call FILTER values for the dataset:"
      ]
    },
    {
      "cell_type": "code",
      "metadata": {
        "id": "ijKHr0Q0YuaZ"
      },
      "source": [
        "QUERY3 = \"\"\"\n",
        "SELECT\n",
        "  call_filter,\n",
        "  COUNT(call_filter) AS number_of_calls\n",
        "FROM\n",
        "  `bigquery-public-data.human_genome_variants.platinum_genomes_deepvariant_variants_20180823` v,\n",
        "  v.call,\n",
        "  UNNEST(call.FILTER) AS call_filter\n",
        "GROUP BY\n",
        "  call_filter\n",
        "ORDER BY\n",
        "  number_of_calls\n",
        "  \"\"\""
      ],
      "execution_count": null,
      "outputs": []
    },
    {
      "cell_type": "code",
      "metadata": {
        "colab": {
          "base_uri": "https://localhost:8080/"
        },
        "id": "gKU5N9aPYuaa",
        "outputId": "93ffa633-b334-45d7-abd1-5697c2157378"
      },
      "source": [
        "bq_assistant.estimate_query_size(QUERY3)    "
      ],
      "execution_count": null,
      "outputs": [
        {
          "output_type": "execute_result",
          "data": {
            "text/plain": [
              "0.24804932065308094"
            ]
          },
          "metadata": {
            "tags": []
          },
          "execution_count": 12
        }
      ]
    },
    {
      "cell_type": "code",
      "metadata": {
        "id": "gavp817OYuac"
      },
      "source": [
        "df3 = bq_assistant.query_to_pandas_safe(QUERY3)"
      ],
      "execution_count": null,
      "outputs": []
    },
    {
      "cell_type": "code",
      "metadata": {
        "colab": {
          "base_uri": "https://localhost:8080/",
          "height": 126
        },
        "id": "utT5a4f2Yuad",
        "outputId": "e88ec005-655d-41c3-e642-236c1d050109"
      },
      "source": [
        "df3.head()"
      ],
      "execution_count": null,
      "outputs": [
        {
          "output_type": "execute_result",
          "data": {
            "application/vnd.google.colaboratory.module+javascript": "\n      import \"https://ssl.gstatic.com/colaboratory/data_table/a6224c040fa35dcf/data_table.js\";\n\n      window.createDataTable({\n        data: [[{\n            'v': 0,\n            'f': \"0\",\n        },\n\"RefCall\",\n{\n            'v': 11681534,\n            'f': \"11681534\",\n        }],\n [{\n            'v': 1,\n            'f': \"1\",\n        },\n\"PASS\",\n{\n            'v': 26867854,\n            'f': \"26867854\",\n        }]],\n        columns: [[\"number\", \"index\"], [\"string\", \"call_filter\"], [\"number\", \"number_of_calls\"]],\n        columnOptions: [{\"width\": \"1px\", \"className\": \"index_column\"}],\n        rowsPerPage: 25,\n        helpUrl: \"https://colab.research.google.com/notebooks/data_table.ipynb\",\n        suppressOutputScrolling: true,\n        minimumWidth: undefined,\n      });\n    ",
            "text/html": [
              "<div>\n",
              "<style scoped>\n",
              "    .dataframe tbody tr th:only-of-type {\n",
              "        vertical-align: middle;\n",
              "    }\n",
              "\n",
              "    .dataframe tbody tr th {\n",
              "        vertical-align: top;\n",
              "    }\n",
              "\n",
              "    .dataframe thead th {\n",
              "        text-align: right;\n",
              "    }\n",
              "</style>\n",
              "<table border=\"1\" class=\"dataframe\">\n",
              "  <thead>\n",
              "    <tr style=\"text-align: right;\">\n",
              "      <th></th>\n",
              "      <th>call_filter</th>\n",
              "      <th>number_of_calls</th>\n",
              "    </tr>\n",
              "  </thead>\n",
              "  <tbody>\n",
              "    <tr>\n",
              "      <th>0</th>\n",
              "      <td>RefCall</td>\n",
              "      <td>11681534</td>\n",
              "    </tr>\n",
              "    <tr>\n",
              "      <th>1</th>\n",
              "      <td>PASS</td>\n",
              "      <td>26867854</td>\n",
              "    </tr>\n",
              "  </tbody>\n",
              "</table>\n",
              "</div>"
            ],
            "text/plain": [
              "  call_filter  number_of_calls\n",
              "0     RefCall         11681534\n",
              "1        PASS         26867854"
            ]
          },
          "metadata": {
            "tags": []
          },
          "execution_count": 14
        }
      ]
    },
    {
      "cell_type": "markdown",
      "metadata": {
        "id": "VjqSf8lSJvwN"
      },
      "source": [
        "The PASS value signifies that a variant call is of a high quality."
      ]
    },
    {
      "cell_type": "markdown",
      "metadata": {
        "id": "zfWqciZkW1mV"
      },
      "source": [
        "# Counting variants per chromosome\n",
        "\n",
        "\n",
        "*  Counts all rows in which there is at least one variant call with at least one genotype greater than 0\n",
        "*   Groups the variant rows by chromosome and counts each group\n",
        "\n",
        "\n",
        "Running the query returns the name of the chromosome (reference_name) and the number of variant rows for each chromosome:"
      ]
    },
    {
      "cell_type": "code",
      "metadata": {
        "id": "jrHKmFvaW1mX"
      },
      "source": [
        "QUERY4= \"\"\"       \n",
        "  SELECT\n",
        "    reference_name,\n",
        "    COUNT(reference_name) AS number_of_variant_rows\n",
        "  FROM\n",
        "    `bigquery-public-data.human_genome_variants.platinum_genomes_deepvariant_variants_20180823` v\n",
        "  WHERE\n",
        "    EXISTS (SELECT 1\n",
        "            FROM UNNEST(v.call) AS call, UNNEST(call.genotype) AS gt\n",
        "          WHERE gt > 0)\n",
        "  GROUP BY\n",
        "    reference_name\n",
        "  ORDER BY\n",
        "    CASE\n",
        "      WHEN SAFE_CAST(REGEXP_REPLACE(reference_name, '^chr', '') AS INT64) < 10\n",
        "        THEN CONCAT('0', REGEXP_REPLACE(reference_name, '^chr', ''))\n",
        "        ELSE REGEXP_REPLACE(reference_name, '^chr', '')\n",
        "    END\n",
        "       \"\"\""
      ],
      "execution_count": null,
      "outputs": []
    },
    {
      "cell_type": "code",
      "metadata": {
        "colab": {
          "base_uri": "https://localhost:8080/"
        },
        "id": "2TMOwVQBW1mY",
        "outputId": "2c56786f-7253-4bcb-a621-17394cebe7f5"
      },
      "source": [
        "bq_assistant.estimate_query_size(QUERY4)    "
      ],
      "execution_count": null,
      "outputs": [
        {
          "output_type": "execute_result",
          "data": {
            "text/plain": [
              "3.341447635553777"
            ]
          },
          "metadata": {
            "tags": []
          },
          "execution_count": 15
        }
      ]
    },
    {
      "cell_type": "code",
      "metadata": {
        "id": "vWZfpwJdW1ma"
      },
      "source": [
        "df4 = bq_assistant.query_to_pandas_safe(QUERY4,max_gb_scanned = 5)"
      ],
      "execution_count": null,
      "outputs": []
    },
    {
      "cell_type": "code",
      "metadata": {
        "colab": {
          "base_uri": "https://localhost:8080/",
          "height": 186
        },
        "id": "M04pFziiW1mb",
        "outputId": "2fb7ec32-6e56-4508-a1c1-d13162d9ab48"
      },
      "source": [
        "\n",
        "df4.head()"
      ],
      "execution_count": null,
      "outputs": [
        {
          "output_type": "execute_result",
          "data": {
            "application/vnd.google.colaboratory.module+javascript": "\n      import \"https://ssl.gstatic.com/colaboratory/data_table/a6224c040fa35dcf/data_table.js\";\n\n      window.createDataTable({\n        data: [[{\n            'v': 0,\n            'f': \"0\",\n        },\n\"chr1\",\n{\n            'v': 615000,\n            'f': \"615000\",\n        }],\n [{\n            'v': 1,\n            'f': \"1\",\n        },\n\"chr2\",\n{\n            'v': 646401,\n            'f': \"646401\",\n        }],\n [{\n            'v': 2,\n            'f': \"2\",\n        },\n\"chr3\",\n{\n            'v': 542315,\n            'f': \"542315\",\n        }],\n [{\n            'v': 3,\n            'f': \"3\",\n        },\n\"chr4\",\n{\n            'v': 578600,\n            'f': \"578600\",\n        }],\n [{\n            'v': 4,\n            'f': \"4\",\n        },\n\"chr5\",\n{\n            'v': 496202,\n            'f': \"496202\",\n        }]],\n        columns: [[\"number\", \"index\"], [\"string\", \"reference_name\"], [\"number\", \"number_of_variant_rows\"]],\n        columnOptions: [{\"width\": \"1px\", \"className\": \"index_column\"}],\n        rowsPerPage: 25,\n        helpUrl: \"https://colab.research.google.com/notebooks/data_table.ipynb\",\n        suppressOutputScrolling: true,\n        minimumWidth: undefined,\n      });\n    ",
            "text/html": [
              "<div>\n",
              "<style scoped>\n",
              "    .dataframe tbody tr th:only-of-type {\n",
              "        vertical-align: middle;\n",
              "    }\n",
              "\n",
              "    .dataframe tbody tr th {\n",
              "        vertical-align: top;\n",
              "    }\n",
              "\n",
              "    .dataframe thead th {\n",
              "        text-align: right;\n",
              "    }\n",
              "</style>\n",
              "<table border=\"1\" class=\"dataframe\">\n",
              "  <thead>\n",
              "    <tr style=\"text-align: right;\">\n",
              "      <th></th>\n",
              "      <th>reference_name</th>\n",
              "      <th>number_of_variant_rows</th>\n",
              "    </tr>\n",
              "  </thead>\n",
              "  <tbody>\n",
              "    <tr>\n",
              "      <th>0</th>\n",
              "      <td>chr1</td>\n",
              "      <td>615000</td>\n",
              "    </tr>\n",
              "    <tr>\n",
              "      <th>1</th>\n",
              "      <td>chr2</td>\n",
              "      <td>646401</td>\n",
              "    </tr>\n",
              "    <tr>\n",
              "      <th>2</th>\n",
              "      <td>chr3</td>\n",
              "      <td>542315</td>\n",
              "    </tr>\n",
              "    <tr>\n",
              "      <th>3</th>\n",
              "      <td>chr4</td>\n",
              "      <td>578600</td>\n",
              "    </tr>\n",
              "    <tr>\n",
              "      <th>4</th>\n",
              "      <td>chr5</td>\n",
              "      <td>496202</td>\n",
              "    </tr>\n",
              "  </tbody>\n",
              "</table>\n",
              "</div>"
            ],
            "text/plain": [
              "  reference_name  number_of_variant_rows\n",
              "0           chr1                  615000\n",
              "1           chr2                  646401\n",
              "2           chr3                  542315\n",
              "3           chr4                  578600\n",
              "4           chr5                  496202"
            ]
          },
          "metadata": {
            "tags": []
          },
          "execution_count": 23
        }
      ]
    },
    {
      "cell_type": "markdown",
      "metadata": {
        "id": "i2bOEbwnXVw2"
      },
      "source": [
        "The query uses the REGEXP_REPLACE function to replace the \"chr\" prefix string with an empty string. It then changes the GROUP BY and ORDER BY functions to use the computed chromosome alias. However, the output still sorts by string:"
      ]
    },
    {
      "cell_type": "code",
      "metadata": {
        "id": "QigB1a1-ZRCW"
      },
      "source": [
        "QUERY5=\"\"\"\n",
        "SELECT\n",
        "  REGEXP_REPLACE(reference_name, '^chr', '') AS chromosome,\n",
        "  COUNT(reference_name) AS number_of_variant_rows\n",
        "FROM\n",
        "  `bigquery-public-data.human_genome_variants.platinum_genomes_deepvariant_variants_20180823` v\n",
        "WHERE\n",
        "  EXISTS (SELECT 1\n",
        "            FROM UNNEST(v.call) AS call, UNNEST(call.genotype) AS gt\n",
        "          WHERE gt > 0)\n",
        "GROUP BY\n",
        "  chromosome\n",
        "ORDER BY\n",
        "  chromosome\n",
        "  \"\"\""
      ],
      "execution_count": null,
      "outputs": []
    },
    {
      "cell_type": "code",
      "metadata": {
        "colab": {
          "base_uri": "https://localhost:8080/"
        },
        "id": "E0fFgylaaX7B",
        "outputId": "77fbb93c-592d-4ed2-ce3f-412944267784"
      },
      "source": [
        "bq_assistant.estimate_query_size(QUERY5) "
      ],
      "execution_count": null,
      "outputs": [
        {
          "output_type": "execute_result",
          "data": {
            "text/plain": [
              "3.341447635553777"
            ]
          },
          "metadata": {
            "tags": []
          },
          "execution_count": 26
        }
      ]
    },
    {
      "cell_type": "code",
      "metadata": {
        "colab": {
          "base_uri": "https://localhost:8080/",
          "height": 566
        },
        "id": "7pvVoy4iZrzO",
        "outputId": "aecc8a49-32ec-445b-94d9-bb5b8aa037ca"
      },
      "source": [
        "df5 = bq_assistant.query_to_pandas_safe(QUERY5,max_gb_scanned = 5)\n",
        "df5"
      ],
      "execution_count": null,
      "outputs": [
        {
          "output_type": "execute_result",
          "data": {
            "application/vnd.google.colaboratory.module+javascript": "\n      import \"https://ssl.gstatic.com/colaboratory/data_table/a6224c040fa35dcf/data_table.js\";\n\n      window.createDataTable({\n        data: [[{\n            'v': 0,\n            'f': \"0\",\n        },\n\"1\",\n{\n            'v': 615000,\n            'f': \"615000\",\n        }],\n [{\n            'v': 1,\n            'f': \"1\",\n        },\n\"10\",\n{\n            'v': 396773,\n            'f': \"396773\",\n        }],\n [{\n            'v': 2,\n            'f': \"2\",\n        },\n\"11\",\n{\n            'v': 391260,\n            'f': \"391260\",\n        }],\n [{\n            'v': 3,\n            'f': \"3\",\n        },\n\"12\",\n{\n            'v': 382841,\n            'f': \"382841\",\n        }],\n [{\n            'v': 4,\n            'f': \"4\",\n        },\n\"13\",\n{\n            'v': 298044,\n            'f': \"298044\",\n        }],\n [{\n            'v': 5,\n            'f': \"5\",\n        },\n\"14\",\n{\n            'v': 258756,\n            'f': \"258756\",\n        }],\n [{\n            'v': 6,\n            'f': \"6\",\n        },\n\"15\",\n{\n            'v': 234569,\n            'f': \"234569\",\n        }],\n [{\n            'v': 7,\n            'f': \"7\",\n        },\n\"16\",\n{\n            'v': 247671,\n            'f': \"247671\",\n        }],\n [{\n            'v': 8,\n            'f': \"8\",\n        },\n\"17\",\n{\n            'v': 224403,\n            'f': \"224403\",\n        }],\n [{\n            'v': 9,\n            'f': \"9\",\n        },\n\"18\",\n{\n            'v': 227200,\n            'f': \"227200\",\n        }],\n [{\n            'v': 10,\n            'f': \"10\",\n        },\n\"19\",\n{\n            'v': 192538,\n            'f': \"192538\",\n        }],\n [{\n            'v': 11,\n            'f': \"11\",\n        },\n\"2\",\n{\n            'v': 646401,\n            'f': \"646401\",\n        }],\n [{\n            'v': 12,\n            'f': \"12\",\n        },\n\"20\",\n{\n            'v': 168958,\n            'f': \"168958\",\n        }],\n [{\n            'v': 13,\n            'f': \"13\",\n        },\n\"21\",\n{\n            'v': 121882,\n            'f': \"121882\",\n        }],\n [{\n            'v': 14,\n            'f': \"14\",\n        },\n\"22\",\n{\n            'v': 112338,\n            'f': \"112338\",\n        }],\n [{\n            'v': 15,\n            'f': \"15\",\n        },\n\"3\",\n{\n            'v': 542315,\n            'f': \"542315\",\n        }],\n [{\n            'v': 16,\n            'f': \"16\",\n        },\n\"4\",\n{\n            'v': 578600,\n            'f': \"578600\",\n        }],\n [{\n            'v': 17,\n            'f': \"17\",\n        },\n\"5\",\n{\n            'v': 496202,\n            'f': \"496202\",\n        }],\n [{\n            'v': 18,\n            'f': \"18\",\n        },\n\"6\",\n{\n            'v': 512152,\n            'f': \"512152\",\n        }],\n [{\n            'v': 19,\n            'f': \"19\",\n        },\n\"7\",\n{\n            'v': 459506,\n            'f': \"459506\",\n        }],\n [{\n            'v': 20,\n            'f': \"20\",\n        },\n\"8\",\n{\n            'v': 416376,\n            'f': \"416376\",\n        }],\n [{\n            'v': 21,\n            'f': \"21\",\n        },\n\"9\",\n{\n            'v': 344985,\n            'f': \"344985\",\n        }],\n [{\n            'v': 22,\n            'f': \"22\",\n        },\n\"X\",\n{\n            'v': 231125,\n            'f': \"231125\",\n        }],\n [{\n            'v': 23,\n            'f': \"23\",\n        },\n\"Y\",\n{\n            'v': 15357,\n            'f': \"15357\",\n        }]],\n        columns: [[\"number\", \"index\"], [\"string\", \"chromosome\"], [\"number\", \"number_of_variant_rows\"]],\n        columnOptions: [{\"width\": \"1px\", \"className\": \"index_column\"}],\n        rowsPerPage: 25,\n        helpUrl: \"https://colab.research.google.com/notebooks/data_table.ipynb\",\n        suppressOutputScrolling: true,\n        minimumWidth: undefined,\n      });\n    ",
            "text/html": [
              "<div>\n",
              "<style scoped>\n",
              "    .dataframe tbody tr th:only-of-type {\n",
              "        vertical-align: middle;\n",
              "    }\n",
              "\n",
              "    .dataframe tbody tr th {\n",
              "        vertical-align: top;\n",
              "    }\n",
              "\n",
              "    .dataframe thead th {\n",
              "        text-align: right;\n",
              "    }\n",
              "</style>\n",
              "<table border=\"1\" class=\"dataframe\">\n",
              "  <thead>\n",
              "    <tr style=\"text-align: right;\">\n",
              "      <th></th>\n",
              "      <th>chromosome</th>\n",
              "      <th>number_of_variant_rows</th>\n",
              "    </tr>\n",
              "  </thead>\n",
              "  <tbody>\n",
              "    <tr>\n",
              "      <th>0</th>\n",
              "      <td>1</td>\n",
              "      <td>615000</td>\n",
              "    </tr>\n",
              "    <tr>\n",
              "      <th>1</th>\n",
              "      <td>10</td>\n",
              "      <td>396773</td>\n",
              "    </tr>\n",
              "    <tr>\n",
              "      <th>2</th>\n",
              "      <td>11</td>\n",
              "      <td>391260</td>\n",
              "    </tr>\n",
              "    <tr>\n",
              "      <th>3</th>\n",
              "      <td>12</td>\n",
              "      <td>382841</td>\n",
              "    </tr>\n",
              "    <tr>\n",
              "      <th>4</th>\n",
              "      <td>13</td>\n",
              "      <td>298044</td>\n",
              "    </tr>\n",
              "    <tr>\n",
              "      <th>5</th>\n",
              "      <td>14</td>\n",
              "      <td>258756</td>\n",
              "    </tr>\n",
              "    <tr>\n",
              "      <th>6</th>\n",
              "      <td>15</td>\n",
              "      <td>234569</td>\n",
              "    </tr>\n",
              "    <tr>\n",
              "      <th>7</th>\n",
              "      <td>16</td>\n",
              "      <td>247671</td>\n",
              "    </tr>\n",
              "    <tr>\n",
              "      <th>8</th>\n",
              "      <td>17</td>\n",
              "      <td>224403</td>\n",
              "    </tr>\n",
              "    <tr>\n",
              "      <th>9</th>\n",
              "      <td>18</td>\n",
              "      <td>227200</td>\n",
              "    </tr>\n",
              "    <tr>\n",
              "      <th>10</th>\n",
              "      <td>19</td>\n",
              "      <td>192538</td>\n",
              "    </tr>\n",
              "    <tr>\n",
              "      <th>11</th>\n",
              "      <td>2</td>\n",
              "      <td>646401</td>\n",
              "    </tr>\n",
              "    <tr>\n",
              "      <th>12</th>\n",
              "      <td>20</td>\n",
              "      <td>168958</td>\n",
              "    </tr>\n",
              "    <tr>\n",
              "      <th>13</th>\n",
              "      <td>21</td>\n",
              "      <td>121882</td>\n",
              "    </tr>\n",
              "    <tr>\n",
              "      <th>14</th>\n",
              "      <td>22</td>\n",
              "      <td>112338</td>\n",
              "    </tr>\n",
              "    <tr>\n",
              "      <th>15</th>\n",
              "      <td>3</td>\n",
              "      <td>542315</td>\n",
              "    </tr>\n",
              "    <tr>\n",
              "      <th>16</th>\n",
              "      <td>4</td>\n",
              "      <td>578600</td>\n",
              "    </tr>\n",
              "    <tr>\n",
              "      <th>17</th>\n",
              "      <td>5</td>\n",
              "      <td>496202</td>\n",
              "    </tr>\n",
              "    <tr>\n",
              "      <th>18</th>\n",
              "      <td>6</td>\n",
              "      <td>512152</td>\n",
              "    </tr>\n",
              "    <tr>\n",
              "      <th>19</th>\n",
              "      <td>7</td>\n",
              "      <td>459506</td>\n",
              "    </tr>\n",
              "    <tr>\n",
              "      <th>20</th>\n",
              "      <td>8</td>\n",
              "      <td>416376</td>\n",
              "    </tr>\n",
              "    <tr>\n",
              "      <th>21</th>\n",
              "      <td>9</td>\n",
              "      <td>344985</td>\n",
              "    </tr>\n",
              "    <tr>\n",
              "      <th>22</th>\n",
              "      <td>X</td>\n",
              "      <td>231125</td>\n",
              "    </tr>\n",
              "    <tr>\n",
              "      <th>23</th>\n",
              "      <td>Y</td>\n",
              "      <td>15357</td>\n",
              "    </tr>\n",
              "  </tbody>\n",
              "</table>\n",
              "</div>"
            ],
            "text/plain": [
              "   chromosome  number_of_variant_rows\n",
              "0           1                  615000\n",
              "1          10                  396773\n",
              "2          11                  391260\n",
              "3          12                  382841\n",
              "4          13                  298044\n",
              "5          14                  258756\n",
              "6          15                  234569\n",
              "7          16                  247671\n",
              "8          17                  224403\n",
              "9          18                  227200\n",
              "10         19                  192538\n",
              "11          2                  646401\n",
              "12         20                  168958\n",
              "13         21                  121882\n",
              "14         22                  112338\n",
              "15          3                  542315\n",
              "16          4                  578600\n",
              "17          5                  496202\n",
              "18          6                  512152\n",
              "19          7                  459506\n",
              "20          8                  416376\n",
              "21          9                  344985\n",
              "22          X                  231125\n",
              "23          Y                   15357"
            ]
          },
          "metadata": {
            "tags": []
          },
          "execution_count": 24
        }
      ]
    },
    {
      "cell_type": "markdown",
      "metadata": {
        "id": "Gd6jLn-lvRmA"
      },
      "source": [
        "# TASK **2**\n",
        "Exploring the Phenotypic Data"
      ]
    },
    {
      "cell_type": "markdown",
      "metadata": {
        "id": "IEf50TjgdvXg"
      },
      "source": [
        "### **How many sample are we working with in this variant dataset?**\n",
        "\n",
        "In  this  query  we  count  the  total  number  of  samples  present,and  along  with  the  count  of  samples  in  Phase  1  Integrated  Variant  Set,  through writing a condition SUM(IF(In_Phase1_Integrated_Variant_Set = TRUE, 1, 0)) AS samples_in_variants_table."
      ]
    },
    {
      "cell_type": "code",
      "metadata": {
        "id": "H4pcT_A8d0_l"
      },
      "source": [
        "# Count the number of samples in the phenotypic data\n",
        "QUERY1=\"\"\"\n",
        "SELECT\n",
        "  COUNT(sample) AS all_samples,\n",
        "  SUM(IF(In_Phase1_Integrated_Variant_Set = TRUE, 1, 0)) AS samples_in_variants_table\n",
        "FROM\n",
        "  `genomics-public-data.1000_genomes.sample_info`\n",
        "  \"\"\""
      ],
      "execution_count": null,
      "outputs": []
    },
    {
      "cell_type": "code",
      "metadata": {
        "colab": {
          "base_uri": "https://localhost:8080/"
        },
        "id": "77qy1n3ugOw9",
        "outputId": "c3df5de2-c689-4a51-d61c-9e815ff4ac1a"
      },
      "source": [
        "bq_assistant.estimate_query_size(QUERY1) "
      ],
      "execution_count": null,
      "outputs": [
        {
          "output_type": "execute_result",
          "data": {
            "text/plain": [
              "2.3853033781051636e-05"
            ]
          },
          "metadata": {
            "tags": []
          },
          "execution_count": 45
        }
      ]
    },
    {
      "cell_type": "code",
      "metadata": {
        "id": "5JYOuxK5O7Yf"
      },
      "source": [
        "df = client.query(QUERY1).to_dataframe()"
      ],
      "execution_count": null,
      "outputs": []
    },
    {
      "cell_type": "code",
      "metadata": {
        "colab": {
          "base_uri": "https://localhost:8080/",
          "height": 108
        },
        "id": "-fgnpnVJPLHb",
        "outputId": "0f1244ae-e4bc-4514-864b-79a68fbbaac4"
      },
      "source": [
        "df.head()"
      ],
      "execution_count": null,
      "outputs": [
        {
          "output_type": "execute_result",
          "data": {
            "application/vnd.google.colaboratory.module+javascript": "\n      import \"https://ssl.gstatic.com/colaboratory/data_table/a6224c040fa35dcf/data_table.js\";\n\n      window.createDataTable({\n        data: [[{\n            'v': 0,\n            'f': \"0\",\n        },\n{\n            'v': 3500,\n            'f': \"3500\",\n        },\n{\n            'v': 1092,\n            'f': \"1092\",\n        }]],\n        columns: [[\"number\", \"index\"], [\"number\", \"all_samples\"], [\"number\", \"samples_in_variants_table\"]],\n        columnOptions: [{\"width\": \"1px\", \"className\": \"index_column\"}],\n        rowsPerPage: 25,\n        helpUrl: \"https://colab.research.google.com/notebooks/data_table.ipynb\",\n        suppressOutputScrolling: true,\n        minimumWidth: undefined,\n      });\n    ",
            "text/html": [
              "<div>\n",
              "<style scoped>\n",
              "    .dataframe tbody tr th:only-of-type {\n",
              "        vertical-align: middle;\n",
              "    }\n",
              "\n",
              "    .dataframe tbody tr th {\n",
              "        vertical-align: top;\n",
              "    }\n",
              "\n",
              "    .dataframe thead th {\n",
              "        text-align: right;\n",
              "    }\n",
              "</style>\n",
              "<table border=\"1\" class=\"dataframe\">\n",
              "  <thead>\n",
              "    <tr style=\"text-align: right;\">\n",
              "      <th></th>\n",
              "      <th>all_samples</th>\n",
              "      <th>samples_in_variants_table</th>\n",
              "    </tr>\n",
              "  </thead>\n",
              "  <tbody>\n",
              "    <tr>\n",
              "      <th>0</th>\n",
              "      <td>3500</td>\n",
              "      <td>1092</td>\n",
              "    </tr>\n",
              "  </tbody>\n",
              "</table>\n",
              "</div>"
            ],
            "text/plain": [
              "   all_samples  samples_in_variants_table\n",
              "0         3500                       1092"
            ]
          },
          "metadata": {
            "tags": []
          },
          "execution_count": 19
        }
      ]
    },
    {
      "cell_type": "code",
      "metadata": {
        "id": "egqVyk2LJkkd"
      },
      "source": [
        "import matplotlib.pyplot as plt"
      ],
      "execution_count": null,
      "outputs": []
    },
    {
      "cell_type": "code",
      "metadata": {
        "colab": {
          "base_uri": "https://localhost:8080/",
          "height": 337
        },
        "id": "dKHYcVtOJn-B",
        "outputId": "cbdd0a3f-f81e-4dd4-ea6d-19f10194b02c"
      },
      "source": [
        "#From DataFrame\n",
        "fig = plt.figure()\n",
        "ax = fig.add_axes([0,0,1,1])\n",
        "samples = list(df.columns)\n",
        "values = df.iloc[0,:].values\n",
        "ax.bar(samples, values, color = ['red', 'cyan'])\n",
        "plt.show()"
      ],
      "execution_count": null,
      "outputs": [
        {
          "output_type": "display_data",
          "data": {
            "image/png": "[encoded data removed]",
            "text/plain": [
              "<Figure size 432x288 with 1 Axes>"
            ]
          },
          "metadata": {
            "tags": [],
            "needs_background": "light"
          }
        }
      ]
    },
    {
      "cell_type": "markdown",
      "metadata": {
        "id": "j31L1Dxxcxql"
      },
      "source": [
        "The 1092 samples as part of Phase 1 Integrated Varianted is now divided among Males and Females, and we are finding the count of each and their ratio in the sample."
      ]
    },
    {
      "cell_type": "code",
      "metadata": {
        "id": "cZfOv0R8lSVW"
      },
      "source": [
        "QUERY1=\"\"\"\n",
        "SELECT\n",
        "  gender,\n",
        "  gender_count,\n",
        "  (gender_count/SUM(total_count) OVER (PARTITION BY gender)) as gender_ratio\n",
        "FROM (\n",
        "  SELECT\n",
        "    gender,\n",
        "    COUNT(gender) AS gender_count\n",
        "  FROM\n",
        "    `genomics-public-data.1000_genomes.sample_info`\n",
        "  WHERE\n",
        "    In_Phase1_Integrated_Variant_Set = TRUE\n",
        "  GROUP BY gender\n",
        "    ),(select count(gender) as total_count from  `genomics-public-data.1000_genomes.sample_info` where In_Phase1_Integrated_Variant_Set = TRUE)\n",
        "\"\"\""
      ],
      "execution_count": null,
      "outputs": []
    },
    {
      "cell_type": "code",
      "metadata": {
        "colab": {
          "base_uri": "https://localhost:8080/"
        },
        "id": "mHRCTgcLvmHV",
        "outputId": "a130c7e1-fd8b-45a5-cb52-6eb6ac7774ac"
      },
      "source": [
        "bq_assistant.estimate_query_size(QUERY1) "
      ],
      "execution_count": null,
      "outputs": [
        {
          "output_type": "execute_result",
          "data": {
            "text/plain": [
              "2.3853033781051636e-05"
            ]
          },
          "metadata": {
            "tags": []
          },
          "execution_count": 10
        }
      ]
    },
    {
      "cell_type": "code",
      "metadata": {
        "colab": {
          "base_uri": "https://localhost:8080/",
          "height": 126
        },
        "id": "s8Q-tWgSvmHY",
        "outputId": "cdbb2595-0843-43fe-a673-5db32a01b058"
      },
      "source": [
        "df1 = bq_assistant.query_to_pandas_safe(QUERY1,max_gb_scanned = 3)\n",
        "df1"
      ],
      "execution_count": null,
      "outputs": [
        {
          "output_type": "execute_result",
          "data": {
            "application/vnd.google.colaboratory.module+javascript": "\n      import \"https://ssl.gstatic.com/colaboratory/data_table/a6224c040fa35dcf/data_table.js\";\n\n      window.createDataTable({\n        data: [[{\n            'v': 0,\n            'f': \"0\",\n        },\n\"female\",\n{\n            'v': 567,\n            'f': \"567\",\n        },\n{\n            'v': 0.5192307692307693,\n            'f': \"0.5192307692307693\",\n        }],\n [{\n            'v': 1,\n            'f': \"1\",\n        },\n\"male\",\n{\n            'v': 525,\n            'f': \"525\",\n        },\n{\n            'v': 0.4807692307692308,\n            'f': \"0.4807692307692308\",\n        }]],\n        columns: [[\"number\", \"index\"], [\"string\", \"gender\"], [\"number\", \"gender_count\"], [\"number\", \"gender_ratio\"]],\n        columnOptions: [{\"width\": \"1px\", \"className\": \"index_column\"}],\n        rowsPerPage: 25,\n        helpUrl: \"https://colab.research.google.com/notebooks/data_table.ipynb\",\n        suppressOutputScrolling: true,\n        minimumWidth: undefined,\n      });\n    ",
            "text/html": [
              "<div>\n",
              "<style scoped>\n",
              "    .dataframe tbody tr th:only-of-type {\n",
              "        vertical-align: middle;\n",
              "    }\n",
              "\n",
              "    .dataframe tbody tr th {\n",
              "        vertical-align: top;\n",
              "    }\n",
              "\n",
              "    .dataframe thead th {\n",
              "        text-align: right;\n",
              "    }\n",
              "</style>\n",
              "<table border=\"1\" class=\"dataframe\">\n",
              "  <thead>\n",
              "    <tr style=\"text-align: right;\">\n",
              "      <th></th>\n",
              "      <th>gender</th>\n",
              "      <th>gender_count</th>\n",
              "      <th>gender_ratio</th>\n",
              "    </tr>\n",
              "  </thead>\n",
              "  <tbody>\n",
              "    <tr>\n",
              "      <th>0</th>\n",
              "      <td>female</td>\n",
              "      <td>567</td>\n",
              "      <td>0.519231</td>\n",
              "    </tr>\n",
              "    <tr>\n",
              "      <th>1</th>\n",
              "      <td>male</td>\n",
              "      <td>525</td>\n",
              "      <td>0.480769</td>\n",
              "    </tr>\n",
              "  </tbody>\n",
              "</table>\n",
              "</div>"
            ],
            "text/plain": [
              "   gender  gender_count  gender_ratio\n",
              "0  female           567      0.519231\n",
              "1    male           525      0.480769"
            ]
          },
          "metadata": {
            "tags": []
          },
          "execution_count": 11
        }
      ]
    },
    {
      "cell_type": "code",
      "metadata": {
        "colab": {
          "base_uri": "https://localhost:8080/",
          "height": 256
        },
        "id": "44E9IOeSmWs6",
        "outputId": "c5b83b0d-c08f-4070-a4d3-f04b88ccb9bf"
      },
      "source": [
        "import matplotlib.pyplot as plt\n",
        "\n",
        "\n",
        "labels = df1[\"gender\"]\n",
        "sizes = df1[\"gender_count\"]\n",
        "\n",
        "\n",
        "fig1, ax1 = plt.subplots()\n",
        "ax1.pie(sizes,  labels=labels, autopct='%1.1f%%',\n",
        "        shadow=True, startangle=0)\n",
        "ax1.axis('equal')  # Equal aspect ratio ensures that pie is drawn as a circle.\n",
        "\n",
        "plt.show()"
      ],
      "execution_count": null,
      "outputs": [
        {
          "output_type": "display_data",
          "data": {
            "image/png": "[encoded data removed]",
            "text/plain": [
              "<Figure size 432x288 with 1 Axes>"
            ]
          },
          "metadata": {
            "tags": []
          }
        }
      ]
    },
    {
      "cell_type": "markdown",
      "metadata": {
        "id": "zuC7cw8wc-Cu"
      },
      "source": [
        "After finding the ratio between the gender, this query does the same for ethnicity of the whole sample of population (1092) along with the ancestry."
      ]
    },
    {
      "cell_type": "code",
      "metadata": {
        "id": "MN6rho8fnd7n"
      },
      "source": [
        "QUERY2= \"\"\"\n",
        "SELECT\n",
        "  population,\n",
        "  population_description,\n",
        "  population_count,\n",
        "  (population_count/SUM(total_count) OVER (PARTITION BY population))  AS population_ratio,\n",
        "  super_population,\n",
        "  super_population_description,\n",
        "from(\n",
        "  SELECT\n",
        "    population,\n",
        "    population_description,\n",
        "    super_population,\n",
        "    super_population_description,\n",
        "    COUNT(population) AS population_count,\n",
        "  FROM\n",
        "    `genomics-public-data.1000_genomes.sample_info`\n",
        "  WHERE\n",
        "    In_Phase1_Integrated_Variant_Set = TRUE\n",
        "  GROUP BY\n",
        "    population,\n",
        "    population_description,\n",
        "    super_population,\n",
        "    super_population_description),(select count(population) as total_count from  `genomics-public-data.1000_genomes.sample_info` where In_Phase1_Integrated_Variant_Set = TRUE) order by population_ratio\n",
        "    \"\"\""
      ],
      "execution_count": null,
      "outputs": []
    },
    {
      "cell_type": "code",
      "metadata": {
        "colab": {
          "base_uri": "https://localhost:8080/"
        },
        "id": "tpkPw0cpo9L7",
        "outputId": "13ef6522-493a-40e4-b937-0c95e4cf010f"
      },
      "source": [
        "bq_assistant.estimate_query_size(QUERY2) "
      ],
      "execution_count": null,
      "outputs": [
        {
          "output_type": "execute_result",
          "data": {
            "text/plain": [
              "0.0001673717051744461"
            ]
          },
          "metadata": {
            "tags": []
          },
          "execution_count": 14
        }
      ]
    },
    {
      "cell_type": "code",
      "metadata": {
        "colab": {
          "base_uri": "https://localhost:8080/",
          "height": 366
        },
        "id": "PnZcQscepDv-",
        "outputId": "4f1db01b-05b9-4f44-ac9c-f493e98855a0"
      },
      "source": [
        "df2 = bq_assistant.query_to_pandas_safe(QUERY2)\n",
        "df2"
      ],
      "execution_count": null,
      "outputs": [
        {
          "output_type": "execute_result",
          "data": {
            "application/vnd.google.colaboratory.module+javascript": "\n      import \"https://ssl.gstatic.com/colaboratory/data_table/a6224c040fa35dcf/data_table.js\";\n\n      window.createDataTable({\n        data: [[{\n            'v': 0,\n            'f': \"0\",\n        },\n\"IBS\",\n\"Iberian populations in Spain\",\n{\n            'v': 14,\n            'f': \"14\",\n        },\n{\n            'v': 0.01282051282051282,\n            'f': \"0.01282051282051282\",\n        },\n\"EUR\",\n\"European\"],\n [{\n            'v': 1,\n            'f': \"1\",\n        },\n\"PUR\",\n\"Puerto Rican in Puerto Rico\",\n{\n            'v': 55,\n            'f': \"55\",\n        },\n{\n            'v': 0.05036630036630037,\n            'f': \"0.05036630036630037\",\n        },\n\"AMR\",\n\"American\"],\n [{\n            'v': 2,\n            'f': \"2\",\n        },\n\"CLM\",\n\"Colombian in Medellin, Colombia\",\n{\n            'v': 60,\n            'f': \"60\",\n        },\n{\n            'v': 0.054945054945054944,\n            'f': \"0.054945054945054944\",\n        },\n\"AMR\",\n\"American\"],\n [{\n            'v': 3,\n            'f': \"3\",\n        },\n\"ASW\",\n\"African Ancestry in Southwest US\",\n{\n            'v': 61,\n            'f': \"61\",\n        },\n{\n            'v': 0.055860805860805864,\n            'f': \"0.055860805860805864\",\n        },\n\"AFR\",\n\"African\"],\n [{\n            'v': 4,\n            'f': \"4\",\n        },\n\"MXL\",\n\"Mexican Ancestry in Los Angeles, California\",\n{\n            'v': 66,\n            'f': \"66\",\n        },\n{\n            'v': 0.06043956043956044,\n            'f': \"0.06043956043956044\",\n        },\n\"AMR\",\n\"American\"],\n [{\n            'v': 5,\n            'f': \"5\",\n        },\n\"CEU\",\n\"Utah residents with Northern and Western European ancestry\",\n{\n            'v': 85,\n            'f': \"85\",\n        },\n{\n            'v': 0.07783882783882784,\n            'f': \"0.07783882783882784\",\n        },\n\"EUR\",\n\"European\"],\n [{\n            'v': 6,\n            'f': \"6\",\n        },\n\"YRI\",\n\"Yoruba in Ibadan, Nigeria\",\n{\n            'v': 88,\n            'f': \"88\",\n        },\n{\n            'v': 0.08058608058608059,\n            'f': \"0.08058608058608059\",\n        },\n\"AFR\",\n\"African\"],\n [{\n            'v': 7,\n            'f': \"7\",\n        },\n\"GBR\",\n\"British in England and Scotland\",\n{\n            'v': 89,\n            'f': \"89\",\n        },\n{\n            'v': 0.0815018315018315,\n            'f': \"0.0815018315018315\",\n        },\n\"EUR\",\n\"European\"],\n [{\n            'v': 8,\n            'f': \"8\",\n        },\n\"JPT\",\n\"Japanese in Tokyo, Japan\",\n{\n            'v': 89,\n            'f': \"89\",\n        },\n{\n            'v': 0.0815018315018315,\n            'f': \"0.0815018315018315\",\n        },\n\"EAS\",\n\"East Asian\"],\n [{\n            'v': 9,\n            'f': \"9\",\n        },\n\"FIN\",\n\"Finnish in Finland\",\n{\n            'v': 93,\n            'f': \"93\",\n        },\n{\n            'v': 0.08516483516483517,\n            'f': \"0.08516483516483517\",\n        },\n\"EUR\",\n\"European\"],\n [{\n            'v': 10,\n            'f': \"10\",\n        },\n\"CHB\",\n\"Han Chinese in Bejing, China\",\n{\n            'v': 97,\n            'f': \"97\",\n        },\n{\n            'v': 0.08882783882783883,\n            'f': \"0.08882783882783883\",\n        },\n\"EAS\",\n\"East Asian\"],\n [{\n            'v': 11,\n            'f': \"11\",\n        },\n\"LWK\",\n\"Luhya in Webuye, Kenya\",\n{\n            'v': 97,\n            'f': \"97\",\n        },\n{\n            'v': 0.08882783882783883,\n            'f': \"0.08882783882783883\",\n        },\n\"AFR\",\n\"African\"],\n [{\n            'v': 12,\n            'f': \"12\",\n        },\n\"TSI\",\n\"Toscani in Italy\",\n{\n            'v': 98,\n            'f': \"98\",\n        },\n{\n            'v': 0.08974358974358974,\n            'f': \"0.08974358974358974\",\n        },\n\"EUR\",\n\"European\"],\n [{\n            'v': 13,\n            'f': \"13\",\n        },\n\"CHS\",\n\"Southern Han Chinese, China\",\n{\n            'v': 100,\n            'f': \"100\",\n        },\n{\n            'v': 0.09157509157509157,\n            'f': \"0.09157509157509157\",\n        },\n\"EAS\",\n\"East Asian\"]],\n        columns: [[\"number\", \"index\"], [\"string\", \"population\"], [\"string\", \"population_description\"], [\"number\", \"population_count\"], [\"number\", \"population_ratio\"], [\"string\", \"super_population\"], [\"string\", \"super_population_description\"]],\n        columnOptions: [{\"width\": \"1px\", \"className\": \"index_column\"}],\n        rowsPerPage: 25,\n        helpUrl: \"https://colab.research.google.com/notebooks/data_table.ipynb\",\n        suppressOutputScrolling: true,\n        minimumWidth: undefined,\n      });\n    ",
            "text/html": [
              "<div>\n",
              "<style scoped>\n",
              "    .dataframe tbody tr th:only-of-type {\n",
              "        vertical-align: middle;\n",
              "    }\n",
              "\n",
              "    .dataframe tbody tr th {\n",
              "        vertical-align: top;\n",
              "    }\n",
              "\n",
              "    .dataframe thead th {\n",
              "        text-align: right;\n",
              "    }\n",
              "</style>\n",
              "<table border=\"1\" class=\"dataframe\">\n",
              "  <thead>\n",
              "    <tr style=\"text-align: right;\">\n",
              "      <th></th>\n",
              "      <th>population</th>\n",
              "      <th>population_description</th>\n",
              "      <th>population_count</th>\n",
              "      <th>population_ratio</th>\n",
              "      <th>super_population</th>\n",
              "      <th>super_population_description</th>\n",
              "    </tr>\n",
              "  </thead>\n",
              "  <tbody>\n",
              "    <tr>\n",
              "      <th>0</th>\n",
              "      <td>IBS</td>\n",
              "      <td>Iberian populations in Spain</td>\n",
              "      <td>14</td>\n",
              "      <td>0.012821</td>\n",
              "      <td>EUR</td>\n",
              "      <td>European</td>\n",
              "    </tr>\n",
              "    <tr>\n",
              "      <th>1</th>\n",
              "      <td>PUR</td>\n",
              "      <td>Puerto Rican in Puerto Rico</td>\n",
              "      <td>55</td>\n",
              "      <td>0.050366</td>\n",
              "      <td>AMR</td>\n",
              "      <td>American</td>\n",
              "    </tr>\n",
              "    <tr>\n",
              "      <th>2</th>\n",
              "      <td>CLM</td>\n",
              "      <td>Colombian in Medellin, Colombia</td>\n",
              "      <td>60</td>\n",
              "      <td>0.054945</td>\n",
              "      <td>AMR</td>\n",
              "      <td>American</td>\n",
              "    </tr>\n",
              "    <tr>\n",
              "      <th>3</th>\n",
              "      <td>ASW</td>\n",
              "      <td>African Ancestry in Southwest US</td>\n",
              "      <td>61</td>\n",
              "      <td>0.055861</td>\n",
              "      <td>AFR</td>\n",
              "      <td>African</td>\n",
              "    </tr>\n",
              "    <tr>\n",
              "      <th>4</th>\n",
              "      <td>MXL</td>\n",
              "      <td>Mexican Ancestry in Los Angeles, California</td>\n",
              "      <td>66</td>\n",
              "      <td>0.060440</td>\n",
              "      <td>AMR</td>\n",
              "      <td>American</td>\n",
              "    </tr>\n",
              "    <tr>\n",
              "      <th>5</th>\n",
              "      <td>CEU</td>\n",
              "      <td>Utah residents with Northern and Western Europ...</td>\n",
              "      <td>85</td>\n",
              "      <td>0.077839</td>\n",
              "      <td>EUR</td>\n",
              "      <td>European</td>\n",
              "    </tr>\n",
              "    <tr>\n",
              "      <th>6</th>\n",
              "      <td>YRI</td>\n",
              "      <td>Yoruba in Ibadan, Nigeria</td>\n",
              "      <td>88</td>\n",
              "      <td>0.080586</td>\n",
              "      <td>AFR</td>\n",
              "      <td>African</td>\n",
              "    </tr>\n",
              "    <tr>\n",
              "      <th>7</th>\n",
              "      <td>GBR</td>\n",
              "      <td>British in England and Scotland</td>\n",
              "      <td>89</td>\n",
              "      <td>0.081502</td>\n",
              "      <td>EUR</td>\n",
              "      <td>European</td>\n",
              "    </tr>\n",
              "    <tr>\n",
              "      <th>8</th>\n",
              "      <td>JPT</td>\n",
              "      <td>Japanese in Tokyo, Japan</td>\n",
              "      <td>89</td>\n",
              "      <td>0.081502</td>\n",
              "      <td>EAS</td>\n",
              "      <td>East Asian</td>\n",
              "    </tr>\n",
              "    <tr>\n",
              "      <th>9</th>\n",
              "      <td>FIN</td>\n",
              "      <td>Finnish in Finland</td>\n",
              "      <td>93</td>\n",
              "      <td>0.085165</td>\n",
              "      <td>EUR</td>\n",
              "      <td>European</td>\n",
              "    </tr>\n",
              "    <tr>\n",
              "      <th>10</th>\n",
              "      <td>CHB</td>\n",
              "      <td>Han Chinese in Bejing, China</td>\n",
              "      <td>97</td>\n",
              "      <td>0.088828</td>\n",
              "      <td>EAS</td>\n",
              "      <td>East Asian</td>\n",
              "    </tr>\n",
              "    <tr>\n",
              "      <th>11</th>\n",
              "      <td>LWK</td>\n",
              "      <td>Luhya in Webuye, Kenya</td>\n",
              "      <td>97</td>\n",
              "      <td>0.088828</td>\n",
              "      <td>AFR</td>\n",
              "      <td>African</td>\n",
              "    </tr>\n",
              "    <tr>\n",
              "      <th>12</th>\n",
              "      <td>TSI</td>\n",
              "      <td>Toscani in Italy</td>\n",
              "      <td>98</td>\n",
              "      <td>0.089744</td>\n",
              "      <td>EUR</td>\n",
              "      <td>European</td>\n",
              "    </tr>\n",
              "    <tr>\n",
              "      <th>13</th>\n",
              "      <td>CHS</td>\n",
              "      <td>Southern Han Chinese, China</td>\n",
              "      <td>100</td>\n",
              "      <td>0.091575</td>\n",
              "      <td>EAS</td>\n",
              "      <td>East Asian</td>\n",
              "    </tr>\n",
              "  </tbody>\n",
              "</table>\n",
              "</div>"
            ],
            "text/plain": [
              "   population  ... super_population_description\n",
              "0         IBS  ...                     European\n",
              "1         PUR  ...                     American\n",
              "2         CLM  ...                     American\n",
              "3         ASW  ...                      African\n",
              "4         MXL  ...                     American\n",
              "5         CEU  ...                     European\n",
              "6         YRI  ...                      African\n",
              "7         GBR  ...                     European\n",
              "8         JPT  ...                   East Asian\n",
              "9         FIN  ...                     European\n",
              "10        CHB  ...                   East Asian\n",
              "11        LWK  ...                      African\n",
              "12        TSI  ...                     European\n",
              "13        CHS  ...                   East Asian\n",
              "\n",
              "[14 rows x 6 columns]"
            ]
          },
          "metadata": {
            "tags": []
          },
          "execution_count": 15
        }
      ]
    },
    {
      "cell_type": "code",
      "metadata": {
        "id": "aPPbADLYmNVC"
      },
      "source": [
        "colours = {\"EUR\": \"blue\", \"AMR\": \"red\",\"AFR\":\"orange\",\"EAS\":\"green\"}"
      ],
      "execution_count": null,
      "outputs": []
    },
    {
      "cell_type": "code",
      "metadata": {
        "colab": {
          "base_uri": "https://localhost:8080/",
          "height": 506
        },
        "id": "DPpZhMcNd-vx",
        "outputId": "21586c63-705b-4622-ec63-cf3e42771c08"
      },
      "source": [
        "from matplotlib.patches import Patch\n",
        "#plt.xticks(df2[\"population_count\"], df2[\"population\"])\n",
        "plt.figure(figsize=(16, 8))\n",
        "plt.xlabel('Populations')\n",
        "plt.ylabel('Count of samples in population')\n",
        "test_df = df2.sort_values(by=['population'])\n",
        "\n",
        "\n",
        "#colors = tuple(np.where(test_df[\"super_population\"] ==\"EAS\", 'green','red') )\n",
        "plt.bar(test_df[\"population\"],test_df[\"population_count\"], color=test_df[\"super_population\"].replace(colours))\n",
        "plt.legend(\n",
        "    [\n",
        "        Patch(facecolor=colours['EUR']),\n",
        "        Patch(facecolor=colours['AMR']),\n",
        "        Patch(facecolor=colours['AFR']),\n",
        "        Patch(facecolor=colours['EAS'])\n",
        "    ], [\"EUR\", \"AMR\",\"AFR\",\"EAS\"]\n",
        ") \n",
        "plt.show()"
      ],
      "execution_count": null,
      "outputs": [
        {
          "output_type": "display_data",
          "data": {
            "image/png": "[encoded data removed]",
            "text/plain": [
              "<Figure size 1152x576 with 1 Axes>"
            ]
          },
          "metadata": {
            "tags": [],
            "needs_background": "light"
          }
        }
      ]
    },
    {
      "cell_type": "markdown",
      "metadata": {
        "id": "H7ZIWbkUdD6d"
      },
      "source": [
        "We are finding the ratio of the super population (Ethnicity/Origin) in the sub sample set. We see the samples ration from 0.16 to 0.34"
      ]
    },
    {
      "cell_type": "code",
      "metadata": {
        "id": "AMz-uuSOqPaI"
      },
      "source": [
        "QUERY3= \"\"\"\n",
        "SELECT\n",
        "  super_population,\n",
        "  super_population_description,\n",
        "  super_population_count,\n",
        "   (super_population_count/SUM(total_count) OVER (PARTITION BY super_population)) AS super_population_ratio\n",
        "from(\n",
        "  SELECT\n",
        "    super_population,\n",
        "    super_population_description,\n",
        "    COUNT(population) AS super_population_count,\n",
        "  FROM\n",
        "    `genomics-public-data.1000_genomes.sample_info`\n",
        "  WHERE\n",
        "    In_Phase1_Integrated_Variant_Set = TRUE\n",
        "  GROUP BY\n",
        "    super_population,\n",
        "    super_population_description),(select count(super_population) as total_count from  `genomics-public-data.1000_genomes.sample_info` where In_Phase1_Integrated_Variant_Set = TRUE)  ORDER BY super_population_ratio\n",
        "    \"\"\""
      ],
      "execution_count": null,
      "outputs": []
    },
    {
      "cell_type": "code",
      "metadata": {
        "colab": {
          "base_uri": "https://localhost:8080/"
        },
        "id": "8ZM7MkhNqPaJ",
        "outputId": "a5330035-65a2-439b-8d30-1ae0399f7030"
      },
      "source": [
        "bq_assistant.estimate_query_size(QUERY3) "
      ],
      "execution_count": null,
      "outputs": [
        {
          "output_type": "execute_result",
          "data": {
            "text/plain": [
              "6.825756281614304e-05"
            ]
          },
          "metadata": {
            "tags": []
          },
          "execution_count": 68
        }
      ]
    },
    {
      "cell_type": "code",
      "metadata": {
        "colab": {
          "base_uri": "https://localhost:8080/",
          "height": 166
        },
        "id": "biJB25zQqPaK",
        "outputId": "40d95502-179a-4473-930c-cef805e92656"
      },
      "source": [
        "df3 = bq_assistant.query_to_pandas_safe(QUERY3)\n",
        "df3"
      ],
      "execution_count": null,
      "outputs": [
        {
          "output_type": "execute_result",
          "data": {
            "application/vnd.google.colaboratory.module+javascript": "\n      import \"https://ssl.gstatic.com/colaboratory/data_table/a6224c040fa35dcf/data_table.js\";\n\n      window.createDataTable({\n        data: [[{\n            'v': 0,\n            'f': \"0\",\n        },\n\"AMR\",\n\"American\",\n{\n            'v': 181,\n            'f': \"181\",\n        },\n{\n            'v': 0.16575091575091574,\n            'f': \"0.16575091575091574\",\n        }],\n [{\n            'v': 1,\n            'f': \"1\",\n        },\n\"AFR\",\n\"African\",\n{\n            'v': 246,\n            'f': \"246\",\n        },\n{\n            'v': 0.22527472527472528,\n            'f': \"0.22527472527472528\",\n        }],\n [{\n            'v': 2,\n            'f': \"2\",\n        },\n\"EAS\",\n\"East Asian\",\n{\n            'v': 286,\n            'f': \"286\",\n        },\n{\n            'v': 0.2619047619047619,\n            'f': \"0.2619047619047619\",\n        }],\n [{\n            'v': 3,\n            'f': \"3\",\n        },\n\"EUR\",\n\"European\",\n{\n            'v': 379,\n            'f': \"379\",\n        },\n{\n            'v': 0.34706959706959706,\n            'f': \"0.34706959706959706\",\n        }]],\n        columns: [[\"number\", \"index\"], [\"string\", \"super_population\"], [\"string\", \"super_population_description\"], [\"number\", \"super_population_count\"], [\"number\", \"super_population_ratio\"]],\n        columnOptions: [{\"width\": \"1px\", \"className\": \"index_column\"}],\n        rowsPerPage: 25,\n        helpUrl: \"https://colab.research.google.com/notebooks/data_table.ipynb\",\n        suppressOutputScrolling: true,\n        minimumWidth: undefined,\n      });\n    ",
            "text/html": [
              "<div>\n",
              "<style scoped>\n",
              "    .dataframe tbody tr th:only-of-type {\n",
              "        vertical-align: middle;\n",
              "    }\n",
              "\n",
              "    .dataframe tbody tr th {\n",
              "        vertical-align: top;\n",
              "    }\n",
              "\n",
              "    .dataframe thead th {\n",
              "        text-align: right;\n",
              "    }\n",
              "</style>\n",
              "<table border=\"1\" class=\"dataframe\">\n",
              "  <thead>\n",
              "    <tr style=\"text-align: right;\">\n",
              "      <th></th>\n",
              "      <th>super_population</th>\n",
              "      <th>super_population_description</th>\n",
              "      <th>super_population_count</th>\n",
              "      <th>super_population_ratio</th>\n",
              "    </tr>\n",
              "  </thead>\n",
              "  <tbody>\n",
              "    <tr>\n",
              "      <th>0</th>\n",
              "      <td>AMR</td>\n",
              "      <td>American</td>\n",
              "      <td>181</td>\n",
              "      <td>0.165751</td>\n",
              "    </tr>\n",
              "    <tr>\n",
              "      <th>1</th>\n",
              "      <td>AFR</td>\n",
              "      <td>African</td>\n",
              "      <td>246</td>\n",
              "      <td>0.225275</td>\n",
              "    </tr>\n",
              "    <tr>\n",
              "      <th>2</th>\n",
              "      <td>EAS</td>\n",
              "      <td>East Asian</td>\n",
              "      <td>286</td>\n",
              "      <td>0.261905</td>\n",
              "    </tr>\n",
              "    <tr>\n",
              "      <th>3</th>\n",
              "      <td>EUR</td>\n",
              "      <td>European</td>\n",
              "      <td>379</td>\n",
              "      <td>0.347070</td>\n",
              "    </tr>\n",
              "  </tbody>\n",
              "</table>\n",
              "</div>"
            ],
            "text/plain": [
              "  super_population  ... super_population_ratio\n",
              "0              AMR  ...               0.165751\n",
              "1              AFR  ...               0.225275\n",
              "2              EAS  ...               0.261905\n",
              "3              EUR  ...               0.347070\n",
              "\n",
              "[4 rows x 4 columns]"
            ]
          },
          "metadata": {
            "tags": []
          },
          "execution_count": 69
        }
      ]
    },
    {
      "cell_type": "code",
      "metadata": {
        "colab": {
          "base_uri": "https://localhost:8080/",
          "height": 382
        },
        "id": "_zjs9pNtxtAd",
        "outputId": "2f9c1df6-de4a-43be-dc51-61efb0eb689d"
      },
      "source": [
        "from matplotlib.patches import Patch\n",
        "#plt.xticks(df2[\"population_count\"], df2[\"population\"])\n",
        "plt.figure(figsize=(6, 6))\n",
        "\n",
        "plt.ylabel('super population count')\n",
        "test_df = df3.sort_values(by=['super_population'])\n",
        "\n",
        "\n",
        "#colors = tuple(np.where(test_df[\"super_population\"] ==\"EAS\", 'green','red') )\n",
        "plt.bar(test_df[\"super_population\"],test_df[\"super_population_count\"], color=test_df[\"super_population\"].replace(colours))\n",
        "plt.legend(\n",
        "    [\n",
        "        Patch(facecolor=colours['EUR']),\n",
        "        Patch(facecolor=colours['AMR']),\n",
        "        Patch(facecolor=colours['AFR']),\n",
        "        Patch(facecolor=colours['EAS'])\n",
        "    ], [\"EUR\", \"AMR\",\"AFR\",\"EAS\"]\n",
        ") \n",
        "plt.show()"
      ],
      "execution_count": null,
      "outputs": [
        {
          "output_type": "display_data",
          "data": {
            "image/png": "[encoded data removed]",
            "text/plain": [
              "<Figure size 432x432 with 1 Axes>"
            ]
          },
          "metadata": {
            "tags": [],
            "needs_background": "light"
          }
        }
      ]
    },
    {
      "cell_type": "markdown",
      "metadata": {
        "id": "zKgq3n3ZdMo8"
      },
      "source": [
        "We subdivided the ethnic population ratio into Males and Females and calculated the ratio of males per ethnic population and female per ethnic population among over all sub sample of population. In query 3, we found IBS ethnicity having the least population of all, and could see the sample of Finnish people living in Finland have a lot more number of Females compared to Males."
      ]
    },
    {
      "cell_type": "code",
      "metadata": {
        "id": "0RpKUVlfrAvu"
      },
      "source": [
        "QUERY4= \"\"\"\n",
        "SELECT\n",
        "  population,\n",
        "  gender,\n",
        "  population_count,\n",
        "  (population_count/SUM(total_count) OVER (PARTITION BY gender))\n",
        "  AS population_ratio\n",
        "from(\n",
        "  SELECT\n",
        "    gender,\n",
        "    population,\n",
        "    COUNT(population) AS population_count,\n",
        "  FROM\n",
        "    `genomics-public-data.1000_genomes.sample_info`\n",
        "  WHERE\n",
        "    In_Phase1_Integrated_Variant_Set = TRUE\n",
        "  GROUP BY\n",
        "    gender,\n",
        "    population)\n",
        ",(select count(population) as total_count from  `genomics-public-data.1000_genomes.sample_info` where In_Phase1_Integrated_Variant_Set = TRUE)  ORDER BY population, gender\n",
        "    \"\"\""
      ],
      "execution_count": null,
      "outputs": []
    },
    {
      "cell_type": "code",
      "metadata": {
        "colab": {
          "base_uri": "https://localhost:8080/"
        },
        "id": "Tf0CKZFJrAvv",
        "outputId": "51675245-7601-420c-c3cc-a2051cbb326b"
      },
      "source": [
        "bq_assistant.estimate_query_size(QUERY4) "
      ],
      "execution_count": null,
      "outputs": [
        {
          "output_type": "execute_result",
          "data": {
            "text/plain": [
              "4.015117883682251e-05"
            ]
          },
          "metadata": {
            "tags": []
          },
          "execution_count": 74
        }
      ]
    },
    {
      "cell_type": "code",
      "metadata": {
        "colab": {
          "base_uri": "https://localhost:8080/",
          "height": 598
        },
        "id": "8TUDtmo8rAvx",
        "outputId": "5459ecd9-7578-4f99-85ff-518b09327b75"
      },
      "source": [
        "df4 = bq_assistant.query_to_pandas_safe(QUERY4)\n",
        "df4"
      ],
      "execution_count": null,
      "outputs": [
        {
          "output_type": "execute_result",
          "data": {
            "application/vnd.google.colaboratory.module+javascript": "\n      import \"https://ssl.gstatic.com/colaboratory/data_table/a6224c040fa35dcf/data_table.js\";\n\n      window.createDataTable({\n        data: [[{\n            'v': 0,\n            'f': \"0\",\n        },\n\"ASW\",\n\"female\",\n{\n            'v': 37,\n            'f': \"37\",\n        },\n{\n            'v': 0.0024201988487702773,\n            'f': \"0.0024201988487702773\",\n        }],\n [{\n            'v': 1,\n            'f': \"1\",\n        },\n\"ASW\",\n\"male\",\n{\n            'v': 24,\n            'f': \"24\",\n        },\n{\n            'v': 0.0015698587127158557,\n            'f': \"0.0015698587127158557\",\n        }],\n [{\n            'v': 2,\n            'f': \"2\",\n        },\n\"CEU\",\n\"female\",\n{\n            'v': 40,\n            'f': \"40\",\n        },\n{\n            'v': 0.0026164311878597592,\n            'f': \"0.0026164311878597592\",\n        }],\n [{\n            'v': 3,\n            'f': \"3\",\n        },\n\"CEU\",\n\"male\",\n{\n            'v': 45,\n            'f': \"45\",\n        },\n{\n            'v': 0.0029434850863422294,\n            'f': \"0.0029434850863422294\",\n        }],\n [{\n            'v': 4,\n            'f': \"4\",\n        },\n\"CHB\",\n\"female\",\n{\n            'v': 53,\n            'f': \"53\",\n        },\n{\n            'v': 0.003466771323914181,\n            'f': \"0.003466771323914181\",\n        }],\n [{\n            'v': 5,\n            'f': \"5\",\n        },\n\"CHB\",\n\"male\",\n{\n            'v': 44,\n            'f': \"44\",\n        },\n{\n            'v': 0.0028780743066457353,\n            'f': \"0.0028780743066457353\",\n        }],\n [{\n            'v': 6,\n            'f': \"6\",\n        },\n\"CHS\",\n\"female\",\n{\n            'v': 50,\n            'f': \"50\",\n        },\n{\n            'v': 0.003270538984824699,\n            'f': \"0.003270538984824699\",\n        }],\n [{\n            'v': 7,\n            'f': \"7\",\n        },\n\"CHS\",\n\"male\",\n{\n            'v': 50,\n            'f': \"50\",\n        },\n{\n            'v': 0.003270538984824699,\n            'f': \"0.003270538984824699\",\n        }],\n [{\n            'v': 8,\n            'f': \"8\",\n        },\n\"CLM\",\n\"female\",\n{\n            'v': 31,\n            'f': \"31\",\n        },\n{\n            'v': 0.0020277341705913134,\n            'f': \"0.0020277341705913134\",\n        }],\n [{\n            'v': 9,\n            'f': \"9\",\n        },\n\"CLM\",\n\"male\",\n{\n            'v': 29,\n            'f': \"29\",\n        },\n{\n            'v': 0.0018969126111983254,\n            'f': \"0.0018969126111983254\",\n        }],\n [{\n            'v': 10,\n            'f': \"10\",\n        },\n\"FIN\",\n\"female\",\n{\n            'v': 58,\n            'f': \"58\",\n        },\n{\n            'v': 0.003793825222396651,\n            'f': \"0.003793825222396651\",\n        }],\n [{\n            'v': 11,\n            'f': \"11\",\n        },\n\"FIN\",\n\"male\",\n{\n            'v': 35,\n            'f': \"35\",\n        },\n{\n            'v': 0.0022893772893772895,\n            'f': \"0.0022893772893772895\",\n        }],\n [{\n            'v': 12,\n            'f': \"12\",\n        },\n\"GBR\",\n\"female\",\n{\n            'v': 48,\n            'f': \"48\",\n        },\n{\n            'v': 0.0031397174254317113,\n            'f': \"0.0031397174254317113\",\n        }],\n [{\n            'v': 13,\n            'f': \"13\",\n        },\n\"GBR\",\n\"male\",\n{\n            'v': 41,\n            'f': \"41\",\n        },\n{\n            'v': 0.0026818419675562533,\n            'f': \"0.0026818419675562533\",\n        }],\n [{\n            'v': 14,\n            'f': \"14\",\n        },\n\"IBS\",\n\"female\",\n{\n            'v': 7,\n            'f': \"7\",\n        },\n{\n            'v': 0.0004578754578754579,\n            'f': \"0.0004578754578754579\",\n        }],\n [{\n            'v': 15,\n            'f': \"15\",\n        },\n\"IBS\",\n\"male\",\n{\n            'v': 7,\n            'f': \"7\",\n        },\n{\n            'v': 0.0004578754578754579,\n            'f': \"0.0004578754578754579\",\n        }],\n [{\n            'v': 16,\n            'f': \"16\",\n        },\n\"JPT\",\n\"female\",\n{\n            'v': 39,\n            'f': \"39\",\n        },\n{\n            'v': 0.002551020408163265,\n            'f': \"0.002551020408163265\",\n        }],\n [{\n            'v': 17,\n            'f': \"17\",\n        },\n\"JPT\",\n\"male\",\n{\n            'v': 50,\n            'f': \"50\",\n        },\n{\n            'v': 0.003270538984824699,\n            'f': \"0.003270538984824699\",\n        }],\n [{\n            'v': 18,\n            'f': \"18\",\n        },\n\"LWK\",\n\"female\",\n{\n            'v': 49,\n            'f': \"49\",\n        },\n{\n            'v': 0.003205128205128205,\n            'f': \"0.003205128205128205\",\n        }],\n [{\n            'v': 19,\n            'f': \"19\",\n        },\n\"LWK\",\n\"male\",\n{\n            'v': 48,\n            'f': \"48\",\n        },\n{\n            'v': 0.0031397174254317113,\n            'f': \"0.0031397174254317113\",\n        }],\n [{\n            'v': 20,\n            'f': \"20\",\n        },\n\"MXL\",\n\"female\",\n{\n            'v': 35,\n            'f': \"35\",\n        },\n{\n            'v': 0.0022893772893772895,\n            'f': \"0.0022893772893772895\",\n        }],\n [{\n            'v': 21,\n            'f': \"21\",\n        },\n\"MXL\",\n\"male\",\n{\n            'v': 31,\n            'f': \"31\",\n        },\n{\n            'v': 0.0020277341705913134,\n            'f': \"0.0020277341705913134\",\n        }],\n [{\n            'v': 22,\n            'f': \"22\",\n        },\n\"PUR\",\n\"female\",\n{\n            'v': 27,\n            'f': \"27\",\n        },\n{\n            'v': 0.0017660910518053376,\n            'f': \"0.0017660910518053376\",\n        }],\n [{\n            'v': 23,\n            'f': \"23\",\n        },\n\"PUR\",\n\"male\",\n{\n            'v': 28,\n            'f': \"28\",\n        },\n{\n            'v': 0.0018315018315018315,\n            'f': \"0.0018315018315018315\",\n        }],\n [{\n            'v': 24,\n            'f': \"24\",\n        },\n\"TSI\",\n\"female\",\n{\n            'v': 48,\n            'f': \"48\",\n        },\n{\n            'v': 0.0031397174254317113,\n            'f': \"0.0031397174254317113\",\n        }],\n [{\n            'v': 25,\n            'f': \"25\",\n        },\n\"TSI\",\n\"male\",\n{\n            'v': 50,\n            'f': \"50\",\n        },\n{\n            'v': 0.003270538984824699,\n            'f': \"0.003270538984824699\",\n        }],\n [{\n            'v': 26,\n            'f': \"26\",\n        },\n\"YRI\",\n\"female\",\n{\n            'v': 45,\n            'f': \"45\",\n        },\n{\n            'v': 0.0029434850863422294,\n            'f': \"0.0029434850863422294\",\n        }],\n [{\n            'v': 27,\n            'f': \"27\",\n        },\n\"YRI\",\n\"male\",\n{\n            'v': 43,\n            'f': \"43\",\n        },\n{\n            'v': 0.002812663526949241,\n            'f': \"0.002812663526949241\",\n        }]],\n        columns: [[\"number\", \"index\"], [\"string\", \"population\"], [\"string\", \"gender\"], [\"number\", \"population_count\"], [\"number\", \"population_ratio\"]],\n        columnOptions: [{\"width\": \"1px\", \"className\": \"index_column\"}],\n        rowsPerPage: 25,\n        helpUrl: \"https://colab.research.google.com/notebooks/data_table.ipynb\",\n        suppressOutputScrolling: true,\n        minimumWidth: undefined,\n      });\n    ",
            "text/html": [
              "<div>\n",
              "<style scoped>\n",
              "    .dataframe tbody tr th:only-of-type {\n",
              "        vertical-align: middle;\n",
              "    }\n",
              "\n",
              "    .dataframe tbody tr th {\n",
              "        vertical-align: top;\n",
              "    }\n",
              "\n",
              "    .dataframe thead th {\n",
              "        text-align: right;\n",
              "    }\n",
              "</style>\n",
              "<table border=\"1\" class=\"dataframe\">\n",
              "  <thead>\n",
              "    <tr style=\"text-align: right;\">\n",
              "      <th></th>\n",
              "      <th>population</th>\n",
              "      <th>gender</th>\n",
              "      <th>population_count</th>\n",
              "      <th>population_ratio</th>\n",
              "    </tr>\n",
              "  </thead>\n",
              "  <tbody>\n",
              "    <tr>\n",
              "      <th>0</th>\n",
              "      <td>ASW</td>\n",
              "      <td>female</td>\n",
              "      <td>37</td>\n",
              "      <td>0.002420</td>\n",
              "    </tr>\n",
              "    <tr>\n",
              "      <th>1</th>\n",
              "      <td>ASW</td>\n",
              "      <td>male</td>\n",
              "      <td>24</td>\n",
              "      <td>0.001570</td>\n",
              "    </tr>\n",
              "    <tr>\n",
              "      <th>2</th>\n",
              "      <td>CEU</td>\n",
              "      <td>female</td>\n",
              "      <td>40</td>\n",
              "      <td>0.002616</td>\n",
              "    </tr>\n",
              "    <tr>\n",
              "      <th>3</th>\n",
              "      <td>CEU</td>\n",
              "      <td>male</td>\n",
              "      <td>45</td>\n",
              "      <td>0.002943</td>\n",
              "    </tr>\n",
              "    <tr>\n",
              "      <th>4</th>\n",
              "      <td>CHB</td>\n",
              "      <td>female</td>\n",
              "      <td>53</td>\n",
              "      <td>0.003467</td>\n",
              "    </tr>\n",
              "    <tr>\n",
              "      <th>5</th>\n",
              "      <td>CHB</td>\n",
              "      <td>male</td>\n",
              "      <td>44</td>\n",
              "      <td>0.002878</td>\n",
              "    </tr>\n",
              "    <tr>\n",
              "      <th>6</th>\n",
              "      <td>CHS</td>\n",
              "      <td>female</td>\n",
              "      <td>50</td>\n",
              "      <td>0.003271</td>\n",
              "    </tr>\n",
              "    <tr>\n",
              "      <th>7</th>\n",
              "      <td>CHS</td>\n",
              "      <td>male</td>\n",
              "      <td>50</td>\n",
              "      <td>0.003271</td>\n",
              "    </tr>\n",
              "    <tr>\n",
              "      <th>8</th>\n",
              "      <td>CLM</td>\n",
              "      <td>female</td>\n",
              "      <td>31</td>\n",
              "      <td>0.002028</td>\n",
              "    </tr>\n",
              "    <tr>\n",
              "      <th>9</th>\n",
              "      <td>CLM</td>\n",
              "      <td>male</td>\n",
              "      <td>29</td>\n",
              "      <td>0.001897</td>\n",
              "    </tr>\n",
              "    <tr>\n",
              "      <th>10</th>\n",
              "      <td>FIN</td>\n",
              "      <td>female</td>\n",
              "      <td>58</td>\n",
              "      <td>0.003794</td>\n",
              "    </tr>\n",
              "    <tr>\n",
              "      <th>11</th>\n",
              "      <td>FIN</td>\n",
              "      <td>male</td>\n",
              "      <td>35</td>\n",
              "      <td>0.002289</td>\n",
              "    </tr>\n",
              "    <tr>\n",
              "      <th>12</th>\n",
              "      <td>GBR</td>\n",
              "      <td>female</td>\n",
              "      <td>48</td>\n",
              "      <td>0.003140</td>\n",
              "    </tr>\n",
              "    <tr>\n",
              "      <th>13</th>\n",
              "      <td>GBR</td>\n",
              "      <td>male</td>\n",
              "      <td>41</td>\n",
              "      <td>0.002682</td>\n",
              "    </tr>\n",
              "    <tr>\n",
              "      <th>14</th>\n",
              "      <td>IBS</td>\n",
              "      <td>female</td>\n",
              "      <td>7</td>\n",
              "      <td>0.000458</td>\n",
              "    </tr>\n",
              "    <tr>\n",
              "      <th>15</th>\n",
              "      <td>IBS</td>\n",
              "      <td>male</td>\n",
              "      <td>7</td>\n",
              "      <td>0.000458</td>\n",
              "    </tr>\n",
              "    <tr>\n",
              "      <th>16</th>\n",
              "      <td>JPT</td>\n",
              "      <td>female</td>\n",
              "      <td>39</td>\n",
              "      <td>0.002551</td>\n",
              "    </tr>\n",
              "    <tr>\n",
              "      <th>17</th>\n",
              "      <td>JPT</td>\n",
              "      <td>male</td>\n",
              "      <td>50</td>\n",
              "      <td>0.003271</td>\n",
              "    </tr>\n",
              "    <tr>\n",
              "      <th>18</th>\n",
              "      <td>LWK</td>\n",
              "      <td>female</td>\n",
              "      <td>49</td>\n",
              "      <td>0.003205</td>\n",
              "    </tr>\n",
              "    <tr>\n",
              "      <th>19</th>\n",
              "      <td>LWK</td>\n",
              "      <td>male</td>\n",
              "      <td>48</td>\n",
              "      <td>0.003140</td>\n",
              "    </tr>\n",
              "    <tr>\n",
              "      <th>20</th>\n",
              "      <td>MXL</td>\n",
              "      <td>female</td>\n",
              "      <td>35</td>\n",
              "      <td>0.002289</td>\n",
              "    </tr>\n",
              "    <tr>\n",
              "      <th>21</th>\n",
              "      <td>MXL</td>\n",
              "      <td>male</td>\n",
              "      <td>31</td>\n",
              "      <td>0.002028</td>\n",
              "    </tr>\n",
              "    <tr>\n",
              "      <th>22</th>\n",
              "      <td>PUR</td>\n",
              "      <td>female</td>\n",
              "      <td>27</td>\n",
              "      <td>0.001766</td>\n",
              "    </tr>\n",
              "    <tr>\n",
              "      <th>23</th>\n",
              "      <td>PUR</td>\n",
              "      <td>male</td>\n",
              "      <td>28</td>\n",
              "      <td>0.001832</td>\n",
              "    </tr>\n",
              "    <tr>\n",
              "      <th>24</th>\n",
              "      <td>TSI</td>\n",
              "      <td>female</td>\n",
              "      <td>48</td>\n",
              "      <td>0.003140</td>\n",
              "    </tr>\n",
              "    <tr>\n",
              "      <th>25</th>\n",
              "      <td>TSI</td>\n",
              "      <td>male</td>\n",
              "      <td>50</td>\n",
              "      <td>0.003271</td>\n",
              "    </tr>\n",
              "    <tr>\n",
              "      <th>26</th>\n",
              "      <td>YRI</td>\n",
              "      <td>female</td>\n",
              "      <td>45</td>\n",
              "      <td>0.002943</td>\n",
              "    </tr>\n",
              "    <tr>\n",
              "      <th>27</th>\n",
              "      <td>YRI</td>\n",
              "      <td>male</td>\n",
              "      <td>43</td>\n",
              "      <td>0.002813</td>\n",
              "    </tr>\n",
              "  </tbody>\n",
              "</table>\n",
              "</div>"
            ],
            "text/plain": [
              "   population  gender  population_count  population_ratio\n",
              "0         ASW  female                37          0.002420\n",
              "1         ASW    male                24          0.001570\n",
              "2         CEU  female                40          0.002616\n",
              "3         CEU    male                45          0.002943\n",
              "4         CHB  female                53          0.003467\n",
              "5         CHB    male                44          0.002878\n",
              "6         CHS  female                50          0.003271\n",
              "7         CHS    male                50          0.003271\n",
              "8         CLM  female                31          0.002028\n",
              "9         CLM    male                29          0.001897\n",
              "10        FIN  female                58          0.003794\n",
              "11        FIN    male                35          0.002289\n",
              "12        GBR  female                48          0.003140\n",
              "13        GBR    male                41          0.002682\n",
              "14        IBS  female                 7          0.000458\n",
              "15        IBS    male                 7          0.000458\n",
              "16        JPT  female                39          0.002551\n",
              "17        JPT    male                50          0.003271\n",
              "18        LWK  female                49          0.003205\n",
              "19        LWK    male                48          0.003140\n",
              "20        MXL  female                35          0.002289\n",
              "21        MXL    male                31          0.002028\n",
              "22        PUR  female                27          0.001766\n",
              "23        PUR    male                28          0.001832\n",
              "24        TSI  female                48          0.003140\n",
              "25        TSI    male                50          0.003271\n",
              "26        YRI  female                45          0.002943\n",
              "27        YRI    male                43          0.002813"
            ]
          },
          "metadata": {
            "tags": []
          },
          "execution_count": 75
        }
      ]
    },
    {
      "cell_type": "code",
      "metadata": {
        "colab": {
          "base_uri": "https://localhost:8080/",
          "height": 366
        },
        "id": "YhM1XZnR6ibh",
        "outputId": "61257571-08ce-42e5-d43a-e32e86ff6103"
      },
      "source": [
        "female_df=df4.query('gender==\"female\"')\n",
        "female_df"
      ],
      "execution_count": null,
      "outputs": [
        {
          "output_type": "execute_result",
          "data": {
            "application/vnd.google.colaboratory.module+javascript": "\n      import \"https://ssl.gstatic.com/colaboratory/data_table/a6224c040fa35dcf/data_table.js\";\n\n      window.createDataTable({\n        data: [[{\n            'v': 0,\n            'f': \"0\",\n        },\n\"ASW\",\n\"female\",\n{\n            'v': 37,\n            'f': \"37\",\n        },\n{\n            'v': 0.0024201988487702773,\n            'f': \"0.0024201988487702773\",\n        }],\n [{\n            'v': 2,\n            'f': \"2\",\n        },\n\"CEU\",\n\"female\",\n{\n            'v': 40,\n            'f': \"40\",\n        },\n{\n            'v': 0.0026164311878597592,\n            'f': \"0.0026164311878597592\",\n        }],\n [{\n            'v': 4,\n            'f': \"4\",\n        },\n\"CHB\",\n\"female\",\n{\n            'v': 53,\n            'f': \"53\",\n        },\n{\n            'v': 0.003466771323914181,\n            'f': \"0.003466771323914181\",\n        }],\n [{\n            'v': 6,\n            'f': \"6\",\n        },\n\"CHS\",\n\"female\",\n{\n            'v': 50,\n            'f': \"50\",\n        },\n{\n            'v': 0.003270538984824699,\n            'f': \"0.003270538984824699\",\n        }],\n [{\n            'v': 8,\n            'f': \"8\",\n        },\n\"CLM\",\n\"female\",\n{\n            'v': 31,\n            'f': \"31\",\n        },\n{\n            'v': 0.0020277341705913134,\n            'f': \"0.0020277341705913134\",\n        }],\n [{\n            'v': 10,\n            'f': \"10\",\n        },\n\"FIN\",\n\"female\",\n{\n            'v': 58,\n            'f': \"58\",\n        },\n{\n            'v': 0.003793825222396651,\n            'f': \"0.003793825222396651\",\n        }],\n [{\n            'v': 12,\n            'f': \"12\",\n        },\n\"GBR\",\n\"female\",\n{\n            'v': 48,\n            'f': \"48\",\n        },\n{\n            'v': 0.0031397174254317113,\n            'f': \"0.0031397174254317113\",\n        }],\n [{\n            'v': 14,\n            'f': \"14\",\n        },\n\"IBS\",\n\"female\",\n{\n            'v': 7,\n            'f': \"7\",\n        },\n{\n            'v': 0.0004578754578754579,\n            'f': \"0.0004578754578754579\",\n        }],\n [{\n            'v': 16,\n            'f': \"16\",\n        },\n\"JPT\",\n\"female\",\n{\n            'v': 39,\n            'f': \"39\",\n        },\n{\n            'v': 0.002551020408163265,\n            'f': \"0.002551020408163265\",\n        }],\n [{\n            'v': 18,\n            'f': \"18\",\n        },\n\"LWK\",\n\"female\",\n{\n            'v': 49,\n            'f': \"49\",\n        },\n{\n            'v': 0.003205128205128205,\n            'f': \"0.003205128205128205\",\n        }],\n [{\n            'v': 20,\n            'f': \"20\",\n        },\n\"MXL\",\n\"female\",\n{\n            'v': 35,\n            'f': \"35\",\n        },\n{\n            'v': 0.0022893772893772895,\n            'f': \"0.0022893772893772895\",\n        }],\n [{\n            'v': 22,\n            'f': \"22\",\n        },\n\"PUR\",\n\"female\",\n{\n            'v': 27,\n            'f': \"27\",\n        },\n{\n            'v': 0.0017660910518053376,\n            'f': \"0.0017660910518053376\",\n        }],\n [{\n            'v': 24,\n            'f': \"24\",\n        },\n\"TSI\",\n\"female\",\n{\n            'v': 48,\n            'f': \"48\",\n        },\n{\n            'v': 0.0031397174254317113,\n            'f': \"0.0031397174254317113\",\n        }],\n [{\n            'v': 26,\n            'f': \"26\",\n        },\n\"YRI\",\n\"female\",\n{\n            'v': 45,\n            'f': \"45\",\n        },\n{\n            'v': 0.0029434850863422294,\n            'f': \"0.0029434850863422294\",\n        }]],\n        columns: [[\"number\", \"index\"], [\"string\", \"population\"], [\"string\", \"gender\"], [\"number\", \"population_count\"], [\"number\", \"population_ratio\"]],\n        columnOptions: [{\"width\": \"1px\", \"className\": \"index_column\"}],\n        rowsPerPage: 25,\n        helpUrl: \"https://colab.research.google.com/notebooks/data_table.ipynb\",\n        suppressOutputScrolling: true,\n        minimumWidth: undefined,\n      });\n    ",
            "text/html": [
              "<div>\n",
              "<style scoped>\n",
              "    .dataframe tbody tr th:only-of-type {\n",
              "        vertical-align: middle;\n",
              "    }\n",
              "\n",
              "    .dataframe tbody tr th {\n",
              "        vertical-align: top;\n",
              "    }\n",
              "\n",
              "    .dataframe thead th {\n",
              "        text-align: right;\n",
              "    }\n",
              "</style>\n",
              "<table border=\"1\" class=\"dataframe\">\n",
              "  <thead>\n",
              "    <tr style=\"text-align: right;\">\n",
              "      <th></th>\n",
              "      <th>population</th>\n",
              "      <th>gender</th>\n",
              "      <th>population_count</th>\n",
              "      <th>population_ratio</th>\n",
              "    </tr>\n",
              "  </thead>\n",
              "  <tbody>\n",
              "    <tr>\n",
              "      <th>0</th>\n",
              "      <td>ASW</td>\n",
              "      <td>female</td>\n",
              "      <td>37</td>\n",
              "      <td>0.002420</td>\n",
              "    </tr>\n",
              "    <tr>\n",
              "      <th>2</th>\n",
              "      <td>CEU</td>\n",
              "      <td>female</td>\n",
              "      <td>40</td>\n",
              "      <td>0.002616</td>\n",
              "    </tr>\n",
              "    <tr>\n",
              "      <th>4</th>\n",
              "      <td>CHB</td>\n",
              "      <td>female</td>\n",
              "      <td>53</td>\n",
              "      <td>0.003467</td>\n",
              "    </tr>\n",
              "    <tr>\n",
              "      <th>6</th>\n",
              "      <td>CHS</td>\n",
              "      <td>female</td>\n",
              "      <td>50</td>\n",
              "      <td>0.003271</td>\n",
              "    </tr>\n",
              "    <tr>\n",
              "      <th>8</th>\n",
              "      <td>CLM</td>\n",
              "      <td>female</td>\n",
              "      <td>31</td>\n",
              "      <td>0.002028</td>\n",
              "    </tr>\n",
              "    <tr>\n",
              "      <th>10</th>\n",
              "      <td>FIN</td>\n",
              "      <td>female</td>\n",
              "      <td>58</td>\n",
              "      <td>0.003794</td>\n",
              "    </tr>\n",
              "    <tr>\n",
              "      <th>12</th>\n",
              "      <td>GBR</td>\n",
              "      <td>female</td>\n",
              "      <td>48</td>\n",
              "      <td>0.003140</td>\n",
              "    </tr>\n",
              "    <tr>\n",
              "      <th>14</th>\n",
              "      <td>IBS</td>\n",
              "      <td>female</td>\n",
              "      <td>7</td>\n",
              "      <td>0.000458</td>\n",
              "    </tr>\n",
              "    <tr>\n",
              "      <th>16</th>\n",
              "      <td>JPT</td>\n",
              "      <td>female</td>\n",
              "      <td>39</td>\n",
              "      <td>0.002551</td>\n",
              "    </tr>\n",
              "    <tr>\n",
              "      <th>18</th>\n",
              "      <td>LWK</td>\n",
              "      <td>female</td>\n",
              "      <td>49</td>\n",
              "      <td>0.003205</td>\n",
              "    </tr>\n",
              "    <tr>\n",
              "      <th>20</th>\n",
              "      <td>MXL</td>\n",
              "      <td>female</td>\n",
              "      <td>35</td>\n",
              "      <td>0.002289</td>\n",
              "    </tr>\n",
              "    <tr>\n",
              "      <th>22</th>\n",
              "      <td>PUR</td>\n",
              "      <td>female</td>\n",
              "      <td>27</td>\n",
              "      <td>0.001766</td>\n",
              "    </tr>\n",
              "    <tr>\n",
              "      <th>24</th>\n",
              "      <td>TSI</td>\n",
              "      <td>female</td>\n",
              "      <td>48</td>\n",
              "      <td>0.003140</td>\n",
              "    </tr>\n",
              "    <tr>\n",
              "      <th>26</th>\n",
              "      <td>YRI</td>\n",
              "      <td>female</td>\n",
              "      <td>45</td>\n",
              "      <td>0.002943</td>\n",
              "    </tr>\n",
              "  </tbody>\n",
              "</table>\n",
              "</div>"
            ],
            "text/plain": [
              "   population  gender  population_count  population_ratio\n",
              "0         ASW  female                37          0.002420\n",
              "2         CEU  female                40          0.002616\n",
              "4         CHB  female                53          0.003467\n",
              "6         CHS  female                50          0.003271\n",
              "8         CLM  female                31          0.002028\n",
              "10        FIN  female                58          0.003794\n",
              "12        GBR  female                48          0.003140\n",
              "14        IBS  female                 7          0.000458\n",
              "16        JPT  female                39          0.002551\n",
              "18        LWK  female                49          0.003205\n",
              "20        MXL  female                35          0.002289\n",
              "22        PUR  female                27          0.001766\n",
              "24        TSI  female                48          0.003140\n",
              "26        YRI  female                45          0.002943"
            ]
          },
          "metadata": {
            "tags": []
          },
          "execution_count": 86
        }
      ]
    },
    {
      "cell_type": "code",
      "metadata": {
        "colab": {
          "base_uri": "https://localhost:8080/",
          "height": 366
        },
        "id": "U54IV0AH7M85",
        "outputId": "2b1a2b2d-24d9-4b62-a1c4-d799ca25eb93"
      },
      "source": [
        "male_df=df4.query('gender==\"male\"')\n",
        "male_df"
      ],
      "execution_count": null,
      "outputs": [
        {
          "output_type": "execute_result",
          "data": {
            "application/vnd.google.colaboratory.module+javascript": "\n      import \"https://ssl.gstatic.com/colaboratory/data_table/a6224c040fa35dcf/data_table.js\";\n\n      window.createDataTable({\n        data: [[{\n            'v': 1,\n            'f': \"1\",\n        },\n\"ASW\",\n\"male\",\n{\n            'v': 24,\n            'f': \"24\",\n        },\n{\n            'v': 0.0015698587127158557,\n            'f': \"0.0015698587127158557\",\n        }],\n [{\n            'v': 3,\n            'f': \"3\",\n        },\n\"CEU\",\n\"male\",\n{\n            'v': 45,\n            'f': \"45\",\n        },\n{\n            'v': 0.0029434850863422294,\n            'f': \"0.0029434850863422294\",\n        }],\n [{\n            'v': 5,\n            'f': \"5\",\n        },\n\"CHB\",\n\"male\",\n{\n            'v': 44,\n            'f': \"44\",\n        },\n{\n            'v': 0.0028780743066457353,\n            'f': \"0.0028780743066457353\",\n        }],\n [{\n            'v': 7,\n            'f': \"7\",\n        },\n\"CHS\",\n\"male\",\n{\n            'v': 50,\n            'f': \"50\",\n        },\n{\n            'v': 0.003270538984824699,\n            'f': \"0.003270538984824699\",\n        }],\n [{\n            'v': 9,\n            'f': \"9\",\n        },\n\"CLM\",\n\"male\",\n{\n            'v': 29,\n            'f': \"29\",\n        },\n{\n            'v': 0.0018969126111983254,\n            'f': \"0.0018969126111983254\",\n        }],\n [{\n            'v': 11,\n            'f': \"11\",\n        },\n\"FIN\",\n\"male\",\n{\n            'v': 35,\n            'f': \"35\",\n        },\n{\n            'v': 0.0022893772893772895,\n            'f': \"0.0022893772893772895\",\n        }],\n [{\n            'v': 13,\n            'f': \"13\",\n        },\n\"GBR\",\n\"male\",\n{\n            'v': 41,\n            'f': \"41\",\n        },\n{\n            'v': 0.0026818419675562533,\n            'f': \"0.0026818419675562533\",\n        }],\n [{\n            'v': 15,\n            'f': \"15\",\n        },\n\"IBS\",\n\"male\",\n{\n            'v': 7,\n            'f': \"7\",\n        },\n{\n            'v': 0.0004578754578754579,\n            'f': \"0.0004578754578754579\",\n        }],\n [{\n            'v': 17,\n            'f': \"17\",\n        },\n\"JPT\",\n\"male\",\n{\n            'v': 50,\n            'f': \"50\",\n        },\n{\n            'v': 0.003270538984824699,\n            'f': \"0.003270538984824699\",\n        }],\n [{\n            'v': 19,\n            'f': \"19\",\n        },\n\"LWK\",\n\"male\",\n{\n            'v': 48,\n            'f': \"48\",\n        },\n{\n            'v': 0.0031397174254317113,\n            'f': \"0.0031397174254317113\",\n        }],\n [{\n            'v': 21,\n            'f': \"21\",\n        },\n\"MXL\",\n\"male\",\n{\n            'v': 31,\n            'f': \"31\",\n        },\n{\n            'v': 0.0020277341705913134,\n            'f': \"0.0020277341705913134\",\n        }],\n [{\n            'v': 23,\n            'f': \"23\",\n        },\n\"PUR\",\n\"male\",\n{\n            'v': 28,\n            'f': \"28\",\n        },\n{\n            'v': 0.0018315018315018315,\n            'f': \"0.0018315018315018315\",\n        }],\n [{\n            'v': 25,\n            'f': \"25\",\n        },\n\"TSI\",\n\"male\",\n{\n            'v': 50,\n            'f': \"50\",\n        },\n{\n            'v': 0.003270538984824699,\n            'f': \"0.003270538984824699\",\n        }],\n [{\n            'v': 27,\n            'f': \"27\",\n        },\n\"YRI\",\n\"male\",\n{\n            'v': 43,\n            'f': \"43\",\n        },\n{\n            'v': 0.002812663526949241,\n            'f': \"0.002812663526949241\",\n        }]],\n        columns: [[\"number\", \"index\"], [\"string\", \"population\"], [\"string\", \"gender\"], [\"number\", \"population_count\"], [\"number\", \"population_ratio\"]],\n        columnOptions: [{\"width\": \"1px\", \"className\": \"index_column\"}],\n        rowsPerPage: 25,\n        helpUrl: \"https://colab.research.google.com/notebooks/data_table.ipynb\",\n        suppressOutputScrolling: true,\n        minimumWidth: undefined,\n      });\n    ",
            "text/html": [
              "<div>\n",
              "<style scoped>\n",
              "    .dataframe tbody tr th:only-of-type {\n",
              "        vertical-align: middle;\n",
              "    }\n",
              "\n",
              "    .dataframe tbody tr th {\n",
              "        vertical-align: top;\n",
              "    }\n",
              "\n",
              "    .dataframe thead th {\n",
              "        text-align: right;\n",
              "    }\n",
              "</style>\n",
              "<table border=\"1\" class=\"dataframe\">\n",
              "  <thead>\n",
              "    <tr style=\"text-align: right;\">\n",
              "      <th></th>\n",
              "      <th>population</th>\n",
              "      <th>gender</th>\n",
              "      <th>population_count</th>\n",
              "      <th>population_ratio</th>\n",
              "    </tr>\n",
              "  </thead>\n",
              "  <tbody>\n",
              "    <tr>\n",
              "      <th>1</th>\n",
              "      <td>ASW</td>\n",
              "      <td>male</td>\n",
              "      <td>24</td>\n",
              "      <td>0.001570</td>\n",
              "    </tr>\n",
              "    <tr>\n",
              "      <th>3</th>\n",
              "      <td>CEU</td>\n",
              "      <td>male</td>\n",
              "      <td>45</td>\n",
              "      <td>0.002943</td>\n",
              "    </tr>\n",
              "    <tr>\n",
              "      <th>5</th>\n",
              "      <td>CHB</td>\n",
              "      <td>male</td>\n",
              "      <td>44</td>\n",
              "      <td>0.002878</td>\n",
              "    </tr>\n",
              "    <tr>\n",
              "      <th>7</th>\n",
              "      <td>CHS</td>\n",
              "      <td>male</td>\n",
              "      <td>50</td>\n",
              "      <td>0.003271</td>\n",
              "    </tr>\n",
              "    <tr>\n",
              "      <th>9</th>\n",
              "      <td>CLM</td>\n",
              "      <td>male</td>\n",
              "      <td>29</td>\n",
              "      <td>0.001897</td>\n",
              "    </tr>\n",
              "    <tr>\n",
              "      <th>11</th>\n",
              "      <td>FIN</td>\n",
              "      <td>male</td>\n",
              "      <td>35</td>\n",
              "      <td>0.002289</td>\n",
              "    </tr>\n",
              "    <tr>\n",
              "      <th>13</th>\n",
              "      <td>GBR</td>\n",
              "      <td>male</td>\n",
              "      <td>41</td>\n",
              "      <td>0.002682</td>\n",
              "    </tr>\n",
              "    <tr>\n",
              "      <th>15</th>\n",
              "      <td>IBS</td>\n",
              "      <td>male</td>\n",
              "      <td>7</td>\n",
              "      <td>0.000458</td>\n",
              "    </tr>\n",
              "    <tr>\n",
              "      <th>17</th>\n",
              "      <td>JPT</td>\n",
              "      <td>male</td>\n",
              "      <td>50</td>\n",
              "      <td>0.003271</td>\n",
              "    </tr>\n",
              "    <tr>\n",
              "      <th>19</th>\n",
              "      <td>LWK</td>\n",
              "      <td>male</td>\n",
              "      <td>48</td>\n",
              "      <td>0.003140</td>\n",
              "    </tr>\n",
              "    <tr>\n",
              "      <th>21</th>\n",
              "      <td>MXL</td>\n",
              "      <td>male</td>\n",
              "      <td>31</td>\n",
              "      <td>0.002028</td>\n",
              "    </tr>\n",
              "    <tr>\n",
              "      <th>23</th>\n",
              "      <td>PUR</td>\n",
              "      <td>male</td>\n",
              "      <td>28</td>\n",
              "      <td>0.001832</td>\n",
              "    </tr>\n",
              "    <tr>\n",
              "      <th>25</th>\n",
              "      <td>TSI</td>\n",
              "      <td>male</td>\n",
              "      <td>50</td>\n",
              "      <td>0.003271</td>\n",
              "    </tr>\n",
              "    <tr>\n",
              "      <th>27</th>\n",
              "      <td>YRI</td>\n",
              "      <td>male</td>\n",
              "      <td>43</td>\n",
              "      <td>0.002813</td>\n",
              "    </tr>\n",
              "  </tbody>\n",
              "</table>\n",
              "</div>"
            ],
            "text/plain": [
              "   population gender  population_count  population_ratio\n",
              "1         ASW   male                24          0.001570\n",
              "3         CEU   male                45          0.002943\n",
              "5         CHB   male                44          0.002878\n",
              "7         CHS   male                50          0.003271\n",
              "9         CLM   male                29          0.001897\n",
              "11        FIN   male                35          0.002289\n",
              "13        GBR   male                41          0.002682\n",
              "15        IBS   male                 7          0.000458\n",
              "17        JPT   male                50          0.003271\n",
              "19        LWK   male                48          0.003140\n",
              "21        MXL   male                31          0.002028\n",
              "23        PUR   male                28          0.001832\n",
              "25        TSI   male                50          0.003271\n",
              "27        YRI   male                43          0.002813"
            ]
          },
          "metadata": {
            "tags": []
          },
          "execution_count": 87
        }
      ]
    },
    {
      "cell_type": "code",
      "metadata": {
        "colab": {
          "base_uri": "https://localhost:8080/",
          "height": 293
        },
        "id": "xpDcH7TczXwk",
        "outputId": "952b3bc4-3fd7-478d-90bb-985a2bbb9962"
      },
      "source": [
        "\n",
        "\n",
        "\n",
        "fig, ax = plt.subplots()\n",
        "index =np.arange(14)\n",
        "bar_width = 0.35\n",
        "opacity =0.8\n",
        "\n",
        "rects1 = plt.bar(index, male_df[\"population_count\"], bar_width,\n",
        "alpha=opacity,\n",
        "color='g',\n",
        "label='Men')\n",
        "\n",
        "rects2 = plt.bar(index + bar_width, female_df[\"population_count\"], bar_width,\n",
        "alpha=opacity,\n",
        "color='r',\n",
        "label='Women')\n",
        "\n",
        "plt.xlabel('Population')\n",
        "plt.ylabel('count of samples in population')\n",
        "\n",
        "plt.xticks(index + bar_width, ('ASW','CEU','CHB','CHS','CLM','FIN','GBR','IBS','JPT','LWK','MXL','PUR','TSI','YRI'))\n",
        "plt.legend()\n",
        "\n",
        "#plt.tight_layout()\n",
        "plt.show()"
      ],
      "execution_count": null,
      "outputs": [
        {
          "output_type": "display_data",
          "data": {
            "image/png": "[encoded data removed]",
            "text/plain": [
              "<Figure size 432x288 with 1 Axes>"
            ]
          },
          "metadata": {
            "tags": [],
            "needs_background": "light"
          }
        }
      ]
    },
    {
      "cell_type": "markdown",
      "metadata": {
        "id": "IbtfP6oRdYyp"
      },
      "source": [
        "Since there could be a possibility of these people related to each other, or could be a part of family, we will distribute the family sizes as well. "
      ]
    },
    {
      "cell_type": "code",
      "metadata": {
        "id": "QWgkaWzssjnN"
      },
      "source": [
        "QUERY5= \"\"\"\n",
        "SELECT\n",
        "num_family_members AS family_size,\n",
        "COUNT(num_family_members) AS num_families_of_size\n",
        "FROM (\n",
        "  SELECT\n",
        "  family_id,\n",
        "  COUNT(family_id) AS num_family_members,\n",
        "  FROM\n",
        "  `genomics-public-data.1000_genomes.sample_info`\n",
        "  WHERE\n",
        "  In_Phase1_Integrated_Variant_Set = TRUE\n",
        "  GROUP BY\n",
        "  family_id)\n",
        "GROUP BY\n",
        "family_size\n",
        "    \"\"\""
      ],
      "execution_count": null,
      "outputs": []
    },
    {
      "cell_type": "code",
      "metadata": {
        "colab": {
          "base_uri": "https://localhost:8080/"
        },
        "id": "29-ZOkPXsjnO",
        "outputId": "6b0340d8-2877-4212-908f-62c7867eb64c"
      },
      "source": [
        "bq_assistant.estimate_query_size(QUERY5) "
      ],
      "execution_count": null,
      "outputs": [
        {
          "output_type": "execute_result",
          "data": {
            "text/plain": [
              "2.4281442165374756e-05"
            ]
          },
          "metadata": {
            "tags": []
          },
          "execution_count": 32
        }
      ]
    },
    {
      "cell_type": "code",
      "metadata": {
        "colab": {
          "base_uri": "https://localhost:8080/",
          "height": 166
        },
        "id": "K4l16YcusjnQ",
        "outputId": "0e3d38ab-448f-49e4-9594-7b49eef72576"
      },
      "source": [
        "df5 = bq_assistant.query_to_pandas_safe(QUERY5)\n",
        "df5"
      ],
      "execution_count": null,
      "outputs": [
        {
          "output_type": "execute_result",
          "data": {
            "application/vnd.google.colaboratory.module+javascript": "\n      import \"https://ssl.gstatic.com/colaboratory/data_table/a6224c040fa35dcf/data_table.js\";\n\n      window.createDataTable({\n        data: [[{\n            'v': 0,\n            'f': \"0\",\n        },\n{\n            'v': 1,\n            'f': \"1\",\n        },\n{\n            'v': 636,\n            'f': \"636\",\n        }],\n [{\n            'v': 1,\n            'f': \"1\",\n        },\n{\n            'v': 2,\n            'f': \"2\",\n        },\n{\n            'v': 204,\n            'f': \"204\",\n        }],\n [{\n            'v': 2,\n            'f': \"2\",\n        },\n{\n            'v': 3,\n            'f': \"3\",\n        },\n{\n            'v': 12,\n            'f': \"12\",\n        }],\n [{\n            'v': 3,\n            'f': \"3\",\n        },\n{\n            'v': 4,\n            'f': \"4\",\n        },\n{\n            'v': 3,\n            'f': \"3\",\n        }]],\n        columns: [[\"number\", \"index\"], [\"number\", \"family_size\"], [\"number\", \"num_families_of_size\"]],\n        columnOptions: [{\"width\": \"1px\", \"className\": \"index_column\"}],\n        rowsPerPage: 25,\n        helpUrl: \"https://colab.research.google.com/notebooks/data_table.ipynb\",\n        suppressOutputScrolling: true,\n        minimumWidth: undefined,\n      });\n    ",
            "text/html": [
              "<div>\n",
              "<style scoped>\n",
              "    .dataframe tbody tr th:only-of-type {\n",
              "        vertical-align: middle;\n",
              "    }\n",
              "\n",
              "    .dataframe tbody tr th {\n",
              "        vertical-align: top;\n",
              "    }\n",
              "\n",
              "    .dataframe thead th {\n",
              "        text-align: right;\n",
              "    }\n",
              "</style>\n",
              "<table border=\"1\" class=\"dataframe\">\n",
              "  <thead>\n",
              "    <tr style=\"text-align: right;\">\n",
              "      <th></th>\n",
              "      <th>family_size</th>\n",
              "      <th>num_families_of_size</th>\n",
              "    </tr>\n",
              "  </thead>\n",
              "  <tbody>\n",
              "    <tr>\n",
              "      <th>0</th>\n",
              "      <td>1</td>\n",
              "      <td>636</td>\n",
              "    </tr>\n",
              "    <tr>\n",
              "      <th>1</th>\n",
              "      <td>2</td>\n",
              "      <td>204</td>\n",
              "    </tr>\n",
              "    <tr>\n",
              "      <th>2</th>\n",
              "      <td>3</td>\n",
              "      <td>12</td>\n",
              "    </tr>\n",
              "    <tr>\n",
              "      <th>3</th>\n",
              "      <td>4</td>\n",
              "      <td>3</td>\n",
              "    </tr>\n",
              "  </tbody>\n",
              "</table>\n",
              "</div>"
            ],
            "text/plain": [
              "   family_size  num_families_of_size\n",
              "0            1                   636\n",
              "1            2                   204\n",
              "2            3                    12\n",
              "3            4                     3"
            ]
          },
          "metadata": {
            "tags": []
          },
          "execution_count": 33
        }
      ]
    },
    {
      "cell_type": "code",
      "metadata": {
        "colab": {
          "base_uri": "https://localhost:8080/",
          "height": 388
        },
        "id": "sHKJ_tNBueIs",
        "outputId": "9841a1ce-d8f7-4b46-dd3a-153528b790b0"
      },
      "source": [
        "import matplotlib.pyplot as plt\n",
        "plt.figure(figsize=(5, 6))\n",
        "plt.plot(df5[\"family_size\"],df5[\"num_families_of_size\"])\n",
        "plt.xlabel('Number of family members')\n",
        "plt.ylabel('Count of families of size')\n",
        "plt.grid(True)\n",
        "plt.show()"
      ],
      "execution_count": null,
      "outputs": [
        {
          "output_type": "display_data",
          "data": {
            "image/png": "[encoded data removed]",
            "text/plain": [
              "<Figure size 360x432 with 1 Axes>"
            ]
          },
          "metadata": {
            "tags": [],
            "needs_background": "light"
          }
        }
      ]
    }
  ]
}