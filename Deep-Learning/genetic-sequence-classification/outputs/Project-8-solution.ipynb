{
 "cells": [
  {
   "cell_type": "code",
   "execution_count": 183,
   "metadata": {},
   "outputs": [],
   "source": [
    "import os\n",
    "import sys\n",
    "import time\n",
    "import pickle as pk\n",
    "from typing import Union, Tuple\n",
    "from collections import OrderedDict\n",
    "import numpy as np\n",
    "import torch\n",
    "import torch.nn as nn\n",
    "import torch.nn.functional as F\n",
    "import torch.optim as optim\n",
    "from torch.nn import Parameter\n",
    "from torch.autograd import grad\n",
    "from torch.utils.data import Dataset, DataLoader\n",
    "\n",
    "#from torchsummary import summary\n",
    "import torchvision\n",
    "import torchvision.transforms as transforms\n",
    "import torchvision.datasets as datasets\n",
    "from statistics import mean\n",
    "import matplotlib.pyplot as plt"
   ]
  },
  {
   "cell_type": "code",
   "execution_count": 116,
   "metadata": {},
   "outputs": [
    {
     "name": "stdout",
     "output_type": "stream",
     "text": [
      "train_x shape: (400,)\n",
      "train_y shape: (400,)\n",
      "val_x shape: (100,)\n",
      "val_y shape: (100,)\n",
      "test_x shape: (250,)\n"
     ]
    }
   ],
   "source": [
    "import numpy as np\n",
    "\n",
    "with np.load('rnn-challenge-data.npz') as f:\n",
    "    train_x = f['data_x']\n",
    "    train_y = f['data_y']\n",
    "    val_x = f['val_x']\n",
    "    val_y = f['val_y']\n",
    "    test_x = f['test_x']\n",
    "    \n",
    "print('train_x shape: {}'.format(train_x.shape))\n",
    "print('train_y shape: {}'.format(train_y.shape))\n",
    "print('val_x shape: {}'.format(val_x.shape))\n",
    "print('val_y shape: {}'.format(val_y.shape))\n",
    "print('test_x shape: {}'.format(test_x.shape))"
   ]
  },
  {
   "cell_type": "code",
   "execution_count": 117,
   "metadata": {},
   "outputs": [],
   "source": [
    "import pandas as pd"
   ]
  },
  {
   "cell_type": "code",
   "execution_count": 118,
   "metadata": {},
   "outputs": [
    {
     "data": {
      "text/html": [
       "<div>\n",
       "<style scoped>\n",
       "    .dataframe tbody tr th:only-of-type {\n",
       "        vertical-align: middle;\n",
       "    }\n",
       "\n",
       "    .dataframe tbody tr th {\n",
       "        vertical-align: top;\n",
       "    }\n",
       "\n",
       "    .dataframe thead th {\n",
       "        text-align: right;\n",
       "    }\n",
       "</style>\n",
       "<table border=\"1\" class=\"dataframe\">\n",
       "  <thead>\n",
       "    <tr style=\"text-align: right;\">\n",
       "      <th></th>\n",
       "      <th>0</th>\n",
       "    </tr>\n",
       "  </thead>\n",
       "  <tbody>\n",
       "    <tr>\n",
       "      <th>0</th>\n",
       "      <td>CTAGCTGAGCTACTGAGCTACAGTTGACTGACCAGTCAGTGCTAGC...</td>\n",
       "    </tr>\n",
       "    <tr>\n",
       "      <th>1</th>\n",
       "      <td>TGACGCTAGCTAGCTAAGTCACGTTGACAGTCACGTACGTAGTCAC...</td>\n",
       "    </tr>\n",
       "    <tr>\n",
       "      <th>2</th>\n",
       "      <td>AGTCACGTAGTCAGTCGCTAGCTAACGTACGTCAGTGCTACAGTCA...</td>\n",
       "    </tr>\n",
       "    <tr>\n",
       "      <th>3</th>\n",
       "      <td>GTCAGTCACTGACAGTGTCACAGTCTGACTGACTGAGTCAGATCAG...</td>\n",
       "    </tr>\n",
       "    <tr>\n",
       "      <th>4</th>\n",
       "      <td>CAGTGATCCAGTCTAGGATCGATCCTAGCTAGGTCACTAGGATCCT...</td>\n",
       "    </tr>\n",
       "  </tbody>\n",
       "</table>\n",
       "</div>"
      ],
      "text/plain": [
       "                                                   0\n",
       "0  CTAGCTGAGCTACTGAGCTACAGTTGACTGACCAGTCAGTGCTAGC...\n",
       "1  TGACGCTAGCTAGCTAAGTCACGTTGACAGTCACGTACGTAGTCAC...\n",
       "2  AGTCACGTAGTCAGTCGCTAGCTAACGTACGTCAGTGCTACAGTCA...\n",
       "3  GTCAGTCACTGACAGTGTCACAGTCTGACTGACTGAGTCAGATCAG...\n",
       "4  CAGTGATCCAGTCTAGGATCGATCCTAGCTAGGTCACTAGGATCCT..."
      ]
     },
     "execution_count": 118,
     "metadata": {},
     "output_type": "execute_result"
    }
   ],
   "source": [
    "df=pd.DataFrame(train_x)\n",
    "df.head()"
   ]
  },
  {
   "cell_type": "code",
   "execution_count": 119,
   "metadata": {},
   "outputs": [
    {
     "data": {
      "text/plain": [
       "array([2, 0, 0, 4, 3, 3, 3, 0, 4, 2, 3, 2, 4, 3, 2, 3, 4, 0, 2, 0, 2, 0,\n",
       "       3, 1, 4, 0, 2, 2, 0, 0, 2, 1, 4, 0, 3, 0, 1, 1, 3, 4, 3, 3, 2, 3,\n",
       "       4, 1, 0, 2, 0, 2, 4, 2, 4, 4, 1, 0, 2, 3, 2, 2, 1, 0, 4, 4, 4, 0,\n",
       "       0, 2, 3, 3, 2, 2, 3, 0, 3, 2, 3, 1, 3, 4, 1, 4, 1, 4, 0, 2, 1, 4,\n",
       "       0, 1, 1, 1, 1, 4, 2, 4, 4, 3, 0, 0, 0, 0, 3, 2, 3, 2, 1, 0, 1, 3,\n",
       "       2, 2, 1, 2, 4, 1, 2, 1, 4, 3, 4, 1, 4, 0, 4, 0, 3, 0, 1, 2, 3, 1,\n",
       "       0, 0, 1, 0, 2, 4, 4, 2, 1, 2, 0, 0, 2, 3, 4, 4, 4, 4, 3, 2, 0, 0,\n",
       "       0, 4, 4, 4, 2, 1, 1, 0, 2, 1, 4, 4, 1, 0, 4, 0, 4, 4, 1, 3, 3, 0,\n",
       "       0, 1, 0, 2, 0, 0, 3, 0, 3, 3, 0, 4, 2, 2, 4, 4, 0, 2, 4, 1, 3, 2,\n",
       "       0, 4, 1, 2, 4, 3, 2, 2, 4, 0, 1, 2, 4, 1, 4, 1, 1, 2, 2, 2, 1, 1,\n",
       "       0, 2, 3, 1, 4, 0, 4, 2, 0, 2, 0, 1, 2, 3, 2, 3, 0, 3, 1, 3, 0, 2,\n",
       "       4, 3, 0, 1, 4, 4, 1, 2, 3, 0, 4, 3, 0, 4, 1, 2, 4, 4, 2, 2, 4, 3,\n",
       "       3, 1, 3, 1, 0, 1, 3, 3, 4, 2, 1, 3, 4, 0, 2, 0, 3, 0, 3, 0, 0, 2,\n",
       "       1, 3, 2, 2, 4, 1, 4, 0, 1, 1, 0, 2, 3, 1, 3, 4, 0, 0, 4, 3, 3, 1,\n",
       "       1, 1, 1, 3, 1, 3, 1, 2, 1, 1, 1, 1, 0, 2, 3, 4, 1, 3, 3, 0, 1, 1,\n",
       "       2, 1, 0, 0, 3, 4, 4, 3, 3, 2, 2, 4, 3, 4, 3, 3, 2, 3, 0, 1, 2, 3,\n",
       "       3, 2, 2, 1, 0, 1, 2, 1, 2, 3, 0, 3, 0, 1, 1, 4, 2, 2, 4, 0, 0, 2,\n",
       "       1, 2, 3, 1, 3, 4, 1, 3, 4, 3, 1, 3, 0, 1, 4, 3, 4, 3, 3, 1, 2, 4,\n",
       "       4, 4, 4, 0])"
      ]
     },
     "execution_count": 119,
     "metadata": {},
     "output_type": "execute_result"
    }
   ],
   "source": [
    "train_y"
   ]
  },
  {
   "cell_type": "code",
   "execution_count": 120,
   "metadata": {},
   "outputs": [],
   "source": [
    "vocab=['A', 'C', 'G', 'T']\n",
    "def char_to_int(data,vocab):\n",
    "    # Creating a mapping from unique characters to indices\n",
    "    char2idx = {u:i for i, u in enumerate(vocab)}\n",
    "    text_as_int=[]\n",
    "    for text in data:\n",
    "        text_as_int.append(np.array([char2idx[c] for c in text]))\n",
    "    return np.array(text_as_int)\n",
    "\n",
    "# Create a mapping from indices to characters\n",
    "idx2char = np.array(vocab)"
   ]
  },
  {
   "cell_type": "code",
   "execution_count": 121,
   "metadata": {},
   "outputs": [],
   "source": [
    "def one_hot_encode(arr, n_labels=4,max_sequence_len=2000):\n",
    "    encoded=[]\n",
    "    eye = np.eye(n_labels)\n",
    "    for code in arr:\n",
    "        encoded.append(np.vstack([\n",
    "                np.array([eye[c] for c in code]),\n",
    "                np.zeros((max_sequence_len - len(code), n_labels))\n",
    "            ]\n",
    "            ))\n",
    "\n",
    "    return np.array(encoded).swapaxes(1,2)"
   ]
  },
  {
   "cell_type": "code",
   "execution_count": 122,
   "metadata": {},
   "outputs": [],
   "source": [
    "text_as_int=char_to_int(train_x,vocab)"
   ]
  },
  {
   "cell_type": "code",
   "execution_count": 123,
   "metadata": {},
   "outputs": [
    {
     "data": {
      "text/plain": [
       "(400, 400)"
      ]
     },
     "execution_count": 123,
     "metadata": {},
     "output_type": "execute_result"
    }
   ],
   "source": [
    "text_as_int.shape"
   ]
  },
  {
   "cell_type": "code",
   "execution_count": 124,
   "metadata": {},
   "outputs": [],
   "source": [
    "try:\n",
    "    text_as_int=char_to_int(train_x,vocab)\n",
    "    X_train = one_hot_encode(text_as_int)\n",
    "    y_train = np.eye(5)[train_y]\n",
    "    \n",
    "    text_as_int=char_to_int(val_x,vocab)\n",
    "    X_val = one_hot_encode(text_as_int)\n",
    "    y_val = np.eye(5)[val_y]\n",
    "    \n",
    "    text_as_int=char_to_int(test_x,vocab)\n",
    "    X_test = one_hot_encode(text_as_int)\n",
    "\n",
    "    del train_x, val_x, test_x\n",
    "except Exception as e:\n",
    "    print(e)\n",
    "    pass\n",
    "    # step already done"
   ]
  },
  {
   "cell_type": "code",
   "execution_count": 125,
   "metadata": {},
   "outputs": [
    {
     "data": {
      "text/plain": [
       "(400, 4, 2000)"
      ]
     },
     "execution_count": 125,
     "metadata": {},
     "output_type": "execute_result"
    }
   ],
   "source": [
    "X_train.shape"
   ]
  },
  {
   "cell_type": "code",
   "execution_count": 126,
   "metadata": {},
   "outputs": [
    {
     "data": {
      "text/plain": [
       "dtype('float64')"
      ]
     },
     "execution_count": 126,
     "metadata": {},
     "output_type": "execute_result"
    }
   ],
   "source": []
  },
  {
   "cell_type": "code",
   "execution_count": 166,
   "metadata": {},
   "outputs": [],
   "source": [
    "# summarize the data\n",
    "inputs = torch.tensor(X_train).float()\n",
    "targets = torch.tensor(train_y).float()\n",
    "targets = targets.type(torch.LongTensor)\n",
    "# Define dataset\n",
    "train_ds = TensorDataset(inputs, targets)\n",
    "\n",
    "batch_size = 16\n",
    "train_loader = DataLoader(train_ds, batch_size=batch_size, shuffle=True)\n",
    "\n",
    "y_test=val_y\n",
    "\n",
    "inputs = torch.tensor(X_val).float()\n",
    "targets = torch.tensor(y_test).float()\n",
    "targets = targets.type(torch.LongTensor)\n",
    "# Define dataset\n",
    "test_ds = TensorDataset(inputs, targets)\n",
    "test_loader = DataLoader(test_ds, batch_size=batch_size, shuffle=False)"
   ]
  },
  {
   "cell_type": "code",
   "execution_count": 188,
   "metadata": {},
   "outputs": [],
   "source": [
    "def plot_loss(epochs,train_losses,test_losses,model_name):\n",
    "  plt.rcParams['figure.figsize'] = [10, 5]\n",
    "  plt.rcParams['figure.dpi'] = 100\n",
    "  plt.plot(range(epochs),train_losses, label='train loss')\n",
    "  plt.plot(range(epochs),test_losses,label='test loss')\n",
    "  plt.title(model_name)\n",
    "  plt.legend()\n",
    "  plt.show()\n",
    "def plot_acc(epochs,train_losses,test_losses,model_name):\n",
    "  plt.rcParams['figure.figsize'] = [10, 5]\n",
    "  plt.rcParams['figure.dpi'] = 100\n",
    "  plt.plot(range(epochs),train_losses, label='train acc')\n",
    "  plt.plot(range(epochs),test_losses,label='test acc')\n",
    "  plt.title(model_name)\n",
    "  plt.legend()\n",
    "  plt.show()"
   ]
  },
  {
   "cell_type": "code",
   "execution_count": 184,
   "metadata": {},
   "outputs": [],
   "source": [
    "def train(\n",
    "    model: nn.Module, \n",
    "    optimizer: optim.Optimizer, \n",
    "    data: Union[DataLoader, Tuple[DataLoader]], \n",
    "    max_epochs: int, \n",
    "    cuda=False):\n",
    "  \n",
    "  use_test = False\n",
    "  if isinstance(data, DataLoader):\n",
    "    train_loader = data\n",
    "  elif isinstance(data, tuple):\n",
    "    if len(data) == 2:\n",
    "      train_loader, test_loader = data\n",
    "      if not isinstance(train_loader, DataLoader):\n",
    "        raise TypeError(f'Expected 1st entry of type DataLoader, but got {type(train_loader)}!')\n",
    "      if not isinstance(test_loader, DataLoader):\n",
    "        raise TypeError(f'Expected 2nd entry of type DataLoader, but got {type(test_loader)}!')\n",
    "      use_test = True\n",
    "    else:\n",
    "      raise ValueError(f'Expected tuple of length 2, but got {len(data)}!')\n",
    "  \n",
    "  \n",
    "  criterion = nn.CrossEntropyLoss()\n",
    "  model.train()\n",
    "  train_losses = []\n",
    "  test_losses=[]\n",
    "  train_acc=[]\n",
    "  test_acc=[]\n",
    "  batch_total = len(train_loader)\n",
    "  for epoch in range(max_epochs):\n",
    "    samples_total = 0\n",
    "    samples_correct = 0\n",
    "    losses=[]\n",
    "    t_losses=[]\n",
    "    for batch_idx, batch in enumerate(train_loader):\n",
    "      x, y = batch\n",
    "      if cuda:\n",
    "        x, y = x.cuda(), y.cuda()\n",
    "      # Clear gradients w.r.t. parameters\n",
    "      optimizer.zero_grad()\n",
    "      output = model(x)\n",
    "      loss = criterion(output, y)\n",
    "      loss.backward()\n",
    "      optimizer.step()\n",
    "      \n",
    "      yhat = torch.argmax(output, dim=1)\n",
    "\n",
    "      samples_total += len(y)\n",
    "      samples_correct += torch.sum(yhat == y)\n",
    "      losses.append(loss.item())\n",
    "\n",
    "\n",
    "\n",
    "    acc = float(samples_correct) / float(samples_total)\n",
    "    train_acc.append(acc)\n",
    "    train_losses.append(mean(losses))\n",
    "    if use_test:\n",
    "      model.eval()\n",
    "      samples_total = 0\n",
    "      samples_correct = 0\n",
    "      for test_x, test_y in test_loader:\n",
    "        if cuda:\n",
    "          test_x, test_y = test_x.cuda(), test_y.cuda()\n",
    "        test_output = model(test_x)\n",
    "        test_yhat = torch.argmax(test_output, dim=1)\n",
    "        loss = criterion(test_output, test_y)\n",
    "        samples_total += len(test_y)\n",
    "        samples_correct += torch.sum(test_yhat == test_y)\n",
    "        t_losses.append(loss.item())\n",
    "      t_acc = float(samples_correct) / float(samples_total)\n",
    "      test_acc.append(t_acc)\n",
    "      test_losses.append(mean(t_losses))\n",
    "      model.train()\n",
    "\n",
    "      sys.stdout.write(f'\\rEpoch: {epoch}/{max_epochs} Loss: {mean(losses):.2f} Acc: {acc:.2%} Test loss: {mean(test_losses):.2f} Test acc: {t_acc:.2%}')\n",
    "    else:\n",
    "      sys.stdout.write(f'\\rEpoch: {epoch}/{max_epochs} Loss: {mean(losses):.6f} Acc: {acc:.2%}')\n",
    "\n",
    "  return train_losses, test_losses,train_acc,test_acc"
   ]
  },
  {
   "cell_type": "code",
   "execution_count": 170,
   "metadata": {},
   "outputs": [],
   "source": [
    "class Model(nn.Module):\n",
    "    def __init__(self, input_size, output_size, hidden_dim, n_layers):\n",
    "        super(Model, self).__init__()\n",
    "\n",
    "        # Defining some parameters\n",
    "        self.hidden_dim = hidden_dim\n",
    "        self.n_layers = n_layers\n",
    "\n",
    "        #Defining the layers\n",
    "        # RNN Layer\n",
    "        self.rnn = nn.RNN(input_size, hidden_dim, n_layers, batch_first=True)   \n",
    "        # Fully connected layer\n",
    "        self.fc1 = nn.Linear(hidden_dim*4, 75)\n",
    "        self.fc2 = nn.Linear(75, output_size)\n",
    "    \n",
    "    def forward(self, x):\n",
    "        \n",
    "        batch_size = x.size(0)\n",
    "\n",
    "        # Initializing hidden state for first input using method defined below\n",
    "        hidden = self.init_hidden(batch_size)\n",
    "\n",
    "        # Passing in the input and hidden state into the model and obtaining outputs\n",
    "        out, hidden = self.rnn(x, hidden)\n",
    "        \n",
    "        # Reshaping the outputs such that it can be fit into the fully connected layer\n",
    "        out = out.contiguous().view(batch_size,-1)\n",
    "        out = self.fc1(out)\n",
    "        out = self.fc2(out)\n",
    "        return out\n",
    "    \n",
    "    def init_hidden(self, batch_size):\n",
    "        # This method generates the first hidden state of zeros which we'll use in the forward pass\n",
    "        # We'll send the tensor holding the hidden state to the device we specified earlier as well\n",
    "        hidden = torch.zeros(self.n_layers, batch_size, self.hidden_dim)\n",
    "        return hidden"
   ]
  },
  {
   "cell_type": "code",
   "execution_count": 193,
   "metadata": {},
   "outputs": [
    {
     "name": "stdout",
     "output_type": "stream",
     "text": [
      "Epoch: 99/100 Loss: 0.00 Acc: 100.00% Test loss: 0.12 Test acc: 96.00%"
     ]
    }
   ],
   "source": [
    "\n",
    "model = Model(input_size=2000, output_size=5, hidden_dim=40, n_layers=3)\n",
    "optimizer = optim.Adam(model.parameters(), lr=1e-3)\n",
    "train_losses, test_losses,train_acc,test_acc = train(model, optimizer, (train_loader, test_loader), max_epochs=100)"
   ]
  },
  {
   "cell_type": "code",
   "execution_count": 195,
   "metadata": {},
   "outputs": [
    {
     "data": {
      "image/png": "[encoded data removed]",
      "text/plain": [
       "<Figure size 1000x500 with 1 Axes>"
      ]
     },
     "metadata": {},
     "output_type": "display_data"
    },
    {
     "data": {
      "image/png": "[encoded data removed]",
      "text/plain": [
       "<Figure size 1000x500 with 1 Axes>"
      ]
     },
     "metadata": {},
     "output_type": "display_data"
    }
   ],
   "source": [
    "plot_loss(100,train_losses,test_losses,'RNN')\n",
    "plot_acc(100,train_acc,test_acc,'RNN')"
   ]
  },
  {
   "cell_type": "code",
   "execution_count": 196,
   "metadata": {},
   "outputs": [],
   "source": [
    "class LSTM_Model(nn.Module):\n",
    "    def __init__(self, input_size, output_size, hidden_dim, n_layers):\n",
    "        super(LSTM_Model, self).__init__()\n",
    "\n",
    "        # Defining some parameters\n",
    "        self.hidden_dim = hidden_dim\n",
    "        self.n_layers = n_layers\n",
    "\n",
    "        #Defining the layers\n",
    "        # RNN Layer\n",
    "        self.lstm = nn.LSTM(input_size, hidden_dim, n_layers, batch_first=True, bidirectional=True)   \n",
    "        # Fully connected layer\n",
    "        self.fc1 = nn.Linear(hidden_dim*4*2, 75)\n",
    "        self.fc2 = nn.Linear(75, output_size)\n",
    "    \n",
    "    def forward(self, x):\n",
    "        batch_size, seq_len, _ = x.size()\n",
    "        # Initialize hidden state with zeros\n",
    "        h0 = torch.zeros(self.n_layers*2, x.size(0), self.hidden_dim).requires_grad_()\n",
    "\n",
    "        # Initialize cell state\n",
    "        c0 = torch.zeros(self.n_layers*2, x.size(0), self.hidden_dim).requires_grad_()\n",
    "\n",
    "        # We need to detach as we are doing truncated backpropagation through time (BPTT)\n",
    "        # If we don't, we'll backprop all the way to the start even after going through another batch\n",
    "        out, (hn, cn) = self.lstm(x, (h0.detach(), c0.detach()))\n",
    "        \n",
    "        # Reshaping the outputs such that it can be fit into the fully connected layer\n",
    "        out = out.contiguous().view(batch_size,-1)\n",
    "        out = self.fc1(out)\n",
    "        out = self.fc2(out)\n",
    "        return out"
   ]
  },
  {
   "cell_type": "code",
   "execution_count": 197,
   "metadata": {},
   "outputs": [
    {
     "name": "stdout",
     "output_type": "stream",
     "text": [
      "Epoch: 99/100 Loss: 0.00 Acc: 100.00% Test loss: 0.03 Test acc: 100.00%"
     ]
    }
   ],
   "source": [
    "model = LSTM_Model(input_size=2000, output_size=5, hidden_dim=40, n_layers=1)\n",
    "optimizer = optim.Adam(model.parameters(), lr=1e-3)\n",
    "train_losses, test_losses,train_acc,test_acc = train(model, optimizer, (train_loader, test_loader), max_epochs=100)"
   ]
  },
  {
   "cell_type": "code",
   "execution_count": 199,
   "metadata": {},
   "outputs": [
    {
     "data": {
      "image/png": "[encoded data removed]",
      "text/plain": [
       "<Figure size 1000x500 with 1 Axes>"
      ]
     },
     "metadata": {},
     "output_type": "display_data"
    },
    {
     "data": {
      "image/png": "[encoded data removed]",
      "text/plain": [
       "<Figure size 1000x500 with 1 Axes>"
      ]
     },
     "metadata": {},
     "output_type": "display_data"
    }
   ],
   "source": [
    "plot_loss(100,train_losses,test_losses,'LSTM')\n",
    "plot_acc(100,train_acc,test_acc,'LSTM')"
   ]
  },
  {
   "cell_type": "code",
   "execution_count": null,
   "metadata": {},
   "outputs": [],
   "source": []
  }
 ],
 "metadata": {
  "kernelspec": {
   "display_name": "Python 3",
   "language": "python",
   "name": "python3"
  },
  "language_info": {
   "codemirror_mode": {
    "name": "ipython",
    "version": 3
   },
   "file_extension": ".py",
   "mimetype": "text/x-python",
   "name": "python",
   "nbconvert_exporter": "python",
   "pygments_lexer": "ipython3",
   "version": "3.8.10"
  }
 },
 "nbformat": 4,
 "nbformat_minor": 4
}
