{
 "cells": [
  {
   "cell_type": "code",
   "execution_count": 47,
   "metadata": {},
   "outputs": [],
   "source": [
    "import tensorflow as tf\n",
    "import matplotlib.pyplot as plt"
   ]
  },
  {
   "cell_type": "code",
   "execution_count": 48,
   "metadata": {},
   "outputs": [],
   "source": [
    "import numpy as np\n",
    "import matplotlib.pyplot as plt\n",
    "\n",
    "with np.load('/home/suresh/SoSe2021/Deep-Learning/sose21/Assignments/Assignment4/prediction-challenge-02-data.npz') as fh:\n",
    "    x_train = fh['x_train']\n",
    "    y_train = fh['y_train']\n",
    "    x_test = fh['x_test']\n",
    "    "
   ]
  },
  {
   "cell_type": "code",
   "execution_count": 49,
   "metadata": {},
   "outputs": [
    {
     "name": "stdout",
     "output_type": "stream",
     "text": [
      "(3000, 32, 32, 3) float32\n",
      "(3000,) float64\n",
      "(300, 32, 32, 3) float32\n"
     ]
    }
   ],
   "source": [
    "# TRAINING DATA: INPUT (x) AND OUTPUT (y)\n",
    "# 1. INDEX: IMAGE SERIAL NUMBER (6000)\n",
    "# 2/3. INDEX: PIXEL VALUE (32 x 32)\n",
    "# 4. INDEX: COLOR CHANNELS (3)\n",
    "print(x_train.shape, x_train.dtype)\n",
    "print(y_train.shape, y_train.dtype)\n",
    "\n",
    "# TEST DATA: INPUT (x) ONLY\n",
    "print(x_test.shape, x_test.dtype)"
   ]
  },
  {
   "cell_type": "code",
   "execution_count": 50,
   "metadata": {},
   "outputs": [],
   "source": [
    "X_train = x_train/ 255 \n",
    "X_val = x_test / 255 "
   ]
  },
  {
   "cell_type": "code",
   "execution_count": 51,
   "metadata": {},
   "outputs": [],
   "source": [
    "from sklearn.model_selection import train_test_split\n",
    "X_train,X_test,y_train,y_test=train_test_split(x_train,y_train,test_size=0.30,random_state=42)"
   ]
  },
  {
   "cell_type": "code",
   "execution_count": 52,
   "metadata": {},
   "outputs": [],
   "source": [
    "cifar10_model=tf.keras.models.Sequential()\n",
    "\n",
    "# First Layer\n",
    "cifar10_model.add(tf.keras.layers.Conv2D(filters=32,kernel_size=3,padding=\"same\", activation=\"relu\", input_shape=[32,32,3]))\n",
    "\n",
    "# Second Layer\n",
    "cifar10_model.add(tf.keras.layers.Conv2D(filters=32,kernel_size=3,padding=\"same\", activation=\"relu\"))\n",
    "\n",
    "# Max Pooling Layer\n",
    "cifar10_model.add(tf.keras.layers.MaxPool2D(pool_size=2,strides=2,padding='valid'))\n",
    "\n",
    "# Third Layer\n",
    "cifar10_model.add(tf.keras.layers.Conv2D(filters=64,kernel_size=3,padding=\"same\", activation=\"relu\"))\n",
    "\n",
    "# Fourth Layer\n",
    "cifar10_model.add(tf.keras.layers.Conv2D(filters=64,kernel_size=3,padding=\"same\", activation=\"relu\"))\n",
    "\n",
    "# Max Pooling Layer\n",
    "cifar10_model.add(tf.keras.layers.MaxPool2D(pool_size=2,strides=2,padding='valid'))\n",
    "\n",
    "# Flattening Layer\n",
    "cifar10_model.add(tf.keras.layers.Flatten())\n",
    "\n",
    "# Droput Layer\n",
    "cifar10_model.add(tf.keras.layers.Dropout(0.5,noise_shape=None,seed=None))\n",
    "\n",
    "# Adding the first fully connected layer\n",
    "cifar10_model.add(tf.keras.layers.Dense(units=128,activation='relu'))\n",
    "\n",
    "# Output Layer\n",
    "cifar10_model.add(tf.keras.layers.Dense(units=10,activation='softmax'))"
   ]
  },
  {
   "cell_type": "code",
   "execution_count": 53,
   "metadata": {},
   "outputs": [
    {
     "name": "stdout",
     "output_type": "stream",
     "text": [
      "Model: \"sequential_2\"\n",
      "_________________________________________________________________\n",
      "Layer (type)                 Output Shape              Param #   \n",
      "=================================================================\n",
      "conv2d_8 (Conv2D)            (None, 32, 32, 32)        896       \n",
      "_________________________________________________________________\n",
      "conv2d_9 (Conv2D)            (None, 32, 32, 32)        9248      \n",
      "_________________________________________________________________\n",
      "max_pooling2d_4 (MaxPooling2 (None, 16, 16, 32)        0         \n",
      "_________________________________________________________________\n",
      "conv2d_10 (Conv2D)           (None, 16, 16, 64)        18496     \n",
      "_________________________________________________________________\n",
      "conv2d_11 (Conv2D)           (None, 16, 16, 64)        36928     \n",
      "_________________________________________________________________\n",
      "max_pooling2d_5 (MaxPooling2 (None, 8, 8, 64)          0         \n",
      "_________________________________________________________________\n",
      "flatten_2 (Flatten)          (None, 4096)              0         \n",
      "_________________________________________________________________\n",
      "dropout_2 (Dropout)          (None, 4096)              0         \n",
      "_________________________________________________________________\n",
      "dense_4 (Dense)              (None, 128)               524416    \n",
      "_________________________________________________________________\n",
      "dense_5 (Dense)              (None, 10)                1290      \n",
      "=================================================================\n",
      "Total params: 591,274\n",
      "Trainable params: 591,274\n",
      "Non-trainable params: 0\n",
      "_________________________________________________________________\n"
     ]
    }
   ],
   "source": [
    "cifar10_model.summary()"
   ]
  },
  {
   "cell_type": "code",
   "execution_count": 54,
   "metadata": {},
   "outputs": [],
   "source": [
    "cifar10_model.compile(loss=\"sparse_categorical_crossentropy\", optimizer=\"Adam\", metrics=[\"sparse_categorical_accuracy\"])"
   ]
  },
  {
   "cell_type": "code",
   "execution_count": 55,
   "metadata": {},
   "outputs": [
    {
     "name": "stdout",
     "output_type": "stream",
     "text": [
      "Epoch 1/10\n",
      "66/66 [==============================] - 5s 63ms/step - loss: 1.1785 - sparse_categorical_accuracy: 0.3605 - val_loss: 1.0730 - val_sparse_categorical_accuracy: 0.4189\n",
      "Epoch 2/10\n",
      "66/66 [==============================] - 4s 61ms/step - loss: 1.0279 - sparse_categorical_accuracy: 0.4652 - val_loss: 0.9693 - val_sparse_categorical_accuracy: 0.5333\n",
      "Epoch 3/10\n",
      "66/66 [==============================] - 4s 61ms/step - loss: 0.9293 - sparse_categorical_accuracy: 0.5548 - val_loss: 0.9291 - val_sparse_categorical_accuracy: 0.5478\n",
      "Epoch 4/10\n",
      "66/66 [==============================] - 4s 61ms/step - loss: 0.8536 - sparse_categorical_accuracy: 0.6029 - val_loss: 0.8456 - val_sparse_categorical_accuracy: 0.5844\n",
      "Epoch 5/10\n",
      "66/66 [==============================] - 4s 63ms/step - loss: 0.8102 - sparse_categorical_accuracy: 0.6281 - val_loss: 0.8434 - val_sparse_categorical_accuracy: 0.5933\n",
      "Epoch 6/10\n",
      "66/66 [==============================] - 4s 62ms/step - loss: 0.7573 - sparse_categorical_accuracy: 0.6600 - val_loss: 0.7983 - val_sparse_categorical_accuracy: 0.6189\n",
      "Epoch 7/10\n",
      "66/66 [==============================] - 4s 66ms/step - loss: 0.7097 - sparse_categorical_accuracy: 0.6829 - val_loss: 0.7664 - val_sparse_categorical_accuracy: 0.6478\n",
      "Epoch 8/10\n",
      "66/66 [==============================] - 4s 62ms/step - loss: 0.6694 - sparse_categorical_accuracy: 0.7071 - val_loss: 0.7399 - val_sparse_categorical_accuracy: 0.6478\n",
      "Epoch 9/10\n",
      "66/66 [==============================] - 4s 62ms/step - loss: 0.6307 - sparse_categorical_accuracy: 0.7319 - val_loss: 0.7889 - val_sparse_categorical_accuracy: 0.6467\n",
      "Epoch 10/10\n",
      "66/66 [==============================] - 4s 62ms/step - loss: 0.5829 - sparse_categorical_accuracy: 0.7500 - val_loss: 0.7356 - val_sparse_categorical_accuracy: 0.6667\n"
     ]
    }
   ],
   "source": [
    "history = cifar10_model.fit(X_train,y_train,epochs=10,validation_data=(X_test, y_test))"
   ]
  },
  {
   "cell_type": "code",
   "execution_count": 56,
   "metadata": {},
   "outputs": [
    {
     "data": {
      "image/png": "[encoded data removed]",
      "text/plain": [
       "<Figure size 640x480 with 1 Axes>"
      ]
     },
     "metadata": {},
     "output_type": "display_data"
    }
   ],
   "source": [
    "from matplotlib import pyplot\n",
    "pyplot.plot(history.history['loss'], label='train')\n",
    "pyplot.plot(history.history['val_loss'], label='test')\n",
    "pyplot.legend()\n",
    "pyplot.show()"
   ]
  },
  {
   "cell_type": "code",
   "execution_count": 57,
   "metadata": {},
   "outputs": [
    {
     "name": "stdout",
     "output_type": "stream",
     "text": [
      "29/29 [==============================] - 0s 10ms/step - loss: 0.7356 - sparse_categorical_accuracy: 0.6667\n"
     ]
    }
   ],
   "source": [
    "test_loss, test_accuracy = cifar10_model.evaluate(X_test, y_test)"
   ]
  },
  {
   "cell_type": "code",
   "execution_count": 58,
   "metadata": {},
   "outputs": [
    {
     "name": "stdout",
     "output_type": "stream",
     "text": [
      "Test accuracy: 0.6666666865348816\n"
     ]
    }
   ],
   "source": [
    "print(\"Test accuracy: {}\".format(test_accuracy))"
   ]
  },
  {
   "cell_type": "code",
   "execution_count": 59,
   "metadata": {},
   "outputs": [],
   "source": [
    "y_pred = cifar10_model.predict(X_test)\n"
   ]
  },
  {
   "cell_type": "code",
   "execution_count": 60,
   "metadata": {},
   "outputs": [],
   "source": [
    "predictionmodel1 = [np.argmax(element) for element in y_pred]"
   ]
  },
  {
   "cell_type": "code",
   "execution_count": 61,
   "metadata": {},
   "outputs": [
    {
     "name": "stdout",
     "output_type": "stream",
     "text": [
      "Classification Report: \n",
      "               precision    recall  f1-score   support\n",
      "\n",
      "         0.0       0.64      0.51      0.57       319\n",
      "         1.0       0.59      0.68      0.63       295\n",
      "         2.0       0.78      0.83      0.80       286\n",
      "\n",
      "    accuracy                           0.67       900\n",
      "   macro avg       0.67      0.67      0.67       900\n",
      "weighted avg       0.67      0.67      0.66       900\n",
      "\n"
     ]
    }
   ],
   "source": [
    "from sklearn.metrics import confusion_matrix , classification_report\n",
    "print(\"Classification Report: \\n\", classification_report(y_test, predictionmodel1))"
   ]
  },
  {
   "cell_type": "code",
   "execution_count": 62,
   "metadata": {},
   "outputs": [],
   "source": [
    "y_pred2 = cifar10_model.predict(X_val)"
   ]
  },
  {
   "cell_type": "code",
   "execution_count": 63,
   "metadata": {},
   "outputs": [],
   "source": [
    "predictionmodel2 = [np.argmax(element) for element in y_pred2]"
   ]
  },
  {
   "cell_type": "code",
   "execution_count": 64,
   "metadata": {},
   "outputs": [],
   "source": [
    "prediction = np.array(predictionmodel2)"
   ]
  },
  {
   "cell_type": "code",
   "execution_count": 65,
   "metadata": {},
   "outputs": [
    {
     "data": {
      "text/plain": [
       "300"
      ]
     },
     "execution_count": 65,
     "metadata": {},
     "output_type": "execute_result"
    }
   ],
   "source": [
    "prediction.shape[0]"
   ]
  },
  {
   "cell_type": "code",
   "execution_count": 66,
   "metadata": {},
   "outputs": [],
   "source": [
    "assert prediction.ndim == 1\n",
    "assert prediction.shape[0] == 300\n",
    "\n",
    "# AND SAVE EXACTLY AS SHOWN BELOW\n",
    "np.save('prediction.npy', prediction.astype(int))"
   ]
  },
  {
   "cell_type": "code",
   "execution_count": 67,
   "metadata": {},
   "outputs": [],
   "source": [
    "def validate_prediction_format():\n",
    "    loaded = np.load('prediction.npy')\n",
    "    assert loaded.shape == (300, )\n",
    "    assert loaded.dtype == int\n",
    "    assert (loaded <= 2).all()\n",
    "    assert (loaded >= 0).all()\n",
    "validate_prediction_format()"
   ]
  }
 ],
 "metadata": {
  "kernelspec": {
   "display_name": "Python 3",
   "language": "python",
   "name": "python3"
  },
  "language_info": {
   "codemirror_mode": {
    "name": "ipython",
    "version": 3
   },
   "file_extension": ".py",
   "mimetype": "text/x-python",
   "name": "python",
   "nbconvert_exporter": "python",
   "pygments_lexer": "ipython3",
   "version": "3.8.10"
  }
 },
 "nbformat": 4,
 "nbformat_minor": 4
}
