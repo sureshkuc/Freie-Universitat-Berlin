{
  "nbformat": 4,
  "nbformat_minor": 0,
  "metadata": {
    "colab": {
      "name": "Spark.ipynb",
      "provenance": [],
      "collapsed_sections": []
    },
    "kernelspec": {
      "display_name": "Python 3",
      "language": "python",
      "name": "python3"
    },
    "language_info": {
      "codemirror_mode": {
        "name": "ipython",
        "version": 3
      },
      "file_extension": ".py",
      "mimetype": "text/x-python",
      "name": "python",
      "nbconvert_exporter": "python",
      "pygments_lexer": "ipython3",
      "version": "3.8.5"
    }
  },
  "cells": [
    {
      "cell_type": "code",
      "metadata": {
        "colab": {
          "base_uri": "https://localhost:8080/",
          "height": 244
        },
        "id": "OQLepxKci7Fx",
        "outputId": "257c6beb-8e0e-4587-94fb-5b35d9b2952d"
      },
      "source": [
        "import os\n",
        "\n",
        "# # Install java\n",
        "! apt-get install -y openjdk-8-jdk-headless -qq > /dev/null\n",
        "os.environ[\"JAVA_HOME\"] = \"/usr/lib/jvm/java-8-openjdk-amd64\"\n",
        "os.environ[\"PATH\"] = os.environ[\"JAVA_HOME\"] + \"/bin:\" + os.environ[\"PATH\"]\n",
        "! java -version\n",
        "\n",
        "# Install pyspark\n",
        "! pip install --ignore-installed pyspark==2.4.4"
      ],
      "execution_count": 449,
      "outputs": [
        {
          "output_type": "stream",
          "text": [
            "openjdk version \"1.8.0_275\"\n",
            "OpenJDK Runtime Environment (build 1.8.0_275-8u275-b01-0ubuntu1~18.04-b01)\n",
            "OpenJDK 64-Bit Server VM (build 25.275-b01, mixed mode)\n",
            "Processing /root/.cache/pip/wheels/ab/09/4d/0d184230058e654eb1b04467dbc1292f00eaa186544604b471/pyspark-2.4.4-py2.py3-none-any.whl\n",
            "Collecting py4j==0.10.7\n",
            "  Using cached https://files.pythonhosted.org/packages/e3/53/c737818eb9a7dc32a7cd4f1396e787bd94200c3997c72c1dbe028587bd76/py4j-0.10.7-py2.py3-none-any.whl\n",
            "Installing collected packages: py4j, pyspark\n",
            "Successfully installed py4j-0.10.7 pyspark-2.4.4\n"
          ],
          "name": "stdout"
        },
        {
          "output_type": "display_data",
          "data": {
            "application/vnd.colab-display-data+json": {
              "pip_warning": {
                "packages": [
                  "py4j",
                  "pyspark"
                ]
              }
            }
          },
          "metadata": {
            "tags": []
          }
        }
      ]
    },
    {
      "cell_type": "code",
      "metadata": {
        "colab": {
          "base_uri": "https://localhost:8080/"
        },
        "id": "ZyWnplygjAeD",
        "outputId": "59dd2ea5-f54b-4dd0-8eaa-8833c057b593"
      },
      "source": [
        "! java -version"
      ],
      "execution_count": 450,
      "outputs": [
        {
          "output_type": "stream",
          "text": [
            "openjdk version \"1.8.0_275\"\n",
            "OpenJDK Runtime Environment (build 1.8.0_275-8u275-b01-0ubuntu1~18.04-b01)\n",
            "OpenJDK 64-Bit Server VM (build 25.275-b01, mixed mode)\n"
          ],
          "name": "stdout"
        }
      ]
    },
    {
      "cell_type": "code",
      "metadata": {
        "id": "FQc7Q8gSjDVu"
      },
      "source": [
        "import sys\n",
        "import time\n",
        "\n",
        "#Spark ML and SQL\n",
        "from pyspark.ml import Pipeline, PipelineModel\n",
        "from pyspark.sql.functions import array_contains\n",
        "from pyspark.sql import SparkSession\n",
        "from pyspark.sql.types import StructType, StructField, IntegerType, StringType\n",
        "import numpy as np\n",
        "from pyspark.sql.functions import isnan, when, count, col"
      ],
      "execution_count": 451,
      "outputs": []
    },
    {
      "cell_type": "code",
      "metadata": {
        "id": "5JID4KVQlDs6"
      },
      "source": [
        "from pyspark.sql import SparkSession\n",
        "import pyspark.sql as sparksql\n",
        "spark = SparkSession.builder.appName('stroke').getOrCreate()\n",
        "# train = spark.read.csv('https://raw.githubusercontent.com/aman1002/McKinseyOnlineHackathon-Healthcare-/master/train.csv', inferSchema=True,header=True)"
      ],
      "execution_count": 452,
      "outputs": []
    },
    {
      "cell_type": "code",
      "metadata": {
        "colab": {
          "base_uri": "https://localhost:8080/",
          "height": 206
        },
        "id": "9AgZzn24l-uR",
        "outputId": "5d10303c-d1ba-41ab-c864-9dfdde2e2c90"
      },
      "source": [
        "import pandas as pd\n",
        "train = pd.read_csv(\"https://raw.githubusercontent.com/aman1002/McKinseyOnlineHackathon-Healthcare-/master/train.csv\")\n",
        "train['smoking_status'] = train['smoking_status'].fillna('No Info')\n",
        "train.head()"
      ],
      "execution_count": 453,
      "outputs": [
        {
          "output_type": "execute_result",
          "data": {
            "text/html": [
              "<div>\n",
              "<style scoped>\n",
              "    .dataframe tbody tr th:only-of-type {\n",
              "        vertical-align: middle;\n",
              "    }\n",
              "\n",
              "    .dataframe tbody tr th {\n",
              "        vertical-align: top;\n",
              "    }\n",
              "\n",
              "    .dataframe thead th {\n",
              "        text-align: right;\n",
              "    }\n",
              "</style>\n",
              "<table border=\"1\" class=\"dataframe\">\n",
              "  <thead>\n",
              "    <tr style=\"text-align: right;\">\n",
              "      <th></th>\n",
              "      <th>id</th>\n",
              "      <th>gender</th>\n",
              "      <th>age</th>\n",
              "      <th>hypertension</th>\n",
              "      <th>heart_disease</th>\n",
              "      <th>ever_married</th>\n",
              "      <th>work_type</th>\n",
              "      <th>Residence_type</th>\n",
              "      <th>avg_glucose_level</th>\n",
              "      <th>bmi</th>\n",
              "      <th>smoking_status</th>\n",
              "      <th>stroke</th>\n",
              "    </tr>\n",
              "  </thead>\n",
              "  <tbody>\n",
              "    <tr>\n",
              "      <th>0</th>\n",
              "      <td>30669</td>\n",
              "      <td>Male</td>\n",
              "      <td>3.0</td>\n",
              "      <td>0</td>\n",
              "      <td>0</td>\n",
              "      <td>No</td>\n",
              "      <td>children</td>\n",
              "      <td>Rural</td>\n",
              "      <td>95.12</td>\n",
              "      <td>18.0</td>\n",
              "      <td>No Info</td>\n",
              "      <td>0</td>\n",
              "    </tr>\n",
              "    <tr>\n",
              "      <th>1</th>\n",
              "      <td>30468</td>\n",
              "      <td>Male</td>\n",
              "      <td>58.0</td>\n",
              "      <td>1</td>\n",
              "      <td>0</td>\n",
              "      <td>Yes</td>\n",
              "      <td>Private</td>\n",
              "      <td>Urban</td>\n",
              "      <td>87.96</td>\n",
              "      <td>39.2</td>\n",
              "      <td>never smoked</td>\n",
              "      <td>0</td>\n",
              "    </tr>\n",
              "    <tr>\n",
              "      <th>2</th>\n",
              "      <td>16523</td>\n",
              "      <td>Female</td>\n",
              "      <td>8.0</td>\n",
              "      <td>0</td>\n",
              "      <td>0</td>\n",
              "      <td>No</td>\n",
              "      <td>Private</td>\n",
              "      <td>Urban</td>\n",
              "      <td>110.89</td>\n",
              "      <td>17.6</td>\n",
              "      <td>No Info</td>\n",
              "      <td>0</td>\n",
              "    </tr>\n",
              "    <tr>\n",
              "      <th>3</th>\n",
              "      <td>56543</td>\n",
              "      <td>Female</td>\n",
              "      <td>70.0</td>\n",
              "      <td>0</td>\n",
              "      <td>0</td>\n",
              "      <td>Yes</td>\n",
              "      <td>Private</td>\n",
              "      <td>Rural</td>\n",
              "      <td>69.04</td>\n",
              "      <td>35.9</td>\n",
              "      <td>formerly smoked</td>\n",
              "      <td>0</td>\n",
              "    </tr>\n",
              "    <tr>\n",
              "      <th>4</th>\n",
              "      <td>46136</td>\n",
              "      <td>Male</td>\n",
              "      <td>14.0</td>\n",
              "      <td>0</td>\n",
              "      <td>0</td>\n",
              "      <td>No</td>\n",
              "      <td>Never_worked</td>\n",
              "      <td>Rural</td>\n",
              "      <td>161.28</td>\n",
              "      <td>19.1</td>\n",
              "      <td>No Info</td>\n",
              "      <td>0</td>\n",
              "    </tr>\n",
              "  </tbody>\n",
              "</table>\n",
              "</div>"
            ],
            "text/plain": [
              "      id  gender   age  ...   bmi   smoking_status stroke\n",
              "0  30669    Male   3.0  ...  18.0          No Info      0\n",
              "1  30468    Male  58.0  ...  39.2     never smoked      0\n",
              "2  16523  Female   8.0  ...  17.6          No Info      0\n",
              "3  56543  Female  70.0  ...  35.9  formerly smoked      0\n",
              "4  46136    Male  14.0  ...  19.1          No Info      0\n",
              "\n",
              "[5 rows x 12 columns]"
            ]
          },
          "metadata": {
            "tags": []
          },
          "execution_count": 453
        }
      ]
    },
    {
      "cell_type": "code",
      "metadata": {
        "colab": {
          "base_uri": "https://localhost:8080/"
        },
        "id": "JyIjjQqB6K6W",
        "outputId": "681cd61c-3355-4a84-cd2c-fb3766ede610"
      },
      "source": [
        "train.dtypes"
      ],
      "execution_count": 454,
      "outputs": [
        {
          "output_type": "execute_result",
          "data": {
            "text/plain": [
              "id                     int64\n",
              "gender                object\n",
              "age                  float64\n",
              "hypertension           int64\n",
              "heart_disease          int64\n",
              "ever_married          object\n",
              "work_type             object\n",
              "Residence_type        object\n",
              "avg_glucose_level    float64\n",
              "bmi                  float64\n",
              "smoking_status        object\n",
              "stroke                 int64\n",
              "dtype: object"
            ]
          },
          "metadata": {
            "tags": []
          },
          "execution_count": 454
        }
      ]
    },
    {
      "cell_type": "code",
      "metadata": {
        "id": "fLQmpeUXGdgC"
      },
      "source": [
        "train['bmi'] = train['bmi'].fillna((train['bmi'].mean()))"
      ],
      "execution_count": 455,
      "outputs": []
    },
    {
      "cell_type": "code",
      "metadata": {
        "colab": {
          "base_uri": "https://localhost:8080/"
        },
        "id": "iTamW6L3l-xp",
        "outputId": "304de0e0-2465-40df-e3c4-737f9193308c"
      },
      "source": [
        "train = spark.createDataFrame(train)\n",
        "train.show()"
      ],
      "execution_count": 456,
      "outputs": [
        {
          "output_type": "stream",
          "text": [
            "+-----+------+----+------------+-------------+------------+-------------+--------------+-----------------+----+---------------+------+\n",
            "|   id|gender| age|hypertension|heart_disease|ever_married|    work_type|Residence_type|avg_glucose_level| bmi| smoking_status|stroke|\n",
            "+-----+------+----+------------+-------------+------------+-------------+--------------+-----------------+----+---------------+------+\n",
            "|30669|  Male| 3.0|           0|            0|          No|     children|         Rural|            95.12|18.0|        No Info|     0|\n",
            "|30468|  Male|58.0|           1|            0|         Yes|      Private|         Urban|            87.96|39.2|   never smoked|     0|\n",
            "|16523|Female| 8.0|           0|            0|          No|      Private|         Urban|           110.89|17.6|        No Info|     0|\n",
            "|56543|Female|70.0|           0|            0|         Yes|      Private|         Rural|            69.04|35.9|formerly smoked|     0|\n",
            "|46136|  Male|14.0|           0|            0|          No| Never_worked|         Rural|           161.28|19.1|        No Info|     0|\n",
            "|32257|Female|47.0|           0|            0|         Yes|      Private|         Urban|           210.95|50.1|        No Info|     0|\n",
            "|52800|Female|52.0|           0|            0|         Yes|      Private|         Urban|            77.59|17.7|formerly smoked|     0|\n",
            "|41413|Female|75.0|           0|            1|         Yes|Self-employed|         Rural|           243.53|27.0|   never smoked|     0|\n",
            "|15266|Female|32.0|           0|            0|         Yes|      Private|         Rural|            77.67|32.3|         smokes|     0|\n",
            "|28674|Female|74.0|           1|            0|         Yes|Self-employed|         Urban|           205.84|54.6|   never smoked|     0|\n",
            "|10460|Female|79.0|           0|            0|         Yes|     Govt_job|         Urban|            77.08|35.0|        No Info|     0|\n",
            "|64908|  Male|79.0|           0|            1|         Yes|      Private|         Urban|            57.08|22.0|formerly smoked|     0|\n",
            "|63884|Female|37.0|           0|            0|         Yes|      Private|         Rural|           162.96|39.4|   never smoked|     0|\n",
            "|37893|Female|37.0|           0|            0|         Yes|      Private|         Rural|             73.5|26.1|formerly smoked|     0|\n",
            "|67855|Female|40.0|           0|            0|         Yes|      Private|         Rural|            95.04|42.4|   never smoked|     0|\n",
            "|25774|  Male|35.0|           0|            0|          No|      Private|         Rural|            85.37|33.0|   never smoked|     0|\n",
            "|19584|Female|20.0|           0|            0|          No|      Private|         Urban|            84.62|19.7|         smokes|     0|\n",
            "|24447|Female|42.0|           0|            0|         Yes|      Private|         Rural|            82.67|22.5|   never smoked|     0|\n",
            "|49589|Female|44.0|           0|            0|         Yes|     Govt_job|         Urban|            57.33|24.6|         smokes|     0|\n",
            "|17986|Female|79.0|           0|            1|         Yes|Self-employed|         Urban|            67.84|25.2|         smokes|     0|\n",
            "+-----+------+----+------------+-------------+------------+-------------+--------------+-----------------+----+---------------+------+\n",
            "only showing top 20 rows\n",
            "\n"
          ],
          "name": "stdout"
        }
      ]
    },
    {
      "cell_type": "code",
      "metadata": {
        "id": "SLs6wGEptrgM",
        "colab": {
          "base_uri": "https://localhost:8080/"
        },
        "outputId": "480446cf-c67b-4764-a454-d2ab09bb7ae9"
      },
      "source": [
        "# fill in miss values for bmi \n",
        "# as this is numecial data , we will simple fill the missing values with mean\n",
        "from pyspark.sql.functions import mean\n",
        "mean = train.select(mean(train['bmi'])).collect()\n",
        "mean_bmi = mean[0][0]\n",
        "print(mean_bmi)\n",
        "train = train.fillna( { 'bmi':mean_bmi } )\n",
        "#test = test.fillna( { 'bmi':mean_bmi } )"
      ],
      "execution_count": 457,
      "outputs": [
        {
          "output_type": "stream",
          "text": [
            "28.605038390004683\n"
          ],
          "name": "stdout"
        }
      ]
    },
    {
      "cell_type": "code",
      "metadata": {
        "colab": {
          "base_uri": "https://localhost:8080/"
        },
        "id": "VyvuvbWV4PnY",
        "outputId": "acdb527e-4066-4b0b-99aa-7f37a51cb0ed"
      },
      "source": [
        "#to print the categories of columns\n",
        "print(train.select('gender').distinct().rdd.map(lambda r: r[0]).collect())\n",
        "print(train.select('ever_married').distinct().rdd.map(lambda r: r[0]).collect())\n",
        "print(train.select('work_type').distinct().rdd.map(lambda r: r[0]).collect())\n",
        "print(train.select('Residence_type').distinct().rdd.map(lambda r: r[0]).collect())\n",
        "print(train.select('smoking_status').distinct().rdd.map(lambda r: r[0]).collect())\n",
        "print(train.select('stroke').distinct().rdd.map(lambda r: r[0]).collect())\n"
      ],
      "execution_count": 458,
      "outputs": [
        {
          "output_type": "stream",
          "text": [
            "['Female', 'Other', 'Male']\n",
            "['No', 'Yes']\n",
            "['Never_worked', 'Self-employed', 'Private', 'children', 'Govt_job']\n",
            "['Urban', 'Rural']\n",
            "['smokes', 'No Info', 'never smoked', 'formerly smoked']\n",
            "[0, 1]\n"
          ],
          "name": "stdout"
        }
      ]
    },
    {
      "cell_type": "code",
      "metadata": {
        "colab": {
          "base_uri": "https://localhost:8080/"
        },
        "id": "WGodAPgNMB6I",
        "outputId": "3307a435-5b5a-4075-dfbe-aca025b29e84"
      },
      "source": [
        "train.dtypes"
      ],
      "execution_count": 459,
      "outputs": [
        {
          "output_type": "execute_result",
          "data": {
            "text/plain": [
              "[('id', 'bigint'),\n",
              " ('gender', 'string'),\n",
              " ('age', 'double'),\n",
              " ('hypertension', 'bigint'),\n",
              " ('heart_disease', 'bigint'),\n",
              " ('ever_married', 'string'),\n",
              " ('work_type', 'string'),\n",
              " ('Residence_type', 'string'),\n",
              " ('avg_glucose_level', 'double'),\n",
              " ('bmi', 'double'),\n",
              " ('smoking_status', 'string'),\n",
              " ('stroke', 'bigint')]"
            ]
          },
          "metadata": {
            "tags": []
          },
          "execution_count": 459
        }
      ]
    },
    {
      "cell_type": "code",
      "metadata": {
        "colab": {
          "base_uri": "https://localhost:8080/"
        },
        "id": "FvnzSe-47nSw",
        "outputId": "8370e977-f1c2-44d9-b14e-a8a3cc965019"
      },
      "source": [
        "\n",
        "\n",
        "train.select([count(when(isnan(c), c)).alias(c) for c in train.columns]).show()\n"
      ],
      "execution_count": 460,
      "outputs": [
        {
          "output_type": "stream",
          "text": [
            "+---+------+---+------------+-------------+------------+---------+--------------+-----------------+---+--------------+------+\n",
            "| id|gender|age|hypertension|heart_disease|ever_married|work_type|Residence_type|avg_glucose_level|bmi|smoking_status|stroke|\n",
            "+---+------+---+------------+-------------+------------+---------+--------------+-----------------+---+--------------+------+\n",
            "|  0|     0|  0|           0|            0|           0|        0|             0|                0|  0|             0|     0|\n",
            "+---+------+---+------------+-------------+------------+---------+--------------+-----------------+---+--------------+------+\n",
            "\n"
          ],
          "name": "stdout"
        }
      ]
    },
    {
      "cell_type": "code",
      "metadata": {
        "colab": {
          "base_uri": "https://localhost:8080/"
        },
        "id": "wS9tsagJt5pT",
        "outputId": "1921cdaf-6503-4559-d48a-e03fb3698219"
      },
      "source": [
        "\n",
        "test = pd.read_csv(\"https://raw.githubusercontent.com/aman1002/McKinseyOnlineHackathon-Healthcare-/master/test.csv\")\n",
        "test['smoking_status'] = test['smoking_status'].fillna('No Info')\n",
        "test = spark.createDataFrame(test)\n",
        "#test.na.fill('No Info', subset=['smoking_status'])\n",
        "test.show()"
      ],
      "execution_count": 461,
      "outputs": [
        {
          "output_type": "stream",
          "text": [
            "+-----+------+----+------------+-------------+------------+-------------+--------------+-----------------+----+---------------+\n",
            "|   id|gender| age|hypertension|heart_disease|ever_married|    work_type|Residence_type|avg_glucose_level| bmi| smoking_status|\n",
            "+-----+------+----+------------+-------------+------------+-------------+--------------+-----------------+----+---------------+\n",
            "|36306|  Male|80.0|           0|            0|         Yes|      Private|         Urban|            83.84|21.1|formerly smoked|\n",
            "|61829|Female|74.0|           0|            1|         Yes|Self-employed|         Rural|            179.5|26.0|formerly smoked|\n",
            "|14152|Female|14.0|           0|            0|          No|     children|         Rural|            95.16|21.2|        No Info|\n",
            "|12997|  Male|28.0|           0|            0|          No|      Private|         Urban|            94.76|23.4|        No Info|\n",
            "|40801|Female|63.0|           0|            0|         Yes|     Govt_job|         Rural|            83.57|27.6|   never smoked|\n",
            "| 9348|Female|66.0|           1|            0|         Yes|      Private|         Urban|           219.98|32.2|   never smoked|\n",
            "|51550|Female|49.0|           0|            0|         Yes|Self-employed|         Rural|            74.03|25.1|        No Info|\n",
            "|60512|  Male|46.0|           0|            0|         Yes|     Govt_job|         Urban|            120.8|32.5|   never smoked|\n",
            "|31309|Female|75.0|           0|            0|         Yes|Self-employed|         Rural|            78.71|28.0|   never smoked|\n",
            "|39199|  Male|75.0|           0|            0|         Yes|Self-employed|         Urban|             77.2|25.7|         smokes|\n",
            "|15160|Female|17.0|           0|            0|          No|      Private|         Rural|            78.16|21.9|        No Info|\n",
            "|21705|Female|10.0|           0|            0|          No|     children|         Urban|           107.23|19.4|        No Info|\n",
            "|19042|Female|47.0|           0|            0|         Yes|      Private|         Rural|             91.6|26.7|   never smoked|\n",
            "|12249|Female|42.0|           0|            0|         Yes|      Private|         Urban|            83.05|32.3|        No Info|\n",
            "|33104|Female|67.0|           0|            0|         Yes|     Govt_job|         Urban|            236.6|24.2|   never smoked|\n",
            "|55264|Female|52.0|           0|            0|          No|Self-employed|         Urban|           109.49|24.5|   never smoked|\n",
            "|29445|  Male|73.0|           0|            0|         Yes|Self-employed|         Rural|           109.66|40.0|        No Info|\n",
            "|49013|Female|19.0|           0|            0|          No|      Private|         Rural|            88.51|22.1|        No Info|\n",
            "|  276|  Male|15.0|           0|            0|          No|     children|         Rural|           101.36|22.3|        No Info|\n",
            "|47721|Female|37.0|           0|            0|         Yes|     Govt_job|         Urban|           165.44|36.1|formerly smoked|\n",
            "+-----+------+----+------------+-------------+------------+-------------+--------------+-----------------+----+---------------+\n",
            "only showing top 20 rows\n",
            "\n"
          ],
          "name": "stdout"
        }
      ]
    },
    {
      "cell_type": "code",
      "metadata": {
        "colab": {
          "base_uri": "https://localhost:8080/"
        },
        "id": "21HL0K1fFxGO",
        "outputId": "9372ed37-88ad-4781-bab7-f6988e45cf30"
      },
      "source": [
        "from pyspark.sql.functions import *\n",
        "from pyspark.sql.types import *\n",
        "a = [IntegerType(),StringType(),IntegerType(),IntegerType(),IntegerType(),\n",
        "     StringType(),StringType(),StringType(),FloatType(),\n",
        "     IntegerType(),StringType(),IntegerType()]\n",
        "print(len(a))\n",
        "print(len(train.columns))\n",
        "train = train.withColumn(\"id\", train[\"id\"].cast(IntegerType()))\n",
        "train = train.withColumn(\"gender\", train[\"gender\"].cast(StringType()))\n",
        "train = train.withColumn(\"age\", train[\"age\"].cast(IntegerType()))\n",
        "train = train.withColumn(\"hypertension\", train[\"hypertension\"].cast(IntegerType()))\n",
        "train = train.withColumn(\"heart_disease\", train[\"heart_disease\"].cast(IntegerType()))\n",
        "train = train.withColumn(\"ever_married\", train[\"ever_married\"].cast(StringType()))\n",
        "train = train.withColumn(\"work_type\", train[\"work_type\"].cast(StringType()))\n",
        "train = train.withColumn(\"Residence_type\", train[\"Residence_type\"].cast(StringType()))\n",
        "train = train.withColumn(\"avg_glucose_level\", train[\"avg_glucose_level\"].cast(FloatType()))\n",
        "train = train.withColumn(\"bmi\", train[\"bmi\"].cast(FloatType()))\n",
        "train = train.withColumn(\"smoking_status\", train[\"smoking_status\"].cast(StringType()))\n",
        "train = train.withColumn(\"stroke\", train[\"stroke\"].cast(IntegerType()))\n",
        "\n",
        "  # train = train.withColumn(i, train[i].cast(i))\n",
        "# train = train.withColumn(\"Plays\", train[\"Plays\"].cast(IntegerType()))"
      ],
      "execution_count": 462,
      "outputs": [
        {
          "output_type": "stream",
          "text": [
            "12\n",
            "12\n"
          ],
          "name": "stdout"
        }
      ]
    },
    {
      "cell_type": "code",
      "metadata": {
        "colab": {
          "base_uri": "https://localhost:8080/"
        },
        "id": "Du_Hdre5MoFy",
        "outputId": "fc7504cc-24d3-45ba-9408-893810a6d964"
      },
      "source": [
        "train.dtypes"
      ],
      "execution_count": 463,
      "outputs": [
        {
          "output_type": "execute_result",
          "data": {
            "text/plain": [
              "[('id', 'int'),\n",
              " ('gender', 'string'),\n",
              " ('age', 'int'),\n",
              " ('hypertension', 'int'),\n",
              " ('heart_disease', 'int'),\n",
              " ('ever_married', 'string'),\n",
              " ('work_type', 'string'),\n",
              " ('Residence_type', 'string'),\n",
              " ('avg_glucose_level', 'float'),\n",
              " ('bmi', 'float'),\n",
              " ('smoking_status', 'string'),\n",
              " ('stroke', 'int')]"
            ]
          },
          "metadata": {
            "tags": []
          },
          "execution_count": 463
        }
      ]
    },
    {
      "cell_type": "code",
      "metadata": {
        "id": "OZN8Z4DbIEMR"
      },
      "source": [
        "test = test.withColumn(\"id\", test[\"id\"].cast(IntegerType()))\n",
        "test = test.withColumn(\"gender\", test[\"gender\"].cast(StringType()))\n",
        "test = test.withColumn(\"age\", test[\"age\"].cast(IntegerType()))\n",
        "test = test.withColumn(\"hypertension\", test[\"hypertension\"].cast(IntegerType()))\n",
        "test = test.withColumn(\"heart_disease\", test[\"heart_disease\"].cast(IntegerType()))\n",
        "test = test.withColumn(\"ever_married\", test[\"ever_married\"].cast(StringType()))\n",
        "test = test.withColumn(\"work_type\", test[\"work_type\"].cast(StringType()))\n",
        "test = test.withColumn(\"Residence_type\", test[\"Residence_type\"].cast(StringType()))\n",
        "test = test.withColumn(\"avg_glucose_level\", test[\"avg_glucose_level\"].cast(FloatType()))\n",
        "test = test.withColumn(\"bmi\", test[\"bmi\"].cast(FloatType()))\n",
        "test = test.withColumn(\"smoking_status\", test[\"smoking_status\"].cast(StringType()))"
      ],
      "execution_count": 464,
      "outputs": []
    },
    {
      "cell_type": "code",
      "metadata": {
        "colab": {
          "base_uri": "https://localhost:8080/"
        },
        "id": "TZvx9IRel-1G",
        "outputId": "1bd4656c-4a0f-4d57-b0fb-5dbc9419832f"
      },
      "source": [
        "print(\"The number of row and columns: \")\n",
        "print(str(train.count())+\",\"+str(len(train.columns)))\n",
        " "
      ],
      "execution_count": 465,
      "outputs": [
        {
          "output_type": "stream",
          "text": [
            "The number of row and columns: \n",
            "43400,12\n"
          ],
          "name": "stdout"
        }
      ]
    },
    {
      "cell_type": "code",
      "metadata": {
        "colab": {
          "base_uri": "https://localhost:8080/"
        },
        "id": "QTqEyKzylDzI",
        "outputId": "9fa4b963-e7c4-44b4-8bad-fd792f6b3c47"
      },
      "source": [
        "train=train.dropDuplicates();\n",
        "totalRow=train.count()\n",
        "print(\"The number of row and columns after removing duplicate rows: \")\n",
        "print(str(totalRow)+\",\"+str(len(train.columns)))"
      ],
      "execution_count": 466,
      "outputs": [
        {
          "output_type": "stream",
          "text": [
            "The number of row and columns after removing duplicate rows: \n",
            "43400,12\n"
          ],
          "name": "stdout"
        }
      ]
    },
    {
      "cell_type": "code",
      "metadata": {
        "colab": {
          "base_uri": "https://localhost:8080/"
        },
        "id": "8TRBtevUoEbp",
        "outputId": "9437e6a8-00e1-47e5-c337-255a3400e3e7"
      },
      "source": [
        "print(\"nThe type of each column variable\")\n",
        "train.printSchema()"
      ],
      "execution_count": 467,
      "outputs": [
        {
          "output_type": "stream",
          "text": [
            "nThe type of each column variable\n",
            "root\n",
            " |-- id: integer (nullable = true)\n",
            " |-- gender: string (nullable = true)\n",
            " |-- age: integer (nullable = true)\n",
            " |-- hypertension: integer (nullable = true)\n",
            " |-- heart_disease: integer (nullable = true)\n",
            " |-- ever_married: string (nullable = true)\n",
            " |-- work_type: string (nullable = true)\n",
            " |-- Residence_type: string (nullable = true)\n",
            " |-- avg_glucose_level: float (nullable = true)\n",
            " |-- bmi: float (nullable = false)\n",
            " |-- smoking_status: string (nullable = true)\n",
            " |-- stroke: integer (nullable = true)\n",
            "\n"
          ],
          "name": "stdout"
        }
      ]
    },
    {
      "cell_type": "code",
      "metadata": {
        "colab": {
          "base_uri": "https://localhost:8080/"
        },
        "id": "MYGuP0keoEgA",
        "outputId": "3f1542a7-6af5-4eca-89b8-0b83ad52bab5"
      },
      "source": [
        "print(\"Data Classes :\")\n",
        "train.groupBy('stroke').count().show()"
      ],
      "execution_count": 468,
      "outputs": [
        {
          "output_type": "stream",
          "text": [
            "Data Classes :\n",
            "+------+-----+\n",
            "|stroke|count|\n",
            "+------+-----+\n",
            "|     1|  783|\n",
            "|     0|42617|\n",
            "+------+-----+\n",
            "\n"
          ],
          "name": "stdout"
        }
      ]
    },
    {
      "cell_type": "code",
      "metadata": {
        "colab": {
          "base_uri": "https://localhost:8080/"
        },
        "id": "a9pbzifLoElI",
        "outputId": "e1b99a2f-6932-4f97-aa21-eeafc4af67ed"
      },
      "source": [
        "train.stat.crosstab(\"gender\", \"stroke\").show()"
      ],
      "execution_count": 469,
      "outputs": [
        {
          "output_type": "stream",
          "text": [
            "+-------------+-----+---+\n",
            "|gender_stroke|    0|  1|\n",
            "+-------------+-----+---+\n",
            "|        Other|   11|  0|\n",
            "|         Male|17372|352|\n",
            "|       Female|25234|431|\n",
            "+-------------+-----+---+\n",
            "\n"
          ],
          "name": "stdout"
        }
      ]
    },
    {
      "cell_type": "code",
      "metadata": {
        "colab": {
          "base_uri": "https://localhost:8080/"
        },
        "id": "UYB2vnqwwzdX",
        "outputId": "a925ede6-df7b-4d5c-9773-eda92917e14a"
      },
      "source": [
        "train.stat.crosstab(\"smoking_status\", \"stroke\").show()"
      ],
      "execution_count": 470,
      "outputs": [
        {
          "output_type": "stream",
          "text": [
            "+---------------------+-----+---+\n",
            "|smoking_status_stroke|    0|  1|\n",
            "+---------------------+-----+---+\n",
            "|      formerly smoked| 7272|221|\n",
            "|              No Info|13147|145|\n",
            "|               smokes| 6429|133|\n",
            "|         never smoked|15769|284|\n",
            "+---------------------+-----+---+\n",
            "\n"
          ],
          "name": "stdout"
        }
      ]
    },
    {
      "cell_type": "code",
      "metadata": {
        "colab": {
          "base_uri": "https://localhost:8080/"
        },
        "id": "P0ahswg8oEpE",
        "outputId": "dd6f7fbb-585f-46e1-977a-8f3351f2309d"
      },
      "source": [
        "train.describe().show()"
      ],
      "execution_count": 471,
      "outputs": [
        {
          "output_type": "stream",
          "text": [
            "+-------+-----------------+------+------------------+-------------------+-------------------+------------+---------+--------------+------------------+-----------------+--------------+-------------------+\n",
            "|summary|               id|gender|               age|       hypertension|      heart_disease|ever_married|work_type|Residence_type| avg_glucose_level|              bmi|smoking_status|             stroke|\n",
            "+-------+-----------------+------+------------------+-------------------+-------------------+------------+---------+--------------+------------------+-----------------+--------------+-------------------+\n",
            "|  count|            43400| 43400|             43400|              43400|              43400|       43400|    43400|         43400|             43400|            43400|         43400|              43400|\n",
            "|   mean|36326.14235023042|  null| 42.20509216589862|0.09357142857142857|0.04751152073732719|        null|     null|          null|104.48274998273718|28.60503836335125|          null|0.01804147465437788|\n",
            "| stddev|21072.13487918281|  null|22.543158642510683| 0.2912349063093972|0.21273274050209703|        null|     null|          null| 43.11175095897281|7.638023367240188|          null|0.13310292280179176|\n",
            "|    min|                1|Female|                 0|                  0|                  0|          No| Govt_job|         Rural|              55.0|             10.1|       No Info|                  0|\n",
            "|    max|            72943| Other|                82|                  1|                  1|         Yes| children|         Urban|            291.05|             97.6|        smokes|                  1|\n",
            "+-------+-----------------+------+------------------+-------------------+-------------------+------------+---------+--------------+------------------+-----------------+--------------+-------------------+\n",
            "\n"
          ],
          "name": "stdout"
        }
      ]
    },
    {
      "cell_type": "code",
      "metadata": {
        "colab": {
          "base_uri": "https://localhost:8080/"
        },
        "id": "N-9qgLXZ0iAl",
        "outputId": "8cabc407-aae5-4b8e-ca62-91a86384badc"
      },
      "source": [
        "#correlation between age and bmi column\n",
        "print('correlation among age and bmi', train.stat.corr(\"age\",\"bmi\"))\n",
        "print('correlation among age and hypertension',  train.stat.corr(\"age\",\"hypertension\"))\n",
        "print('correlation among age and heart_disease',  train.stat.corr(\"age\",\"heart_disease\"))\n",
        "print('correlation among age and avg_glucose_level',  train.stat.corr(\"age\",\"avg_glucose_level\"))\n",
        "print('correlation among bmi and heart_disease',  train.stat.corr(\"bmi\",\"heart_disease\"))\n",
        "print('correlation among bmi and hypertension',  train.stat.corr(\"bmi\",\"hypertension\"))\n",
        "print('correlation among bmi and avg_glucose_level',  train.stat.corr(\"bmi\",\"avg_glucose_level\"))\n",
        "print('correlation among hypertension and avg_glucose_level',  train.stat.corr(\"hypertension\",\"avg_glucose_level\"))\n",
        "print('correlation among   heart_disease and avg_glucose_level',  train.stat.corr(\"heart_disease\",\"avg_glucose_level\"))\n",
        "print('correlation among   heart_disease and hypertension',  train.stat.corr(\"heart_disease\",\"hypertension\"))"
      ],
      "execution_count": 472,
      "outputs": [
        {
          "output_type": "stream",
          "text": [
            "correlation among age and bmi 0.3526219495747763\n",
            "correlation among age and hypertension 0.2720674109317827\n",
            "correlation among age and heart_disease 0.2500543031637834\n",
            "correlation among age and avg_glucose_level 0.23753865638184568\n",
            "correlation among bmi and heart_disease 0.05413275950913033\n",
            "correlation among bmi and hypertension 0.15377892038810498\n",
            "correlation among bmi and avg_glucose_level 0.184198583300623\n",
            "correlation among hypertension and avg_glucose_level 0.1602112855742868\n",
            "correlation among   heart_disease and avg_glucose_level 0.14693806802039466\n",
            "correlation among   heart_disease and hypertension 0.11977702589069274\n"
          ],
          "name": "stdout"
        }
      ]
    },
    {
      "cell_type": "code",
      "metadata": {
        "id": "MVx9RvgyoEue"
      },
      "source": [
        "# create DataFrame as a temporary view for SQL queries\n",
        "train.createOrReplaceTempView('table')"
      ],
      "execution_count": 473,
      "outputs": []
    },
    {
      "cell_type": "code",
      "metadata": {
        "colab": {
          "base_uri": "https://localhost:8080/"
        },
        "id": "5OjADBxjpmwa",
        "outputId": "b9e13e91-2517-494f-9fbb-bcaa5d85d254"
      },
      "source": [
        "# sql query to find the number of people in specific work_type who have had stroke and not\n",
        "spark.sql(\"SELECT work_type, COUNT(work_type) as work_type_count FROM table WHERE stroke == 1 GROUP BY work_type ORDER BY COUNT(work_type) DESC\").show()\n",
        "spark.sql(\"SELECT work_type, COUNT(work_type) as work_type_count FROM table WHERE stroke == 0 GROUP BY work_type ORDER BY COUNT(work_type) DESC\").show()\n",
        "spark.sql(\"SELECT gender, COUNT(gender) as gender_count, COUNT(gender)*100/(SELECT COUNT(gender) FROM table WHERE gender == 'Male') as percentage FROM table WHERE stroke== 1 AND gender = 'Male' GROUP BY gender\").show()\n",
        "spark.sql(\"SELECT gender, COUNT(gender) as gender_count, COUNT(gender)*100/(SELECT COUNT(gender) FROM table WHERE gender == 'Female') as percentage FROM table WHERE stroke== 1 AND gender = 'Female' GROUP BY gender\").show()"
      ],
      "execution_count": 474,
      "outputs": [
        {
          "output_type": "stream",
          "text": [
            "+-------------+---------------+\n",
            "|    work_type|work_type_count|\n",
            "+-------------+---------------+\n",
            "|      Private|            441|\n",
            "|Self-employed|            251|\n",
            "|     Govt_job|             89|\n",
            "|     children|              2|\n",
            "+-------------+---------------+\n",
            "\n",
            "+-------------+---------------+\n",
            "|    work_type|work_type_count|\n",
            "+-------------+---------------+\n",
            "|      Private|          24393|\n",
            "|Self-employed|           6542|\n",
            "|     children|           6154|\n",
            "|     Govt_job|           5351|\n",
            "| Never_worked|            177|\n",
            "+-------------+---------------+\n",
            "\n",
            "+------+------------+------------------+\n",
            "|gender|gender_count|        percentage|\n",
            "+------+------------+------------------+\n",
            "|  Male|         352|1.9860076732114647|\n",
            "+------+------------+------------------+\n",
            "\n",
            "+------+------------+------------------+\n",
            "|gender|gender_count|        percentage|\n",
            "+------+------------+------------------+\n",
            "|Female|         431|1.6793298266121177|\n",
            "+------+------------+------------------+\n",
            "\n"
          ],
          "name": "stdout"
        }
      ]
    },
    {
      "cell_type": "markdown",
      "metadata": {
        "id": "38jTbF4Hp8Xy"
      },
      "source": [
        "**1.68**% female and almost 2% male had stroke."
      ]
    },
    {
      "cell_type": "markdown",
      "metadata": {
        "id": "3RPq9f-qttJB"
      },
      "source": [
        "Here we see that there are few missing values in smoking_status and bmi column\n",
        "Also there are few categorical data (gender, ever_married, work_type, Residence_type, smoking_status which we need to covert into one hot encoding"
      ]
    },
    {
      "cell_type": "code",
      "metadata": {
        "id": "iT5k_i0htrjZ"
      },
      "source": [
        "# fill in missing values for smoking status\n",
        "# As this is categorical data, we will add one data type \"No Info\" for the missing one\n",
        "train_f = train\n",
        "test_f = test"
      ],
      "execution_count": 475,
      "outputs": []
    },
    {
      "cell_type": "code",
      "metadata": {
        "colab": {
          "base_uri": "https://localhost:8080/"
        },
        "id": "ai4v-qIt0QrT",
        "outputId": "f3dfd454-9dcd-422c-fb24-6fcdd0b26956"
      },
      "source": [
        "train_f.printSchema()"
      ],
      "execution_count": 476,
      "outputs": [
        {
          "output_type": "stream",
          "text": [
            "root\n",
            " |-- id: integer (nullable = true)\n",
            " |-- gender: string (nullable = true)\n",
            " |-- age: integer (nullable = true)\n",
            " |-- hypertension: integer (nullable = true)\n",
            " |-- heart_disease: integer (nullable = true)\n",
            " |-- ever_married: string (nullable = true)\n",
            " |-- work_type: string (nullable = true)\n",
            " |-- Residence_type: string (nullable = true)\n",
            " |-- avg_glucose_level: float (nullable = true)\n",
            " |-- bmi: float (nullable = false)\n",
            " |-- smoking_status: string (nullable = true)\n",
            " |-- stroke: integer (nullable = true)\n",
            "\n"
          ],
          "name": "stdout"
        }
      ]
    },
    {
      "cell_type": "code",
      "metadata": {
        "id": "7kAcR0CyySej"
      },
      "source": [
        "# from pyspark.sql.functions import mean\n",
        "# mean = train_f.select(mean(train_f['bmi'])).collect()\n",
        "# mean_bmi = mean[0][0]\n",
        "# print(mean_bmi)\n",
        "# print(mean)"
      ],
      "execution_count": 477,
      "outputs": []
    },
    {
      "cell_type": "code",
      "metadata": {
        "colab": {
          "base_uri": "https://localhost:8080/"
        },
        "id": "GA_kEMtNyyHi",
        "outputId": "008e936c-b442-4698-f3e4-ee4613a939a6"
      },
      "source": [
        "from pyspark.sql.functions import mean as _mean, stddev as _stddev, col\n",
        "\n",
        "df_stats = train_f.select(\n",
        "    _mean(col('bmi')).alias('mean'),\n",
        "    _stddev(col('bmi')).alias('std')\n",
        ").collect()\n",
        "\n",
        "mean = df_stats[0]['mean']\n",
        "std = df_stats[0]['std']\n",
        "mean"
      ],
      "execution_count": 478,
      "outputs": [
        {
          "output_type": "execute_result",
          "data": {
            "text/plain": [
              "28.60503836335125"
            ]
          },
          "metadata": {
            "tags": []
          },
          "execution_count": 478
        }
      ]
    },
    {
      "cell_type": "code",
      "metadata": {
        "colab": {
          "base_uri": "https://localhost:8080/"
        },
        "id": "LdV8Rgtspm0F",
        "outputId": "1bb3c4ee-7e50-4bde-f3f3-e6386608fba3"
      },
      "source": [
        "train_f.describe().show()"
      ],
      "execution_count": 479,
      "outputs": [
        {
          "output_type": "stream",
          "text": [
            "+-------+-----------------+------+------------------+-------------------+-------------------+------------+---------+--------------+------------------+-----------------+--------------+-------------------+\n",
            "|summary|               id|gender|               age|       hypertension|      heart_disease|ever_married|work_type|Residence_type| avg_glucose_level|              bmi|smoking_status|             stroke|\n",
            "+-------+-----------------+------+------------------+-------------------+-------------------+------------+---------+--------------+------------------+-----------------+--------------+-------------------+\n",
            "|  count|            43400| 43400|             43400|              43400|              43400|       43400|    43400|         43400|             43400|            43400|         43400|              43400|\n",
            "|   mean|36326.14235023042|  null| 42.20509216589862|0.09357142857142857|0.04751152073732719|        null|     null|          null|104.48274998273718|28.60503836335125|          null|0.01804147465437788|\n",
            "| stddev|21072.13487918281|  null|22.543158642510683| 0.2912349063093972|0.21273274050209703|        null|     null|          null| 43.11175095897281|7.638023367240188|          null|0.13310292280179176|\n",
            "|    min|                1|Female|                 0|                  0|                  0|          No| Govt_job|         Rural|              55.0|             10.1|       No Info|                  0|\n",
            "|    max|            72943| Other|                82|                  1|                  1|         Yes| children|         Urban|            291.05|             97.6|        smokes|                  1|\n",
            "+-------+-----------------+------+------------------+-------------------+-------------------+------------+---------+--------------+------------------+-----------------+--------------+-------------------+\n",
            "\n"
          ],
          "name": "stdout"
        }
      ]
    },
    {
      "cell_type": "code",
      "metadata": {
        "colab": {
          "base_uri": "https://localhost:8080/"
        },
        "id": "G3APgchQweYW",
        "outputId": "aad7fa2b-a0e6-4095-a659-ba2f6eaf8afc"
      },
      "source": [
        "test_f.describe().show()"
      ],
      "execution_count": 480,
      "outputs": [
        {
          "output_type": "stream",
          "text": [
            "+-------+------------------+------+------------------+-------------------+--------------------+------------+---------+--------------+------------------+-----+--------------+\n",
            "|summary|                id|gender|               age|       hypertension|       heart_disease|ever_married|work_type|Residence_type| avg_glucose_level|  bmi|smoking_status|\n",
            "+-------+------------------+------+------------------+-------------------+--------------------+------------+---------+--------------+------------------+-----+--------------+\n",
            "|  count|             18601| 18601|             18601|              18601|               18601|       18601|    18601|         18601|             18601|18601|         18601|\n",
            "|   mean| 36747.36804472878|  null|42.043868609214556|0.09316703403042847|0.048061932154185256|        null|     null|          null|104.38635932680779|  NaN|          null|\n",
            "| stddev|21053.151123778687|  null| 22.55112733897937|0.29067418204733125| 0.21390288127048418|        null|     null|          null| 42.60671443150512|  NaN|          null|\n",
            "|    min|                 2|Female|                 0|                  0|                   0|          No| Govt_job|         Rural|              55.0| 10.2|       No Info|\n",
            "|    max|             72942| Other|                82|                  1|                   1|         Yes| children|         Urban|            275.72|  NaN|        smokes|\n",
            "+-------+------------------+------+------------------+-------------------+--------------------+------------+---------+--------------+------------------+-----+--------------+\n",
            "\n"
          ],
          "name": "stdout"
        }
      ]
    },
    {
      "cell_type": "code",
      "metadata": {
        "id": "AIPWK1R_wecO"
      },
      "source": [
        ""
      ],
      "execution_count": 480,
      "outputs": []
    },
    {
      "cell_type": "markdown",
      "metadata": {
        "id": "xKNnZxtKxFuy"
      },
      "source": [
        "Now there is no missing values, Lets work on categorical columns now...\n",
        "\n",
        "StringIndexer -> OneHotEncoder -> VectorAssembler"
      ]
    },
    {
      "cell_type": "code",
      "metadata": {
        "id": "pcpU9lUaweCi"
      },
      "source": [
        ""
      ],
      "execution_count": 480,
      "outputs": []
    },
    {
      "cell_type": "code",
      "metadata": {
        "id": "jg6htyiqsr9d"
      },
      "source": [
        "# indexing all categorical columns in the dataset\n",
        "from pyspark.ml.feature import StringIndexer\n",
        "indexer1 = StringIndexer(inputCol=\"gender\", outputCol=\"genderIndex\")\n",
        "indexer2 = StringIndexer(inputCol=\"ever_married\", outputCol=\"ever_marriedIndex\")\n",
        "indexer3 = StringIndexer(inputCol=\"work_type\", outputCol=\"work_typeIndex\")\n",
        "indexer4 = StringIndexer(inputCol=\"Residence_type\", outputCol=\"Residence_typeIndex\")\n",
        "indexer5 = StringIndexer(inputCol=\"smoking_status\", outputCol=\"smoking_statusIndex\")"
      ],
      "execution_count": 481,
      "outputs": []
    },
    {
      "cell_type": "code",
      "metadata": {
        "id": "cCD4Lph4ssBO"
      },
      "source": [
        "from pyspark.ml.feature import OneHotEncoderEstimator\n",
        "encoder = OneHotEncoderEstimator(inputCols=[\"genderIndex\",\"ever_marriedIndex\",\"work_typeIndex\",\"Residence_typeIndex\",\"smoking_statusIndex\"],\n",
        "                                 outputCols=[\"genderVec\",\"ever_marriedVec\",\"work_typeVec\",\"Residence_typeVec\",\"smoking_statusVec\"])"
      ],
      "execution_count": 482,
      "outputs": []
    },
    {
      "cell_type": "code",
      "metadata": {
        "id": "fMZDRoZ0sv8f"
      },
      "source": [
        "from pyspark.ml.feature import VectorAssembler\n",
        "assembler = VectorAssembler(inputCols=['genderVec',\n",
        " 'age',\n",
        " 'hypertension',\n",
        " 'heart_disease',\n",
        " 'ever_marriedVec',\n",
        " 'work_typeVec',\n",
        " 'Residence_typeVec',\n",
        " 'avg_glucose_level',\n",
        " 'bmi',\n",
        " 'smoking_statusVec'],outputCol='features')"
      ],
      "execution_count": 483,
      "outputs": []
    },
    {
      "cell_type": "code",
      "metadata": {
        "id": "Upc_jkhZs3QM"
      },
      "source": [
        "from pyspark.ml import Pipeline\n",
        "pipeline = Pipeline(stages=[indexer1, indexer2, indexer3, indexer4, indexer5, encoder, assembler, dtc])"
      ],
      "execution_count": 484,
      "outputs": []
    },
    {
      "cell_type": "code",
      "metadata": {
        "id": "HwHk2zUrtITV"
      },
      "source": [
        "# Doing one hot encoding of indexed data\n",
        "from pyspark.ml.feature import OneHotEncoderEstimator\n",
        "encoder = OneHotEncoderEstimator(inputCols=[\"genderIndex\",\"ever_marriedIndex\",\"work_typeIndex\",\"Residence_typeIndex\",\"smoking_statusIndex\"],\n",
        "                                 outputCols=[\"genderVec\",\"ever_marriedVec\",\"work_typeVec\",\"Residence_typeVec\",\"smoking_statusVec\"])"
      ],
      "execution_count": 485,
      "outputs": []
    },
    {
      "cell_type": "code",
      "metadata": {
        "id": "p31kWV0KtIWu"
      },
      "source": [
        "from pyspark.ml.feature import VectorAssembler\n",
        "assembler = VectorAssembler(inputCols=['genderVec',\n",
        " 'age',\n",
        " 'hypertension',\n",
        " 'heart_disease',\n",
        " 'ever_marriedVec',\n",
        " 'work_typeVec',\n",
        " 'Residence_typeVec',\n",
        " 'avg_glucose_level',\n",
        " 'bmi',\n",
        " 'smoking_statusVec'],outputCol='features')"
      ],
      "execution_count": 486,
      "outputs": []
    },
    {
      "cell_type": "code",
      "metadata": {
        "id": "t8MQMUQ-tdbc"
      },
      "source": [
        "# splitting training and validation data\n",
        "train_data,val_data = train_f.randomSplit([0.7,0.3])\n"
      ],
      "execution_count": 487,
      "outputs": []
    },
    {
      "cell_type": "code",
      "metadata": {
        "id": "r7rNSryItZuc"
      },
      "source": [
        ""
      ],
      "execution_count": 487,
      "outputs": []
    },
    {
      "cell_type": "markdown",
      "metadata": {
        "id": "v4RpQkwcIlI8"
      },
      "source": [
        "Random Forest\n"
      ]
    },
    {
      "cell_type": "code",
      "metadata": {
        "id": "erGG6tk8pm6x"
      },
      "source": [
        "from pyspark.ml.classification import RandomForestClassifier\n",
        "\n",
        "from pyspark.ml import Pipeline\n",
        "from pyspark.ml.classification import RandomForestClassifier\n",
        "from sklearn.metrics import classification_report, confusion_matrix\n",
        "import  matplotlib.pyplot as plt\n",
        "import numpy as np\n",
        "import itertools\n",
        "from pyspark.ml import Pipeline\n",
        "from pyspark.ml.evaluation import BinaryClassificationEvaluator\n",
        "def plot_confusion_matrix(cm, classes,\n",
        "                          normalize=False,\n",
        "                          title='Confusion matrix',\n",
        "                          cmap=plt.cm.Blues):\n",
        "    \"\"\"\n",
        "    This function prints and plots the confusion matrix.\n",
        "    Normalization can be applied by setting `normalize=True`.\n",
        "    \"\"\"\n",
        "    if normalize:\n",
        "        cm = cm.astype('float') / cm.sum(axis=1)[:, np.newaxis]\n",
        "        print(\"Normalized confusion matrix\")\n",
        "    else:\n",
        "        print('Confusion matrix, without normalization')\n",
        "\n",
        "    print(cm)\n",
        "\n",
        "    plt.imshow(cm, interpolation='nearest', cmap=cmap)\n",
        "    plt.title(title)\n",
        "    plt.colorbar()\n",
        "    tick_marks = np.arange(len(classes))\n",
        "    plt.xticks(tick_marks, classes, rotation=45)\n",
        "    plt.yticks(tick_marks, classes)\n",
        "\n",
        "    fmt = '.2f' if normalize else 'd'\n",
        "    thresh = cm.max() / 2.\n",
        "    for i, j in itertools.product(range(cm.shape[0]), range(cm.shape[1])):\n",
        "        plt.text(j, i, format(cm[i, j], fmt),\n",
        "                 horizontalalignment=\"center\",\n",
        "                 color=\"white\" if cm[i, j] > thresh else \"black\")\n",
        "\n",
        "    plt.ylabel('True label')\n",
        "    plt.xlabel('Predicted label')\n",
        "    plt.tight_layout()\n",
        "\n"
      ],
      "execution_count": 488,
      "outputs": []
    },
    {
      "cell_type": "code",
      "metadata": {
        "colab": {
          "base_uri": "https://localhost:8080/"
        },
        "id": "schH9hWxI7Ux",
        "outputId": "1935ffac-ee7d-4c25-de6d-e7f80a6ef661"
      },
      "source": [
        "rfc = RandomForestClassifier(labelCol='stroke',featuresCol='features')\n",
        "pipeline = Pipeline(stages=[indexer1, indexer2, indexer3, indexer4, indexer5, encoder, assembler, rfc])\n",
        "# training model pipeline with data\n",
        "model = pipeline.fit(train_data)\n",
        "# making prediction on model with validation data\n",
        "rfc_predictions = model.transform(val_data)\n",
        "# Select (prediction, true label) and compute test error\n",
        "acc_evaluator = MulticlassClassificationEvaluator(labelCol=\"stroke\", predictionCol=\"prediction\", metricName=\"accuracy\")\n",
        "rfc_acc = acc_evaluator.evaluate(rfc_predictions)\n",
        "print('A Random Forest algorithm had an accuracy of: {0:2.2f}%'.format(rfc_acc*100))\n",
        "# Select (prediction, true label) and compute test error\n",
        "acc_evaluator = MulticlassClassificationEvaluator(labelCol=\"stroke\", predictionCol=\"prediction\", metricName=\"f1\")\n",
        "#evaluator = BinaryClassificationEvaluator()\n",
        "rfc_acc = acc_evaluator.evaluate(rfc_predictions)\n",
        "print('A Random Forest algorithm had an F1-Score of: {0:2.2f}%'.format(rfc_acc*100))\n",
        "#AUC\n",
        "evaluator = BinaryClassificationEvaluator(labelCol=\"stroke\")\n",
        "print('Test Area Under ROC', evaluator.evaluate(rfc_predictions))"
      ],
      "execution_count": 489,
      "outputs": [
        {
          "output_type": "stream",
          "text": [
            "A Random Forest algorithm had an accuracy of: 98.22%\n",
            "A Random Forest algorithm had an F1-Score of: 97.34%\n",
            "Test Area Under ROC 0.8358355738498021\n"
          ],
          "name": "stdout"
        }
      ]
    },
    {
      "cell_type": "code",
      "metadata": {
        "colab": {
          "base_uri": "https://localhost:8080/",
          "height": 560
        },
        "id": "5cpuypkLPmkX",
        "outputId": "dc90a1ae-8ff8-49b7-d1ea-93264dde45c8"
      },
      "source": [
        "y_true = rfc_predictions.select(['stroke']).collect()\n",
        "y_pred = rfc_predictions.select(['prediction']).collect()\n",
        "print(classification_report(y_true, y_pred))\n",
        "\n",
        "# argmax returns the index of the max value in a row\n",
        "cm = confusion_matrix(y_true, y_pred)\n",
        "cm_plot_labels = ['Not Stroke', 'Stroke']\n",
        "plot_confusion_matrix(cm, cm_plot_labels, title='Confusion Matrix')"
      ],
      "execution_count": 490,
      "outputs": [
        {
          "output_type": "stream",
          "text": [
            "/usr/local/lib/python3.6/dist-packages/sklearn/metrics/_classification.py:1272: UndefinedMetricWarning: Precision and F-score are ill-defined and being set to 0.0 in labels with no predicted samples. Use `zero_division` parameter to control this behavior.\n",
            "  _warn_prf(average, modifier, msg_start, len(result))\n"
          ],
          "name": "stderr"
        },
        {
          "output_type": "stream",
          "text": [
            "              precision    recall  f1-score   support\n",
            "\n",
            "           0       0.98      1.00      0.99     12932\n",
            "           1       0.00      0.00      0.00       234\n",
            "\n",
            "    accuracy                           0.98     13166\n",
            "   macro avg       0.49      0.50      0.50     13166\n",
            "weighted avg       0.96      0.98      0.97     13166\n",
            "\n",
            "Confusion matrix, without normalization\n",
            "[[12932     0]\n",
            " [  234     0]]\n"
          ],
          "name": "stdout"
        },
        {
          "output_type": "display_data",
          "data": {
            "image/png": "[encoded data removed]",
            "text/plain": [
              "<Figure size 432x288 with 2 Axes>"
            ]
          },
          "metadata": {
            "tags": [],
            "needs_background": "light"
          }
        }
      ]
    },
    {
      "cell_type": "code",
      "metadata": {
        "colab": {
          "base_uri": "https://localhost:8080/",
          "height": 206
        },
        "id": "0zTAf5Datdq6",
        "outputId": "41f3096e-fd3b-4db5-cc41-a86503189e7e"
      },
      "source": [
        "\n",
        "\n",
        "# Select example rows to display.\n",
        "test_selected = rfc_predictions .select(\"id\", \"features\", \"prediction\",\"probability\")\n",
        "test_selected.limit(5).toPandas()"
      ],
      "execution_count": 491,
      "outputs": [
        {
          "output_type": "execute_result",
          "data": {
            "text/html": [
              "<div>\n",
              "<style scoped>\n",
              "    .dataframe tbody tr th:only-of-type {\n",
              "        vertical-align: middle;\n",
              "    }\n",
              "\n",
              "    .dataframe tbody tr th {\n",
              "        vertical-align: top;\n",
              "    }\n",
              "\n",
              "    .dataframe thead th {\n",
              "        text-align: right;\n",
              "    }\n",
              "</style>\n",
              "<table border=\"1\" class=\"dataframe\">\n",
              "  <thead>\n",
              "    <tr style=\"text-align: right;\">\n",
              "      <th></th>\n",
              "      <th>id</th>\n",
              "      <th>features</th>\n",
              "      <th>prediction</th>\n",
              "      <th>probability</th>\n",
              "    </tr>\n",
              "  </thead>\n",
              "  <tbody>\n",
              "    <tr>\n",
              "      <th>0</th>\n",
              "      <td>899</td>\n",
              "      <td>(1.0, 0.0, 7.0, 0.0, 0.0, 0.0, 0.0, 0.0, 1.0, ...</td>\n",
              "      <td>0.0</td>\n",
              "      <td>[0.9879649107285038, 0.012035089271496142]</td>\n",
              "    </tr>\n",
              "    <tr>\n",
              "      <th>1</th>\n",
              "      <td>1521</td>\n",
              "      <td>(1.0, 0.0, 17.0, 0.0, 0.0, 0.0, 1.0, 0.0, 0.0,...</td>\n",
              "      <td>0.0</td>\n",
              "      <td>[0.9872669566246552, 0.012733043375344862]</td>\n",
              "    </tr>\n",
              "    <tr>\n",
              "      <th>2</th>\n",
              "      <td>2844</td>\n",
              "      <td>(0.0, 1.0, 21.0, 0.0, 0.0, 0.0, 1.0, 0.0, 0.0,...</td>\n",
              "      <td>0.0</td>\n",
              "      <td>[0.9869266267502438, 0.013073373249756281]</td>\n",
              "    </tr>\n",
              "    <tr>\n",
              "      <th>3</th>\n",
              "      <td>2883</td>\n",
              "      <td>(1.0, 0.0, 69.0, 0.0, 1.0, 0.0, 0.0, 1.0, 0.0,...</td>\n",
              "      <td>0.0</td>\n",
              "      <td>[0.9635631272345032, 0.03643687276549675]</td>\n",
              "    </tr>\n",
              "    <tr>\n",
              "      <th>4</th>\n",
              "      <td>3071</td>\n",
              "      <td>(1.0, 0.0, 69.0, 0.0, 0.0, 1.0, 1.0, 0.0, 0.0,...</td>\n",
              "      <td>0.0</td>\n",
              "      <td>[0.9774076183689575, 0.022592381631042595]</td>\n",
              "    </tr>\n",
              "  </tbody>\n",
              "</table>\n",
              "</div>"
            ],
            "text/plain": [
              "     id  ...                                 probability\n",
              "0   899  ...  [0.9879649107285038, 0.012035089271496142]\n",
              "1  1521  ...  [0.9872669566246552, 0.012733043375344862]\n",
              "2  2844  ...  [0.9869266267502438, 0.013073373249756281]\n",
              "3  2883  ...   [0.9635631272345032, 0.03643687276549675]\n",
              "4  3071  ...  [0.9774076183689575, 0.022592381631042595]\n",
              "\n",
              "[5 rows x 4 columns]"
            ]
          },
          "metadata": {
            "tags": []
          },
          "execution_count": 491
        }
      ]
    },
    {
      "cell_type": "code",
      "metadata": {
        "id": "XKL1SF_xMEsc"
      },
      "source": [
        ""
      ],
      "execution_count": 491,
      "outputs": []
    },
    {
      "cell_type": "code",
      "metadata": {
        "colab": {
          "base_uri": "https://localhost:8080/"
        },
        "id": "0Anx6GZnMB_3",
        "outputId": "da83ac3a-5f1d-4838-847e-47960fc7d638"
      },
      "source": [
        "from pyspark.ml.classification import LogisticRegression\n",
        "lg = LogisticRegression(labelCol='stroke',featuresCol='features')\n",
        "pipeline = Pipeline(stages=[indexer1, indexer2, indexer3, indexer4, indexer5, encoder, assembler, lg])\n",
        "# training model pipeline with data\n",
        "model = pipeline.fit(train_data)\n",
        "# making prediction on model with validation data\n",
        "lg_predictions = model.transform(val_data)\n",
        "# Select (prediction, true label) and compute test error\n",
        "acc_evaluator = MulticlassClassificationEvaluator(labelCol=\"stroke\", predictionCol=\"prediction\", metricName=\"accuracy\")\n",
        "lg_acc = acc_evaluator.evaluate(lg_predictions)\n",
        "print('A Logistic Regression algorithm had an accuracy of: {0:2.2f}%'.format(lg_acc*100))\n",
        "# Select (prediction, true label) and compute test error\n",
        "acc_evaluator = MulticlassClassificationEvaluator(labelCol=\"stroke\", predictionCol=\"prediction\", metricName=\"f1\")\n",
        "#evaluator = BinaryClassificationEvaluator()\n",
        "lg_acc = acc_evaluator.evaluate(lg_predictions)\n",
        "print('A logistic algorithm had an F1-Score of: {0:2.2f}%'.format(lg_acc*100))\n",
        "#AUC\n",
        "evaluator = BinaryClassificationEvaluator(labelCol=\"stroke\")\n",
        "print('Test Area Under ROC', evaluator.evaluate(lg_predictions))"
      ],
      "execution_count": 492,
      "outputs": [
        {
          "output_type": "stream",
          "text": [
            "A Logistic Regression algorithm had an accuracy of: 98.22%\n",
            "A logistic algorithm had an F1-Score of: 97.34%\n",
            "Test Area Under ROC 0.8557712135271681\n"
          ],
          "name": "stdout"
        }
      ]
    },
    {
      "cell_type": "code",
      "metadata": {
        "colab": {
          "base_uri": "https://localhost:8080/",
          "height": 560
        },
        "id": "ZzIwkNjZPT_3",
        "outputId": "da85c988-7644-4cdb-fe32-742c9f19988e"
      },
      "source": [
        "y_true = lg_predictions.select(['stroke']).collect()\n",
        "y_pred = lg_predictions.select(['prediction']).collect()\n",
        "print(classification_report(y_true, y_pred))\n",
        "\n",
        "# argmax returns the index of the max value in a row\n",
        "cm = confusion_matrix(y_true, y_pred)\n",
        "cm_plot_labels = ['Not Stroke', 'Stroke']\n",
        "plot_confusion_matrix(cm, cm_plot_labels, title='Confusion Matrix')"
      ],
      "execution_count": 493,
      "outputs": [
        {
          "output_type": "stream",
          "text": [
            "/usr/local/lib/python3.6/dist-packages/sklearn/metrics/_classification.py:1272: UndefinedMetricWarning: Precision and F-score are ill-defined and being set to 0.0 in labels with no predicted samples. Use `zero_division` parameter to control this behavior.\n",
            "  _warn_prf(average, modifier, msg_start, len(result))\n"
          ],
          "name": "stderr"
        },
        {
          "output_type": "stream",
          "text": [
            "              precision    recall  f1-score   support\n",
            "\n",
            "           0       0.98      1.00      0.99     12932\n",
            "           1       0.00      0.00      0.00       234\n",
            "\n",
            "    accuracy                           0.98     13166\n",
            "   macro avg       0.49      0.50      0.50     13166\n",
            "weighted avg       0.96      0.98      0.97     13166\n",
            "\n",
            "Confusion matrix, without normalization\n",
            "[[12932     0]\n",
            " [  234     0]]\n"
          ],
          "name": "stdout"
        },
        {
          "output_type": "display_data",
          "data": {
            "image/png": "[encoded data removed]",
            "text/plain": [
              "<Figure size 432x288 with 2 Axes>"
            ]
          },
          "metadata": {
            "tags": [],
            "needs_background": "light"
          }
        }
      ]
    },
    {
      "cell_type": "code",
      "metadata": {
        "id": "DPFPZeNZMZ_J",
        "colab": {
          "base_uri": "https://localhost:8080/"
        },
        "outputId": "f2e37770-dd91-4a86-dcea-c483f1f3f0f1"
      },
      "source": [
        "# balancing the dataset by duplicating the minority class samples\n",
        "from pyspark.sql.functions import col, explode, array, lit,ceil\n",
        "train_data\n",
        "major_df = train_data.filter(col(\"stroke\") == 0)\n",
        "print(major_df.count())\n",
        "minor_df = train_data.filter(col(\"stroke\") == 1)\n",
        "ratio = int(major_df.count()/minor_df.count())\n",
        "print(\"ratio: {}\".format(ratio))"
      ],
      "execution_count": 494,
      "outputs": [
        {
          "output_type": "stream",
          "text": [
            "29685\n",
            "ratio: 54\n"
          ],
          "name": "stdout"
        }
      ]
    },
    {
      "cell_type": "code",
      "metadata": {
        "colab": {
          "base_uri": "https://localhost:8080/"
        },
        "id": "RQE6NEd6SSfx",
        "outputId": "1df1aba5-9523-4c9a-b5df-6708f8b93773"
      },
      "source": [
        "a = range(ratio+1)\n",
        "# duplicate the minority rows\n",
        "oversampled_df = minor_df.withColumn(\"dummy\", explode(array([lit(x) for x in a]))).drop('dummy')\n",
        "# combine both oversampled minority rows and previous majority rows \n",
        "combined_df = major_df.unionAll(oversampled_df)\n",
        "combined_df.show()\n",
        "print(combined_df.count())"
      ],
      "execution_count": 495,
      "outputs": [
        {
          "output_type": "stream",
          "text": [
            "+----+------+---+------------+-------------+------------+-------------+--------------+-----------------+---------+---------------+------+\n",
            "|  id|gender|age|hypertension|heart_disease|ever_married|    work_type|Residence_type|avg_glucose_level|      bmi| smoking_status|stroke|\n",
            "+----+------+---+------------+-------------+------------+-------------+--------------+-----------------+---------+---------------+------+\n",
            "| 189|  Male| 65|           0|            0|         Yes|Self-employed|         Rural|            74.66|     30.6|formerly smoked|     0|\n",
            "| 695|Female| 60|           0|            0|         Yes|      Private|         Rural|           103.25|     26.2|         smokes|     0|\n",
            "|2143|Female| 74|           0|            0|         Yes|      Private|         Urban|            91.34|     22.0|formerly smoked|     0|\n",
            "|2365|Female| 76|           0|            0|         Yes|      Private|         Urban|            95.94|     28.7|   never smoked|     0|\n",
            "|3019|Female| 36|           0|            0|         Yes|      Private|         Urban|            87.94|     30.6|         smokes|     0|\n",
            "|3946|Female| 22|           0|            0|         Yes|      Private|         Urban|            89.06|     27.7|   never smoked|     0|\n",
            "|4635|Female| 68|           0|            0|         Yes|      Private|         Rural|            97.96|     31.3|   never smoked|     0|\n",
            "|5650|Female| 26|           0|            0|          No|      Private|         Rural|            91.85|     34.1|   never smoked|     0|\n",
            "|5820|Female| 63|           0|            0|         Yes|     Govt_job|         Rural|            67.21|     38.1|   never smoked|     0|\n",
            "|5996|Female| 39|           0|            0|          No|      Private|         Rural|            94.67|     38.5|         smokes|     0|\n",
            "|6779|  Male| 16|           0|            0|          No|      Private|         Urban|            71.75|     30.7|        No Info|     0|\n",
            "|6821|Female| 47|           1|            0|         Yes|      Private|         Urban|            76.36|     30.1|   never smoked|     0|\n",
            "|7122|Female| 41|           0|            0|          No|      Private|         Rural|             94.3|     41.6|        No Info|     0|\n",
            "|7469|  Male| 16|           0|            0|          No|     children|         Rural|            81.02|     26.4|        No Info|     0|\n",
            "|7703|Female| 63|           0|            0|         Yes|     Govt_job|         Rural|            83.52|     39.1|formerly smoked|     0|\n",
            "|8557|Female| 51|           0|            0|         Yes|      Private|         Urban|           217.83|28.605038|formerly smoked|     0|\n",
            "|8610|Female| 55|           0|            0|         Yes|      Private|         Urban|            82.22|     34.8|formerly smoked|     0|\n",
            "|9426|  Male| 59|           0|            0|         Yes|      Private|         Urban|            72.81|     33.3|         smokes|     0|\n",
            "|9730|  Male| 27|           0|            0|         Yes|      Private|         Urban|            76.19|     22.0|   never smoked|     0|\n",
            "|9841|Female| 61|           1|            0|         Yes|Self-employed|         Rural|            97.83|     26.0|   never smoked|     0|\n",
            "+----+------+---+------------+-------------+------------+-------------+--------------+-----------------+---------+---------------+------+\n",
            "only showing top 20 rows\n",
            "\n",
            "59880\n"
          ],
          "name": "stdout"
        }
      ]
    },
    {
      "cell_type": "code",
      "metadata": {
        "id": "d7vR9nQxTNHb"
      },
      "source": [
        "\n",
        "train_data=combined_df"
      ],
      "execution_count": 496,
      "outputs": []
    },
    {
      "cell_type": "code",
      "metadata": {
        "colab": {
          "base_uri": "https://localhost:8080/"
        },
        "id": "CvLrN1gBM42O",
        "outputId": "1c5f8756-84d6-4edd-fc45-2f0e6b6a672c"
      },
      "source": [
        "#random forest\n",
        "rfc = RandomForestClassifier(labelCol='stroke',featuresCol='features')\n",
        "pipeline = Pipeline(stages=[indexer1, indexer2, indexer3, indexer4, indexer5, encoder, assembler, rfc])\n",
        "\n",
        "\n",
        "# training model pipeline with data\n",
        "model = pipeline.fit(train_data)\n",
        "# making prediction on model with validation data\n",
        "rfc_predictions = model.transform(val_data)\n",
        "# Select (prediction, true label) and compute test error\n",
        "acc_evaluator = MulticlassClassificationEvaluator(labelCol=\"stroke\", predictionCol=\"prediction\", metricName=\"accuracy\")\n",
        "rfc_acc = acc_evaluator.evaluate(rfc_predictions)\n",
        "print('A Random Forest algorithm had an accuracy of: {0:2.2f}%'.format(rfc_acc*100))\n",
        "# Select (prediction, true label) and compute test error\n",
        "acc_evaluator = MulticlassClassificationEvaluator(labelCol=\"stroke\", predictionCol=\"prediction\", metricName=\"f1\")\n",
        "#evaluator = BinaryClassificationEvaluator()\n",
        "rfc_acc = acc_evaluator.evaluate(rfc_predictions)\n",
        "print('A Random Forest algorithm had an F1-Score of: {0:2.2f}%'.format(rfc_acc*100))\n",
        "#AUC\n",
        "evaluator = BinaryClassificationEvaluator(labelCol=\"stroke\")\n",
        "print('Test Area Under ROC', evaluator.evaluate(rfc_predictions))"
      ],
      "execution_count": 497,
      "outputs": [
        {
          "output_type": "stream",
          "text": [
            "A Random Forest algorithm had an accuracy of: 69.44%\n",
            "A Random Forest algorithm had an F1-Score of: 80.35%\n",
            "Test Area Under ROC 0.8411891855094761\n"
          ],
          "name": "stdout"
        }
      ]
    },
    {
      "cell_type": "code",
      "metadata": {
        "colab": {
          "base_uri": "https://localhost:8080/",
          "height": 505
        },
        "id": "nF8_e5vYPXu5",
        "outputId": "74ec0926-856d-4fe4-9e10-6f14ef7c9ca7"
      },
      "source": [
        "y_true = rfc_predictions.select(['stroke']).collect()\n",
        "y_pred = rfc_predictions.select(['prediction']).collect()\n",
        "print(classification_report(y_true, y_pred))\n",
        "\n",
        "# argmax returns the index of the max value in a row\n",
        "cm = confusion_matrix(y_true, y_pred)\n",
        "cm_plot_labels = ['Not Stroke', 'Stroke']\n",
        "plot_confusion_matrix(cm, cm_plot_labels, title='Confusion Matrix')"
      ],
      "execution_count": 498,
      "outputs": [
        {
          "output_type": "stream",
          "text": [
            "              precision    recall  f1-score   support\n",
            "\n",
            "           0       1.00      0.69      0.82     12932\n",
            "           1       0.05      0.84      0.09       234\n",
            "\n",
            "    accuracy                           0.69     13166\n",
            "   macro avg       0.52      0.77      0.45     13166\n",
            "weighted avg       0.98      0.69      0.80     13166\n",
            "\n",
            "Confusion matrix, without normalization\n",
            "[[8946 3986]\n",
            " [  37  197]]\n"
          ],
          "name": "stdout"
        },
        {
          "output_type": "display_data",
          "data": {
            "image/png": "[encoded data removed]",
            "text/plain": [
              "<Figure size 432x288 with 2 Axes>"
            ]
          },
          "metadata": {
            "tags": [],
            "needs_background": "light"
          }
        }
      ]
    },
    {
      "cell_type": "code",
      "metadata": {
        "colab": {
          "base_uri": "https://localhost:8080/"
        },
        "id": "xdrBDCVUS5C8",
        "outputId": "208417ea-feb0-48a6-cb84-71d4f1508ce2"
      },
      "source": [
        "#logistic Regression\n",
        "lg = LogisticRegression(labelCol='stroke',featuresCol='features')\n",
        "pipeline = Pipeline(stages=[indexer1, indexer2, indexer3, indexer4, indexer5, encoder, assembler, lg])\n",
        "# training model pipeline with data\n",
        "model = pipeline.fit(train_data)\n",
        "# making prediction on model with validation data\n",
        "lg_predictions = model.transform(val_data)\n",
        "# Select (prediction, true label) and compute test error\n",
        "acc_evaluator = MulticlassClassificationEvaluator(labelCol=\"stroke\", predictionCol=\"prediction\", metricName=\"accuracy\")\n",
        "lg_acc = acc_evaluator.evaluate(lg_predictions)\n",
        "print('A Logistic Regression algorithm had an accuracy of: {0:2.2f}%'.format(lg_acc*100))\n",
        "# Select (prediction, true label) and compute test error\n",
        "acc_evaluator = MulticlassClassificationEvaluator(labelCol=\"stroke\", predictionCol=\"prediction\", metricName=\"f1\")\n",
        "#evaluator = BinaryClassificationEvaluator()\n",
        "lg_acc = acc_evaluator.evaluate(lg_predictions)\n",
        "print('A Random Forest algorithm had an F1-Score of: {0:2.2f}%'.format(lg_acc*100))\n",
        "#AUC\n",
        "evaluator = BinaryClassificationEvaluator(labelCol=\"stroke\")\n",
        "print('Test Area Under ROC', evaluator.evaluate(lg_predictions))\n"
      ],
      "execution_count": 499,
      "outputs": [
        {
          "output_type": "stream",
          "text": [
            "A Logistic Regression algorithm had an accuracy of: 73.96%\n",
            "A Random Forest algorithm had an F1-Score of: 83.45%\n",
            "Test Area Under ROC 0.8554549636362195\n"
          ],
          "name": "stdout"
        }
      ]
    },
    {
      "cell_type": "code",
      "metadata": {
        "colab": {
          "base_uri": "https://localhost:8080/",
          "height": 505
        },
        "id": "q4jROx-FWoZ2",
        "outputId": "82e3d22e-b0f7-45b1-9935-f105fda3c216"
      },
      "source": [
        "\n",
        "y_true = lg_predictions.select(['stroke']).collect()\n",
        "y_pred = lg_predictions.select(['prediction']).collect()\n",
        "print(classification_report(y_true, y_pred))\n",
        "\n",
        "# argmax returns the index of the max value in a row\n",
        "cm = confusion_matrix(y_true, y_pred)\n",
        "cm_plot_labels = ['Not Stroke', 'Stroke']\n",
        "plot_confusion_matrix(cm, cm_plot_labels, title='Confusion Matrix')"
      ],
      "execution_count": 500,
      "outputs": [
        {
          "output_type": "stream",
          "text": [
            "              precision    recall  f1-score   support\n",
            "\n",
            "           0       1.00      0.74      0.85     12932\n",
            "           1       0.05      0.81      0.10       234\n",
            "\n",
            "    accuracy                           0.74     13166\n",
            "   macro avg       0.52      0.77      0.47     13166\n",
            "weighted avg       0.98      0.74      0.83     13166\n",
            "\n",
            "Confusion matrix, without normalization\n",
            "[[9549 3383]\n",
            " [  45  189]]\n"
          ],
          "name": "stdout"
        },
        {
          "output_type": "display_data",
          "data": {
            "image/png": "[encoded data removed]",
            "text/plain": [
              "<Figure size 432x288 with 2 Axes>"
            ]
          },
          "metadata": {
            "tags": [],
            "needs_background": "light"
          }
        }
      ]
    }
  ]
}