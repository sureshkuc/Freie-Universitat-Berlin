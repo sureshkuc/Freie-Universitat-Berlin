{
  "nbformat": 4,
  "nbformat_minor": 0,
  "metadata": {
    "colab": {
      "name": "Stats-sheet2-ex3.ipynb",
      "provenance": [],
      "authorship_tag": "ABX9TyMme195CjyfCEHtWI/cRdiA",
      "include_colab_link": true
    },
    "kernelspec": {
      "name": "ir",
      "display_name": "R"
    },
    "language_info": {
      "name": "R"
    }
  },
  "cells": [
    {
      "cell_type": "markdown",
      "metadata": {
        "id": "view-in-github",
        "colab_type": "text"
      },
      "source": [
        "<a href=\"https://colab.research.google.com/github/sureshkuc/Freie-Universitat-Berlin/blob/main/statistics-for-small-sample-size/Stats_sheet2_ex3.ipynb\" target=\"_parent\"><img src=\"https://colab.research.google.com/assets/colab-badge.svg\" alt=\"Open In Colab\"/></a>"
      ]
    },
    {
      "cell_type": "code",
      "metadata": {
        "id": "wE453ULN96Hp"
      },
      "source": [
        "Exercise 3\n",
        "This is an R exercise based on the built-in data set PlantGrowth. The data result from an\n",
        "experiment to compare yields (as measured by dried weight of plants) obtained under a control\n",
        "and two different treatment conditions. Adopting the notation from Exercises 1 and 2, we have\n",
        "Group 1 (“ctrl”):\n",
        "Group 2 (“trt1”):\n",
        "Group 3 (“trt2”):\n",
        "x 11 , x 12 , . . . , x 1n 1 .\n",
        "x 21 , x 22 , . . . , x 2n 2 .\n",
        "x 31 , x 32 , . . . , x 3n 3 .\n",
        "Compute and report\n",
        "• the (mid-)ranks of x 11 , . . . , x 1n 1 , x 21 , . . . , x 2n 2 , x 31 , . . . , x 2n 3 among all N = n 1 + n 2 + n 3\n",
        "observations,\n",
        "• the mean (mid-)rank in each of the three samples (not the mean internal ranks),\n",
        "• the relative effects p b 1 , p b 2 , and p b 3 .\n",
        "In addition, compute and report\n",
        "• the pseudoranks of x 11 , . . . , x 1n 1 , x 21 , . . . , x 2n 2 , x 31 , . . . , x 2n 3 among all N = n 1 + n 2 + n 3\n",
        "observations,\n",
        "• the mean pseudorank in each of the three samples (not the mean internal pseudoranks),\n",
        "• the relative effects ψ b 1 , ψ b 2 , and ψ b 3 .\n",
        "Now delete the following 5 observations from the PlantGrowth dataset\n",
        "26\n",
        "27\n",
        "28\n",
        "29\n",
        "30\n",
        "weight group\n",
        "5.29 trt2\n",
        "4.92 trt2\n",
        "6.15 trt2\n",
        "5.80 trt2\n",
        "5.26 trt2\n",
        "and redo this exercise. Compare and comment on the results."
      ],
      "execution_count": null,
      "outputs": []
    },
    {
      "cell_type": "code",
      "metadata": {
        "colab": {
          "base_uri": "https://localhost:8080/"
        },
        "id": "g973LuoQKOjk",
        "outputId": "00e27316-346b-417e-f8b1-c1d4d48d1de9"
      },
      "source": [
        "install.packages(\"rankFD\")\n",
        "data(\"PlantGrowth\")"
      ],
      "execution_count": null,
      "outputs": [
        {
          "output_type": "stream",
          "text": [
            "Installing package into ‘/usr/local/lib/R/site-library’\n",
            "(as ‘lib’ is unspecified)\n",
            "\n"
          ],
          "name": "stderr"
        }
      ]
    },
    {
      "cell_type": "code",
      "metadata": {
        "colab": {
          "base_uri": "https://localhost:8080/",
          "height": 1044
        },
        "id": "x4p1eUL0HuvM",
        "outputId": "63910292-57c4-43d7-8e69-37864019f3b3"
      },
      "source": [
        "PlantGrowth"
      ],
      "execution_count": null,
      "outputs": [
        {
          "output_type": "display_data",
          "data": {
            "text/plain": [
              "   weight group\n",
              "1  4.17   ctrl \n",
              "2  5.58   ctrl \n",
              "3  5.18   ctrl \n",
              "4  6.11   ctrl \n",
              "5  4.50   ctrl \n",
              "6  4.61   ctrl \n",
              "7  5.17   ctrl \n",
              "8  4.53   ctrl \n",
              "9  5.33   ctrl \n",
              "10 5.14   ctrl \n",
              "11 4.81   trt1 \n",
              "12 4.17   trt1 \n",
              "13 4.41   trt1 \n",
              "14 3.59   trt1 \n",
              "15 5.87   trt1 \n",
              "16 3.83   trt1 \n",
              "17 6.03   trt1 \n",
              "18 4.89   trt1 \n",
              "19 4.32   trt1 \n",
              "20 4.69   trt1 \n",
              "21 6.31   trt2 \n",
              "22 5.12   trt2 \n",
              "23 5.54   trt2 \n",
              "24 5.50   trt2 \n",
              "25 5.37   trt2 \n",
              "26 5.29   trt2 \n",
              "27 4.92   trt2 \n",
              "28 6.15   trt2 \n",
              "29 5.80   trt2 \n",
              "30 5.26   trt2 "
            ],
            "text/latex": "A data.frame: 30 × 2\n\\begin{tabular}{ll}\n weight & group\\\\\n <dbl> & <fct>\\\\\n\\hline\n\t 4.17 & ctrl\\\\\n\t 5.58 & ctrl\\\\\n\t 5.18 & ctrl\\\\\n\t 6.11 & ctrl\\\\\n\t 4.50 & ctrl\\\\\n\t 4.61 & ctrl\\\\\n\t 5.17 & ctrl\\\\\n\t 4.53 & ctrl\\\\\n\t 5.33 & ctrl\\\\\n\t 5.14 & ctrl\\\\\n\t 4.81 & trt1\\\\\n\t 4.17 & trt1\\\\\n\t 4.41 & trt1\\\\\n\t 3.59 & trt1\\\\\n\t 5.87 & trt1\\\\\n\t 3.83 & trt1\\\\\n\t 6.03 & trt1\\\\\n\t 4.89 & trt1\\\\\n\t 4.32 & trt1\\\\\n\t 4.69 & trt1\\\\\n\t 6.31 & trt2\\\\\n\t 5.12 & trt2\\\\\n\t 5.54 & trt2\\\\\n\t 5.50 & trt2\\\\\n\t 5.37 & trt2\\\\\n\t 5.29 & trt2\\\\\n\t 4.92 & trt2\\\\\n\t 6.15 & trt2\\\\\n\t 5.80 & trt2\\\\\n\t 5.26 & trt2\\\\\n\\end{tabular}\n",
            "text/markdown": "\nA data.frame: 30 × 2\n\n| weight &lt;dbl&gt; | group &lt;fct&gt; |\n|---|---|\n| 4.17 | ctrl |\n| 5.58 | ctrl |\n| 5.18 | ctrl |\n| 6.11 | ctrl |\n| 4.50 | ctrl |\n| 4.61 | ctrl |\n| 5.17 | ctrl |\n| 4.53 | ctrl |\n| 5.33 | ctrl |\n| 5.14 | ctrl |\n| 4.81 | trt1 |\n| 4.17 | trt1 |\n| 4.41 | trt1 |\n| 3.59 | trt1 |\n| 5.87 | trt1 |\n| 3.83 | trt1 |\n| 6.03 | trt1 |\n| 4.89 | trt1 |\n| 4.32 | trt1 |\n| 4.69 | trt1 |\n| 6.31 | trt2 |\n| 5.12 | trt2 |\n| 5.54 | trt2 |\n| 5.50 | trt2 |\n| 5.37 | trt2 |\n| 5.29 | trt2 |\n| 4.92 | trt2 |\n| 6.15 | trt2 |\n| 5.80 | trt2 |\n| 5.26 | trt2 |\n\n",
            "text/html": [
              "<table class=\"dataframe\">\n",
              "<caption>A data.frame: 30 × 2</caption>\n",
              "<thead>\n",
              "\t<tr><th scope=col>weight</th><th scope=col>group</th></tr>\n",
              "\t<tr><th scope=col>&lt;dbl&gt;</th><th scope=col>&lt;fct&gt;</th></tr>\n",
              "</thead>\n",
              "<tbody>\n",
              "\t<tr><td>4.17</td><td>ctrl</td></tr>\n",
              "\t<tr><td>5.58</td><td>ctrl</td></tr>\n",
              "\t<tr><td>5.18</td><td>ctrl</td></tr>\n",
              "\t<tr><td>6.11</td><td>ctrl</td></tr>\n",
              "\t<tr><td>4.50</td><td>ctrl</td></tr>\n",
              "\t<tr><td>4.61</td><td>ctrl</td></tr>\n",
              "\t<tr><td>5.17</td><td>ctrl</td></tr>\n",
              "\t<tr><td>4.53</td><td>ctrl</td></tr>\n",
              "\t<tr><td>5.33</td><td>ctrl</td></tr>\n",
              "\t<tr><td>5.14</td><td>ctrl</td></tr>\n",
              "\t<tr><td>4.81</td><td>trt1</td></tr>\n",
              "\t<tr><td>4.17</td><td>trt1</td></tr>\n",
              "\t<tr><td>4.41</td><td>trt1</td></tr>\n",
              "\t<tr><td>3.59</td><td>trt1</td></tr>\n",
              "\t<tr><td>5.87</td><td>trt1</td></tr>\n",
              "\t<tr><td>3.83</td><td>trt1</td></tr>\n",
              "\t<tr><td>6.03</td><td>trt1</td></tr>\n",
              "\t<tr><td>4.89</td><td>trt1</td></tr>\n",
              "\t<tr><td>4.32</td><td>trt1</td></tr>\n",
              "\t<tr><td>4.69</td><td>trt1</td></tr>\n",
              "\t<tr><td>6.31</td><td>trt2</td></tr>\n",
              "\t<tr><td>5.12</td><td>trt2</td></tr>\n",
              "\t<tr><td>5.54</td><td>trt2</td></tr>\n",
              "\t<tr><td>5.50</td><td>trt2</td></tr>\n",
              "\t<tr><td>5.37</td><td>trt2</td></tr>\n",
              "\t<tr><td>5.29</td><td>trt2</td></tr>\n",
              "\t<tr><td>4.92</td><td>trt2</td></tr>\n",
              "\t<tr><td>6.15</td><td>trt2</td></tr>\n",
              "\t<tr><td>5.80</td><td>trt2</td></tr>\n",
              "\t<tr><td>5.26</td><td>trt2</td></tr>\n",
              "</tbody>\n",
              "</table>\n"
            ]
          },
          "metadata": {
            "tags": []
          }
        }
      ]
    },
    {
      "cell_type": "code",
      "metadata": {
        "id": "DKVERp46IVsI"
      },
      "source": [
        "#R-\n",
        "R_minus<-rank (PlantGrowth$weight , ties.method = \"min\" )\n",
        "#R+\n",
        "R_plus<-rank (PlantGrowth$weight , ties.method = \"max\" )\n",
        "#mid-rank for all samples\n",
        "R_mid<-rank (PlantGrowth$weight , ties.method = \"average\" ) # default"
      ],
      "execution_count": null,
      "outputs": []
    },
    {
      "cell_type": "code",
      "metadata": {
        "colab": {
          "base_uri": "https://localhost:8080/",
          "height": 34
        },
        "id": "VQOmImlaJgYb",
        "outputId": "2cd769c4-60a7-4bde-abd5-e6a2c3c7d0d4"
      },
      "source": [
        "#mid rank for all samples N=n1+n2+...+n_d\n",
        "R_mid"
      ],
      "execution_count": null,
      "outputs": [
        {
          "output_type": "display_data",
          "data": {
            "text/plain": [
              " [1]  3.5 24.0 17.0 28.0  7.0  9.0 16.0  8.0 20.0 15.0 11.0  3.5  6.0  1.0 26.0\n",
              "[16]  2.0 27.0 12.0  5.0 10.0 30.0 14.0 23.0 22.0 21.0 19.0 13.0 29.0 25.0 18.0"
            ],
            "text/latex": "\\begin{enumerate*}\n\\item 3.5\n\\item 24\n\\item 17\n\\item 28\n\\item 7\n\\item 9\n\\item 16\n\\item 8\n\\item 20\n\\item 15\n\\item 11\n\\item 3.5\n\\item 6\n\\item 1\n\\item 26\n\\item 2\n\\item 27\n\\item 12\n\\item 5\n\\item 10\n\\item 30\n\\item 14\n\\item 23\n\\item 22\n\\item 21\n\\item 19\n\\item 13\n\\item 29\n\\item 25\n\\item 18\n\\end{enumerate*}\n",
            "text/markdown": "1. 3.5\n2. 24\n3. 17\n4. 28\n5. 7\n6. 9\n7. 16\n8. 8\n9. 20\n10. 15\n11. 11\n12. 3.5\n13. 6\n14. 1\n15. 26\n16. 2\n17. 27\n18. 12\n19. 5\n20. 10\n21. 30\n22. 14\n23. 23\n24. 22\n25. 21\n26. 19\n27. 13\n28. 29\n29. 25\n30. 18\n\n\n",
            "text/html": [
              "<style>\n",
              ".list-inline {list-style: none; margin:0; padding: 0}\n",
              ".list-inline>li {display: inline-block}\n",
              ".list-inline>li:not(:last-child)::after {content: \"\\00b7\"; padding: 0 .5ex}\n",
              "</style>\n",
              "<ol class=list-inline><li>3.5</li><li>24</li><li>17</li><li>28</li><li>7</li><li>9</li><li>16</li><li>8</li><li>20</li><li>15</li><li>11</li><li>3.5</li><li>6</li><li>1</li><li>26</li><li>2</li><li>27</li><li>12</li><li>5</li><li>10</li><li>30</li><li>14</li><li>23</li><li>22</li><li>21</li><li>19</li><li>13</li><li>29</li><li>25</li><li>18</li></ol>\n"
            ]
          },
          "metadata": {
            "tags": []
          }
        }
      ]
    },
    {
      "cell_type": "code",
      "metadata": {
        "colab": {
          "base_uri": "https://localhost:8080/",
          "height": 136
        },
        "id": "yHYWN1XvMCnt",
        "outputId": "ce7bc62f-534f-4542-b46f-6eb77b434471"
      },
      "source": [
        "summary(PlantGrowth)"
      ],
      "execution_count": null,
      "outputs": [
        {
          "output_type": "display_data",
          "data": {
            "text/plain": [
              "     weight       group   \n",
              " Min.   :3.590   ctrl:10  \n",
              " 1st Qu.:4.550   trt1:10  \n",
              " Median :5.155   trt2:10  \n",
              " Mean   :5.073            \n",
              " 3rd Qu.:5.530            \n",
              " Max.   :6.310            "
            ]
          },
          "metadata": {
            "tags": []
          }
        }
      ]
    },
    {
      "cell_type": "code",
      "metadata": {
        "id": "CM9XZAfwJ1i_"
      },
      "source": [
        "library (rankFD)\n",
        "group = factor ( c ( rep ( 1 ,10 ) , rep ( 2 ,10 ) , rep ( 3 ,10 ) ))\n",
        "data = data.frame ( response =PlantGrowth$weight , group = group )\n",
        "# pseudo - ranks :\n",
        "dataPSR = psr ( response ~ group , data = data , psranks = \"Pseudo_Rank\" )"
      ],
      "execution_count": null,
      "outputs": []
    },
    {
      "cell_type": "code",
      "metadata": {
        "colab": {
          "base_uri": "https://localhost:8080/",
          "height": 1027
        },
        "id": "gTrsbE-IKyvi",
        "outputId": "479766ae-3257-43cf-b247-ec0a4b34026e"
      },
      "source": [
        "dataPSR$Rank=R_mid\n",
        "dataPSR"
      ],
      "execution_count": null,
      "outputs": [
        {
          "output_type": "display_data",
          "data": {
            "text/plain": [
              "   response group Pseudo_Rank Rank\n",
              "1  4.17     1      3.5         3.5\n",
              "2  5.58     1     24.0        24.0\n",
              "3  5.18     1     17.0        17.0\n",
              "4  6.11     1     28.0        28.0\n",
              "5  4.50     1      7.0         7.0\n",
              "6  4.61     1      9.0         9.0\n",
              "7  5.17     1     16.0        16.0\n",
              "8  4.53     1      8.0         8.0\n",
              "9  5.33     1     20.0        20.0\n",
              "10 5.14     1     15.0        15.0\n",
              "11 4.81     2     11.0        11.0\n",
              "12 4.17     2      3.5         3.5\n",
              "13 4.41     2      6.0         6.0\n",
              "14 3.59     2      1.0         1.0\n",
              "15 5.87     2     26.0        26.0\n",
              "16 3.83     2      2.0         2.0\n",
              "17 6.03     2     27.0        27.0\n",
              "18 4.89     2     12.0        12.0\n",
              "19 4.32     2      5.0         5.0\n",
              "20 4.69     2     10.0        10.0\n",
              "21 6.31     3     30.0        30.0\n",
              "22 5.12     3     14.0        14.0\n",
              "23 5.54     3     23.0        23.0\n",
              "24 5.50     3     22.0        22.0\n",
              "25 5.37     3     21.0        21.0\n",
              "26 5.29     3     19.0        19.0\n",
              "27 4.92     3     13.0        13.0\n",
              "28 6.15     3     29.0        29.0\n",
              "29 5.80     3     25.0        25.0\n",
              "30 5.26     3     18.0        18.0"
            ],
            "text/latex": "A data.frame: 30 × 4\n\\begin{tabular}{r|llll}\n  & response & group & Pseudo\\_Rank & Rank\\\\\n  & <dbl> & <fct> & <dbl> & <dbl>\\\\\n\\hline\n\t1 & 4.17 & 1 &  3.5 &  3.5\\\\\n\t2 & 5.58 & 1 & 24.0 & 24.0\\\\\n\t3 & 5.18 & 1 & 17.0 & 17.0\\\\\n\t4 & 6.11 & 1 & 28.0 & 28.0\\\\\n\t5 & 4.50 & 1 &  7.0 &  7.0\\\\\n\t6 & 4.61 & 1 &  9.0 &  9.0\\\\\n\t7 & 5.17 & 1 & 16.0 & 16.0\\\\\n\t8 & 4.53 & 1 &  8.0 &  8.0\\\\\n\t9 & 5.33 & 1 & 20.0 & 20.0\\\\\n\t10 & 5.14 & 1 & 15.0 & 15.0\\\\\n\t11 & 4.81 & 2 & 11.0 & 11.0\\\\\n\t12 & 4.17 & 2 &  3.5 &  3.5\\\\\n\t13 & 4.41 & 2 &  6.0 &  6.0\\\\\n\t14 & 3.59 & 2 &  1.0 &  1.0\\\\\n\t15 & 5.87 & 2 & 26.0 & 26.0\\\\\n\t16 & 3.83 & 2 &  2.0 &  2.0\\\\\n\t17 & 6.03 & 2 & 27.0 & 27.0\\\\\n\t18 & 4.89 & 2 & 12.0 & 12.0\\\\\n\t19 & 4.32 & 2 &  5.0 &  5.0\\\\\n\t20 & 4.69 & 2 & 10.0 & 10.0\\\\\n\t21 & 6.31 & 3 & 30.0 & 30.0\\\\\n\t22 & 5.12 & 3 & 14.0 & 14.0\\\\\n\t23 & 5.54 & 3 & 23.0 & 23.0\\\\\n\t24 & 5.50 & 3 & 22.0 & 22.0\\\\\n\t25 & 5.37 & 3 & 21.0 & 21.0\\\\\n\t26 & 5.29 & 3 & 19.0 & 19.0\\\\\n\t27 & 4.92 & 3 & 13.0 & 13.0\\\\\n\t28 & 6.15 & 3 & 29.0 & 29.0\\\\\n\t29 & 5.80 & 3 & 25.0 & 25.0\\\\\n\t30 & 5.26 & 3 & 18.0 & 18.0\\\\\n\\end{tabular}\n",
            "text/markdown": "\nA data.frame: 30 × 4\n\n| <!--/--> | response &lt;dbl&gt; | group &lt;fct&gt; | Pseudo_Rank &lt;dbl&gt; | Rank &lt;dbl&gt; |\n|---|---|---|---|---|\n| 1 | 4.17 | 1 |  3.5 |  3.5 |\n| 2 | 5.58 | 1 | 24.0 | 24.0 |\n| 3 | 5.18 | 1 | 17.0 | 17.0 |\n| 4 | 6.11 | 1 | 28.0 | 28.0 |\n| 5 | 4.50 | 1 |  7.0 |  7.0 |\n| 6 | 4.61 | 1 |  9.0 |  9.0 |\n| 7 | 5.17 | 1 | 16.0 | 16.0 |\n| 8 | 4.53 | 1 |  8.0 |  8.0 |\n| 9 | 5.33 | 1 | 20.0 | 20.0 |\n| 10 | 5.14 | 1 | 15.0 | 15.0 |\n| 11 | 4.81 | 2 | 11.0 | 11.0 |\n| 12 | 4.17 | 2 |  3.5 |  3.5 |\n| 13 | 4.41 | 2 |  6.0 |  6.0 |\n| 14 | 3.59 | 2 |  1.0 |  1.0 |\n| 15 | 5.87 | 2 | 26.0 | 26.0 |\n| 16 | 3.83 | 2 |  2.0 |  2.0 |\n| 17 | 6.03 | 2 | 27.0 | 27.0 |\n| 18 | 4.89 | 2 | 12.0 | 12.0 |\n| 19 | 4.32 | 2 |  5.0 |  5.0 |\n| 20 | 4.69 | 2 | 10.0 | 10.0 |\n| 21 | 6.31 | 3 | 30.0 | 30.0 |\n| 22 | 5.12 | 3 | 14.0 | 14.0 |\n| 23 | 5.54 | 3 | 23.0 | 23.0 |\n| 24 | 5.50 | 3 | 22.0 | 22.0 |\n| 25 | 5.37 | 3 | 21.0 | 21.0 |\n| 26 | 5.29 | 3 | 19.0 | 19.0 |\n| 27 | 4.92 | 3 | 13.0 | 13.0 |\n| 28 | 6.15 | 3 | 29.0 | 29.0 |\n| 29 | 5.80 | 3 | 25.0 | 25.0 |\n| 30 | 5.26 | 3 | 18.0 | 18.0 |\n\n",
            "text/html": [
              "<table class=\"dataframe\">\n",
              "<caption>A data.frame: 30 × 4</caption>\n",
              "<thead>\n",
              "\t<tr><th></th><th scope=col>response</th><th scope=col>group</th><th scope=col>Pseudo_Rank</th><th scope=col>Rank</th></tr>\n",
              "\t<tr><th></th><th scope=col>&lt;dbl&gt;</th><th scope=col>&lt;fct&gt;</th><th scope=col>&lt;dbl&gt;</th><th scope=col>&lt;dbl&gt;</th></tr>\n",
              "</thead>\n",
              "<tbody>\n",
              "\t<tr><th scope=row>1</th><td>4.17</td><td>1</td><td> 3.5</td><td> 3.5</td></tr>\n",
              "\t<tr><th scope=row>2</th><td>5.58</td><td>1</td><td>24.0</td><td>24.0</td></tr>\n",
              "\t<tr><th scope=row>3</th><td>5.18</td><td>1</td><td>17.0</td><td>17.0</td></tr>\n",
              "\t<tr><th scope=row>4</th><td>6.11</td><td>1</td><td>28.0</td><td>28.0</td></tr>\n",
              "\t<tr><th scope=row>5</th><td>4.50</td><td>1</td><td> 7.0</td><td> 7.0</td></tr>\n",
              "\t<tr><th scope=row>6</th><td>4.61</td><td>1</td><td> 9.0</td><td> 9.0</td></tr>\n",
              "\t<tr><th scope=row>7</th><td>5.17</td><td>1</td><td>16.0</td><td>16.0</td></tr>\n",
              "\t<tr><th scope=row>8</th><td>4.53</td><td>1</td><td> 8.0</td><td> 8.0</td></tr>\n",
              "\t<tr><th scope=row>9</th><td>5.33</td><td>1</td><td>20.0</td><td>20.0</td></tr>\n",
              "\t<tr><th scope=row>10</th><td>5.14</td><td>1</td><td>15.0</td><td>15.0</td></tr>\n",
              "\t<tr><th scope=row>11</th><td>4.81</td><td>2</td><td>11.0</td><td>11.0</td></tr>\n",
              "\t<tr><th scope=row>12</th><td>4.17</td><td>2</td><td> 3.5</td><td> 3.5</td></tr>\n",
              "\t<tr><th scope=row>13</th><td>4.41</td><td>2</td><td> 6.0</td><td> 6.0</td></tr>\n",
              "\t<tr><th scope=row>14</th><td>3.59</td><td>2</td><td> 1.0</td><td> 1.0</td></tr>\n",
              "\t<tr><th scope=row>15</th><td>5.87</td><td>2</td><td>26.0</td><td>26.0</td></tr>\n",
              "\t<tr><th scope=row>16</th><td>3.83</td><td>2</td><td> 2.0</td><td> 2.0</td></tr>\n",
              "\t<tr><th scope=row>17</th><td>6.03</td><td>2</td><td>27.0</td><td>27.0</td></tr>\n",
              "\t<tr><th scope=row>18</th><td>4.89</td><td>2</td><td>12.0</td><td>12.0</td></tr>\n",
              "\t<tr><th scope=row>19</th><td>4.32</td><td>2</td><td> 5.0</td><td> 5.0</td></tr>\n",
              "\t<tr><th scope=row>20</th><td>4.69</td><td>2</td><td>10.0</td><td>10.0</td></tr>\n",
              "\t<tr><th scope=row>21</th><td>6.31</td><td>3</td><td>30.0</td><td>30.0</td></tr>\n",
              "\t<tr><th scope=row>22</th><td>5.12</td><td>3</td><td>14.0</td><td>14.0</td></tr>\n",
              "\t<tr><th scope=row>23</th><td>5.54</td><td>3</td><td>23.0</td><td>23.0</td></tr>\n",
              "\t<tr><th scope=row>24</th><td>5.50</td><td>3</td><td>22.0</td><td>22.0</td></tr>\n",
              "\t<tr><th scope=row>25</th><td>5.37</td><td>3</td><td>21.0</td><td>21.0</td></tr>\n",
              "\t<tr><th scope=row>26</th><td>5.29</td><td>3</td><td>19.0</td><td>19.0</td></tr>\n",
              "\t<tr><th scope=row>27</th><td>4.92</td><td>3</td><td>13.0</td><td>13.0</td></tr>\n",
              "\t<tr><th scope=row>28</th><td>6.15</td><td>3</td><td>29.0</td><td>29.0</td></tr>\n",
              "\t<tr><th scope=row>29</th><td>5.80</td><td>3</td><td>25.0</td><td>25.0</td></tr>\n",
              "\t<tr><th scope=row>30</th><td>5.26</td><td>3</td><td>18.0</td><td>18.0</td></tr>\n",
              "</tbody>\n",
              "</table>\n"
            ]
          },
          "metadata": {
            "tags": []
          }
        }
      ]
    },
    {
      "cell_type": "code",
      "metadata": {
        "colab": {
          "base_uri": "https://localhost:8080/",
          "height": 190
        },
        "id": "PmcSJNGxWTRH",
        "outputId": "bddd0996-8048-429e-f12c-6fb8c1a1b48f"
      },
      "source": [
        "# calculation of mean mid-Rank  for individual group\n",
        "R_i=aggregate(x = dataPSR$Rank,                # Specify data column\n",
        "          by = list(dataPSR$group),              # Specify group indicator\n",
        "          FUN = mean) \n",
        "          \n",
        "# average mid rank per group \n",
        "R_i"
      ],
      "execution_count": null,
      "outputs": [
        {
          "output_type": "display_data",
          "data": {
            "text/plain": [
              "  Group.1 x    \n",
              "1 1       14.75\n",
              "2 2       10.35\n",
              "3 3       21.40"
            ],
            "text/latex": "A data.frame: 3 × 2\n\\begin{tabular}{ll}\n Group.1 & x\\\\\n <fct> & <dbl>\\\\\n\\hline\n\t 1 & 14.75\\\\\n\t 2 & 10.35\\\\\n\t 3 & 21.40\\\\\n\\end{tabular}\n",
            "text/markdown": "\nA data.frame: 3 × 2\n\n| Group.1 &lt;fct&gt; | x &lt;dbl&gt; |\n|---|---|\n| 1 | 14.75 |\n| 2 | 10.35 |\n| 3 | 21.40 |\n\n",
            "text/html": [
              "<table class=\"dataframe\">\n",
              "<caption>A data.frame: 3 × 2</caption>\n",
              "<thead>\n",
              "\t<tr><th scope=col>Group.1</th><th scope=col>x</th></tr>\n",
              "\t<tr><th scope=col>&lt;fct&gt;</th><th scope=col>&lt;dbl&gt;</th></tr>\n",
              "</thead>\n",
              "<tbody>\n",
              "\t<tr><td>1</td><td>14.75</td></tr>\n",
              "\t<tr><td>2</td><td>10.35</td></tr>\n",
              "\t<tr><td>3</td><td>21.40</td></tr>\n",
              "</tbody>\n",
              "</table>\n"
            ]
          },
          "metadata": {
            "tags": []
          }
        }
      ]
    },
    {
      "cell_type": "code",
      "metadata": {
        "colab": {
          "base_uri": "https://localhost:8080/"
        },
        "id": "7L8nIA-GWjlv",
        "outputId": "003b3f5e-7322-4503-b875-d688b4f9636f"
      },
      "source": [
        "#relative effects p1_hat , p2_hat , and p3_hat\n",
        "p_i= 1/30*(R_i$x-0.5)\n",
        "\n",
        "print(paste0('p1_hat',p_i[1]))\n",
        "print(paste0('p2_hat',p_i[2]))\n",
        "print(paste0('p3_hat',p_i[3]))"
      ],
      "execution_count": null,
      "outputs": [
        {
          "output_type": "stream",
          "text": [
            "[1] \"p1_hat0.475\"\n",
            "[1] \"p2_hat0.328333333333333\"\n",
            "[1] \"p3_hat0.696666666666667\"\n"
          ],
          "name": "stdout"
        }
      ]
    },
    {
      "cell_type": "code",
      "metadata": {
        "colab": {
          "base_uri": "https://localhost:8080/",
          "height": 190
        },
        "id": "nt7aU11aMS5M",
        "outputId": "adffd486-09f0-4933-cba3-625aade28e82"
      },
      "source": [
        "# calculation of mean Pseudo_Rank  for individual group\n",
        "R_i_Psi=aggregate(x = dataPSR$Pseudo_Rank,                # Specify data column\n",
        "          by = list(dataPSR$group),              # Specify group indicator\n",
        "          FUN = mean) \n",
        "\n",
        "# average Psi rank per group \n",
        "R_i_Psi"
      ],
      "execution_count": null,
      "outputs": [
        {
          "output_type": "display_data",
          "data": {
            "text/plain": [
              "  Group.1 x    \n",
              "1 1       14.75\n",
              "2 2       10.35\n",
              "3 3       21.40"
            ],
            "text/latex": "A data.frame: 3 × 2\n\\begin{tabular}{ll}\n Group.1 & x\\\\\n <fct> & <dbl>\\\\\n\\hline\n\t 1 & 14.75\\\\\n\t 2 & 10.35\\\\\n\t 3 & 21.40\\\\\n\\end{tabular}\n",
            "text/markdown": "\nA data.frame: 3 × 2\n\n| Group.1 &lt;fct&gt; | x &lt;dbl&gt; |\n|---|---|\n| 1 | 14.75 |\n| 2 | 10.35 |\n| 3 | 21.40 |\n\n",
            "text/html": [
              "<table class=\"dataframe\">\n",
              "<caption>A data.frame: 3 × 2</caption>\n",
              "<thead>\n",
              "\t<tr><th scope=col>Group.1</th><th scope=col>x</th></tr>\n",
              "\t<tr><th scope=col>&lt;fct&gt;</th><th scope=col>&lt;dbl&gt;</th></tr>\n",
              "</thead>\n",
              "<tbody>\n",
              "\t<tr><td>1</td><td>14.75</td></tr>\n",
              "\t<tr><td>2</td><td>10.35</td></tr>\n",
              "\t<tr><td>3</td><td>21.40</td></tr>\n",
              "</tbody>\n",
              "</table>\n"
            ]
          },
          "metadata": {
            "tags": []
          }
        }
      ]
    },
    {
      "cell_type": "code",
      "metadata": {
        "colab": {
          "base_uri": "https://localhost:8080/"
        },
        "id": "D-Xgn9aBQ2FI",
        "outputId": "b91eb978-a46f-49aa-fe4d-0a83e1e24e7d"
      },
      "source": [
        "Psi_i= 1/25*(R_i_Psi$x-0.5)\n",
        "##relative effects ψ1_hat , ψ2_hat , and ψ3_hat .\n",
        "print(paste0('ψ1_hat',Psi_i[1]))\n",
        "print(paste0('ψ2_hat',Psi_i[2]))\n",
        "print(paste0('ψ3_hat',Psi_i[3]))"
      ],
      "execution_count": null,
      "outputs": [
        {
          "output_type": "stream",
          "text": [
            "[1] \"ψ1_hat0.57\"\n",
            "[1] \"ψ2_hat0.394\"\n",
            "[1] \"ψ3_hat0.836\"\n"
          ],
          "name": "stdout"
        }
      ]
    },
    {
      "cell_type": "code",
      "metadata": {
        "colab": {
          "base_uri": "https://localhost:8080/",
          "height": 872
        },
        "id": "DzAnk7_vQ5_C",
        "outputId": "cb43a355-4cc1-43ef-e4d3-82bb49364569"
      },
      "source": [
        "PlantGrowth_after_deletion <- PlantGrowth[c(1:25),]\n",
        "PlantGrowth_after_deletion"
      ],
      "execution_count": null,
      "outputs": [
        {
          "output_type": "display_data",
          "data": {
            "text/plain": [
              "   weight group\n",
              "1  4.17   ctrl \n",
              "2  5.58   ctrl \n",
              "3  5.18   ctrl \n",
              "4  6.11   ctrl \n",
              "5  4.50   ctrl \n",
              "6  4.61   ctrl \n",
              "7  5.17   ctrl \n",
              "8  4.53   ctrl \n",
              "9  5.33   ctrl \n",
              "10 5.14   ctrl \n",
              "11 4.81   trt1 \n",
              "12 4.17   trt1 \n",
              "13 4.41   trt1 \n",
              "14 3.59   trt1 \n",
              "15 5.87   trt1 \n",
              "16 3.83   trt1 \n",
              "17 6.03   trt1 \n",
              "18 4.89   trt1 \n",
              "19 4.32   trt1 \n",
              "20 4.69   trt1 \n",
              "21 6.31   trt2 \n",
              "22 5.12   trt2 \n",
              "23 5.54   trt2 \n",
              "24 5.50   trt2 \n",
              "25 5.37   trt2 "
            ],
            "text/latex": "A data.frame: 25 × 2\n\\begin{tabular}{r|ll}\n  & weight & group\\\\\n  & <dbl> & <fct>\\\\\n\\hline\n\t1 & 4.17 & ctrl\\\\\n\t2 & 5.58 & ctrl\\\\\n\t3 & 5.18 & ctrl\\\\\n\t4 & 6.11 & ctrl\\\\\n\t5 & 4.50 & ctrl\\\\\n\t6 & 4.61 & ctrl\\\\\n\t7 & 5.17 & ctrl\\\\\n\t8 & 4.53 & ctrl\\\\\n\t9 & 5.33 & ctrl\\\\\n\t10 & 5.14 & ctrl\\\\\n\t11 & 4.81 & trt1\\\\\n\t12 & 4.17 & trt1\\\\\n\t13 & 4.41 & trt1\\\\\n\t14 & 3.59 & trt1\\\\\n\t15 & 5.87 & trt1\\\\\n\t16 & 3.83 & trt1\\\\\n\t17 & 6.03 & trt1\\\\\n\t18 & 4.89 & trt1\\\\\n\t19 & 4.32 & trt1\\\\\n\t20 & 4.69 & trt1\\\\\n\t21 & 6.31 & trt2\\\\\n\t22 & 5.12 & trt2\\\\\n\t23 & 5.54 & trt2\\\\\n\t24 & 5.50 & trt2\\\\\n\t25 & 5.37 & trt2\\\\\n\\end{tabular}\n",
            "text/markdown": "\nA data.frame: 25 × 2\n\n| <!--/--> | weight &lt;dbl&gt; | group &lt;fct&gt; |\n|---|---|---|\n| 1 | 4.17 | ctrl |\n| 2 | 5.58 | ctrl |\n| 3 | 5.18 | ctrl |\n| 4 | 6.11 | ctrl |\n| 5 | 4.50 | ctrl |\n| 6 | 4.61 | ctrl |\n| 7 | 5.17 | ctrl |\n| 8 | 4.53 | ctrl |\n| 9 | 5.33 | ctrl |\n| 10 | 5.14 | ctrl |\n| 11 | 4.81 | trt1 |\n| 12 | 4.17 | trt1 |\n| 13 | 4.41 | trt1 |\n| 14 | 3.59 | trt1 |\n| 15 | 5.87 | trt1 |\n| 16 | 3.83 | trt1 |\n| 17 | 6.03 | trt1 |\n| 18 | 4.89 | trt1 |\n| 19 | 4.32 | trt1 |\n| 20 | 4.69 | trt1 |\n| 21 | 6.31 | trt2 |\n| 22 | 5.12 | trt2 |\n| 23 | 5.54 | trt2 |\n| 24 | 5.50 | trt2 |\n| 25 | 5.37 | trt2 |\n\n",
            "text/html": [
              "<table class=\"dataframe\">\n",
              "<caption>A data.frame: 25 × 2</caption>\n",
              "<thead>\n",
              "\t<tr><th></th><th scope=col>weight</th><th scope=col>group</th></tr>\n",
              "\t<tr><th></th><th scope=col>&lt;dbl&gt;</th><th scope=col>&lt;fct&gt;</th></tr>\n",
              "</thead>\n",
              "<tbody>\n",
              "\t<tr><th scope=row>1</th><td>4.17</td><td>ctrl</td></tr>\n",
              "\t<tr><th scope=row>2</th><td>5.58</td><td>ctrl</td></tr>\n",
              "\t<tr><th scope=row>3</th><td>5.18</td><td>ctrl</td></tr>\n",
              "\t<tr><th scope=row>4</th><td>6.11</td><td>ctrl</td></tr>\n",
              "\t<tr><th scope=row>5</th><td>4.50</td><td>ctrl</td></tr>\n",
              "\t<tr><th scope=row>6</th><td>4.61</td><td>ctrl</td></tr>\n",
              "\t<tr><th scope=row>7</th><td>5.17</td><td>ctrl</td></tr>\n",
              "\t<tr><th scope=row>8</th><td>4.53</td><td>ctrl</td></tr>\n",
              "\t<tr><th scope=row>9</th><td>5.33</td><td>ctrl</td></tr>\n",
              "\t<tr><th scope=row>10</th><td>5.14</td><td>ctrl</td></tr>\n",
              "\t<tr><th scope=row>11</th><td>4.81</td><td>trt1</td></tr>\n",
              "\t<tr><th scope=row>12</th><td>4.17</td><td>trt1</td></tr>\n",
              "\t<tr><th scope=row>13</th><td>4.41</td><td>trt1</td></tr>\n",
              "\t<tr><th scope=row>14</th><td>3.59</td><td>trt1</td></tr>\n",
              "\t<tr><th scope=row>15</th><td>5.87</td><td>trt1</td></tr>\n",
              "\t<tr><th scope=row>16</th><td>3.83</td><td>trt1</td></tr>\n",
              "\t<tr><th scope=row>17</th><td>6.03</td><td>trt1</td></tr>\n",
              "\t<tr><th scope=row>18</th><td>4.89</td><td>trt1</td></tr>\n",
              "\t<tr><th scope=row>19</th><td>4.32</td><td>trt1</td></tr>\n",
              "\t<tr><th scope=row>20</th><td>4.69</td><td>trt1</td></tr>\n",
              "\t<tr><th scope=row>21</th><td>6.31</td><td>trt2</td></tr>\n",
              "\t<tr><th scope=row>22</th><td>5.12</td><td>trt2</td></tr>\n",
              "\t<tr><th scope=row>23</th><td>5.54</td><td>trt2</td></tr>\n",
              "\t<tr><th scope=row>24</th><td>5.50</td><td>trt2</td></tr>\n",
              "\t<tr><th scope=row>25</th><td>5.37</td><td>trt2</td></tr>\n",
              "</tbody>\n",
              "</table>\n"
            ]
          },
          "metadata": {
            "tags": []
          }
        }
      ]
    },
    {
      "cell_type": "code",
      "metadata": {
        "colab": {
          "base_uri": "https://localhost:8080/",
          "height": 872
        },
        "id": "diCwBaztZcKm",
        "outputId": "2dae5cac-909a-49f0-e5a7-f85709b00364"
      },
      "source": [
        "group = factor ( c ( rep ( 1 ,10 ) , rep ( 2 ,10 ) , rep ( 3 ,5 ) ))\n",
        "data = data.frame ( response =PlantGrowth_after_deletion$weight , group = group )\n",
        "# pseudo - ranks :\n",
        "dataPSR = psr ( response ~ group , data = data , psranks = \"Pseudo_Rank\" )\n",
        "\n",
        "dataPSR$Rank=rank(PlantGrowth_after_deletion$weight)\n",
        "dataPSR"
      ],
      "execution_count": null,
      "outputs": [
        {
          "output_type": "display_data",
          "data": {
            "text/plain": [
              "   response group Pseudo_Rank Rank\n",
              "1  4.17     1      3.0000000   3.5\n",
              "2  5.58     1     20.9166667  21.0\n",
              "3  5.18     1     14.2500000  16.0\n",
              "4  6.11     1     23.4166667  24.0\n",
              "5  4.50     1      5.9166667   7.0\n",
              "6  4.61     1      7.5833333   9.0\n",
              "7  5.17     1     13.4166667  15.0\n",
              "8  4.53     1      6.7500000   8.0\n",
              "9  5.33     1     15.0833333  17.0\n",
              "10 5.14     1     12.5833333  14.0\n",
              "11 4.81     2      9.2500000  11.0\n",
              "12 4.17     2      3.0000000   3.5\n",
              "13 4.41     2      5.0833333   6.0\n",
              "14 3.59     2      0.9166667   1.0\n",
              "15 5.87     2     21.7500000  22.0\n",
              "16 3.83     2      1.7500000   2.0\n",
              "17 6.03     2     22.5833333  23.0\n",
              "18 4.89     2     10.0833333  12.0\n",
              "19 4.32     2      4.2500000   5.0\n",
              "20 4.69     2      8.4166667  10.0\n",
              "21 6.31     3     24.6666667  25.0\n",
              "22 5.12     3     11.3333333  13.0\n",
              "23 5.54     3     19.6666667  20.0\n",
              "24 5.50     3     18.0000000  19.0\n",
              "25 5.37     3     16.3333333  18.0"
            ],
            "text/latex": "A data.frame: 25 × 4\n\\begin{tabular}{r|llll}\n  & response & group & Pseudo\\_Rank & Rank\\\\\n  & <dbl> & <fct> & <dbl> & <dbl>\\\\\n\\hline\n\t1 & 4.17 & 1 &  3.0000000 &  3.5\\\\\n\t2 & 5.58 & 1 & 20.9166667 & 21.0\\\\\n\t3 & 5.18 & 1 & 14.2500000 & 16.0\\\\\n\t4 & 6.11 & 1 & 23.4166667 & 24.0\\\\\n\t5 & 4.50 & 1 &  5.9166667 &  7.0\\\\\n\t6 & 4.61 & 1 &  7.5833333 &  9.0\\\\\n\t7 & 5.17 & 1 & 13.4166667 & 15.0\\\\\n\t8 & 4.53 & 1 &  6.7500000 &  8.0\\\\\n\t9 & 5.33 & 1 & 15.0833333 & 17.0\\\\\n\t10 & 5.14 & 1 & 12.5833333 & 14.0\\\\\n\t11 & 4.81 & 2 &  9.2500000 & 11.0\\\\\n\t12 & 4.17 & 2 &  3.0000000 &  3.5\\\\\n\t13 & 4.41 & 2 &  5.0833333 &  6.0\\\\\n\t14 & 3.59 & 2 &  0.9166667 &  1.0\\\\\n\t15 & 5.87 & 2 & 21.7500000 & 22.0\\\\\n\t16 & 3.83 & 2 &  1.7500000 &  2.0\\\\\n\t17 & 6.03 & 2 & 22.5833333 & 23.0\\\\\n\t18 & 4.89 & 2 & 10.0833333 & 12.0\\\\\n\t19 & 4.32 & 2 &  4.2500000 &  5.0\\\\\n\t20 & 4.69 & 2 &  8.4166667 & 10.0\\\\\n\t21 & 6.31 & 3 & 24.6666667 & 25.0\\\\\n\t22 & 5.12 & 3 & 11.3333333 & 13.0\\\\\n\t23 & 5.54 & 3 & 19.6666667 & 20.0\\\\\n\t24 & 5.50 & 3 & 18.0000000 & 19.0\\\\\n\t25 & 5.37 & 3 & 16.3333333 & 18.0\\\\\n\\end{tabular}\n",
            "text/markdown": "\nA data.frame: 25 × 4\n\n| <!--/--> | response &lt;dbl&gt; | group &lt;fct&gt; | Pseudo_Rank &lt;dbl&gt; | Rank &lt;dbl&gt; |\n|---|---|---|---|---|\n| 1 | 4.17 | 1 |  3.0000000 |  3.5 |\n| 2 | 5.58 | 1 | 20.9166667 | 21.0 |\n| 3 | 5.18 | 1 | 14.2500000 | 16.0 |\n| 4 | 6.11 | 1 | 23.4166667 | 24.0 |\n| 5 | 4.50 | 1 |  5.9166667 |  7.0 |\n| 6 | 4.61 | 1 |  7.5833333 |  9.0 |\n| 7 | 5.17 | 1 | 13.4166667 | 15.0 |\n| 8 | 4.53 | 1 |  6.7500000 |  8.0 |\n| 9 | 5.33 | 1 | 15.0833333 | 17.0 |\n| 10 | 5.14 | 1 | 12.5833333 | 14.0 |\n| 11 | 4.81 | 2 |  9.2500000 | 11.0 |\n| 12 | 4.17 | 2 |  3.0000000 |  3.5 |\n| 13 | 4.41 | 2 |  5.0833333 |  6.0 |\n| 14 | 3.59 | 2 |  0.9166667 |  1.0 |\n| 15 | 5.87 | 2 | 21.7500000 | 22.0 |\n| 16 | 3.83 | 2 |  1.7500000 |  2.0 |\n| 17 | 6.03 | 2 | 22.5833333 | 23.0 |\n| 18 | 4.89 | 2 | 10.0833333 | 12.0 |\n| 19 | 4.32 | 2 |  4.2500000 |  5.0 |\n| 20 | 4.69 | 2 |  8.4166667 | 10.0 |\n| 21 | 6.31 | 3 | 24.6666667 | 25.0 |\n| 22 | 5.12 | 3 | 11.3333333 | 13.0 |\n| 23 | 5.54 | 3 | 19.6666667 | 20.0 |\n| 24 | 5.50 | 3 | 18.0000000 | 19.0 |\n| 25 | 5.37 | 3 | 16.3333333 | 18.0 |\n\n",
            "text/html": [
              "<table class=\"dataframe\">\n",
              "<caption>A data.frame: 25 × 4</caption>\n",
              "<thead>\n",
              "\t<tr><th></th><th scope=col>response</th><th scope=col>group</th><th scope=col>Pseudo_Rank</th><th scope=col>Rank</th></tr>\n",
              "\t<tr><th></th><th scope=col>&lt;dbl&gt;</th><th scope=col>&lt;fct&gt;</th><th scope=col>&lt;dbl&gt;</th><th scope=col>&lt;dbl&gt;</th></tr>\n",
              "</thead>\n",
              "<tbody>\n",
              "\t<tr><th scope=row>1</th><td>4.17</td><td>1</td><td> 3.0000000</td><td> 3.5</td></tr>\n",
              "\t<tr><th scope=row>2</th><td>5.58</td><td>1</td><td>20.9166667</td><td>21.0</td></tr>\n",
              "\t<tr><th scope=row>3</th><td>5.18</td><td>1</td><td>14.2500000</td><td>16.0</td></tr>\n",
              "\t<tr><th scope=row>4</th><td>6.11</td><td>1</td><td>23.4166667</td><td>24.0</td></tr>\n",
              "\t<tr><th scope=row>5</th><td>4.50</td><td>1</td><td> 5.9166667</td><td> 7.0</td></tr>\n",
              "\t<tr><th scope=row>6</th><td>4.61</td><td>1</td><td> 7.5833333</td><td> 9.0</td></tr>\n",
              "\t<tr><th scope=row>7</th><td>5.17</td><td>1</td><td>13.4166667</td><td>15.0</td></tr>\n",
              "\t<tr><th scope=row>8</th><td>4.53</td><td>1</td><td> 6.7500000</td><td> 8.0</td></tr>\n",
              "\t<tr><th scope=row>9</th><td>5.33</td><td>1</td><td>15.0833333</td><td>17.0</td></tr>\n",
              "\t<tr><th scope=row>10</th><td>5.14</td><td>1</td><td>12.5833333</td><td>14.0</td></tr>\n",
              "\t<tr><th scope=row>11</th><td>4.81</td><td>2</td><td> 9.2500000</td><td>11.0</td></tr>\n",
              "\t<tr><th scope=row>12</th><td>4.17</td><td>2</td><td> 3.0000000</td><td> 3.5</td></tr>\n",
              "\t<tr><th scope=row>13</th><td>4.41</td><td>2</td><td> 5.0833333</td><td> 6.0</td></tr>\n",
              "\t<tr><th scope=row>14</th><td>3.59</td><td>2</td><td> 0.9166667</td><td> 1.0</td></tr>\n",
              "\t<tr><th scope=row>15</th><td>5.87</td><td>2</td><td>21.7500000</td><td>22.0</td></tr>\n",
              "\t<tr><th scope=row>16</th><td>3.83</td><td>2</td><td> 1.7500000</td><td> 2.0</td></tr>\n",
              "\t<tr><th scope=row>17</th><td>6.03</td><td>2</td><td>22.5833333</td><td>23.0</td></tr>\n",
              "\t<tr><th scope=row>18</th><td>4.89</td><td>2</td><td>10.0833333</td><td>12.0</td></tr>\n",
              "\t<tr><th scope=row>19</th><td>4.32</td><td>2</td><td> 4.2500000</td><td> 5.0</td></tr>\n",
              "\t<tr><th scope=row>20</th><td>4.69</td><td>2</td><td> 8.4166667</td><td>10.0</td></tr>\n",
              "\t<tr><th scope=row>21</th><td>6.31</td><td>3</td><td>24.6666667</td><td>25.0</td></tr>\n",
              "\t<tr><th scope=row>22</th><td>5.12</td><td>3</td><td>11.3333333</td><td>13.0</td></tr>\n",
              "\t<tr><th scope=row>23</th><td>5.54</td><td>3</td><td>19.6666667</td><td>20.0</td></tr>\n",
              "\t<tr><th scope=row>24</th><td>5.50</td><td>3</td><td>18.0000000</td><td>19.0</td></tr>\n",
              "\t<tr><th scope=row>25</th><td>5.37</td><td>3</td><td>16.3333333</td><td>18.0</td></tr>\n",
              "</tbody>\n",
              "</table>\n"
            ]
          },
          "metadata": {
            "tags": []
          }
        }
      ]
    },
    {
      "cell_type": "code",
      "metadata": {
        "colab": {
          "base_uri": "https://localhost:8080/",
          "height": 190
        },
        "id": "3U48K4SyZfgU",
        "outputId": "d773bc87-2458-4163-c187-c0bee574b36c"
      },
      "source": [
        "# calculation of mean mid-Rank  for individual group\n",
        "R_i=aggregate(x = dataPSR$Rank,                # Specify data column\n",
        "          by = list(dataPSR$group),              # Specify group indicator\n",
        "          FUN = mean) \n",
        "\n",
        "# average mid rank per group \n",
        "R_i"
      ],
      "execution_count": null,
      "outputs": [
        {
          "output_type": "display_data",
          "data": {
            "text/plain": [
              "  Group.1 x    \n",
              "1 1       13.45\n",
              "2 2        9.55\n",
              "3 3       19.00"
            ],
            "text/latex": "A data.frame: 3 × 2\n\\begin{tabular}{ll}\n Group.1 & x\\\\\n <fct> & <dbl>\\\\\n\\hline\n\t 1 & 13.45\\\\\n\t 2 &  9.55\\\\\n\t 3 & 19.00\\\\\n\\end{tabular}\n",
            "text/markdown": "\nA data.frame: 3 × 2\n\n| Group.1 &lt;fct&gt; | x &lt;dbl&gt; |\n|---|---|\n| 1 | 13.45 |\n| 2 |  9.55 |\n| 3 | 19.00 |\n\n",
            "text/html": [
              "<table class=\"dataframe\">\n",
              "<caption>A data.frame: 3 × 2</caption>\n",
              "<thead>\n",
              "\t<tr><th scope=col>Group.1</th><th scope=col>x</th></tr>\n",
              "\t<tr><th scope=col>&lt;fct&gt;</th><th scope=col>&lt;dbl&gt;</th></tr>\n",
              "</thead>\n",
              "<tbody>\n",
              "\t<tr><td>1</td><td>13.45</td></tr>\n",
              "\t<tr><td>2</td><td> 9.55</td></tr>\n",
              "\t<tr><td>3</td><td>19.00</td></tr>\n",
              "</tbody>\n",
              "</table>\n"
            ]
          },
          "metadata": {
            "tags": []
          }
        }
      ]
    },
    {
      "cell_type": "code",
      "metadata": {
        "colab": {
          "base_uri": "https://localhost:8080/"
        },
        "id": "B8TbsafDauVj",
        "outputId": "c6fbbc67-ccb4-457c-ff69-1c067c1b3820"
      },
      "source": [
        "#relative effects p1_hat , p2_hat , and p3_hat\n",
        "p_i= 1/25*(R_i$x-0.5)\n",
        "\n",
        "print(paste0('p1_hat',p_i[1]))\n",
        "print(paste0('p2_hat',p_i[2]))\n",
        "print(paste0('p3_hat',p_i[3]))"
      ],
      "execution_count": null,
      "outputs": [
        {
          "output_type": "stream",
          "text": [
            "[1] \"p1_hat0.518\"\n",
            "[1] \"p2_hat0.362\"\n",
            "[1] \"p3_hat0.74\"\n"
          ],
          "name": "stdout"
        }
      ]
    },
    {
      "cell_type": "code",
      "metadata": {
        "colab": {
          "base_uri": "https://localhost:8080/",
          "height": 190
        },
        "id": "bLhGIT72bQKG",
        "outputId": "ab3483eb-89f9-4076-ca37-5d4dc931e96c"
      },
      "source": [
        "# calculation of mean Pseudo_Rank  for individual group\n",
        "R_i_Psi=aggregate(x = dataPSR$Pseudo_Rank,                # Specify data column\n",
        "          by = list(dataPSR$group),              # Specify group indicator\n",
        "          FUN = mean) \n",
        "\n",
        "# average Psi rank per group \n",
        "R_i_Psi"
      ],
      "execution_count": null,
      "outputs": [
        {
          "output_type": "display_data",
          "data": {
            "text/plain": [
              "  Group.1 x        \n",
              "1 1       12.291667\n",
              "2 2        8.708333\n",
              "3 3       18.000000"
            ],
            "text/latex": "A data.frame: 3 × 2\n\\begin{tabular}{ll}\n Group.1 & x\\\\\n <fct> & <dbl>\\\\\n\\hline\n\t 1 & 12.291667\\\\\n\t 2 &  8.708333\\\\\n\t 3 & 18.000000\\\\\n\\end{tabular}\n",
            "text/markdown": "\nA data.frame: 3 × 2\n\n| Group.1 &lt;fct&gt; | x &lt;dbl&gt; |\n|---|---|\n| 1 | 12.291667 |\n| 2 |  8.708333 |\n| 3 | 18.000000 |\n\n",
            "text/html": [
              "<table class=\"dataframe\">\n",
              "<caption>A data.frame: 3 × 2</caption>\n",
              "<thead>\n",
              "\t<tr><th scope=col>Group.1</th><th scope=col>x</th></tr>\n",
              "\t<tr><th scope=col>&lt;fct&gt;</th><th scope=col>&lt;dbl&gt;</th></tr>\n",
              "</thead>\n",
              "<tbody>\n",
              "\t<tr><td>1</td><td>12.291667</td></tr>\n",
              "\t<tr><td>2</td><td> 8.708333</td></tr>\n",
              "\t<tr><td>3</td><td>18.000000</td></tr>\n",
              "</tbody>\n",
              "</table>\n"
            ]
          },
          "metadata": {
            "tags": []
          }
        }
      ]
    },
    {
      "cell_type": "code",
      "metadata": {
        "colab": {
          "base_uri": "https://localhost:8080/"
        },
        "id": "puW_q4Pubcoh",
        "outputId": "a7e162b9-2655-48de-df80-4e30935bf7c8"
      },
      "source": [
        "Psi_i= 1/25*(R_i_Psi$x-0.5)\n",
        "##relative effects ψ1_hat , ψ2_hat , and ψ3_hat .\n",
        "print(paste0('ψ1_hat',Psi_i[1]))\n",
        "print(paste0('ψ2_hat',Psi_i[2]))\n",
        "print(paste0('ψ3_hat',Psi_i[3]))"
      ],
      "execution_count": null,
      "outputs": [
        {
          "output_type": "stream",
          "text": [
            "[1] \"ψ1_hat0.471666666666667\"\n",
            "[1] \"ψ2_hat0.328333333333333\"\n",
            "[1] \"ψ3_hat0.7\"\n"
          ],
          "name": "stdout"
        }
      ]
    }
  ]
}