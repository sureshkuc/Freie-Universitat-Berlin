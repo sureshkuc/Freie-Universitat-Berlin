{
  "nbformat": 4,
  "nbformat_minor": 0,
  "metadata": {
    "colab": {
      "name": "Stats-sheet3.ipynb",
      "provenance": [],
      "collapsed_sections": [],
      "authorship_tag": "ABX9TyMlMeAWDyLJr2WJwks9Cg36"
    },
    "kernelspec": {
      "name": "ir",
      "display_name": "R"
    },
    "language_info": {
      "name": "R"
    }
  },
  "cells": [
    {
      "cell_type": "code",
      "metadata": {
        "id": "j3nqTFCkSR_E"
      },
      "source": [
        "Calculate the two-sided p-value in R using pnorm and check your results with the command\n",
        "rank.two.samples"
      ],
      "execution_count": null,
      "outputs": []
    },
    {
      "cell_type": "code",
      "metadata": {
        "colab": {
          "base_uri": "https://localhost:8080/"
        },
        "id": "Dnp50hDqTcIe",
        "outputId": "e8416cc8-63f8-4f9b-9b67-6cfbd93e3d45"
      },
      "source": [
        "install.packages(\"coin\")\n",
        "install.packages(\"rankFD\")\n",
        "library ( coin )\n",
        "library ( rankFD )"
      ],
      "execution_count": null,
      "outputs": [
        {
          "output_type": "stream",
          "text": [
            "Installing package into ‘/usr/local/lib/R/site-library’\n",
            "(as ‘lib’ is unspecified)\n",
            "\n",
            "also installing the dependencies ‘zoo’, ‘TH.data’, ‘sandwich’, ‘libcoin’, ‘matrixStats’, ‘modeltools’, ‘mvtnorm’, ‘multcomp’\n",
            "\n",
            "\n",
            "Installing package into ‘/usr/local/lib/R/site-library’\n",
            "(as ‘lib’ is unspecified)\n",
            "\n",
            "Loading required package: survival\n",
            "\n"
          ],
          "name": "stderr"
        }
      ]
    },
    {
      "cell_type": "code",
      "metadata": {
        "colab": {
          "base_uri": "https://localhost:8080/",
          "height": 34
        },
        "id": "4VMM8x2iSfHq",
        "outputId": "d14d1211-fb46-4d44-9c88-6f3ad5d77fa7"
      },
      "source": [
        "gp1 = c ( 3 , 4  , 4,5 )\n",
        "gp2 = c ( 3 ,  5 , 6 , 8 , 9 )\n",
        "two_sided_p_value_calculation_WMW_statistic<-function(gp1,gp2){\n",
        "    Rik = rank ( c ( gp1 , gp2 ))\n",
        "    n1 = length ( gp1 )\n",
        "    n2 = length ( gp2 )\n",
        "    R1bar = mean( Rik [ 1 : n1 ])\n",
        "    R2bar = mean( Rik [ n1 + 1 : n2 ])\n",
        "    N = n1 + n2\n",
        "    phat = 1 / N * ( R2bar - R1bar ) + 0.5\n",
        "    sigma0_hat_square = sum (( Rik - ( N + 1 )/ 2 )^ 2 ) / ( N ^ 2 * ( N - 1 ))\n",
        "    #WMM test statistic\n",
        "    WN = sqrt (( n1 * n2 ) / ( N * sigma0_hat_square )) * ( phat - 1 / 2 )\n",
        "    #two sided p-value\n",
        "    p_value=min( 2 * pnorm ( WN ) , 2 * ( 1 - pnorm ( WN )))\n",
        "    return(p_value)\n",
        "}\n",
        "two_sided_p_value_calculation_WMW_statistic(gp1,gp2)"
      ],
      "execution_count": null,
      "outputs": [
        {
          "output_type": "display_data",
          "data": {
            "text/plain": [
              "[1] 0.136641"
            ],
            "text/latex": "0.136641004807483",
            "text/markdown": "0.136641004807483",
            "text/html": [
              "0.136641004807483"
            ]
          },
          "metadata": {
            "tags": []
          }
        }
      ]
    },
    {
      "cell_type": "code",
      "metadata": {
        "colab": {
          "base_uri": "https://localhost:8080/",
          "height": 647
        },
        "id": "7tmc2eRWTHoM",
        "outputId": "5852a069-9c2f-4940-de2d-3b9cecf46855"
      },
      "source": [
        "data = data.frame ( y = c ( gp1 , gp2 ) , grp = factor ( c ( rep ( 1 ,4 ) , rep ( 2 ,5 ))))\n",
        "rank.two.samples ( y ~ grp , data = data , wilcoxon = \"asymptotic\" ,\n",
        "shift.int = FALSE )"
      ],
      "execution_count": null,
      "outputs": [
        {
          "output_type": "stream",
          "text": [
            "\n",
            " #------Nonparametric Test Procedures and Confidence Intervals for relative  effects-----# \n",
            " \n",
            " - Alternative Hypothesis:  True relative effect p is unequal to 1/2 \n",
            " - Confidence level: 95 % \n",
            " - Method = Logit - Transformation \n",
            " \n",
            " #---------------------------Interpretation----------------------------------# \n",
            " p(a,b) > 1/2 : b tends to be larger than a \n",
            " #---------------------------------------------------------------------------# \n",
            " \n"
          ],
          "name": "stdout"
        },
        {
          "output_type": "display_data",
          "data": {
            "text/plain": [
              "$Info\n",
              "  Sample Size\n",
              "1      1    4\n",
              "2      2    5\n",
              "\n",
              "$Analysis\n",
              "  Effect Estimator Lower Upper     T p.Value\n",
              "1 p(1,2)       0.8 0.318 0.972 1.265   0.206\n",
              "\n",
              "$Wilcoxon\n",
              "  Effect Estimator Statistic  p.Value      Shift Hodges.Lehmann Lower Upper\n",
              "1 p(1,2)       0.8 -1.488417 0.136641 delta(2-1)             NA    NA    NA\n"
            ],
            "text/latex": "\\begin{description}\n\\item[\\$Info] A data.frame: 2 × 2\n\\begin{tabular}{r|ll}\n  & Sample & Size\\\\\n  & <chr> & <int>\\\\\n\\hline\n\t1 & 1 & 4\\\\\n\t2 & 2 & 5\\\\\n\\end{tabular}\n\n\\item[\\$Analysis] A data.frame: 1 × 6\n\\begin{tabular}{r|llllll}\n  & Effect & Estimator & Lower & Upper & T & p.Value\\\\\n  & <chr> & <dbl> & <dbl> & <dbl> & <dbl> & <dbl>\\\\\n\\hline\n\t1 & p(1,2) & 0.8 & 0.318 & 0.972 & 1.265 & 0.206\\\\\n\\end{tabular}\n\n\\item[\\$Wilcoxon] A data.frame: 1 × 8\n\\begin{tabular}{llllllll}\n Effect & Estimator & Statistic & p.Value & Shift & Hodges.Lehmann & Lower & Upper\\\\\n <chr> & <dbl> & <dbl> & <dbl> & <chr> & <lgl> & <lgl> & <lgl>\\\\\n\\hline\n\t p(1,2) & 0.8 & -1.488417 & 0.136641 & delta(2-1) & NA & NA & NA\\\\\n\\end{tabular}\n\n\\end{description}\n",
            "text/markdown": "$Info\n:   \nA data.frame: 2 × 2\n\n| <!--/--> | Sample &lt;chr&gt; | Size &lt;int&gt; |\n|---|---|---|\n| 1 | 1 | 4 |\n| 2 | 2 | 5 |\n\n\n$Analysis\n:   \nA data.frame: 1 × 6\n\n| <!--/--> | Effect &lt;chr&gt; | Estimator &lt;dbl&gt; | Lower &lt;dbl&gt; | Upper &lt;dbl&gt; | T &lt;dbl&gt; | p.Value &lt;dbl&gt; |\n|---|---|---|---|---|---|---|\n| 1 | p(1,2) | 0.8 | 0.318 | 0.972 | 1.265 | 0.206 |\n\n\n$Wilcoxon\n:   \nA data.frame: 1 × 8\n\n| Effect &lt;chr&gt; | Estimator &lt;dbl&gt; | Statistic &lt;dbl&gt; | p.Value &lt;dbl&gt; | Shift &lt;chr&gt; | Hodges.Lehmann &lt;lgl&gt; | Lower &lt;lgl&gt; | Upper &lt;lgl&gt; |\n|---|---|---|---|---|---|---|---|\n| p(1,2) | 0.8 | -1.488417 | 0.136641 | delta(2-1) | NA | NA | NA |\n\n\n\n\n",
            "text/html": [
              "<dl>\n",
              "\t<dt>$Info</dt>\n",
              "\t\t<dd><table class=\"dataframe\">\n",
              "<caption>A data.frame: 2 × 2</caption>\n",
              "<thead>\n",
              "\t<tr><th></th><th scope=col>Sample</th><th scope=col>Size</th></tr>\n",
              "\t<tr><th></th><th scope=col>&lt;chr&gt;</th><th scope=col>&lt;int&gt;</th></tr>\n",
              "</thead>\n",
              "<tbody>\n",
              "\t<tr><th scope=row>1</th><td>1</td><td>4</td></tr>\n",
              "\t<tr><th scope=row>2</th><td>2</td><td>5</td></tr>\n",
              "</tbody>\n",
              "</table>\n",
              "</dd>\n",
              "\t<dt>$Analysis</dt>\n",
              "\t\t<dd><table class=\"dataframe\">\n",
              "<caption>A data.frame: 1 × 6</caption>\n",
              "<thead>\n",
              "\t<tr><th></th><th scope=col>Effect</th><th scope=col>Estimator</th><th scope=col>Lower</th><th scope=col>Upper</th><th scope=col>T</th><th scope=col>p.Value</th></tr>\n",
              "\t<tr><th></th><th scope=col>&lt;chr&gt;</th><th scope=col>&lt;dbl&gt;</th><th scope=col>&lt;dbl&gt;</th><th scope=col>&lt;dbl&gt;</th><th scope=col>&lt;dbl&gt;</th><th scope=col>&lt;dbl&gt;</th></tr>\n",
              "</thead>\n",
              "<tbody>\n",
              "\t<tr><th scope=row>1</th><td>p(1,2)</td><td>0.8</td><td>0.318</td><td>0.972</td><td>1.265</td><td>0.206</td></tr>\n",
              "</tbody>\n",
              "</table>\n",
              "</dd>\n",
              "\t<dt>$Wilcoxon</dt>\n",
              "\t\t<dd><table class=\"dataframe\">\n",
              "<caption>A data.frame: 1 × 8</caption>\n",
              "<thead>\n",
              "\t<tr><th scope=col>Effect</th><th scope=col>Estimator</th><th scope=col>Statistic</th><th scope=col>p.Value</th><th scope=col>Shift</th><th scope=col>Hodges.Lehmann</th><th scope=col>Lower</th><th scope=col>Upper</th></tr>\n",
              "\t<tr><th scope=col>&lt;chr&gt;</th><th scope=col>&lt;dbl&gt;</th><th scope=col>&lt;dbl&gt;</th><th scope=col>&lt;dbl&gt;</th><th scope=col>&lt;chr&gt;</th><th scope=col>&lt;lgl&gt;</th><th scope=col>&lt;lgl&gt;</th><th scope=col>&lt;lgl&gt;</th></tr>\n",
              "</thead>\n",
              "<tbody>\n",
              "\t<tr><td>p(1,2)</td><td>0.8</td><td>-1.488417</td><td>0.136641</td><td>delta(2-1)</td><td>NA</td><td>NA</td><td>NA</td></tr>\n",
              "</tbody>\n",
              "</table>\n",
              "</dd>\n",
              "</dl>\n"
            ]
          },
          "metadata": {
            "tags": []
          }
        }
      ]
    },
    {
      "cell_type": "code",
      "metadata": {
        "id": "qV46pwGjTSjc"
      },
      "source": [
        "Now assume that we had drawn a larger sample, that is n 1 = 40 and n 2 = 50, with the\n",
        "relative effect and variance estimates p b and σ\n",
        "b 0 2 remaining unchanged from before. Calculate the\n",
        "two-sided p-value. Compare and comment on the results."
      ],
      "execution_count": null,
      "outputs": []
    },
    {
      "cell_type": "code",
      "metadata": {
        "colab": {
          "base_uri": "https://localhost:8080/",
          "height": 34
        },
        "id": "bbPoAZf9UQ_w",
        "outputId": "7b6afd82-0517-43b8-ed7e-65c48d02afed"
      },
      "source": [
        "n1=40\n",
        "n2=50\n",
        "N=n1+n2\n",
        "WN = sqrt (( n1 * n2 ) / ( N * sigma0_hat_square )) * ( phat - 1 / 2 )\n",
        "#two sided p-value\n",
        "min ( 2 * pnorm ( WN ) , 2 * ( 1 - pnorm ( WN )))"
      ],
      "execution_count": null,
      "outputs": [
        {
          "output_type": "display_data",
          "data": {
            "text/plain": [
              "[1] 2.516513e-06"
            ],
            "text/latex": "2.5165130528304e-06",
            "text/markdown": "2.5165130528304e-06",
            "text/html": [
              "2.5165130528304e-06"
            ]
          },
          "metadata": {
            "tags": []
          }
        }
      ]
    },
    {
      "cell_type": "code",
      "metadata": {
        "id": "gBuMTZEVbxVQ"
      },
      "source": [
        "Excercise-3\n",
        "Let X 11 , . . . , X 1n 1 ∼ Exp(1) and X 21 , . . . , X 2n 2 ∼ Exp(1) be independent replications from two\n",
        "independent groups following an exponential distribution with rate parameter 1.\n",
        "Based on 10,000 simulation runs, approximate the type I error rate in R for the two-sided\n",
        "asymptotic Wilcoxon-Mann-Whitney test and the two sample t-test assuming equal variances\n",
        "with nominal significance level 0.05 in case of (a) n 1 = n 2 = 2, (b) n 1 = n 2 = 4, (c) n 1 = n 2 = 7.\n",
        "Compare and comment on the results."
      ],
      "execution_count": null,
      "outputs": []
    },
    {
      "cell_type": "code",
      "metadata": {
        "id": "Iwt1CgSFhFxd"
      },
      "source": [
        "two_sided_p_value_calculation_t_statistic<-function(gp1,gp2){\n",
        "    n1 = length ( gp1 )\n",
        "    n2 = length ( gp2 )\n",
        "    X1bar = mean( gp1)\n",
        "    X2bar = mean( gp2)\n",
        "    N = n1 + n2\n",
        "    sigma_square = (sum((gp1-X1bar)^2)+sum((gp2-X2bar)^2)) / ( N-2)\n",
        "    #WMM test statistic\n",
        "    T_statistic = (X2bar-X1bar)/sqrt ( sigma_square*((1/n1)+(1/n2)))\n",
        "    p_value=min( 2 * pt ( T_statistic,N-2 ) , 2 * ( 1 - pt ( T_statistic,N-2 )))\n",
        "    return(p_value)\n",
        "}"
      ],
      "execution_count": null,
      "outputs": []
    },
    {
      "cell_type": "code",
      "metadata": {
        "colab": {
          "base_uri": "https://localhost:8080/",
          "height": 34
        },
        "id": "hEun0v7TsVZ6",
        "outputId": "d1adeb43-05c3-405c-d196-6a1d0278b8d7"
      },
      "source": [
        "two_sided_p_value_calculation_t_statistic(gp1,gp2)"
      ],
      "execution_count": null,
      "outputs": [
        {
          "output_type": "display_data",
          "data": {
            "text/plain": [
              "[1] 0.1249768"
            ],
            "text/latex": "0.124976784188332",
            "text/markdown": "0.124976784188332",
            "text/html": [
              "0.124976784188332"
            ]
          },
          "metadata": {
            "tags": []
          }
        }
      ]
    },
    {
      "cell_type": "code",
      "metadata": {
        "id": "FKD4YMDcUc52"
      },
      "source": [
        "type_1_error_calculation_with_simulation<-function(n1,n2,number_of_simulation,alpha){\n",
        "  p_values_WMW <- vector(\"numeric\", number_of_simulation)\n",
        "  p_values_T <- vector(\"numeric\", number_of_simulation)\n",
        "  for (i in 1:number_of_simulation){\n",
        "# Draw exp distributed values\n",
        "gp1 <- rexp(N, rate = 1)\n",
        "gp2 <- rexp(N, rate = 1)\n",
        "p_values_WMW[i]<-two_sided_p_value_calculation_WMW_statistic(gp1,gp2)\n",
        "#p_values_T[i]<-t.test ( gp1 , gp2 , alternative = \"two.sided\" , mu = 0 ,paired = FALSE , var.equal = TRUE )[[\"p.value\"]]\n",
        "p_values_T[i]<-two_sided_p_value_calculation_t_statistic(gp1,gp2)\n",
        "}\n",
        "type_1_error_WMW=mean(p_values_WMW<alpha)\n",
        "type_1_error_T=mean(p_values_T<alpha)\n",
        "return(list(type_1_error_WMW,type_1_error_T))\n",
        "}\n"
      ],
      "execution_count": null,
      "outputs": []
    },
    {
      "cell_type": "code",
      "metadata": {
        "colab": {
          "base_uri": "https://localhost:8080/"
        },
        "id": "YsVNgJTdb7WJ",
        "outputId": "46dd82e1-8249-434a-e029-296f793704f9"
      },
      "source": [
        "print(paste0('type 1 error ', list('WMW : ','T Statistic: '), type_1_error_calculation_with_simulation(n1=2,n2=2,number_of_simulation = 10000,alpha=0.05)))"
      ],
      "execution_count": null,
      "outputs": [
        {
          "output_type": "stream",
          "text": [
            "[1] \"type 1 error WMW : 0.0527\"        \"type 1 error T Statistic: 0.0528\"\n"
          ],
          "name": "stdout"
        }
      ]
    },
    {
      "cell_type": "code",
      "metadata": {
        "colab": {
          "base_uri": "https://localhost:8080/"
        },
        "id": "lg9w9Wlwt1MZ",
        "outputId": "ba819ac8-0476-46a5-89f7-3e779889f0ec"
      },
      "source": [
        "print(paste0('type 1 error ', list('WMW : ','T Statistic: '), type_1_error_calculation_with_simulation(n1=4,n2=4,number_of_simulation = 10000,alpha=0.05)))"
      ],
      "execution_count": null,
      "outputs": [
        {
          "output_type": "stream",
          "text": [
            "[1] \"type 1 error WMW : 0.0489\"       \"type 1 error T Statistic: 0.049\"\n"
          ],
          "name": "stdout"
        }
      ]
    },
    {
      "cell_type": "code",
      "metadata": {
        "colab": {
          "base_uri": "https://localhost:8080/"
        },
        "id": "yCB3fB1muAH2",
        "outputId": "7bb52736-3f0e-43a4-a3a6-5cbac90c4a8a"
      },
      "source": [
        "print(paste0('type 1 error ', list('WMW : ','T Statistic: '), type_1_error_calculation_with_simulation(n1=7,n2=7,number_of_simulation = 10000,alpha=0.05)))"
      ],
      "execution_count": null,
      "outputs": [
        {
          "output_type": "stream",
          "text": [
            "[1] \"type 1 error WMW : 0.0501\"        \"type 1 error T Statistic: 0.0524\"\n"
          ],
          "name": "stdout"
        }
      ]
    },
    {
      "cell_type": "code",
      "metadata": {
        "id": "6vFXR9UUuCjj"
      },
      "source": [
        ""
      ],
      "execution_count": null,
      "outputs": []
    }
  ]
}