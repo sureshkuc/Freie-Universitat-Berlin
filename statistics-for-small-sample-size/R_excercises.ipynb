{
  "nbformat": 4,
  "nbformat_minor": 0,
  "metadata": {
    "colab": {
      "name": "R-excercises.ipynb",
      "provenance": [],
      "collapsed_sections": [],
      "authorship_tag": "ABX9TyMmDWCExa63PvMg/PLyX4to",
      "include_colab_link": true
    },
    "kernelspec": {
      "name": "ir",
      "display_name": "R"
    },
    "language_info": {
      "name": "R"
    }
  },
  "cells": [
    {
      "cell_type": "markdown",
      "metadata": {
        "id": "view-in-github",
        "colab_type": "text"
      },
      "source": [
        "<a href=\"https://colab.research.google.com/github/sureshkuc/Freie-Universitat-Berlin/blob/main/statistics-for-small-sample-size/R_excercises.ipynb\" target=\"_parent\"><img src=\"https://colab.research.google.com/assets/colab-badge.svg\" alt=\"Open In Colab\"/></a>"
      ]
    },
    {
      "cell_type": "code",
      "metadata": {
        "id": "hqSGMEY9EMMu"
      },
      "source": [
        "X1=c(2.4, 3.0, 3.0, 2.2, 2.2,\n",
        "2.2, 2.2, 2.8, 2.0, 3.0)"
      ],
      "execution_count": null,
      "outputs": []
    },
    {
      "cell_type": "code",
      "metadata": {
        "id": "EPLOhNAtEgO6"
      },
      "source": [
        "X2=c(\n",
        "2.8, 2.2, 3.8, 9.4, 8.4,\n",
        "3.0, 3.2, 4.4, 3.2, 7.4)"
      ],
      "execution_count": null,
      "outputs": []
    },
    {
      "cell_type": "code",
      "metadata": {
        "id": "6R7LtLmyEkQC"
      },
      "source": [
        "xmu1hat<-mean(X1)\n",
        "xmu2hat<-mean(X2)\n",
        "deltahat<- xmu1hat-xmu2hat"
      ],
      "execution_count": null,
      "outputs": []
    },
    {
      "cell_type": "code",
      "metadata": {
        "colab": {
          "base_uri": "https://localhost:8080/",
          "height": 34
        },
        "id": "H9bjPbafGZYF",
        "outputId": "8d1ae27c-7b0f-4a61-958f-8cb4aaa7fffd"
      },
      "source": [
        "xmu1hat"
      ],
      "execution_count": null,
      "outputs": [
        {
          "output_type": "display_data",
          "data": {
            "text/plain": [
              "[1] 2.5"
            ],
            "text/latex": "2.5",
            "text/markdown": "2.5",
            "text/html": [
              "2.5"
            ]
          },
          "metadata": {
            "tags": []
          }
        }
      ]
    },
    {
      "cell_type": "code",
      "metadata": {
        "colab": {
          "base_uri": "https://localhost:8080/",
          "height": 34
        },
        "id": "D6Vy9OspGbOQ",
        "outputId": "70887914-7b84-4e45-cb21-fcecd19539ba"
      },
      "source": [
        "xmu2hat"
      ],
      "execution_count": null,
      "outputs": [
        {
          "output_type": "display_data",
          "data": {
            "text/plain": [
              "[1] 4.78"
            ],
            "text/latex": "4.78",
            "text/markdown": "4.78",
            "text/html": [
              "4.78"
            ]
          },
          "metadata": {
            "tags": []
          }
        }
      ]
    },
    {
      "cell_type": "code",
      "metadata": {
        "colab": {
          "base_uri": "https://localhost:8080/",
          "height": 34
        },
        "id": "sKnZmlFFGdDb",
        "outputId": "f7f38efb-cc3b-4da8-9332-c0dbd6f9e2e9"
      },
      "source": [
        "deltahat"
      ],
      "execution_count": null,
      "outputs": [
        {
          "output_type": "display_data",
          "data": {
            "text/plain": [
              "[1] -2.28"
            ],
            "text/latex": "-2.28",
            "text/markdown": "-2.28",
            "text/html": [
              "-2.28"
            ]
          },
          "metadata": {
            "tags": []
          }
        }
      ]
    },
    {
      "cell_type": "code",
      "metadata": {
        "id": "I4q_63-6Gfb2"
      },
      "source": [
        "xM1hat<-median(X1)\n",
        "xM2hat<-median(X2)\n",
        "thetahat<- xM1hat-xM2hat"
      ],
      "execution_count": null,
      "outputs": []
    },
    {
      "cell_type": "code",
      "metadata": {
        "colab": {
          "base_uri": "https://localhost:8080/"
        },
        "id": "uUgkgZnhHCjI",
        "outputId": "9e3bcfc7-a677-4242-8b63-89c9f3ea2c14"
      },
      "source": [
        "message('X1:',xM1hat,', X2:',xM2hat,', median:',thetahat)"
      ],
      "execution_count": null,
      "outputs": [
        {
          "output_type": "stream",
          "text": [
            "X1:2.3, X2:3.5, median:-1.2\n",
            "\n"
          ],
          "name": "stderr"
        }
      ]
    },
    {
      "cell_type": "code",
      "metadata": {
        "id": "_acmTPu2HHX3"
      },
      "source": [
        "grid1=expand.grid(X1,X2)"
      ],
      "execution_count": null,
      "outputs": []
    },
    {
      "cell_type": "code",
      "metadata": {
        "colab": {
          "base_uri": "https://localhost:8080/",
          "height": 1000
        },
        "id": "AyTonVkTI1bG",
        "outputId": "7abc6185-37ce-4882-b538-781f4d4c34b3"
      },
      "source": [
        "grid1"
      ],
      "execution_count": null,
      "outputs": [
        {
          "output_type": "display_data",
          "data": {
            "text/plain": [
              "    Var1 Var2\n",
              "1   2.4  2.8 \n",
              "2   3.0  2.8 \n",
              "3   3.0  2.8 \n",
              "4   2.2  2.8 \n",
              "5   2.2  2.8 \n",
              "6   2.2  2.8 \n",
              "7   2.2  2.8 \n",
              "8   2.8  2.8 \n",
              "9   2.0  2.8 \n",
              "10  3.0  2.8 \n",
              "11  2.4  2.2 \n",
              "12  3.0  2.2 \n",
              "13  3.0  2.2 \n",
              "14  2.2  2.2 \n",
              "15  2.2  2.2 \n",
              "16  2.2  2.2 \n",
              "17  2.2  2.2 \n",
              "18  2.8  2.2 \n",
              "19  2.0  2.2 \n",
              "20  3.0  2.2 \n",
              "21  2.4  3.8 \n",
              "22  3.0  3.8 \n",
              "23  3.0  3.8 \n",
              "24  2.2  3.8 \n",
              "25  2.2  3.8 \n",
              "26  2.2  3.8 \n",
              "27  2.2  3.8 \n",
              "28  2.8  3.8 \n",
              "29  2.0  3.8 \n",
              "30  3.0  3.8 \n",
              "⋮   ⋮    ⋮   \n",
              "71  2.4  4.4 \n",
              "72  3.0  4.4 \n",
              "73  3.0  4.4 \n",
              "74  2.2  4.4 \n",
              "75  2.2  4.4 \n",
              "76  2.2  4.4 \n",
              "77  2.2  4.4 \n",
              "78  2.8  4.4 \n",
              "79  2.0  4.4 \n",
              "80  3.0  4.4 \n",
              "81  2.4  3.2 \n",
              "82  3.0  3.2 \n",
              "83  3.0  3.2 \n",
              "84  2.2  3.2 \n",
              "85  2.2  3.2 \n",
              "86  2.2  3.2 \n",
              "87  2.2  3.2 \n",
              "88  2.8  3.2 \n",
              "89  2.0  3.2 \n",
              "90  3.0  3.2 \n",
              "91  2.4  7.4 \n",
              "92  3.0  7.4 \n",
              "93  3.0  7.4 \n",
              "94  2.2  7.4 \n",
              "95  2.2  7.4 \n",
              "96  2.2  7.4 \n",
              "97  2.2  7.4 \n",
              "98  2.8  7.4 \n",
              "99  2.0  7.4 \n",
              "100 3.0  7.4 "
            ],
            "text/latex": "A data.frame: 100 × 2\n\\begin{tabular}{ll}\n Var1 & Var2\\\\\n <dbl> & <dbl>\\\\\n\\hline\n\t 2.4 & 2.8\\\\\n\t 3.0 & 2.8\\\\\n\t 3.0 & 2.8\\\\\n\t 2.2 & 2.8\\\\\n\t 2.2 & 2.8\\\\\n\t 2.2 & 2.8\\\\\n\t 2.2 & 2.8\\\\\n\t 2.8 & 2.8\\\\\n\t 2.0 & 2.8\\\\\n\t 3.0 & 2.8\\\\\n\t 2.4 & 2.2\\\\\n\t 3.0 & 2.2\\\\\n\t 3.0 & 2.2\\\\\n\t 2.2 & 2.2\\\\\n\t 2.2 & 2.2\\\\\n\t 2.2 & 2.2\\\\\n\t 2.2 & 2.2\\\\\n\t 2.8 & 2.2\\\\\n\t 2.0 & 2.2\\\\\n\t 3.0 & 2.2\\\\\n\t 2.4 & 3.8\\\\\n\t 3.0 & 3.8\\\\\n\t 3.0 & 3.8\\\\\n\t 2.2 & 3.8\\\\\n\t 2.2 & 3.8\\\\\n\t 2.2 & 3.8\\\\\n\t 2.2 & 3.8\\\\\n\t 2.8 & 3.8\\\\\n\t 2.0 & 3.8\\\\\n\t 3.0 & 3.8\\\\\n\t ⋮ & ⋮\\\\\n\t 2.4 & 4.4\\\\\n\t 3.0 & 4.4\\\\\n\t 3.0 & 4.4\\\\\n\t 2.2 & 4.4\\\\\n\t 2.2 & 4.4\\\\\n\t 2.2 & 4.4\\\\\n\t 2.2 & 4.4\\\\\n\t 2.8 & 4.4\\\\\n\t 2.0 & 4.4\\\\\n\t 3.0 & 4.4\\\\\n\t 2.4 & 3.2\\\\\n\t 3.0 & 3.2\\\\\n\t 3.0 & 3.2\\\\\n\t 2.2 & 3.2\\\\\n\t 2.2 & 3.2\\\\\n\t 2.2 & 3.2\\\\\n\t 2.2 & 3.2\\\\\n\t 2.8 & 3.2\\\\\n\t 2.0 & 3.2\\\\\n\t 3.0 & 3.2\\\\\n\t 2.4 & 7.4\\\\\n\t 3.0 & 7.4\\\\\n\t 3.0 & 7.4\\\\\n\t 2.2 & 7.4\\\\\n\t 2.2 & 7.4\\\\\n\t 2.2 & 7.4\\\\\n\t 2.2 & 7.4\\\\\n\t 2.8 & 7.4\\\\\n\t 2.0 & 7.4\\\\\n\t 3.0 & 7.4\\\\\n\\end{tabular}\n",
            "text/markdown": "\nA data.frame: 100 × 2\n\n| Var1 &lt;dbl&gt; | Var2 &lt;dbl&gt; |\n|---|---|\n| 2.4 | 2.8 |\n| 3.0 | 2.8 |\n| 3.0 | 2.8 |\n| 2.2 | 2.8 |\n| 2.2 | 2.8 |\n| 2.2 | 2.8 |\n| 2.2 | 2.8 |\n| 2.8 | 2.8 |\n| 2.0 | 2.8 |\n| 3.0 | 2.8 |\n| 2.4 | 2.2 |\n| 3.0 | 2.2 |\n| 3.0 | 2.2 |\n| 2.2 | 2.2 |\n| 2.2 | 2.2 |\n| 2.2 | 2.2 |\n| 2.2 | 2.2 |\n| 2.8 | 2.2 |\n| 2.0 | 2.2 |\n| 3.0 | 2.2 |\n| 2.4 | 3.8 |\n| 3.0 | 3.8 |\n| 3.0 | 3.8 |\n| 2.2 | 3.8 |\n| 2.2 | 3.8 |\n| 2.2 | 3.8 |\n| 2.2 | 3.8 |\n| 2.8 | 3.8 |\n| 2.0 | 3.8 |\n| 3.0 | 3.8 |\n| ⋮ | ⋮ |\n| 2.4 | 4.4 |\n| 3.0 | 4.4 |\n| 3.0 | 4.4 |\n| 2.2 | 4.4 |\n| 2.2 | 4.4 |\n| 2.2 | 4.4 |\n| 2.2 | 4.4 |\n| 2.8 | 4.4 |\n| 2.0 | 4.4 |\n| 3.0 | 4.4 |\n| 2.4 | 3.2 |\n| 3.0 | 3.2 |\n| 3.0 | 3.2 |\n| 2.2 | 3.2 |\n| 2.2 | 3.2 |\n| 2.2 | 3.2 |\n| 2.2 | 3.2 |\n| 2.8 | 3.2 |\n| 2.0 | 3.2 |\n| 3.0 | 3.2 |\n| 2.4 | 7.4 |\n| 3.0 | 7.4 |\n| 3.0 | 7.4 |\n| 2.2 | 7.4 |\n| 2.2 | 7.4 |\n| 2.2 | 7.4 |\n| 2.2 | 7.4 |\n| 2.8 | 7.4 |\n| 2.0 | 7.4 |\n| 3.0 | 7.4 |\n\n",
            "text/html": [
              "<table class=\"dataframe\">\n",
              "<caption>A data.frame: 100 × 2</caption>\n",
              "<thead>\n",
              "\t<tr><th scope=col>Var1</th><th scope=col>Var2</th></tr>\n",
              "\t<tr><th scope=col>&lt;dbl&gt;</th><th scope=col>&lt;dbl&gt;</th></tr>\n",
              "</thead>\n",
              "<tbody>\n",
              "\t<tr><td>2.4</td><td>2.8</td></tr>\n",
              "\t<tr><td>3.0</td><td>2.8</td></tr>\n",
              "\t<tr><td>3.0</td><td>2.8</td></tr>\n",
              "\t<tr><td>2.2</td><td>2.8</td></tr>\n",
              "\t<tr><td>2.2</td><td>2.8</td></tr>\n",
              "\t<tr><td>2.2</td><td>2.8</td></tr>\n",
              "\t<tr><td>2.2</td><td>2.8</td></tr>\n",
              "\t<tr><td>2.8</td><td>2.8</td></tr>\n",
              "\t<tr><td>2.0</td><td>2.8</td></tr>\n",
              "\t<tr><td>3.0</td><td>2.8</td></tr>\n",
              "\t<tr><td>2.4</td><td>2.2</td></tr>\n",
              "\t<tr><td>3.0</td><td>2.2</td></tr>\n",
              "\t<tr><td>3.0</td><td>2.2</td></tr>\n",
              "\t<tr><td>2.2</td><td>2.2</td></tr>\n",
              "\t<tr><td>2.2</td><td>2.2</td></tr>\n",
              "\t<tr><td>2.2</td><td>2.2</td></tr>\n",
              "\t<tr><td>2.2</td><td>2.2</td></tr>\n",
              "\t<tr><td>2.8</td><td>2.2</td></tr>\n",
              "\t<tr><td>2.0</td><td>2.2</td></tr>\n",
              "\t<tr><td>3.0</td><td>2.2</td></tr>\n",
              "\t<tr><td>2.4</td><td>3.8</td></tr>\n",
              "\t<tr><td>3.0</td><td>3.8</td></tr>\n",
              "\t<tr><td>3.0</td><td>3.8</td></tr>\n",
              "\t<tr><td>2.2</td><td>3.8</td></tr>\n",
              "\t<tr><td>2.2</td><td>3.8</td></tr>\n",
              "\t<tr><td>2.2</td><td>3.8</td></tr>\n",
              "\t<tr><td>2.2</td><td>3.8</td></tr>\n",
              "\t<tr><td>2.8</td><td>3.8</td></tr>\n",
              "\t<tr><td>2.0</td><td>3.8</td></tr>\n",
              "\t<tr><td>3.0</td><td>3.8</td></tr>\n",
              "\t<tr><td>⋮</td><td>⋮</td></tr>\n",
              "\t<tr><td>2.4</td><td>4.4</td></tr>\n",
              "\t<tr><td>3.0</td><td>4.4</td></tr>\n",
              "\t<tr><td>3.0</td><td>4.4</td></tr>\n",
              "\t<tr><td>2.2</td><td>4.4</td></tr>\n",
              "\t<tr><td>2.2</td><td>4.4</td></tr>\n",
              "\t<tr><td>2.2</td><td>4.4</td></tr>\n",
              "\t<tr><td>2.2</td><td>4.4</td></tr>\n",
              "\t<tr><td>2.8</td><td>4.4</td></tr>\n",
              "\t<tr><td>2.0</td><td>4.4</td></tr>\n",
              "\t<tr><td>3.0</td><td>4.4</td></tr>\n",
              "\t<tr><td>2.4</td><td>3.2</td></tr>\n",
              "\t<tr><td>3.0</td><td>3.2</td></tr>\n",
              "\t<tr><td>3.0</td><td>3.2</td></tr>\n",
              "\t<tr><td>2.2</td><td>3.2</td></tr>\n",
              "\t<tr><td>2.2</td><td>3.2</td></tr>\n",
              "\t<tr><td>2.2</td><td>3.2</td></tr>\n",
              "\t<tr><td>2.2</td><td>3.2</td></tr>\n",
              "\t<tr><td>2.8</td><td>3.2</td></tr>\n",
              "\t<tr><td>2.0</td><td>3.2</td></tr>\n",
              "\t<tr><td>3.0</td><td>3.2</td></tr>\n",
              "\t<tr><td>2.4</td><td>7.4</td></tr>\n",
              "\t<tr><td>3.0</td><td>7.4</td></tr>\n",
              "\t<tr><td>3.0</td><td>7.4</td></tr>\n",
              "\t<tr><td>2.2</td><td>7.4</td></tr>\n",
              "\t<tr><td>2.2</td><td>7.4</td></tr>\n",
              "\t<tr><td>2.2</td><td>7.4</td></tr>\n",
              "\t<tr><td>2.2</td><td>7.4</td></tr>\n",
              "\t<tr><td>2.8</td><td>7.4</td></tr>\n",
              "\t<tr><td>2.0</td><td>7.4</td></tr>\n",
              "\t<tr><td>3.0</td><td>7.4</td></tr>\n",
              "</tbody>\n",
              "</table>\n"
            ]
          },
          "metadata": {
            "tags": []
          }
        }
      ]
    },
    {
      "cell_type": "code",
      "metadata": {
        "colab": {
          "base_uri": "https://localhost:8080/",
          "height": 68
        },
        "id": "515JM6F7I2rh",
        "outputId": "ac45846d-dc47-4ca6-8a70-65225a20e0e4"
      },
      "source": [
        "(grid1[,1]<grid1[,2])"
      ],
      "execution_count": null,
      "outputs": [
        {
          "output_type": "display_data",
          "data": {
            "text/plain": [
              "  [1]  TRUE FALSE FALSE  TRUE  TRUE  TRUE  TRUE FALSE  TRUE FALSE FALSE FALSE\n",
              " [13] FALSE FALSE FALSE FALSE FALSE FALSE  TRUE FALSE  TRUE  TRUE  TRUE  TRUE\n",
              " [25]  TRUE  TRUE  TRUE  TRUE  TRUE  TRUE  TRUE  TRUE  TRUE  TRUE  TRUE  TRUE\n",
              " [37]  TRUE  TRUE  TRUE  TRUE  TRUE  TRUE  TRUE  TRUE  TRUE  TRUE  TRUE  TRUE\n",
              " [49]  TRUE  TRUE  TRUE FALSE FALSE  TRUE  TRUE  TRUE  TRUE  TRUE  TRUE FALSE\n",
              " [61]  TRUE  TRUE  TRUE  TRUE  TRUE  TRUE  TRUE  TRUE  TRUE  TRUE  TRUE  TRUE\n",
              " [73]  TRUE  TRUE  TRUE  TRUE  TRUE  TRUE  TRUE  TRUE  TRUE  TRUE  TRUE  TRUE\n",
              " [85]  TRUE  TRUE  TRUE  TRUE  TRUE  TRUE  TRUE  TRUE  TRUE  TRUE  TRUE  TRUE\n",
              " [97]  TRUE  TRUE  TRUE  TRUE"
            ],
            "text/latex": "\\begin{enumerate*}\n\\item TRUE\n\\item FALSE\n\\item FALSE\n\\item TRUE\n\\item TRUE\n\\item TRUE\n\\item TRUE\n\\item FALSE\n\\item TRUE\n\\item FALSE\n\\item FALSE\n\\item FALSE\n\\item FALSE\n\\item FALSE\n\\item FALSE\n\\item FALSE\n\\item FALSE\n\\item FALSE\n\\item TRUE\n\\item FALSE\n\\item TRUE\n\\item TRUE\n\\item TRUE\n\\item TRUE\n\\item TRUE\n\\item TRUE\n\\item TRUE\n\\item TRUE\n\\item TRUE\n\\item TRUE\n\\item TRUE\n\\item TRUE\n\\item TRUE\n\\item TRUE\n\\item TRUE\n\\item TRUE\n\\item TRUE\n\\item TRUE\n\\item TRUE\n\\item TRUE\n\\item TRUE\n\\item TRUE\n\\item TRUE\n\\item TRUE\n\\item TRUE\n\\item TRUE\n\\item TRUE\n\\item TRUE\n\\item TRUE\n\\item TRUE\n\\item TRUE\n\\item FALSE\n\\item FALSE\n\\item TRUE\n\\item TRUE\n\\item TRUE\n\\item TRUE\n\\item TRUE\n\\item TRUE\n\\item FALSE\n\\item TRUE\n\\item TRUE\n\\item TRUE\n\\item TRUE\n\\item TRUE\n\\item TRUE\n\\item TRUE\n\\item TRUE\n\\item TRUE\n\\item TRUE\n\\item TRUE\n\\item TRUE\n\\item TRUE\n\\item TRUE\n\\item TRUE\n\\item TRUE\n\\item TRUE\n\\item TRUE\n\\item TRUE\n\\item TRUE\n\\item TRUE\n\\item TRUE\n\\item TRUE\n\\item TRUE\n\\item TRUE\n\\item TRUE\n\\item TRUE\n\\item TRUE\n\\item TRUE\n\\item TRUE\n\\item TRUE\n\\item TRUE\n\\item TRUE\n\\item TRUE\n\\item TRUE\n\\item TRUE\n\\item TRUE\n\\item TRUE\n\\item TRUE\n\\item TRUE\n\\end{enumerate*}\n",
            "text/markdown": "1. TRUE\n2. FALSE\n3. FALSE\n4. TRUE\n5. TRUE\n6. TRUE\n7. TRUE\n8. FALSE\n9. TRUE\n10. FALSE\n11. FALSE\n12. FALSE\n13. FALSE\n14. FALSE\n15. FALSE\n16. FALSE\n17. FALSE\n18. FALSE\n19. TRUE\n20. FALSE\n21. TRUE\n22. TRUE\n23. TRUE\n24. TRUE\n25. TRUE\n26. TRUE\n27. TRUE\n28. TRUE\n29. TRUE\n30. TRUE\n31. TRUE\n32. TRUE\n33. TRUE\n34. TRUE\n35. TRUE\n36. TRUE\n37. TRUE\n38. TRUE\n39. TRUE\n40. TRUE\n41. TRUE\n42. TRUE\n43. TRUE\n44. TRUE\n45. TRUE\n46. TRUE\n47. TRUE\n48. TRUE\n49. TRUE\n50. TRUE\n51. TRUE\n52. FALSE\n53. FALSE\n54. TRUE\n55. TRUE\n56. TRUE\n57. TRUE\n58. TRUE\n59. TRUE\n60. FALSE\n61. TRUE\n62. TRUE\n63. TRUE\n64. TRUE\n65. TRUE\n66. TRUE\n67. TRUE\n68. TRUE\n69. TRUE\n70. TRUE\n71. TRUE\n72. TRUE\n73. TRUE\n74. TRUE\n75. TRUE\n76. TRUE\n77. TRUE\n78. TRUE\n79. TRUE\n80. TRUE\n81. TRUE\n82. TRUE\n83. TRUE\n84. TRUE\n85. TRUE\n86. TRUE\n87. TRUE\n88. TRUE\n89. TRUE\n90. TRUE\n91. TRUE\n92. TRUE\n93. TRUE\n94. TRUE\n95. TRUE\n96. TRUE\n97. TRUE\n98. TRUE\n99. TRUE\n100. TRUE\n\n\n",
            "text/html": [
              "<style>\n",
              ".list-inline {list-style: none; margin:0; padding: 0}\n",
              ".list-inline>li {display: inline-block}\n",
              ".list-inline>li:not(:last-child)::after {content: \"\\00b7\"; padding: 0 .5ex}\n",
              "</style>\n",
              "<ol class=list-inline><li>TRUE</li><li>FALSE</li><li>FALSE</li><li>TRUE</li><li>TRUE</li><li>TRUE</li><li>TRUE</li><li>FALSE</li><li>TRUE</li><li>FALSE</li><li>FALSE</li><li>FALSE</li><li>FALSE</li><li>FALSE</li><li>FALSE</li><li>FALSE</li><li>FALSE</li><li>FALSE</li><li>TRUE</li><li>FALSE</li><li>TRUE</li><li>TRUE</li><li>TRUE</li><li>TRUE</li><li>TRUE</li><li>TRUE</li><li>TRUE</li><li>TRUE</li><li>TRUE</li><li>TRUE</li><li>TRUE</li><li>TRUE</li><li>TRUE</li><li>TRUE</li><li>TRUE</li><li>TRUE</li><li>TRUE</li><li>TRUE</li><li>TRUE</li><li>TRUE</li><li>TRUE</li><li>TRUE</li><li>TRUE</li><li>TRUE</li><li>TRUE</li><li>TRUE</li><li>TRUE</li><li>TRUE</li><li>TRUE</li><li>TRUE</li><li>TRUE</li><li>FALSE</li><li>FALSE</li><li>TRUE</li><li>TRUE</li><li>TRUE</li><li>TRUE</li><li>TRUE</li><li>TRUE</li><li>FALSE</li><li>TRUE</li><li>TRUE</li><li>TRUE</li><li>TRUE</li><li>TRUE</li><li>TRUE</li><li>TRUE</li><li>TRUE</li><li>TRUE</li><li>TRUE</li><li>TRUE</li><li>TRUE</li><li>TRUE</li><li>TRUE</li><li>TRUE</li><li>TRUE</li><li>TRUE</li><li>TRUE</li><li>TRUE</li><li>TRUE</li><li>TRUE</li><li>TRUE</li><li>TRUE</li><li>TRUE</li><li>TRUE</li><li>TRUE</li><li>TRUE</li><li>TRUE</li><li>TRUE</li><li>TRUE</li><li>TRUE</li><li>TRUE</li><li>TRUE</li><li>TRUE</li><li>TRUE</li><li>TRUE</li><li>TRUE</li><li>TRUE</li><li>TRUE</li><li>TRUE</li></ol>\n"
            ]
          },
          "metadata": {
            "tags": []
          }
        }
      ]
    },
    {
      "cell_type": "code",
      "metadata": {
        "colab": {
          "base_uri": "https://localhost:8080/",
          "height": 51
        },
        "id": "mlVTi2EqJEEI",
        "outputId": "e5d32dc6-a130-4ac0-dcd1-676db841d652"
      },
      "source": [
        "(grid1[,1]<grid1[,2])+1/2*(grid1[,1]==grid1[,2])"
      ],
      "execution_count": null,
      "outputs": [
        {
          "output_type": "display_data",
          "data": {
            "text/plain": [
              "  [1] 1.0 0.0 0.0 1.0 1.0 1.0 1.0 0.5 1.0 0.0 0.0 0.0 0.0 0.5 0.5 0.5 0.5 0.0\n",
              " [19] 1.0 0.0 1.0 1.0 1.0 1.0 1.0 1.0 1.0 1.0 1.0 1.0 1.0 1.0 1.0 1.0 1.0 1.0\n",
              " [37] 1.0 1.0 1.0 1.0 1.0 1.0 1.0 1.0 1.0 1.0 1.0 1.0 1.0 1.0 1.0 0.5 0.5 1.0\n",
              " [55] 1.0 1.0 1.0 1.0 1.0 0.5 1.0 1.0 1.0 1.0 1.0 1.0 1.0 1.0 1.0 1.0 1.0 1.0\n",
              " [73] 1.0 1.0 1.0 1.0 1.0 1.0 1.0 1.0 1.0 1.0 1.0 1.0 1.0 1.0 1.0 1.0 1.0 1.0\n",
              " [91] 1.0 1.0 1.0 1.0 1.0 1.0 1.0 1.0 1.0 1.0"
            ],
            "text/latex": "\\begin{enumerate*}\n\\item 1\n\\item 0\n\\item 0\n\\item 1\n\\item 1\n\\item 1\n\\item 1\n\\item 0.5\n\\item 1\n\\item 0\n\\item 0\n\\item 0\n\\item 0\n\\item 0.5\n\\item 0.5\n\\item 0.5\n\\item 0.5\n\\item 0\n\\item 1\n\\item 0\n\\item 1\n\\item 1\n\\item 1\n\\item 1\n\\item 1\n\\item 1\n\\item 1\n\\item 1\n\\item 1\n\\item 1\n\\item 1\n\\item 1\n\\item 1\n\\item 1\n\\item 1\n\\item 1\n\\item 1\n\\item 1\n\\item 1\n\\item 1\n\\item 1\n\\item 1\n\\item 1\n\\item 1\n\\item 1\n\\item 1\n\\item 1\n\\item 1\n\\item 1\n\\item 1\n\\item 1\n\\item 0.5\n\\item 0.5\n\\item 1\n\\item 1\n\\item 1\n\\item 1\n\\item 1\n\\item 1\n\\item 0.5\n\\item 1\n\\item 1\n\\item 1\n\\item 1\n\\item 1\n\\item 1\n\\item 1\n\\item 1\n\\item 1\n\\item 1\n\\item 1\n\\item 1\n\\item 1\n\\item 1\n\\item 1\n\\item 1\n\\item 1\n\\item 1\n\\item 1\n\\item 1\n\\item 1\n\\item 1\n\\item 1\n\\item 1\n\\item 1\n\\item 1\n\\item 1\n\\item 1\n\\item 1\n\\item 1\n\\item 1\n\\item 1\n\\item 1\n\\item 1\n\\item 1\n\\item 1\n\\item 1\n\\item 1\n\\item 1\n\\item 1\n\\end{enumerate*}\n",
            "text/markdown": "1. 1\n2. 0\n3. 0\n4. 1\n5. 1\n6. 1\n7. 1\n8. 0.5\n9. 1\n10. 0\n11. 0\n12. 0\n13. 0\n14. 0.5\n15. 0.5\n16. 0.5\n17. 0.5\n18. 0\n19. 1\n20. 0\n21. 1\n22. 1\n23. 1\n24. 1\n25. 1\n26. 1\n27. 1\n28. 1\n29. 1\n30. 1\n31. 1\n32. 1\n33. 1\n34. 1\n35. 1\n36. 1\n37. 1\n38. 1\n39. 1\n40. 1\n41. 1\n42. 1\n43. 1\n44. 1\n45. 1\n46. 1\n47. 1\n48. 1\n49. 1\n50. 1\n51. 1\n52. 0.5\n53. 0.5\n54. 1\n55. 1\n56. 1\n57. 1\n58. 1\n59. 1\n60. 0.5\n61. 1\n62. 1\n63. 1\n64. 1\n65. 1\n66. 1\n67. 1\n68. 1\n69. 1\n70. 1\n71. 1\n72. 1\n73. 1\n74. 1\n75. 1\n76. 1\n77. 1\n78. 1\n79. 1\n80. 1\n81. 1\n82. 1\n83. 1\n84. 1\n85. 1\n86. 1\n87. 1\n88. 1\n89. 1\n90. 1\n91. 1\n92. 1\n93. 1\n94. 1\n95. 1\n96. 1\n97. 1\n98. 1\n99. 1\n100. 1\n\n\n",
            "text/html": [
              "<style>\n",
              ".list-inline {list-style: none; margin:0; padding: 0}\n",
              ".list-inline>li {display: inline-block}\n",
              ".list-inline>li:not(:last-child)::after {content: \"\\00b7\"; padding: 0 .5ex}\n",
              "</style>\n",
              "<ol class=list-inline><li>1</li><li>0</li><li>0</li><li>1</li><li>1</li><li>1</li><li>1</li><li>0.5</li><li>1</li><li>0</li><li>0</li><li>0</li><li>0</li><li>0.5</li><li>0.5</li><li>0.5</li><li>0.5</li><li>0</li><li>1</li><li>0</li><li>1</li><li>1</li><li>1</li><li>1</li><li>1</li><li>1</li><li>1</li><li>1</li><li>1</li><li>1</li><li>1</li><li>1</li><li>1</li><li>1</li><li>1</li><li>1</li><li>1</li><li>1</li><li>1</li><li>1</li><li>1</li><li>1</li><li>1</li><li>1</li><li>1</li><li>1</li><li>1</li><li>1</li><li>1</li><li>1</li><li>1</li><li>0.5</li><li>0.5</li><li>1</li><li>1</li><li>1</li><li>1</li><li>1</li><li>1</li><li>0.5</li><li>1</li><li>1</li><li>1</li><li>1</li><li>1</li><li>1</li><li>1</li><li>1</li><li>1</li><li>1</li><li>1</li><li>1</li><li>1</li><li>1</li><li>1</li><li>1</li><li>1</li><li>1</li><li>1</li><li>1</li><li>1</li><li>1</li><li>1</li><li>1</li><li>1</li><li>1</li><li>1</li><li>1</li><li>1</li><li>1</li><li>1</li><li>1</li><li>1</li><li>1</li><li>1</li><li>1</li><li>1</li><li>1</li><li>1</li><li>1</li></ol>\n"
            ]
          },
          "metadata": {
            "tags": []
          }
        }
      ]
    },
    {
      "cell_type": "code",
      "metadata": {
        "colab": {
          "base_uri": "https://localhost:8080/",
          "height": 34
        },
        "id": "p0Mck45GJdlv",
        "outputId": "7ba3cda6-0d5d-4423-924f-0596f5a1e2c7"
      },
      "source": [
        "prop1 = (grid1[,1]<grid1[,2]) +\n",
        "1/2*(grid1[,1]==grid1[,2])\n",
        "phat=mean(prop1)\n",
        "phat"
      ],
      "execution_count": null,
      "outputs": [
        {
          "output_type": "display_data",
          "data": {
            "text/plain": [
              "[1] 0.88"
            ],
            "text/latex": "0.88",
            "text/markdown": "0.88",
            "text/html": [
              "0.88"
            ]
          },
          "metadata": {
            "tags": []
          }
        }
      ]
    },
    {
      "cell_type": "code",
      "metadata": {
        "colab": {
          "base_uri": "https://localhost:8080/",
          "height": 34
        },
        "id": "pgU67Mc_LcUt",
        "outputId": "e5e80117-a1c0-4a5e-90f4-a9558a23d7d1"
      },
      "source": [
        "#Y<X+1/2(X=Y)\n",
        "prop2 = (grid1[,2]<grid1[,1]) +\n",
        "1/2*(grid1[,2]==grid1[,1])\n",
        "qhat=mean(prop2)\n",
        "qhat\n"
      ],
      "execution_count": null,
      "outputs": [
        {
          "output_type": "display_data",
          "data": {
            "text/plain": [
              "[1] 0.12"
            ],
            "text/latex": "0.12",
            "text/markdown": "0.12",
            "text/html": [
              "0.12"
            ]
          },
          "metadata": {
            "tags": []
          }
        }
      ]
    },
    {
      "cell_type": "code",
      "metadata": {
        "colab": {
          "base_uri": "https://localhost:8080/",
          "height": 34
        },
        "id": "8gad8LaFMNLj",
        "outputId": "1e8b9226-7517-4579-8cbf-ec6799e2a78d"
      },
      "source": [
        "phat+qhat"
      ],
      "execution_count": null,
      "outputs": [
        {
          "output_type": "display_data",
          "data": {
            "text/plain": [
              "[1] 1"
            ],
            "text/latex": "1",
            "text/markdown": "1",
            "text/html": [
              "1"
            ]
          },
          "metadata": {
            "tags": []
          }
        }
      ]
    },
    {
      "cell_type": "code",
      "metadata": {
        "id": "du4eFH-1MOj8",
        "colab": {
          "base_uri": "https://localhost:8080/",
          "height": 34
        },
        "outputId": "b7db75b7-f0bd-4505-d5a4-c601ed88274b"
      },
      "source": [
        "x3=c(0 , 1)\n",
        "x4=c(0,0,0,0,0,0,0,0,1,2)\n",
        "grid2=expand.grid(x3,x4)\n",
        "prop3 = (grid2[,1]<grid2[,2]) +1/2*(grid2[,1]==grid2[,2]) \n",
        "phat1=mean(prop3)\n",
        "phat1"
      ],
      "execution_count": null,
      "outputs": [
        {
          "output_type": "display_data",
          "data": {
            "text/plain": [
              "[1] 0.375"
            ],
            "text/latex": "0.375",
            "text/markdown": "0.375",
            "text/html": [
              "0.375"
            ]
          },
          "metadata": {
            "tags": []
          }
        }
      ]
    },
    {
      "cell_type": "code",
      "metadata": {
        "id": "aA9SHVTdjkil"
      },
      "source": [
        ""
      ],
      "execution_count": null,
      "outputs": []
    },
    {
      "cell_type": "code",
      "metadata": {
        "colab": {
          "base_uri": "https://localhost:8080/",
          "height": 34
        },
        "id": "rqMuQoWjjnKm",
        "outputId": "b81e5aa5-c0ae-49fb-ad0b-8d48ce2baf00"
      },
      "source": [
        ""
      ],
      "execution_count": null,
      "outputs": [
        {
          "output_type": "display_data",
          "data": {
            "text/plain": [
              "[1] 72"
            ],
            "text/latex": "72",
            "text/markdown": "72",
            "text/html": [
              "72"
            ]
          },
          "metadata": {
            "tags": []
          }
        }
      ]
    },
    {
      "cell_type": "code",
      "metadata": {
        "colab": {
          "base_uri": "https://localhost:8080/",
          "height": 1000
        },
        "id": "txEYxe5kj3Fy",
        "outputId": "48f42838-9bd9-4fa7-843c-a9c17bf76ad4"
      },
      "source": [
        "grid2"
      ],
      "execution_count": null,
      "outputs": [
        {
          "output_type": "display_data",
          "data": {
            "text/plain": [
              "    Var1 Var2\n",
              "1   0    3   \n",
              "2   0    3   \n",
              "3   4    3   \n",
              "4   4    3   \n",
              "5   4    3   \n",
              "6   3    3   \n",
              "7   3    3   \n",
              "8   3    3   \n",
              "9   3    3   \n",
              "10  3    3   \n",
              "11  3    3   \n",
              "12  2    3   \n",
              "13  2    3   \n",
              "14  2    3   \n",
              "15  2    3   \n",
              "16  6    3   \n",
              "17  6    3   \n",
              "18  1    3   \n",
              "19  1    3   \n",
              "20  1    3   \n",
              "21  5    3   \n",
              "22  5    3   \n",
              "23  5    3   \n",
              "24  0    3   \n",
              "25  0    3   \n",
              "26  4    3   \n",
              "27  4    3   \n",
              "28  4    3   \n",
              "29  3    3   \n",
              "30  3    3   \n",
              "⋮   ⋮    ⋮   \n",
              "109 6    3   \n",
              "110 1    3   \n",
              "111 1    3   \n",
              "112 1    3   \n",
              "113 5    3   \n",
              "114 5    3   \n",
              "115 5    3   \n",
              "116 0    3   \n",
              "117 0    3   \n",
              "118 4    3   \n",
              "119 4    3   \n",
              "120 4    3   \n",
              "121 3    3   \n",
              "122 3    3   \n",
              "123 3    3   \n",
              "124 3    3   \n",
              "125 3    3   \n",
              "126 3    3   \n",
              "127 2    3   \n",
              "128 2    3   \n",
              "129 2    3   \n",
              "130 2    3   \n",
              "131 6    3   \n",
              "132 6    3   \n",
              "133 1    3   \n",
              "134 1    3   \n",
              "135 1    3   \n",
              "136 5    3   \n",
              "137 5    3   \n",
              "138 5    3   "
            ],
            "text/latex": "A data.frame: 138 × 2\n\\begin{tabular}{ll}\n Var1 & Var2\\\\\n <dbl> & <dbl>\\\\\n\\hline\n\t 0 & 3\\\\\n\t 0 & 3\\\\\n\t 4 & 3\\\\\n\t 4 & 3\\\\\n\t 4 & 3\\\\\n\t 3 & 3\\\\\n\t 3 & 3\\\\\n\t 3 & 3\\\\\n\t 3 & 3\\\\\n\t 3 & 3\\\\\n\t 3 & 3\\\\\n\t 2 & 3\\\\\n\t 2 & 3\\\\\n\t 2 & 3\\\\\n\t 2 & 3\\\\\n\t 6 & 3\\\\\n\t 6 & 3\\\\\n\t 1 & 3\\\\\n\t 1 & 3\\\\\n\t 1 & 3\\\\\n\t 5 & 3\\\\\n\t 5 & 3\\\\\n\t 5 & 3\\\\\n\t 0 & 3\\\\\n\t 0 & 3\\\\\n\t 4 & 3\\\\\n\t 4 & 3\\\\\n\t 4 & 3\\\\\n\t 3 & 3\\\\\n\t 3 & 3\\\\\n\t ⋮ & ⋮\\\\\n\t 6 & 3\\\\\n\t 1 & 3\\\\\n\t 1 & 3\\\\\n\t 1 & 3\\\\\n\t 5 & 3\\\\\n\t 5 & 3\\\\\n\t 5 & 3\\\\\n\t 0 & 3\\\\\n\t 0 & 3\\\\\n\t 4 & 3\\\\\n\t 4 & 3\\\\\n\t 4 & 3\\\\\n\t 3 & 3\\\\\n\t 3 & 3\\\\\n\t 3 & 3\\\\\n\t 3 & 3\\\\\n\t 3 & 3\\\\\n\t 3 & 3\\\\\n\t 2 & 3\\\\\n\t 2 & 3\\\\\n\t 2 & 3\\\\\n\t 2 & 3\\\\\n\t 6 & 3\\\\\n\t 6 & 3\\\\\n\t 1 & 3\\\\\n\t 1 & 3\\\\\n\t 1 & 3\\\\\n\t 5 & 3\\\\\n\t 5 & 3\\\\\n\t 5 & 3\\\\\n\\end{tabular}\n",
            "text/markdown": "\nA data.frame: 138 × 2\n\n| Var1 &lt;dbl&gt; | Var2 &lt;dbl&gt; |\n|---|---|\n| 0 | 3 |\n| 0 | 3 |\n| 4 | 3 |\n| 4 | 3 |\n| 4 | 3 |\n| 3 | 3 |\n| 3 | 3 |\n| 3 | 3 |\n| 3 | 3 |\n| 3 | 3 |\n| 3 | 3 |\n| 2 | 3 |\n| 2 | 3 |\n| 2 | 3 |\n| 2 | 3 |\n| 6 | 3 |\n| 6 | 3 |\n| 1 | 3 |\n| 1 | 3 |\n| 1 | 3 |\n| 5 | 3 |\n| 5 | 3 |\n| 5 | 3 |\n| 0 | 3 |\n| 0 | 3 |\n| 4 | 3 |\n| 4 | 3 |\n| 4 | 3 |\n| 3 | 3 |\n| 3 | 3 |\n| ⋮ | ⋮ |\n| 6 | 3 |\n| 1 | 3 |\n| 1 | 3 |\n| 1 | 3 |\n| 5 | 3 |\n| 5 | 3 |\n| 5 | 3 |\n| 0 | 3 |\n| 0 | 3 |\n| 4 | 3 |\n| 4 | 3 |\n| 4 | 3 |\n| 3 | 3 |\n| 3 | 3 |\n| 3 | 3 |\n| 3 | 3 |\n| 3 | 3 |\n| 3 | 3 |\n| 2 | 3 |\n| 2 | 3 |\n| 2 | 3 |\n| 2 | 3 |\n| 6 | 3 |\n| 6 | 3 |\n| 1 | 3 |\n| 1 | 3 |\n| 1 | 3 |\n| 5 | 3 |\n| 5 | 3 |\n| 5 | 3 |\n\n",
            "text/html": [
              "<table class=\"dataframe\">\n",
              "<caption>A data.frame: 138 × 2</caption>\n",
              "<thead>\n",
              "\t<tr><th scope=col>Var1</th><th scope=col>Var2</th></tr>\n",
              "\t<tr><th scope=col>&lt;dbl&gt;</th><th scope=col>&lt;dbl&gt;</th></tr>\n",
              "</thead>\n",
              "<tbody>\n",
              "\t<tr><td>0</td><td>3</td></tr>\n",
              "\t<tr><td>0</td><td>3</td></tr>\n",
              "\t<tr><td>4</td><td>3</td></tr>\n",
              "\t<tr><td>4</td><td>3</td></tr>\n",
              "\t<tr><td>4</td><td>3</td></tr>\n",
              "\t<tr><td>3</td><td>3</td></tr>\n",
              "\t<tr><td>3</td><td>3</td></tr>\n",
              "\t<tr><td>3</td><td>3</td></tr>\n",
              "\t<tr><td>3</td><td>3</td></tr>\n",
              "\t<tr><td>3</td><td>3</td></tr>\n",
              "\t<tr><td>3</td><td>3</td></tr>\n",
              "\t<tr><td>2</td><td>3</td></tr>\n",
              "\t<tr><td>2</td><td>3</td></tr>\n",
              "\t<tr><td>2</td><td>3</td></tr>\n",
              "\t<tr><td>2</td><td>3</td></tr>\n",
              "\t<tr><td>6</td><td>3</td></tr>\n",
              "\t<tr><td>6</td><td>3</td></tr>\n",
              "\t<tr><td>1</td><td>3</td></tr>\n",
              "\t<tr><td>1</td><td>3</td></tr>\n",
              "\t<tr><td>1</td><td>3</td></tr>\n",
              "\t<tr><td>5</td><td>3</td></tr>\n",
              "\t<tr><td>5</td><td>3</td></tr>\n",
              "\t<tr><td>5</td><td>3</td></tr>\n",
              "\t<tr><td>0</td><td>3</td></tr>\n",
              "\t<tr><td>0</td><td>3</td></tr>\n",
              "\t<tr><td>4</td><td>3</td></tr>\n",
              "\t<tr><td>4</td><td>3</td></tr>\n",
              "\t<tr><td>4</td><td>3</td></tr>\n",
              "\t<tr><td>3</td><td>3</td></tr>\n",
              "\t<tr><td>3</td><td>3</td></tr>\n",
              "\t<tr><td>⋮</td><td>⋮</td></tr>\n",
              "\t<tr><td>6</td><td>3</td></tr>\n",
              "\t<tr><td>1</td><td>3</td></tr>\n",
              "\t<tr><td>1</td><td>3</td></tr>\n",
              "\t<tr><td>1</td><td>3</td></tr>\n",
              "\t<tr><td>5</td><td>3</td></tr>\n",
              "\t<tr><td>5</td><td>3</td></tr>\n",
              "\t<tr><td>5</td><td>3</td></tr>\n",
              "\t<tr><td>0</td><td>3</td></tr>\n",
              "\t<tr><td>0</td><td>3</td></tr>\n",
              "\t<tr><td>4</td><td>3</td></tr>\n",
              "\t<tr><td>4</td><td>3</td></tr>\n",
              "\t<tr><td>4</td><td>3</td></tr>\n",
              "\t<tr><td>3</td><td>3</td></tr>\n",
              "\t<tr><td>3</td><td>3</td></tr>\n",
              "\t<tr><td>3</td><td>3</td></tr>\n",
              "\t<tr><td>3</td><td>3</td></tr>\n",
              "\t<tr><td>3</td><td>3</td></tr>\n",
              "\t<tr><td>3</td><td>3</td></tr>\n",
              "\t<tr><td>2</td><td>3</td></tr>\n",
              "\t<tr><td>2</td><td>3</td></tr>\n",
              "\t<tr><td>2</td><td>3</td></tr>\n",
              "\t<tr><td>2</td><td>3</td></tr>\n",
              "\t<tr><td>6</td><td>3</td></tr>\n",
              "\t<tr><td>6</td><td>3</td></tr>\n",
              "\t<tr><td>1</td><td>3</td></tr>\n",
              "\t<tr><td>1</td><td>3</td></tr>\n",
              "\t<tr><td>1</td><td>3</td></tr>\n",
              "\t<tr><td>5</td><td>3</td></tr>\n",
              "\t<tr><td>5</td><td>3</td></tr>\n",
              "\t<tr><td>5</td><td>3</td></tr>\n",
              "</tbody>\n",
              "</table>\n"
            ]
          },
          "metadata": {
            "tags": []
          }
        }
      ]
    },
    {
      "cell_type": "code",
      "metadata": {
        "id": "iBBk0hEypMoZ"
      },
      "source": [
        "X = function ( n ){\n",
        "rnorm ( 1 , mean = 0 , sd = 1 )\n",
        "}\n",
        "x = X(1)"
      ],
      "execution_count": null,
      "outputs": []
    },
    {
      "cell_type": "code",
      "metadata": {
        "id": "-6m-VKYPbikz",
        "colab": {
          "base_uri": "https://localhost:8080/",
          "height": 34
        },
        "outputId": "ac15dae2-311f-487d-9905-2750637a3b9a"
      },
      "source": [
        "x"
      ],
      "execution_count": null,
      "outputs": [
        {
          "output_type": "display_data",
          "data": {
            "text/plain": [
              "[1] 0.2222615"
            ],
            "text/latex": "0.222261459362594",
            "text/markdown": "0.222261459362594",
            "text/html": [
              "0.222261459362594"
            ]
          },
          "metadata": {
            "tags": []
          }
        }
      ]
    },
    {
      "cell_type": "code",
      "metadata": {
        "id": "ZmjK1Ro2bk_S",
        "colab": {
          "base_uri": "https://localhost:8080/",
          "height": 68
        },
        "outputId": "df377959-b5a7-4184-ae15-2b7935e385e0"
      },
      "source": [
        "x=c(3, 0, 1, 1, 1, 2)\n",
        "rank (x , ties.method = \"min\" )\n",
        "rank (x , ties.method = \"max\" )\n",
        "rank (x , ties.method = \"average\" ) # default"
      ],
      "execution_count": null,
      "outputs": [
        {
          "output_type": "display_data",
          "data": {
            "text/plain": [
              "[1] 6 1 2 2 2 5"
            ],
            "text/latex": "\\begin{enumerate*}\n\\item 6\n\\item 1\n\\item 2\n\\item 2\n\\item 2\n\\item 5\n\\end{enumerate*}\n",
            "text/markdown": "1. 6\n2. 1\n3. 2\n4. 2\n5. 2\n6. 5\n\n\n",
            "text/html": [
              "<style>\n",
              ".list-inline {list-style: none; margin:0; padding: 0}\n",
              ".list-inline>li {display: inline-block}\n",
              ".list-inline>li:not(:last-child)::after {content: \"\\00b7\"; padding: 0 .5ex}\n",
              "</style>\n",
              "<ol class=list-inline><li>6</li><li>1</li><li>2</li><li>2</li><li>2</li><li>5</li></ol>\n"
            ]
          },
          "metadata": {
            "tags": []
          }
        },
        {
          "output_type": "display_data",
          "data": {
            "text/plain": [
              "[1] 6 1 4 4 4 5"
            ],
            "text/latex": "\\begin{enumerate*}\n\\item 6\n\\item 1\n\\item 4\n\\item 4\n\\item 4\n\\item 5\n\\end{enumerate*}\n",
            "text/markdown": "1. 6\n2. 1\n3. 4\n4. 4\n5. 4\n6. 5\n\n\n",
            "text/html": [
              "<style>\n",
              ".list-inline {list-style: none; margin:0; padding: 0}\n",
              ".list-inline>li {display: inline-block}\n",
              ".list-inline>li:not(:last-child)::after {content: \"\\00b7\"; padding: 0 .5ex}\n",
              "</style>\n",
              "<ol class=list-inline><li>6</li><li>1</li><li>4</li><li>4</li><li>4</li><li>5</li></ol>\n"
            ]
          },
          "metadata": {
            "tags": []
          }
        },
        {
          "output_type": "display_data",
          "data": {
            "text/plain": [
              "[1] 6 1 3 3 3 5"
            ],
            "text/latex": "\\begin{enumerate*}\n\\item 6\n\\item 1\n\\item 3\n\\item 3\n\\item 3\n\\item 5\n\\end{enumerate*}\n",
            "text/markdown": "1. 6\n2. 1\n3. 3\n4. 3\n5. 3\n6. 5\n\n\n",
            "text/html": [
              "<style>\n",
              ".list-inline {list-style: none; margin:0; padding: 0}\n",
              ".list-inline>li {display: inline-block}\n",
              ".list-inline>li:not(:last-child)::after {content: \"\\00b7\"; padding: 0 .5ex}\n",
              "</style>\n",
              "<ol class=list-inline><li>6</li><li>1</li><li>3</li><li>3</li><li>3</li><li>5</li></ol>\n"
            ]
          },
          "metadata": {
            "tags": []
          }
        }
      ]
    },
    {
      "cell_type": "code",
      "metadata": {
        "id": "DhGauQUUp6_x"
      },
      "source": [
        "data(\"PlantGrowth\")"
      ],
      "execution_count": null,
      "outputs": []
    },
    {
      "cell_type": "code",
      "metadata": {
        "id": "umuKTh2IGSpQ"
      },
      "source": [
        "placebo = c ( 325 , 375 , 356 , 374 , 412 , 418 , 445 , 379 , 403 , 431 ,\n",
        "410, 391, 475)\n",
        "drug = c ( 307 , 268 , 275 , 291 , 314 , 340 , 395 , 279 , 323 , 342 ,\n",
        "341, 320, 329, 376, 322, 378, 334, 345, 302, 309, 311, 310,\n",
        "360, 361)"
      ],
      "execution_count": null,
      "outputs": []
    },
    {
      "cell_type": "code",
      "metadata": {
        "colab": {
          "base_uri": "https://localhost:8080/",
          "height": 204
        },
        "id": "Z2HhVA-tU8It",
        "outputId": "7833b64a-7378-4bb0-b4cc-8274a308e938"
      },
      "source": [
        "t.test ( drug , placebo , alternative = \"two.sided\" , mu = 0 ,\n",
        "paired = FALSE , var.equal = TRUE )"
      ],
      "execution_count": null,
      "outputs": [
        {
          "output_type": "display_data",
          "data": {
            "text/plain": [
              "\n",
              "\tTwo Sample t-test\n",
              "\n",
              "data:  drug and placebo\n",
              "t = -6.0414, df = 35, p-value = 6.811e-07\n",
              "alternative hypothesis: true difference in means is not equal to 0\n",
              "95 percent confidence interval:\n",
              " -97.80461 -48.60565\n",
              "sample estimates:\n",
              "mean of x mean of y \n",
              " 326.3333  399.5385 \n"
            ]
          },
          "metadata": {
            "tags": []
          }
        }
      ]
    },
    {
      "cell_type": "code",
      "metadata": {
        "id": "vDtJja6MVjWB",
        "colab": {
          "base_uri": "https://localhost:8080/"
        },
        "outputId": "fd372b1f-3bcd-4138-b40a-88386e56926b"
      },
      "source": [
        "install.packages(\"BoolNet\")"
      ],
      "execution_count": null,
      "outputs": [
        {
          "output_type": "stream",
          "text": [
            "Installing package into ‘/usr/local/lib/R/site-library’\n",
            "(as ‘lib’ is unspecified)\n",
            "\n",
            "also installing the dependencies ‘igraph’, ‘XML’\n",
            "\n",
            "\n"
          ],
          "name": "stderr"
        }
      ]
    },
    {
      "cell_type": "code",
      "metadata": {
        "id": "AK2jfRTCyK6-"
      },
      "source": [
        "library(\"BoolNet\")"
      ],
      "execution_count": null,
      "outputs": []
    },
    {
      "cell_type": "code",
      "metadata": {
        "id": "1nvhPCGQychG"
      },
      "source": [
        "help(stateTransition)"
      ],
      "execution_count": null,
      "outputs": []
    },
    {
      "cell_type": "code",
      "metadata": {
        "id": "_BOmD70SyyH0"
      },
      "source": [
        "data(\"cellcycle\")"
      ],
      "execution_count": null,
      "outputs": []
    },
    {
      "cell_type": "code",
      "metadata": {
        "colab": {
          "base_uri": "https://localhost:8080/",
          "height": 289
        },
        "id": "Iq4FfP1lCggJ",
        "outputId": "eb5ea7ab-7cd6-44b5-8efe-0dade70eb935"
      },
      "source": [
        "cellcycle"
      ],
      "execution_count": null,
      "outputs": [
        {
          "output_type": "display_data",
          "data": {
            "text/plain": [
              "Boolean network with 10 genes\n",
              "\n",
              "Involved genes:\n",
              "CycD Rb E2F CycE CycA p27 Cdc20 Cdh1 UbcH10 CycB\n",
              "\n",
              "Transition functions:\n",
              "CycD = CycD\n",
              "Rb = (! CycA & ! CycB & ! CycD & ! CycE) | (p27 & ! CycB & ! CycD)\n",
              "E2F = (! Rb & ! CycA & ! CycB) | (p27 & ! Rb & ! CycB)\n",
              "CycE = (E2F & ! Rb)\n",
              "CycA = (E2F & ! Rb & ! Cdc20 & ! (Cdh1 & UbcH10)) | (CycA & ! Rb & ! Cdc20 & ! (Cdh1 & UbcH10))\n",
              "p27 = (! CycD & ! CycE & ! CycA & ! CycB) | (p27 & ! (CycE & CycA) & ! CycB &! CycD)\n",
              "Cdc20 = CycB\n",
              "Cdh1 = (! CycA & ! CycB) | (Cdc20) | (p27 & ! CycB)\n",
              "UbcH10 = ! Cdh1 | (Cdh1 & UbcH10 & (Cdc20 | CycA | CycB))\n",
              "CycB = ! Cdc20 & ! Cdh1"
            ]
          },
          "metadata": {
            "tags": []
          }
        }
      ]
    },
    {
      "cell_type": "code",
      "metadata": {
        "colab": {
          "base_uri": "https://localhost:8080/",
          "height": 689
        },
        "id": "xNhNzC5_zKTM",
        "outputId": "a70614c7-ed6a-4cd3-fe15-152a0cfb57af"
      },
      "source": [
        "plotNetworkWiring(cellcycle)\n",
        "initial_state=c(0,0,1,0,0,0,0,0,1,0)\n",
        "stateTransition(cellcycle,initial_state)\n",
        "pathatr=getPathToAttractor(cellcycle,initial_state)\n",
        "pathatr"
      ],
      "execution_count": null,
      "outputs": [
        {
          "output_type": "display_data",
          "data": {
            "text/plain": [
              "  CycD     Rb    E2F   CycE   CycA    p27  Cdc20   Cdh1 UbcH10   CycB \n",
              "     0      1      1      1      1      1      0      1      1      1 "
            ],
            "text/latex": "\\begin{description*}\n\\item[CycD] 0\n\\item[Rb] 1\n\\item[E2F] 1\n\\item[CycE] 1\n\\item[CycA] 1\n\\item[p27] 1\n\\item[Cdc20] 0\n\\item[Cdh1] 1\n\\item[UbcH10] 1\n\\item[CycB] 1\n\\end{description*}\n",
            "text/markdown": "CycD\n:   0Rb\n:   1E2F\n:   1CycE\n:   1CycA\n:   1p27\n:   1Cdc20\n:   0Cdh1\n:   1UbcH10\n:   1CycB\n:   1\n\n",
            "text/html": [
              "<style>\n",
              ".dl-inline {width: auto; margin:0; padding: 0}\n",
              ".dl-inline>dt, .dl-inline>dd {float: none; width: auto; display: inline-block}\n",
              ".dl-inline>dt::after {content: \":\\0020\"; padding-right: .5ex}\n",
              ".dl-inline>dt:not(:first-of-type) {padding-left: .5ex}\n",
              "</style><dl class=dl-inline><dt>CycD</dt><dd>0</dd><dt>Rb</dt><dd>1</dd><dt>E2F</dt><dd>1</dd><dt>CycE</dt><dd>1</dd><dt>CycA</dt><dd>1</dd><dt>p27</dt><dd>1</dd><dt>Cdc20</dt><dd>0</dd><dt>Cdh1</dt><dd>1</dd><dt>UbcH10</dt><dd>1</dd><dt>CycB</dt><dd>1</dd></dl>\n"
            ]
          },
          "metadata": {
            "tags": []
          }
        },
        {
          "output_type": "display_data",
          "data": {
            "text/plain": [
              "  CycD Rb E2F CycE CycA p27 Cdc20 Cdh1 UbcH10 CycB\n",
              "1 0    0  1   0    0    0   0     0    1      0   \n",
              "2 0    1  1   1    1    1   0     1    1      1   \n",
              "3 0    0  0   0    0    0   1     0    1      0   \n",
              "4 0    1  1   0    0    1   0     1    1      0   \n",
              "5 0    1  0   0    0    1   0     1    0      0   "
            ],
            "text/latex": "A data.frame: 5 × 10\n\\begin{tabular}{llllllllll}\n CycD & Rb & E2F & CycE & CycA & p27 & Cdc20 & Cdh1 & UbcH10 & CycB\\\\\n <dbl> & <dbl> & <dbl> & <dbl> & <dbl> & <dbl> & <dbl> & <dbl> & <dbl> & <dbl>\\\\\n\\hline\n\t 0 & 0 & 1 & 0 & 0 & 0 & 0 & 0 & 1 & 0\\\\\n\t 0 & 1 & 1 & 1 & 1 & 1 & 0 & 1 & 1 & 1\\\\\n\t 0 & 0 & 0 & 0 & 0 & 0 & 1 & 0 & 1 & 0\\\\\n\t 0 & 1 & 1 & 0 & 0 & 1 & 0 & 1 & 1 & 0\\\\\n\t 0 & 1 & 0 & 0 & 0 & 1 & 0 & 1 & 0 & 0\\\\\n\\end{tabular}\n",
            "text/markdown": "\nA data.frame: 5 × 10\n\n| CycD &lt;dbl&gt; | Rb &lt;dbl&gt; | E2F &lt;dbl&gt; | CycE &lt;dbl&gt; | CycA &lt;dbl&gt; | p27 &lt;dbl&gt; | Cdc20 &lt;dbl&gt; | Cdh1 &lt;dbl&gt; | UbcH10 &lt;dbl&gt; | CycB &lt;dbl&gt; |\n|---|---|---|---|---|---|---|---|---|---|\n| 0 | 0 | 1 | 0 | 0 | 0 | 0 | 0 | 1 | 0 |\n| 0 | 1 | 1 | 1 | 1 | 1 | 0 | 1 | 1 | 1 |\n| 0 | 0 | 0 | 0 | 0 | 0 | 1 | 0 | 1 | 0 |\n| 0 | 1 | 1 | 0 | 0 | 1 | 0 | 1 | 1 | 0 |\n| 0 | 1 | 0 | 0 | 0 | 1 | 0 | 1 | 0 | 0 |\n\n",
            "text/html": [
              "<table class=\"dataframe\">\n",
              "<caption>A data.frame: 5 × 10</caption>\n",
              "<thead>\n",
              "\t<tr><th scope=col>CycD</th><th scope=col>Rb</th><th scope=col>E2F</th><th scope=col>CycE</th><th scope=col>CycA</th><th scope=col>p27</th><th scope=col>Cdc20</th><th scope=col>Cdh1</th><th scope=col>UbcH10</th><th scope=col>CycB</th></tr>\n",
              "\t<tr><th scope=col>&lt;dbl&gt;</th><th scope=col>&lt;dbl&gt;</th><th scope=col>&lt;dbl&gt;</th><th scope=col>&lt;dbl&gt;</th><th scope=col>&lt;dbl&gt;</th><th scope=col>&lt;dbl&gt;</th><th scope=col>&lt;dbl&gt;</th><th scope=col>&lt;dbl&gt;</th><th scope=col>&lt;dbl&gt;</th><th scope=col>&lt;dbl&gt;</th></tr>\n",
              "</thead>\n",
              "<tbody>\n",
              "\t<tr><td>0</td><td>0</td><td>1</td><td>0</td><td>0</td><td>0</td><td>0</td><td>0</td><td>1</td><td>0</td></tr>\n",
              "\t<tr><td>0</td><td>1</td><td>1</td><td>1</td><td>1</td><td>1</td><td>0</td><td>1</td><td>1</td><td>1</td></tr>\n",
              "\t<tr><td>0</td><td>0</td><td>0</td><td>0</td><td>0</td><td>0</td><td>1</td><td>0</td><td>1</td><td>0</td></tr>\n",
              "\t<tr><td>0</td><td>1</td><td>1</td><td>0</td><td>0</td><td>1</td><td>0</td><td>1</td><td>1</td><td>0</td></tr>\n",
              "\t<tr><td>0</td><td>1</td><td>0</td><td>0</td><td>0</td><td>1</td><td>0</td><td>1</td><td>0</td><td>0</td></tr>\n",
              "</tbody>\n",
              "</table>\n"
            ]
          },
          "metadata": {
            "tags": []
          }
        },
        {
          "output_type": "display_data",
          "data": {
            "image/png": "[encoded data removed]",
            "text/plain": [
              "Plot with title “”"
            ]
          },
          "metadata": {
            "tags": [],
            "image/png": {
              "width": 420,
              "height": 420
            }
          }
        }
      ]
    },
    {
      "cell_type": "code",
      "metadata": {
        "colab": {
          "base_uri": "https://localhost:8080/",
          "height": 796
        },
        "id": "pI4bWId-BjOt",
        "outputId": "7b70d1bd-8224-46a8-ce95-f812f40e4b90"
      },
      "source": [
        "plotSequence(cellcycle,initial_state)"
      ],
      "execution_count": null,
      "outputs": [
        {
          "output_type": "display_data",
          "data": {
            "text/plain": [
              "       1 2 3 4 5\n",
              "CycB   0 1 0 0 0\n",
              "UbcH10 1 1 1 1 0\n",
              "Cdh1   0 1 0 1 1\n",
              "Cdc20  0 0 1 0 0\n",
              "p27    0 1 0 1 1\n",
              "CycA   0 1 0 0 0\n",
              "CycE   0 1 0 0 0\n",
              "E2F    1 1 0 1 0\n",
              "Rb     0 1 0 1 1\n",
              "CycD   0 0 0 0 0"
            ],
            "text/latex": "A matrix: 10 × 5 of type dbl\n\\begin{tabular}{r|lllll}\n  & 1 & 2 & 3 & 4 & 5\\\\\n\\hline\n\tCycB & 0 & 1 & 0 & 0 & 0\\\\\n\tUbcH10 & 1 & 1 & 1 & 1 & 0\\\\\n\tCdh1 & 0 & 1 & 0 & 1 & 1\\\\\n\tCdc20 & 0 & 0 & 1 & 0 & 0\\\\\n\tp27 & 0 & 1 & 0 & 1 & 1\\\\\n\tCycA & 0 & 1 & 0 & 0 & 0\\\\\n\tCycE & 0 & 1 & 0 & 0 & 0\\\\\n\tE2F & 1 & 1 & 0 & 1 & 0\\\\\n\tRb & 0 & 1 & 0 & 1 & 1\\\\\n\tCycD & 0 & 0 & 0 & 0 & 0\\\\\n\\end{tabular}\n",
            "text/markdown": "\nA matrix: 10 × 5 of type dbl\n\n| <!--/--> | 1 | 2 | 3 | 4 | 5 |\n|---|---|---|---|---|---|\n| CycB | 0 | 1 | 0 | 0 | 0 |\n| UbcH10 | 1 | 1 | 1 | 1 | 0 |\n| Cdh1 | 0 | 1 | 0 | 1 | 1 |\n| Cdc20 | 0 | 0 | 1 | 0 | 0 |\n| p27 | 0 | 1 | 0 | 1 | 1 |\n| CycA | 0 | 1 | 0 | 0 | 0 |\n| CycE | 0 | 1 | 0 | 0 | 0 |\n| E2F | 1 | 1 | 0 | 1 | 0 |\n| Rb | 0 | 1 | 0 | 1 | 1 |\n| CycD | 0 | 0 | 0 | 0 | 0 |\n\n",
            "text/html": [
              "<table class=\"dataframe\">\n",
              "<caption>A matrix: 10 × 5 of type dbl</caption>\n",
              "<thead>\n",
              "\t<tr><th></th><th scope=col>1</th><th scope=col>2</th><th scope=col>3</th><th scope=col>4</th><th scope=col>5</th></tr>\n",
              "</thead>\n",
              "<tbody>\n",
              "\t<tr><th scope=row>CycB</th><td>0</td><td>1</td><td>0</td><td>0</td><td>0</td></tr>\n",
              "\t<tr><th scope=row>UbcH10</th><td>1</td><td>1</td><td>1</td><td>1</td><td>0</td></tr>\n",
              "\t<tr><th scope=row>Cdh1</th><td>0</td><td>1</td><td>0</td><td>1</td><td>1</td></tr>\n",
              "\t<tr><th scope=row>Cdc20</th><td>0</td><td>0</td><td>1</td><td>0</td><td>0</td></tr>\n",
              "\t<tr><th scope=row>p27</th><td>0</td><td>1</td><td>0</td><td>1</td><td>1</td></tr>\n",
              "\t<tr><th scope=row>CycA</th><td>0</td><td>1</td><td>0</td><td>0</td><td>0</td></tr>\n",
              "\t<tr><th scope=row>CycE</th><td>0</td><td>1</td><td>0</td><td>0</td><td>0</td></tr>\n",
              "\t<tr><th scope=row>E2F</th><td>1</td><td>1</td><td>0</td><td>1</td><td>0</td></tr>\n",
              "\t<tr><th scope=row>Rb</th><td>0</td><td>1</td><td>0</td><td>1</td><td>1</td></tr>\n",
              "\t<tr><th scope=row>CycD</th><td>0</td><td>0</td><td>0</td><td>0</td><td>0</td></tr>\n",
              "</tbody>\n",
              "</table>\n"
            ]
          },
          "metadata": {
            "tags": []
          }
        },
        {
          "output_type": "display_data",
          "data": {
            "image/png": "[encoded data removed]",
            "text/plain": [
              "Plot with title “”"
            ]
          },
          "metadata": {
            "tags": [],
            "image/png": {
              "width": 420,
              "height": 420
            }
          }
        }
      ]
    },
    {
      "cell_type": "code",
      "metadata": {
        "id": "9BcpIljREE-H"
      },
      "source": [
        "newstate<-generateState(cellcycle,c(\"E2F\"))"
      ],
      "execution_count": null,
      "outputs": []
    },
    {
      "cell_type": "code",
      "metadata": {
        "id": "yWtHek4qi92-"
      },
      "source": [
        "gp1 = c ( 1 , 1 , 3 , 2 , 4 )\n",
        "gp2 = c ( 2 , 3 , 4 , 5 , 7 , 9 , 9 )\n",
        "Rik = rank ( c ( gp1 , gp2 ))"
      ],
      "execution_count": null,
      "outputs": []
    },
    {
      "cell_type": "code",
      "metadata": {
        "colab": {
          "base_uri": "https://localhost:8080/",
          "height": 34
        },
        "id": "pb9xQSw2seBy",
        "outputId": "b9419042-a70f-4db4-c4fa-91fcf6a059b6"
      },
      "source": [
        "Rik"
      ],
      "execution_count": null,
      "outputs": [
        {
          "output_type": "display_data",
          "data": {
            "text/plain": [
              " [1]  1.5  1.5  5.5  3.5  7.5  3.5  5.5  7.5  9.0 10.0 11.5 11.5"
            ],
            "text/latex": "\\begin{enumerate*}\n\\item 1.5\n\\item 1.5\n\\item 5.5\n\\item 3.5\n\\item 7.5\n\\item 3.5\n\\item 5.5\n\\item 7.5\n\\item 9\n\\item 10\n\\item 11.5\n\\item 11.5\n\\end{enumerate*}\n",
            "text/markdown": "1. 1.5\n2. 1.5\n3. 5.5\n4. 3.5\n5. 7.5\n6. 3.5\n7. 5.5\n8. 7.5\n9. 9\n10. 10\n11. 11.5\n12. 11.5\n\n\n",
            "text/html": [
              "<style>\n",
              ".list-inline {list-style: none; margin:0; padding: 0}\n",
              ".list-inline>li {display: inline-block}\n",
              ".list-inline>li:not(:last-child)::after {content: \"\\00b7\"; padding: 0 .5ex}\n",
              "</style>\n",
              "<ol class=list-inline><li>1.5</li><li>1.5</li><li>5.5</li><li>3.5</li><li>7.5</li><li>3.5</li><li>5.5</li><li>7.5</li><li>9</li><li>10</li><li>11.5</li><li>11.5</li></ol>\n"
            ]
          },
          "metadata": {
            "tags": []
          }
        }
      ]
    },
    {
      "cell_type": "code",
      "metadata": {
        "id": "0uKioizbskGf"
      },
      "source": [
        "n1 = length ( gp1 )\n",
        "n2 = length ( gp2 )\n",
        "R1bar = mean( Rik [ 1 : n1 ])\n",
        "R2bar = mean( Rik [ n1 + 1 : n2 ])"
      ],
      "execution_count": null,
      "outputs": []
    },
    {
      "cell_type": "code",
      "metadata": {
        "id": "-zy8MfDJsxDc"
      },
      "source": [
        "N = n1 + n2\n",
        "phat = 1 / N * ( R2bar - R1bar ) + 0.5"
      ],
      "execution_count": null,
      "outputs": []
    },
    {
      "cell_type": "code",
      "metadata": {
        "colab": {
          "base_uri": "https://localhost:8080/",
          "height": 34
        },
        "id": "MtLg6Ukis7aL",
        "outputId": "0630e401-0331-4576-c328-5c22bd7d3db2"
      },
      "source": [
        "phat"
      ],
      "execution_count": null,
      "outputs": [
        {
          "output_type": "display_data",
          "data": {
            "text/plain": [
              "[1] 0.8714286"
            ],
            "text/latex": "0.871428571428571",
            "text/markdown": "0.871428571428571",
            "text/html": [
              "0.871428571428571"
            ]
          },
          "metadata": {
            "tags": []
          }
        }
      ]
    },
    {
      "cell_type": "code",
      "metadata": {
        "id": "nVwoFYnds_C0"
      },
      "source": [
        "sigma0 = sum (( Rik - ( N + 1 )/ 2 )^ 2 ) / ( N ^ 2 * ( N - 1 ))"
      ],
      "execution_count": null,
      "outputs": []
    },
    {
      "cell_type": "code",
      "metadata": {
        "id": "dLiQYzyNtPTk"
      },
      "source": [
        "WN = sqrt (( n1 * n2 ) / ( N * sigma0 )) * ( phat - 1 / 2 )"
      ],
      "execution_count": null,
      "outputs": []
    },
    {
      "cell_type": "code",
      "metadata": {
        "colab": {
          "base_uri": "https://localhost:8080/",
          "height": 34
        },
        "id": "xTcvAQ6CtVBE",
        "outputId": "09f699b2-df5c-49d5-da7e-68f7b708f1b6"
      },
      "source": [
        "WN"
      ],
      "execution_count": null,
      "outputs": [
        {
          "output_type": "display_data",
          "data": {
            "text/plain": [
              "[1] 2.129895"
            ],
            "text/latex": "2.12989470371353",
            "text/markdown": "2.12989470371353",
            "text/html": [
              "2.12989470371353"
            ]
          },
          "metadata": {
            "tags": []
          }
        }
      ]
    },
    {
      "cell_type": "code",
      "metadata": {
        "colab": {
          "base_uri": "https://localhost:8080/",
          "height": 34
        },
        "id": "5DwoJvaYtYhi",
        "outputId": "f5a5edf4-64df-45d3-d86a-3c154172a93d"
      },
      "source": [
        "min ( 2 * pnorm ( WN ) , 2 * ( 1 - pnorm ( WN )))"
      ],
      "execution_count": null,
      "outputs": [
        {
          "output_type": "display_data",
          "data": {
            "text/plain": [
              "[1] 0.03318031"
            ],
            "text/latex": "0.0331803075046446",
            "text/markdown": "0.0331803075046446",
            "text/html": [
              "0.0331803075046446"
            ]
          },
          "metadata": {
            "tags": []
          }
        }
      ]
    },
    {
      "cell_type": "code",
      "metadata": {
        "id": "Gj8UCdMstk_e",
        "colab": {
          "base_uri": "https://localhost:8080/",
          "height": 153
        },
        "outputId": "55187865-0991-4046-9c01-d3a86324b98a"
      },
      "source": [
        "gp1 = c ( 1 , 1 , 3 , 2 , 4 )\n",
        "gp2 = c ( 2 , 3 , 4 , 5 , 7 , 9 , 9 )\n",
        "wilcox.test ( gp1 , gp2 )"
      ],
      "execution_count": null,
      "outputs": [
        {
          "output_type": "stream",
          "text": [
            "Warning message in wilcox.test.default(gp1, gp2):\n",
            "“cannot compute exact p-value with ties”\n"
          ],
          "name": "stderr"
        },
        {
          "output_type": "display_data",
          "data": {
            "text/plain": [
              "\n",
              "\tWilcoxon rank sum test with continuity correction\n",
              "\n",
              "data:  gp1 and gp2\n",
              "W = 4.5, p-value = 0.04056\n",
              "alternative hypothesis: true location shift is not equal to 0\n"
            ]
          },
          "metadata": {
            "tags": []
          }
        }
      ]
    },
    {
      "cell_type": "code",
      "metadata": {
        "colab": {
          "base_uri": "https://localhost:8080/"
        },
        "id": "9DqS0n705a3C",
        "outputId": "5c62625d-7706-4fbc-eef8-c6e2447d0731"
      },
      "source": [
        "install.packages(\"coin\")\n",
        "install.packages(\"rankFD\")\n",
        "library ( coin )\n",
        "library ( rankFD )"
      ],
      "execution_count": null,
      "outputs": [
        {
          "output_type": "stream",
          "text": [
            "Installing package into ‘/usr/local/lib/R/site-library’\n",
            "(as ‘lib’ is unspecified)\n",
            "\n",
            "also installing the dependencies ‘zoo’, ‘TH.data’, ‘sandwich’, ‘libcoin’, ‘matrixStats’, ‘modeltools’, ‘mvtnorm’, ‘multcomp’\n",
            "\n",
            "\n",
            "Installing package into ‘/usr/local/lib/R/site-library’\n",
            "(as ‘lib’ is unspecified)\n",
            "\n",
            "Loading required package: survival\n",
            "\n"
          ],
          "name": "stderr"
        }
      ]
    },
    {
      "cell_type": "code",
      "metadata": {
        "colab": {
          "base_uri": "https://localhost:8080/",
          "height": 181
        },
        "id": "CLm9FbsF68uC",
        "outputId": "9d0d6fbc-c47e-45a5-d6aa-f5159e82eb48"
      },
      "source": [
        "library ( coin )\n",
        "data = data.frame ( y = c ( gp1 , gp2 ) , grp = factor ( c ( rep ( 1 ,5 ) , rep ( 2 ,7 ))))\n",
        "wilcox_test( y ~ grp , data = data )"
      ],
      "execution_count": null,
      "outputs": [
        {
          "output_type": "error",
          "ename": "ERROR",
          "evalue": "ignored",
          "traceback": [
            "Error in data.frame(y = c(gp1, gp2), grp = factor(c(rep(1, 5), rep(2, : arguments imply differing number of rows: 9, 12\nTraceback:\n",
            "1. data.frame(y = c(gp1, gp2), grp = factor(c(rep(1, 5), rep(2, \n .     7))))",
            "2. stop(gettextf(\"arguments imply differing number of rows: %s\", \n .     paste(unique(nrows), collapse = \", \")), domain = NA)"
          ]
        }
      ]
    },
    {
      "cell_type": "code",
      "metadata": {
        "id": "Gp6PjMr-7zih"
      },
      "source": [
        "?pnorm\n"
      ],
      "execution_count": null,
      "outputs": []
    },
    {
      "cell_type": "code",
      "metadata": {
        "colab": {
          "base_uri": "https://localhost:8080/",
          "height": 647
        },
        "id": "kA7cqrMV8Alj",
        "outputId": "8d10c80b-2df1-44c0-e355-e58f1c3d79df"
      },
      "source": [
        "library ( rankFD )\n",
        "rank.two.samples ( y ~ grp , data = data , wilcoxon = \"asymptotic\" ,\n",
        "shift.int = FALSE )"
      ],
      "execution_count": null,
      "outputs": [
        {
          "output_type": "stream",
          "text": [
            "\n",
            " #------Nonparametric Test Procedures and Confidence Intervals for relative  effects-----# \n",
            " \n",
            " - Alternative Hypothesis:  True relative effect p is unequal to 1/2 \n",
            " - Confidence level: 95 % \n",
            " - Method = Logit - Transformation \n",
            " \n",
            " #---------------------------Interpretation----------------------------------# \n",
            " p(a,b) > 1/2 : b tends to be larger than a \n",
            " #---------------------------------------------------------------------------# \n",
            " \n"
          ],
          "name": "stdout"
        },
        {
          "output_type": "display_data",
          "data": {
            "text/plain": [
              "$Info\n",
              "  Sample Size\n",
              "1      1    5\n",
              "2      2    7\n",
              "\n",
              "$Analysis\n",
              "  Effect Estimator Lower Upper     T p.Value\n",
              "1 p(1,2)     0.871 0.533 0.976 2.105   0.035\n",
              "\n",
              "$Wilcoxon\n",
              "  Effect Estimator Statistic    p.Value      Shift Hodges.Lehmann Lower Upper\n",
              "1 p(1,2) 0.8714286 -2.129895 0.03318031 delta(2-1)             NA    NA    NA\n"
            ],
            "text/latex": "\\begin{description}\n\\item[\\$Info] A data.frame: 2 × 2\n\\begin{tabular}{r|ll}\n  & Sample & Size\\\\\n  & <chr> & <int>\\\\\n\\hline\n\t1 & 1 & 5\\\\\n\t2 & 2 & 7\\\\\n\\end{tabular}\n\n\\item[\\$Analysis] A data.frame: 1 × 6\n\\begin{tabular}{r|llllll}\n  & Effect & Estimator & Lower & Upper & T & p.Value\\\\\n  & <chr> & <dbl> & <dbl> & <dbl> & <dbl> & <dbl>\\\\\n\\hline\n\t1 & p(1,2) & 0.871 & 0.533 & 0.976 & 2.105 & 0.035\\\\\n\\end{tabular}\n\n\\item[\\$Wilcoxon] A data.frame: 1 × 8\n\\begin{tabular}{llllllll}\n Effect & Estimator & Statistic & p.Value & Shift & Hodges.Lehmann & Lower & Upper\\\\\n <chr> & <dbl> & <dbl> & <dbl> & <chr> & <lgl> & <lgl> & <lgl>\\\\\n\\hline\n\t p(1,2) & 0.8714286 & -2.129895 & 0.03318031 & delta(2-1) & NA & NA & NA\\\\\n\\end{tabular}\n\n\\end{description}\n",
            "text/markdown": "$Info\n:   \nA data.frame: 2 × 2\n\n| <!--/--> | Sample &lt;chr&gt; | Size &lt;int&gt; |\n|---|---|---|\n| 1 | 1 | 5 |\n| 2 | 2 | 7 |\n\n\n$Analysis\n:   \nA data.frame: 1 × 6\n\n| <!--/--> | Effect &lt;chr&gt; | Estimator &lt;dbl&gt; | Lower &lt;dbl&gt; | Upper &lt;dbl&gt; | T &lt;dbl&gt; | p.Value &lt;dbl&gt; |\n|---|---|---|---|---|---|---|\n| 1 | p(1,2) | 0.871 | 0.533 | 0.976 | 2.105 | 0.035 |\n\n\n$Wilcoxon\n:   \nA data.frame: 1 × 8\n\n| Effect &lt;chr&gt; | Estimator &lt;dbl&gt; | Statistic &lt;dbl&gt; | p.Value &lt;dbl&gt; | Shift &lt;chr&gt; | Hodges.Lehmann &lt;lgl&gt; | Lower &lt;lgl&gt; | Upper &lt;lgl&gt; |\n|---|---|---|---|---|---|---|---|\n| p(1,2) | 0.8714286 | -2.129895 | 0.03318031 | delta(2-1) | NA | NA | NA |\n\n\n\n\n",
            "text/html": [
              "<dl>\n",
              "\t<dt>$Info</dt>\n",
              "\t\t<dd><table class=\"dataframe\">\n",
              "<caption>A data.frame: 2 × 2</caption>\n",
              "<thead>\n",
              "\t<tr><th></th><th scope=col>Sample</th><th scope=col>Size</th></tr>\n",
              "\t<tr><th></th><th scope=col>&lt;chr&gt;</th><th scope=col>&lt;int&gt;</th></tr>\n",
              "</thead>\n",
              "<tbody>\n",
              "\t<tr><th scope=row>1</th><td>1</td><td>5</td></tr>\n",
              "\t<tr><th scope=row>2</th><td>2</td><td>7</td></tr>\n",
              "</tbody>\n",
              "</table>\n",
              "</dd>\n",
              "\t<dt>$Analysis</dt>\n",
              "\t\t<dd><table class=\"dataframe\">\n",
              "<caption>A data.frame: 1 × 6</caption>\n",
              "<thead>\n",
              "\t<tr><th></th><th scope=col>Effect</th><th scope=col>Estimator</th><th scope=col>Lower</th><th scope=col>Upper</th><th scope=col>T</th><th scope=col>p.Value</th></tr>\n",
              "\t<tr><th></th><th scope=col>&lt;chr&gt;</th><th scope=col>&lt;dbl&gt;</th><th scope=col>&lt;dbl&gt;</th><th scope=col>&lt;dbl&gt;</th><th scope=col>&lt;dbl&gt;</th><th scope=col>&lt;dbl&gt;</th></tr>\n",
              "</thead>\n",
              "<tbody>\n",
              "\t<tr><th scope=row>1</th><td>p(1,2)</td><td>0.871</td><td>0.533</td><td>0.976</td><td>2.105</td><td>0.035</td></tr>\n",
              "</tbody>\n",
              "</table>\n",
              "</dd>\n",
              "\t<dt>$Wilcoxon</dt>\n",
              "\t\t<dd><table class=\"dataframe\">\n",
              "<caption>A data.frame: 1 × 8</caption>\n",
              "<thead>\n",
              "\t<tr><th scope=col>Effect</th><th scope=col>Estimator</th><th scope=col>Statistic</th><th scope=col>p.Value</th><th scope=col>Shift</th><th scope=col>Hodges.Lehmann</th><th scope=col>Lower</th><th scope=col>Upper</th></tr>\n",
              "\t<tr><th scope=col>&lt;chr&gt;</th><th scope=col>&lt;dbl&gt;</th><th scope=col>&lt;dbl&gt;</th><th scope=col>&lt;dbl&gt;</th><th scope=col>&lt;chr&gt;</th><th scope=col>&lt;lgl&gt;</th><th scope=col>&lt;lgl&gt;</th><th scope=col>&lt;lgl&gt;</th></tr>\n",
              "</thead>\n",
              "<tbody>\n",
              "\t<tr><td>p(1,2)</td><td>0.8714286</td><td>-2.129895</td><td>0.03318031</td><td>delta(2-1)</td><td>NA</td><td>NA</td><td>NA</td></tr>\n",
              "</tbody>\n",
              "</table>\n",
              "</dd>\n",
              "</dl>\n"
            ]
          },
          "metadata": {
            "tags": []
          }
        }
      ]
    },
    {
      "cell_type": "code",
      "metadata": {
        "colab": {
          "base_uri": "https://localhost:8080/",
          "height": 153
        },
        "id": "OxcorvWE_wFQ",
        "outputId": "436445bd-4e7c-4a3e-8f0f-59a3d85291ef"
      },
      "source": [
        "gp1 = c ( 3 , 4  , 4,5 )\n",
        "gp2 = c ( 3 ,  5 , 6 , 8 , 9 )\n",
        "wilcox.test ( gp1 , gp2 )"
      ],
      "execution_count": null,
      "outputs": [
        {
          "output_type": "stream",
          "text": [
            "Warning message in wilcox.test.default(gp1, gp2):\n",
            "“cannot compute exact p-value with ties”\n"
          ],
          "name": "stderr"
        },
        {
          "output_type": "display_data",
          "data": {
            "text/plain": [
              "\n",
              "\tWilcoxon rank sum test with continuity correction\n",
              "\n",
              "data:  gp1 and gp2\n",
              "W = 4, p-value = 0.1724\n",
              "alternative hypothesis: true location shift is not equal to 0\n"
            ]
          },
          "metadata": {
            "tags": []
          }
        }
      ]
    },
    {
      "cell_type": "code",
      "metadata": {
        "colab": {
          "base_uri": "https://localhost:8080/",
          "height": 647
        },
        "id": "AyLJ6MecMORB",
        "outputId": "fb6aecba-cab5-4aed-86ae-bf1cae756b02"
      },
      "source": [
        "data = data.frame ( y = c ( gp1 , gp2 ) , grp = factor ( c ( rep ( 1 ,4 ) , rep ( 2 ,5 ))))\n",
        "rank.two.samples ( y ~ grp , data = data , wilcoxon = \"asymptotic\" ,\n",
        "shift.int = FALSE )"
      ],
      "execution_count": null,
      "outputs": [
        {
          "output_type": "stream",
          "text": [
            "\n",
            " #------Nonparametric Test Procedures and Confidence Intervals for relative  effects-----# \n",
            " \n",
            " - Alternative Hypothesis:  True relative effect p is unequal to 1/2 \n",
            " - Confidence level: 95 % \n",
            " - Method = Logit - Transformation \n",
            " \n",
            " #---------------------------Interpretation----------------------------------# \n",
            " p(a,b) > 1/2 : b tends to be larger than a \n",
            " #---------------------------------------------------------------------------# \n",
            " \n"
          ],
          "name": "stdout"
        },
        {
          "output_type": "display_data",
          "data": {
            "text/plain": [
              "$Info\n",
              "  Sample Size\n",
              "1      1    4\n",
              "2      2    5\n",
              "\n",
              "$Analysis\n",
              "  Effect Estimator Lower Upper     T p.Value\n",
              "1 p(1,2)       0.8 0.318 0.972 1.265   0.206\n",
              "\n",
              "$Wilcoxon\n",
              "  Effect Estimator Statistic  p.Value      Shift Hodges.Lehmann Lower Upper\n",
              "1 p(1,2)       0.8 -1.488417 0.136641 delta(2-1)             NA    NA    NA\n"
            ],
            "text/latex": "\\begin{description}\n\\item[\\$Info] A data.frame: 2 × 2\n\\begin{tabular}{r|ll}\n  & Sample & Size\\\\\n  & <chr> & <int>\\\\\n\\hline\n\t1 & 1 & 4\\\\\n\t2 & 2 & 5\\\\\n\\end{tabular}\n\n\\item[\\$Analysis] A data.frame: 1 × 6\n\\begin{tabular}{r|llllll}\n  & Effect & Estimator & Lower & Upper & T & p.Value\\\\\n  & <chr> & <dbl> & <dbl> & <dbl> & <dbl> & <dbl>\\\\\n\\hline\n\t1 & p(1,2) & 0.8 & 0.318 & 0.972 & 1.265 & 0.206\\\\\n\\end{tabular}\n\n\\item[\\$Wilcoxon] A data.frame: 1 × 8\n\\begin{tabular}{llllllll}\n Effect & Estimator & Statistic & p.Value & Shift & Hodges.Lehmann & Lower & Upper\\\\\n <chr> & <dbl> & <dbl> & <dbl> & <chr> & <lgl> & <lgl> & <lgl>\\\\\n\\hline\n\t p(1,2) & 0.8 & -1.488417 & 0.136641 & delta(2-1) & NA & NA & NA\\\\\n\\end{tabular}\n\n\\end{description}\n",
            "text/markdown": "$Info\n:   \nA data.frame: 2 × 2\n\n| <!--/--> | Sample &lt;chr&gt; | Size &lt;int&gt; |\n|---|---|---|\n| 1 | 1 | 4 |\n| 2 | 2 | 5 |\n\n\n$Analysis\n:   \nA data.frame: 1 × 6\n\n| <!--/--> | Effect &lt;chr&gt; | Estimator &lt;dbl&gt; | Lower &lt;dbl&gt; | Upper &lt;dbl&gt; | T &lt;dbl&gt; | p.Value &lt;dbl&gt; |\n|---|---|---|---|---|---|---|\n| 1 | p(1,2) | 0.8 | 0.318 | 0.972 | 1.265 | 0.206 |\n\n\n$Wilcoxon\n:   \nA data.frame: 1 × 8\n\n| Effect &lt;chr&gt; | Estimator &lt;dbl&gt; | Statistic &lt;dbl&gt; | p.Value &lt;dbl&gt; | Shift &lt;chr&gt; | Hodges.Lehmann &lt;lgl&gt; | Lower &lt;lgl&gt; | Upper &lt;lgl&gt; |\n|---|---|---|---|---|---|---|---|\n| p(1,2) | 0.8 | -1.488417 | 0.136641 | delta(2-1) | NA | NA | NA |\n\n\n\n\n",
            "text/html": [
              "<dl>\n",
              "\t<dt>$Info</dt>\n",
              "\t\t<dd><table class=\"dataframe\">\n",
              "<caption>A data.frame: 2 × 2</caption>\n",
              "<thead>\n",
              "\t<tr><th></th><th scope=col>Sample</th><th scope=col>Size</th></tr>\n",
              "\t<tr><th></th><th scope=col>&lt;chr&gt;</th><th scope=col>&lt;int&gt;</th></tr>\n",
              "</thead>\n",
              "<tbody>\n",
              "\t<tr><th scope=row>1</th><td>1</td><td>4</td></tr>\n",
              "\t<tr><th scope=row>2</th><td>2</td><td>5</td></tr>\n",
              "</tbody>\n",
              "</table>\n",
              "</dd>\n",
              "\t<dt>$Analysis</dt>\n",
              "\t\t<dd><table class=\"dataframe\">\n",
              "<caption>A data.frame: 1 × 6</caption>\n",
              "<thead>\n",
              "\t<tr><th></th><th scope=col>Effect</th><th scope=col>Estimator</th><th scope=col>Lower</th><th scope=col>Upper</th><th scope=col>T</th><th scope=col>p.Value</th></tr>\n",
              "\t<tr><th></th><th scope=col>&lt;chr&gt;</th><th scope=col>&lt;dbl&gt;</th><th scope=col>&lt;dbl&gt;</th><th scope=col>&lt;dbl&gt;</th><th scope=col>&lt;dbl&gt;</th><th scope=col>&lt;dbl&gt;</th></tr>\n",
              "</thead>\n",
              "<tbody>\n",
              "\t<tr><th scope=row>1</th><td>p(1,2)</td><td>0.8</td><td>0.318</td><td>0.972</td><td>1.265</td><td>0.206</td></tr>\n",
              "</tbody>\n",
              "</table>\n",
              "</dd>\n",
              "\t<dt>$Wilcoxon</dt>\n",
              "\t\t<dd><table class=\"dataframe\">\n",
              "<caption>A data.frame: 1 × 8</caption>\n",
              "<thead>\n",
              "\t<tr><th scope=col>Effect</th><th scope=col>Estimator</th><th scope=col>Statistic</th><th scope=col>p.Value</th><th scope=col>Shift</th><th scope=col>Hodges.Lehmann</th><th scope=col>Lower</th><th scope=col>Upper</th></tr>\n",
              "\t<tr><th scope=col>&lt;chr&gt;</th><th scope=col>&lt;dbl&gt;</th><th scope=col>&lt;dbl&gt;</th><th scope=col>&lt;dbl&gt;</th><th scope=col>&lt;chr&gt;</th><th scope=col>&lt;lgl&gt;</th><th scope=col>&lt;lgl&gt;</th><th scope=col>&lt;lgl&gt;</th></tr>\n",
              "</thead>\n",
              "<tbody>\n",
              "\t<tr><td>p(1,2)</td><td>0.8</td><td>-1.488417</td><td>0.136641</td><td>delta(2-1)</td><td>NA</td><td>NA</td><td>NA</td></tr>\n",
              "</tbody>\n",
              "</table>\n",
              "</dd>\n",
              "</dl>\n"
            ]
          },
          "metadata": {
            "tags": []
          }
        }
      ]
    },
    {
      "cell_type": "code",
      "metadata": {
        "id": "xCGFpTFQMhe7"
      },
      "source": [
        "gp1 = c ( 1 , 1.1 , 3 , 2 , 4 )\n",
        "gp2 = c ( 2.1 , 3.1 , 4.1 ,5, 7, 9, 9.1)"
      ],
      "execution_count": null,
      "outputs": []
    },
    {
      "cell_type": "code",
      "metadata": {
        "id": "ECH2VOfXTaPC"
      },
      "source": [
        "Rik = rank ( c ( gp1 , gp2 ))\n",
        "R2W = sum ( Rik [ 6 : 12 ])"
      ],
      "execution_count": null,
      "outputs": []
    },
    {
      "cell_type": "code",
      "metadata": {
        "colab": {
          "base_uri": "https://localhost:8080/",
          "height": 119
        },
        "id": "DDctB1XdTqNm",
        "outputId": "c82dd029-e101-4afa-860d-33c420a41ce5"
      },
      "source": [
        "library ( coin )\n",
        "data = data.frame( y = c ( gp1 , gp2 ) , grp = factor ( c ( rep ( 1 ,5 ) , rep ( 2 ,7 ))))\n",
        "wilcox_test ( y ~ grp , data = data , distribution = \"exact\" )"
      ],
      "execution_count": null,
      "outputs": [
        {
          "output_type": "display_data",
          "data": {
            "text/plain": [
              "\n",
              "\tExact Wilcoxon-Mann-Whitney Test\n",
              "\n",
              "data:  y by grp (1, 2)\n",
              "Z = -2.3548, p-value = 0.01768\n",
              "alternative hypothesis: true mu is not equal to 0\n"
            ]
          },
          "metadata": {
            "tags": []
          }
        }
      ]
    },
    {
      "cell_type": "code",
      "metadata": {
        "colab": {
          "base_uri": "https://localhost:8080/",
          "height": 647
        },
        "id": "Q5tC7HGIVhnj",
        "outputId": "8340d6ee-8e4b-4124-c5e3-848f23b706ff"
      },
      "source": [
        "rank.two.samples ( y ~ grp , data = data , wilcoxon = \"exact\" ,shift.int = FALSE )"
      ],
      "execution_count": null,
      "outputs": [
        {
          "output_type": "stream",
          "text": [
            "\n",
            " #------Nonparametric Test Procedures and Confidence Intervals for relative  effects-----# \n",
            " \n",
            " - Alternative Hypothesis:  True relative effect p is unequal to 1/2 \n",
            " - Confidence level: 95 % \n",
            " - Method = Logit - Transformation \n",
            " \n",
            " #---------------------------Interpretation----------------------------------# \n",
            " p(a,b) > 1/2 : b tends to be larger than a \n",
            " #---------------------------------------------------------------------------# \n",
            " \n"
          ],
          "name": "stdout"
        },
        {
          "output_type": "display_data",
          "data": {
            "text/plain": [
              "$Info\n",
              "  Sample Size\n",
              "1      1    5\n",
              "2      2    7\n",
              "\n",
              "$Analysis\n",
              "  Effect Estimator Lower Upper     T p.Value\n",
              "1 p(1,2)     0.914 0.576 0.988 2.249   0.025\n",
              "\n",
              "$Wilcoxon\n",
              "  Effect Estimator Statistic    p.Value      Shift Hodges.Lehmann Lower Upper\n",
              "1 p(1,2) 0.9142857        60 0.01767677 delta(2-1)             NA    NA    NA\n"
            ],
            "text/latex": "\\begin{description}\n\\item[\\$Info] A data.frame: 2 × 2\n\\begin{tabular}{r|ll}\n  & Sample & Size\\\\\n  & <chr> & <int>\\\\\n\\hline\n\t1 & 1 & 5\\\\\n\t2 & 2 & 7\\\\\n\\end{tabular}\n\n\\item[\\$Analysis] A data.frame: 1 × 6\n\\begin{tabular}{r|llllll}\n  & Effect & Estimator & Lower & Upper & T & p.Value\\\\\n  & <chr> & <dbl> & <dbl> & <dbl> & <dbl> & <dbl>\\\\\n\\hline\n\t1 & p(1,2) & 0.914 & 0.576 & 0.988 & 2.249 & 0.025\\\\\n\\end{tabular}\n\n\\item[\\$Wilcoxon] A data.frame: 1 × 8\n\\begin{tabular}{llllllll}\n Effect & Estimator & Statistic & p.Value & Shift & Hodges.Lehmann & Lower & Upper\\\\\n <chr> & <dbl> & <dbl> & <dbl> & <chr> & <lgl> & <lgl> & <lgl>\\\\\n\\hline\n\t p(1,2) & 0.9142857 & 60 & 0.01767677 & delta(2-1) & NA & NA & NA\\\\\n\\end{tabular}\n\n\\end{description}\n",
            "text/markdown": "$Info\n:   \nA data.frame: 2 × 2\n\n| <!--/--> | Sample &lt;chr&gt; | Size &lt;int&gt; |\n|---|---|---|\n| 1 | 1 | 5 |\n| 2 | 2 | 7 |\n\n\n$Analysis\n:   \nA data.frame: 1 × 6\n\n| <!--/--> | Effect &lt;chr&gt; | Estimator &lt;dbl&gt; | Lower &lt;dbl&gt; | Upper &lt;dbl&gt; | T &lt;dbl&gt; | p.Value &lt;dbl&gt; |\n|---|---|---|---|---|---|---|\n| 1 | p(1,2) | 0.914 | 0.576 | 0.988 | 2.249 | 0.025 |\n\n\n$Wilcoxon\n:   \nA data.frame: 1 × 8\n\n| Effect &lt;chr&gt; | Estimator &lt;dbl&gt; | Statistic &lt;dbl&gt; | p.Value &lt;dbl&gt; | Shift &lt;chr&gt; | Hodges.Lehmann &lt;lgl&gt; | Lower &lt;lgl&gt; | Upper &lt;lgl&gt; |\n|---|---|---|---|---|---|---|---|\n| p(1,2) | 0.9142857 | 60 | 0.01767677 | delta(2-1) | NA | NA | NA |\n\n\n\n\n",
            "text/html": [
              "<dl>\n",
              "\t<dt>$Info</dt>\n",
              "\t\t<dd><table class=\"dataframe\">\n",
              "<caption>A data.frame: 2 × 2</caption>\n",
              "<thead>\n",
              "\t<tr><th></th><th scope=col>Sample</th><th scope=col>Size</th></tr>\n",
              "\t<tr><th></th><th scope=col>&lt;chr&gt;</th><th scope=col>&lt;int&gt;</th></tr>\n",
              "</thead>\n",
              "<tbody>\n",
              "\t<tr><th scope=row>1</th><td>1</td><td>5</td></tr>\n",
              "\t<tr><th scope=row>2</th><td>2</td><td>7</td></tr>\n",
              "</tbody>\n",
              "</table>\n",
              "</dd>\n",
              "\t<dt>$Analysis</dt>\n",
              "\t\t<dd><table class=\"dataframe\">\n",
              "<caption>A data.frame: 1 × 6</caption>\n",
              "<thead>\n",
              "\t<tr><th></th><th scope=col>Effect</th><th scope=col>Estimator</th><th scope=col>Lower</th><th scope=col>Upper</th><th scope=col>T</th><th scope=col>p.Value</th></tr>\n",
              "\t<tr><th></th><th scope=col>&lt;chr&gt;</th><th scope=col>&lt;dbl&gt;</th><th scope=col>&lt;dbl&gt;</th><th scope=col>&lt;dbl&gt;</th><th scope=col>&lt;dbl&gt;</th><th scope=col>&lt;dbl&gt;</th></tr>\n",
              "</thead>\n",
              "<tbody>\n",
              "\t<tr><th scope=row>1</th><td>p(1,2)</td><td>0.914</td><td>0.576</td><td>0.988</td><td>2.249</td><td>0.025</td></tr>\n",
              "</tbody>\n",
              "</table>\n",
              "</dd>\n",
              "\t<dt>$Wilcoxon</dt>\n",
              "\t\t<dd><table class=\"dataframe\">\n",
              "<caption>A data.frame: 1 × 8</caption>\n",
              "<thead>\n",
              "\t<tr><th scope=col>Effect</th><th scope=col>Estimator</th><th scope=col>Statistic</th><th scope=col>p.Value</th><th scope=col>Shift</th><th scope=col>Hodges.Lehmann</th><th scope=col>Lower</th><th scope=col>Upper</th></tr>\n",
              "\t<tr><th scope=col>&lt;chr&gt;</th><th scope=col>&lt;dbl&gt;</th><th scope=col>&lt;dbl&gt;</th><th scope=col>&lt;dbl&gt;</th><th scope=col>&lt;chr&gt;</th><th scope=col>&lt;lgl&gt;</th><th scope=col>&lt;lgl&gt;</th><th scope=col>&lt;lgl&gt;</th></tr>\n",
              "</thead>\n",
              "<tbody>\n",
              "\t<tr><td>p(1,2)</td><td>0.9142857</td><td>60</td><td>0.01767677</td><td>delta(2-1)</td><td>NA</td><td>NA</td><td>NA</td></tr>\n",
              "</tbody>\n",
              "</table>\n",
              "</dd>\n",
              "</dl>\n"
            ]
          },
          "metadata": {
            "tags": []
          }
        }
      ]
    },
    {
      "cell_type": "code",
      "metadata": {
        "colab": {
          "base_uri": "https://localhost:8080/",
          "height": 249
        },
        "id": "hNBiPFCKW5D2",
        "outputId": "d3909fbd-131f-4e25-8085-3c9c3b42291d"
      },
      "source": [
        "calculateGUI()"
      ],
      "execution_count": null,
      "outputs": [
        {
          "output_type": "error",
          "ename": "ERROR",
          "evalue": "ignored",
          "traceback": [
            "Error in loadNamespace(name): there is no package called ‘RGtk2’\nTraceback:\n",
            "1. calculateGUI()",
            "2. attachNamespace(\"RGtk2\")",
            "3. asNamespace(ns, base.OK = FALSE)",
            "4. getNamespace(ns)",
            "5. loadNamespace(name)",
            "6. withRestarts(stop(cond), retry_loadNamespace = function() NULL)",
            "7. withOneRestart(expr, restarts[[1L]])",
            "8. doWithOneRestart(return(expr), restart)"
          ]
        }
      ]
    },
    {
      "cell_type": "code",
      "metadata": {
        "colab": {
          "base_uri": "https://localhost:8080/"
        },
        "id": "-PF9lnjPXbXv",
        "outputId": "979d6bc7-311e-482f-82a2-4e23355aa6fa"
      },
      "source": [
        "gp1 = c ( 1 , 1.1 , 3 , 2 , 4 )\n",
        "gp2 = c ( 2.1 , 3.1 , 4.1 , 5 , 7 , 9 , 9.1 )\n",
        "Rik = rank ( c ( gp1 , gp2 ))\n",
        "R2W = sum ( Rik [ 6 : 12 ])\n",
        "R2WPermute = c()\n",
        "for( i in 1 : 100000 ) {\n",
        "Rikpermute = sample ( Rik ) # Random Permutation\n",
        "R2WPermute [ i ] = sum ( Rikpermute [ 6 : 12 ]) # rank sum of permuted ran\n",
        "}\n",
        "pvalueleft = mean ( R2WPermute <= R2W )\n",
        "pvalueright = mean ( R2WPermute >= R2W )\n",
        "pvaluetwo = 2 * min ( pvalueleft , pvalueright )\n",
        "print ( pvaluetwo )"
      ],
      "execution_count": null,
      "outputs": [
        {
          "output_type": "stream",
          "text": [
            "[1] 0.01782\n"
          ],
          "name": "stdout"
        }
      ]
    },
    {
      "cell_type": "code",
      "metadata": {
        "id": "XxVagEmGZbza"
      },
      "source": [
        "placebo = c ( 325 , 375 , 356 , 374 , 412 , 418 , 445 , 379 , 403 , 431 ,\n",
        "410, 391, 475)\n",
        "drug = c ( 307 , 268 , 275 , 291 , 314 , 340 , 395 , 279 , 323 , 342 ,\n",
        "341, 320, 329, 376, 322, 378, 334, 345, 302, 309, 311, 310,\n",
        "360, 361)"
      ],
      "execution_count": null,
      "outputs": []
    },
    {
      "cell_type": "code",
      "metadata": {
        "colab": {
          "base_uri": "https://localhost:8080/",
          "height": 647
        },
        "id": "Cx1bjgmlalqb",
        "outputId": "50c7b634-5c61-447f-ef96-416ef23e442e"
      },
      "source": [
        "data = data.frame ( y = c ( drug , placebo ) ,\n",
        "grp = factor ( c ( rep ( 1 ,24 ) , rep ( 2 ,13 ))))\n",
        "rank.two.samples ( y ~ grp , data = data , wilcoxon = \"asymptotic\" ,shift.int = FALSE )"
      ],
      "execution_count": null,
      "outputs": [
        {
          "output_type": "stream",
          "text": [
            "\n",
            " #------Nonparametric Test Procedures and Confidence Intervals for relative  effects-----# \n",
            " \n",
            " - Alternative Hypothesis:  True relative effect p is unequal to 1/2 \n",
            " - Confidence level: 95 % \n",
            " - Method = Logit - Transformation \n",
            " \n",
            " #---------------------------Interpretation----------------------------------# \n",
            " p(a,b) > 1/2 : b tends to be larger than a \n",
            " #---------------------------------------------------------------------------# \n",
            " \n"
          ],
          "name": "stdout"
        },
        {
          "output_type": "display_data",
          "data": {
            "text/plain": [
              "$Info\n",
              "  Sample Size\n",
              "1      1   24\n",
              "2      2   13\n",
              "\n",
              "$Analysis\n",
              "  Effect Estimator Lower Upper     T p.Value\n",
              "1 p(1,2)     0.923 0.779 0.976 3.969       0\n",
              "\n",
              "$Wilcoxon\n",
              "  Effect Estimator Statistic      p.Value      Shift Hodges.Lehmann Lower Upper\n",
              "1 p(1,2) 0.9230769 -4.199479 2.675293e-05 delta(2-1)             NA    NA    NA\n"
            ],
            "text/latex": "\\begin{description}\n\\item[\\$Info] A data.frame: 2 × 2\n\\begin{tabular}{r|ll}\n  & Sample & Size\\\\\n  & <chr> & <int>\\\\\n\\hline\n\t1 & 1 & 24\\\\\n\t2 & 2 & 13\\\\\n\\end{tabular}\n\n\\item[\\$Analysis] A data.frame: 1 × 6\n\\begin{tabular}{r|llllll}\n  & Effect & Estimator & Lower & Upper & T & p.Value\\\\\n  & <chr> & <dbl> & <dbl> & <dbl> & <dbl> & <dbl>\\\\\n\\hline\n\t1 & p(1,2) & 0.923 & 0.779 & 0.976 & 3.969 & 0\\\\\n\\end{tabular}\n\n\\item[\\$Wilcoxon] A data.frame: 1 × 8\n\\begin{tabular}{llllllll}\n Effect & Estimator & Statistic & p.Value & Shift & Hodges.Lehmann & Lower & Upper\\\\\n <chr> & <dbl> & <dbl> & <dbl> & <chr> & <lgl> & <lgl> & <lgl>\\\\\n\\hline\n\t p(1,2) & 0.9230769 & -4.199479 & 2.675293e-05 & delta(2-1) & NA & NA & NA\\\\\n\\end{tabular}\n\n\\end{description}\n",
            "text/markdown": "$Info\n:   \nA data.frame: 2 × 2\n\n| <!--/--> | Sample &lt;chr&gt; | Size &lt;int&gt; |\n|---|---|---|\n| 1 | 1 | 24 |\n| 2 | 2 | 13 |\n\n\n$Analysis\n:   \nA data.frame: 1 × 6\n\n| <!--/--> | Effect &lt;chr&gt; | Estimator &lt;dbl&gt; | Lower &lt;dbl&gt; | Upper &lt;dbl&gt; | T &lt;dbl&gt; | p.Value &lt;dbl&gt; |\n|---|---|---|---|---|---|---|\n| 1 | p(1,2) | 0.923 | 0.779 | 0.976 | 3.969 | 0 |\n\n\n$Wilcoxon\n:   \nA data.frame: 1 × 8\n\n| Effect &lt;chr&gt; | Estimator &lt;dbl&gt; | Statistic &lt;dbl&gt; | p.Value &lt;dbl&gt; | Shift &lt;chr&gt; | Hodges.Lehmann &lt;lgl&gt; | Lower &lt;lgl&gt; | Upper &lt;lgl&gt; |\n|---|---|---|---|---|---|---|---|\n| p(1,2) | 0.9230769 | -4.199479 | 2.675293e-05 | delta(2-1) | NA | NA | NA |\n\n\n\n\n",
            "text/html": [
              "<dl>\n",
              "\t<dt>$Info</dt>\n",
              "\t\t<dd><table class=\"dataframe\">\n",
              "<caption>A data.frame: 2 × 2</caption>\n",
              "<thead>\n",
              "\t<tr><th></th><th scope=col>Sample</th><th scope=col>Size</th></tr>\n",
              "\t<tr><th></th><th scope=col>&lt;chr&gt;</th><th scope=col>&lt;int&gt;</th></tr>\n",
              "</thead>\n",
              "<tbody>\n",
              "\t<tr><th scope=row>1</th><td>1</td><td>24</td></tr>\n",
              "\t<tr><th scope=row>2</th><td>2</td><td>13</td></tr>\n",
              "</tbody>\n",
              "</table>\n",
              "</dd>\n",
              "\t<dt>$Analysis</dt>\n",
              "\t\t<dd><table class=\"dataframe\">\n",
              "<caption>A data.frame: 1 × 6</caption>\n",
              "<thead>\n",
              "\t<tr><th></th><th scope=col>Effect</th><th scope=col>Estimator</th><th scope=col>Lower</th><th scope=col>Upper</th><th scope=col>T</th><th scope=col>p.Value</th></tr>\n",
              "\t<tr><th></th><th scope=col>&lt;chr&gt;</th><th scope=col>&lt;dbl&gt;</th><th scope=col>&lt;dbl&gt;</th><th scope=col>&lt;dbl&gt;</th><th scope=col>&lt;dbl&gt;</th><th scope=col>&lt;dbl&gt;</th></tr>\n",
              "</thead>\n",
              "<tbody>\n",
              "\t<tr><th scope=row>1</th><td>p(1,2)</td><td>0.923</td><td>0.779</td><td>0.976</td><td>3.969</td><td>0</td></tr>\n",
              "</tbody>\n",
              "</table>\n",
              "</dd>\n",
              "\t<dt>$Wilcoxon</dt>\n",
              "\t\t<dd><table class=\"dataframe\">\n",
              "<caption>A data.frame: 1 × 8</caption>\n",
              "<thead>\n",
              "\t<tr><th scope=col>Effect</th><th scope=col>Estimator</th><th scope=col>Statistic</th><th scope=col>p.Value</th><th scope=col>Shift</th><th scope=col>Hodges.Lehmann</th><th scope=col>Lower</th><th scope=col>Upper</th></tr>\n",
              "\t<tr><th scope=col>&lt;chr&gt;</th><th scope=col>&lt;dbl&gt;</th><th scope=col>&lt;dbl&gt;</th><th scope=col>&lt;dbl&gt;</th><th scope=col>&lt;chr&gt;</th><th scope=col>&lt;lgl&gt;</th><th scope=col>&lt;lgl&gt;</th><th scope=col>&lt;lgl&gt;</th></tr>\n",
              "</thead>\n",
              "<tbody>\n",
              "\t<tr><td>p(1,2)</td><td>0.9230769</td><td>-4.199479</td><td>2.675293e-05</td><td>delta(2-1)</td><td>NA</td><td>NA</td><td>NA</td></tr>\n",
              "</tbody>\n",
              "</table>\n",
              "</dd>\n",
              "</dl>\n"
            ]
          },
          "metadata": {
            "tags": []
          }
        }
      ]
    },
    {
      "cell_type": "code",
      "metadata": {
        "colab": {
          "base_uri": "https://localhost:8080/",
          "height": 647
        },
        "id": "-_ACeM5caw3E",
        "outputId": "ea075545-f53c-4df8-c168-ff789dc29803"
      },
      "source": [
        "rank.two.samples ( y ~ grp , data = data , wilcoxon = \"exact\" ,shift.int = FALSE )"
      ],
      "execution_count": null,
      "outputs": [
        {
          "output_type": "stream",
          "text": [
            "\n",
            " #------Nonparametric Test Procedures and Confidence Intervals for relative  effects-----# \n",
            " \n",
            " - Alternative Hypothesis:  True relative effect p is unequal to 1/2 \n",
            " - Confidence level: 95 % \n",
            " - Method = Logit - Transformation \n",
            " \n",
            " #---------------------------Interpretation----------------------------------# \n",
            " p(a,b) > 1/2 : b tends to be larger than a \n",
            " #---------------------------------------------------------------------------# \n",
            " \n"
          ],
          "name": "stdout"
        },
        {
          "output_type": "display_data",
          "data": {
            "text/plain": [
              "$Info\n",
              "  Sample Size\n",
              "1      1   24\n",
              "2      2   13\n",
              "\n",
              "$Analysis\n",
              "  Effect Estimator Lower Upper     T p.Value\n",
              "1 p(1,2)     0.923 0.779 0.976 3.969       0\n",
              "\n",
              "$Wilcoxon\n",
              "  Effect Estimator Statistic      p.Value      Shift Hodges.Lehmann Lower Upper\n",
              "1 p(1,2) 0.9230769       379 3.882141e-06 delta(2-1)             NA    NA    NA\n"
            ],
            "text/latex": "\\begin{description}\n\\item[\\$Info] A data.frame: 2 × 2\n\\begin{tabular}{r|ll}\n  & Sample & Size\\\\\n  & <chr> & <int>\\\\\n\\hline\n\t1 & 1 & 24\\\\\n\t2 & 2 & 13\\\\\n\\end{tabular}\n\n\\item[\\$Analysis] A data.frame: 1 × 6\n\\begin{tabular}{r|llllll}\n  & Effect & Estimator & Lower & Upper & T & p.Value\\\\\n  & <chr> & <dbl> & <dbl> & <dbl> & <dbl> & <dbl>\\\\\n\\hline\n\t1 & p(1,2) & 0.923 & 0.779 & 0.976 & 3.969 & 0\\\\\n\\end{tabular}\n\n\\item[\\$Wilcoxon] A data.frame: 1 × 8\n\\begin{tabular}{llllllll}\n Effect & Estimator & Statistic & p.Value & Shift & Hodges.Lehmann & Lower & Upper\\\\\n <chr> & <dbl> & <dbl> & <dbl> & <chr> & <lgl> & <lgl> & <lgl>\\\\\n\\hline\n\t p(1,2) & 0.9230769 & 379 & 3.882141e-06 & delta(2-1) & NA & NA & NA\\\\\n\\end{tabular}\n\n\\end{description}\n",
            "text/markdown": "$Info\n:   \nA data.frame: 2 × 2\n\n| <!--/--> | Sample &lt;chr&gt; | Size &lt;int&gt; |\n|---|---|---|\n| 1 | 1 | 24 |\n| 2 | 2 | 13 |\n\n\n$Analysis\n:   \nA data.frame: 1 × 6\n\n| <!--/--> | Effect &lt;chr&gt; | Estimator &lt;dbl&gt; | Lower &lt;dbl&gt; | Upper &lt;dbl&gt; | T &lt;dbl&gt; | p.Value &lt;dbl&gt; |\n|---|---|---|---|---|---|---|\n| 1 | p(1,2) | 0.923 | 0.779 | 0.976 | 3.969 | 0 |\n\n\n$Wilcoxon\n:   \nA data.frame: 1 × 8\n\n| Effect &lt;chr&gt; | Estimator &lt;dbl&gt; | Statistic &lt;dbl&gt; | p.Value &lt;dbl&gt; | Shift &lt;chr&gt; | Hodges.Lehmann &lt;lgl&gt; | Lower &lt;lgl&gt; | Upper &lt;lgl&gt; |\n|---|---|---|---|---|---|---|---|\n| p(1,2) | 0.9230769 | 379 | 3.882141e-06 | delta(2-1) | NA | NA | NA |\n\n\n\n\n",
            "text/html": [
              "<dl>\n",
              "\t<dt>$Info</dt>\n",
              "\t\t<dd><table class=\"dataframe\">\n",
              "<caption>A data.frame: 2 × 2</caption>\n",
              "<thead>\n",
              "\t<tr><th></th><th scope=col>Sample</th><th scope=col>Size</th></tr>\n",
              "\t<tr><th></th><th scope=col>&lt;chr&gt;</th><th scope=col>&lt;int&gt;</th></tr>\n",
              "</thead>\n",
              "<tbody>\n",
              "\t<tr><th scope=row>1</th><td>1</td><td>24</td></tr>\n",
              "\t<tr><th scope=row>2</th><td>2</td><td>13</td></tr>\n",
              "</tbody>\n",
              "</table>\n",
              "</dd>\n",
              "\t<dt>$Analysis</dt>\n",
              "\t\t<dd><table class=\"dataframe\">\n",
              "<caption>A data.frame: 1 × 6</caption>\n",
              "<thead>\n",
              "\t<tr><th></th><th scope=col>Effect</th><th scope=col>Estimator</th><th scope=col>Lower</th><th scope=col>Upper</th><th scope=col>T</th><th scope=col>p.Value</th></tr>\n",
              "\t<tr><th></th><th scope=col>&lt;chr&gt;</th><th scope=col>&lt;dbl&gt;</th><th scope=col>&lt;dbl&gt;</th><th scope=col>&lt;dbl&gt;</th><th scope=col>&lt;dbl&gt;</th><th scope=col>&lt;dbl&gt;</th></tr>\n",
              "</thead>\n",
              "<tbody>\n",
              "\t<tr><th scope=row>1</th><td>p(1,2)</td><td>0.923</td><td>0.779</td><td>0.976</td><td>3.969</td><td>0</td></tr>\n",
              "</tbody>\n",
              "</table>\n",
              "</dd>\n",
              "\t<dt>$Wilcoxon</dt>\n",
              "\t\t<dd><table class=\"dataframe\">\n",
              "<caption>A data.frame: 1 × 8</caption>\n",
              "<thead>\n",
              "\t<tr><th scope=col>Effect</th><th scope=col>Estimator</th><th scope=col>Statistic</th><th scope=col>p.Value</th><th scope=col>Shift</th><th scope=col>Hodges.Lehmann</th><th scope=col>Lower</th><th scope=col>Upper</th></tr>\n",
              "\t<tr><th scope=col>&lt;chr&gt;</th><th scope=col>&lt;dbl&gt;</th><th scope=col>&lt;dbl&gt;</th><th scope=col>&lt;dbl&gt;</th><th scope=col>&lt;chr&gt;</th><th scope=col>&lt;lgl&gt;</th><th scope=col>&lt;lgl&gt;</th><th scope=col>&lt;lgl&gt;</th></tr>\n",
              "</thead>\n",
              "<tbody>\n",
              "\t<tr><td>p(1,2)</td><td>0.9230769</td><td>379</td><td>3.882141e-06</td><td>delta(2-1)</td><td>NA</td><td>NA</td><td>NA</td></tr>\n",
              "</tbody>\n",
              "</table>\n",
              "</dd>\n",
              "</dl>\n"
            ]
          },
          "metadata": {
            "tags": []
          }
        }
      ]
    },
    {
      "cell_type": "code",
      "metadata": {
        "id": "dZ4SjnZUa8ZV"
      },
      "source": [
        ""
      ],
      "execution_count": null,
      "outputs": []
    }
  ]
}